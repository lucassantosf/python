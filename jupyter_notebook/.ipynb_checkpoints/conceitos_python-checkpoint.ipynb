{
 "cells": [
  {
   "cell_type": "markdown",
   "id": "a0bb0235-ea7c-4248-a9ab-c85b2a872463",
   "metadata": {},
   "source": [
    "## Primeiro Notebook"
   ]
  },
  {
   "cell_type": "code",
   "execution_count": 1,
   "id": "934f2ec5-ad96-433a-b060-cc2edb0bb668",
   "metadata": {},
   "outputs": [
    {
     "name": "stdout",
     "output_type": "stream",
     "text": [
      "Olá Mundo\n"
     ]
    }
   ],
   "source": [
    "print(\"Olá Mundo\")"
   ]
  },
  {
   "cell_type": "code",
   "execution_count": 2,
   "id": "d2b6962c-0a30-45c0-b71c-dad79e9679ae",
   "metadata": {},
   "outputs": [
    {
     "data": {
      "text/plain": [
       "12"
      ]
     },
     "execution_count": 2,
     "metadata": {},
     "output_type": "execute_result"
    }
   ],
   "source": [
    "4*3"
   ]
  }
 ],
 "metadata": {
  "kernelspec": {
   "display_name": "Python 3 (ipykernel)",
   "language": "python",
   "name": "python3"
  },
  "language_info": {
   "codemirror_mode": {
    "name": "ipython",
    "version": 3
   },
   "file_extension": ".py",
   "mimetype": "text/x-python",
   "name": "python",
   "nbconvert_exporter": "python",
   "pygments_lexer": "ipython3",
   "version": "3.12.4"
  }
 },
 "nbformat": 4,
 "nbformat_minor": 5
}
