{
 "cells": [
  {
   "cell_type": "markdown",
   "id": "a0bb0235-ea7c-4248-a9ab-c85b2a872463",
   "metadata": {},
   "source": [
    "# Introdução"
   ]
  },
  {
   "cell_type": "code",
   "execution_count": null,
   "id": "934f2ec5-ad96-433a-b060-cc2edb0bb668",
   "metadata": {},
   "outputs": [],
   "source": [
    "print(\"Olá Mundo\")"
   ]
  },
  {
   "cell_type": "code",
   "execution_count": null,
   "id": "d2b6962c-0a30-45c0-b71c-dad79e9679ae",
   "metadata": {},
   "outputs": [],
   "source": [
    "mensagem = \"Olá Mundo\""
   ]
  },
  {
   "cell_type": "code",
   "execution_count": null,
   "id": "b23e9739-b81e-44de-a757-5758675db671",
   "metadata": {},
   "outputs": [],
   "source": [
    "print (mensagem)"
   ]
  },
  {
   "cell_type": "code",
   "execution_count": null,
   "id": "9048fd29-f54e-4d67-95ec-5fd1ee92ce4f",
   "metadata": {},
   "outputs": [],
   "source": [
    "nome = input(\"Digite seu nome\")\n",
    "print(\"Seu nome é \",nome)"
   ]
  },
  {
   "cell_type": "markdown",
   "id": "553e144a-749c-4002-aeb1-5e4a0b2e2a2e",
   "metadata": {},
   "source": [
    "# Operadores Matemáticos"
   ]
  },
  {
   "cell_type": "code",
   "execution_count": null,
   "id": "ef36ec3c-1781-427d-ae5c-ae8ac83257ae",
   "metadata": {},
   "outputs": [],
   "source": [
    "n1 = 7"
   ]
  },
  {
   "cell_type": "code",
   "execution_count": null,
   "id": "c5ed7503-0d3d-4843-b8b4-b80215894b3a",
   "metadata": {},
   "outputs": [],
   "source": [
    "n2 = 77"
   ]
  },
  {
   "cell_type": "code",
   "execution_count": null,
   "id": "b429b104-c761-4796-8df5-a0834393b181",
   "metadata": {},
   "outputs": [],
   "source": [
    "s = n1+n2\n",
    "print(s)"
   ]
  },
  {
   "cell_type": "code",
   "execution_count": null,
   "id": "0873d89d-2f1e-4981-90c0-76264e974bcb",
   "metadata": {},
   "outputs": [],
   "source": [
    "s+= 1234"
   ]
  },
  {
   "cell_type": "code",
   "execution_count": null,
   "id": "c1ddde6e-2c19-4878-b349-3196290f7045",
   "metadata": {},
   "outputs": [],
   "source": [
    "print(s)"
   ]
  },
  {
   "cell_type": "code",
   "execution_count": null,
   "id": "8e4792e9-32f1-4b93-80f9-3d906f624aed",
   "metadata": {},
   "outputs": [],
   "source": [
    "sub = n2 - n1\n",
    "print(sub)"
   ]
  },
  {
   "cell_type": "code",
   "execution_count": null,
   "id": "4167a786-1c3b-4989-b845-f95826b1cadb",
   "metadata": {},
   "outputs": [],
   "source": [
    "sub"
   ]
  },
  {
   "cell_type": "code",
   "execution_count": null,
   "id": "25d60567-e799-47e7-b5ab-28db66451594",
   "metadata": {},
   "outputs": [],
   "source": [
    "mult = n1 * n2\n",
    "mult"
   ]
  },
  {
   "cell_type": "code",
   "execution_count": null,
   "id": "c8cc84aa-aa8e-49b0-9b0d-490aeb10b042",
   "metadata": {},
   "outputs": [],
   "source": [
    "div = n2/n1\n",
    "div"
   ]
  },
  {
   "cell_type": "code",
   "execution_count": null,
   "id": "3cb544c2-784e-4f29-b38e-767696df48dc",
   "metadata": {},
   "outputs": [],
   "source": [
    "potencia = n2**n1\n",
    "potencia"
   ]
  },
  {
   "cell_type": "code",
   "execution_count": null,
   "id": "4c745f4a-e775-427c-a935-b6d7bfa5bff9",
   "metadata": {},
   "outputs": [],
   "source": [
    "potencia2 = pow(n2,n1)\n",
    "potencia2"
   ]
  },
  {
   "cell_type": "code",
   "execution_count": null,
   "id": "9ace13e3-d1c7-4bbe-92af-efd146c6df5c",
   "metadata": {},
   "outputs": [],
   "source": [
    "div2 = n2//n1\n",
    "div2"
   ]
  },
  {
   "cell_type": "code",
   "execution_count": null,
   "id": "03f1ea26-4062-41bc-995b-99df38b1ec5d",
   "metadata": {},
   "outputs": [],
   "source": [
    "resto = n2%n1\n",
    "resto"
   ]
  },
  {
   "cell_type": "markdown",
   "id": "3f9aa5d5-6572-4667-b3b0-8f00cf12b9a0",
   "metadata": {},
   "source": [
    "# Importação de bibliotecas e módulos"
   ]
  },
  {
   "cell_type": "code",
   "execution_count": null,
   "id": "6d3ac1f3-da08-480f-bd0b-80594f38ed9e",
   "metadata": {},
   "outputs": [],
   "source": [
    "import numpy as np"
   ]
  },
  {
   "cell_type": "code",
   "execution_count": null,
   "id": "8dd621ff-53ea-4ea1-9683-da26bed81eb6",
   "metadata": {},
   "outputs": [],
   "source": [
    "import math "
   ]
  },
  {
   "cell_type": "code",
   "execution_count": null,
   "id": "0ef3652f-156f-4726-957a-66ee53f59903",
   "metadata": {},
   "outputs": [],
   "source": [
    "n = 18"
   ]
  },
  {
   "cell_type": "code",
   "execution_count": null,
   "id": "6800b999-d4c7-41a1-a62c-affd8c39509e",
   "metadata": {},
   "outputs": [],
   "source": [
    "raiz = math.sqrt(n)\n",
    "print('A raiz de {} é {:.2f}'.format (n,raiz))"
   ]
  },
  {
   "cell_type": "code",
   "execution_count": null,
   "id": "013c319b-b543-478b-b081-f97c80cfac12",
   "metadata": {},
   "outputs": [],
   "source": [
    "print(raiz)"
   ]
  },
  {
   "cell_type": "code",
   "execution_count": null,
   "id": "e36b7e9e-78ba-4ffa-b871-b8cc2d6ffcb0",
   "metadata": {},
   "outputs": [],
   "source": [
    "math.sqrt(25)"
   ]
  },
  {
   "cell_type": "code",
   "execution_count": null,
   "id": "4f1f0fcf-2af9-4bc5-997d-5ffda1fb81c4",
   "metadata": {},
   "outputs": [],
   "source": [
    "raiz2 = n ** 0.5\n",
    "raiz2"
   ]
  },
  {
   "cell_type": "code",
   "execution_count": null,
   "id": "31b69cf1-3e24-4cd8-9aa5-9f20f2151657",
   "metadata": {},
   "outputs": [],
   "source": [
    "print(f'{raiz2:.3f}')"
   ]
  },
  {
   "cell_type": "code",
   "execution_count": null,
   "id": "ecac3bce-ab9d-4682-af19-024b718a3115",
   "metadata": {},
   "outputs": [],
   "source": [
    "from math import sqrt\n",
    "raiz3 = sqrt(1879)\n",
    "print(f'{raiz3:.3f}')"
   ]
  },
  {
   "cell_type": "code",
   "execution_count": null,
   "id": "19adb8fd-6930-40f1-a1b4-bce45caa4be6",
   "metadata": {},
   "outputs": [],
   "source": [
    "from math import sqrt,factorial\n",
    "fat = factorial(5)\n",
    "fat"
   ]
  },
  {
   "cell_type": "code",
   "execution_count": null,
   "id": "ec434824-124b-4e68-9560-6742350133fa",
   "metadata": {},
   "outputs": [],
   "source": [
    "factorial_raiz = factorial(int(sqrt(16)))\n",
    "factorial_raiz"
   ]
  },
  {
   "cell_type": "code",
   "execution_count": null,
   "id": "1e58b667-964e-425b-a37e-d90a952d8c73",
   "metadata": {},
   "outputs": [],
   "source": [
    "from random import random,randint\n",
    "ran = randint(1,999)\n",
    "ran"
   ]
  },
  {
   "cell_type": "code",
   "execution_count": null,
   "id": "cc5d9905-332e-482a-8ec6-d8918fe4dcd6",
   "metadata": {},
   "outputs": [],
   "source": [
    "num2 = random()\n",
    "num2"
   ]
  },
  {
   "cell_type": "markdown",
   "id": "d83cb6aa-39c7-4fb8-b8f7-f045d5a049c3",
   "metadata": {},
   "source": [
    "# Estrutura Condicional"
   ]
  },
  {
   "cell_type": "code",
   "execution_count": 1,
   "id": "2f4dcadc-0d28-409e-bfca-98ce45474bae",
   "metadata": {},
   "outputs": [],
   "source": [
    "nota = 5.6"
   ]
  },
  {
   "cell_type": "code",
   "execution_count": 2,
   "id": "9b7ea1f0-b549-4a24-943b-f6fce748b969",
   "metadata": {},
   "outputs": [
    {
     "name": "stdout",
     "output_type": "stream",
     "text": [
      "Aprovado\n"
     ]
    }
   ],
   "source": [
    "if nota>= 5:\n",
    "    print('Aprovado')\n",
    "else:\n",
    "    print('Reprovado')"
   ]
  },
  {
   "cell_type": "code",
   "execution_count": 3,
   "id": "733909e9-c4c0-481f-bef9-ee49e4f3d486",
   "metadata": {},
   "outputs": [
    {
     "name": "stdout",
     "output_type": "stream",
     "text": [
      "Recuperacao\n"
     ]
    }
   ],
   "source": [
    "if nota>= 7:\n",
    "    print('Aprovado')\n",
    "elif nota<7 and nota>=5 :\n",
    "    print('Recuperacao')\n",
    "else:\n",
    "    print('Reprovado')"
   ]
  },
  {
   "cell_type": "code",
   "execution_count": null,
   "id": "adc76eac-0e51-44db-b948-39dfe3f886e1",
   "metadata": {},
   "outputs": [],
   "source": []
  }
 ],
 "metadata": {
  "kernelspec": {
   "display_name": "Python 3 (ipykernel)",
   "language": "python",
   "name": "python3"
  },
  "language_info": {
   "codemirror_mode": {
    "name": "ipython",
    "version": 3
   },
   "file_extension": ".py",
   "mimetype": "text/x-python",
   "name": "python",
   "nbconvert_exporter": "python",
   "pygments_lexer": "ipython3",
   "version": "3.12.4"
  }
 },
 "nbformat": 4,
 "nbformat_minor": 5
}
