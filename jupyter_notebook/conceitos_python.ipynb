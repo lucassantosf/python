{
 "cells": [
  {
   "cell_type": "markdown",
   "id": "a0bb0235-ea7c-4248-a9ab-c85b2a872463",
   "metadata": {},
   "source": [
    "# Introdução"
   ]
  },
  {
   "cell_type": "code",
   "execution_count": null,
   "id": "934f2ec5-ad96-433a-b060-cc2edb0bb668",
   "metadata": {},
   "outputs": [],
   "source": [
    "print(\"Olá Mundo\")"
   ]
  },
  {
   "cell_type": "code",
   "execution_count": null,
   "id": "d2b6962c-0a30-45c0-b71c-dad79e9679ae",
   "metadata": {},
   "outputs": [],
   "source": [
    "mensagem = \"Olá Mundo\""
   ]
  },
  {
   "cell_type": "code",
   "execution_count": null,
   "id": "b23e9739-b81e-44de-a757-5758675db671",
   "metadata": {},
   "outputs": [],
   "source": [
    "print (mensagem)"
   ]
  },
  {
   "cell_type": "code",
   "execution_count": null,
   "id": "9048fd29-f54e-4d67-95ec-5fd1ee92ce4f",
   "metadata": {},
   "outputs": [],
   "source": [
    "nome = input(\"Digite seu nome\")\n",
    "print(\"Seu nome é \",nome)"
   ]
  },
  {
   "cell_type": "markdown",
   "id": "553e144a-749c-4002-aeb1-5e4a0b2e2a2e",
   "metadata": {},
   "source": [
    "# Operadores Matemáticos"
   ]
  },
  {
   "cell_type": "code",
   "execution_count": null,
   "id": "ef36ec3c-1781-427d-ae5c-ae8ac83257ae",
   "metadata": {},
   "outputs": [],
   "source": [
    "n1 = 7"
   ]
  },
  {
   "cell_type": "code",
   "execution_count": null,
   "id": "c5ed7503-0d3d-4843-b8b4-b80215894b3a",
   "metadata": {},
   "outputs": [],
   "source": [
    "n2 = 77"
   ]
  },
  {
   "cell_type": "code",
   "execution_count": null,
   "id": "b429b104-c761-4796-8df5-a0834393b181",
   "metadata": {},
   "outputs": [],
   "source": [
    "s = n1+n2\n",
    "print(s)"
   ]
  },
  {
   "cell_type": "code",
   "execution_count": null,
   "id": "0873d89d-2f1e-4981-90c0-76264e974bcb",
   "metadata": {},
   "outputs": [],
   "source": [
    "s+= 1234"
   ]
  },
  {
   "cell_type": "code",
   "execution_count": null,
   "id": "c1ddde6e-2c19-4878-b349-3196290f7045",
   "metadata": {},
   "outputs": [],
   "source": [
    "print(s)"
   ]
  },
  {
   "cell_type": "code",
   "execution_count": null,
   "id": "8e4792e9-32f1-4b93-80f9-3d906f624aed",
   "metadata": {},
   "outputs": [],
   "source": [
    "sub = n2 - n1\n",
    "print(sub)"
   ]
  },
  {
   "cell_type": "code",
   "execution_count": null,
   "id": "4167a786-1c3b-4989-b845-f95826b1cadb",
   "metadata": {},
   "outputs": [],
   "source": [
    "sub"
   ]
  },
  {
   "cell_type": "code",
   "execution_count": null,
   "id": "25d60567-e799-47e7-b5ab-28db66451594",
   "metadata": {},
   "outputs": [],
   "source": [
    "mult = n1 * n2\n",
    "mult"
   ]
  },
  {
   "cell_type": "code",
   "execution_count": null,
   "id": "c8cc84aa-aa8e-49b0-9b0d-490aeb10b042",
   "metadata": {},
   "outputs": [],
   "source": [
    "div = n2/n1\n",
    "div"
   ]
  },
  {
   "cell_type": "code",
   "execution_count": null,
   "id": "3cb544c2-784e-4f29-b38e-767696df48dc",
   "metadata": {},
   "outputs": [],
   "source": [
    "potencia = n2**n1\n",
    "potencia"
   ]
  },
  {
   "cell_type": "code",
   "execution_count": null,
   "id": "4c745f4a-e775-427c-a935-b6d7bfa5bff9",
   "metadata": {},
   "outputs": [],
   "source": [
    "potencia2 = pow(n2,n1)\n",
    "potencia2"
   ]
  },
  {
   "cell_type": "code",
   "execution_count": null,
   "id": "9ace13e3-d1c7-4bbe-92af-efd146c6df5c",
   "metadata": {},
   "outputs": [],
   "source": [
    "div2 = n2//n1\n",
    "div2"
   ]
  },
  {
   "cell_type": "code",
   "execution_count": null,
   "id": "03f1ea26-4062-41bc-995b-99df38b1ec5d",
   "metadata": {},
   "outputs": [],
   "source": [
    "resto = n2%n1\n",
    "resto"
   ]
  },
  {
   "cell_type": "markdown",
   "id": "3f9aa5d5-6572-4667-b3b0-8f00cf12b9a0",
   "metadata": {},
   "source": [
    "# Importação de bibliotecas e módulos"
   ]
  },
  {
   "cell_type": "code",
   "execution_count": null,
   "id": "6d3ac1f3-da08-480f-bd0b-80594f38ed9e",
   "metadata": {},
   "outputs": [],
   "source": [
    "import numpy as np"
   ]
  },
  {
   "cell_type": "code",
   "execution_count": null,
   "id": "8dd621ff-53ea-4ea1-9683-da26bed81eb6",
   "metadata": {},
   "outputs": [],
   "source": [
    "import math "
   ]
  },
  {
   "cell_type": "code",
   "execution_count": null,
   "id": "0ef3652f-156f-4726-957a-66ee53f59903",
   "metadata": {},
   "outputs": [],
   "source": [
    "n = 18"
   ]
  },
  {
   "cell_type": "code",
   "execution_count": null,
   "id": "6800b999-d4c7-41a1-a62c-affd8c39509e",
   "metadata": {},
   "outputs": [],
   "source": [
    "raiz = math.sqrt(n)\n",
    "print('A raiz de {} é {:.2f}'.format (n,raiz))"
   ]
  },
  {
   "cell_type": "code",
   "execution_count": null,
   "id": "013c319b-b543-478b-b081-f97c80cfac12",
   "metadata": {},
   "outputs": [],
   "source": [
    "print(raiz)"
   ]
  },
  {
   "cell_type": "code",
   "execution_count": null,
   "id": "e36b7e9e-78ba-4ffa-b871-b8cc2d6ffcb0",
   "metadata": {},
   "outputs": [],
   "source": [
    "math.sqrt(25)"
   ]
  },
  {
   "cell_type": "code",
   "execution_count": null,
   "id": "4f1f0fcf-2af9-4bc5-997d-5ffda1fb81c4",
   "metadata": {},
   "outputs": [],
   "source": [
    "raiz2 = n ** 0.5\n",
    "raiz2"
   ]
  },
  {
   "cell_type": "code",
   "execution_count": null,
   "id": "31b69cf1-3e24-4cd8-9aa5-9f20f2151657",
   "metadata": {},
   "outputs": [],
   "source": [
    "print(f'{raiz2:.3f}')"
   ]
  },
  {
   "cell_type": "code",
   "execution_count": null,
   "id": "ecac3bce-ab9d-4682-af19-024b718a3115",
   "metadata": {},
   "outputs": [],
   "source": [
    "from math import sqrt\n",
    "raiz3 = sqrt(1879)\n",
    "print(f'{raiz3:.3f}')"
   ]
  },
  {
   "cell_type": "code",
   "execution_count": null,
   "id": "19adb8fd-6930-40f1-a1b4-bce45caa4be6",
   "metadata": {},
   "outputs": [],
   "source": [
    "from math import sqrt,factorial\n",
    "fat = factorial(5)\n",
    "fat"
   ]
  },
  {
   "cell_type": "code",
   "execution_count": null,
   "id": "ec434824-124b-4e68-9560-6742350133fa",
   "metadata": {},
   "outputs": [],
   "source": [
    "factorial_raiz = factorial(int(sqrt(16)))\n",
    "factorial_raiz"
   ]
  },
  {
   "cell_type": "code",
   "execution_count": null,
   "id": "1e58b667-964e-425b-a37e-d90a952d8c73",
   "metadata": {},
   "outputs": [],
   "source": [
    "from random import random,randint\n",
    "ran = randint(1,999)\n",
    "ran"
   ]
  },
  {
   "cell_type": "code",
   "execution_count": null,
   "id": "cc5d9905-332e-482a-8ec6-d8918fe4dcd6",
   "metadata": {},
   "outputs": [],
   "source": [
    "num2 = random()\n",
    "num2"
   ]
  },
  {
   "cell_type": "markdown",
   "id": "d83cb6aa-39c7-4fb8-b8f7-f045d5a049c3",
   "metadata": {},
   "source": [
    "# Estrutura Condicional"
   ]
  },
  {
   "cell_type": "code",
   "execution_count": 1,
   "id": "2f4dcadc-0d28-409e-bfca-98ce45474bae",
   "metadata": {},
   "outputs": [],
   "source": [
    "nota = 5.6"
   ]
  },
  {
   "cell_type": "code",
   "execution_count": 2,
   "id": "9b7ea1f0-b549-4a24-943b-f6fce748b969",
   "metadata": {},
   "outputs": [
    {
     "name": "stdout",
     "output_type": "stream",
     "text": [
      "Aprovado\n"
     ]
    }
   ],
   "source": [
    "if nota>= 5:\n",
    "    print('Aprovado')\n",
    "else:\n",
    "    print('Reprovado')"
   ]
  },
  {
   "cell_type": "code",
   "execution_count": 3,
   "id": "733909e9-c4c0-481f-bef9-ee49e4f3d486",
   "metadata": {},
   "outputs": [
    {
     "name": "stdout",
     "output_type": "stream",
     "text": [
      "Recuperacao\n"
     ]
    }
   ],
   "source": [
    "if nota>= 7:\n",
    "    print('Aprovado')\n",
    "elif nota<7 and nota>=5 :\n",
    "    print('Recuperacao')\n",
    "else:\n",
    "    print('Reprovado')"
   ]
  },
  {
   "cell_type": "markdown",
   "id": "7e5ccef3-8970-47e2-a1cf-23eef78e91e0",
   "metadata": {},
   "source": [
    "# Estrutura de Repetição"
   ]
  },
  {
   "cell_type": "code",
   "execution_count": 1,
   "id": "3b4738d1-f629-40ee-a928-05b3c5ca447b",
   "metadata": {},
   "outputs": [
    {
     "name": "stdout",
     "output_type": "stream",
     "text": [
      "0\n",
      "1\n",
      "2\n",
      "3\n"
     ]
    }
   ],
   "source": [
    "for c in range(0,4):\n",
    "    print(c)"
   ]
  },
  {
   "cell_type": "code",
   "execution_count": 3,
   "id": "c2d48752-1c05-49a5-9783-2a943f671bec",
   "metadata": {},
   "outputs": [
    {
     "name": "stdout",
     "output_type": "stream",
     "text": [
      "2\n",
      "4\n",
      "6\n",
      "8\n",
      "10\n"
     ]
    }
   ],
   "source": [
    "lista = [1,2,3,4,5]\n",
    "for l in lista:\n",
    "    print(l * 2)"
   ]
  },
  {
   "cell_type": "code",
   "execution_count": 4,
   "id": "3674915c-a377-4beb-9d99-e2616669d098",
   "metadata": {},
   "outputs": [
    {
     "name": "stdin",
     "output_type": "stream",
     "text": [
      "digite o 0 valor 10\n",
      "digite o 1 valor 410\n",
      "digite o 2 valor 4\n",
      "digite o 3 valor 4\n",
      "digite o 4 valor 5\n",
      "digite o 5 valor 4\n"
     ]
    },
    {
     "name": "stdout",
     "output_type": "stream",
     "text": [
      "Voce informou 5 numeros pares e a soma deles é 432\n"
     ]
    }
   ],
   "source": [
    "soma = 0\n",
    "cont = 0\n",
    "for c in range(0,6):\n",
    "    num = int(input('digite o {} valor'.format(c)))\n",
    "    if num % 2 == 0:\n",
    "        soma += num\n",
    "        cont += 1\n",
    "print('Voce informou {} numeros pares e a soma deles é {}'.format(cont,soma))"
   ]
  },
  {
   "cell_type": "code",
   "execution_count": 6,
   "id": "585239df-b3db-4735-bdf5-1cf4d78165cb",
   "metadata": {},
   "outputs": [
    {
     "name": "stdout",
     "output_type": "stream",
     "text": [
      "2\n",
      "3\n",
      "4\n",
      "5\n",
      "6\n",
      "7\n",
      "8\n",
      "9\n",
      "10\n",
      "Fim\n"
     ]
    }
   ],
   "source": [
    "c = 1\n",
    "while c < 10:\n",
    "    c += 1\n",
    "    print(c)\n",
    "print('Fim')"
   ]
  },
  {
   "cell_type": "markdown",
   "id": "37864e76-dfb4-402c-8021-4dd4980ed18c",
   "metadata": {},
   "source": [
    "# Listas, Tuplas e Dicionarios"
   ]
  },
  {
   "cell_type": "markdown",
   "id": "5542e824-6a73-4b30-9c07-39e69c375666",
   "metadata": {},
   "source": [
    "## Listas"
   ]
  },
  {
   "cell_type": "code",
   "execution_count": 7,
   "id": "55004649-f728-4dd2-a1ab-ce95552a03af",
   "metadata": {},
   "outputs": [
    {
     "name": "stdout",
     "output_type": "stream",
     "text": [
      "7\n",
      "4\n"
     ]
    }
   ],
   "source": [
    "nums = [3,5,6,7]\n",
    "print(nums[3])\n",
    "nums[3] = 4\n",
    "print(nums[3])"
   ]
  },
  {
   "cell_type": "code",
   "execution_count": 8,
   "id": "c6e2443b-2532-46a2-a709-91f8c44e55ec",
   "metadata": {},
   "outputs": [
    {
     "data": {
      "text/plain": [
       "[3, 5, 6, 4]"
      ]
     },
     "execution_count": 8,
     "metadata": {},
     "output_type": "execute_result"
    }
   ],
   "source": [
    "nums"
   ]
  },
  {
   "cell_type": "code",
   "execution_count": 10,
   "id": "305420c7-b8f4-421a-843e-bcb47d014f5b",
   "metadata": {},
   "outputs": [
    {
     "data": {
      "text/plain": [
       "[3, 5, 6, 4, 8]"
      ]
     },
     "execution_count": 10,
     "metadata": {},
     "output_type": "execute_result"
    }
   ],
   "source": [
    "nums.append(8)\n",
    "nums"
   ]
  },
  {
   "cell_type": "code",
   "execution_count": 11,
   "id": "685747c3-ba34-4b25-b8eb-b89884ea09c2",
   "metadata": {},
   "outputs": [
    {
     "data": {
      "text/plain": [
       "[3, 4, 5, 6, 8]"
      ]
     },
     "execution_count": 11,
     "metadata": {},
     "output_type": "execute_result"
    }
   ],
   "source": [
    "nums.sort()\n",
    "nums"
   ]
  },
  {
   "cell_type": "code",
   "execution_count": 12,
   "id": "e1970f0c-9530-4674-8fc0-5ebdc0f27787",
   "metadata": {},
   "outputs": [
    {
     "data": {
      "text/plain": [
       "[3, 4, 0, 5, 6, 8]"
      ]
     },
     "execution_count": 12,
     "metadata": {},
     "output_type": "execute_result"
    }
   ],
   "source": [
    "nums.insert(2,0)\n",
    "nums"
   ]
  },
  {
   "cell_type": "code",
   "execution_count": 13,
   "id": "e74f9262-a1ae-4b78-9f32-2b6271a339e8",
   "metadata": {},
   "outputs": [
    {
     "data": {
      "text/plain": [
       "[3, 4, 0, 5, 6]"
      ]
     },
     "execution_count": 13,
     "metadata": {},
     "output_type": "execute_result"
    }
   ],
   "source": [
    "nums.remove(8)\n",
    "nums"
   ]
  },
  {
   "cell_type": "code",
   "execution_count": 14,
   "id": "a6cdc6e5-c5ac-457f-854b-dd340df69e97",
   "metadata": {},
   "outputs": [
    {
     "data": {
      "text/plain": [
       "[4, 0, 5, 6]"
      ]
     },
     "execution_count": 14,
     "metadata": {},
     "output_type": "execute_result"
    }
   ],
   "source": [
    "nums.pop(0)\n",
    "nums"
   ]
  },
  {
   "cell_type": "markdown",
   "id": "3d1c521b-a281-49ef-a97c-2a171ae3a346",
   "metadata": {},
   "source": [
    "## Tuplas - É imutável"
   ]
  },
  {
   "cell_type": "code",
   "execution_count": null,
   "id": "e3a623ac-861a-418a-9923-15d07c311e6d",
   "metadata": {},
   "outputs": [],
   "source": [
    "num = (8,7,55,4)"
   ]
  },
  {
   "cell_type": "code",
   "execution_count": 16,
   "id": "ef5e307e-c67a-493f-b9f4-009db042621f",
   "metadata": {},
   "outputs": [
    {
     "ename": "TypeError",
     "evalue": "'int' object does not support item assignment",
     "output_type": "error",
     "traceback": [
      "\u001b[0;31m---------------------------------------------------------------------------\u001b[0m",
      "\u001b[0;31mTypeError\u001b[0m                                 Traceback (most recent call last)",
      "Cell \u001b[0;32mIn[16], line 1\u001b[0m\n\u001b[0;32m----> 1\u001b[0m num[\u001b[38;5;241m3\u001b[39m] \u001b[38;5;241m=\u001b[39m \u001b[38;5;241m44\u001b[39m\n",
      "\u001b[0;31mTypeError\u001b[0m: 'int' object does not support item assignment"
     ]
    }
   ],
   "source": [
    "num[3] = 44"
   ]
  },
  {
   "cell_type": "code",
   "execution_count": 17,
   "id": "b7a29c18-c63f-46de-bc60-b2062a9d66e3",
   "metadata": {},
   "outputs": [
    {
     "ename": "AttributeError",
     "evalue": "'int' object has no attribute 'appen'",
     "output_type": "error",
     "traceback": [
      "\u001b[0;31m---------------------------------------------------------------------------\u001b[0m",
      "\u001b[0;31mAttributeError\u001b[0m                            Traceback (most recent call last)",
      "Cell \u001b[0;32mIn[17], line 1\u001b[0m\n\u001b[0;32m----> 1\u001b[0m num\u001b[38;5;241m.\u001b[39mappen(\u001b[38;5;241m44\u001b[39m)\n",
      "\u001b[0;31mAttributeError\u001b[0m: 'int' object has no attribute 'appen'"
     ]
    }
   ],
   "source": [
    "num.appen(44)"
   ]
  },
  {
   "cell_type": "markdown",
   "id": "a02e5cc6-6ff5-4c7c-9553-57960a986381",
   "metadata": {},
   "source": [
    "## Dicionarios "
   ]
  },
  {
   "cell_type": "code",
   "execution_count": 19,
   "id": "b9f6b163-77a8-46c0-ace0-836722cadd45",
   "metadata": {},
   "outputs": [
    {
     "name": "stdout",
     "output_type": "stream",
     "text": [
      "{'nome': 'lucas', 'idade': 12, 'sexo': 'm'}\n"
     ]
    }
   ],
   "source": [
    "pessoas = {'nome':'lucas','idade':12,'sexo':'m'}\n",
    "print(pessoas)"
   ]
  },
  {
   "cell_type": "code",
   "execution_count": 20,
   "id": "000b1710-b8e3-4a8b-86e6-c34cf62467c1",
   "metadata": {},
   "outputs": [
    {
     "name": "stdout",
     "output_type": "stream",
     "text": [
      "{'nome': 'lucas', 'idade': 12, 'sexo': 'm', 'time': 'Cruzeiro'}\n"
     ]
    }
   ],
   "source": [
    "pessoas['time'] = 'Cruzeiro'\n",
    "print(pessoas)"
   ]
  },
  {
   "cell_type": "code",
   "execution_count": 21,
   "id": "2ff35e6f-2f25-4481-8dc3-93a6dfdf677f",
   "metadata": {},
   "outputs": [
    {
     "name": "stdout",
     "output_type": "stream",
     "text": [
      "{'nome': 'lucas', 'sexo': 'm', 'time': 'Cruzeiro'}\n"
     ]
    }
   ],
   "source": [
    "del pessoas['idade']\n",
    "print(pessoas)"
   ]
  },
  {
   "cell_type": "markdown",
   "id": "ee6de0da-445f-41c9-a711-bad56c9ec293",
   "metadata": {},
   "source": [
    "# Funções"
   ]
  },
  {
   "cell_type": "code",
   "execution_count": 25,
   "id": "27805214-80c2-445c-8f7e-70397517f56b",
   "metadata": {},
   "outputs": [
    {
     "name": "stdout",
     "output_type": "stream",
     "text": [
      "Ola lucas , voce possui 12 anos\n"
     ]
    }
   ],
   "source": [
    "def identificacao(nome,idade):\n",
    "    print(f'Ola {nome} , voce possui {idade} anos')\n",
    "identificacao('lucas',12)"
   ]
  },
  {
   "cell_type": "code",
   "execution_count": 27,
   "id": "313a2836-52ca-4c36-8d17-1287135384b4",
   "metadata": {},
   "outputs": [
    {
     "name": "stdout",
     "output_type": "stream",
     "text": [
      " O maior numero é  99\n",
      " O maior numero é  74\n",
      " Os numeros possuem mesmo valor\n"
     ]
    }
   ],
   "source": [
    "def maior(x,y):\n",
    "    if(x>y):\n",
    "        print(' O maior numero é ',x)\n",
    "    elif(x<y):\n",
    "        print(' O maior numero é ',y)\n",
    "    else:\n",
    "        print(' Os numeros possuem mesmo valor')\n",
    "\n",
    "maior(1,99)\n",
    "maior(74,4)\n",
    "maior(7,7)"
   ]
  },
  {
   "cell_type": "markdown",
   "id": "488ea6e7-470b-472b-a0a7-2bc850fb079c",
   "metadata": {},
   "source": [
    "# Função Lambda e map - forma simplificada de escrever funcoes"
   ]
  },
  {
   "cell_type": "code",
   "execution_count": 28,
   "id": "cb51f3cf-7db1-4ebc-b87b-2f929354452f",
   "metadata": {},
   "outputs": [],
   "source": [
    "def area_quadrado(L):\n",
    "    area = L ** 2\n",
    "    print(area)"
   ]
  },
  {
   "cell_type": "code",
   "execution_count": 29,
   "id": "195b6b58-7663-49aa-840e-bef0d9910e9d",
   "metadata": {},
   "outputs": [
    {
     "name": "stdout",
     "output_type": "stream",
     "text": [
      "4\n"
     ]
    }
   ],
   "source": [
    "area_quadrado(2)"
   ]
  },
  {
   "cell_type": "code",
   "execution_count": 30,
   "id": "6e0d655b-d9b5-445e-a2b3-e6d6d4b55969",
   "metadata": {},
   "outputs": [],
   "source": [
    "area_quadrado2 = lambda x: x**2"
   ]
  },
  {
   "cell_type": "code",
   "execution_count": 31,
   "id": "6f26b595-598c-4084-9953-314049f05e40",
   "metadata": {},
   "outputs": [
    {
     "data": {
      "text/plain": [
       "25"
      ]
     },
     "execution_count": 31,
     "metadata": {},
     "output_type": "execute_result"
    }
   ],
   "source": [
    "area_quadrado2(5)"
   ]
  },
  {
   "cell_type": "code",
   "execution_count": 32,
   "id": "aeaa6d17-a60a-4944-9dee-3c309f5440ef",
   "metadata": {},
   "outputs": [],
   "source": [
    "area_retangulo = lambda b,h: b*h"
   ]
  },
  {
   "cell_type": "code",
   "execution_count": 33,
   "id": "db55934a-8934-4a46-9474-1b8320167226",
   "metadata": {},
   "outputs": [
    {
     "data": {
      "text/plain": [
       "8"
      ]
     },
     "execution_count": 33,
     "metadata": {},
     "output_type": "execute_result"
    }
   ],
   "source": [
    "area_retangulo(4,2)"
   ]
  },
  {
   "cell_type": "code",
   "execution_count": 62,
   "id": "e4cd1cca-46c4-4cd8-8def-2582157da4df",
   "metadata": {},
   "outputs": [
    {
     "ename": "TypeError",
     "evalue": "'list' object is not callable",
     "output_type": "error",
     "traceback": [
      "\u001b[0;31m---------------------------------------------------------------------------\u001b[0m",
      "\u001b[0;31mTypeError\u001b[0m                                 Traceback (most recent call last)",
      "Cell \u001b[0;32mIn[62], line 3\u001b[0m\n\u001b[1;32m      1\u001b[0m \u001b[38;5;66;03m# Use a função 'list' corretamente\u001b[39;00m\n\u001b[1;32m      2\u001b[0m L \u001b[38;5;241m=\u001b[39m [\u001b[38;5;241m1\u001b[39m, \u001b[38;5;241m2\u001b[39m, \u001b[38;5;241m3\u001b[39m, \u001b[38;5;241m4\u001b[39m, \u001b[38;5;241m5\u001b[39m, \u001b[38;5;241m6\u001b[39m, \u001b[38;5;241m7\u001b[39m]\n\u001b[0;32m----> 3\u001b[0m areas \u001b[38;5;241m=\u001b[39m \u001b[38;5;28mlist\u001b[39m(\u001b[38;5;28mmap\u001b[39m(\u001b[38;5;28;01mlambda\u001b[39;00m x: x\u001b[38;5;241m*\u001b[39m\u001b[38;5;241m*\u001b[39m\u001b[38;5;241m2\u001b[39m, L))\n\u001b[1;32m      4\u001b[0m \u001b[38;5;28mprint\u001b[39m(areas)\n",
      "\u001b[0;31mTypeError\u001b[0m: 'list' object is not callable"
     ]
    }
   ],
   "source": [
    "# Use a função 'list' corretamente\n",
    "L = [1, 2, 3, 4, 5, 6, 7]\n",
    "areas = list(map(lambda x: x**2, L))\n",
    "print(areas)"
   ]
  },
  {
   "cell_type": "markdown",
   "id": "4218e18f-fbce-4241-8bba-bbcc21cfeeda",
   "metadata": {},
   "source": [
    "# List comprehension"
   ]
  },
  {
   "cell_type": "code",
   "execution_count": 45,
   "id": "68f9265c-8e91-4de2-8f0f-89e5604657a8",
   "metadata": {},
   "outputs": [
    {
     "name": "stdout",
     "output_type": "stream",
     "text": [
      "[10, 11, 12, 13, 14]\n"
     ]
    }
   ],
   "source": [
    "lista = []\n",
    "for valor in range(5):\n",
    "    lista.append(valor+10)\n",
    "print(lista)"
   ]
  },
  {
   "cell_type": "code",
   "execution_count": 46,
   "id": "478b7706-4378-4a79-925a-b0e3f625d810",
   "metadata": {},
   "outputs": [
    {
     "name": "stdout",
     "output_type": "stream",
     "text": [
      "[10, 11, 12, 13, 14]\n"
     ]
    }
   ],
   "source": [
    "lista = [valor+10 for valor in range(5)]\n",
    "print(lista)"
   ]
  },
  {
   "cell_type": "code",
   "execution_count": 49,
   "id": "9a15e178-942b-41e7-9292-1f682b9df218",
   "metadata": {},
   "outputs": [
    {
     "name": "stdout",
     "output_type": "stream",
     "text": [
      "[4, 8, 12, 16, 20, 24, 28]\n"
     ]
    }
   ],
   "source": [
    "lista = []\n",
    "for numero in range(1,30):\n",
    "    if numero % 4 == 0:\n",
    "        lista.append(numero)\n",
    "\n",
    "print(lista)"
   ]
  },
  {
   "cell_type": "code",
   "execution_count": 52,
   "id": "793e400b-ec28-4990-b884-4b01df9b04d7",
   "metadata": {},
   "outputs": [
    {
     "name": "stdout",
     "output_type": "stream",
     "text": [
      "[4, 8, 12, 16, 20, 24, 28]\n"
     ]
    }
   ],
   "source": [
    "multiplos4 = [numero for numero in range(1,30) if numero % 4 == 0]\n",
    "print(multiplos4)"
   ]
  },
  {
   "cell_type": "code",
   "execution_count": 51,
   "id": "c16fbfa1-4562-446c-b1bf-2f0a0f42098e",
   "metadata": {},
   "outputs": [
    {
     "name": "stdout",
     "output_type": "stream",
     "text": [
      "['Vermelha', 'Vermelha', 'Vermelha', 'Vermelha', 'Vermelha', 'azul', 'azul', 'azul', 'azul', 'azul']\n"
     ]
    }
   ],
   "source": [
    "conceito = ['azul' if nota>=6 else 'Vermelha' for nota in range(1,11)]\n",
    "print(conceito)"
   ]
  },
  {
   "cell_type": "code",
   "execution_count": null,
   "id": "f99367a2-1868-44fc-b1bf-565eb1eac349",
   "metadata": {},
   "outputs": [],
   "source": [
    "pares = [ f'' if n % 2 == 0 else 'Impar' for n in range(1,10)]"
   ]
  },
  {
   "cell_type": "markdown",
   "id": "192f5775-6e42-4f89-8b8f-2117e44191c8",
   "metadata": {},
   "source": [
    "# Vetores e Matrizes"
   ]
  },
  {
   "cell_type": "code",
   "execution_count": 53,
   "id": "0bcfcd15-e247-4581-aa59-34202a525587",
   "metadata": {},
   "outputs": [],
   "source": [
    "vetor = [1,2,3,4,5]"
   ]
  },
  {
   "cell_type": "code",
   "execution_count": 54,
   "id": "198236ca-181c-4d87-9435-1faf32613621",
   "metadata": {},
   "outputs": [
    {
     "data": {
      "text/plain": [
       "list"
      ]
     },
     "execution_count": 54,
     "metadata": {},
     "output_type": "execute_result"
    }
   ],
   "source": [
    "type(vetor)"
   ]
  },
  {
   "cell_type": "code",
   "execution_count": 55,
   "id": "28acfbd2-bb1d-4ff7-be4d-64c992bad73a",
   "metadata": {},
   "outputs": [],
   "source": [
    "matriz = [[1,2,3,4,5],[1,2,3,4,5]]"
   ]
  },
  {
   "cell_type": "code",
   "execution_count": 56,
   "id": "23516248-5d67-42ca-ba75-996fe194292c",
   "metadata": {},
   "outputs": [
    {
     "data": {
      "text/plain": [
       "list"
      ]
     },
     "execution_count": 56,
     "metadata": {},
     "output_type": "execute_result"
    }
   ],
   "source": [
    "type(matriz)"
   ]
  },
  {
   "cell_type": "code",
   "execution_count": 57,
   "id": "9cbccc8a-ff21-44a0-a95b-95a85d5c2c1e",
   "metadata": {},
   "outputs": [
    {
     "name": "stdout",
     "output_type": "stream",
     "text": [
      "[[1, 2, 3, 4, 5], [1, 2, 3, 4, 5]]\n"
     ]
    }
   ],
   "source": [
    "print(matriz)"
   ]
  },
  {
   "cell_type": "code",
   "execution_count": 58,
   "id": "11c15e21-bc78-4533-9c68-791e8419973f",
   "metadata": {},
   "outputs": [],
   "source": [
    "import numpy as np"
   ]
  },
  {
   "cell_type": "code",
   "execution_count": 60,
   "id": "5d182db1-0cce-494c-b623-88168a1aa2a3",
   "metadata": {},
   "outputs": [],
   "source": [
    "vetor2 = np.array([1,-3,4.2,5])"
   ]
  },
  {
   "cell_type": "code",
   "execution_count": 61,
   "id": "127bf469-c651-45cd-b8a0-2e43d9d7a186",
   "metadata": {},
   "outputs": [
    {
     "data": {
      "text/plain": [
       "numpy.ndarray"
      ]
     },
     "execution_count": 61,
     "metadata": {},
     "output_type": "execute_result"
    }
   ],
   "source": [
    "type(vetor2)"
   ]
  },
  {
   "cell_type": "code",
   "execution_count": 63,
   "id": "e0019f80-141b-4459-b574-c17cd63abd2f",
   "metadata": {},
   "outputs": [
    {
     "name": "stdout",
     "output_type": "stream",
     "text": [
      "[ 1.  -3.   4.2  5. ]\n"
     ]
    }
   ],
   "source": [
    "print(vetor2)"
   ]
  },
  {
   "cell_type": "code",
   "execution_count": 64,
   "id": "6e02be21-9b26-43af-ba11-076e50846f66",
   "metadata": {},
   "outputs": [
    {
     "data": {
      "text/plain": [
       "array([[1., 1., 1.],\n",
       "       [1., 1., 1.]])"
      ]
     },
     "execution_count": 64,
     "metadata": {},
     "output_type": "execute_result"
    }
   ],
   "source": [
    "matriz2 = np.ones((2,3))\n",
    "matriz2"
   ]
  },
  {
   "cell_type": "code",
   "execution_count": 65,
   "id": "effa980f-2818-4eb1-8699-a811cdcde718",
   "metadata": {},
   "outputs": [
    {
     "data": {
      "text/plain": [
       "numpy.ndarray"
      ]
     },
     "execution_count": 65,
     "metadata": {},
     "output_type": "execute_result"
    }
   ],
   "source": [
    "type(matriz2)"
   ]
  },
  {
   "cell_type": "code",
   "execution_count": 66,
   "id": "9020eaa4-8127-46b0-8dfa-5f1a18256dc1",
   "metadata": {},
   "outputs": [
    {
     "data": {
      "text/plain": [
       "array([[ 2,  0,  0,  0,  0],\n",
       "       [ 0,  4,  0,  0,  0],\n",
       "       [ 0,  0,  6,  0,  0],\n",
       "       [ 0,  0,  0,  8,  0],\n",
       "       [ 0,  0,  0,  0, 10]])"
      ]
     },
     "execution_count": 66,
     "metadata": {},
     "output_type": "execute_result"
    }
   ],
   "source": [
    "matriz3 = np.diag((2,4,6,8,10))\n",
    "matriz3"
   ]
  },
  {
   "cell_type": "code",
   "execution_count": 67,
   "id": "0dc6f692-5dc3-46df-98d4-ecff113540d4",
   "metadata": {},
   "outputs": [
    {
     "data": {
      "text/plain": [
       "numpy.ndarray"
      ]
     },
     "execution_count": 67,
     "metadata": {},
     "output_type": "execute_result"
    }
   ],
   "source": [
    "type(matriz3)"
   ]
  }
 ],
 "metadata": {
  "kernelspec": {
   "display_name": "Python 3 (ipykernel)",
   "language": "python",
   "name": "python3"
  },
  "language_info": {
   "codemirror_mode": {
    "name": "ipython",
    "version": 3
   },
   "file_extension": ".py",
   "mimetype": "text/x-python",
   "name": "python",
   "nbconvert_exporter": "python",
   "pygments_lexer": "ipython3",
   "version": "3.12.4"
  }
 },
 "nbformat": 4,
 "nbformat_minor": 5
}
