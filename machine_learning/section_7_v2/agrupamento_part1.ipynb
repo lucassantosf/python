{
 "cells": [
  {
   "cell_type": "markdown",
   "metadata": {
    "id": "fQJ5CYV9Te0X"
   },
   "source": [
    "# **APRENDIZAGEM NÃO SUPERVISIONADA: AGRUPAMENTO**"
   ]
  },
  {
   "cell_type": "markdown",
   "metadata": {
    "id": "kXFCCsVHTtTP"
   },
   "source": [
    "Este projeto tem por objetivo desenvolver um algoritmo de Machine Learning para agrupar clientes de um shopping."
   ]
  },
  {
   "cell_type": "markdown",
   "metadata": {
    "id": "5ZQ2nYhQUc3G"
   },
   "source": [
    "Os dados foram extraídos do site do Kaggle:\n",
    "\n",
    "https://www.kaggle.com/shwetabh123/mall-customers"
   ]
  },
  {
   "cell_type": "markdown",
   "metadata": {
    "jp-MarkdownHeadingCollapsed": true
   },
   "source": [
    "## **CONHECENDO O DATASET**"
   ]
  },
  {
   "cell_type": "code",
   "execution_count": 104,
   "metadata": {
    "id": "nWvIcticlCs2"
   },
   "outputs": [],
   "source": [
    "import numpy as np\n",
    "import pandas as pd"
   ]
  },
  {
   "cell_type": "code",
   "execution_count": 105,
   "metadata": {
    "id": "Ucm_66mjkInE"
   },
   "outputs": [],
   "source": [
    "import warnings\n",
    "warnings.filterwarnings(\"ignore\")"
   ]
  },
  {
   "cell_type": "code",
   "execution_count": 106,
   "metadata": {
    "id": "LRIrwcC8kUhT"
   },
   "outputs": [],
   "source": [
    "df = pd.read_csv('Mall_Customers.csv',\n",
    "                    sep=',', encoding='iso-8859-1')"
   ]
  },
  {
   "cell_type": "code",
   "execution_count": 107,
   "metadata": {
    "colab": {
     "base_uri": "https://localhost:8080/",
     "height": 206
    },
    "id": "QtugliripIyp",
    "outputId": "0de0e54e-f21a-415f-e223-b62a4e3ee9af"
   },
   "outputs": [
    {
     "data": {
      "text/html": [
       "<div>\n",
       "<style scoped>\n",
       "    .dataframe tbody tr th:only-of-type {\n",
       "        vertical-align: middle;\n",
       "    }\n",
       "\n",
       "    .dataframe tbody tr th {\n",
       "        vertical-align: top;\n",
       "    }\n",
       "\n",
       "    .dataframe thead th {\n",
       "        text-align: right;\n",
       "    }\n",
       "</style>\n",
       "<table border=\"1\" class=\"dataframe\">\n",
       "  <thead>\n",
       "    <tr style=\"text-align: right;\">\n",
       "      <th></th>\n",
       "      <th>CustomerID</th>\n",
       "      <th>Genre</th>\n",
       "      <th>Age</th>\n",
       "      <th>Annual Income (k$)</th>\n",
       "      <th>Spending Score (1-100)</th>\n",
       "    </tr>\n",
       "  </thead>\n",
       "  <tbody>\n",
       "    <tr>\n",
       "      <th>0</th>\n",
       "      <td>1</td>\n",
       "      <td>Male</td>\n",
       "      <td>19</td>\n",
       "      <td>15</td>\n",
       "      <td>39</td>\n",
       "    </tr>\n",
       "    <tr>\n",
       "      <th>1</th>\n",
       "      <td>2</td>\n",
       "      <td>Male</td>\n",
       "      <td>21</td>\n",
       "      <td>15</td>\n",
       "      <td>81</td>\n",
       "    </tr>\n",
       "    <tr>\n",
       "      <th>2</th>\n",
       "      <td>3</td>\n",
       "      <td>Female</td>\n",
       "      <td>20</td>\n",
       "      <td>16</td>\n",
       "      <td>6</td>\n",
       "    </tr>\n",
       "    <tr>\n",
       "      <th>3</th>\n",
       "      <td>4</td>\n",
       "      <td>Female</td>\n",
       "      <td>23</td>\n",
       "      <td>16</td>\n",
       "      <td>77</td>\n",
       "    </tr>\n",
       "    <tr>\n",
       "      <th>4</th>\n",
       "      <td>5</td>\n",
       "      <td>Female</td>\n",
       "      <td>31</td>\n",
       "      <td>17</td>\n",
       "      <td>40</td>\n",
       "    </tr>\n",
       "  </tbody>\n",
       "</table>\n",
       "</div>"
      ],
      "text/plain": [
       "   CustomerID   Genre  Age  Annual Income (k$)  Spending Score (1-100)\n",
       "0           1    Male   19                  15                      39\n",
       "1           2    Male   21                  15                      81\n",
       "2           3  Female   20                  16                       6\n",
       "3           4  Female   23                  16                      77\n",
       "4           5  Female   31                  17                      40"
      ]
     },
     "execution_count": 107,
     "metadata": {},
     "output_type": "execute_result"
    }
   ],
   "source": [
    "df.head()"
   ]
  },
  {
   "cell_type": "markdown",
   "metadata": {
    "id": "BxBX5HD17FZn"
   },
   "source": [
    "**ATRIBUTOS:**\n",
    "\n",
    "CustomerID: identificação do cliente.\n",
    "\n",
    "Genre: Gênero.\n",
    "\n",
    "Age: idade.\n",
    "\n",
    "Annual Income (k$):\tRendimento anual.\n",
    "\n",
    "Spending Score (1 a 100): Pontuação de gastos."
   ]
  },
  {
   "cell_type": "markdown",
   "metadata": {
    "id": "ajo3s-N0qCAp"
   },
   "source": [
    "**IDADE**"
   ]
  },
  {
   "cell_type": "code",
   "execution_count": 108,
   "metadata": {
    "id": "skYTOCMwQ4_s"
   },
   "outputs": [],
   "source": [
    "import plotly.express as px"
   ]
  },
  {
   "cell_type": "code",
   "execution_count": 109,
   "metadata": {
    "colab": {
     "base_uri": "https://localhost:8080/",
     "height": 417
    },
    "id": "W5Hco_eBQ7Tp",
    "outputId": "4c6d0f77-3e78-4247-c647-25132eb668f8"
   },
   "outputs": [
    {
     "data": {
      "application/vnd.plotly.v1+json": {
       "config": {
        "plotlyServerURL": "https://plot.ly"
       },
       "data": [
        {
         "alignmentgroup": "True",
         "bingroup": "x",
         "hovertemplate": "Age=%{x}<br>count=%{y}<extra></extra>",
         "legendgroup": "",
         "marker": {
          "color": "#636efa",
          "pattern": {
           "shape": ""
          }
         },
         "name": "",
         "nbinsx": 60,
         "offsetgroup": "",
         "orientation": "v",
         "showlegend": false,
         "type": "histogram",
         "x": [
          19,
          21,
          20,
          23,
          31,
          22,
          35,
          23,
          64,
          30,
          67,
          35,
          58,
          24,
          37,
          22,
          35,
          20,
          52,
          35,
          35,
          25,
          46,
          31,
          54,
          29,
          45,
          35,
          40,
          23,
          60,
          21,
          53,
          18,
          49,
          21,
          42,
          30,
          36,
          20,
          65,
          24,
          48,
          31,
          49,
          24,
          50,
          27,
          29,
          31,
          49,
          33,
          31,
          59,
          50,
          47,
          51,
          69,
          27,
          53,
          70,
          19,
          67,
          54,
          63,
          18,
          43,
          68,
          19,
          32,
          70,
          47,
          60,
          60,
          59,
          26,
          45,
          40,
          23,
          49,
          57,
          38,
          67,
          46,
          21,
          48,
          55,
          22,
          34,
          50,
          68,
          18,
          48,
          40,
          32,
          24,
          47,
          27,
          48,
          20,
          23,
          49,
          67,
          26,
          49,
          21,
          66,
          54,
          68,
          66,
          65,
          19,
          38,
          19,
          18,
          19,
          63,
          49,
          51,
          50,
          27,
          38,
          40,
          39,
          23,
          31,
          43,
          40,
          59,
          38,
          47,
          39,
          25,
          31,
          20,
          29,
          44,
          32,
          19,
          35,
          57,
          32,
          28,
          32,
          25,
          28,
          48,
          32,
          34,
          34,
          43,
          39,
          44,
          38,
          47,
          27,
          37,
          30,
          34,
          30,
          56,
          29,
          19,
          31,
          50,
          36,
          42,
          33,
          36,
          32,
          40,
          28,
          36,
          36,
          52,
          30,
          58,
          27,
          59,
          35,
          37,
          32,
          46,
          29,
          41,
          30,
          54,
          28,
          41,
          36,
          34,
          32,
          33,
          38,
          47,
          35,
          45,
          32,
          32,
          30
         ],
         "xaxis": "x",
         "yaxis": "y"
        }
       ],
       "layout": {
        "barmode": "relative",
        "height": 400,
        "legend": {
         "tracegroupgap": 0
        },
        "margin": {
         "t": 60
        },
        "template": {
         "data": {
          "bar": [
           {
            "error_x": {
             "color": "#2a3f5f"
            },
            "error_y": {
             "color": "#2a3f5f"
            },
            "marker": {
             "line": {
              "color": "#E5ECF6",
              "width": 0.5
             },
             "pattern": {
              "fillmode": "overlay",
              "size": 10,
              "solidity": 0.2
             }
            },
            "type": "bar"
           }
          ],
          "barpolar": [
           {
            "marker": {
             "line": {
              "color": "#E5ECF6",
              "width": 0.5
             },
             "pattern": {
              "fillmode": "overlay",
              "size": 10,
              "solidity": 0.2
             }
            },
            "type": "barpolar"
           }
          ],
          "carpet": [
           {
            "aaxis": {
             "endlinecolor": "#2a3f5f",
             "gridcolor": "white",
             "linecolor": "white",
             "minorgridcolor": "white",
             "startlinecolor": "#2a3f5f"
            },
            "baxis": {
             "endlinecolor": "#2a3f5f",
             "gridcolor": "white",
             "linecolor": "white",
             "minorgridcolor": "white",
             "startlinecolor": "#2a3f5f"
            },
            "type": "carpet"
           }
          ],
          "choropleth": [
           {
            "colorbar": {
             "outlinewidth": 0,
             "ticks": ""
            },
            "type": "choropleth"
           }
          ],
          "contour": [
           {
            "colorbar": {
             "outlinewidth": 0,
             "ticks": ""
            },
            "colorscale": [
             [
              0,
              "#0d0887"
             ],
             [
              0.1111111111111111,
              "#46039f"
             ],
             [
              0.2222222222222222,
              "#7201a8"
             ],
             [
              0.3333333333333333,
              "#9c179e"
             ],
             [
              0.4444444444444444,
              "#bd3786"
             ],
             [
              0.5555555555555556,
              "#d8576b"
             ],
             [
              0.6666666666666666,
              "#ed7953"
             ],
             [
              0.7777777777777778,
              "#fb9f3a"
             ],
             [
              0.8888888888888888,
              "#fdca26"
             ],
             [
              1,
              "#f0f921"
             ]
            ],
            "type": "contour"
           }
          ],
          "contourcarpet": [
           {
            "colorbar": {
             "outlinewidth": 0,
             "ticks": ""
            },
            "type": "contourcarpet"
           }
          ],
          "heatmap": [
           {
            "colorbar": {
             "outlinewidth": 0,
             "ticks": ""
            },
            "colorscale": [
             [
              0,
              "#0d0887"
             ],
             [
              0.1111111111111111,
              "#46039f"
             ],
             [
              0.2222222222222222,
              "#7201a8"
             ],
             [
              0.3333333333333333,
              "#9c179e"
             ],
             [
              0.4444444444444444,
              "#bd3786"
             ],
             [
              0.5555555555555556,
              "#d8576b"
             ],
             [
              0.6666666666666666,
              "#ed7953"
             ],
             [
              0.7777777777777778,
              "#fb9f3a"
             ],
             [
              0.8888888888888888,
              "#fdca26"
             ],
             [
              1,
              "#f0f921"
             ]
            ],
            "type": "heatmap"
           }
          ],
          "heatmapgl": [
           {
            "colorbar": {
             "outlinewidth": 0,
             "ticks": ""
            },
            "colorscale": [
             [
              0,
              "#0d0887"
             ],
             [
              0.1111111111111111,
              "#46039f"
             ],
             [
              0.2222222222222222,
              "#7201a8"
             ],
             [
              0.3333333333333333,
              "#9c179e"
             ],
             [
              0.4444444444444444,
              "#bd3786"
             ],
             [
              0.5555555555555556,
              "#d8576b"
             ],
             [
              0.6666666666666666,
              "#ed7953"
             ],
             [
              0.7777777777777778,
              "#fb9f3a"
             ],
             [
              0.8888888888888888,
              "#fdca26"
             ],
             [
              1,
              "#f0f921"
             ]
            ],
            "type": "heatmapgl"
           }
          ],
          "histogram": [
           {
            "marker": {
             "pattern": {
              "fillmode": "overlay",
              "size": 10,
              "solidity": 0.2
             }
            },
            "type": "histogram"
           }
          ],
          "histogram2d": [
           {
            "colorbar": {
             "outlinewidth": 0,
             "ticks": ""
            },
            "colorscale": [
             [
              0,
              "#0d0887"
             ],
             [
              0.1111111111111111,
              "#46039f"
             ],
             [
              0.2222222222222222,
              "#7201a8"
             ],
             [
              0.3333333333333333,
              "#9c179e"
             ],
             [
              0.4444444444444444,
              "#bd3786"
             ],
             [
              0.5555555555555556,
              "#d8576b"
             ],
             [
              0.6666666666666666,
              "#ed7953"
             ],
             [
              0.7777777777777778,
              "#fb9f3a"
             ],
             [
              0.8888888888888888,
              "#fdca26"
             ],
             [
              1,
              "#f0f921"
             ]
            ],
            "type": "histogram2d"
           }
          ],
          "histogram2dcontour": [
           {
            "colorbar": {
             "outlinewidth": 0,
             "ticks": ""
            },
            "colorscale": [
             [
              0,
              "#0d0887"
             ],
             [
              0.1111111111111111,
              "#46039f"
             ],
             [
              0.2222222222222222,
              "#7201a8"
             ],
             [
              0.3333333333333333,
              "#9c179e"
             ],
             [
              0.4444444444444444,
              "#bd3786"
             ],
             [
              0.5555555555555556,
              "#d8576b"
             ],
             [
              0.6666666666666666,
              "#ed7953"
             ],
             [
              0.7777777777777778,
              "#fb9f3a"
             ],
             [
              0.8888888888888888,
              "#fdca26"
             ],
             [
              1,
              "#f0f921"
             ]
            ],
            "type": "histogram2dcontour"
           }
          ],
          "mesh3d": [
           {
            "colorbar": {
             "outlinewidth": 0,
             "ticks": ""
            },
            "type": "mesh3d"
           }
          ],
          "parcoords": [
           {
            "line": {
             "colorbar": {
              "outlinewidth": 0,
              "ticks": ""
             }
            },
            "type": "parcoords"
           }
          ],
          "pie": [
           {
            "automargin": true,
            "type": "pie"
           }
          ],
          "scatter": [
           {
            "fillpattern": {
             "fillmode": "overlay",
             "size": 10,
             "solidity": 0.2
            },
            "type": "scatter"
           }
          ],
          "scatter3d": [
           {
            "line": {
             "colorbar": {
              "outlinewidth": 0,
              "ticks": ""
             }
            },
            "marker": {
             "colorbar": {
              "outlinewidth": 0,
              "ticks": ""
             }
            },
            "type": "scatter3d"
           }
          ],
          "scattercarpet": [
           {
            "marker": {
             "colorbar": {
              "outlinewidth": 0,
              "ticks": ""
             }
            },
            "type": "scattercarpet"
           }
          ],
          "scattergeo": [
           {
            "marker": {
             "colorbar": {
              "outlinewidth": 0,
              "ticks": ""
             }
            },
            "type": "scattergeo"
           }
          ],
          "scattergl": [
           {
            "marker": {
             "colorbar": {
              "outlinewidth": 0,
              "ticks": ""
             }
            },
            "type": "scattergl"
           }
          ],
          "scattermapbox": [
           {
            "marker": {
             "colorbar": {
              "outlinewidth": 0,
              "ticks": ""
             }
            },
            "type": "scattermapbox"
           }
          ],
          "scatterpolar": [
           {
            "marker": {
             "colorbar": {
              "outlinewidth": 0,
              "ticks": ""
             }
            },
            "type": "scatterpolar"
           }
          ],
          "scatterpolargl": [
           {
            "marker": {
             "colorbar": {
              "outlinewidth": 0,
              "ticks": ""
             }
            },
            "type": "scatterpolargl"
           }
          ],
          "scatterternary": [
           {
            "marker": {
             "colorbar": {
              "outlinewidth": 0,
              "ticks": ""
             }
            },
            "type": "scatterternary"
           }
          ],
          "surface": [
           {
            "colorbar": {
             "outlinewidth": 0,
             "ticks": ""
            },
            "colorscale": [
             [
              0,
              "#0d0887"
             ],
             [
              0.1111111111111111,
              "#46039f"
             ],
             [
              0.2222222222222222,
              "#7201a8"
             ],
             [
              0.3333333333333333,
              "#9c179e"
             ],
             [
              0.4444444444444444,
              "#bd3786"
             ],
             [
              0.5555555555555556,
              "#d8576b"
             ],
             [
              0.6666666666666666,
              "#ed7953"
             ],
             [
              0.7777777777777778,
              "#fb9f3a"
             ],
             [
              0.8888888888888888,
              "#fdca26"
             ],
             [
              1,
              "#f0f921"
             ]
            ],
            "type": "surface"
           }
          ],
          "table": [
           {
            "cells": {
             "fill": {
              "color": "#EBF0F8"
             },
             "line": {
              "color": "white"
             }
            },
            "header": {
             "fill": {
              "color": "#C8D4E3"
             },
             "line": {
              "color": "white"
             }
            },
            "type": "table"
           }
          ]
         },
         "layout": {
          "annotationdefaults": {
           "arrowcolor": "#2a3f5f",
           "arrowhead": 0,
           "arrowwidth": 1
          },
          "autotypenumbers": "strict",
          "coloraxis": {
           "colorbar": {
            "outlinewidth": 0,
            "ticks": ""
           }
          },
          "colorscale": {
           "diverging": [
            [
             0,
             "#8e0152"
            ],
            [
             0.1,
             "#c51b7d"
            ],
            [
             0.2,
             "#de77ae"
            ],
            [
             0.3,
             "#f1b6da"
            ],
            [
             0.4,
             "#fde0ef"
            ],
            [
             0.5,
             "#f7f7f7"
            ],
            [
             0.6,
             "#e6f5d0"
            ],
            [
             0.7,
             "#b8e186"
            ],
            [
             0.8,
             "#7fbc41"
            ],
            [
             0.9,
             "#4d9221"
            ],
            [
             1,
             "#276419"
            ]
           ],
           "sequential": [
            [
             0,
             "#0d0887"
            ],
            [
             0.1111111111111111,
             "#46039f"
            ],
            [
             0.2222222222222222,
             "#7201a8"
            ],
            [
             0.3333333333333333,
             "#9c179e"
            ],
            [
             0.4444444444444444,
             "#bd3786"
            ],
            [
             0.5555555555555556,
             "#d8576b"
            ],
            [
             0.6666666666666666,
             "#ed7953"
            ],
            [
             0.7777777777777778,
             "#fb9f3a"
            ],
            [
             0.8888888888888888,
             "#fdca26"
            ],
            [
             1,
             "#f0f921"
            ]
           ],
           "sequentialminus": [
            [
             0,
             "#0d0887"
            ],
            [
             0.1111111111111111,
             "#46039f"
            ],
            [
             0.2222222222222222,
             "#7201a8"
            ],
            [
             0.3333333333333333,
             "#9c179e"
            ],
            [
             0.4444444444444444,
             "#bd3786"
            ],
            [
             0.5555555555555556,
             "#d8576b"
            ],
            [
             0.6666666666666666,
             "#ed7953"
            ],
            [
             0.7777777777777778,
             "#fb9f3a"
            ],
            [
             0.8888888888888888,
             "#fdca26"
            ],
            [
             1,
             "#f0f921"
            ]
           ]
          },
          "colorway": [
           "#636efa",
           "#EF553B",
           "#00cc96",
           "#ab63fa",
           "#FFA15A",
           "#19d3f3",
           "#FF6692",
           "#B6E880",
           "#FF97FF",
           "#FECB52"
          ],
          "font": {
           "color": "#2a3f5f"
          },
          "geo": {
           "bgcolor": "white",
           "lakecolor": "white",
           "landcolor": "#E5ECF6",
           "showlakes": true,
           "showland": true,
           "subunitcolor": "white"
          },
          "hoverlabel": {
           "align": "left"
          },
          "hovermode": "closest",
          "mapbox": {
           "style": "light"
          },
          "paper_bgcolor": "white",
          "plot_bgcolor": "#E5ECF6",
          "polar": {
           "angularaxis": {
            "gridcolor": "white",
            "linecolor": "white",
            "ticks": ""
           },
           "bgcolor": "#E5ECF6",
           "radialaxis": {
            "gridcolor": "white",
            "linecolor": "white",
            "ticks": ""
           }
          },
          "scene": {
           "xaxis": {
            "backgroundcolor": "#E5ECF6",
            "gridcolor": "white",
            "gridwidth": 2,
            "linecolor": "white",
            "showbackground": true,
            "ticks": "",
            "zerolinecolor": "white"
           },
           "yaxis": {
            "backgroundcolor": "#E5ECF6",
            "gridcolor": "white",
            "gridwidth": 2,
            "linecolor": "white",
            "showbackground": true,
            "ticks": "",
            "zerolinecolor": "white"
           },
           "zaxis": {
            "backgroundcolor": "#E5ECF6",
            "gridcolor": "white",
            "gridwidth": 2,
            "linecolor": "white",
            "showbackground": true,
            "ticks": "",
            "zerolinecolor": "white"
           }
          },
          "shapedefaults": {
           "line": {
            "color": "#2a3f5f"
           }
          },
          "ternary": {
           "aaxis": {
            "gridcolor": "white",
            "linecolor": "white",
            "ticks": ""
           },
           "baxis": {
            "gridcolor": "white",
            "linecolor": "white",
            "ticks": ""
           },
           "bgcolor": "#E5ECF6",
           "caxis": {
            "gridcolor": "white",
            "linecolor": "white",
            "ticks": ""
           }
          },
          "title": {
           "x": 0.05
          },
          "xaxis": {
           "automargin": true,
           "gridcolor": "white",
           "linecolor": "white",
           "ticks": "",
           "title": {
            "standoff": 15
           },
           "zerolinecolor": "white",
           "zerolinewidth": 2
          },
          "yaxis": {
           "automargin": true,
           "gridcolor": "white",
           "linecolor": "white",
           "ticks": "",
           "title": {
            "standoff": 15
           },
           "zerolinecolor": "white",
           "zerolinewidth": 2
          }
         }
        },
        "title": {
         "text": "Distribuição das idades"
        },
        "width": 600,
        "xaxis": {
         "anchor": "y",
         "autorange": true,
         "domain": [
          0,
          1
         ],
         "range": [
          17.5,
          70.5
         ],
         "title": {
          "text": "Age"
         },
         "type": "linear"
        },
        "yaxis": {
         "anchor": "x",
         "autorange": true,
         "domain": [
          0,
          1
         ],
         "range": [
          0,
          11.578947368421053
         ],
         "title": {
          "text": "count"
         }
        }
       }
      },
      "text/html": [
       "<div>                            <div id=\"f7038655-ad4d-4c36-97b3-cb37fb5948bd\" class=\"plotly-graph-div\" style=\"height:400px; width:600px;\"></div>            <script type=\"text/javascript\">                require([\"plotly\"], function(Plotly) {                    window.PLOTLYENV=window.PLOTLYENV || {};                                    if (document.getElementById(\"f7038655-ad4d-4c36-97b3-cb37fb5948bd\")) {                    Plotly.newPlot(                        \"f7038655-ad4d-4c36-97b3-cb37fb5948bd\",                        [{\"alignmentgroup\":\"True\",\"bingroup\":\"x\",\"hovertemplate\":\"Age=%{x}\\u003cbr\\u003ecount=%{y}\\u003cextra\\u003e\\u003c\\u002fextra\\u003e\",\"legendgroup\":\"\",\"marker\":{\"color\":\"#636efa\",\"pattern\":{\"shape\":\"\"}},\"name\":\"\",\"nbinsx\":60,\"offsetgroup\":\"\",\"orientation\":\"v\",\"showlegend\":false,\"x\":[19,21,20,23,31,22,35,23,64,30,67,35,58,24,37,22,35,20,52,35,35,25,46,31,54,29,45,35,40,23,60,21,53,18,49,21,42,30,36,20,65,24,48,31,49,24,50,27,29,31,49,33,31,59,50,47,51,69,27,53,70,19,67,54,63,18,43,68,19,32,70,47,60,60,59,26,45,40,23,49,57,38,67,46,21,48,55,22,34,50,68,18,48,40,32,24,47,27,48,20,23,49,67,26,49,21,66,54,68,66,65,19,38,19,18,19,63,49,51,50,27,38,40,39,23,31,43,40,59,38,47,39,25,31,20,29,44,32,19,35,57,32,28,32,25,28,48,32,34,34,43,39,44,38,47,27,37,30,34,30,56,29,19,31,50,36,42,33,36,32,40,28,36,36,52,30,58,27,59,35,37,32,46,29,41,30,54,28,41,36,34,32,33,38,47,35,45,32,32,30],\"xaxis\":\"x\",\"yaxis\":\"y\",\"type\":\"histogram\"}],                        {\"template\":{\"data\":{\"histogram2dcontour\":[{\"type\":\"histogram2dcontour\",\"colorbar\":{\"outlinewidth\":0,\"ticks\":\"\"},\"colorscale\":[[0.0,\"#0d0887\"],[0.1111111111111111,\"#46039f\"],[0.2222222222222222,\"#7201a8\"],[0.3333333333333333,\"#9c179e\"],[0.4444444444444444,\"#bd3786\"],[0.5555555555555556,\"#d8576b\"],[0.6666666666666666,\"#ed7953\"],[0.7777777777777778,\"#fb9f3a\"],[0.8888888888888888,\"#fdca26\"],[1.0,\"#f0f921\"]]}],\"choropleth\":[{\"type\":\"choropleth\",\"colorbar\":{\"outlinewidth\":0,\"ticks\":\"\"}}],\"histogram2d\":[{\"type\":\"histogram2d\",\"colorbar\":{\"outlinewidth\":0,\"ticks\":\"\"},\"colorscale\":[[0.0,\"#0d0887\"],[0.1111111111111111,\"#46039f\"],[0.2222222222222222,\"#7201a8\"],[0.3333333333333333,\"#9c179e\"],[0.4444444444444444,\"#bd3786\"],[0.5555555555555556,\"#d8576b\"],[0.6666666666666666,\"#ed7953\"],[0.7777777777777778,\"#fb9f3a\"],[0.8888888888888888,\"#fdca26\"],[1.0,\"#f0f921\"]]}],\"heatmap\":[{\"type\":\"heatmap\",\"colorbar\":{\"outlinewidth\":0,\"ticks\":\"\"},\"colorscale\":[[0.0,\"#0d0887\"],[0.1111111111111111,\"#46039f\"],[0.2222222222222222,\"#7201a8\"],[0.3333333333333333,\"#9c179e\"],[0.4444444444444444,\"#bd3786\"],[0.5555555555555556,\"#d8576b\"],[0.6666666666666666,\"#ed7953\"],[0.7777777777777778,\"#fb9f3a\"],[0.8888888888888888,\"#fdca26\"],[1.0,\"#f0f921\"]]}],\"heatmapgl\":[{\"type\":\"heatmapgl\",\"colorbar\":{\"outlinewidth\":0,\"ticks\":\"\"},\"colorscale\":[[0.0,\"#0d0887\"],[0.1111111111111111,\"#46039f\"],[0.2222222222222222,\"#7201a8\"],[0.3333333333333333,\"#9c179e\"],[0.4444444444444444,\"#bd3786\"],[0.5555555555555556,\"#d8576b\"],[0.6666666666666666,\"#ed7953\"],[0.7777777777777778,\"#fb9f3a\"],[0.8888888888888888,\"#fdca26\"],[1.0,\"#f0f921\"]]}],\"contourcarpet\":[{\"type\":\"contourcarpet\",\"colorbar\":{\"outlinewidth\":0,\"ticks\":\"\"}}],\"contour\":[{\"type\":\"contour\",\"colorbar\":{\"outlinewidth\":0,\"ticks\":\"\"},\"colorscale\":[[0.0,\"#0d0887\"],[0.1111111111111111,\"#46039f\"],[0.2222222222222222,\"#7201a8\"],[0.3333333333333333,\"#9c179e\"],[0.4444444444444444,\"#bd3786\"],[0.5555555555555556,\"#d8576b\"],[0.6666666666666666,\"#ed7953\"],[0.7777777777777778,\"#fb9f3a\"],[0.8888888888888888,\"#fdca26\"],[1.0,\"#f0f921\"]]}],\"surface\":[{\"type\":\"surface\",\"colorbar\":{\"outlinewidth\":0,\"ticks\":\"\"},\"colorscale\":[[0.0,\"#0d0887\"],[0.1111111111111111,\"#46039f\"],[0.2222222222222222,\"#7201a8\"],[0.3333333333333333,\"#9c179e\"],[0.4444444444444444,\"#bd3786\"],[0.5555555555555556,\"#d8576b\"],[0.6666666666666666,\"#ed7953\"],[0.7777777777777778,\"#fb9f3a\"],[0.8888888888888888,\"#fdca26\"],[1.0,\"#f0f921\"]]}],\"mesh3d\":[{\"type\":\"mesh3d\",\"colorbar\":{\"outlinewidth\":0,\"ticks\":\"\"}}],\"scatter\":[{\"fillpattern\":{\"fillmode\":\"overlay\",\"size\":10,\"solidity\":0.2},\"type\":\"scatter\"}],\"parcoords\":[{\"type\":\"parcoords\",\"line\":{\"colorbar\":{\"outlinewidth\":0,\"ticks\":\"\"}}}],\"scatterpolargl\":[{\"type\":\"scatterpolargl\",\"marker\":{\"colorbar\":{\"outlinewidth\":0,\"ticks\":\"\"}}}],\"bar\":[{\"error_x\":{\"color\":\"#2a3f5f\"},\"error_y\":{\"color\":\"#2a3f5f\"},\"marker\":{\"line\":{\"color\":\"#E5ECF6\",\"width\":0.5},\"pattern\":{\"fillmode\":\"overlay\",\"size\":10,\"solidity\":0.2}},\"type\":\"bar\"}],\"scattergeo\":[{\"type\":\"scattergeo\",\"marker\":{\"colorbar\":{\"outlinewidth\":0,\"ticks\":\"\"}}}],\"scatterpolar\":[{\"type\":\"scatterpolar\",\"marker\":{\"colorbar\":{\"outlinewidth\":0,\"ticks\":\"\"}}}],\"histogram\":[{\"marker\":{\"pattern\":{\"fillmode\":\"overlay\",\"size\":10,\"solidity\":0.2}},\"type\":\"histogram\"}],\"scattergl\":[{\"type\":\"scattergl\",\"marker\":{\"colorbar\":{\"outlinewidth\":0,\"ticks\":\"\"}}}],\"scatter3d\":[{\"type\":\"scatter3d\",\"line\":{\"colorbar\":{\"outlinewidth\":0,\"ticks\":\"\"}},\"marker\":{\"colorbar\":{\"outlinewidth\":0,\"ticks\":\"\"}}}],\"scattermapbox\":[{\"type\":\"scattermapbox\",\"marker\":{\"colorbar\":{\"outlinewidth\":0,\"ticks\":\"\"}}}],\"scatterternary\":[{\"type\":\"scatterternary\",\"marker\":{\"colorbar\":{\"outlinewidth\":0,\"ticks\":\"\"}}}],\"scattercarpet\":[{\"type\":\"scattercarpet\",\"marker\":{\"colorbar\":{\"outlinewidth\":0,\"ticks\":\"\"}}}],\"carpet\":[{\"aaxis\":{\"endlinecolor\":\"#2a3f5f\",\"gridcolor\":\"white\",\"linecolor\":\"white\",\"minorgridcolor\":\"white\",\"startlinecolor\":\"#2a3f5f\"},\"baxis\":{\"endlinecolor\":\"#2a3f5f\",\"gridcolor\":\"white\",\"linecolor\":\"white\",\"minorgridcolor\":\"white\",\"startlinecolor\":\"#2a3f5f\"},\"type\":\"carpet\"}],\"table\":[{\"cells\":{\"fill\":{\"color\":\"#EBF0F8\"},\"line\":{\"color\":\"white\"}},\"header\":{\"fill\":{\"color\":\"#C8D4E3\"},\"line\":{\"color\":\"white\"}},\"type\":\"table\"}],\"barpolar\":[{\"marker\":{\"line\":{\"color\":\"#E5ECF6\",\"width\":0.5},\"pattern\":{\"fillmode\":\"overlay\",\"size\":10,\"solidity\":0.2}},\"type\":\"barpolar\"}],\"pie\":[{\"automargin\":true,\"type\":\"pie\"}]},\"layout\":{\"autotypenumbers\":\"strict\",\"colorway\":[\"#636efa\",\"#EF553B\",\"#00cc96\",\"#ab63fa\",\"#FFA15A\",\"#19d3f3\",\"#FF6692\",\"#B6E880\",\"#FF97FF\",\"#FECB52\"],\"font\":{\"color\":\"#2a3f5f\"},\"hovermode\":\"closest\",\"hoverlabel\":{\"align\":\"left\"},\"paper_bgcolor\":\"white\",\"plot_bgcolor\":\"#E5ECF6\",\"polar\":{\"bgcolor\":\"#E5ECF6\",\"angularaxis\":{\"gridcolor\":\"white\",\"linecolor\":\"white\",\"ticks\":\"\"},\"radialaxis\":{\"gridcolor\":\"white\",\"linecolor\":\"white\",\"ticks\":\"\"}},\"ternary\":{\"bgcolor\":\"#E5ECF6\",\"aaxis\":{\"gridcolor\":\"white\",\"linecolor\":\"white\",\"ticks\":\"\"},\"baxis\":{\"gridcolor\":\"white\",\"linecolor\":\"white\",\"ticks\":\"\"},\"caxis\":{\"gridcolor\":\"white\",\"linecolor\":\"white\",\"ticks\":\"\"}},\"coloraxis\":{\"colorbar\":{\"outlinewidth\":0,\"ticks\":\"\"}},\"colorscale\":{\"sequential\":[[0.0,\"#0d0887\"],[0.1111111111111111,\"#46039f\"],[0.2222222222222222,\"#7201a8\"],[0.3333333333333333,\"#9c179e\"],[0.4444444444444444,\"#bd3786\"],[0.5555555555555556,\"#d8576b\"],[0.6666666666666666,\"#ed7953\"],[0.7777777777777778,\"#fb9f3a\"],[0.8888888888888888,\"#fdca26\"],[1.0,\"#f0f921\"]],\"sequentialminus\":[[0.0,\"#0d0887\"],[0.1111111111111111,\"#46039f\"],[0.2222222222222222,\"#7201a8\"],[0.3333333333333333,\"#9c179e\"],[0.4444444444444444,\"#bd3786\"],[0.5555555555555556,\"#d8576b\"],[0.6666666666666666,\"#ed7953\"],[0.7777777777777778,\"#fb9f3a\"],[0.8888888888888888,\"#fdca26\"],[1.0,\"#f0f921\"]],\"diverging\":[[0,\"#8e0152\"],[0.1,\"#c51b7d\"],[0.2,\"#de77ae\"],[0.3,\"#f1b6da\"],[0.4,\"#fde0ef\"],[0.5,\"#f7f7f7\"],[0.6,\"#e6f5d0\"],[0.7,\"#b8e186\"],[0.8,\"#7fbc41\"],[0.9,\"#4d9221\"],[1,\"#276419\"]]},\"xaxis\":{\"gridcolor\":\"white\",\"linecolor\":\"white\",\"ticks\":\"\",\"title\":{\"standoff\":15},\"zerolinecolor\":\"white\",\"automargin\":true,\"zerolinewidth\":2},\"yaxis\":{\"gridcolor\":\"white\",\"linecolor\":\"white\",\"ticks\":\"\",\"title\":{\"standoff\":15},\"zerolinecolor\":\"white\",\"automargin\":true,\"zerolinewidth\":2},\"scene\":{\"xaxis\":{\"backgroundcolor\":\"#E5ECF6\",\"gridcolor\":\"white\",\"linecolor\":\"white\",\"showbackground\":true,\"ticks\":\"\",\"zerolinecolor\":\"white\",\"gridwidth\":2},\"yaxis\":{\"backgroundcolor\":\"#E5ECF6\",\"gridcolor\":\"white\",\"linecolor\":\"white\",\"showbackground\":true,\"ticks\":\"\",\"zerolinecolor\":\"white\",\"gridwidth\":2},\"zaxis\":{\"backgroundcolor\":\"#E5ECF6\",\"gridcolor\":\"white\",\"linecolor\":\"white\",\"showbackground\":true,\"ticks\":\"\",\"zerolinecolor\":\"white\",\"gridwidth\":2}},\"shapedefaults\":{\"line\":{\"color\":\"#2a3f5f\"}},\"annotationdefaults\":{\"arrowcolor\":\"#2a3f5f\",\"arrowhead\":0,\"arrowwidth\":1},\"geo\":{\"bgcolor\":\"white\",\"landcolor\":\"#E5ECF6\",\"subunitcolor\":\"white\",\"showland\":true,\"showlakes\":true,\"lakecolor\":\"white\"},\"title\":{\"x\":0.05},\"mapbox\":{\"style\":\"light\"}}},\"xaxis\":{\"anchor\":\"y\",\"domain\":[0.0,1.0],\"title\":{\"text\":\"Age\"}},\"yaxis\":{\"anchor\":\"x\",\"domain\":[0.0,1.0],\"title\":{\"text\":\"count\"}},\"legend\":{\"tracegroupgap\":0},\"margin\":{\"t\":60},\"barmode\":\"relative\",\"title\":{\"text\":\"Distribui\\u00e7\\u00e3o das idades\"},\"width\":600,\"height\":400},                        {\"responsive\": true}                    ).then(function(){\n",
       "                            \n",
       "var gd = document.getElementById('f7038655-ad4d-4c36-97b3-cb37fb5948bd');\n",
       "var x = new MutationObserver(function (mutations, observer) {{\n",
       "        var display = window.getComputedStyle(gd).display;\n",
       "        if (!display || display === 'none') {{\n",
       "            console.log([gd, 'removed!']);\n",
       "            Plotly.purge(gd);\n",
       "            observer.disconnect();\n",
       "        }}\n",
       "}});\n",
       "\n",
       "// Listen for the removal of the full notebook cells\n",
       "var notebookContainer = gd.closest('#notebook-container');\n",
       "if (notebookContainer) {{\n",
       "    x.observe(notebookContainer, {childList: true});\n",
       "}}\n",
       "\n",
       "// Listen for the clearing of the current output cell\n",
       "var outputEl = gd.closest('.output');\n",
       "if (outputEl) {{\n",
       "    x.observe(outputEl, {childList: true});\n",
       "}}\n",
       "\n",
       "                        })                };                });            </script>        </div>"
      ]
     },
     "metadata": {},
     "output_type": "display_data"
    }
   ],
   "source": [
    "hist =  px.histogram (df,  x = \"Age\", nbins=60)\n",
    "hist.update_layout(width=600,height=400,title_text='Distribuição das idades')\n",
    "hist.show()"
   ]
  },
  {
   "cell_type": "markdown",
   "metadata": {
    "id": "R7GluwRFqF8Z"
   },
   "source": [
    "**GÊNERO**"
   ]
  },
  {
   "cell_type": "code",
   "execution_count": 110,
   "metadata": {
    "colab": {
     "base_uri": "https://localhost:8080/"
    },
    "id": "UtjcZPmVSxGp",
    "outputId": "a3dc1696-d2e8-4e5a-b957-fdd61031f438"
   },
   "outputs": [
    {
     "data": {
      "text/plain": [
       "Genre\n",
       "Female    112\n",
       "Male       88\n",
       "Name: count, dtype: int64"
      ]
     },
     "execution_count": 110,
     "metadata": {},
     "output_type": "execute_result"
    }
   ],
   "source": [
    "df['Genre'].value_counts()"
   ]
  },
  {
   "cell_type": "code",
   "execution_count": 111,
   "metadata": {
    "colab": {
     "base_uri": "https://localhost:8080/"
    },
    "id": "Kc_Hld2xSUcl",
    "outputId": "4ee458ba-ffc7-4865-ebbd-68fd6b24f246"
   },
   "outputs": [
    {
     "data": {
      "text/plain": [
       "Spending Score (1-100)\n",
       "42    8\n",
       "55    7\n",
       "46    6\n",
       "73    6\n",
       "35    5\n",
       "     ..\n",
       "31    1\n",
       "44    1\n",
       "53    1\n",
       "65    1\n",
       "18    1\n",
       "Name: count, Length: 84, dtype: int64"
      ]
     },
     "execution_count": 111,
     "metadata": {},
     "output_type": "execute_result"
    }
   ],
   "source": [
    "df['Spending Score (1-100)'].value_counts()"
   ]
  },
  {
   "cell_type": "code",
   "execution_count": 112,
   "metadata": {
    "id": "XV1LBh7GhTFP"
   },
   "outputs": [],
   "source": [
    "import seaborn as sns"
   ]
  },
  {
   "cell_type": "code",
   "execution_count": 113,
   "metadata": {
    "colab": {
     "base_uri": "https://localhost:8080/",
     "height": 279
    },
    "id": "iwjvbQgSTYwl",
    "outputId": "e833d5b6-107a-43f2-eeab-5886c9d3aab4"
   },
   "outputs": [
    {
     "data": {
      "image/png": "[encoded data removed]",
      "text/plain": [
       "<Figure size 640x480 with 1 Axes>"
      ]
     },
     "metadata": {},
     "output_type": "display_data"
    }
   ],
   "source": [
    "sns.countplot(x='Genre', data=df);"
   ]
  },
  {
   "cell_type": "code",
   "execution_count": 114,
   "metadata": {
    "colab": {
     "base_uri": "https://localhost:8080/"
    },
    "id": "-pOctrVgQWpa",
    "outputId": "e0fa8925-81dc-40e1-8eea-1545f4243d86"
   },
   "outputs": [
    {
     "data": {
      "text/plain": [
       "(200, 5)"
      ]
     },
     "execution_count": 114,
     "metadata": {},
     "output_type": "execute_result"
    }
   ],
   "source": [
    "df.shape"
   ]
  },
  {
   "cell_type": "markdown",
   "metadata": {
    "id": "HxaCUHTyTqsg",
    "jp-MarkdownHeadingCollapsed": true
   },
   "source": [
    "## **EXPLORAÇÃO E TRATAMENTO DOS DADOS**"
   ]
  },
  {
   "cell_type": "markdown",
   "metadata": {
    "id": "7QcMlMMAamjI"
   },
   "source": [
    "**Alterando nomes das colunas**"
   ]
  },
  {
   "cell_type": "code",
   "execution_count": 115,
   "metadata": {
    "colab": {
     "base_uri": "https://localhost:8080/",
     "height": 112
    },
    "id": "XpEqSI9ZZjb8",
    "outputId": "f8cbb50a-1b9d-47ea-9492-b795b93a0272"
   },
   "outputs": [
    {
     "data": {
      "text/html": [
       "<div>\n",
       "<style scoped>\n",
       "    .dataframe tbody tr th:only-of-type {\n",
       "        vertical-align: middle;\n",
       "    }\n",
       "\n",
       "    .dataframe tbody tr th {\n",
       "        vertical-align: top;\n",
       "    }\n",
       "\n",
       "    .dataframe thead th {\n",
       "        text-align: right;\n",
       "    }\n",
       "</style>\n",
       "<table border=\"1\" class=\"dataframe\">\n",
       "  <thead>\n",
       "    <tr style=\"text-align: right;\">\n",
       "      <th></th>\n",
       "      <th>CustomerID</th>\n",
       "      <th>Genre</th>\n",
       "      <th>Age</th>\n",
       "      <th>Annual Income (k$)</th>\n",
       "      <th>Spending Score (1-100)</th>\n",
       "    </tr>\n",
       "  </thead>\n",
       "  <tbody>\n",
       "    <tr>\n",
       "      <th>0</th>\n",
       "      <td>1</td>\n",
       "      <td>Male</td>\n",
       "      <td>19</td>\n",
       "      <td>15</td>\n",
       "      <td>39</td>\n",
       "    </tr>\n",
       "    <tr>\n",
       "      <th>1</th>\n",
       "      <td>2</td>\n",
       "      <td>Male</td>\n",
       "      <td>21</td>\n",
       "      <td>15</td>\n",
       "      <td>81</td>\n",
       "    </tr>\n",
       "  </tbody>\n",
       "</table>\n",
       "</div>"
      ],
      "text/plain": [
       "   CustomerID Genre  Age  Annual Income (k$)  Spending Score (1-100)\n",
       "0           1  Male   19                  15                      39\n",
       "1           2  Male   21                  15                      81"
      ]
     },
     "execution_count": 115,
     "metadata": {},
     "output_type": "execute_result"
    }
   ],
   "source": [
    "df.head(2)"
   ]
  },
  {
   "cell_type": "code",
   "execution_count": 116,
   "metadata": {
    "id": "rLJ1sjR15Pil"
   },
   "outputs": [],
   "source": [
    "df.rename(columns={'CustomerID': 'identificacao'}, inplace=True)"
   ]
  },
  {
   "cell_type": "code",
   "execution_count": 117,
   "metadata": {
    "id": "BRVHHLSHZ7dc"
   },
   "outputs": [],
   "source": [
    "df.rename(columns={'Genre': 'genero'}, inplace=True)\n",
    "df.rename(columns={'Age': 'idade'}, inplace=True)"
   ]
  },
  {
   "cell_type": "code",
   "execution_count": 118,
   "metadata": {
    "id": "L751EFou5y2H"
   },
   "outputs": [],
   "source": [
    "df.rename(columns={'Annual Income (k$)': 'rendimento','Spending Score (1-100)':'pontuacao'}, inplace=True)"
   ]
  },
  {
   "cell_type": "code",
   "execution_count": 119,
   "metadata": {
    "colab": {
     "base_uri": "https://localhost:8080/"
    },
    "id": "5P6OcnfdFpg4",
    "outputId": "9ea82ddf-60b4-4bae-ac8d-4dd399bed391"
   },
   "outputs": [
    {
     "data": {
      "text/html": [
       "<div>\n",
       "<style scoped>\n",
       "    .dataframe tbody tr th:only-of-type {\n",
       "        vertical-align: middle;\n",
       "    }\n",
       "\n",
       "    .dataframe tbody tr th {\n",
       "        vertical-align: top;\n",
       "    }\n",
       "\n",
       "    .dataframe thead th {\n",
       "        text-align: right;\n",
       "    }\n",
       "</style>\n",
       "<table border=\"1\" class=\"dataframe\">\n",
       "  <thead>\n",
       "    <tr style=\"text-align: right;\">\n",
       "      <th></th>\n",
       "      <th>identificacao</th>\n",
       "      <th>genero</th>\n",
       "      <th>idade</th>\n",
       "      <th>rendimento</th>\n",
       "      <th>pontuacao</th>\n",
       "    </tr>\n",
       "  </thead>\n",
       "  <tbody>\n",
       "    <tr>\n",
       "      <th>0</th>\n",
       "      <td>1</td>\n",
       "      <td>Male</td>\n",
       "      <td>19</td>\n",
       "      <td>15</td>\n",
       "      <td>39</td>\n",
       "    </tr>\n",
       "    <tr>\n",
       "      <th>1</th>\n",
       "      <td>2</td>\n",
       "      <td>Male</td>\n",
       "      <td>21</td>\n",
       "      <td>15</td>\n",
       "      <td>81</td>\n",
       "    </tr>\n",
       "    <tr>\n",
       "      <th>2</th>\n",
       "      <td>3</td>\n",
       "      <td>Female</td>\n",
       "      <td>20</td>\n",
       "      <td>16</td>\n",
       "      <td>6</td>\n",
       "    </tr>\n",
       "  </tbody>\n",
       "</table>\n",
       "</div>"
      ],
      "text/plain": [
       "   identificacao  genero  idade  rendimento  pontuacao\n",
       "0              1    Male     19          15         39\n",
       "1              2    Male     21          15         81\n",
       "2              3  Female     20          16          6"
      ]
     },
     "execution_count": 119,
     "metadata": {},
     "output_type": "execute_result"
    }
   ],
   "source": [
    "df.head(3)"
   ]
  },
  {
   "cell_type": "markdown",
   "metadata": {
    "id": "3lk5kf4eZ_sL"
   },
   "source": [
    "**Valores Missing (NAN)**"
   ]
  },
  {
   "cell_type": "code",
   "execution_count": 120,
   "metadata": {
    "colab": {
     "base_uri": "https://localhost:8080/"
    },
    "id": "A24U7d5QYPaV",
    "outputId": "0b290cf5-81a1-42b6-b34c-2a162e1c7e80"
   },
   "outputs": [
    {
     "data": {
      "text/plain": [
       "identificacao    0\n",
       "genero           0\n",
       "idade            0\n",
       "rendimento       0\n",
       "pontuacao        0\n",
       "dtype: int64"
      ]
     },
     "execution_count": 120,
     "metadata": {},
     "output_type": "execute_result"
    }
   ],
   "source": [
    "# RELAÇÃO DA QUANTIDADE\n",
    "df.isnull().sum()"
   ]
  },
  {
   "cell_type": "markdown",
   "metadata": {
    "id": "Q_4_5j4Vlz2j"
   },
   "source": [
    "**Análise dos tipos de atributos.**"
   ]
  },
  {
   "cell_type": "code",
   "execution_count": 121,
   "metadata": {
    "colab": {
     "base_uri": "https://localhost:8080/"
    },
    "id": "wopAqivQXpqI",
    "outputId": "a63aa3ee-5185-4316-acc8-efdc94a9e93f"
   },
   "outputs": [
    {
     "data": {
      "text/plain": [
       "identificacao     int64\n",
       "genero           object\n",
       "idade             int64\n",
       "rendimento        int64\n",
       "pontuacao         int64\n",
       "dtype: object"
      ]
     },
     "execution_count": 121,
     "metadata": {},
     "output_type": "execute_result"
    }
   ],
   "source": [
    "# object: strings\n",
    "# int64: inteiros\n",
    "# float64: reais\n",
    "# complex: complexos\n",
    "df.dtypes"
   ]
  },
  {
   "cell_type": "markdown",
   "metadata": {
    "id": "GmQ0oYyVTYOv"
   },
   "source": [
    "**Dados Estatísticos**"
   ]
  },
  {
   "cell_type": "code",
   "execution_count": 122,
   "metadata": {
    "colab": {
     "base_uri": "https://localhost:8080/",
     "height": 300
    },
    "id": "BE2XqrzRS8Zo",
    "outputId": "b1016cf2-7583-4d70-9359-d3e81d911331"
   },
   "outputs": [
    {
     "data": {
      "text/html": [
       "<div>\n",
       "<style scoped>\n",
       "    .dataframe tbody tr th:only-of-type {\n",
       "        vertical-align: middle;\n",
       "    }\n",
       "\n",
       "    .dataframe tbody tr th {\n",
       "        vertical-align: top;\n",
       "    }\n",
       "\n",
       "    .dataframe thead th {\n",
       "        text-align: right;\n",
       "    }\n",
       "</style>\n",
       "<table border=\"1\" class=\"dataframe\">\n",
       "  <thead>\n",
       "    <tr style=\"text-align: right;\">\n",
       "      <th></th>\n",
       "      <th>identificacao</th>\n",
       "      <th>idade</th>\n",
       "      <th>rendimento</th>\n",
       "      <th>pontuacao</th>\n",
       "    </tr>\n",
       "  </thead>\n",
       "  <tbody>\n",
       "    <tr>\n",
       "      <th>count</th>\n",
       "      <td>200.000000</td>\n",
       "      <td>200.000000</td>\n",
       "      <td>200.000000</td>\n",
       "      <td>200.000000</td>\n",
       "    </tr>\n",
       "    <tr>\n",
       "      <th>mean</th>\n",
       "      <td>100.500000</td>\n",
       "      <td>38.850000</td>\n",
       "      <td>60.560000</td>\n",
       "      <td>50.200000</td>\n",
       "    </tr>\n",
       "    <tr>\n",
       "      <th>std</th>\n",
       "      <td>57.879185</td>\n",
       "      <td>13.969007</td>\n",
       "      <td>26.264721</td>\n",
       "      <td>25.823522</td>\n",
       "    </tr>\n",
       "    <tr>\n",
       "      <th>min</th>\n",
       "      <td>1.000000</td>\n",
       "      <td>18.000000</td>\n",
       "      <td>15.000000</td>\n",
       "      <td>1.000000</td>\n",
       "    </tr>\n",
       "    <tr>\n",
       "      <th>25%</th>\n",
       "      <td>50.750000</td>\n",
       "      <td>28.750000</td>\n",
       "      <td>41.500000</td>\n",
       "      <td>34.750000</td>\n",
       "    </tr>\n",
       "    <tr>\n",
       "      <th>50%</th>\n",
       "      <td>100.500000</td>\n",
       "      <td>36.000000</td>\n",
       "      <td>61.500000</td>\n",
       "      <td>50.000000</td>\n",
       "    </tr>\n",
       "    <tr>\n",
       "      <th>75%</th>\n",
       "      <td>150.250000</td>\n",
       "      <td>49.000000</td>\n",
       "      <td>78.000000</td>\n",
       "      <td>73.000000</td>\n",
       "    </tr>\n",
       "    <tr>\n",
       "      <th>max</th>\n",
       "      <td>200.000000</td>\n",
       "      <td>70.000000</td>\n",
       "      <td>137.000000</td>\n",
       "      <td>99.000000</td>\n",
       "    </tr>\n",
       "  </tbody>\n",
       "</table>\n",
       "</div>"
      ],
      "text/plain": [
       "       identificacao       idade  rendimento   pontuacao\n",
       "count     200.000000  200.000000  200.000000  200.000000\n",
       "mean      100.500000   38.850000   60.560000   50.200000\n",
       "std        57.879185   13.969007   26.264721   25.823522\n",
       "min         1.000000   18.000000   15.000000    1.000000\n",
       "25%        50.750000   28.750000   41.500000   34.750000\n",
       "50%       100.500000   36.000000   61.500000   50.000000\n",
       "75%       150.250000   49.000000   78.000000   73.000000\n",
       "max       200.000000   70.000000  137.000000   99.000000"
      ]
     },
     "execution_count": 122,
     "metadata": {},
     "output_type": "execute_result"
    }
   ],
   "source": [
    "df.describe()"
   ]
  },
  {
   "cell_type": "markdown",
   "metadata": {
    "id": "BjC9JIo5jJ79"
   },
   "source": [
    "**Análise dos outliers**"
   ]
  },
  {
   "cell_type": "code",
   "execution_count": 123,
   "metadata": {
    "id": "9pBh8XgzjJOX"
   },
   "outputs": [],
   "source": [
    "import plotly.express as px"
   ]
  },
  {
   "cell_type": "code",
   "execution_count": 124,
   "metadata": {
    "colab": {
     "base_uri": "https://localhost:8080/",
     "height": 542
    },
    "id": "R3RYMYZ0jQgO",
    "outputId": "b42d2e34-261f-4f81-9e36-f30804b28b42"
   },
   "outputs": [
    {
     "data": {
      "application/vnd.plotly.v1+json": {
       "config": {
        "plotlyServerURL": "https://plot.ly"
       },
       "data": [
        {
         "alignmentgroup": "True",
         "hovertemplate": "rendimento=%{y}<extra></extra>",
         "legendgroup": "",
         "marker": {
          "color": "#636efa"
         },
         "name": "",
         "notched": false,
         "offsetgroup": "",
         "orientation": "v",
         "showlegend": false,
         "type": "box",
         "x0": " ",
         "xaxis": "x",
         "y": [
          15,
          15,
          16,
          16,
          17,
          17,
          18,
          18,
          19,
          19,
          19,
          19,
          20,
          20,
          20,
          20,
          21,
          21,
          23,
          23,
          24,
          24,
          25,
          25,
          28,
          28,
          28,
          28,
          29,
          29,
          30,
          30,
          33,
          33,
          33,
          33,
          34,
          34,
          37,
          37,
          38,
          38,
          39,
          39,
          39,
          39,
          40,
          40,
          40,
          40,
          42,
          42,
          43,
          43,
          43,
          43,
          44,
          44,
          46,
          46,
          46,
          46,
          47,
          47,
          48,
          48,
          48,
          48,
          48,
          48,
          49,
          49,
          50,
          50,
          54,
          54,
          54,
          54,
          54,
          54,
          54,
          54,
          54,
          54,
          54,
          54,
          57,
          57,
          58,
          58,
          59,
          59,
          60,
          60,
          60,
          60,
          60,
          60,
          61,
          61,
          62,
          62,
          62,
          62,
          62,
          62,
          63,
          63,
          63,
          63,
          63,
          63,
          64,
          64,
          65,
          65,
          65,
          65,
          67,
          67,
          67,
          67,
          69,
          69,
          70,
          70,
          71,
          71,
          71,
          71,
          71,
          71,
          72,
          72,
          73,
          73,
          73,
          73,
          74,
          74,
          75,
          75,
          76,
          76,
          77,
          77,
          77,
          77,
          78,
          78,
          78,
          78,
          78,
          78,
          78,
          78,
          78,
          78,
          78,
          78,
          79,
          79,
          81,
          81,
          85,
          85,
          86,
          86,
          87,
          87,
          87,
          87,
          87,
          87,
          88,
          88,
          88,
          88,
          93,
          93,
          97,
          97,
          98,
          98,
          99,
          99,
          101,
          101,
          103,
          103,
          103,
          103,
          113,
          113,
          120,
          120,
          126,
          126,
          137,
          137
         ],
         "y0": " ",
         "yaxis": "y"
        }
       ],
       "layout": {
        "boxmode": "group",
        "height": 360,
        "legend": {
         "tracegroupgap": 0
        },
        "margin": {
         "t": 60
        },
        "template": {
         "data": {
          "bar": [
           {
            "error_x": {
             "color": "#2a3f5f"
            },
            "error_y": {
             "color": "#2a3f5f"
            },
            "marker": {
             "line": {
              "color": "#E5ECF6",
              "width": 0.5
             },
             "pattern": {
              "fillmode": "overlay",
              "size": 10,
              "solidity": 0.2
             }
            },
            "type": "bar"
           }
          ],
          "barpolar": [
           {
            "marker": {
             "line": {
              "color": "#E5ECF6",
              "width": 0.5
             },
             "pattern": {
              "fillmode": "overlay",
              "size": 10,
              "solidity": 0.2
             }
            },
            "type": "barpolar"
           }
          ],
          "carpet": [
           {
            "aaxis": {
             "endlinecolor": "#2a3f5f",
             "gridcolor": "white",
             "linecolor": "white",
             "minorgridcolor": "white",
             "startlinecolor": "#2a3f5f"
            },
            "baxis": {
             "endlinecolor": "#2a3f5f",
             "gridcolor": "white",
             "linecolor": "white",
             "minorgridcolor": "white",
             "startlinecolor": "#2a3f5f"
            },
            "type": "carpet"
           }
          ],
          "choropleth": [
           {
            "colorbar": {
             "outlinewidth": 0,
             "ticks": ""
            },
            "type": "choropleth"
           }
          ],
          "contour": [
           {
            "colorbar": {
             "outlinewidth": 0,
             "ticks": ""
            },
            "colorscale": [
             [
              0,
              "#0d0887"
             ],
             [
              0.1111111111111111,
              "#46039f"
             ],
             [
              0.2222222222222222,
              "#7201a8"
             ],
             [
              0.3333333333333333,
              "#9c179e"
             ],
             [
              0.4444444444444444,
              "#bd3786"
             ],
             [
              0.5555555555555556,
              "#d8576b"
             ],
             [
              0.6666666666666666,
              "#ed7953"
             ],
             [
              0.7777777777777778,
              "#fb9f3a"
             ],
             [
              0.8888888888888888,
              "#fdca26"
             ],
             [
              1,
              "#f0f921"
             ]
            ],
            "type": "contour"
           }
          ],
          "contourcarpet": [
           {
            "colorbar": {
             "outlinewidth": 0,
             "ticks": ""
            },
            "type": "contourcarpet"
           }
          ],
          "heatmap": [
           {
            "colorbar": {
             "outlinewidth": 0,
             "ticks": ""
            },
            "colorscale": [
             [
              0,
              "#0d0887"
             ],
             [
              0.1111111111111111,
              "#46039f"
             ],
             [
              0.2222222222222222,
              "#7201a8"
             ],
             [
              0.3333333333333333,
              "#9c179e"
             ],
             [
              0.4444444444444444,
              "#bd3786"
             ],
             [
              0.5555555555555556,
              "#d8576b"
             ],
             [
              0.6666666666666666,
              "#ed7953"
             ],
             [
              0.7777777777777778,
              "#fb9f3a"
             ],
             [
              0.8888888888888888,
              "#fdca26"
             ],
             [
              1,
              "#f0f921"
             ]
            ],
            "type": "heatmap"
           }
          ],
          "heatmapgl": [
           {
            "colorbar": {
             "outlinewidth": 0,
             "ticks": ""
            },
            "colorscale": [
             [
              0,
              "#0d0887"
             ],
             [
              0.1111111111111111,
              "#46039f"
             ],
             [
              0.2222222222222222,
              "#7201a8"
             ],
             [
              0.3333333333333333,
              "#9c179e"
             ],
             [
              0.4444444444444444,
              "#bd3786"
             ],
             [
              0.5555555555555556,
              "#d8576b"
             ],
             [
              0.6666666666666666,
              "#ed7953"
             ],
             [
              0.7777777777777778,
              "#fb9f3a"
             ],
             [
              0.8888888888888888,
              "#fdca26"
             ],
             [
              1,
              "#f0f921"
             ]
            ],
            "type": "heatmapgl"
           }
          ],
          "histogram": [
           {
            "marker": {
             "pattern": {
              "fillmode": "overlay",
              "size": 10,
              "solidity": 0.2
             }
            },
            "type": "histogram"
           }
          ],
          "histogram2d": [
           {
            "colorbar": {
             "outlinewidth": 0,
             "ticks": ""
            },
            "colorscale": [
             [
              0,
              "#0d0887"
             ],
             [
              0.1111111111111111,
              "#46039f"
             ],
             [
              0.2222222222222222,
              "#7201a8"
             ],
             [
              0.3333333333333333,
              "#9c179e"
             ],
             [
              0.4444444444444444,
              "#bd3786"
             ],
             [
              0.5555555555555556,
              "#d8576b"
             ],
             [
              0.6666666666666666,
              "#ed7953"
             ],
             [
              0.7777777777777778,
              "#fb9f3a"
             ],
             [
              0.8888888888888888,
              "#fdca26"
             ],
             [
              1,
              "#f0f921"
             ]
            ],
            "type": "histogram2d"
           }
          ],
          "histogram2dcontour": [
           {
            "colorbar": {
             "outlinewidth": 0,
             "ticks": ""
            },
            "colorscale": [
             [
              0,
              "#0d0887"
             ],
             [
              0.1111111111111111,
              "#46039f"
             ],
             [
              0.2222222222222222,
              "#7201a8"
             ],
             [
              0.3333333333333333,
              "#9c179e"
             ],
             [
              0.4444444444444444,
              "#bd3786"
             ],
             [
              0.5555555555555556,
              "#d8576b"
             ],
             [
              0.6666666666666666,
              "#ed7953"
             ],
             [
              0.7777777777777778,
              "#fb9f3a"
             ],
             [
              0.8888888888888888,
              "#fdca26"
             ],
             [
              1,
              "#f0f921"
             ]
            ],
            "type": "histogram2dcontour"
           }
          ],
          "mesh3d": [
           {
            "colorbar": {
             "outlinewidth": 0,
             "ticks": ""
            },
            "type": "mesh3d"
           }
          ],
          "parcoords": [
           {
            "line": {
             "colorbar": {
              "outlinewidth": 0,
              "ticks": ""
             }
            },
            "type": "parcoords"
           }
          ],
          "pie": [
           {
            "automargin": true,
            "type": "pie"
           }
          ],
          "scatter": [
           {
            "fillpattern": {
             "fillmode": "overlay",
             "size": 10,
             "solidity": 0.2
            },
            "type": "scatter"
           }
          ],
          "scatter3d": [
           {
            "line": {
             "colorbar": {
              "outlinewidth": 0,
              "ticks": ""
             }
            },
            "marker": {
             "colorbar": {
              "outlinewidth": 0,
              "ticks": ""
             }
            },
            "type": "scatter3d"
           }
          ],
          "scattercarpet": [
           {
            "marker": {
             "colorbar": {
              "outlinewidth": 0,
              "ticks": ""
             }
            },
            "type": "scattercarpet"
           }
          ],
          "scattergeo": [
           {
            "marker": {
             "colorbar": {
              "outlinewidth": 0,
              "ticks": ""
             }
            },
            "type": "scattergeo"
           }
          ],
          "scattergl": [
           {
            "marker": {
             "colorbar": {
              "outlinewidth": 0,
              "ticks": ""
             }
            },
            "type": "scattergl"
           }
          ],
          "scattermapbox": [
           {
            "marker": {
             "colorbar": {
              "outlinewidth": 0,
              "ticks": ""
             }
            },
            "type": "scattermapbox"
           }
          ],
          "scatterpolar": [
           {
            "marker": {
             "colorbar": {
              "outlinewidth": 0,
              "ticks": ""
             }
            },
            "type": "scatterpolar"
           }
          ],
          "scatterpolargl": [
           {
            "marker": {
             "colorbar": {
              "outlinewidth": 0,
              "ticks": ""
             }
            },
            "type": "scatterpolargl"
           }
          ],
          "scatterternary": [
           {
            "marker": {
             "colorbar": {
              "outlinewidth": 0,
              "ticks": ""
             }
            },
            "type": "scatterternary"
           }
          ],
          "surface": [
           {
            "colorbar": {
             "outlinewidth": 0,
             "ticks": ""
            },
            "colorscale": [
             [
              0,
              "#0d0887"
             ],
             [
              0.1111111111111111,
              "#46039f"
             ],
             [
              0.2222222222222222,
              "#7201a8"
             ],
             [
              0.3333333333333333,
              "#9c179e"
             ],
             [
              0.4444444444444444,
              "#bd3786"
             ],
             [
              0.5555555555555556,
              "#d8576b"
             ],
             [
              0.6666666666666666,
              "#ed7953"
             ],
             [
              0.7777777777777778,
              "#fb9f3a"
             ],
             [
              0.8888888888888888,
              "#fdca26"
             ],
             [
              1,
              "#f0f921"
             ]
            ],
            "type": "surface"
           }
          ],
          "table": [
           {
            "cells": {
             "fill": {
              "color": "#EBF0F8"
             },
             "line": {
              "color": "white"
             }
            },
            "header": {
             "fill": {
              "color": "#C8D4E3"
             },
             "line": {
              "color": "white"
             }
            },
            "type": "table"
           }
          ]
         },
         "layout": {
          "annotationdefaults": {
           "arrowcolor": "#2a3f5f",
           "arrowhead": 0,
           "arrowwidth": 1
          },
          "autotypenumbers": "strict",
          "coloraxis": {
           "colorbar": {
            "outlinewidth": 0,
            "ticks": ""
           }
          },
          "colorscale": {
           "diverging": [
            [
             0,
             "#8e0152"
            ],
            [
             0.1,
             "#c51b7d"
            ],
            [
             0.2,
             "#de77ae"
            ],
            [
             0.3,
             "#f1b6da"
            ],
            [
             0.4,
             "#fde0ef"
            ],
            [
             0.5,
             "#f7f7f7"
            ],
            [
             0.6,
             "#e6f5d0"
            ],
            [
             0.7,
             "#b8e186"
            ],
            [
             0.8,
             "#7fbc41"
            ],
            [
             0.9,
             "#4d9221"
            ],
            [
             1,
             "#276419"
            ]
           ],
           "sequential": [
            [
             0,
             "#0d0887"
            ],
            [
             0.1111111111111111,
             "#46039f"
            ],
            [
             0.2222222222222222,
             "#7201a8"
            ],
            [
             0.3333333333333333,
             "#9c179e"
            ],
            [
             0.4444444444444444,
             "#bd3786"
            ],
            [
             0.5555555555555556,
             "#d8576b"
            ],
            [
             0.6666666666666666,
             "#ed7953"
            ],
            [
             0.7777777777777778,
             "#fb9f3a"
            ],
            [
             0.8888888888888888,
             "#fdca26"
            ],
            [
             1,
             "#f0f921"
            ]
           ],
           "sequentialminus": [
            [
             0,
             "#0d0887"
            ],
            [
             0.1111111111111111,
             "#46039f"
            ],
            [
             0.2222222222222222,
             "#7201a8"
            ],
            [
             0.3333333333333333,
             "#9c179e"
            ],
            [
             0.4444444444444444,
             "#bd3786"
            ],
            [
             0.5555555555555556,
             "#d8576b"
            ],
            [
             0.6666666666666666,
             "#ed7953"
            ],
            [
             0.7777777777777778,
             "#fb9f3a"
            ],
            [
             0.8888888888888888,
             "#fdca26"
            ],
            [
             1,
             "#f0f921"
            ]
           ]
          },
          "colorway": [
           "#636efa",
           "#EF553B",
           "#00cc96",
           "#ab63fa",
           "#FFA15A",
           "#19d3f3",
           "#FF6692",
           "#B6E880",
           "#FF97FF",
           "#FECB52"
          ],
          "font": {
           "color": "#2a3f5f"
          },
          "geo": {
           "bgcolor": "white",
           "lakecolor": "white",
           "landcolor": "#E5ECF6",
           "showlakes": true,
           "showland": true,
           "subunitcolor": "white"
          },
          "hoverlabel": {
           "align": "left"
          },
          "hovermode": "closest",
          "mapbox": {
           "style": "light"
          },
          "paper_bgcolor": "white",
          "plot_bgcolor": "#E5ECF6",
          "polar": {
           "angularaxis": {
            "gridcolor": "white",
            "linecolor": "white",
            "ticks": ""
           },
           "bgcolor": "#E5ECF6",
           "radialaxis": {
            "gridcolor": "white",
            "linecolor": "white",
            "ticks": ""
           }
          },
          "scene": {
           "xaxis": {
            "backgroundcolor": "#E5ECF6",
            "gridcolor": "white",
            "gridwidth": 2,
            "linecolor": "white",
            "showbackground": true,
            "ticks": "",
            "zerolinecolor": "white"
           },
           "yaxis": {
            "backgroundcolor": "#E5ECF6",
            "gridcolor": "white",
            "gridwidth": 2,
            "linecolor": "white",
            "showbackground": true,
            "ticks": "",
            "zerolinecolor": "white"
           },
           "zaxis": {
            "backgroundcolor": "#E5ECF6",
            "gridcolor": "white",
            "gridwidth": 2,
            "linecolor": "white",
            "showbackground": true,
            "ticks": "",
            "zerolinecolor": "white"
           }
          },
          "shapedefaults": {
           "line": {
            "color": "#2a3f5f"
           }
          },
          "ternary": {
           "aaxis": {
            "gridcolor": "white",
            "linecolor": "white",
            "ticks": ""
           },
           "baxis": {
            "gridcolor": "white",
            "linecolor": "white",
            "ticks": ""
           },
           "bgcolor": "#E5ECF6",
           "caxis": {
            "gridcolor": "white",
            "linecolor": "white",
            "ticks": ""
           }
          },
          "title": {
           "x": 0.05
          },
          "xaxis": {
           "automargin": true,
           "gridcolor": "white",
           "linecolor": "white",
           "ticks": "",
           "title": {
            "standoff": 15
           },
           "zerolinecolor": "white",
           "zerolinewidth": 2
          },
          "yaxis": {
           "automargin": true,
           "gridcolor": "white",
           "linecolor": "white",
           "ticks": "",
           "title": {
            "standoff": 15
           },
           "zerolinecolor": "white",
           "zerolinewidth": 2
          }
         }
        },
        "xaxis": {
         "anchor": "y",
         "autorange": true,
         "domain": [
          0,
          1
         ],
         "range": [
          -0.5,
          0.5
         ],
         "type": "category"
        },
        "yaxis": {
         "anchor": "x",
         "autorange": true,
         "domain": [
          0,
          1
         ],
         "range": [
          8.222222222222221,
          143.77777777777777
         ],
         "title": {
          "text": "rendimento"
         },
         "type": "linear"
        }
       }
      },
      "text/html": [
       "<div>                            <div id=\"7e07b7f5-6399-4a44-ae6a-8af9f0e0bc07\" class=\"plotly-graph-div\" style=\"height:525px; width:100%;\"></div>            <script type=\"text/javascript\">                require([\"plotly\"], function(Plotly) {                    window.PLOTLYENV=window.PLOTLYENV || {};                                    if (document.getElementById(\"7e07b7f5-6399-4a44-ae6a-8af9f0e0bc07\")) {                    Plotly.newPlot(                        \"7e07b7f5-6399-4a44-ae6a-8af9f0e0bc07\",                        [{\"alignmentgroup\":\"True\",\"hovertemplate\":\"rendimento=%{y}\\u003cextra\\u003e\\u003c\\u002fextra\\u003e\",\"legendgroup\":\"\",\"marker\":{\"color\":\"#636efa\"},\"name\":\"\",\"notched\":false,\"offsetgroup\":\"\",\"orientation\":\"v\",\"showlegend\":false,\"x0\":\" \",\"xaxis\":\"x\",\"y\":[15,15,16,16,17,17,18,18,19,19,19,19,20,20,20,20,21,21,23,23,24,24,25,25,28,28,28,28,29,29,30,30,33,33,33,33,34,34,37,37,38,38,39,39,39,39,40,40,40,40,42,42,43,43,43,43,44,44,46,46,46,46,47,47,48,48,48,48,48,48,49,49,50,50,54,54,54,54,54,54,54,54,54,54,54,54,57,57,58,58,59,59,60,60,60,60,60,60,61,61,62,62,62,62,62,62,63,63,63,63,63,63,64,64,65,65,65,65,67,67,67,67,69,69,70,70,71,71,71,71,71,71,72,72,73,73,73,73,74,74,75,75,76,76,77,77,77,77,78,78,78,78,78,78,78,78,78,78,78,78,79,79,81,81,85,85,86,86,87,87,87,87,87,87,88,88,88,88,93,93,97,97,98,98,99,99,101,101,103,103,103,103,113,113,120,120,126,126,137,137],\"y0\":\" \",\"yaxis\":\"y\",\"type\":\"box\"}],                        {\"template\":{\"data\":{\"histogram2dcontour\":[{\"type\":\"histogram2dcontour\",\"colorbar\":{\"outlinewidth\":0,\"ticks\":\"\"},\"colorscale\":[[0.0,\"#0d0887\"],[0.1111111111111111,\"#46039f\"],[0.2222222222222222,\"#7201a8\"],[0.3333333333333333,\"#9c179e\"],[0.4444444444444444,\"#bd3786\"],[0.5555555555555556,\"#d8576b\"],[0.6666666666666666,\"#ed7953\"],[0.7777777777777778,\"#fb9f3a\"],[0.8888888888888888,\"#fdca26\"],[1.0,\"#f0f921\"]]}],\"choropleth\":[{\"type\":\"choropleth\",\"colorbar\":{\"outlinewidth\":0,\"ticks\":\"\"}}],\"histogram2d\":[{\"type\":\"histogram2d\",\"colorbar\":{\"outlinewidth\":0,\"ticks\":\"\"},\"colorscale\":[[0.0,\"#0d0887\"],[0.1111111111111111,\"#46039f\"],[0.2222222222222222,\"#7201a8\"],[0.3333333333333333,\"#9c179e\"],[0.4444444444444444,\"#bd3786\"],[0.5555555555555556,\"#d8576b\"],[0.6666666666666666,\"#ed7953\"],[0.7777777777777778,\"#fb9f3a\"],[0.8888888888888888,\"#fdca26\"],[1.0,\"#f0f921\"]]}],\"heatmap\":[{\"type\":\"heatmap\",\"colorbar\":{\"outlinewidth\":0,\"ticks\":\"\"},\"colorscale\":[[0.0,\"#0d0887\"],[0.1111111111111111,\"#46039f\"],[0.2222222222222222,\"#7201a8\"],[0.3333333333333333,\"#9c179e\"],[0.4444444444444444,\"#bd3786\"],[0.5555555555555556,\"#d8576b\"],[0.6666666666666666,\"#ed7953\"],[0.7777777777777778,\"#fb9f3a\"],[0.8888888888888888,\"#fdca26\"],[1.0,\"#f0f921\"]]}],\"heatmapgl\":[{\"type\":\"heatmapgl\",\"colorbar\":{\"outlinewidth\":0,\"ticks\":\"\"},\"colorscale\":[[0.0,\"#0d0887\"],[0.1111111111111111,\"#46039f\"],[0.2222222222222222,\"#7201a8\"],[0.3333333333333333,\"#9c179e\"],[0.4444444444444444,\"#bd3786\"],[0.5555555555555556,\"#d8576b\"],[0.6666666666666666,\"#ed7953\"],[0.7777777777777778,\"#fb9f3a\"],[0.8888888888888888,\"#fdca26\"],[1.0,\"#f0f921\"]]}],\"contourcarpet\":[{\"type\":\"contourcarpet\",\"colorbar\":{\"outlinewidth\":0,\"ticks\":\"\"}}],\"contour\":[{\"type\":\"contour\",\"colorbar\":{\"outlinewidth\":0,\"ticks\":\"\"},\"colorscale\":[[0.0,\"#0d0887\"],[0.1111111111111111,\"#46039f\"],[0.2222222222222222,\"#7201a8\"],[0.3333333333333333,\"#9c179e\"],[0.4444444444444444,\"#bd3786\"],[0.5555555555555556,\"#d8576b\"],[0.6666666666666666,\"#ed7953\"],[0.7777777777777778,\"#fb9f3a\"],[0.8888888888888888,\"#fdca26\"],[1.0,\"#f0f921\"]]}],\"surface\":[{\"type\":\"surface\",\"colorbar\":{\"outlinewidth\":0,\"ticks\":\"\"},\"colorscale\":[[0.0,\"#0d0887\"],[0.1111111111111111,\"#46039f\"],[0.2222222222222222,\"#7201a8\"],[0.3333333333333333,\"#9c179e\"],[0.4444444444444444,\"#bd3786\"],[0.5555555555555556,\"#d8576b\"],[0.6666666666666666,\"#ed7953\"],[0.7777777777777778,\"#fb9f3a\"],[0.8888888888888888,\"#fdca26\"],[1.0,\"#f0f921\"]]}],\"mesh3d\":[{\"type\":\"mesh3d\",\"colorbar\":{\"outlinewidth\":0,\"ticks\":\"\"}}],\"scatter\":[{\"fillpattern\":{\"fillmode\":\"overlay\",\"size\":10,\"solidity\":0.2},\"type\":\"scatter\"}],\"parcoords\":[{\"type\":\"parcoords\",\"line\":{\"colorbar\":{\"outlinewidth\":0,\"ticks\":\"\"}}}],\"scatterpolargl\":[{\"type\":\"scatterpolargl\",\"marker\":{\"colorbar\":{\"outlinewidth\":0,\"ticks\":\"\"}}}],\"bar\":[{\"error_x\":{\"color\":\"#2a3f5f\"},\"error_y\":{\"color\":\"#2a3f5f\"},\"marker\":{\"line\":{\"color\":\"#E5ECF6\",\"width\":0.5},\"pattern\":{\"fillmode\":\"overlay\",\"size\":10,\"solidity\":0.2}},\"type\":\"bar\"}],\"scattergeo\":[{\"type\":\"scattergeo\",\"marker\":{\"colorbar\":{\"outlinewidth\":0,\"ticks\":\"\"}}}],\"scatterpolar\":[{\"type\":\"scatterpolar\",\"marker\":{\"colorbar\":{\"outlinewidth\":0,\"ticks\":\"\"}}}],\"histogram\":[{\"marker\":{\"pattern\":{\"fillmode\":\"overlay\",\"size\":10,\"solidity\":0.2}},\"type\":\"histogram\"}],\"scattergl\":[{\"type\":\"scattergl\",\"marker\":{\"colorbar\":{\"outlinewidth\":0,\"ticks\":\"\"}}}],\"scatter3d\":[{\"type\":\"scatter3d\",\"line\":{\"colorbar\":{\"outlinewidth\":0,\"ticks\":\"\"}},\"marker\":{\"colorbar\":{\"outlinewidth\":0,\"ticks\":\"\"}}}],\"scattermapbox\":[{\"type\":\"scattermapbox\",\"marker\":{\"colorbar\":{\"outlinewidth\":0,\"ticks\":\"\"}}}],\"scatterternary\":[{\"type\":\"scatterternary\",\"marker\":{\"colorbar\":{\"outlinewidth\":0,\"ticks\":\"\"}}}],\"scattercarpet\":[{\"type\":\"scattercarpet\",\"marker\":{\"colorbar\":{\"outlinewidth\":0,\"ticks\":\"\"}}}],\"carpet\":[{\"aaxis\":{\"endlinecolor\":\"#2a3f5f\",\"gridcolor\":\"white\",\"linecolor\":\"white\",\"minorgridcolor\":\"white\",\"startlinecolor\":\"#2a3f5f\"},\"baxis\":{\"endlinecolor\":\"#2a3f5f\",\"gridcolor\":\"white\",\"linecolor\":\"white\",\"minorgridcolor\":\"white\",\"startlinecolor\":\"#2a3f5f\"},\"type\":\"carpet\"}],\"table\":[{\"cells\":{\"fill\":{\"color\":\"#EBF0F8\"},\"line\":{\"color\":\"white\"}},\"header\":{\"fill\":{\"color\":\"#C8D4E3\"},\"line\":{\"color\":\"white\"}},\"type\":\"table\"}],\"barpolar\":[{\"marker\":{\"line\":{\"color\":\"#E5ECF6\",\"width\":0.5},\"pattern\":{\"fillmode\":\"overlay\",\"size\":10,\"solidity\":0.2}},\"type\":\"barpolar\"}],\"pie\":[{\"automargin\":true,\"type\":\"pie\"}]},\"layout\":{\"autotypenumbers\":\"strict\",\"colorway\":[\"#636efa\",\"#EF553B\",\"#00cc96\",\"#ab63fa\",\"#FFA15A\",\"#19d3f3\",\"#FF6692\",\"#B6E880\",\"#FF97FF\",\"#FECB52\"],\"font\":{\"color\":\"#2a3f5f\"},\"hovermode\":\"closest\",\"hoverlabel\":{\"align\":\"left\"},\"paper_bgcolor\":\"white\",\"plot_bgcolor\":\"#E5ECF6\",\"polar\":{\"bgcolor\":\"#E5ECF6\",\"angularaxis\":{\"gridcolor\":\"white\",\"linecolor\":\"white\",\"ticks\":\"\"},\"radialaxis\":{\"gridcolor\":\"white\",\"linecolor\":\"white\",\"ticks\":\"\"}},\"ternary\":{\"bgcolor\":\"#E5ECF6\",\"aaxis\":{\"gridcolor\":\"white\",\"linecolor\":\"white\",\"ticks\":\"\"},\"baxis\":{\"gridcolor\":\"white\",\"linecolor\":\"white\",\"ticks\":\"\"},\"caxis\":{\"gridcolor\":\"white\",\"linecolor\":\"white\",\"ticks\":\"\"}},\"coloraxis\":{\"colorbar\":{\"outlinewidth\":0,\"ticks\":\"\"}},\"colorscale\":{\"sequential\":[[0.0,\"#0d0887\"],[0.1111111111111111,\"#46039f\"],[0.2222222222222222,\"#7201a8\"],[0.3333333333333333,\"#9c179e\"],[0.4444444444444444,\"#bd3786\"],[0.5555555555555556,\"#d8576b\"],[0.6666666666666666,\"#ed7953\"],[0.7777777777777778,\"#fb9f3a\"],[0.8888888888888888,\"#fdca26\"],[1.0,\"#f0f921\"]],\"sequentialminus\":[[0.0,\"#0d0887\"],[0.1111111111111111,\"#46039f\"],[0.2222222222222222,\"#7201a8\"],[0.3333333333333333,\"#9c179e\"],[0.4444444444444444,\"#bd3786\"],[0.5555555555555556,\"#d8576b\"],[0.6666666666666666,\"#ed7953\"],[0.7777777777777778,\"#fb9f3a\"],[0.8888888888888888,\"#fdca26\"],[1.0,\"#f0f921\"]],\"diverging\":[[0,\"#8e0152\"],[0.1,\"#c51b7d\"],[0.2,\"#de77ae\"],[0.3,\"#f1b6da\"],[0.4,\"#fde0ef\"],[0.5,\"#f7f7f7\"],[0.6,\"#e6f5d0\"],[0.7,\"#b8e186\"],[0.8,\"#7fbc41\"],[0.9,\"#4d9221\"],[1,\"#276419\"]]},\"xaxis\":{\"gridcolor\":\"white\",\"linecolor\":\"white\",\"ticks\":\"\",\"title\":{\"standoff\":15},\"zerolinecolor\":\"white\",\"automargin\":true,\"zerolinewidth\":2},\"yaxis\":{\"gridcolor\":\"white\",\"linecolor\":\"white\",\"ticks\":\"\",\"title\":{\"standoff\":15},\"zerolinecolor\":\"white\",\"automargin\":true,\"zerolinewidth\":2},\"scene\":{\"xaxis\":{\"backgroundcolor\":\"#E5ECF6\",\"gridcolor\":\"white\",\"linecolor\":\"white\",\"showbackground\":true,\"ticks\":\"\",\"zerolinecolor\":\"white\",\"gridwidth\":2},\"yaxis\":{\"backgroundcolor\":\"#E5ECF6\",\"gridcolor\":\"white\",\"linecolor\":\"white\",\"showbackground\":true,\"ticks\":\"\",\"zerolinecolor\":\"white\",\"gridwidth\":2},\"zaxis\":{\"backgroundcolor\":\"#E5ECF6\",\"gridcolor\":\"white\",\"linecolor\":\"white\",\"showbackground\":true,\"ticks\":\"\",\"zerolinecolor\":\"white\",\"gridwidth\":2}},\"shapedefaults\":{\"line\":{\"color\":\"#2a3f5f\"}},\"annotationdefaults\":{\"arrowcolor\":\"#2a3f5f\",\"arrowhead\":0,\"arrowwidth\":1},\"geo\":{\"bgcolor\":\"white\",\"landcolor\":\"#E5ECF6\",\"subunitcolor\":\"white\",\"showland\":true,\"showlakes\":true,\"lakecolor\":\"white\"},\"title\":{\"x\":0.05},\"mapbox\":{\"style\":\"light\"}}},\"xaxis\":{\"anchor\":\"y\",\"domain\":[0.0,1.0]},\"yaxis\":{\"anchor\":\"x\",\"domain\":[0.0,1.0],\"title\":{\"text\":\"rendimento\"}},\"legend\":{\"tracegroupgap\":0},\"margin\":{\"t\":60},\"boxmode\":\"group\"},                        {\"responsive\": true}                    ).then(function(){\n",
       "                            \n",
       "var gd = document.getElementById('7e07b7f5-6399-4a44-ae6a-8af9f0e0bc07');\n",
       "var x = new MutationObserver(function (mutations, observer) {{\n",
       "        var display = window.getComputedStyle(gd).display;\n",
       "        if (!display || display === 'none') {{\n",
       "            console.log([gd, 'removed!']);\n",
       "            Plotly.purge(gd);\n",
       "            observer.disconnect();\n",
       "        }}\n",
       "}});\n",
       "\n",
       "// Listen for the removal of the full notebook cells\n",
       "var notebookContainer = gd.closest('#notebook-container');\n",
       "if (notebookContainer) {{\n",
       "    x.observe(notebookContainer, {childList: true});\n",
       "}}\n",
       "\n",
       "// Listen for the clearing of the current output cell\n",
       "var outputEl = gd.closest('.output');\n",
       "if (outputEl) {{\n",
       "    x.observe(outputEl, {childList: true});\n",
       "}}\n",
       "\n",
       "                        })                };                });            </script>        </div>"
      ]
     },
     "metadata": {},
     "output_type": "display_data"
    }
   ],
   "source": [
    "boxplot = px.box(df, y=\"rendimento\")\n",
    "boxplot.show()"
   ]
  },
  {
   "cell_type": "code",
   "execution_count": 125,
   "metadata": {
    "colab": {
     "base_uri": "https://localhost:8080/"
    },
    "id": "Dvs4lEHndQfg",
    "outputId": "1c806ac8-47f5-4986-ca58-a2f0cd448ee5"
   },
   "outputs": [
    {
     "data": {
      "application/vnd.plotly.v1+json": {
       "config": {
        "plotlyServerURL": "https://plot.ly"
       },
       "data": [
        {
         "alignmentgroup": "True",
         "hovertemplate": "idade=%{y}<extra></extra>",
         "legendgroup": "",
         "marker": {
          "color": "#636efa"
         },
         "name": "",
         "notched": false,
         "offsetgroup": "",
         "orientation": "v",
         "showlegend": false,
         "type": "box",
         "x0": " ",
         "xaxis": "x",
         "y": [
          19,
          21,
          20,
          23,
          31,
          22,
          35,
          23,
          64,
          30,
          67,
          35,
          58,
          24,
          37,
          22,
          35,
          20,
          52,
          35,
          35,
          25,
          46,
          31,
          54,
          29,
          45,
          35,
          40,
          23,
          60,
          21,
          53,
          18,
          49,
          21,
          42,
          30,
          36,
          20,
          65,
          24,
          48,
          31,
          49,
          24,
          50,
          27,
          29,
          31,
          49,
          33,
          31,
          59,
          50,
          47,
          51,
          69,
          27,
          53,
          70,
          19,
          67,
          54,
          63,
          18,
          43,
          68,
          19,
          32,
          70,
          47,
          60,
          60,
          59,
          26,
          45,
          40,
          23,
          49,
          57,
          38,
          67,
          46,
          21,
          48,
          55,
          22,
          34,
          50,
          68,
          18,
          48,
          40,
          32,
          24,
          47,
          27,
          48,
          20,
          23,
          49,
          67,
          26,
          49,
          21,
          66,
          54,
          68,
          66,
          65,
          19,
          38,
          19,
          18,
          19,
          63,
          49,
          51,
          50,
          27,
          38,
          40,
          39,
          23,
          31,
          43,
          40,
          59,
          38,
          47,
          39,
          25,
          31,
          20,
          29,
          44,
          32,
          19,
          35,
          57,
          32,
          28,
          32,
          25,
          28,
          48,
          32,
          34,
          34,
          43,
          39,
          44,
          38,
          47,
          27,
          37,
          30,
          34,
          30,
          56,
          29,
          19,
          31,
          50,
          36,
          42,
          33,
          36,
          32,
          40,
          28,
          36,
          36,
          52,
          30,
          58,
          27,
          59,
          35,
          37,
          32,
          46,
          29,
          41,
          30,
          54,
          28,
          41,
          36,
          34,
          32,
          33,
          38,
          47,
          35,
          45,
          32,
          32,
          30
         ],
         "y0": " ",
         "yaxis": "y"
        }
       ],
       "layout": {
        "boxmode": "group",
        "height": 360,
        "legend": {
         "tracegroupgap": 0
        },
        "margin": {
         "t": 60
        },
        "template": {
         "data": {
          "bar": [
           {
            "error_x": {
             "color": "#2a3f5f"
            },
            "error_y": {
             "color": "#2a3f5f"
            },
            "marker": {
             "line": {
              "color": "#E5ECF6",
              "width": 0.5
             },
             "pattern": {
              "fillmode": "overlay",
              "size": 10,
              "solidity": 0.2
             }
            },
            "type": "bar"
           }
          ],
          "barpolar": [
           {
            "marker": {
             "line": {
              "color": "#E5ECF6",
              "width": 0.5
             },
             "pattern": {
              "fillmode": "overlay",
              "size": 10,
              "solidity": 0.2
             }
            },
            "type": "barpolar"
           }
          ],
          "carpet": [
           {
            "aaxis": {
             "endlinecolor": "#2a3f5f",
             "gridcolor": "white",
             "linecolor": "white",
             "minorgridcolor": "white",
             "startlinecolor": "#2a3f5f"
            },
            "baxis": {
             "endlinecolor": "#2a3f5f",
             "gridcolor": "white",
             "linecolor": "white",
             "minorgridcolor": "white",
             "startlinecolor": "#2a3f5f"
            },
            "type": "carpet"
           }
          ],
          "choropleth": [
           {
            "colorbar": {
             "outlinewidth": 0,
             "ticks": ""
            },
            "type": "choropleth"
           }
          ],
          "contour": [
           {
            "colorbar": {
             "outlinewidth": 0,
             "ticks": ""
            },
            "colorscale": [
             [
              0,
              "#0d0887"
             ],
             [
              0.1111111111111111,
              "#46039f"
             ],
             [
              0.2222222222222222,
              "#7201a8"
             ],
             [
              0.3333333333333333,
              "#9c179e"
             ],
             [
              0.4444444444444444,
              "#bd3786"
             ],
             [
              0.5555555555555556,
              "#d8576b"
             ],
             [
              0.6666666666666666,
              "#ed7953"
             ],
             [
              0.7777777777777778,
              "#fb9f3a"
             ],
             [
              0.8888888888888888,
              "#fdca26"
             ],
             [
              1,
              "#f0f921"
             ]
            ],
            "type": "contour"
           }
          ],
          "contourcarpet": [
           {
            "colorbar": {
             "outlinewidth": 0,
             "ticks": ""
            },
            "type": "contourcarpet"
           }
          ],
          "heatmap": [
           {
            "colorbar": {
             "outlinewidth": 0,
             "ticks": ""
            },
            "colorscale": [
             [
              0,
              "#0d0887"
             ],
             [
              0.1111111111111111,
              "#46039f"
             ],
             [
              0.2222222222222222,
              "#7201a8"
             ],
             [
              0.3333333333333333,
              "#9c179e"
             ],
             [
              0.4444444444444444,
              "#bd3786"
             ],
             [
              0.5555555555555556,
              "#d8576b"
             ],
             [
              0.6666666666666666,
              "#ed7953"
             ],
             [
              0.7777777777777778,
              "#fb9f3a"
             ],
             [
              0.8888888888888888,
              "#fdca26"
             ],
             [
              1,
              "#f0f921"
             ]
            ],
            "type": "heatmap"
           }
          ],
          "heatmapgl": [
           {
            "colorbar": {
             "outlinewidth": 0,
             "ticks": ""
            },
            "colorscale": [
             [
              0,
              "#0d0887"
             ],
             [
              0.1111111111111111,
              "#46039f"
             ],
             [
              0.2222222222222222,
              "#7201a8"
             ],
             [
              0.3333333333333333,
              "#9c179e"
             ],
             [
              0.4444444444444444,
              "#bd3786"
             ],
             [
              0.5555555555555556,
              "#d8576b"
             ],
             [
              0.6666666666666666,
              "#ed7953"
             ],
             [
              0.7777777777777778,
              "#fb9f3a"
             ],
             [
              0.8888888888888888,
              "#fdca26"
             ],
             [
              1,
              "#f0f921"
             ]
            ],
            "type": "heatmapgl"
           }
          ],
          "histogram": [
           {
            "marker": {
             "pattern": {
              "fillmode": "overlay",
              "size": 10,
              "solidity": 0.2
             }
            },
            "type": "histogram"
           }
          ],
          "histogram2d": [
           {
            "colorbar": {
             "outlinewidth": 0,
             "ticks": ""
            },
            "colorscale": [
             [
              0,
              "#0d0887"
             ],
             [
              0.1111111111111111,
              "#46039f"
             ],
             [
              0.2222222222222222,
              "#7201a8"
             ],
             [
              0.3333333333333333,
              "#9c179e"
             ],
             [
              0.4444444444444444,
              "#bd3786"
             ],
             [
              0.5555555555555556,
              "#d8576b"
             ],
             [
              0.6666666666666666,
              "#ed7953"
             ],
             [
              0.7777777777777778,
              "#fb9f3a"
             ],
             [
              0.8888888888888888,
              "#fdca26"
             ],
             [
              1,
              "#f0f921"
             ]
            ],
            "type": "histogram2d"
           }
          ],
          "histogram2dcontour": [
           {
            "colorbar": {
             "outlinewidth": 0,
             "ticks": ""
            },
            "colorscale": [
             [
              0,
              "#0d0887"
             ],
             [
              0.1111111111111111,
              "#46039f"
             ],
             [
              0.2222222222222222,
              "#7201a8"
             ],
             [
              0.3333333333333333,
              "#9c179e"
             ],
             [
              0.4444444444444444,
              "#bd3786"
             ],
             [
              0.5555555555555556,
              "#d8576b"
             ],
             [
              0.6666666666666666,
              "#ed7953"
             ],
             [
              0.7777777777777778,
              "#fb9f3a"
             ],
             [
              0.8888888888888888,
              "#fdca26"
             ],
             [
              1,
              "#f0f921"
             ]
            ],
            "type": "histogram2dcontour"
           }
          ],
          "mesh3d": [
           {
            "colorbar": {
             "outlinewidth": 0,
             "ticks": ""
            },
            "type": "mesh3d"
           }
          ],
          "parcoords": [
           {
            "line": {
             "colorbar": {
              "outlinewidth": 0,
              "ticks": ""
             }
            },
            "type": "parcoords"
           }
          ],
          "pie": [
           {
            "automargin": true,
            "type": "pie"
           }
          ],
          "scatter": [
           {
            "fillpattern": {
             "fillmode": "overlay",
             "size": 10,
             "solidity": 0.2
            },
            "type": "scatter"
           }
          ],
          "scatter3d": [
           {
            "line": {
             "colorbar": {
              "outlinewidth": 0,
              "ticks": ""
             }
            },
            "marker": {
             "colorbar": {
              "outlinewidth": 0,
              "ticks": ""
             }
            },
            "type": "scatter3d"
           }
          ],
          "scattercarpet": [
           {
            "marker": {
             "colorbar": {
              "outlinewidth": 0,
              "ticks": ""
             }
            },
            "type": "scattercarpet"
           }
          ],
          "scattergeo": [
           {
            "marker": {
             "colorbar": {
              "outlinewidth": 0,
              "ticks": ""
             }
            },
            "type": "scattergeo"
           }
          ],
          "scattergl": [
           {
            "marker": {
             "colorbar": {
              "outlinewidth": 0,
              "ticks": ""
             }
            },
            "type": "scattergl"
           }
          ],
          "scattermapbox": [
           {
            "marker": {
             "colorbar": {
              "outlinewidth": 0,
              "ticks": ""
             }
            },
            "type": "scattermapbox"
           }
          ],
          "scatterpolar": [
           {
            "marker": {
             "colorbar": {
              "outlinewidth": 0,
              "ticks": ""
             }
            },
            "type": "scatterpolar"
           }
          ],
          "scatterpolargl": [
           {
            "marker": {
             "colorbar": {
              "outlinewidth": 0,
              "ticks": ""
             }
            },
            "type": "scatterpolargl"
           }
          ],
          "scatterternary": [
           {
            "marker": {
             "colorbar": {
              "outlinewidth": 0,
              "ticks": ""
             }
            },
            "type": "scatterternary"
           }
          ],
          "surface": [
           {
            "colorbar": {
             "outlinewidth": 0,
             "ticks": ""
            },
            "colorscale": [
             [
              0,
              "#0d0887"
             ],
             [
              0.1111111111111111,
              "#46039f"
             ],
             [
              0.2222222222222222,
              "#7201a8"
             ],
             [
              0.3333333333333333,
              "#9c179e"
             ],
             [
              0.4444444444444444,
              "#bd3786"
             ],
             [
              0.5555555555555556,
              "#d8576b"
             ],
             [
              0.6666666666666666,
              "#ed7953"
             ],
             [
              0.7777777777777778,
              "#fb9f3a"
             ],
             [
              0.8888888888888888,
              "#fdca26"
             ],
             [
              1,
              "#f0f921"
             ]
            ],
            "type": "surface"
           }
          ],
          "table": [
           {
            "cells": {
             "fill": {
              "color": "#EBF0F8"
             },
             "line": {
              "color": "white"
             }
            },
            "header": {
             "fill": {
              "color": "#C8D4E3"
             },
             "line": {
              "color": "white"
             }
            },
            "type": "table"
           }
          ]
         },
         "layout": {
          "annotationdefaults": {
           "arrowcolor": "#2a3f5f",
           "arrowhead": 0,
           "arrowwidth": 1
          },
          "autotypenumbers": "strict",
          "coloraxis": {
           "colorbar": {
            "outlinewidth": 0,
            "ticks": ""
           }
          },
          "colorscale": {
           "diverging": [
            [
             0,
             "#8e0152"
            ],
            [
             0.1,
             "#c51b7d"
            ],
            [
             0.2,
             "#de77ae"
            ],
            [
             0.3,
             "#f1b6da"
            ],
            [
             0.4,
             "#fde0ef"
            ],
            [
             0.5,
             "#f7f7f7"
            ],
            [
             0.6,
             "#e6f5d0"
            ],
            [
             0.7,
             "#b8e186"
            ],
            [
             0.8,
             "#7fbc41"
            ],
            [
             0.9,
             "#4d9221"
            ],
            [
             1,
             "#276419"
            ]
           ],
           "sequential": [
            [
             0,
             "#0d0887"
            ],
            [
             0.1111111111111111,
             "#46039f"
            ],
            [
             0.2222222222222222,
             "#7201a8"
            ],
            [
             0.3333333333333333,
             "#9c179e"
            ],
            [
             0.4444444444444444,
             "#bd3786"
            ],
            [
             0.5555555555555556,
             "#d8576b"
            ],
            [
             0.6666666666666666,
             "#ed7953"
            ],
            [
             0.7777777777777778,
             "#fb9f3a"
            ],
            [
             0.8888888888888888,
             "#fdca26"
            ],
            [
             1,
             "#f0f921"
            ]
           ],
           "sequentialminus": [
            [
             0,
             "#0d0887"
            ],
            [
             0.1111111111111111,
             "#46039f"
            ],
            [
             0.2222222222222222,
             "#7201a8"
            ],
            [
             0.3333333333333333,
             "#9c179e"
            ],
            [
             0.4444444444444444,
             "#bd3786"
            ],
            [
             0.5555555555555556,
             "#d8576b"
            ],
            [
             0.6666666666666666,
             "#ed7953"
            ],
            [
             0.7777777777777778,
             "#fb9f3a"
            ],
            [
             0.8888888888888888,
             "#fdca26"
            ],
            [
             1,
             "#f0f921"
            ]
           ]
          },
          "colorway": [
           "#636efa",
           "#EF553B",
           "#00cc96",
           "#ab63fa",
           "#FFA15A",
           "#19d3f3",
           "#FF6692",
           "#B6E880",
           "#FF97FF",
           "#FECB52"
          ],
          "font": {
           "color": "#2a3f5f"
          },
          "geo": {
           "bgcolor": "white",
           "lakecolor": "white",
           "landcolor": "#E5ECF6",
           "showlakes": true,
           "showland": true,
           "subunitcolor": "white"
          },
          "hoverlabel": {
           "align": "left"
          },
          "hovermode": "closest",
          "mapbox": {
           "style": "light"
          },
          "paper_bgcolor": "white",
          "plot_bgcolor": "#E5ECF6",
          "polar": {
           "angularaxis": {
            "gridcolor": "white",
            "linecolor": "white",
            "ticks": ""
           },
           "bgcolor": "#E5ECF6",
           "radialaxis": {
            "gridcolor": "white",
            "linecolor": "white",
            "ticks": ""
           }
          },
          "scene": {
           "xaxis": {
            "backgroundcolor": "#E5ECF6",
            "gridcolor": "white",
            "gridwidth": 2,
            "linecolor": "white",
            "showbackground": true,
            "ticks": "",
            "zerolinecolor": "white"
           },
           "yaxis": {
            "backgroundcolor": "#E5ECF6",
            "gridcolor": "white",
            "gridwidth": 2,
            "linecolor": "white",
            "showbackground": true,
            "ticks": "",
            "zerolinecolor": "white"
           },
           "zaxis": {
            "backgroundcolor": "#E5ECF6",
            "gridcolor": "white",
            "gridwidth": 2,
            "linecolor": "white",
            "showbackground": true,
            "ticks": "",
            "zerolinecolor": "white"
           }
          },
          "shapedefaults": {
           "line": {
            "color": "#2a3f5f"
           }
          },
          "ternary": {
           "aaxis": {
            "gridcolor": "white",
            "linecolor": "white",
            "ticks": ""
           },
           "baxis": {
            "gridcolor": "white",
            "linecolor": "white",
            "ticks": ""
           },
           "bgcolor": "#E5ECF6",
           "caxis": {
            "gridcolor": "white",
            "linecolor": "white",
            "ticks": ""
           }
          },
          "title": {
           "x": 0.05
          },
          "xaxis": {
           "automargin": true,
           "gridcolor": "white",
           "linecolor": "white",
           "ticks": "",
           "title": {
            "standoff": 15
           },
           "zerolinecolor": "white",
           "zerolinewidth": 2
          },
          "yaxis": {
           "automargin": true,
           "gridcolor": "white",
           "linecolor": "white",
           "ticks": "",
           "title": {
            "standoff": 15
           },
           "zerolinecolor": "white",
           "zerolinewidth": 2
          }
         }
        },
        "xaxis": {
         "anchor": "y",
         "autorange": true,
         "domain": [
          0,
          1
         ],
         "range": [
          -0.5,
          0.5
         ],
         "type": "category"
        },
        "yaxis": {
         "anchor": "x",
         "autorange": true,
         "domain": [
          0,
          1
         ],
         "range": [
          15.11111111111111,
          72.88888888888889
         ],
         "title": {
          "text": "idade"
         },
         "type": "linear"
        }
       }
      },
      "text/html": [
       "<div>                            <div id=\"599f3407-af5e-406e-94a8-f6c350937c2a\" class=\"plotly-graph-div\" style=\"height:525px; width:100%;\"></div>            <script type=\"text/javascript\">                require([\"plotly\"], function(Plotly) {                    window.PLOTLYENV=window.PLOTLYENV || {};                                    if (document.getElementById(\"599f3407-af5e-406e-94a8-f6c350937c2a\")) {                    Plotly.newPlot(                        \"599f3407-af5e-406e-94a8-f6c350937c2a\",                        [{\"alignmentgroup\":\"True\",\"hovertemplate\":\"idade=%{y}\\u003cextra\\u003e\\u003c\\u002fextra\\u003e\",\"legendgroup\":\"\",\"marker\":{\"color\":\"#636efa\"},\"name\":\"\",\"notched\":false,\"offsetgroup\":\"\",\"orientation\":\"v\",\"showlegend\":false,\"x0\":\" \",\"xaxis\":\"x\",\"y\":[19,21,20,23,31,22,35,23,64,30,67,35,58,24,37,22,35,20,52,35,35,25,46,31,54,29,45,35,40,23,60,21,53,18,49,21,42,30,36,20,65,24,48,31,49,24,50,27,29,31,49,33,31,59,50,47,51,69,27,53,70,19,67,54,63,18,43,68,19,32,70,47,60,60,59,26,45,40,23,49,57,38,67,46,21,48,55,22,34,50,68,18,48,40,32,24,47,27,48,20,23,49,67,26,49,21,66,54,68,66,65,19,38,19,18,19,63,49,51,50,27,38,40,39,23,31,43,40,59,38,47,39,25,31,20,29,44,32,19,35,57,32,28,32,25,28,48,32,34,34,43,39,44,38,47,27,37,30,34,30,56,29,19,31,50,36,42,33,36,32,40,28,36,36,52,30,58,27,59,35,37,32,46,29,41,30,54,28,41,36,34,32,33,38,47,35,45,32,32,30],\"y0\":\" \",\"yaxis\":\"y\",\"type\":\"box\"}],                        {\"template\":{\"data\":{\"histogram2dcontour\":[{\"type\":\"histogram2dcontour\",\"colorbar\":{\"outlinewidth\":0,\"ticks\":\"\"},\"colorscale\":[[0.0,\"#0d0887\"],[0.1111111111111111,\"#46039f\"],[0.2222222222222222,\"#7201a8\"],[0.3333333333333333,\"#9c179e\"],[0.4444444444444444,\"#bd3786\"],[0.5555555555555556,\"#d8576b\"],[0.6666666666666666,\"#ed7953\"],[0.7777777777777778,\"#fb9f3a\"],[0.8888888888888888,\"#fdca26\"],[1.0,\"#f0f921\"]]}],\"choropleth\":[{\"type\":\"choropleth\",\"colorbar\":{\"outlinewidth\":0,\"ticks\":\"\"}}],\"histogram2d\":[{\"type\":\"histogram2d\",\"colorbar\":{\"outlinewidth\":0,\"ticks\":\"\"},\"colorscale\":[[0.0,\"#0d0887\"],[0.1111111111111111,\"#46039f\"],[0.2222222222222222,\"#7201a8\"],[0.3333333333333333,\"#9c179e\"],[0.4444444444444444,\"#bd3786\"],[0.5555555555555556,\"#d8576b\"],[0.6666666666666666,\"#ed7953\"],[0.7777777777777778,\"#fb9f3a\"],[0.8888888888888888,\"#fdca26\"],[1.0,\"#f0f921\"]]}],\"heatmap\":[{\"type\":\"heatmap\",\"colorbar\":{\"outlinewidth\":0,\"ticks\":\"\"},\"colorscale\":[[0.0,\"#0d0887\"],[0.1111111111111111,\"#46039f\"],[0.2222222222222222,\"#7201a8\"],[0.3333333333333333,\"#9c179e\"],[0.4444444444444444,\"#bd3786\"],[0.5555555555555556,\"#d8576b\"],[0.6666666666666666,\"#ed7953\"],[0.7777777777777778,\"#fb9f3a\"],[0.8888888888888888,\"#fdca26\"],[1.0,\"#f0f921\"]]}],\"heatmapgl\":[{\"type\":\"heatmapgl\",\"colorbar\":{\"outlinewidth\":0,\"ticks\":\"\"},\"colorscale\":[[0.0,\"#0d0887\"],[0.1111111111111111,\"#46039f\"],[0.2222222222222222,\"#7201a8\"],[0.3333333333333333,\"#9c179e\"],[0.4444444444444444,\"#bd3786\"],[0.5555555555555556,\"#d8576b\"],[0.6666666666666666,\"#ed7953\"],[0.7777777777777778,\"#fb9f3a\"],[0.8888888888888888,\"#fdca26\"],[1.0,\"#f0f921\"]]}],\"contourcarpet\":[{\"type\":\"contourcarpet\",\"colorbar\":{\"outlinewidth\":0,\"ticks\":\"\"}}],\"contour\":[{\"type\":\"contour\",\"colorbar\":{\"outlinewidth\":0,\"ticks\":\"\"},\"colorscale\":[[0.0,\"#0d0887\"],[0.1111111111111111,\"#46039f\"],[0.2222222222222222,\"#7201a8\"],[0.3333333333333333,\"#9c179e\"],[0.4444444444444444,\"#bd3786\"],[0.5555555555555556,\"#d8576b\"],[0.6666666666666666,\"#ed7953\"],[0.7777777777777778,\"#fb9f3a\"],[0.8888888888888888,\"#fdca26\"],[1.0,\"#f0f921\"]]}],\"surface\":[{\"type\":\"surface\",\"colorbar\":{\"outlinewidth\":0,\"ticks\":\"\"},\"colorscale\":[[0.0,\"#0d0887\"],[0.1111111111111111,\"#46039f\"],[0.2222222222222222,\"#7201a8\"],[0.3333333333333333,\"#9c179e\"],[0.4444444444444444,\"#bd3786\"],[0.5555555555555556,\"#d8576b\"],[0.6666666666666666,\"#ed7953\"],[0.7777777777777778,\"#fb9f3a\"],[0.8888888888888888,\"#fdca26\"],[1.0,\"#f0f921\"]]}],\"mesh3d\":[{\"type\":\"mesh3d\",\"colorbar\":{\"outlinewidth\":0,\"ticks\":\"\"}}],\"scatter\":[{\"fillpattern\":{\"fillmode\":\"overlay\",\"size\":10,\"solidity\":0.2},\"type\":\"scatter\"}],\"parcoords\":[{\"type\":\"parcoords\",\"line\":{\"colorbar\":{\"outlinewidth\":0,\"ticks\":\"\"}}}],\"scatterpolargl\":[{\"type\":\"scatterpolargl\",\"marker\":{\"colorbar\":{\"outlinewidth\":0,\"ticks\":\"\"}}}],\"bar\":[{\"error_x\":{\"color\":\"#2a3f5f\"},\"error_y\":{\"color\":\"#2a3f5f\"},\"marker\":{\"line\":{\"color\":\"#E5ECF6\",\"width\":0.5},\"pattern\":{\"fillmode\":\"overlay\",\"size\":10,\"solidity\":0.2}},\"type\":\"bar\"}],\"scattergeo\":[{\"type\":\"scattergeo\",\"marker\":{\"colorbar\":{\"outlinewidth\":0,\"ticks\":\"\"}}}],\"scatterpolar\":[{\"type\":\"scatterpolar\",\"marker\":{\"colorbar\":{\"outlinewidth\":0,\"ticks\":\"\"}}}],\"histogram\":[{\"marker\":{\"pattern\":{\"fillmode\":\"overlay\",\"size\":10,\"solidity\":0.2}},\"type\":\"histogram\"}],\"scattergl\":[{\"type\":\"scattergl\",\"marker\":{\"colorbar\":{\"outlinewidth\":0,\"ticks\":\"\"}}}],\"scatter3d\":[{\"type\":\"scatter3d\",\"line\":{\"colorbar\":{\"outlinewidth\":0,\"ticks\":\"\"}},\"marker\":{\"colorbar\":{\"outlinewidth\":0,\"ticks\":\"\"}}}],\"scattermapbox\":[{\"type\":\"scattermapbox\",\"marker\":{\"colorbar\":{\"outlinewidth\":0,\"ticks\":\"\"}}}],\"scatterternary\":[{\"type\":\"scatterternary\",\"marker\":{\"colorbar\":{\"outlinewidth\":0,\"ticks\":\"\"}}}],\"scattercarpet\":[{\"type\":\"scattercarpet\",\"marker\":{\"colorbar\":{\"outlinewidth\":0,\"ticks\":\"\"}}}],\"carpet\":[{\"aaxis\":{\"endlinecolor\":\"#2a3f5f\",\"gridcolor\":\"white\",\"linecolor\":\"white\",\"minorgridcolor\":\"white\",\"startlinecolor\":\"#2a3f5f\"},\"baxis\":{\"endlinecolor\":\"#2a3f5f\",\"gridcolor\":\"white\",\"linecolor\":\"white\",\"minorgridcolor\":\"white\",\"startlinecolor\":\"#2a3f5f\"},\"type\":\"carpet\"}],\"table\":[{\"cells\":{\"fill\":{\"color\":\"#EBF0F8\"},\"line\":{\"color\":\"white\"}},\"header\":{\"fill\":{\"color\":\"#C8D4E3\"},\"line\":{\"color\":\"white\"}},\"type\":\"table\"}],\"barpolar\":[{\"marker\":{\"line\":{\"color\":\"#E5ECF6\",\"width\":0.5},\"pattern\":{\"fillmode\":\"overlay\",\"size\":10,\"solidity\":0.2}},\"type\":\"barpolar\"}],\"pie\":[{\"automargin\":true,\"type\":\"pie\"}]},\"layout\":{\"autotypenumbers\":\"strict\",\"colorway\":[\"#636efa\",\"#EF553B\",\"#00cc96\",\"#ab63fa\",\"#FFA15A\",\"#19d3f3\",\"#FF6692\",\"#B6E880\",\"#FF97FF\",\"#FECB52\"],\"font\":{\"color\":\"#2a3f5f\"},\"hovermode\":\"closest\",\"hoverlabel\":{\"align\":\"left\"},\"paper_bgcolor\":\"white\",\"plot_bgcolor\":\"#E5ECF6\",\"polar\":{\"bgcolor\":\"#E5ECF6\",\"angularaxis\":{\"gridcolor\":\"white\",\"linecolor\":\"white\",\"ticks\":\"\"},\"radialaxis\":{\"gridcolor\":\"white\",\"linecolor\":\"white\",\"ticks\":\"\"}},\"ternary\":{\"bgcolor\":\"#E5ECF6\",\"aaxis\":{\"gridcolor\":\"white\",\"linecolor\":\"white\",\"ticks\":\"\"},\"baxis\":{\"gridcolor\":\"white\",\"linecolor\":\"white\",\"ticks\":\"\"},\"caxis\":{\"gridcolor\":\"white\",\"linecolor\":\"white\",\"ticks\":\"\"}},\"coloraxis\":{\"colorbar\":{\"outlinewidth\":0,\"ticks\":\"\"}},\"colorscale\":{\"sequential\":[[0.0,\"#0d0887\"],[0.1111111111111111,\"#46039f\"],[0.2222222222222222,\"#7201a8\"],[0.3333333333333333,\"#9c179e\"],[0.4444444444444444,\"#bd3786\"],[0.5555555555555556,\"#d8576b\"],[0.6666666666666666,\"#ed7953\"],[0.7777777777777778,\"#fb9f3a\"],[0.8888888888888888,\"#fdca26\"],[1.0,\"#f0f921\"]],\"sequentialminus\":[[0.0,\"#0d0887\"],[0.1111111111111111,\"#46039f\"],[0.2222222222222222,\"#7201a8\"],[0.3333333333333333,\"#9c179e\"],[0.4444444444444444,\"#bd3786\"],[0.5555555555555556,\"#d8576b\"],[0.6666666666666666,\"#ed7953\"],[0.7777777777777778,\"#fb9f3a\"],[0.8888888888888888,\"#fdca26\"],[1.0,\"#f0f921\"]],\"diverging\":[[0,\"#8e0152\"],[0.1,\"#c51b7d\"],[0.2,\"#de77ae\"],[0.3,\"#f1b6da\"],[0.4,\"#fde0ef\"],[0.5,\"#f7f7f7\"],[0.6,\"#e6f5d0\"],[0.7,\"#b8e186\"],[0.8,\"#7fbc41\"],[0.9,\"#4d9221\"],[1,\"#276419\"]]},\"xaxis\":{\"gridcolor\":\"white\",\"linecolor\":\"white\",\"ticks\":\"\",\"title\":{\"standoff\":15},\"zerolinecolor\":\"white\",\"automargin\":true,\"zerolinewidth\":2},\"yaxis\":{\"gridcolor\":\"white\",\"linecolor\":\"white\",\"ticks\":\"\",\"title\":{\"standoff\":15},\"zerolinecolor\":\"white\",\"automargin\":true,\"zerolinewidth\":2},\"scene\":{\"xaxis\":{\"backgroundcolor\":\"#E5ECF6\",\"gridcolor\":\"white\",\"linecolor\":\"white\",\"showbackground\":true,\"ticks\":\"\",\"zerolinecolor\":\"white\",\"gridwidth\":2},\"yaxis\":{\"backgroundcolor\":\"#E5ECF6\",\"gridcolor\":\"white\",\"linecolor\":\"white\",\"showbackground\":true,\"ticks\":\"\",\"zerolinecolor\":\"white\",\"gridwidth\":2},\"zaxis\":{\"backgroundcolor\":\"#E5ECF6\",\"gridcolor\":\"white\",\"linecolor\":\"white\",\"showbackground\":true,\"ticks\":\"\",\"zerolinecolor\":\"white\",\"gridwidth\":2}},\"shapedefaults\":{\"line\":{\"color\":\"#2a3f5f\"}},\"annotationdefaults\":{\"arrowcolor\":\"#2a3f5f\",\"arrowhead\":0,\"arrowwidth\":1},\"geo\":{\"bgcolor\":\"white\",\"landcolor\":\"#E5ECF6\",\"subunitcolor\":\"white\",\"showland\":true,\"showlakes\":true,\"lakecolor\":\"white\"},\"title\":{\"x\":0.05},\"mapbox\":{\"style\":\"light\"}}},\"xaxis\":{\"anchor\":\"y\",\"domain\":[0.0,1.0]},\"yaxis\":{\"anchor\":\"x\",\"domain\":[0.0,1.0],\"title\":{\"text\":\"idade\"}},\"legend\":{\"tracegroupgap\":0},\"margin\":{\"t\":60},\"boxmode\":\"group\"},                        {\"responsive\": true}                    ).then(function(){\n",
       "                            \n",
       "var gd = document.getElementById('599f3407-af5e-406e-94a8-f6c350937c2a');\n",
       "var x = new MutationObserver(function (mutations, observer) {{\n",
       "        var display = window.getComputedStyle(gd).display;\n",
       "        if (!display || display === 'none') {{\n",
       "            console.log([gd, 'removed!']);\n",
       "            Plotly.purge(gd);\n",
       "            observer.disconnect();\n",
       "        }}\n",
       "}});\n",
       "\n",
       "// Listen for the removal of the full notebook cells\n",
       "var notebookContainer = gd.closest('#notebook-container');\n",
       "if (notebookContainer) {{\n",
       "    x.observe(notebookContainer, {childList: true});\n",
       "}}\n",
       "\n",
       "// Listen for the clearing of the current output cell\n",
       "var outputEl = gd.closest('.output');\n",
       "if (outputEl) {{\n",
       "    x.observe(outputEl, {childList: true});\n",
       "}}\n",
       "\n",
       "                        })                };                });            </script>        </div>"
      ]
     },
     "metadata": {},
     "output_type": "display_data"
    }
   ],
   "source": [
    "boxplot = px.box(df, y=\"idade\")\n",
    "boxplot.show()"
   ]
  },
  {
   "cell_type": "code",
   "execution_count": 126,
   "metadata": {
    "colab": {
     "base_uri": "https://localhost:8080/"
    },
    "id": "O7UgfqP4dT0V",
    "outputId": "cc8d097f-1305-49dd-de5f-3f5df6229868"
   },
   "outputs": [
    {
     "data": {
      "application/vnd.plotly.v1+json": {
       "config": {
        "plotlyServerURL": "https://plot.ly"
       },
       "data": [
        {
         "alignmentgroup": "True",
         "hovertemplate": "pontuacao=%{y}<extra></extra>",
         "legendgroup": "",
         "marker": {
          "color": "#636efa"
         },
         "name": "",
         "notched": false,
         "offsetgroup": "",
         "orientation": "v",
         "showlegend": false,
         "type": "box",
         "x0": " ",
         "xaxis": "x",
         "y": [
          39,
          81,
          6,
          77,
          40,
          76,
          6,
          94,
          3,
          72,
          14,
          99,
          15,
          77,
          13,
          79,
          35,
          66,
          29,
          98,
          35,
          73,
          5,
          73,
          14,
          82,
          32,
          61,
          31,
          87,
          4,
          73,
          4,
          92,
          14,
          81,
          17,
          73,
          26,
          75,
          35,
          92,
          36,
          61,
          28,
          65,
          55,
          47,
          42,
          42,
          52,
          60,
          54,
          60,
          45,
          41,
          50,
          46,
          51,
          46,
          56,
          55,
          52,
          59,
          51,
          59,
          50,
          48,
          59,
          47,
          55,
          42,
          49,
          56,
          47,
          54,
          53,
          48,
          52,
          42,
          51,
          55,
          41,
          44,
          57,
          46,
          58,
          55,
          60,
          46,
          55,
          41,
          49,
          40,
          42,
          52,
          47,
          50,
          42,
          49,
          41,
          48,
          59,
          55,
          56,
          42,
          50,
          46,
          43,
          48,
          52,
          54,
          42,
          46,
          48,
          50,
          43,
          59,
          43,
          57,
          56,
          40,
          58,
          91,
          29,
          77,
          35,
          95,
          11,
          75,
          9,
          75,
          34,
          71,
          5,
          88,
          7,
          73,
          10,
          72,
          5,
          93,
          40,
          87,
          12,
          97,
          36,
          74,
          22,
          90,
          17,
          88,
          20,
          76,
          16,
          89,
          1,
          78,
          1,
          73,
          35,
          83,
          5,
          93,
          26,
          75,
          20,
          95,
          27,
          63,
          13,
          75,
          10,
          92,
          13,
          86,
          15,
          69,
          14,
          90,
          32,
          86,
          15,
          88,
          39,
          97,
          24,
          68,
          17,
          85,
          23,
          69,
          8,
          91,
          16,
          79,
          28,
          74,
          18,
          83
         ],
         "y0": " ",
         "yaxis": "y"
        }
       ],
       "layout": {
        "boxmode": "group",
        "height": 360,
        "legend": {
         "tracegroupgap": 0
        },
        "margin": {
         "t": 60
        },
        "template": {
         "data": {
          "bar": [
           {
            "error_x": {
             "color": "#2a3f5f"
            },
            "error_y": {
             "color": "#2a3f5f"
            },
            "marker": {
             "line": {
              "color": "#E5ECF6",
              "width": 0.5
             },
             "pattern": {
              "fillmode": "overlay",
              "size": 10,
              "solidity": 0.2
             }
            },
            "type": "bar"
           }
          ],
          "barpolar": [
           {
            "marker": {
             "line": {
              "color": "#E5ECF6",
              "width": 0.5
             },
             "pattern": {
              "fillmode": "overlay",
              "size": 10,
              "solidity": 0.2
             }
            },
            "type": "barpolar"
           }
          ],
          "carpet": [
           {
            "aaxis": {
             "endlinecolor": "#2a3f5f",
             "gridcolor": "white",
             "linecolor": "white",
             "minorgridcolor": "white",
             "startlinecolor": "#2a3f5f"
            },
            "baxis": {
             "endlinecolor": "#2a3f5f",
             "gridcolor": "white",
             "linecolor": "white",
             "minorgridcolor": "white",
             "startlinecolor": "#2a3f5f"
            },
            "type": "carpet"
           }
          ],
          "choropleth": [
           {
            "colorbar": {
             "outlinewidth": 0,
             "ticks": ""
            },
            "type": "choropleth"
           }
          ],
          "contour": [
           {
            "colorbar": {
             "outlinewidth": 0,
             "ticks": ""
            },
            "colorscale": [
             [
              0,
              "#0d0887"
             ],
             [
              0.1111111111111111,
              "#46039f"
             ],
             [
              0.2222222222222222,
              "#7201a8"
             ],
             [
              0.3333333333333333,
              "#9c179e"
             ],
             [
              0.4444444444444444,
              "#bd3786"
             ],
             [
              0.5555555555555556,
              "#d8576b"
             ],
             [
              0.6666666666666666,
              "#ed7953"
             ],
             [
              0.7777777777777778,
              "#fb9f3a"
             ],
             [
              0.8888888888888888,
              "#fdca26"
             ],
             [
              1,
              "#f0f921"
             ]
            ],
            "type": "contour"
           }
          ],
          "contourcarpet": [
           {
            "colorbar": {
             "outlinewidth": 0,
             "ticks": ""
            },
            "type": "contourcarpet"
           }
          ],
          "heatmap": [
           {
            "colorbar": {
             "outlinewidth": 0,
             "ticks": ""
            },
            "colorscale": [
             [
              0,
              "#0d0887"
             ],
             [
              0.1111111111111111,
              "#46039f"
             ],
             [
              0.2222222222222222,
              "#7201a8"
             ],
             [
              0.3333333333333333,
              "#9c179e"
             ],
             [
              0.4444444444444444,
              "#bd3786"
             ],
             [
              0.5555555555555556,
              "#d8576b"
             ],
             [
              0.6666666666666666,
              "#ed7953"
             ],
             [
              0.7777777777777778,
              "#fb9f3a"
             ],
             [
              0.8888888888888888,
              "#fdca26"
             ],
             [
              1,
              "#f0f921"
             ]
            ],
            "type": "heatmap"
           }
          ],
          "heatmapgl": [
           {
            "colorbar": {
             "outlinewidth": 0,
             "ticks": ""
            },
            "colorscale": [
             [
              0,
              "#0d0887"
             ],
             [
              0.1111111111111111,
              "#46039f"
             ],
             [
              0.2222222222222222,
              "#7201a8"
             ],
             [
              0.3333333333333333,
              "#9c179e"
             ],
             [
              0.4444444444444444,
              "#bd3786"
             ],
             [
              0.5555555555555556,
              "#d8576b"
             ],
             [
              0.6666666666666666,
              "#ed7953"
             ],
             [
              0.7777777777777778,
              "#fb9f3a"
             ],
             [
              0.8888888888888888,
              "#fdca26"
             ],
             [
              1,
              "#f0f921"
             ]
            ],
            "type": "heatmapgl"
           }
          ],
          "histogram": [
           {
            "marker": {
             "pattern": {
              "fillmode": "overlay",
              "size": 10,
              "solidity": 0.2
             }
            },
            "type": "histogram"
           }
          ],
          "histogram2d": [
           {
            "colorbar": {
             "outlinewidth": 0,
             "ticks": ""
            },
            "colorscale": [
             [
              0,
              "#0d0887"
             ],
             [
              0.1111111111111111,
              "#46039f"
             ],
             [
              0.2222222222222222,
              "#7201a8"
             ],
             [
              0.3333333333333333,
              "#9c179e"
             ],
             [
              0.4444444444444444,
              "#bd3786"
             ],
             [
              0.5555555555555556,
              "#d8576b"
             ],
             [
              0.6666666666666666,
              "#ed7953"
             ],
             [
              0.7777777777777778,
              "#fb9f3a"
             ],
             [
              0.8888888888888888,
              "#fdca26"
             ],
             [
              1,
              "#f0f921"
             ]
            ],
            "type": "histogram2d"
           }
          ],
          "histogram2dcontour": [
           {
            "colorbar": {
             "outlinewidth": 0,
             "ticks": ""
            },
            "colorscale": [
             [
              0,
              "#0d0887"
             ],
             [
              0.1111111111111111,
              "#46039f"
             ],
             [
              0.2222222222222222,
              "#7201a8"
             ],
             [
              0.3333333333333333,
              "#9c179e"
             ],
             [
              0.4444444444444444,
              "#bd3786"
             ],
             [
              0.5555555555555556,
              "#d8576b"
             ],
             [
              0.6666666666666666,
              "#ed7953"
             ],
             [
              0.7777777777777778,
              "#fb9f3a"
             ],
             [
              0.8888888888888888,
              "#fdca26"
             ],
             [
              1,
              "#f0f921"
             ]
            ],
            "type": "histogram2dcontour"
           }
          ],
          "mesh3d": [
           {
            "colorbar": {
             "outlinewidth": 0,
             "ticks": ""
            },
            "type": "mesh3d"
           }
          ],
          "parcoords": [
           {
            "line": {
             "colorbar": {
              "outlinewidth": 0,
              "ticks": ""
             }
            },
            "type": "parcoords"
           }
          ],
          "pie": [
           {
            "automargin": true,
            "type": "pie"
           }
          ],
          "scatter": [
           {
            "fillpattern": {
             "fillmode": "overlay",
             "size": 10,
             "solidity": 0.2
            },
            "type": "scatter"
           }
          ],
          "scatter3d": [
           {
            "line": {
             "colorbar": {
              "outlinewidth": 0,
              "ticks": ""
             }
            },
            "marker": {
             "colorbar": {
              "outlinewidth": 0,
              "ticks": ""
             }
            },
            "type": "scatter3d"
           }
          ],
          "scattercarpet": [
           {
            "marker": {
             "colorbar": {
              "outlinewidth": 0,
              "ticks": ""
             }
            },
            "type": "scattercarpet"
           }
          ],
          "scattergeo": [
           {
            "marker": {
             "colorbar": {
              "outlinewidth": 0,
              "ticks": ""
             }
            },
            "type": "scattergeo"
           }
          ],
          "scattergl": [
           {
            "marker": {
             "colorbar": {
              "outlinewidth": 0,
              "ticks": ""
             }
            },
            "type": "scattergl"
           }
          ],
          "scattermapbox": [
           {
            "marker": {
             "colorbar": {
              "outlinewidth": 0,
              "ticks": ""
             }
            },
            "type": "scattermapbox"
           }
          ],
          "scatterpolar": [
           {
            "marker": {
             "colorbar": {
              "outlinewidth": 0,
              "ticks": ""
             }
            },
            "type": "scatterpolar"
           }
          ],
          "scatterpolargl": [
           {
            "marker": {
             "colorbar": {
              "outlinewidth": 0,
              "ticks": ""
             }
            },
            "type": "scatterpolargl"
           }
          ],
          "scatterternary": [
           {
            "marker": {
             "colorbar": {
              "outlinewidth": 0,
              "ticks": ""
             }
            },
            "type": "scatterternary"
           }
          ],
          "surface": [
           {
            "colorbar": {
             "outlinewidth": 0,
             "ticks": ""
            },
            "colorscale": [
             [
              0,
              "#0d0887"
             ],
             [
              0.1111111111111111,
              "#46039f"
             ],
             [
              0.2222222222222222,
              "#7201a8"
             ],
             [
              0.3333333333333333,
              "#9c179e"
             ],
             [
              0.4444444444444444,
              "#bd3786"
             ],
             [
              0.5555555555555556,
              "#d8576b"
             ],
             [
              0.6666666666666666,
              "#ed7953"
             ],
             [
              0.7777777777777778,
              "#fb9f3a"
             ],
             [
              0.8888888888888888,
              "#fdca26"
             ],
             [
              1,
              "#f0f921"
             ]
            ],
            "type": "surface"
           }
          ],
          "table": [
           {
            "cells": {
             "fill": {
              "color": "#EBF0F8"
             },
             "line": {
              "color": "white"
             }
            },
            "header": {
             "fill": {
              "color": "#C8D4E3"
             },
             "line": {
              "color": "white"
             }
            },
            "type": "table"
           }
          ]
         },
         "layout": {
          "annotationdefaults": {
           "arrowcolor": "#2a3f5f",
           "arrowhead": 0,
           "arrowwidth": 1
          },
          "autotypenumbers": "strict",
          "coloraxis": {
           "colorbar": {
            "outlinewidth": 0,
            "ticks": ""
           }
          },
          "colorscale": {
           "diverging": [
            [
             0,
             "#8e0152"
            ],
            [
             0.1,
             "#c51b7d"
            ],
            [
             0.2,
             "#de77ae"
            ],
            [
             0.3,
             "#f1b6da"
            ],
            [
             0.4,
             "#fde0ef"
            ],
            [
             0.5,
             "#f7f7f7"
            ],
            [
             0.6,
             "#e6f5d0"
            ],
            [
             0.7,
             "#b8e186"
            ],
            [
             0.8,
             "#7fbc41"
            ],
            [
             0.9,
             "#4d9221"
            ],
            [
             1,
             "#276419"
            ]
           ],
           "sequential": [
            [
             0,
             "#0d0887"
            ],
            [
             0.1111111111111111,
             "#46039f"
            ],
            [
             0.2222222222222222,
             "#7201a8"
            ],
            [
             0.3333333333333333,
             "#9c179e"
            ],
            [
             0.4444444444444444,
             "#bd3786"
            ],
            [
             0.5555555555555556,
             "#d8576b"
            ],
            [
             0.6666666666666666,
             "#ed7953"
            ],
            [
             0.7777777777777778,
             "#fb9f3a"
            ],
            [
             0.8888888888888888,
             "#fdca26"
            ],
            [
             1,
             "#f0f921"
            ]
           ],
           "sequentialminus": [
            [
             0,
             "#0d0887"
            ],
            [
             0.1111111111111111,
             "#46039f"
            ],
            [
             0.2222222222222222,
             "#7201a8"
            ],
            [
             0.3333333333333333,
             "#9c179e"
            ],
            [
             0.4444444444444444,
             "#bd3786"
            ],
            [
             0.5555555555555556,
             "#d8576b"
            ],
            [
             0.6666666666666666,
             "#ed7953"
            ],
            [
             0.7777777777777778,
             "#fb9f3a"
            ],
            [
             0.8888888888888888,
             "#fdca26"
            ],
            [
             1,
             "#f0f921"
            ]
           ]
          },
          "colorway": [
           "#636efa",
           "#EF553B",
           "#00cc96",
           "#ab63fa",
           "#FFA15A",
           "#19d3f3",
           "#FF6692",
           "#B6E880",
           "#FF97FF",
           "#FECB52"
          ],
          "font": {
           "color": "#2a3f5f"
          },
          "geo": {
           "bgcolor": "white",
           "lakecolor": "white",
           "landcolor": "#E5ECF6",
           "showlakes": true,
           "showland": true,
           "subunitcolor": "white"
          },
          "hoverlabel": {
           "align": "left"
          },
          "hovermode": "closest",
          "mapbox": {
           "style": "light"
          },
          "paper_bgcolor": "white",
          "plot_bgcolor": "#E5ECF6",
          "polar": {
           "angularaxis": {
            "gridcolor": "white",
            "linecolor": "white",
            "ticks": ""
           },
           "bgcolor": "#E5ECF6",
           "radialaxis": {
            "gridcolor": "white",
            "linecolor": "white",
            "ticks": ""
           }
          },
          "scene": {
           "xaxis": {
            "backgroundcolor": "#E5ECF6",
            "gridcolor": "white",
            "gridwidth": 2,
            "linecolor": "white",
            "showbackground": true,
            "ticks": "",
            "zerolinecolor": "white"
           },
           "yaxis": {
            "backgroundcolor": "#E5ECF6",
            "gridcolor": "white",
            "gridwidth": 2,
            "linecolor": "white",
            "showbackground": true,
            "ticks": "",
            "zerolinecolor": "white"
           },
           "zaxis": {
            "backgroundcolor": "#E5ECF6",
            "gridcolor": "white",
            "gridwidth": 2,
            "linecolor": "white",
            "showbackground": true,
            "ticks": "",
            "zerolinecolor": "white"
           }
          },
          "shapedefaults": {
           "line": {
            "color": "#2a3f5f"
           }
          },
          "ternary": {
           "aaxis": {
            "gridcolor": "white",
            "linecolor": "white",
            "ticks": ""
           },
           "baxis": {
            "gridcolor": "white",
            "linecolor": "white",
            "ticks": ""
           },
           "bgcolor": "#E5ECF6",
           "caxis": {
            "gridcolor": "white",
            "linecolor": "white",
            "ticks": ""
           }
          },
          "title": {
           "x": 0.05
          },
          "xaxis": {
           "automargin": true,
           "gridcolor": "white",
           "linecolor": "white",
           "ticks": "",
           "title": {
            "standoff": 15
           },
           "zerolinecolor": "white",
           "zerolinewidth": 2
          },
          "yaxis": {
           "automargin": true,
           "gridcolor": "white",
           "linecolor": "white",
           "ticks": "",
           "title": {
            "standoff": 15
           },
           "zerolinecolor": "white",
           "zerolinewidth": 2
          }
         }
        },
        "xaxis": {
         "anchor": "y",
         "autorange": true,
         "domain": [
          0,
          1
         ],
         "range": [
          -0.5,
          0.5
         ],
         "type": "category"
        },
        "yaxis": {
         "anchor": "x",
         "autorange": true,
         "domain": [
          0,
          1
         ],
         "range": [
          -4.444444444444445,
          104.44444444444444
         ],
         "title": {
          "text": "pontuacao"
         },
         "type": "linear"
        }
       }
      },
      "text/html": [
       "<div>                            <div id=\"38a24796-54cb-4259-a289-9b6f019d5f46\" class=\"plotly-graph-div\" style=\"height:525px; width:100%;\"></div>            <script type=\"text/javascript\">                require([\"plotly\"], function(Plotly) {                    window.PLOTLYENV=window.PLOTLYENV || {};                                    if (document.getElementById(\"38a24796-54cb-4259-a289-9b6f019d5f46\")) {                    Plotly.newPlot(                        \"38a24796-54cb-4259-a289-9b6f019d5f46\",                        [{\"alignmentgroup\":\"True\",\"hovertemplate\":\"pontuacao=%{y}\\u003cextra\\u003e\\u003c\\u002fextra\\u003e\",\"legendgroup\":\"\",\"marker\":{\"color\":\"#636efa\"},\"name\":\"\",\"notched\":false,\"offsetgroup\":\"\",\"orientation\":\"v\",\"showlegend\":false,\"x0\":\" \",\"xaxis\":\"x\",\"y\":[39,81,6,77,40,76,6,94,3,72,14,99,15,77,13,79,35,66,29,98,35,73,5,73,14,82,32,61,31,87,4,73,4,92,14,81,17,73,26,75,35,92,36,61,28,65,55,47,42,42,52,60,54,60,45,41,50,46,51,46,56,55,52,59,51,59,50,48,59,47,55,42,49,56,47,54,53,48,52,42,51,55,41,44,57,46,58,55,60,46,55,41,49,40,42,52,47,50,42,49,41,48,59,55,56,42,50,46,43,48,52,54,42,46,48,50,43,59,43,57,56,40,58,91,29,77,35,95,11,75,9,75,34,71,5,88,7,73,10,72,5,93,40,87,12,97,36,74,22,90,17,88,20,76,16,89,1,78,1,73,35,83,5,93,26,75,20,95,27,63,13,75,10,92,13,86,15,69,14,90,32,86,15,88,39,97,24,68,17,85,23,69,8,91,16,79,28,74,18,83],\"y0\":\" \",\"yaxis\":\"y\",\"type\":\"box\"}],                        {\"template\":{\"data\":{\"histogram2dcontour\":[{\"type\":\"histogram2dcontour\",\"colorbar\":{\"outlinewidth\":0,\"ticks\":\"\"},\"colorscale\":[[0.0,\"#0d0887\"],[0.1111111111111111,\"#46039f\"],[0.2222222222222222,\"#7201a8\"],[0.3333333333333333,\"#9c179e\"],[0.4444444444444444,\"#bd3786\"],[0.5555555555555556,\"#d8576b\"],[0.6666666666666666,\"#ed7953\"],[0.7777777777777778,\"#fb9f3a\"],[0.8888888888888888,\"#fdca26\"],[1.0,\"#f0f921\"]]}],\"choropleth\":[{\"type\":\"choropleth\",\"colorbar\":{\"outlinewidth\":0,\"ticks\":\"\"}}],\"histogram2d\":[{\"type\":\"histogram2d\",\"colorbar\":{\"outlinewidth\":0,\"ticks\":\"\"},\"colorscale\":[[0.0,\"#0d0887\"],[0.1111111111111111,\"#46039f\"],[0.2222222222222222,\"#7201a8\"],[0.3333333333333333,\"#9c179e\"],[0.4444444444444444,\"#bd3786\"],[0.5555555555555556,\"#d8576b\"],[0.6666666666666666,\"#ed7953\"],[0.7777777777777778,\"#fb9f3a\"],[0.8888888888888888,\"#fdca26\"],[1.0,\"#f0f921\"]]}],\"heatmap\":[{\"type\":\"heatmap\",\"colorbar\":{\"outlinewidth\":0,\"ticks\":\"\"},\"colorscale\":[[0.0,\"#0d0887\"],[0.1111111111111111,\"#46039f\"],[0.2222222222222222,\"#7201a8\"],[0.3333333333333333,\"#9c179e\"],[0.4444444444444444,\"#bd3786\"],[0.5555555555555556,\"#d8576b\"],[0.6666666666666666,\"#ed7953\"],[0.7777777777777778,\"#fb9f3a\"],[0.8888888888888888,\"#fdca26\"],[1.0,\"#f0f921\"]]}],\"heatmapgl\":[{\"type\":\"heatmapgl\",\"colorbar\":{\"outlinewidth\":0,\"ticks\":\"\"},\"colorscale\":[[0.0,\"#0d0887\"],[0.1111111111111111,\"#46039f\"],[0.2222222222222222,\"#7201a8\"],[0.3333333333333333,\"#9c179e\"],[0.4444444444444444,\"#bd3786\"],[0.5555555555555556,\"#d8576b\"],[0.6666666666666666,\"#ed7953\"],[0.7777777777777778,\"#fb9f3a\"],[0.8888888888888888,\"#fdca26\"],[1.0,\"#f0f921\"]]}],\"contourcarpet\":[{\"type\":\"contourcarpet\",\"colorbar\":{\"outlinewidth\":0,\"ticks\":\"\"}}],\"contour\":[{\"type\":\"contour\",\"colorbar\":{\"outlinewidth\":0,\"ticks\":\"\"},\"colorscale\":[[0.0,\"#0d0887\"],[0.1111111111111111,\"#46039f\"],[0.2222222222222222,\"#7201a8\"],[0.3333333333333333,\"#9c179e\"],[0.4444444444444444,\"#bd3786\"],[0.5555555555555556,\"#d8576b\"],[0.6666666666666666,\"#ed7953\"],[0.7777777777777778,\"#fb9f3a\"],[0.8888888888888888,\"#fdca26\"],[1.0,\"#f0f921\"]]}],\"surface\":[{\"type\":\"surface\",\"colorbar\":{\"outlinewidth\":0,\"ticks\":\"\"},\"colorscale\":[[0.0,\"#0d0887\"],[0.1111111111111111,\"#46039f\"],[0.2222222222222222,\"#7201a8\"],[0.3333333333333333,\"#9c179e\"],[0.4444444444444444,\"#bd3786\"],[0.5555555555555556,\"#d8576b\"],[0.6666666666666666,\"#ed7953\"],[0.7777777777777778,\"#fb9f3a\"],[0.8888888888888888,\"#fdca26\"],[1.0,\"#f0f921\"]]}],\"mesh3d\":[{\"type\":\"mesh3d\",\"colorbar\":{\"outlinewidth\":0,\"ticks\":\"\"}}],\"scatter\":[{\"fillpattern\":{\"fillmode\":\"overlay\",\"size\":10,\"solidity\":0.2},\"type\":\"scatter\"}],\"parcoords\":[{\"type\":\"parcoords\",\"line\":{\"colorbar\":{\"outlinewidth\":0,\"ticks\":\"\"}}}],\"scatterpolargl\":[{\"type\":\"scatterpolargl\",\"marker\":{\"colorbar\":{\"outlinewidth\":0,\"ticks\":\"\"}}}],\"bar\":[{\"error_x\":{\"color\":\"#2a3f5f\"},\"error_y\":{\"color\":\"#2a3f5f\"},\"marker\":{\"line\":{\"color\":\"#E5ECF6\",\"width\":0.5},\"pattern\":{\"fillmode\":\"overlay\",\"size\":10,\"solidity\":0.2}},\"type\":\"bar\"}],\"scattergeo\":[{\"type\":\"scattergeo\",\"marker\":{\"colorbar\":{\"outlinewidth\":0,\"ticks\":\"\"}}}],\"scatterpolar\":[{\"type\":\"scatterpolar\",\"marker\":{\"colorbar\":{\"outlinewidth\":0,\"ticks\":\"\"}}}],\"histogram\":[{\"marker\":{\"pattern\":{\"fillmode\":\"overlay\",\"size\":10,\"solidity\":0.2}},\"type\":\"histogram\"}],\"scattergl\":[{\"type\":\"scattergl\",\"marker\":{\"colorbar\":{\"outlinewidth\":0,\"ticks\":\"\"}}}],\"scatter3d\":[{\"type\":\"scatter3d\",\"line\":{\"colorbar\":{\"outlinewidth\":0,\"ticks\":\"\"}},\"marker\":{\"colorbar\":{\"outlinewidth\":0,\"ticks\":\"\"}}}],\"scattermapbox\":[{\"type\":\"scattermapbox\",\"marker\":{\"colorbar\":{\"outlinewidth\":0,\"ticks\":\"\"}}}],\"scatterternary\":[{\"type\":\"scatterternary\",\"marker\":{\"colorbar\":{\"outlinewidth\":0,\"ticks\":\"\"}}}],\"scattercarpet\":[{\"type\":\"scattercarpet\",\"marker\":{\"colorbar\":{\"outlinewidth\":0,\"ticks\":\"\"}}}],\"carpet\":[{\"aaxis\":{\"endlinecolor\":\"#2a3f5f\",\"gridcolor\":\"white\",\"linecolor\":\"white\",\"minorgridcolor\":\"white\",\"startlinecolor\":\"#2a3f5f\"},\"baxis\":{\"endlinecolor\":\"#2a3f5f\",\"gridcolor\":\"white\",\"linecolor\":\"white\",\"minorgridcolor\":\"white\",\"startlinecolor\":\"#2a3f5f\"},\"type\":\"carpet\"}],\"table\":[{\"cells\":{\"fill\":{\"color\":\"#EBF0F8\"},\"line\":{\"color\":\"white\"}},\"header\":{\"fill\":{\"color\":\"#C8D4E3\"},\"line\":{\"color\":\"white\"}},\"type\":\"table\"}],\"barpolar\":[{\"marker\":{\"line\":{\"color\":\"#E5ECF6\",\"width\":0.5},\"pattern\":{\"fillmode\":\"overlay\",\"size\":10,\"solidity\":0.2}},\"type\":\"barpolar\"}],\"pie\":[{\"automargin\":true,\"type\":\"pie\"}]},\"layout\":{\"autotypenumbers\":\"strict\",\"colorway\":[\"#636efa\",\"#EF553B\",\"#00cc96\",\"#ab63fa\",\"#FFA15A\",\"#19d3f3\",\"#FF6692\",\"#B6E880\",\"#FF97FF\",\"#FECB52\"],\"font\":{\"color\":\"#2a3f5f\"},\"hovermode\":\"closest\",\"hoverlabel\":{\"align\":\"left\"},\"paper_bgcolor\":\"white\",\"plot_bgcolor\":\"#E5ECF6\",\"polar\":{\"bgcolor\":\"#E5ECF6\",\"angularaxis\":{\"gridcolor\":\"white\",\"linecolor\":\"white\",\"ticks\":\"\"},\"radialaxis\":{\"gridcolor\":\"white\",\"linecolor\":\"white\",\"ticks\":\"\"}},\"ternary\":{\"bgcolor\":\"#E5ECF6\",\"aaxis\":{\"gridcolor\":\"white\",\"linecolor\":\"white\",\"ticks\":\"\"},\"baxis\":{\"gridcolor\":\"white\",\"linecolor\":\"white\",\"ticks\":\"\"},\"caxis\":{\"gridcolor\":\"white\",\"linecolor\":\"white\",\"ticks\":\"\"}},\"coloraxis\":{\"colorbar\":{\"outlinewidth\":0,\"ticks\":\"\"}},\"colorscale\":{\"sequential\":[[0.0,\"#0d0887\"],[0.1111111111111111,\"#46039f\"],[0.2222222222222222,\"#7201a8\"],[0.3333333333333333,\"#9c179e\"],[0.4444444444444444,\"#bd3786\"],[0.5555555555555556,\"#d8576b\"],[0.6666666666666666,\"#ed7953\"],[0.7777777777777778,\"#fb9f3a\"],[0.8888888888888888,\"#fdca26\"],[1.0,\"#f0f921\"]],\"sequentialminus\":[[0.0,\"#0d0887\"],[0.1111111111111111,\"#46039f\"],[0.2222222222222222,\"#7201a8\"],[0.3333333333333333,\"#9c179e\"],[0.4444444444444444,\"#bd3786\"],[0.5555555555555556,\"#d8576b\"],[0.6666666666666666,\"#ed7953\"],[0.7777777777777778,\"#fb9f3a\"],[0.8888888888888888,\"#fdca26\"],[1.0,\"#f0f921\"]],\"diverging\":[[0,\"#8e0152\"],[0.1,\"#c51b7d\"],[0.2,\"#de77ae\"],[0.3,\"#f1b6da\"],[0.4,\"#fde0ef\"],[0.5,\"#f7f7f7\"],[0.6,\"#e6f5d0\"],[0.7,\"#b8e186\"],[0.8,\"#7fbc41\"],[0.9,\"#4d9221\"],[1,\"#276419\"]]},\"xaxis\":{\"gridcolor\":\"white\",\"linecolor\":\"white\",\"ticks\":\"\",\"title\":{\"standoff\":15},\"zerolinecolor\":\"white\",\"automargin\":true,\"zerolinewidth\":2},\"yaxis\":{\"gridcolor\":\"white\",\"linecolor\":\"white\",\"ticks\":\"\",\"title\":{\"standoff\":15},\"zerolinecolor\":\"white\",\"automargin\":true,\"zerolinewidth\":2},\"scene\":{\"xaxis\":{\"backgroundcolor\":\"#E5ECF6\",\"gridcolor\":\"white\",\"linecolor\":\"white\",\"showbackground\":true,\"ticks\":\"\",\"zerolinecolor\":\"white\",\"gridwidth\":2},\"yaxis\":{\"backgroundcolor\":\"#E5ECF6\",\"gridcolor\":\"white\",\"linecolor\":\"white\",\"showbackground\":true,\"ticks\":\"\",\"zerolinecolor\":\"white\",\"gridwidth\":2},\"zaxis\":{\"backgroundcolor\":\"#E5ECF6\",\"gridcolor\":\"white\",\"linecolor\":\"white\",\"showbackground\":true,\"ticks\":\"\",\"zerolinecolor\":\"white\",\"gridwidth\":2}},\"shapedefaults\":{\"line\":{\"color\":\"#2a3f5f\"}},\"annotationdefaults\":{\"arrowcolor\":\"#2a3f5f\",\"arrowhead\":0,\"arrowwidth\":1},\"geo\":{\"bgcolor\":\"white\",\"landcolor\":\"#E5ECF6\",\"subunitcolor\":\"white\",\"showland\":true,\"showlakes\":true,\"lakecolor\":\"white\"},\"title\":{\"x\":0.05},\"mapbox\":{\"style\":\"light\"}}},\"xaxis\":{\"anchor\":\"y\",\"domain\":[0.0,1.0]},\"yaxis\":{\"anchor\":\"x\",\"domain\":[0.0,1.0],\"title\":{\"text\":\"pontuacao\"}},\"legend\":{\"tracegroupgap\":0},\"margin\":{\"t\":60},\"boxmode\":\"group\"},                        {\"responsive\": true}                    ).then(function(){\n",
       "                            \n",
       "var gd = document.getElementById('38a24796-54cb-4259-a289-9b6f019d5f46');\n",
       "var x = new MutationObserver(function (mutations, observer) {{\n",
       "        var display = window.getComputedStyle(gd).display;\n",
       "        if (!display || display === 'none') {{\n",
       "            console.log([gd, 'removed!']);\n",
       "            Plotly.purge(gd);\n",
       "            observer.disconnect();\n",
       "        }}\n",
       "}});\n",
       "\n",
       "// Listen for the removal of the full notebook cells\n",
       "var notebookContainer = gd.closest('#notebook-container');\n",
       "if (notebookContainer) {{\n",
       "    x.observe(notebookContainer, {childList: true});\n",
       "}}\n",
       "\n",
       "// Listen for the clearing of the current output cell\n",
       "var outputEl = gd.closest('.output');\n",
       "if (outputEl) {{\n",
       "    x.observe(outputEl, {childList: true});\n",
       "}}\n",
       "\n",
       "                        })                };                });            </script>        </div>"
      ]
     },
     "metadata": {},
     "output_type": "display_data"
    }
   ],
   "source": [
    "boxplot = px.box(df, y=\"pontuacao\")\n",
    "boxplot.show()"
   ]
  },
  {
   "cell_type": "markdown",
   "metadata": {
    "id": "VhAEKbnMhsA7",
    "jp-MarkdownHeadingCollapsed": true
   },
   "source": [
    "## **PRÉ-PROCESSAMENTO**"
   ]
  },
  {
   "cell_type": "code",
   "execution_count": 127,
   "metadata": {
    "colab": {
     "base_uri": "https://localhost:8080/",
     "height": 112
    },
    "id": "h6815ba1e7B9",
    "outputId": "3d891688-68ce-4f32-aa5a-0e33b035c3a4"
   },
   "outputs": [
    {
     "data": {
      "text/html": [
       "<div>\n",
       "<style scoped>\n",
       "    .dataframe tbody tr th:only-of-type {\n",
       "        vertical-align: middle;\n",
       "    }\n",
       "\n",
       "    .dataframe tbody tr th {\n",
       "        vertical-align: top;\n",
       "    }\n",
       "\n",
       "    .dataframe thead th {\n",
       "        text-align: right;\n",
       "    }\n",
       "</style>\n",
       "<table border=\"1\" class=\"dataframe\">\n",
       "  <thead>\n",
       "    <tr style=\"text-align: right;\">\n",
       "      <th></th>\n",
       "      <th>identificacao</th>\n",
       "      <th>genero</th>\n",
       "      <th>idade</th>\n",
       "      <th>rendimento</th>\n",
       "      <th>pontuacao</th>\n",
       "    </tr>\n",
       "  </thead>\n",
       "  <tbody>\n",
       "    <tr>\n",
       "      <th>0</th>\n",
       "      <td>1</td>\n",
       "      <td>Male</td>\n",
       "      <td>19</td>\n",
       "      <td>15</td>\n",
       "      <td>39</td>\n",
       "    </tr>\n",
       "    <tr>\n",
       "      <th>1</th>\n",
       "      <td>2</td>\n",
       "      <td>Male</td>\n",
       "      <td>21</td>\n",
       "      <td>15</td>\n",
       "      <td>81</td>\n",
       "    </tr>\n",
       "  </tbody>\n",
       "</table>\n",
       "</div>"
      ],
      "text/plain": [
       "   identificacao genero  idade  rendimento  pontuacao\n",
       "0              1   Male     19          15         39\n",
       "1              2   Male     21          15         81"
      ]
     },
     "execution_count": 127,
     "metadata": {},
     "output_type": "execute_result"
    }
   ],
   "source": [
    "df.head(2)"
   ]
  },
  {
   "cell_type": "markdown",
   "metadata": {
    "id": "ESNqyU7Jq7Vi"
   },
   "source": [
    "### **Excluir identificação do cliente**"
   ]
  },
  {
   "cell_type": "code",
   "execution_count": 128,
   "metadata": {
    "id": "PDWO3Tk1q0XY"
   },
   "outputs": [],
   "source": [
    "df2 = df.drop(labels = 'identificacao', axis = 1)"
   ]
  },
  {
   "cell_type": "code",
   "execution_count": 129,
   "metadata": {
    "colab": {
     "base_uri": "https://localhost:8080/",
     "height": 112
    },
    "id": "DNYn4ylbrCio",
    "outputId": "7e61ce99-e969-4dcf-fd5a-6d80472658a7"
   },
   "outputs": [
    {
     "data": {
      "text/html": [
       "<div>\n",
       "<style scoped>\n",
       "    .dataframe tbody tr th:only-of-type {\n",
       "        vertical-align: middle;\n",
       "    }\n",
       "\n",
       "    .dataframe tbody tr th {\n",
       "        vertical-align: top;\n",
       "    }\n",
       "\n",
       "    .dataframe thead th {\n",
       "        text-align: right;\n",
       "    }\n",
       "</style>\n",
       "<table border=\"1\" class=\"dataframe\">\n",
       "  <thead>\n",
       "    <tr style=\"text-align: right;\">\n",
       "      <th></th>\n",
       "      <th>genero</th>\n",
       "      <th>idade</th>\n",
       "      <th>rendimento</th>\n",
       "      <th>pontuacao</th>\n",
       "    </tr>\n",
       "  </thead>\n",
       "  <tbody>\n",
       "    <tr>\n",
       "      <th>0</th>\n",
       "      <td>Male</td>\n",
       "      <td>19</td>\n",
       "      <td>15</td>\n",
       "      <td>39</td>\n",
       "    </tr>\n",
       "    <tr>\n",
       "      <th>1</th>\n",
       "      <td>Male</td>\n",
       "      <td>21</td>\n",
       "      <td>15</td>\n",
       "      <td>81</td>\n",
       "    </tr>\n",
       "  </tbody>\n",
       "</table>\n",
       "</div>"
      ],
      "text/plain": [
       "  genero  idade  rendimento  pontuacao\n",
       "0   Male     19          15         39\n",
       "1   Male     21          15         81"
      ]
     },
     "execution_count": 129,
     "metadata": {},
     "output_type": "execute_result"
    }
   ],
   "source": [
    "df2.head(2)"
   ]
  },
  {
   "cell_type": "markdown",
   "metadata": {
    "id": "oBFSAQBtrJxs"
   },
   "source": [
    "### **Transformar variáveis categóricas em numéricas**"
   ]
  },
  {
   "cell_type": "code",
   "execution_count": 130,
   "metadata": {
    "id": "tQKOjoeQrI39"
   },
   "outputs": [],
   "source": [
    "df2['genero'].replace({'Female': 0, 'Male': 1}, inplace=True)"
   ]
  },
  {
   "cell_type": "code",
   "execution_count": 131,
   "metadata": {
    "colab": {
     "base_uri": "https://localhost:8080/",
     "height": 143
    },
    "id": "mlKoxv-irnLz",
    "outputId": "82d45c4e-06b3-4fc2-dd97-672ea4b337c1"
   },
   "outputs": [
    {
     "data": {
      "text/html": [
       "<div>\n",
       "<style scoped>\n",
       "    .dataframe tbody tr th:only-of-type {\n",
       "        vertical-align: middle;\n",
       "    }\n",
       "\n",
       "    .dataframe tbody tr th {\n",
       "        vertical-align: top;\n",
       "    }\n",
       "\n",
       "    .dataframe thead th {\n",
       "        text-align: right;\n",
       "    }\n",
       "</style>\n",
       "<table border=\"1\" class=\"dataframe\">\n",
       "  <thead>\n",
       "    <tr style=\"text-align: right;\">\n",
       "      <th></th>\n",
       "      <th>genero</th>\n",
       "      <th>idade</th>\n",
       "      <th>rendimento</th>\n",
       "      <th>pontuacao</th>\n",
       "    </tr>\n",
       "  </thead>\n",
       "  <tbody>\n",
       "    <tr>\n",
       "      <th>0</th>\n",
       "      <td>1</td>\n",
       "      <td>19</td>\n",
       "      <td>15</td>\n",
       "      <td>39</td>\n",
       "    </tr>\n",
       "    <tr>\n",
       "      <th>1</th>\n",
       "      <td>1</td>\n",
       "      <td>21</td>\n",
       "      <td>15</td>\n",
       "      <td>81</td>\n",
       "    </tr>\n",
       "    <tr>\n",
       "      <th>2</th>\n",
       "      <td>0</td>\n",
       "      <td>20</td>\n",
       "      <td>16</td>\n",
       "      <td>6</td>\n",
       "    </tr>\n",
       "  </tbody>\n",
       "</table>\n",
       "</div>"
      ],
      "text/plain": [
       "   genero  idade  rendimento  pontuacao\n",
       "0       1     19          15         39\n",
       "1       1     21          15         81\n",
       "2       0     20          16          6"
      ]
     },
     "execution_count": 131,
     "metadata": {},
     "output_type": "execute_result"
    }
   ],
   "source": [
    "df2.head(3)"
   ]
  },
  {
   "cell_type": "markdown",
   "metadata": {
    "id": "fe286LHJsKKs"
   },
   "source": [
    "### **Escalonamento**"
   ]
  },
  {
   "cell_type": "code",
   "execution_count": 132,
   "metadata": {
    "id": "qsrGO_mOsYby"
   },
   "outputs": [],
   "source": [
    "from sklearn.preprocessing import StandardScaler"
   ]
  },
  {
   "cell_type": "code",
   "execution_count": 133,
   "metadata": {
    "id": "KS9PoqfRsKVD"
   },
   "outputs": [],
   "source": [
    "escala = StandardScaler()\n",
    "df2_esc = escala.fit_transform(df2)"
   ]
  },
  {
   "cell_type": "code",
   "execution_count": 134,
   "metadata": {
    "colab": {
     "base_uri": "https://localhost:8080/"
    },
    "id": "43rc6sHusy-h",
    "outputId": "96ad2a94-1892-4547-b63d-a996eefa63ab"
   },
   "outputs": [
    {
     "data": {
      "text/plain": [
       "array([[ 1.12815215, -1.42456879, -1.73899919, -0.43480148],\n",
       "       [ 1.12815215, -1.28103541, -1.73899919,  1.19570407],\n",
       "       [-0.88640526, -1.3528021 , -1.70082976, -1.71591298],\n",
       "       [-0.88640526, -1.13750203, -1.70082976,  1.04041783],\n",
       "       [-0.88640526, -0.56336851, -1.66266033, -0.39597992],\n",
       "       [-0.88640526, -1.20926872, -1.66266033,  1.00159627],\n",
       "       [-0.88640526, -0.27630176, -1.62449091, -1.71591298],\n",
       "       [-0.88640526, -1.13750203, -1.62449091,  1.70038436],\n",
       "       [ 1.12815215,  1.80493225, -1.58632148, -1.83237767],\n",
       "       [-0.88640526, -0.6351352 , -1.58632148,  0.84631002],\n",
       "       [ 1.12815215,  2.02023231, -1.58632148, -1.4053405 ],\n",
       "       [-0.88640526, -0.27630176, -1.58632148,  1.89449216],\n",
       "       [-0.88640526,  1.37433211, -1.54815205, -1.36651894],\n",
       "       [-0.88640526, -1.06573534, -1.54815205,  1.04041783],\n",
       "       [ 1.12815215, -0.13276838, -1.54815205, -1.44416206],\n",
       "       [ 1.12815215, -1.20926872, -1.54815205,  1.11806095],\n",
       "       [-0.88640526, -0.27630176, -1.50998262, -0.59008772],\n",
       "       [ 1.12815215, -1.3528021 , -1.50998262,  0.61338066],\n",
       "       [ 1.12815215,  0.94373197, -1.43364376, -0.82301709],\n",
       "       [-0.88640526, -0.27630176, -1.43364376,  1.8556706 ],\n",
       "       [ 1.12815215, -0.27630176, -1.39547433, -0.59008772],\n",
       "       [ 1.12815215, -0.99396865, -1.39547433,  0.88513158],\n",
       "       [-0.88640526,  0.51313183, -1.3573049 , -1.75473454],\n",
       "       [ 1.12815215, -0.56336851, -1.3573049 ,  0.88513158],\n",
       "       [-0.88640526,  1.08726535, -1.24279661, -1.4053405 ],\n",
       "       [ 1.12815215, -0.70690189, -1.24279661,  1.23452563],\n",
       "       [-0.88640526,  0.44136514, -1.24279661, -0.7065524 ],\n",
       "       [ 1.12815215, -0.27630176, -1.24279661,  0.41927286],\n",
       "       [-0.88640526,  0.08253169, -1.20462718, -0.74537397],\n",
       "       [-0.88640526, -1.13750203, -1.20462718,  1.42863343],\n",
       "       [ 1.12815215,  1.51786549, -1.16645776, -1.7935561 ],\n",
       "       [-0.88640526, -1.28103541, -1.16645776,  0.88513158],\n",
       "       [ 1.12815215,  1.01549866, -1.05194947, -1.7935561 ],\n",
       "       [ 1.12815215, -1.49633548, -1.05194947,  1.62274124],\n",
       "       [-0.88640526,  0.7284319 , -1.05194947, -1.4053405 ],\n",
       "       [-0.88640526, -1.28103541, -1.05194947,  1.19570407],\n",
       "       [-0.88640526,  0.22606507, -1.01378004, -1.28887582],\n",
       "       [-0.88640526, -0.6351352 , -1.01378004,  0.88513158],\n",
       "       [-0.88640526, -0.20453507, -0.89927175, -0.93948177],\n",
       "       [-0.88640526, -1.3528021 , -0.89927175,  0.96277471],\n",
       "       [-0.88640526,  1.87669894, -0.86110232, -0.59008772],\n",
       "       [ 1.12815215, -1.06573534, -0.86110232,  1.62274124],\n",
       "       [ 1.12815215,  0.65666521, -0.82293289, -0.55126616],\n",
       "       [-0.88640526, -0.56336851, -0.82293289,  0.41927286],\n",
       "       [-0.88640526,  0.7284319 , -0.82293289, -0.86183865],\n",
       "       [-0.88640526, -1.06573534, -0.82293289,  0.5745591 ],\n",
       "       [-0.88640526,  0.80019859, -0.78476346,  0.18634349],\n",
       "       [-0.88640526, -0.85043527, -0.78476346, -0.12422899],\n",
       "       [-0.88640526, -0.70690189, -0.78476346, -0.3183368 ],\n",
       "       [-0.88640526, -0.56336851, -0.78476346, -0.3183368 ],\n",
       "       [-0.88640526,  0.7284319 , -0.70842461,  0.06987881],\n",
       "       [ 1.12815215, -0.41983513, -0.70842461,  0.38045129],\n",
       "       [-0.88640526, -0.56336851, -0.67025518,  0.14752193],\n",
       "       [ 1.12815215,  1.4460988 , -0.67025518,  0.38045129],\n",
       "       [-0.88640526,  0.80019859, -0.67025518, -0.20187212],\n",
       "       [ 1.12815215,  0.58489852, -0.67025518, -0.35715836],\n",
       "       [-0.88640526,  0.87196528, -0.63208575, -0.00776431],\n",
       "       [ 1.12815215,  2.16376569, -0.63208575, -0.16305055],\n",
       "       [-0.88640526, -0.85043527, -0.55574689,  0.03105725],\n",
       "       [ 1.12815215,  1.01549866, -0.55574689, -0.16305055],\n",
       "       [ 1.12815215,  2.23553238, -0.55574689,  0.22516505],\n",
       "       [ 1.12815215, -1.42456879, -0.55574689,  0.18634349],\n",
       "       [-0.88640526,  2.02023231, -0.51757746,  0.06987881],\n",
       "       [-0.88640526,  1.08726535, -0.51757746,  0.34162973],\n",
       "       [ 1.12815215,  1.73316556, -0.47940803,  0.03105725],\n",
       "       [ 1.12815215, -1.49633548, -0.47940803,  0.34162973],\n",
       "       [-0.88640526,  0.29783176, -0.47940803, -0.00776431],\n",
       "       [-0.88640526,  2.091999  , -0.47940803, -0.08540743],\n",
       "       [ 1.12815215, -1.42456879, -0.47940803,  0.34162973],\n",
       "       [-0.88640526, -0.49160182, -0.47940803, -0.12422899],\n",
       "       [ 1.12815215,  2.23553238, -0.4412386 ,  0.18634349],\n",
       "       [-0.88640526,  0.58489852, -0.4412386 , -0.3183368 ],\n",
       "       [-0.88640526,  1.51786549, -0.40306917, -0.04658587],\n",
       "       [-0.88640526,  1.51786549, -0.40306917,  0.22516505],\n",
       "       [ 1.12815215,  1.4460988 , -0.25039146, -0.12422899],\n",
       "       [ 1.12815215, -0.92220196, -0.25039146,  0.14752193],\n",
       "       [-0.88640526,  0.44136514, -0.25039146,  0.10870037],\n",
       "       [ 1.12815215,  0.08253169, -0.25039146, -0.08540743],\n",
       "       [-0.88640526, -1.13750203, -0.25039146,  0.06987881],\n",
       "       [-0.88640526,  0.7284319 , -0.25039146, -0.3183368 ],\n",
       "       [ 1.12815215,  1.30256542, -0.25039146,  0.03105725],\n",
       "       [ 1.12815215, -0.06100169, -0.25039146,  0.18634349],\n",
       "       [ 1.12815215,  2.02023231, -0.25039146, -0.35715836],\n",
       "       [-0.88640526,  0.51313183, -0.25039146, -0.24069368],\n",
       "       [-0.88640526, -1.28103541, -0.25039146,  0.26398661],\n",
       "       [ 1.12815215,  0.65666521, -0.25039146, -0.16305055],\n",
       "       [-0.88640526,  1.15903204, -0.13588317,  0.30280817],\n",
       "       [-0.88640526, -1.20926872, -0.13588317,  0.18634349],\n",
       "       [-0.88640526, -0.34806844, -0.09771374,  0.38045129],\n",
       "       [-0.88640526,  0.80019859, -0.09771374, -0.16305055],\n",
       "       [-0.88640526,  2.091999  , -0.05954431,  0.18634349],\n",
       "       [ 1.12815215, -1.49633548, -0.05954431, -0.35715836],\n",
       "       [ 1.12815215,  0.65666521, -0.02137488, -0.04658587],\n",
       "       [-0.88640526,  0.08253169, -0.02137488, -0.39597992],\n",
       "       [-0.88640526, -0.49160182, -0.02137488, -0.3183368 ],\n",
       "       [ 1.12815215, -1.06573534, -0.02137488,  0.06987881],\n",
       "       [-0.88640526,  0.58489852, -0.02137488, -0.12422899],\n",
       "       [-0.88640526, -0.85043527, -0.02137488, -0.00776431],\n",
       "       [ 1.12815215,  0.65666521,  0.01679455, -0.3183368 ],\n",
       "       [ 1.12815215, -1.3528021 ,  0.01679455, -0.04658587],\n",
       "       [-0.88640526, -1.13750203,  0.05496398, -0.35715836],\n",
       "       [-0.88640526,  0.7284319 ,  0.05496398, -0.08540743],\n",
       "       [ 1.12815215,  2.02023231,  0.05496398,  0.34162973],\n",
       "       [ 1.12815215, -0.92220196,  0.05496398,  0.18634349],\n",
       "       [ 1.12815215,  0.7284319 ,  0.05496398,  0.22516505],\n",
       "       [-0.88640526, -1.28103541,  0.05496398, -0.3183368 ],\n",
       "       [-0.88640526,  1.94846562,  0.09313341, -0.00776431],\n",
       "       [ 1.12815215,  1.08726535,  0.09313341, -0.16305055],\n",
       "       [ 1.12815215,  2.091999  ,  0.09313341, -0.27951524],\n",
       "       [ 1.12815215,  1.94846562,  0.09313341, -0.08540743],\n",
       "       [ 1.12815215,  1.87669894,  0.09313341,  0.06987881],\n",
       "       [-0.88640526, -1.42456879,  0.09313341,  0.14752193],\n",
       "       [-0.88640526, -0.06100169,  0.13130284, -0.3183368 ],\n",
       "       [ 1.12815215, -1.42456879,  0.13130284, -0.16305055],\n",
       "       [-0.88640526, -1.49633548,  0.16947227, -0.08540743],\n",
       "       [-0.88640526, -1.42456879,  0.16947227, -0.00776431],\n",
       "       [-0.88640526,  1.73316556,  0.16947227, -0.27951524],\n",
       "       [-0.88640526,  0.7284319 ,  0.16947227,  0.34162973],\n",
       "       [-0.88640526,  0.87196528,  0.24581112, -0.27951524],\n",
       "       [-0.88640526,  0.80019859,  0.24581112,  0.26398661],\n",
       "       [ 1.12815215, -0.85043527,  0.24581112,  0.22516505],\n",
       "       [-0.88640526, -0.06100169,  0.24581112, -0.39597992],\n",
       "       [-0.88640526,  0.08253169,  0.32214998,  0.30280817],\n",
       "       [ 1.12815215,  0.010765  ,  0.32214998,  1.58391968],\n",
       "       [-0.88640526, -1.13750203,  0.36031941, -0.82301709],\n",
       "       [-0.88640526, -0.56336851,  0.36031941,  1.04041783],\n",
       "       [ 1.12815215,  0.29783176,  0.39848884, -0.59008772],\n",
       "       [ 1.12815215,  0.08253169,  0.39848884,  1.73920592],\n",
       "       [ 1.12815215,  1.4460988 ,  0.39848884, -1.52180518],\n",
       "       [ 1.12815215, -0.06100169,  0.39848884,  0.96277471],\n",
       "       [ 1.12815215,  0.58489852,  0.39848884, -1.5994483 ],\n",
       "       [ 1.12815215,  0.010765  ,  0.39848884,  0.96277471],\n",
       "       [-0.88640526, -0.99396865,  0.43665827, -0.62890928],\n",
       "       [-0.88640526, -0.56336851,  0.43665827,  0.80748846],\n",
       "       [ 1.12815215, -1.3528021 ,  0.4748277 , -1.75473454],\n",
       "       [-0.88640526, -0.70690189,  0.4748277 ,  1.46745499],\n",
       "       [-0.88640526,  0.36959845,  0.4748277 , -1.67709142],\n",
       "       [ 1.12815215, -0.49160182,  0.4748277 ,  0.88513158],\n",
       "       [ 1.12815215, -1.42456879,  0.51299713, -1.56062674],\n",
       "       [-0.88640526, -0.27630176,  0.51299713,  0.84631002],\n",
       "       [-0.88640526,  1.30256542,  0.55116656, -1.75473454],\n",
       "       [ 1.12815215, -0.49160182,  0.55116656,  1.6615628 ],\n",
       "       [-0.88640526, -0.77866858,  0.58933599, -0.39597992],\n",
       "       [-0.88640526, -0.49160182,  0.58933599,  1.42863343],\n",
       "       [ 1.12815215, -0.99396865,  0.62750542, -1.48298362],\n",
       "       [ 1.12815215, -0.77866858,  0.62750542,  1.81684904],\n",
       "       [ 1.12815215,  0.65666521,  0.62750542, -0.55126616],\n",
       "       [-0.88640526, -0.49160182,  0.62750542,  0.92395314],\n",
       "       [-0.88640526, -0.34806844,  0.66567484, -1.09476801],\n",
       "       [ 1.12815215, -0.34806844,  0.66567484,  1.54509812],\n",
       "       [ 1.12815215,  0.29783176,  0.66567484, -1.28887582],\n",
       "       [ 1.12815215,  0.010765  ,  0.66567484,  1.46745499],\n",
       "       [-0.88640526,  0.36959845,  0.66567484, -1.17241113],\n",
       "       [-0.88640526, -0.06100169,  0.66567484,  1.00159627],\n",
       "       [-0.88640526,  0.58489852,  0.66567484, -1.32769738],\n",
       "       [-0.88640526, -0.85043527,  0.66567484,  1.50627656],\n",
       "       [ 1.12815215, -0.13276838,  0.66567484, -1.91002079],\n",
       "       [-0.88640526, -0.6351352 ,  0.66567484,  1.07923939],\n",
       "       [ 1.12815215, -0.34806844,  0.66567484, -1.91002079],\n",
       "       [-0.88640526, -0.6351352 ,  0.66567484,  0.88513158],\n",
       "       [-0.88640526,  1.23079873,  0.70384427, -0.59008772],\n",
       "       [-0.88640526, -0.70690189,  0.70384427,  1.27334719],\n",
       "       [ 1.12815215, -1.42456879,  0.78018313, -1.75473454],\n",
       "       [-0.88640526, -0.56336851,  0.78018313,  1.6615628 ],\n",
       "       [ 1.12815215,  0.80019859,  0.93286085, -0.93948177],\n",
       "       [-0.88640526, -0.20453507,  0.93286085,  0.96277471],\n",
       "       [ 1.12815215,  0.22606507,  0.97103028, -1.17241113],\n",
       "       [-0.88640526, -0.41983513,  0.97103028,  1.73920592],\n",
       "       [-0.88640526, -0.20453507,  1.00919971, -0.90066021],\n",
       "       [ 1.12815215, -0.49160182,  1.00919971,  0.49691598],\n",
       "       [ 1.12815215,  0.08253169,  1.00919971, -1.44416206],\n",
       "       [ 1.12815215, -0.77866858,  1.00919971,  0.96277471],\n",
       "       [ 1.12815215, -0.20453507,  1.00919971, -1.56062674],\n",
       "       [ 1.12815215, -0.20453507,  1.00919971,  1.62274124],\n",
       "       [-0.88640526,  0.94373197,  1.04736914, -1.44416206],\n",
       "       [-0.88640526, -0.6351352 ,  1.04736914,  1.38981187],\n",
       "       [ 1.12815215,  1.37433211,  1.04736914, -1.36651894],\n",
       "       [ 1.12815215, -0.85043527,  1.04736914,  0.72984534],\n",
       "       [ 1.12815215,  1.4460988 ,  1.23821628, -1.4053405 ],\n",
       "       [ 1.12815215, -0.27630176,  1.23821628,  1.54509812],\n",
       "       [-0.88640526, -0.13276838,  1.390894  , -0.7065524 ],\n",
       "       [-0.88640526, -0.49160182,  1.390894  ,  1.38981187],\n",
       "       [ 1.12815215,  0.51313183,  1.42906343, -1.36651894],\n",
       "       [-0.88640526, -0.70690189,  1.42906343,  1.46745499],\n",
       "       [-0.88640526,  0.15429838,  1.46723286, -0.43480148],\n",
       "       [ 1.12815215, -0.6351352 ,  1.46723286,  1.81684904],\n",
       "       [-0.88640526,  1.08726535,  1.54357172, -1.01712489],\n",
       "       [ 1.12815215, -0.77866858,  1.54357172,  0.69102378],\n",
       "       [-0.88640526,  0.15429838,  1.61991057, -1.28887582],\n",
       "       [-0.88640526, -0.20453507,  1.61991057,  1.35099031],\n",
       "       [-0.88640526, -0.34806844,  1.61991057, -1.05594645],\n",
       "       [-0.88640526, -0.49160182,  1.61991057,  0.72984534],\n",
       "       [ 1.12815215, -0.41983513,  2.00160487, -1.63826986],\n",
       "       [-0.88640526, -0.06100169,  2.00160487,  1.58391968],\n",
       "       [-0.88640526,  0.58489852,  2.26879087, -1.32769738],\n",
       "       [-0.88640526, -0.27630176,  2.26879087,  1.11806095],\n",
       "       [-0.88640526,  0.44136514,  2.49780745, -0.86183865],\n",
       "       [ 1.12815215, -0.49160182,  2.49780745,  0.92395314],\n",
       "       [ 1.12815215, -0.49160182,  2.91767117, -1.25005425],\n",
       "       [ 1.12815215, -0.6351352 ,  2.91767117,  1.27334719]])"
      ]
     },
     "execution_count": 134,
     "metadata": {},
     "output_type": "execute_result"
    }
   ],
   "source": [
    "df2_esc"
   ]
  },
  {
   "cell_type": "markdown",
   "metadata": {
    "id": "yLfzT092srdm",
    "jp-MarkdownHeadingCollapsed": true
   },
   "source": [
    "## **K-MEANS COM DOIS ATRIBUTOS**"
   ]
  },
  {
   "cell_type": "markdown",
   "metadata": {
    "id": "VM5oU_CcI44j"
   },
   "source": [
    "https://scikit-learn.org/stable/modules/generated/sklearn.cluster.KMeans.html"
   ]
  },
  {
   "cell_type": "code",
   "execution_count": 135,
   "metadata": {
    "colab": {
     "base_uri": "https://localhost:8080/",
     "height": 423
    },
    "id": "P5lT9DtaOUc_",
    "outputId": "fc332b79-5a63-488c-fb8d-c0bc3a7b11c6"
   },
   "outputs": [
    {
     "data": {
      "text/html": [
       "<div>\n",
       "<style scoped>\n",
       "    .dataframe tbody tr th:only-of-type {\n",
       "        vertical-align: middle;\n",
       "    }\n",
       "\n",
       "    .dataframe tbody tr th {\n",
       "        vertical-align: top;\n",
       "    }\n",
       "\n",
       "    .dataframe thead th {\n",
       "        text-align: right;\n",
       "    }\n",
       "</style>\n",
       "<table border=\"1\" class=\"dataframe\">\n",
       "  <thead>\n",
       "    <tr style=\"text-align: right;\">\n",
       "      <th></th>\n",
       "      <th>genero</th>\n",
       "      <th>idade</th>\n",
       "      <th>rendimento</th>\n",
       "      <th>pontuacao</th>\n",
       "    </tr>\n",
       "  </thead>\n",
       "  <tbody>\n",
       "    <tr>\n",
       "      <th>0</th>\n",
       "      <td>1</td>\n",
       "      <td>19</td>\n",
       "      <td>15</td>\n",
       "      <td>39</td>\n",
       "    </tr>\n",
       "    <tr>\n",
       "      <th>1</th>\n",
       "      <td>1</td>\n",
       "      <td>21</td>\n",
       "      <td>15</td>\n",
       "      <td>81</td>\n",
       "    </tr>\n",
       "    <tr>\n",
       "      <th>2</th>\n",
       "      <td>0</td>\n",
       "      <td>20</td>\n",
       "      <td>16</td>\n",
       "      <td>6</td>\n",
       "    </tr>\n",
       "    <tr>\n",
       "      <th>3</th>\n",
       "      <td>0</td>\n",
       "      <td>23</td>\n",
       "      <td>16</td>\n",
       "      <td>77</td>\n",
       "    </tr>\n",
       "    <tr>\n",
       "      <th>4</th>\n",
       "      <td>0</td>\n",
       "      <td>31</td>\n",
       "      <td>17</td>\n",
       "      <td>40</td>\n",
       "    </tr>\n",
       "    <tr>\n",
       "      <th>...</th>\n",
       "      <td>...</td>\n",
       "      <td>...</td>\n",
       "      <td>...</td>\n",
       "      <td>...</td>\n",
       "    </tr>\n",
       "    <tr>\n",
       "      <th>195</th>\n",
       "      <td>0</td>\n",
       "      <td>35</td>\n",
       "      <td>120</td>\n",
       "      <td>79</td>\n",
       "    </tr>\n",
       "    <tr>\n",
       "      <th>196</th>\n",
       "      <td>0</td>\n",
       "      <td>45</td>\n",
       "      <td>126</td>\n",
       "      <td>28</td>\n",
       "    </tr>\n",
       "    <tr>\n",
       "      <th>197</th>\n",
       "      <td>1</td>\n",
       "      <td>32</td>\n",
       "      <td>126</td>\n",
       "      <td>74</td>\n",
       "    </tr>\n",
       "    <tr>\n",
       "      <th>198</th>\n",
       "      <td>1</td>\n",
       "      <td>32</td>\n",
       "      <td>137</td>\n",
       "      <td>18</td>\n",
       "    </tr>\n",
       "    <tr>\n",
       "      <th>199</th>\n",
       "      <td>1</td>\n",
       "      <td>30</td>\n",
       "      <td>137</td>\n",
       "      <td>83</td>\n",
       "    </tr>\n",
       "  </tbody>\n",
       "</table>\n",
       "<p>200 rows × 4 columns</p>\n",
       "</div>"
      ],
      "text/plain": [
       "     genero  idade  rendimento  pontuacao\n",
       "0         1     19          15         39\n",
       "1         1     21          15         81\n",
       "2         0     20          16          6\n",
       "3         0     23          16         77\n",
       "4         0     31          17         40\n",
       "..      ...    ...         ...        ...\n",
       "195       0     35         120         79\n",
       "196       0     45         126         28\n",
       "197       1     32         126         74\n",
       "198       1     32         137         18\n",
       "199       1     30         137         83\n",
       "\n",
       "[200 rows x 4 columns]"
      ]
     },
     "execution_count": 135,
     "metadata": {},
     "output_type": "execute_result"
    }
   ],
   "source": [
    "df2"
   ]
  },
  {
   "cell_type": "code",
   "execution_count": 136,
   "metadata": {
    "id": "CP3iUZQ1hsRQ"
   },
   "outputs": [],
   "source": [
    "dados = df2.iloc[:, [2,3]].values"
   ]
  },
  {
   "cell_type": "code",
   "execution_count": 137,
   "metadata": {
    "colab": {
     "base_uri": "https://localhost:8080/"
    },
    "id": "H23dt_eUd4ux",
    "outputId": "4357bb6f-92a0-42fb-96f9-3776308cb1d3"
   },
   "outputs": [
    {
     "data": {
      "text/plain": [
       "array([[ 15,  39],\n",
       "       [ 15,  81],\n",
       "       [ 16,   6],\n",
       "       [ 16,  77],\n",
       "       [ 17,  40],\n",
       "       [ 17,  76],\n",
       "       [ 18,   6],\n",
       "       [ 18,  94],\n",
       "       [ 19,   3],\n",
       "       [ 19,  72],\n",
       "       [ 19,  14],\n",
       "       [ 19,  99],\n",
       "       [ 20,  15],\n",
       "       [ 20,  77],\n",
       "       [ 20,  13],\n",
       "       [ 20,  79],\n",
       "       [ 21,  35],\n",
       "       [ 21,  66],\n",
       "       [ 23,  29],\n",
       "       [ 23,  98],\n",
       "       [ 24,  35],\n",
       "       [ 24,  73],\n",
       "       [ 25,   5],\n",
       "       [ 25,  73],\n",
       "       [ 28,  14],\n",
       "       [ 28,  82],\n",
       "       [ 28,  32],\n",
       "       [ 28,  61],\n",
       "       [ 29,  31],\n",
       "       [ 29,  87],\n",
       "       [ 30,   4],\n",
       "       [ 30,  73],\n",
       "       [ 33,   4],\n",
       "       [ 33,  92],\n",
       "       [ 33,  14],\n",
       "       [ 33,  81],\n",
       "       [ 34,  17],\n",
       "       [ 34,  73],\n",
       "       [ 37,  26],\n",
       "       [ 37,  75],\n",
       "       [ 38,  35],\n",
       "       [ 38,  92],\n",
       "       [ 39,  36],\n",
       "       [ 39,  61],\n",
       "       [ 39,  28],\n",
       "       [ 39,  65],\n",
       "       [ 40,  55],\n",
       "       [ 40,  47],\n",
       "       [ 40,  42],\n",
       "       [ 40,  42],\n",
       "       [ 42,  52],\n",
       "       [ 42,  60],\n",
       "       [ 43,  54],\n",
       "       [ 43,  60],\n",
       "       [ 43,  45],\n",
       "       [ 43,  41],\n",
       "       [ 44,  50],\n",
       "       [ 44,  46],\n",
       "       [ 46,  51],\n",
       "       [ 46,  46],\n",
       "       [ 46,  56],\n",
       "       [ 46,  55],\n",
       "       [ 47,  52],\n",
       "       [ 47,  59],\n",
       "       [ 48,  51],\n",
       "       [ 48,  59],\n",
       "       [ 48,  50],\n",
       "       [ 48,  48],\n",
       "       [ 48,  59],\n",
       "       [ 48,  47],\n",
       "       [ 49,  55],\n",
       "       [ 49,  42],\n",
       "       [ 50,  49],\n",
       "       [ 50,  56],\n",
       "       [ 54,  47],\n",
       "       [ 54,  54],\n",
       "       [ 54,  53],\n",
       "       [ 54,  48],\n",
       "       [ 54,  52],\n",
       "       [ 54,  42],\n",
       "       [ 54,  51],\n",
       "       [ 54,  55],\n",
       "       [ 54,  41],\n",
       "       [ 54,  44],\n",
       "       [ 54,  57],\n",
       "       [ 54,  46],\n",
       "       [ 57,  58],\n",
       "       [ 57,  55],\n",
       "       [ 58,  60],\n",
       "       [ 58,  46],\n",
       "       [ 59,  55],\n",
       "       [ 59,  41],\n",
       "       [ 60,  49],\n",
       "       [ 60,  40],\n",
       "       [ 60,  42],\n",
       "       [ 60,  52],\n",
       "       [ 60,  47],\n",
       "       [ 60,  50],\n",
       "       [ 61,  42],\n",
       "       [ 61,  49],\n",
       "       [ 62,  41],\n",
       "       [ 62,  48],\n",
       "       [ 62,  59],\n",
       "       [ 62,  55],\n",
       "       [ 62,  56],\n",
       "       [ 62,  42],\n",
       "       [ 63,  50],\n",
       "       [ 63,  46],\n",
       "       [ 63,  43],\n",
       "       [ 63,  48],\n",
       "       [ 63,  52],\n",
       "       [ 63,  54],\n",
       "       [ 64,  42],\n",
       "       [ 64,  46],\n",
       "       [ 65,  48],\n",
       "       [ 65,  50],\n",
       "       [ 65,  43],\n",
       "       [ 65,  59],\n",
       "       [ 67,  43],\n",
       "       [ 67,  57],\n",
       "       [ 67,  56],\n",
       "       [ 67,  40],\n",
       "       [ 69,  58],\n",
       "       [ 69,  91],\n",
       "       [ 70,  29],\n",
       "       [ 70,  77],\n",
       "       [ 71,  35],\n",
       "       [ 71,  95],\n",
       "       [ 71,  11],\n",
       "       [ 71,  75],\n",
       "       [ 71,   9],\n",
       "       [ 71,  75],\n",
       "       [ 72,  34],\n",
       "       [ 72,  71],\n",
       "       [ 73,   5],\n",
       "       [ 73,  88],\n",
       "       [ 73,   7],\n",
       "       [ 73,  73],\n",
       "       [ 74,  10],\n",
       "       [ 74,  72],\n",
       "       [ 75,   5],\n",
       "       [ 75,  93],\n",
       "       [ 76,  40],\n",
       "       [ 76,  87],\n",
       "       [ 77,  12],\n",
       "       [ 77,  97],\n",
       "       [ 77,  36],\n",
       "       [ 77,  74],\n",
       "       [ 78,  22],\n",
       "       [ 78,  90],\n",
       "       [ 78,  17],\n",
       "       [ 78,  88],\n",
       "       [ 78,  20],\n",
       "       [ 78,  76],\n",
       "       [ 78,  16],\n",
       "       [ 78,  89],\n",
       "       [ 78,   1],\n",
       "       [ 78,  78],\n",
       "       [ 78,   1],\n",
       "       [ 78,  73],\n",
       "       [ 79,  35],\n",
       "       [ 79,  83],\n",
       "       [ 81,   5],\n",
       "       [ 81,  93],\n",
       "       [ 85,  26],\n",
       "       [ 85,  75],\n",
       "       [ 86,  20],\n",
       "       [ 86,  95],\n",
       "       [ 87,  27],\n",
       "       [ 87,  63],\n",
       "       [ 87,  13],\n",
       "       [ 87,  75],\n",
       "       [ 87,  10],\n",
       "       [ 87,  92],\n",
       "       [ 88,  13],\n",
       "       [ 88,  86],\n",
       "       [ 88,  15],\n",
       "       [ 88,  69],\n",
       "       [ 93,  14],\n",
       "       [ 93,  90],\n",
       "       [ 97,  32],\n",
       "       [ 97,  86],\n",
       "       [ 98,  15],\n",
       "       [ 98,  88],\n",
       "       [ 99,  39],\n",
       "       [ 99,  97],\n",
       "       [101,  24],\n",
       "       [101,  68],\n",
       "       [103,  17],\n",
       "       [103,  85],\n",
       "       [103,  23],\n",
       "       [103,  69],\n",
       "       [113,   8],\n",
       "       [113,  91],\n",
       "       [120,  16],\n",
       "       [120,  79],\n",
       "       [126,  28],\n",
       "       [126,  74],\n",
       "       [137,  18],\n",
       "       [137,  83]])"
      ]
     },
     "execution_count": 137,
     "metadata": {},
     "output_type": "execute_result"
    }
   ],
   "source": [
    "dados"
   ]
  },
  {
   "cell_type": "markdown",
   "metadata": {
    "id": "H9r1X8Ksh8-L"
   },
   "source": [
    "**Elbow Method**"
   ]
  },
  {
   "cell_type": "code",
   "execution_count": 138,
   "metadata": {
    "id": "-db_9Oa7h4NK"
   },
   "outputs": [],
   "source": [
    "from sklearn.cluster import KMeans\n",
    "wcss = []\n",
    "for i in range(1, 11):\n",
    "    kmeans = KMeans(n_clusters = i, init = 'k-means++', random_state = 5, max_iter = 300)\n",
    "    kmeans.fit(dados)\n",
    "    # inertia: Método para gerar o wcss\n",
    "    wcss.append(kmeans.inertia_)"
   ]
  },
  {
   "cell_type": "code",
   "execution_count": 139,
   "metadata": {
    "id": "YJigC9DxiLFf"
   },
   "outputs": [],
   "source": [
    "import matplotlib.pyplot as plt\n",
    "import seaborn as sns"
   ]
  },
  {
   "cell_type": "code",
   "execution_count": 140,
   "metadata": {
    "colab": {
     "base_uri": "https://localhost:8080/",
     "height": 370
    },
    "id": "qcC0f8CEiEY3",
    "outputId": "9f6db5b6-712f-4125-bba2-940c618bf82f"
   },
   "outputs": [
    {
     "data": {
      "image/png": "[encoded data removed]",
      "text/plain": [
       "<Figure size 1000x500 with 1 Axes>"
      ]
     },
     "metadata": {},
     "output_type": "display_data"
    }
   ],
   "source": [
    "plt.figure(figsize=(10,5))\n",
    "sns.lineplot(wcss,marker='o',color='red')\n",
    "plt.title('The Elbow Method')\n",
    "plt.xlabel('Número de clusters')\n",
    "plt.ylabel('WCSS');"
   ]
  },
  {
   "cell_type": "markdown",
   "metadata": {
    "id": "mC0gBtKMjEnq"
   },
   "source": [
    "**Agrupamento**"
   ]
  },
  {
   "cell_type": "code",
   "execution_count": 141,
   "metadata": {
    "id": "0JtxIbh9iie-"
   },
   "outputs": [],
   "source": [
    "kmeans = KMeans(n_clusters = 4, init = 'k-means++', random_state = 5, max_iter = 300)\n"
   ]
  },
  {
   "cell_type": "code",
   "execution_count": 142,
   "metadata": {
    "id": "14qBA97tjKQl"
   },
   "outputs": [],
   "source": [
    "kmeans1 = kmeans.fit(dados)"
   ]
  },
  {
   "cell_type": "code",
   "execution_count": 143,
   "metadata": {
    "colab": {
     "base_uri": "https://localhost:8080/"
    },
    "id": "1iPLgmmnpSss",
    "outputId": "549480be-ff2e-4008-a06c-c9b0ba03dda4"
   },
   "outputs": [
    {
     "data": {
      "text/plain": [
       "array([[26.30434783, 20.91304348],\n",
       "       [48.26      , 56.48      ],\n",
       "       [87.        , 18.63157895],\n",
       "       [86.53846154, 82.12820513]])"
      ]
     },
     "execution_count": 143,
     "metadata": {},
     "output_type": "execute_result"
    }
   ],
   "source": [
    "# Coordenadas dos Centróides\n",
    "centroides = kmeans1.cluster_centers_\n",
    "centroides"
   ]
  },
  {
   "cell_type": "code",
   "execution_count": 144,
   "metadata": {
    "colab": {
     "base_uri": "https://localhost:8080/"
    },
    "id": "g46yWimvrk90",
    "outputId": "510f580e-2b16-4309-dfd3-b8cbbe01adc3"
   },
   "outputs": [
    {
     "data": {
      "text/plain": [
       "array([0, 1, 0, 1, 0, 1, 0, 1, 0, 1, 0, 1, 0, 1, 0, 1, 0, 1, 0, 1, 0, 1,\n",
       "       0, 1, 0, 1, 0, 1, 0, 1, 0, 1, 0, 1, 0, 1, 0, 1, 0, 1, 0, 1, 0, 1,\n",
       "       0, 1, 1, 1, 1, 1, 1, 1, 1, 1, 1, 1, 1, 1, 1, 1, 1, 1, 1, 1, 1, 1,\n",
       "       1, 1, 1, 1, 1, 1, 1, 1, 1, 1, 1, 1, 1, 1, 1, 1, 1, 1, 1, 1, 1, 1,\n",
       "       1, 1, 1, 1, 1, 1, 1, 1, 1, 1, 1, 1, 1, 1, 1, 1, 1, 1, 1, 1, 1, 1,\n",
       "       1, 1, 1, 1, 1, 1, 1, 1, 1, 1, 1, 1, 1, 3, 2, 3, 2, 3, 2, 3, 2, 3,\n",
       "       2, 3, 2, 3, 2, 3, 2, 3, 2, 3, 2, 3, 2, 3, 2, 3, 2, 3, 2, 3, 2, 3,\n",
       "       2, 3, 2, 3, 2, 3, 2, 3, 2, 3, 2, 3, 2, 3, 2, 3, 2, 3, 2, 3, 2, 3,\n",
       "       2, 3, 2, 3, 2, 3, 2, 3, 2, 3, 2, 3, 2, 3, 2, 3, 2, 3, 2, 3, 2, 3,\n",
       "       2, 3], dtype=int32)"
      ]
     },
     "execution_count": 144,
     "metadata": {},
     "output_type": "execute_result"
    }
   ],
   "source": [
    "# Classificação dos dados\n",
    "classificacao = kmeans1.labels_\n",
    "classificacao"
   ]
  },
  {
   "cell_type": "code",
   "execution_count": 145,
   "metadata": {
    "colab": {
     "base_uri": "https://localhost:8080/"
    },
    "id": "5V9JnLrtszt9",
    "outputId": "f05d361c-931c-4a10-f3f1-35e4932081de"
   },
   "outputs": [
    {
     "data": {
      "text/plain": [
       "array([16, 77])"
      ]
     },
     "execution_count": 145,
     "metadata": {},
     "output_type": "execute_result"
    }
   ],
   "source": [
    "dados[3,:]"
   ]
  },
  {
   "cell_type": "code",
   "execution_count": 146,
   "metadata": {
    "colab": {
     "base_uri": "https://localhost:8080/"
    },
    "id": "-1Z0dNjKtnaI",
    "outputId": "84a724e9-1b44-4c5c-d3a3-1d4acc87aab4"
   },
   "outputs": [
    {
     "data": {
      "text/plain": [
       "1"
      ]
     },
     "execution_count": 146,
     "metadata": {},
     "output_type": "execute_result"
    }
   ],
   "source": [
    "classificacao[3]"
   ]
  },
  {
   "cell_type": "code",
   "execution_count": 147,
   "metadata": {
    "id": "xFAODVuAvKPE"
   },
   "outputs": [],
   "source": [
    "import plotly.express as px\n",
    "import plotly.graph_objects as go"
   ]
  },
  {
   "cell_type": "code",
   "execution_count": 148,
   "metadata": {
    "colab": {
     "base_uri": "https://localhost:8080/",
     "height": 517
    },
    "id": "0hvZy_mRrgiN",
    "outputId": "a263df25-1ab9-45d1-bd55-28762d08d7d2"
   },
   "outputs": [
    {
     "data": {
      "application/vnd.plotly.v1+json": {
       "config": {
        "plotlyServerURL": "https://plot.ly"
       },
       "data": [
        {
         "hovertemplate": "x=%{x}<br>y=%{y}<br>color=%{marker.color}<extra></extra>",
         "legendgroup": "",
         "marker": {
          "color": [
           0,
           1,
           0,
           1,
           0,
           1,
           0,
           1,
           0,
           1,
           0,
           1,
           0,
           1,
           0,
           1,
           0,
           1,
           0,
           1,
           0,
           1,
           0,
           1,
           0,
           1,
           0,
           1,
           0,
           1,
           0,
           1,
           0,
           1,
           0,
           1,
           0,
           1,
           0,
           1,
           0,
           1,
           0,
           1,
           0,
           1,
           1,
           1,
           1,
           1,
           1,
           1,
           1,
           1,
           1,
           1,
           1,
           1,
           1,
           1,
           1,
           1,
           1,
           1,
           1,
           1,
           1,
           1,
           1,
           1,
           1,
           1,
           1,
           1,
           1,
           1,
           1,
           1,
           1,
           1,
           1,
           1,
           1,
           1,
           1,
           1,
           1,
           1,
           1,
           1,
           1,
           1,
           1,
           1,
           1,
           1,
           1,
           1,
           1,
           1,
           1,
           1,
           1,
           1,
           1,
           1,
           1,
           1,
           1,
           1,
           1,
           1,
           1,
           1,
           1,
           1,
           1,
           1,
           1,
           1,
           1,
           1,
           1,
           3,
           2,
           3,
           2,
           3,
           2,
           3,
           2,
           3,
           2,
           3,
           2,
           3,
           2,
           3,
           2,
           3,
           2,
           3,
           2,
           3,
           2,
           3,
           2,
           3,
           2,
           3,
           2,
           3,
           2,
           3,
           2,
           3,
           2,
           3,
           2,
           3,
           2,
           3,
           2,
           3,
           2,
           3,
           2,
           3,
           2,
           3,
           2,
           3,
           2,
           3,
           2,
           3,
           2,
           3,
           2,
           3,
           2,
           3,
           2,
           3,
           2,
           3,
           2,
           3,
           2,
           3,
           2,
           3,
           2,
           3,
           2,
           3,
           2,
           3,
           2,
           3
          ],
          "coloraxis": "coloraxis",
          "symbol": "circle"
         },
         "mode": "markers",
         "name": "",
         "orientation": "v",
         "showlegend": false,
         "type": "scatter",
         "x": [
          15,
          15,
          16,
          16,
          17,
          17,
          18,
          18,
          19,
          19,
          19,
          19,
          20,
          20,
          20,
          20,
          21,
          21,
          23,
          23,
          24,
          24,
          25,
          25,
          28,
          28,
          28,
          28,
          29,
          29,
          30,
          30,
          33,
          33,
          33,
          33,
          34,
          34,
          37,
          37,
          38,
          38,
          39,
          39,
          39,
          39,
          40,
          40,
          40,
          40,
          42,
          42,
          43,
          43,
          43,
          43,
          44,
          44,
          46,
          46,
          46,
          46,
          47,
          47,
          48,
          48,
          48,
          48,
          48,
          48,
          49,
          49,
          50,
          50,
          54,
          54,
          54,
          54,
          54,
          54,
          54,
          54,
          54,
          54,
          54,
          54,
          57,
          57,
          58,
          58,
          59,
          59,
          60,
          60,
          60,
          60,
          60,
          60,
          61,
          61,
          62,
          62,
          62,
          62,
          62,
          62,
          63,
          63,
          63,
          63,
          63,
          63,
          64,
          64,
          65,
          65,
          65,
          65,
          67,
          67,
          67,
          67,
          69,
          69,
          70,
          70,
          71,
          71,
          71,
          71,
          71,
          71,
          72,
          72,
          73,
          73,
          73,
          73,
          74,
          74,
          75,
          75,
          76,
          76,
          77,
          77,
          77,
          77,
          78,
          78,
          78,
          78,
          78,
          78,
          78,
          78,
          78,
          78,
          78,
          78,
          79,
          79,
          81,
          81,
          85,
          85,
          86,
          86,
          87,
          87,
          87,
          87,
          87,
          87,
          88,
          88,
          88,
          88,
          93,
          93,
          97,
          97,
          98,
          98,
          99,
          99,
          101,
          101,
          103,
          103,
          103,
          103,
          113,
          113,
          120,
          120,
          126,
          126,
          137,
          137
         ],
         "xaxis": "x",
         "y": [
          39,
          81,
          6,
          77,
          40,
          76,
          6,
          94,
          3,
          72,
          14,
          99,
          15,
          77,
          13,
          79,
          35,
          66,
          29,
          98,
          35,
          73,
          5,
          73,
          14,
          82,
          32,
          61,
          31,
          87,
          4,
          73,
          4,
          92,
          14,
          81,
          17,
          73,
          26,
          75,
          35,
          92,
          36,
          61,
          28,
          65,
          55,
          47,
          42,
          42,
          52,
          60,
          54,
          60,
          45,
          41,
          50,
          46,
          51,
          46,
          56,
          55,
          52,
          59,
          51,
          59,
          50,
          48,
          59,
          47,
          55,
          42,
          49,
          56,
          47,
          54,
          53,
          48,
          52,
          42,
          51,
          55,
          41,
          44,
          57,
          46,
          58,
          55,
          60,
          46,
          55,
          41,
          49,
          40,
          42,
          52,
          47,
          50,
          42,
          49,
          41,
          48,
          59,
          55,
          56,
          42,
          50,
          46,
          43,
          48,
          52,
          54,
          42,
          46,
          48,
          50,
          43,
          59,
          43,
          57,
          56,
          40,
          58,
          91,
          29,
          77,
          35,
          95,
          11,
          75,
          9,
          75,
          34,
          71,
          5,
          88,
          7,
          73,
          10,
          72,
          5,
          93,
          40,
          87,
          12,
          97,
          36,
          74,
          22,
          90,
          17,
          88,
          20,
          76,
          16,
          89,
          1,
          78,
          1,
          73,
          35,
          83,
          5,
          93,
          26,
          75,
          20,
          95,
          27,
          63,
          13,
          75,
          10,
          92,
          13,
          86,
          15,
          69,
          14,
          90,
          32,
          86,
          15,
          88,
          39,
          97,
          24,
          68,
          17,
          85,
          23,
          69,
          8,
          91,
          16,
          79,
          28,
          74,
          18,
          83
         ],
         "yaxis": "y"
        },
        {
         "hovertemplate": "x=%{x}<br>y=%{y}<br>size=%{marker.size}<extra></extra>",
         "legendgroup": "",
         "marker": {
          "color": "#636efa",
          "size": [
           15,
           15,
           15,
           15
          ],
          "sizemode": "area",
          "sizeref": 0.0375,
          "symbol": "circle"
         },
         "mode": "markers",
         "name": "",
         "orientation": "v",
         "showlegend": false,
         "type": "scatter",
         "x": [
          26.304347826086982,
          48.26000000000005,
          87.00000000000001,
          86.53846153846155
         ],
         "xaxis": "x",
         "y": [
          20.913043478260867,
          56.47999999999997,
          18.631578947368403,
          82.12820512820511
         ],
         "yaxis": "y"
        }
       ],
       "layout": {
        "height": 500,
        "template": {
         "data": {
          "bar": [
           {
            "error_x": {
             "color": "#2a3f5f"
            },
            "error_y": {
             "color": "#2a3f5f"
            },
            "marker": {
             "line": {
              "color": "#E5ECF6",
              "width": 0.5
             },
             "pattern": {
              "fillmode": "overlay",
              "size": 10,
              "solidity": 0.2
             }
            },
            "type": "bar"
           }
          ],
          "barpolar": [
           {
            "marker": {
             "line": {
              "color": "#E5ECF6",
              "width": 0.5
             },
             "pattern": {
              "fillmode": "overlay",
              "size": 10,
              "solidity": 0.2
             }
            },
            "type": "barpolar"
           }
          ],
          "carpet": [
           {
            "aaxis": {
             "endlinecolor": "#2a3f5f",
             "gridcolor": "white",
             "linecolor": "white",
             "minorgridcolor": "white",
             "startlinecolor": "#2a3f5f"
            },
            "baxis": {
             "endlinecolor": "#2a3f5f",
             "gridcolor": "white",
             "linecolor": "white",
             "minorgridcolor": "white",
             "startlinecolor": "#2a3f5f"
            },
            "type": "carpet"
           }
          ],
          "choropleth": [
           {
            "colorbar": {
             "outlinewidth": 0,
             "ticks": ""
            },
            "type": "choropleth"
           }
          ],
          "contour": [
           {
            "colorbar": {
             "outlinewidth": 0,
             "ticks": ""
            },
            "colorscale": [
             [
              0,
              "#0d0887"
             ],
             [
              0.1111111111111111,
              "#46039f"
             ],
             [
              0.2222222222222222,
              "#7201a8"
             ],
             [
              0.3333333333333333,
              "#9c179e"
             ],
             [
              0.4444444444444444,
              "#bd3786"
             ],
             [
              0.5555555555555556,
              "#d8576b"
             ],
             [
              0.6666666666666666,
              "#ed7953"
             ],
             [
              0.7777777777777778,
              "#fb9f3a"
             ],
             [
              0.8888888888888888,
              "#fdca26"
             ],
             [
              1,
              "#f0f921"
             ]
            ],
            "type": "contour"
           }
          ],
          "contourcarpet": [
           {
            "colorbar": {
             "outlinewidth": 0,
             "ticks": ""
            },
            "type": "contourcarpet"
           }
          ],
          "heatmap": [
           {
            "colorbar": {
             "outlinewidth": 0,
             "ticks": ""
            },
            "colorscale": [
             [
              0,
              "#0d0887"
             ],
             [
              0.1111111111111111,
              "#46039f"
             ],
             [
              0.2222222222222222,
              "#7201a8"
             ],
             [
              0.3333333333333333,
              "#9c179e"
             ],
             [
              0.4444444444444444,
              "#bd3786"
             ],
             [
              0.5555555555555556,
              "#d8576b"
             ],
             [
              0.6666666666666666,
              "#ed7953"
             ],
             [
              0.7777777777777778,
              "#fb9f3a"
             ],
             [
              0.8888888888888888,
              "#fdca26"
             ],
             [
              1,
              "#f0f921"
             ]
            ],
            "type": "heatmap"
           }
          ],
          "heatmapgl": [
           {
            "colorbar": {
             "outlinewidth": 0,
             "ticks": ""
            },
            "colorscale": [
             [
              0,
              "#0d0887"
             ],
             [
              0.1111111111111111,
              "#46039f"
             ],
             [
              0.2222222222222222,
              "#7201a8"
             ],
             [
              0.3333333333333333,
              "#9c179e"
             ],
             [
              0.4444444444444444,
              "#bd3786"
             ],
             [
              0.5555555555555556,
              "#d8576b"
             ],
             [
              0.6666666666666666,
              "#ed7953"
             ],
             [
              0.7777777777777778,
              "#fb9f3a"
             ],
             [
              0.8888888888888888,
              "#fdca26"
             ],
             [
              1,
              "#f0f921"
             ]
            ],
            "type": "heatmapgl"
           }
          ],
          "histogram": [
           {
            "marker": {
             "pattern": {
              "fillmode": "overlay",
              "size": 10,
              "solidity": 0.2
             }
            },
            "type": "histogram"
           }
          ],
          "histogram2d": [
           {
            "colorbar": {
             "outlinewidth": 0,
             "ticks": ""
            },
            "colorscale": [
             [
              0,
              "#0d0887"
             ],
             [
              0.1111111111111111,
              "#46039f"
             ],
             [
              0.2222222222222222,
              "#7201a8"
             ],
             [
              0.3333333333333333,
              "#9c179e"
             ],
             [
              0.4444444444444444,
              "#bd3786"
             ],
             [
              0.5555555555555556,
              "#d8576b"
             ],
             [
              0.6666666666666666,
              "#ed7953"
             ],
             [
              0.7777777777777778,
              "#fb9f3a"
             ],
             [
              0.8888888888888888,
              "#fdca26"
             ],
             [
              1,
              "#f0f921"
             ]
            ],
            "type": "histogram2d"
           }
          ],
          "histogram2dcontour": [
           {
            "colorbar": {
             "outlinewidth": 0,
             "ticks": ""
            },
            "colorscale": [
             [
              0,
              "#0d0887"
             ],
             [
              0.1111111111111111,
              "#46039f"
             ],
             [
              0.2222222222222222,
              "#7201a8"
             ],
             [
              0.3333333333333333,
              "#9c179e"
             ],
             [
              0.4444444444444444,
              "#bd3786"
             ],
             [
              0.5555555555555556,
              "#d8576b"
             ],
             [
              0.6666666666666666,
              "#ed7953"
             ],
             [
              0.7777777777777778,
              "#fb9f3a"
             ],
             [
              0.8888888888888888,
              "#fdca26"
             ],
             [
              1,
              "#f0f921"
             ]
            ],
            "type": "histogram2dcontour"
           }
          ],
          "mesh3d": [
           {
            "colorbar": {
             "outlinewidth": 0,
             "ticks": ""
            },
            "type": "mesh3d"
           }
          ],
          "parcoords": [
           {
            "line": {
             "colorbar": {
              "outlinewidth": 0,
              "ticks": ""
             }
            },
            "type": "parcoords"
           }
          ],
          "pie": [
           {
            "automargin": true,
            "type": "pie"
           }
          ],
          "scatter": [
           {
            "fillpattern": {
             "fillmode": "overlay",
             "size": 10,
             "solidity": 0.2
            },
            "type": "scatter"
           }
          ],
          "scatter3d": [
           {
            "line": {
             "colorbar": {
              "outlinewidth": 0,
              "ticks": ""
             }
            },
            "marker": {
             "colorbar": {
              "outlinewidth": 0,
              "ticks": ""
             }
            },
            "type": "scatter3d"
           }
          ],
          "scattercarpet": [
           {
            "marker": {
             "colorbar": {
              "outlinewidth": 0,
              "ticks": ""
             }
            },
            "type": "scattercarpet"
           }
          ],
          "scattergeo": [
           {
            "marker": {
             "colorbar": {
              "outlinewidth": 0,
              "ticks": ""
             }
            },
            "type": "scattergeo"
           }
          ],
          "scattergl": [
           {
            "marker": {
             "colorbar": {
              "outlinewidth": 0,
              "ticks": ""
             }
            },
            "type": "scattergl"
           }
          ],
          "scattermapbox": [
           {
            "marker": {
             "colorbar": {
              "outlinewidth": 0,
              "ticks": ""
             }
            },
            "type": "scattermapbox"
           }
          ],
          "scatterpolar": [
           {
            "marker": {
             "colorbar": {
              "outlinewidth": 0,
              "ticks": ""
             }
            },
            "type": "scatterpolar"
           }
          ],
          "scatterpolargl": [
           {
            "marker": {
             "colorbar": {
              "outlinewidth": 0,
              "ticks": ""
             }
            },
            "type": "scatterpolargl"
           }
          ],
          "scatterternary": [
           {
            "marker": {
             "colorbar": {
              "outlinewidth": 0,
              "ticks": ""
             }
            },
            "type": "scatterternary"
           }
          ],
          "surface": [
           {
            "colorbar": {
             "outlinewidth": 0,
             "ticks": ""
            },
            "colorscale": [
             [
              0,
              "#0d0887"
             ],
             [
              0.1111111111111111,
              "#46039f"
             ],
             [
              0.2222222222222222,
              "#7201a8"
             ],
             [
              0.3333333333333333,
              "#9c179e"
             ],
             [
              0.4444444444444444,
              "#bd3786"
             ],
             [
              0.5555555555555556,
              "#d8576b"
             ],
             [
              0.6666666666666666,
              "#ed7953"
             ],
             [
              0.7777777777777778,
              "#fb9f3a"
             ],
             [
              0.8888888888888888,
              "#fdca26"
             ],
             [
              1,
              "#f0f921"
             ]
            ],
            "type": "surface"
           }
          ],
          "table": [
           {
            "cells": {
             "fill": {
              "color": "#EBF0F8"
             },
             "line": {
              "color": "white"
             }
            },
            "header": {
             "fill": {
              "color": "#C8D4E3"
             },
             "line": {
              "color": "white"
             }
            },
            "type": "table"
           }
          ]
         },
         "layout": {
          "annotationdefaults": {
           "arrowcolor": "#2a3f5f",
           "arrowhead": 0,
           "arrowwidth": 1
          },
          "autotypenumbers": "strict",
          "coloraxis": {
           "colorbar": {
            "outlinewidth": 0,
            "ticks": ""
           }
          },
          "colorscale": {
           "diverging": [
            [
             0,
             "#8e0152"
            ],
            [
             0.1,
             "#c51b7d"
            ],
            [
             0.2,
             "#de77ae"
            ],
            [
             0.3,
             "#f1b6da"
            ],
            [
             0.4,
             "#fde0ef"
            ],
            [
             0.5,
             "#f7f7f7"
            ],
            [
             0.6,
             "#e6f5d0"
            ],
            [
             0.7,
             "#b8e186"
            ],
            [
             0.8,
             "#7fbc41"
            ],
            [
             0.9,
             "#4d9221"
            ],
            [
             1,
             "#276419"
            ]
           ],
           "sequential": [
            [
             0,
             "#0d0887"
            ],
            [
             0.1111111111111111,
             "#46039f"
            ],
            [
             0.2222222222222222,
             "#7201a8"
            ],
            [
             0.3333333333333333,
             "#9c179e"
            ],
            [
             0.4444444444444444,
             "#bd3786"
            ],
            [
             0.5555555555555556,
             "#d8576b"
            ],
            [
             0.6666666666666666,
             "#ed7953"
            ],
            [
             0.7777777777777778,
             "#fb9f3a"
            ],
            [
             0.8888888888888888,
             "#fdca26"
            ],
            [
             1,
             "#f0f921"
            ]
           ],
           "sequentialminus": [
            [
             0,
             "#0d0887"
            ],
            [
             0.1111111111111111,
             "#46039f"
            ],
            [
             0.2222222222222222,
             "#7201a8"
            ],
            [
             0.3333333333333333,
             "#9c179e"
            ],
            [
             0.4444444444444444,
             "#bd3786"
            ],
            [
             0.5555555555555556,
             "#d8576b"
            ],
            [
             0.6666666666666666,
             "#ed7953"
            ],
            [
             0.7777777777777778,
             "#fb9f3a"
            ],
            [
             0.8888888888888888,
             "#fdca26"
            ],
            [
             1,
             "#f0f921"
            ]
           ]
          },
          "colorway": [
           "#636efa",
           "#EF553B",
           "#00cc96",
           "#ab63fa",
           "#FFA15A",
           "#19d3f3",
           "#FF6692",
           "#B6E880",
           "#FF97FF",
           "#FECB52"
          ],
          "font": {
           "color": "#2a3f5f"
          },
          "geo": {
           "bgcolor": "white",
           "lakecolor": "white",
           "landcolor": "#E5ECF6",
           "showlakes": true,
           "showland": true,
           "subunitcolor": "white"
          },
          "hoverlabel": {
           "align": "left"
          },
          "hovermode": "closest",
          "mapbox": {
           "style": "light"
          },
          "paper_bgcolor": "white",
          "plot_bgcolor": "#E5ECF6",
          "polar": {
           "angularaxis": {
            "gridcolor": "white",
            "linecolor": "white",
            "ticks": ""
           },
           "bgcolor": "#E5ECF6",
           "radialaxis": {
            "gridcolor": "white",
            "linecolor": "white",
            "ticks": ""
           }
          },
          "scene": {
           "xaxis": {
            "backgroundcolor": "#E5ECF6",
            "gridcolor": "white",
            "gridwidth": 2,
            "linecolor": "white",
            "showbackground": true,
            "ticks": "",
            "zerolinecolor": "white"
           },
           "yaxis": {
            "backgroundcolor": "#E5ECF6",
            "gridcolor": "white",
            "gridwidth": 2,
            "linecolor": "white",
            "showbackground": true,
            "ticks": "",
            "zerolinecolor": "white"
           },
           "zaxis": {
            "backgroundcolor": "#E5ECF6",
            "gridcolor": "white",
            "gridwidth": 2,
            "linecolor": "white",
            "showbackground": true,
            "ticks": "",
            "zerolinecolor": "white"
           }
          },
          "shapedefaults": {
           "line": {
            "color": "#2a3f5f"
           }
          },
          "ternary": {
           "aaxis": {
            "gridcolor": "white",
            "linecolor": "white",
            "ticks": ""
           },
           "baxis": {
            "gridcolor": "white",
            "linecolor": "white",
            "ticks": ""
           },
           "bgcolor": "#E5ECF6",
           "caxis": {
            "gridcolor": "white",
            "linecolor": "white",
            "ticks": ""
           }
          },
          "title": {
           "x": 0.05
          },
          "xaxis": {
           "automargin": true,
           "gridcolor": "white",
           "linecolor": "white",
           "ticks": "",
           "title": {
            "standoff": 15
           },
           "zerolinecolor": "white",
           "zerolinewidth": 2
          },
          "yaxis": {
           "automargin": true,
           "gridcolor": "white",
           "linecolor": "white",
           "ticks": "",
           "title": {
            "standoff": 15
           },
           "zerolinecolor": "white",
           "zerolinewidth": 2
          }
         }
        },
        "title": {
         "text": "Agrupamento K-Means"
        },
        "width": 800,
        "xaxis": {
         "autorange": true,
         "range": [
          7.310740541509772,
          144.68925945849023
         ],
         "title": {
          "text": "Rendimento anual (K$)"
         },
         "type": "linear"
        },
        "yaxis": {
         "autorange": true,
         "range": [
          -5.90017825311943,
          105.90017825311944
         ],
         "title": {
          "text": "Pontuação"
         },
         "type": "linear"
        }
       }
      },
      "text/html": [
       "<div>                            <div id=\"8f03a4f3-b35b-4669-aa05-7b6ffaf4fb08\" class=\"plotly-graph-div\" style=\"height:500px; width:800px;\"></div>            <script type=\"text/javascript\">                require([\"plotly\"], function(Plotly) {                    window.PLOTLYENV=window.PLOTLYENV || {};                                    if (document.getElementById(\"8f03a4f3-b35b-4669-aa05-7b6ffaf4fb08\")) {                    Plotly.newPlot(                        \"8f03a4f3-b35b-4669-aa05-7b6ffaf4fb08\",                        [{\"hovertemplate\":\"x=%{x}\\u003cbr\\u003ey=%{y}\\u003cbr\\u003ecolor=%{marker.color}\\u003cextra\\u003e\\u003c\\u002fextra\\u003e\",\"legendgroup\":\"\",\"marker\":{\"color\":[0,1,0,1,0,1,0,1,0,1,0,1,0,1,0,1,0,1,0,1,0,1,0,1,0,1,0,1,0,1,0,1,0,1,0,1,0,1,0,1,0,1,0,1,0,1,1,1,1,1,1,1,1,1,1,1,1,1,1,1,1,1,1,1,1,1,1,1,1,1,1,1,1,1,1,1,1,1,1,1,1,1,1,1,1,1,1,1,1,1,1,1,1,1,1,1,1,1,1,1,1,1,1,1,1,1,1,1,1,1,1,1,1,1,1,1,1,1,1,1,1,1,1,3,2,3,2,3,2,3,2,3,2,3,2,3,2,3,2,3,2,3,2,3,2,3,2,3,2,3,2,3,2,3,2,3,2,3,2,3,2,3,2,3,2,3,2,3,2,3,2,3,2,3,2,3,2,3,2,3,2,3,2,3,2,3,2,3,2,3,2,3,2,3,2,3,2,3,2,3],\"coloraxis\":\"coloraxis\",\"symbol\":\"circle\"},\"mode\":\"markers\",\"name\":\"\",\"orientation\":\"v\",\"showlegend\":false,\"x\":[15,15,16,16,17,17,18,18,19,19,19,19,20,20,20,20,21,21,23,23,24,24,25,25,28,28,28,28,29,29,30,30,33,33,33,33,34,34,37,37,38,38,39,39,39,39,40,40,40,40,42,42,43,43,43,43,44,44,46,46,46,46,47,47,48,48,48,48,48,48,49,49,50,50,54,54,54,54,54,54,54,54,54,54,54,54,57,57,58,58,59,59,60,60,60,60,60,60,61,61,62,62,62,62,62,62,63,63,63,63,63,63,64,64,65,65,65,65,67,67,67,67,69,69,70,70,71,71,71,71,71,71,72,72,73,73,73,73,74,74,75,75,76,76,77,77,77,77,78,78,78,78,78,78,78,78,78,78,78,78,79,79,81,81,85,85,86,86,87,87,87,87,87,87,88,88,88,88,93,93,97,97,98,98,99,99,101,101,103,103,103,103,113,113,120,120,126,126,137,137],\"xaxis\":\"x\",\"y\":[39,81,6,77,40,76,6,94,3,72,14,99,15,77,13,79,35,66,29,98,35,73,5,73,14,82,32,61,31,87,4,73,4,92,14,81,17,73,26,75,35,92,36,61,28,65,55,47,42,42,52,60,54,60,45,41,50,46,51,46,56,55,52,59,51,59,50,48,59,47,55,42,49,56,47,54,53,48,52,42,51,55,41,44,57,46,58,55,60,46,55,41,49,40,42,52,47,50,42,49,41,48,59,55,56,42,50,46,43,48,52,54,42,46,48,50,43,59,43,57,56,40,58,91,29,77,35,95,11,75,9,75,34,71,5,88,7,73,10,72,5,93,40,87,12,97,36,74,22,90,17,88,20,76,16,89,1,78,1,73,35,83,5,93,26,75,20,95,27,63,13,75,10,92,13,86,15,69,14,90,32,86,15,88,39,97,24,68,17,85,23,69,8,91,16,79,28,74,18,83],\"yaxis\":\"y\",\"type\":\"scatter\"},{\"hovertemplate\":\"x=%{x}\\u003cbr\\u003ey=%{y}\\u003cbr\\u003esize=%{marker.size}\\u003cextra\\u003e\\u003c\\u002fextra\\u003e\",\"legendgroup\":\"\",\"marker\":{\"color\":\"#636efa\",\"size\":[15,15,15,15],\"sizemode\":\"area\",\"sizeref\":0.0375,\"symbol\":\"circle\"},\"mode\":\"markers\",\"name\":\"\",\"orientation\":\"v\",\"showlegend\":false,\"x\":[26.304347826086982,48.26000000000005,87.00000000000001,86.53846153846155],\"xaxis\":\"x\",\"y\":[20.913043478260867,56.47999999999997,18.631578947368403,82.12820512820511],\"yaxis\":\"y\",\"type\":\"scatter\"}],                        {\"template\":{\"data\":{\"histogram2dcontour\":[{\"type\":\"histogram2dcontour\",\"colorbar\":{\"outlinewidth\":0,\"ticks\":\"\"},\"colorscale\":[[0.0,\"#0d0887\"],[0.1111111111111111,\"#46039f\"],[0.2222222222222222,\"#7201a8\"],[0.3333333333333333,\"#9c179e\"],[0.4444444444444444,\"#bd3786\"],[0.5555555555555556,\"#d8576b\"],[0.6666666666666666,\"#ed7953\"],[0.7777777777777778,\"#fb9f3a\"],[0.8888888888888888,\"#fdca26\"],[1.0,\"#f0f921\"]]}],\"choropleth\":[{\"type\":\"choropleth\",\"colorbar\":{\"outlinewidth\":0,\"ticks\":\"\"}}],\"histogram2d\":[{\"type\":\"histogram2d\",\"colorbar\":{\"outlinewidth\":0,\"ticks\":\"\"},\"colorscale\":[[0.0,\"#0d0887\"],[0.1111111111111111,\"#46039f\"],[0.2222222222222222,\"#7201a8\"],[0.3333333333333333,\"#9c179e\"],[0.4444444444444444,\"#bd3786\"],[0.5555555555555556,\"#d8576b\"],[0.6666666666666666,\"#ed7953\"],[0.7777777777777778,\"#fb9f3a\"],[0.8888888888888888,\"#fdca26\"],[1.0,\"#f0f921\"]]}],\"heatmap\":[{\"type\":\"heatmap\",\"colorbar\":{\"outlinewidth\":0,\"ticks\":\"\"},\"colorscale\":[[0.0,\"#0d0887\"],[0.1111111111111111,\"#46039f\"],[0.2222222222222222,\"#7201a8\"],[0.3333333333333333,\"#9c179e\"],[0.4444444444444444,\"#bd3786\"],[0.5555555555555556,\"#d8576b\"],[0.6666666666666666,\"#ed7953\"],[0.7777777777777778,\"#fb9f3a\"],[0.8888888888888888,\"#fdca26\"],[1.0,\"#f0f921\"]]}],\"heatmapgl\":[{\"type\":\"heatmapgl\",\"colorbar\":{\"outlinewidth\":0,\"ticks\":\"\"},\"colorscale\":[[0.0,\"#0d0887\"],[0.1111111111111111,\"#46039f\"],[0.2222222222222222,\"#7201a8\"],[0.3333333333333333,\"#9c179e\"],[0.4444444444444444,\"#bd3786\"],[0.5555555555555556,\"#d8576b\"],[0.6666666666666666,\"#ed7953\"],[0.7777777777777778,\"#fb9f3a\"],[0.8888888888888888,\"#fdca26\"],[1.0,\"#f0f921\"]]}],\"contourcarpet\":[{\"type\":\"contourcarpet\",\"colorbar\":{\"outlinewidth\":0,\"ticks\":\"\"}}],\"contour\":[{\"type\":\"contour\",\"colorbar\":{\"outlinewidth\":0,\"ticks\":\"\"},\"colorscale\":[[0.0,\"#0d0887\"],[0.1111111111111111,\"#46039f\"],[0.2222222222222222,\"#7201a8\"],[0.3333333333333333,\"#9c179e\"],[0.4444444444444444,\"#bd3786\"],[0.5555555555555556,\"#d8576b\"],[0.6666666666666666,\"#ed7953\"],[0.7777777777777778,\"#fb9f3a\"],[0.8888888888888888,\"#fdca26\"],[1.0,\"#f0f921\"]]}],\"surface\":[{\"type\":\"surface\",\"colorbar\":{\"outlinewidth\":0,\"ticks\":\"\"},\"colorscale\":[[0.0,\"#0d0887\"],[0.1111111111111111,\"#46039f\"],[0.2222222222222222,\"#7201a8\"],[0.3333333333333333,\"#9c179e\"],[0.4444444444444444,\"#bd3786\"],[0.5555555555555556,\"#d8576b\"],[0.6666666666666666,\"#ed7953\"],[0.7777777777777778,\"#fb9f3a\"],[0.8888888888888888,\"#fdca26\"],[1.0,\"#f0f921\"]]}],\"mesh3d\":[{\"type\":\"mesh3d\",\"colorbar\":{\"outlinewidth\":0,\"ticks\":\"\"}}],\"scatter\":[{\"fillpattern\":{\"fillmode\":\"overlay\",\"size\":10,\"solidity\":0.2},\"type\":\"scatter\"}],\"parcoords\":[{\"type\":\"parcoords\",\"line\":{\"colorbar\":{\"outlinewidth\":0,\"ticks\":\"\"}}}],\"scatterpolargl\":[{\"type\":\"scatterpolargl\",\"marker\":{\"colorbar\":{\"outlinewidth\":0,\"ticks\":\"\"}}}],\"bar\":[{\"error_x\":{\"color\":\"#2a3f5f\"},\"error_y\":{\"color\":\"#2a3f5f\"},\"marker\":{\"line\":{\"color\":\"#E5ECF6\",\"width\":0.5},\"pattern\":{\"fillmode\":\"overlay\",\"size\":10,\"solidity\":0.2}},\"type\":\"bar\"}],\"scattergeo\":[{\"type\":\"scattergeo\",\"marker\":{\"colorbar\":{\"outlinewidth\":0,\"ticks\":\"\"}}}],\"scatterpolar\":[{\"type\":\"scatterpolar\",\"marker\":{\"colorbar\":{\"outlinewidth\":0,\"ticks\":\"\"}}}],\"histogram\":[{\"marker\":{\"pattern\":{\"fillmode\":\"overlay\",\"size\":10,\"solidity\":0.2}},\"type\":\"histogram\"}],\"scattergl\":[{\"type\":\"scattergl\",\"marker\":{\"colorbar\":{\"outlinewidth\":0,\"ticks\":\"\"}}}],\"scatter3d\":[{\"type\":\"scatter3d\",\"line\":{\"colorbar\":{\"outlinewidth\":0,\"ticks\":\"\"}},\"marker\":{\"colorbar\":{\"outlinewidth\":0,\"ticks\":\"\"}}}],\"scattermapbox\":[{\"type\":\"scattermapbox\",\"marker\":{\"colorbar\":{\"outlinewidth\":0,\"ticks\":\"\"}}}],\"scatterternary\":[{\"type\":\"scatterternary\",\"marker\":{\"colorbar\":{\"outlinewidth\":0,\"ticks\":\"\"}}}],\"scattercarpet\":[{\"type\":\"scattercarpet\",\"marker\":{\"colorbar\":{\"outlinewidth\":0,\"ticks\":\"\"}}}],\"carpet\":[{\"aaxis\":{\"endlinecolor\":\"#2a3f5f\",\"gridcolor\":\"white\",\"linecolor\":\"white\",\"minorgridcolor\":\"white\",\"startlinecolor\":\"#2a3f5f\"},\"baxis\":{\"endlinecolor\":\"#2a3f5f\",\"gridcolor\":\"white\",\"linecolor\":\"white\",\"minorgridcolor\":\"white\",\"startlinecolor\":\"#2a3f5f\"},\"type\":\"carpet\"}],\"table\":[{\"cells\":{\"fill\":{\"color\":\"#EBF0F8\"},\"line\":{\"color\":\"white\"}},\"header\":{\"fill\":{\"color\":\"#C8D4E3\"},\"line\":{\"color\":\"white\"}},\"type\":\"table\"}],\"barpolar\":[{\"marker\":{\"line\":{\"color\":\"#E5ECF6\",\"width\":0.5},\"pattern\":{\"fillmode\":\"overlay\",\"size\":10,\"solidity\":0.2}},\"type\":\"barpolar\"}],\"pie\":[{\"automargin\":true,\"type\":\"pie\"}]},\"layout\":{\"autotypenumbers\":\"strict\",\"colorway\":[\"#636efa\",\"#EF553B\",\"#00cc96\",\"#ab63fa\",\"#FFA15A\",\"#19d3f3\",\"#FF6692\",\"#B6E880\",\"#FF97FF\",\"#FECB52\"],\"font\":{\"color\":\"#2a3f5f\"},\"hovermode\":\"closest\",\"hoverlabel\":{\"align\":\"left\"},\"paper_bgcolor\":\"white\",\"plot_bgcolor\":\"#E5ECF6\",\"polar\":{\"bgcolor\":\"#E5ECF6\",\"angularaxis\":{\"gridcolor\":\"white\",\"linecolor\":\"white\",\"ticks\":\"\"},\"radialaxis\":{\"gridcolor\":\"white\",\"linecolor\":\"white\",\"ticks\":\"\"}},\"ternary\":{\"bgcolor\":\"#E5ECF6\",\"aaxis\":{\"gridcolor\":\"white\",\"linecolor\":\"white\",\"ticks\":\"\"},\"baxis\":{\"gridcolor\":\"white\",\"linecolor\":\"white\",\"ticks\":\"\"},\"caxis\":{\"gridcolor\":\"white\",\"linecolor\":\"white\",\"ticks\":\"\"}},\"coloraxis\":{\"colorbar\":{\"outlinewidth\":0,\"ticks\":\"\"}},\"colorscale\":{\"sequential\":[[0.0,\"#0d0887\"],[0.1111111111111111,\"#46039f\"],[0.2222222222222222,\"#7201a8\"],[0.3333333333333333,\"#9c179e\"],[0.4444444444444444,\"#bd3786\"],[0.5555555555555556,\"#d8576b\"],[0.6666666666666666,\"#ed7953\"],[0.7777777777777778,\"#fb9f3a\"],[0.8888888888888888,\"#fdca26\"],[1.0,\"#f0f921\"]],\"sequentialminus\":[[0.0,\"#0d0887\"],[0.1111111111111111,\"#46039f\"],[0.2222222222222222,\"#7201a8\"],[0.3333333333333333,\"#9c179e\"],[0.4444444444444444,\"#bd3786\"],[0.5555555555555556,\"#d8576b\"],[0.6666666666666666,\"#ed7953\"],[0.7777777777777778,\"#fb9f3a\"],[0.8888888888888888,\"#fdca26\"],[1.0,\"#f0f921\"]],\"diverging\":[[0,\"#8e0152\"],[0.1,\"#c51b7d\"],[0.2,\"#de77ae\"],[0.3,\"#f1b6da\"],[0.4,\"#fde0ef\"],[0.5,\"#f7f7f7\"],[0.6,\"#e6f5d0\"],[0.7,\"#b8e186\"],[0.8,\"#7fbc41\"],[0.9,\"#4d9221\"],[1,\"#276419\"]]},\"xaxis\":{\"gridcolor\":\"white\",\"linecolor\":\"white\",\"ticks\":\"\",\"title\":{\"standoff\":15},\"zerolinecolor\":\"white\",\"automargin\":true,\"zerolinewidth\":2},\"yaxis\":{\"gridcolor\":\"white\",\"linecolor\":\"white\",\"ticks\":\"\",\"title\":{\"standoff\":15},\"zerolinecolor\":\"white\",\"automargin\":true,\"zerolinewidth\":2},\"scene\":{\"xaxis\":{\"backgroundcolor\":\"#E5ECF6\",\"gridcolor\":\"white\",\"linecolor\":\"white\",\"showbackground\":true,\"ticks\":\"\",\"zerolinecolor\":\"white\",\"gridwidth\":2},\"yaxis\":{\"backgroundcolor\":\"#E5ECF6\",\"gridcolor\":\"white\",\"linecolor\":\"white\",\"showbackground\":true,\"ticks\":\"\",\"zerolinecolor\":\"white\",\"gridwidth\":2},\"zaxis\":{\"backgroundcolor\":\"#E5ECF6\",\"gridcolor\":\"white\",\"linecolor\":\"white\",\"showbackground\":true,\"ticks\":\"\",\"zerolinecolor\":\"white\",\"gridwidth\":2}},\"shapedefaults\":{\"line\":{\"color\":\"#2a3f5f\"}},\"annotationdefaults\":{\"arrowcolor\":\"#2a3f5f\",\"arrowhead\":0,\"arrowwidth\":1},\"geo\":{\"bgcolor\":\"white\",\"landcolor\":\"#E5ECF6\",\"subunitcolor\":\"white\",\"showland\":true,\"showlakes\":true,\"lakecolor\":\"white\"},\"title\":{\"x\":0.05},\"mapbox\":{\"style\":\"light\"}}},\"title\":{\"text\":\"Agrupamento K-Means\"},\"width\":800,\"height\":500,\"xaxis\":{\"title\":{\"text\":\"Rendimento anual (K$)\"}},\"yaxis\":{\"title\":{\"text\":\"Pontua\\u00e7\\u00e3o\"}}},                        {\"responsive\": true}                    ).then(function(){\n",
       "                            \n",
       "var gd = document.getElementById('8f03a4f3-b35b-4669-aa05-7b6ffaf4fb08');\n",
       "var x = new MutationObserver(function (mutations, observer) {{\n",
       "        var display = window.getComputedStyle(gd).display;\n",
       "        if (!display || display === 'none') {{\n",
       "            console.log([gd, 'removed!']);\n",
       "            Plotly.purge(gd);\n",
       "            observer.disconnect();\n",
       "        }}\n",
       "}});\n",
       "\n",
       "// Listen for the removal of the full notebook cells\n",
       "var notebookContainer = gd.closest('#notebook-container');\n",
       "if (notebookContainer) {{\n",
       "    x.observe(notebookContainer, {childList: true});\n",
       "}}\n",
       "\n",
       "// Listen for the clearing of the current output cell\n",
       "var outputEl = gd.closest('.output');\n",
       "if (outputEl) {{\n",
       "    x.observe(outputEl, {childList: true});\n",
       "}}\n",
       "\n",
       "                        })                };                });            </script>        </div>"
      ]
     },
     "metadata": {},
     "output_type": "display_data"
    }
   ],
   "source": [
    "graf1 = px.scatter(x = dados[:,0], y = dados[:,1], color=classificacao)\n",
    "graf2 = px.scatter(x = centroides[:,0], y = centroides[:,1], size = [15, 15, 15, 15])\n",
    "graf3 = go.Figure(data = graf1.data + graf2.data)\n",
    "graf3.update_layout(width=800,height=500,title_text='Agrupamento K-Means')\n",
    "graf3.update_xaxes(title = 'Rendimento anual (K$)')\n",
    "graf3.update_yaxes(title = 'Pontuação')\n",
    "graf3.show()"
   ]
  },
  {
   "cell_type": "code",
   "execution_count": 149,
   "metadata": {
    "colab": {
     "base_uri": "https://localhost:8080/",
     "height": 423
    },
    "id": "FeZgPKec4VMx",
    "outputId": "6e08396a-5f16-4c6c-c3db-fbe21493abd9"
   },
   "outputs": [
    {
     "data": {
      "text/html": [
       "<div>\n",
       "<style scoped>\n",
       "    .dataframe tbody tr th:only-of-type {\n",
       "        vertical-align: middle;\n",
       "    }\n",
       "\n",
       "    .dataframe tbody tr th {\n",
       "        vertical-align: top;\n",
       "    }\n",
       "\n",
       "    .dataframe thead th {\n",
       "        text-align: right;\n",
       "    }\n",
       "</style>\n",
       "<table border=\"1\" class=\"dataframe\">\n",
       "  <thead>\n",
       "    <tr style=\"text-align: right;\">\n",
       "      <th></th>\n",
       "      <th>Grupo</th>\n",
       "    </tr>\n",
       "  </thead>\n",
       "  <tbody>\n",
       "    <tr>\n",
       "      <th>0</th>\n",
       "      <td>0</td>\n",
       "    </tr>\n",
       "    <tr>\n",
       "      <th>1</th>\n",
       "      <td>1</td>\n",
       "    </tr>\n",
       "    <tr>\n",
       "      <th>2</th>\n",
       "      <td>0</td>\n",
       "    </tr>\n",
       "    <tr>\n",
       "      <th>3</th>\n",
       "      <td>1</td>\n",
       "    </tr>\n",
       "    <tr>\n",
       "      <th>4</th>\n",
       "      <td>0</td>\n",
       "    </tr>\n",
       "    <tr>\n",
       "      <th>...</th>\n",
       "      <td>...</td>\n",
       "    </tr>\n",
       "    <tr>\n",
       "      <th>195</th>\n",
       "      <td>3</td>\n",
       "    </tr>\n",
       "    <tr>\n",
       "      <th>196</th>\n",
       "      <td>2</td>\n",
       "    </tr>\n",
       "    <tr>\n",
       "      <th>197</th>\n",
       "      <td>3</td>\n",
       "    </tr>\n",
       "    <tr>\n",
       "      <th>198</th>\n",
       "      <td>2</td>\n",
       "    </tr>\n",
       "    <tr>\n",
       "      <th>199</th>\n",
       "      <td>3</td>\n",
       "    </tr>\n",
       "  </tbody>\n",
       "</table>\n",
       "<p>200 rows × 1 columns</p>\n",
       "</div>"
      ],
      "text/plain": [
       "     Grupo\n",
       "0        0\n",
       "1        1\n",
       "2        0\n",
       "3        1\n",
       "4        0\n",
       "..     ...\n",
       "195      3\n",
       "196      2\n",
       "197      3\n",
       "198      2\n",
       "199      3\n",
       "\n",
       "[200 rows x 1 columns]"
      ]
     },
     "execution_count": 149,
     "metadata": {},
     "output_type": "execute_result"
    }
   ],
   "source": [
    "agrupamento = pd.DataFrame(classificacao, columns = ['Grupo'])\n",
    "agrupamento"
   ]
  },
  {
   "cell_type": "code",
   "execution_count": 150,
   "metadata": {
    "colab": {
     "base_uri": "https://localhost:8080/",
     "height": 423
    },
    "id": "-8Ju3tbl4jcK",
    "outputId": "1d424370-86e5-465d-f037-7b9ce81a6c97"
   },
   "outputs": [
    {
     "data": {
      "text/html": [
       "<div>\n",
       "<style scoped>\n",
       "    .dataframe tbody tr th:only-of-type {\n",
       "        vertical-align: middle;\n",
       "    }\n",
       "\n",
       "    .dataframe tbody tr th {\n",
       "        vertical-align: top;\n",
       "    }\n",
       "\n",
       "    .dataframe thead th {\n",
       "        text-align: right;\n",
       "    }\n",
       "</style>\n",
       "<table border=\"1\" class=\"dataframe\">\n",
       "  <thead>\n",
       "    <tr style=\"text-align: right;\">\n",
       "      <th></th>\n",
       "      <th>identificacao</th>\n",
       "      <th>genero</th>\n",
       "      <th>idade</th>\n",
       "      <th>rendimento</th>\n",
       "      <th>pontuacao</th>\n",
       "      <th>Grupo</th>\n",
       "    </tr>\n",
       "  </thead>\n",
       "  <tbody>\n",
       "    <tr>\n",
       "      <th>0</th>\n",
       "      <td>1</td>\n",
       "      <td>Male</td>\n",
       "      <td>19</td>\n",
       "      <td>15</td>\n",
       "      <td>39</td>\n",
       "      <td>0</td>\n",
       "    </tr>\n",
       "    <tr>\n",
       "      <th>1</th>\n",
       "      <td>2</td>\n",
       "      <td>Male</td>\n",
       "      <td>21</td>\n",
       "      <td>15</td>\n",
       "      <td>81</td>\n",
       "      <td>1</td>\n",
       "    </tr>\n",
       "    <tr>\n",
       "      <th>2</th>\n",
       "      <td>3</td>\n",
       "      <td>Female</td>\n",
       "      <td>20</td>\n",
       "      <td>16</td>\n",
       "      <td>6</td>\n",
       "      <td>0</td>\n",
       "    </tr>\n",
       "    <tr>\n",
       "      <th>3</th>\n",
       "      <td>4</td>\n",
       "      <td>Female</td>\n",
       "      <td>23</td>\n",
       "      <td>16</td>\n",
       "      <td>77</td>\n",
       "      <td>1</td>\n",
       "    </tr>\n",
       "    <tr>\n",
       "      <th>4</th>\n",
       "      <td>5</td>\n",
       "      <td>Female</td>\n",
       "      <td>31</td>\n",
       "      <td>17</td>\n",
       "      <td>40</td>\n",
       "      <td>0</td>\n",
       "    </tr>\n",
       "    <tr>\n",
       "      <th>...</th>\n",
       "      <td>...</td>\n",
       "      <td>...</td>\n",
       "      <td>...</td>\n",
       "      <td>...</td>\n",
       "      <td>...</td>\n",
       "      <td>...</td>\n",
       "    </tr>\n",
       "    <tr>\n",
       "      <th>195</th>\n",
       "      <td>196</td>\n",
       "      <td>Female</td>\n",
       "      <td>35</td>\n",
       "      <td>120</td>\n",
       "      <td>79</td>\n",
       "      <td>3</td>\n",
       "    </tr>\n",
       "    <tr>\n",
       "      <th>196</th>\n",
       "      <td>197</td>\n",
       "      <td>Female</td>\n",
       "      <td>45</td>\n",
       "      <td>126</td>\n",
       "      <td>28</td>\n",
       "      <td>2</td>\n",
       "    </tr>\n",
       "    <tr>\n",
       "      <th>197</th>\n",
       "      <td>198</td>\n",
       "      <td>Male</td>\n",
       "      <td>32</td>\n",
       "      <td>126</td>\n",
       "      <td>74</td>\n",
       "      <td>3</td>\n",
       "    </tr>\n",
       "    <tr>\n",
       "      <th>198</th>\n",
       "      <td>199</td>\n",
       "      <td>Male</td>\n",
       "      <td>32</td>\n",
       "      <td>137</td>\n",
       "      <td>18</td>\n",
       "      <td>2</td>\n",
       "    </tr>\n",
       "    <tr>\n",
       "      <th>199</th>\n",
       "      <td>200</td>\n",
       "      <td>Male</td>\n",
       "      <td>30</td>\n",
       "      <td>137</td>\n",
       "      <td>83</td>\n",
       "      <td>3</td>\n",
       "    </tr>\n",
       "  </tbody>\n",
       "</table>\n",
       "<p>200 rows × 6 columns</p>\n",
       "</div>"
      ],
      "text/plain": [
       "     identificacao  genero  idade  rendimento  pontuacao  Grupo\n",
       "0                1    Male     19          15         39      0\n",
       "1                2    Male     21          15         81      1\n",
       "2                3  Female     20          16          6      0\n",
       "3                4  Female     23          16         77      1\n",
       "4                5  Female     31          17         40      0\n",
       "..             ...     ...    ...         ...        ...    ...\n",
       "195            196  Female     35         120         79      3\n",
       "196            197  Female     45         126         28      2\n",
       "197            198    Male     32         126         74      3\n",
       "198            199    Male     32         137         18      2\n",
       "199            200    Male     30         137         83      3\n",
       "\n",
       "[200 rows x 6 columns]"
      ]
     },
     "execution_count": 150,
     "metadata": {},
     "output_type": "execute_result"
    }
   ],
   "source": [
    "df3 = pd.concat([df, agrupamento],axis=1)\n",
    "df3"
   ]
  },
  {
   "cell_type": "code",
   "execution_count": 151,
   "metadata": {
    "colab": {
     "base_uri": "https://localhost:8080/"
    },
    "id": "AZHx-GdQ5U4V",
    "outputId": "2886f35e-3cbd-4ee4-c7a9-015ff4ec8196"
   },
   "outputs": [
    {
     "data": {
      "text/plain": [
       "identificacao     151\n",
       "genero           Male\n",
       "idade              43\n",
       "rendimento         78\n",
       "pontuacao          17\n",
       "Grupo               2\n",
       "Name: 150, dtype: object"
      ]
     },
     "execution_count": 151,
     "metadata": {},
     "output_type": "execute_result"
    }
   ],
   "source": [
    "df3.iloc[150 , :]"
   ]
  },
  {
   "cell_type": "code",
   "execution_count": 152,
   "metadata": {
    "colab": {
     "base_uri": "https://localhost:8080/",
     "height": 81
    },
    "id": "bDBG6pcv5eAT",
    "outputId": "546a670e-5e22-4bdd-f792-f5e6ebf9fa17"
   },
   "outputs": [
    {
     "data": {
      "text/html": [
       "<div>\n",
       "<style scoped>\n",
       "    .dataframe tbody tr th:only-of-type {\n",
       "        vertical-align: middle;\n",
       "    }\n",
       "\n",
       "    .dataframe tbody tr th {\n",
       "        vertical-align: top;\n",
       "    }\n",
       "\n",
       "    .dataframe thead th {\n",
       "        text-align: right;\n",
       "    }\n",
       "</style>\n",
       "<table border=\"1\" class=\"dataframe\">\n",
       "  <thead>\n",
       "    <tr style=\"text-align: right;\">\n",
       "      <th></th>\n",
       "      <th>identificacao</th>\n",
       "      <th>genero</th>\n",
       "      <th>idade</th>\n",
       "      <th>rendimento</th>\n",
       "      <th>pontuacao</th>\n",
       "      <th>Grupo</th>\n",
       "    </tr>\n",
       "  </thead>\n",
       "  <tbody>\n",
       "    <tr>\n",
       "      <th>91</th>\n",
       "      <td>92</td>\n",
       "      <td>Male</td>\n",
       "      <td>18</td>\n",
       "      <td>59</td>\n",
       "      <td>41</td>\n",
       "      <td>1</td>\n",
       "    </tr>\n",
       "  </tbody>\n",
       "</table>\n",
       "</div>"
      ],
      "text/plain": [
       "    identificacao genero  idade  rendimento  pontuacao  Grupo\n",
       "91             92   Male     18          59         41      1"
      ]
     },
     "execution_count": 152,
     "metadata": {},
     "output_type": "execute_result"
    }
   ],
   "source": [
    "df3.loc[df3.identificacao == 92]"
   ]
  },
  {
   "cell_type": "code",
   "execution_count": 153,
   "metadata": {
    "colab": {
     "base_uri": "https://localhost:8080/",
     "height": 423
    },
    "id": "jCbHbVh45urk",
    "outputId": "8c446cfa-7113-45e9-80f5-8d87d221d613",
    "scrolled": true
   },
   "outputs": [
    {
     "data": {
      "text/html": [
       "<div>\n",
       "<style scoped>\n",
       "    .dataframe tbody tr th:only-of-type {\n",
       "        vertical-align: middle;\n",
       "    }\n",
       "\n",
       "    .dataframe tbody tr th {\n",
       "        vertical-align: top;\n",
       "    }\n",
       "\n",
       "    .dataframe thead th {\n",
       "        text-align: right;\n",
       "    }\n",
       "</style>\n",
       "<table border=\"1\" class=\"dataframe\">\n",
       "  <thead>\n",
       "    <tr style=\"text-align: right;\">\n",
       "      <th></th>\n",
       "      <th>identificacao</th>\n",
       "      <th>genero</th>\n",
       "      <th>idade</th>\n",
       "      <th>rendimento</th>\n",
       "      <th>pontuacao</th>\n",
       "      <th>Grupo</th>\n",
       "    </tr>\n",
       "  </thead>\n",
       "  <tbody>\n",
       "    <tr>\n",
       "      <th>0</th>\n",
       "      <td>1</td>\n",
       "      <td>Male</td>\n",
       "      <td>19</td>\n",
       "      <td>15</td>\n",
       "      <td>39</td>\n",
       "      <td>0</td>\n",
       "    </tr>\n",
       "    <tr>\n",
       "      <th>2</th>\n",
       "      <td>3</td>\n",
       "      <td>Female</td>\n",
       "      <td>20</td>\n",
       "      <td>16</td>\n",
       "      <td>6</td>\n",
       "      <td>0</td>\n",
       "    </tr>\n",
       "    <tr>\n",
       "      <th>4</th>\n",
       "      <td>5</td>\n",
       "      <td>Female</td>\n",
       "      <td>31</td>\n",
       "      <td>17</td>\n",
       "      <td>40</td>\n",
       "      <td>0</td>\n",
       "    </tr>\n",
       "    <tr>\n",
       "      <th>6</th>\n",
       "      <td>7</td>\n",
       "      <td>Female</td>\n",
       "      <td>35</td>\n",
       "      <td>18</td>\n",
       "      <td>6</td>\n",
       "      <td>0</td>\n",
       "    </tr>\n",
       "    <tr>\n",
       "      <th>8</th>\n",
       "      <td>9</td>\n",
       "      <td>Male</td>\n",
       "      <td>64</td>\n",
       "      <td>19</td>\n",
       "      <td>3</td>\n",
       "      <td>0</td>\n",
       "    </tr>\n",
       "    <tr>\n",
       "      <th>10</th>\n",
       "      <td>11</td>\n",
       "      <td>Male</td>\n",
       "      <td>67</td>\n",
       "      <td>19</td>\n",
       "      <td>14</td>\n",
       "      <td>0</td>\n",
       "    </tr>\n",
       "    <tr>\n",
       "      <th>12</th>\n",
       "      <td>13</td>\n",
       "      <td>Female</td>\n",
       "      <td>58</td>\n",
       "      <td>20</td>\n",
       "      <td>15</td>\n",
       "      <td>0</td>\n",
       "    </tr>\n",
       "    <tr>\n",
       "      <th>14</th>\n",
       "      <td>15</td>\n",
       "      <td>Male</td>\n",
       "      <td>37</td>\n",
       "      <td>20</td>\n",
       "      <td>13</td>\n",
       "      <td>0</td>\n",
       "    </tr>\n",
       "    <tr>\n",
       "      <th>16</th>\n",
       "      <td>17</td>\n",
       "      <td>Female</td>\n",
       "      <td>35</td>\n",
       "      <td>21</td>\n",
       "      <td>35</td>\n",
       "      <td>0</td>\n",
       "    </tr>\n",
       "    <tr>\n",
       "      <th>18</th>\n",
       "      <td>19</td>\n",
       "      <td>Male</td>\n",
       "      <td>52</td>\n",
       "      <td>23</td>\n",
       "      <td>29</td>\n",
       "      <td>0</td>\n",
       "    </tr>\n",
       "    <tr>\n",
       "      <th>20</th>\n",
       "      <td>21</td>\n",
       "      <td>Male</td>\n",
       "      <td>35</td>\n",
       "      <td>24</td>\n",
       "      <td>35</td>\n",
       "      <td>0</td>\n",
       "    </tr>\n",
       "    <tr>\n",
       "      <th>22</th>\n",
       "      <td>23</td>\n",
       "      <td>Female</td>\n",
       "      <td>46</td>\n",
       "      <td>25</td>\n",
       "      <td>5</td>\n",
       "      <td>0</td>\n",
       "    </tr>\n",
       "    <tr>\n",
       "      <th>24</th>\n",
       "      <td>25</td>\n",
       "      <td>Female</td>\n",
       "      <td>54</td>\n",
       "      <td>28</td>\n",
       "      <td>14</td>\n",
       "      <td>0</td>\n",
       "    </tr>\n",
       "    <tr>\n",
       "      <th>26</th>\n",
       "      <td>27</td>\n",
       "      <td>Female</td>\n",
       "      <td>45</td>\n",
       "      <td>28</td>\n",
       "      <td>32</td>\n",
       "      <td>0</td>\n",
       "    </tr>\n",
       "    <tr>\n",
       "      <th>28</th>\n",
       "      <td>29</td>\n",
       "      <td>Female</td>\n",
       "      <td>40</td>\n",
       "      <td>29</td>\n",
       "      <td>31</td>\n",
       "      <td>0</td>\n",
       "    </tr>\n",
       "    <tr>\n",
       "      <th>30</th>\n",
       "      <td>31</td>\n",
       "      <td>Male</td>\n",
       "      <td>60</td>\n",
       "      <td>30</td>\n",
       "      <td>4</td>\n",
       "      <td>0</td>\n",
       "    </tr>\n",
       "    <tr>\n",
       "      <th>32</th>\n",
       "      <td>33</td>\n",
       "      <td>Male</td>\n",
       "      <td>53</td>\n",
       "      <td>33</td>\n",
       "      <td>4</td>\n",
       "      <td>0</td>\n",
       "    </tr>\n",
       "    <tr>\n",
       "      <th>34</th>\n",
       "      <td>35</td>\n",
       "      <td>Female</td>\n",
       "      <td>49</td>\n",
       "      <td>33</td>\n",
       "      <td>14</td>\n",
       "      <td>0</td>\n",
       "    </tr>\n",
       "    <tr>\n",
       "      <th>36</th>\n",
       "      <td>37</td>\n",
       "      <td>Female</td>\n",
       "      <td>42</td>\n",
       "      <td>34</td>\n",
       "      <td>17</td>\n",
       "      <td>0</td>\n",
       "    </tr>\n",
       "    <tr>\n",
       "      <th>38</th>\n",
       "      <td>39</td>\n",
       "      <td>Female</td>\n",
       "      <td>36</td>\n",
       "      <td>37</td>\n",
       "      <td>26</td>\n",
       "      <td>0</td>\n",
       "    </tr>\n",
       "    <tr>\n",
       "      <th>40</th>\n",
       "      <td>41</td>\n",
       "      <td>Female</td>\n",
       "      <td>65</td>\n",
       "      <td>38</td>\n",
       "      <td>35</td>\n",
       "      <td>0</td>\n",
       "    </tr>\n",
       "    <tr>\n",
       "      <th>42</th>\n",
       "      <td>43</td>\n",
       "      <td>Male</td>\n",
       "      <td>48</td>\n",
       "      <td>39</td>\n",
       "      <td>36</td>\n",
       "      <td>0</td>\n",
       "    </tr>\n",
       "    <tr>\n",
       "      <th>44</th>\n",
       "      <td>45</td>\n",
       "      <td>Female</td>\n",
       "      <td>49</td>\n",
       "      <td>39</td>\n",
       "      <td>28</td>\n",
       "      <td>0</td>\n",
       "    </tr>\n",
       "  </tbody>\n",
       "</table>\n",
       "</div>"
      ],
      "text/plain": [
       "    identificacao  genero  idade  rendimento  pontuacao  Grupo\n",
       "0               1    Male     19          15         39      0\n",
       "2               3  Female     20          16          6      0\n",
       "4               5  Female     31          17         40      0\n",
       "6               7  Female     35          18          6      0\n",
       "8               9    Male     64          19          3      0\n",
       "10             11    Male     67          19         14      0\n",
       "12             13  Female     58          20         15      0\n",
       "14             15    Male     37          20         13      0\n",
       "16             17  Female     35          21         35      0\n",
       "18             19    Male     52          23         29      0\n",
       "20             21    Male     35          24         35      0\n",
       "22             23  Female     46          25          5      0\n",
       "24             25  Female     54          28         14      0\n",
       "26             27  Female     45          28         32      0\n",
       "28             29  Female     40          29         31      0\n",
       "30             31    Male     60          30          4      0\n",
       "32             33    Male     53          33          4      0\n",
       "34             35  Female     49          33         14      0\n",
       "36             37  Female     42          34         17      0\n",
       "38             39  Female     36          37         26      0\n",
       "40             41  Female     65          38         35      0\n",
       "42             43    Male     48          39         36      0\n",
       "44             45  Female     49          39         28      0"
      ]
     },
     "execution_count": 153,
     "metadata": {},
     "output_type": "execute_result"
    }
   ],
   "source": [
    "grupo0 = df3.loc[df3.Grupo == 0]\n",
    "grupo0"
   ]
  },
  {
   "cell_type": "code",
   "execution_count": 154,
   "metadata": {
    "colab": {
     "base_uri": "https://localhost:8080/"
    },
    "id": "b43QYFcF58w0",
    "outputId": "1364c63f-5c2f-4554-a7ee-efd1c3fed2ef"
   },
   "outputs": [
    {
     "data": {
      "text/plain": [
       "(23, 6)"
      ]
     },
     "execution_count": 154,
     "metadata": {},
     "output_type": "execute_result"
    }
   ],
   "source": [
    "grupo0.shape"
   ]
  },
  {
   "cell_type": "code",
   "execution_count": 155,
   "metadata": {
    "colab": {
     "base_uri": "https://localhost:8080/",
     "height": 1000
    },
    "id": "y8PX13pw6BME",
    "outputId": "02a285b7-b562-4a1d-a1a9-2fa4301856c5",
    "scrolled": true
   },
   "outputs": [
    {
     "data": {
      "text/html": [
       "<div>\n",
       "<style scoped>\n",
       "    .dataframe tbody tr th:only-of-type {\n",
       "        vertical-align: middle;\n",
       "    }\n",
       "\n",
       "    .dataframe tbody tr th {\n",
       "        vertical-align: top;\n",
       "    }\n",
       "\n",
       "    .dataframe thead th {\n",
       "        text-align: right;\n",
       "    }\n",
       "</style>\n",
       "<table border=\"1\" class=\"dataframe\">\n",
       "  <thead>\n",
       "    <tr style=\"text-align: right;\">\n",
       "      <th></th>\n",
       "      <th>identificacao</th>\n",
       "      <th>genero</th>\n",
       "      <th>idade</th>\n",
       "      <th>rendimento</th>\n",
       "      <th>pontuacao</th>\n",
       "      <th>Grupo</th>\n",
       "    </tr>\n",
       "  </thead>\n",
       "  <tbody>\n",
       "    <tr>\n",
       "      <th>1</th>\n",
       "      <td>2</td>\n",
       "      <td>Male</td>\n",
       "      <td>21</td>\n",
       "      <td>15</td>\n",
       "      <td>81</td>\n",
       "      <td>1</td>\n",
       "    </tr>\n",
       "    <tr>\n",
       "      <th>3</th>\n",
       "      <td>4</td>\n",
       "      <td>Female</td>\n",
       "      <td>23</td>\n",
       "      <td>16</td>\n",
       "      <td>77</td>\n",
       "      <td>1</td>\n",
       "    </tr>\n",
       "    <tr>\n",
       "      <th>5</th>\n",
       "      <td>6</td>\n",
       "      <td>Female</td>\n",
       "      <td>22</td>\n",
       "      <td>17</td>\n",
       "      <td>76</td>\n",
       "      <td>1</td>\n",
       "    </tr>\n",
       "    <tr>\n",
       "      <th>7</th>\n",
       "      <td>8</td>\n",
       "      <td>Female</td>\n",
       "      <td>23</td>\n",
       "      <td>18</td>\n",
       "      <td>94</td>\n",
       "      <td>1</td>\n",
       "    </tr>\n",
       "    <tr>\n",
       "      <th>9</th>\n",
       "      <td>10</td>\n",
       "      <td>Female</td>\n",
       "      <td>30</td>\n",
       "      <td>19</td>\n",
       "      <td>72</td>\n",
       "      <td>1</td>\n",
       "    </tr>\n",
       "    <tr>\n",
       "      <th>...</th>\n",
       "      <td>...</td>\n",
       "      <td>...</td>\n",
       "      <td>...</td>\n",
       "      <td>...</td>\n",
       "      <td>...</td>\n",
       "      <td>...</td>\n",
       "    </tr>\n",
       "    <tr>\n",
       "      <th>118</th>\n",
       "      <td>119</td>\n",
       "      <td>Female</td>\n",
       "      <td>51</td>\n",
       "      <td>67</td>\n",
       "      <td>43</td>\n",
       "      <td>1</td>\n",
       "    </tr>\n",
       "    <tr>\n",
       "      <th>119</th>\n",
       "      <td>120</td>\n",
       "      <td>Female</td>\n",
       "      <td>50</td>\n",
       "      <td>67</td>\n",
       "      <td>57</td>\n",
       "      <td>1</td>\n",
       "    </tr>\n",
       "    <tr>\n",
       "      <th>120</th>\n",
       "      <td>121</td>\n",
       "      <td>Male</td>\n",
       "      <td>27</td>\n",
       "      <td>67</td>\n",
       "      <td>56</td>\n",
       "      <td>1</td>\n",
       "    </tr>\n",
       "    <tr>\n",
       "      <th>121</th>\n",
       "      <td>122</td>\n",
       "      <td>Female</td>\n",
       "      <td>38</td>\n",
       "      <td>67</td>\n",
       "      <td>40</td>\n",
       "      <td>1</td>\n",
       "    </tr>\n",
       "    <tr>\n",
       "      <th>122</th>\n",
       "      <td>123</td>\n",
       "      <td>Female</td>\n",
       "      <td>40</td>\n",
       "      <td>69</td>\n",
       "      <td>58</td>\n",
       "      <td>1</td>\n",
       "    </tr>\n",
       "  </tbody>\n",
       "</table>\n",
       "<p>100 rows × 6 columns</p>\n",
       "</div>"
      ],
      "text/plain": [
       "     identificacao  genero  idade  rendimento  pontuacao  Grupo\n",
       "1                2    Male     21          15         81      1\n",
       "3                4  Female     23          16         77      1\n",
       "5                6  Female     22          17         76      1\n",
       "7                8  Female     23          18         94      1\n",
       "9               10  Female     30          19         72      1\n",
       "..             ...     ...    ...         ...        ...    ...\n",
       "118            119  Female     51          67         43      1\n",
       "119            120  Female     50          67         57      1\n",
       "120            121    Male     27          67         56      1\n",
       "121            122  Female     38          67         40      1\n",
       "122            123  Female     40          69         58      1\n",
       "\n",
       "[100 rows x 6 columns]"
      ]
     },
     "execution_count": 155,
     "metadata": {},
     "output_type": "execute_result"
    }
   ],
   "source": [
    "grupo1 = df3.loc[df3.Grupo == 1]\n",
    "grupo1"
   ]
  },
  {
   "cell_type": "code",
   "execution_count": 156,
   "metadata": {
    "colab": {
     "base_uri": "https://localhost:8080/"
    },
    "id": "-He-dsXMiC6_",
    "outputId": "5d9145bd-054a-4527-aaaf-189f312789be"
   },
   "outputs": [
    {
     "data": {
      "text/plain": [
       "(100, 6)"
      ]
     },
     "execution_count": 156,
     "metadata": {},
     "output_type": "execute_result"
    }
   ],
   "source": [
    "grupo1.shape"
   ]
  },
  {
   "cell_type": "markdown",
   "metadata": {
    "id": "ZyODWRN4lXIf",
    "jp-MarkdownHeadingCollapsed": true
   },
   "source": [
    "## **K-MEANS COM TODOS ATRIBUTOS**"
   ]
  },
  {
   "cell_type": "code",
   "execution_count": 157,
   "metadata": {
    "colab": {
     "base_uri": "https://localhost:8080/"
    },
    "id": "X95Uxq6p7ULC",
    "outputId": "dd8ae9c5-1ed8-4cc8-b893-d3c275386b88",
    "scrolled": true
   },
   "outputs": [
    {
     "data": {
      "text/plain": [
       "array([[ 1.12815215, -1.42456879, -1.73899919, -0.43480148],\n",
       "       [ 1.12815215, -1.28103541, -1.73899919,  1.19570407],\n",
       "       [-0.88640526, -1.3528021 , -1.70082976, -1.71591298],\n",
       "       [-0.88640526, -1.13750203, -1.70082976,  1.04041783],\n",
       "       [-0.88640526, -0.56336851, -1.66266033, -0.39597992],\n",
       "       [-0.88640526, -1.20926872, -1.66266033,  1.00159627],\n",
       "       [-0.88640526, -0.27630176, -1.62449091, -1.71591298],\n",
       "       [-0.88640526, -1.13750203, -1.62449091,  1.70038436],\n",
       "       [ 1.12815215,  1.80493225, -1.58632148, -1.83237767],\n",
       "       [-0.88640526, -0.6351352 , -1.58632148,  0.84631002],\n",
       "       [ 1.12815215,  2.02023231, -1.58632148, -1.4053405 ],\n",
       "       [-0.88640526, -0.27630176, -1.58632148,  1.89449216],\n",
       "       [-0.88640526,  1.37433211, -1.54815205, -1.36651894],\n",
       "       [-0.88640526, -1.06573534, -1.54815205,  1.04041783],\n",
       "       [ 1.12815215, -0.13276838, -1.54815205, -1.44416206],\n",
       "       [ 1.12815215, -1.20926872, -1.54815205,  1.11806095],\n",
       "       [-0.88640526, -0.27630176, -1.50998262, -0.59008772],\n",
       "       [ 1.12815215, -1.3528021 , -1.50998262,  0.61338066],\n",
       "       [ 1.12815215,  0.94373197, -1.43364376, -0.82301709],\n",
       "       [-0.88640526, -0.27630176, -1.43364376,  1.8556706 ],\n",
       "       [ 1.12815215, -0.27630176, -1.39547433, -0.59008772],\n",
       "       [ 1.12815215, -0.99396865, -1.39547433,  0.88513158],\n",
       "       [-0.88640526,  0.51313183, -1.3573049 , -1.75473454],\n",
       "       [ 1.12815215, -0.56336851, -1.3573049 ,  0.88513158],\n",
       "       [-0.88640526,  1.08726535, -1.24279661, -1.4053405 ],\n",
       "       [ 1.12815215, -0.70690189, -1.24279661,  1.23452563],\n",
       "       [-0.88640526,  0.44136514, -1.24279661, -0.7065524 ],\n",
       "       [ 1.12815215, -0.27630176, -1.24279661,  0.41927286],\n",
       "       [-0.88640526,  0.08253169, -1.20462718, -0.74537397],\n",
       "       [-0.88640526, -1.13750203, -1.20462718,  1.42863343],\n",
       "       [ 1.12815215,  1.51786549, -1.16645776, -1.7935561 ],\n",
       "       [-0.88640526, -1.28103541, -1.16645776,  0.88513158],\n",
       "       [ 1.12815215,  1.01549866, -1.05194947, -1.7935561 ],\n",
       "       [ 1.12815215, -1.49633548, -1.05194947,  1.62274124],\n",
       "       [-0.88640526,  0.7284319 , -1.05194947, -1.4053405 ],\n",
       "       [-0.88640526, -1.28103541, -1.05194947,  1.19570407],\n",
       "       [-0.88640526,  0.22606507, -1.01378004, -1.28887582],\n",
       "       [-0.88640526, -0.6351352 , -1.01378004,  0.88513158],\n",
       "       [-0.88640526, -0.20453507, -0.89927175, -0.93948177],\n",
       "       [-0.88640526, -1.3528021 , -0.89927175,  0.96277471],\n",
       "       [-0.88640526,  1.87669894, -0.86110232, -0.59008772],\n",
       "       [ 1.12815215, -1.06573534, -0.86110232,  1.62274124],\n",
       "       [ 1.12815215,  0.65666521, -0.82293289, -0.55126616],\n",
       "       [-0.88640526, -0.56336851, -0.82293289,  0.41927286],\n",
       "       [-0.88640526,  0.7284319 , -0.82293289, -0.86183865],\n",
       "       [-0.88640526, -1.06573534, -0.82293289,  0.5745591 ],\n",
       "       [-0.88640526,  0.80019859, -0.78476346,  0.18634349],\n",
       "       [-0.88640526, -0.85043527, -0.78476346, -0.12422899],\n",
       "       [-0.88640526, -0.70690189, -0.78476346, -0.3183368 ],\n",
       "       [-0.88640526, -0.56336851, -0.78476346, -0.3183368 ],\n",
       "       [-0.88640526,  0.7284319 , -0.70842461,  0.06987881],\n",
       "       [ 1.12815215, -0.41983513, -0.70842461,  0.38045129],\n",
       "       [-0.88640526, -0.56336851, -0.67025518,  0.14752193],\n",
       "       [ 1.12815215,  1.4460988 , -0.67025518,  0.38045129],\n",
       "       [-0.88640526,  0.80019859, -0.67025518, -0.20187212],\n",
       "       [ 1.12815215,  0.58489852, -0.67025518, -0.35715836],\n",
       "       [-0.88640526,  0.87196528, -0.63208575, -0.00776431],\n",
       "       [ 1.12815215,  2.16376569, -0.63208575, -0.16305055],\n",
       "       [-0.88640526, -0.85043527, -0.55574689,  0.03105725],\n",
       "       [ 1.12815215,  1.01549866, -0.55574689, -0.16305055],\n",
       "       [ 1.12815215,  2.23553238, -0.55574689,  0.22516505],\n",
       "       [ 1.12815215, -1.42456879, -0.55574689,  0.18634349],\n",
       "       [-0.88640526,  2.02023231, -0.51757746,  0.06987881],\n",
       "       [-0.88640526,  1.08726535, -0.51757746,  0.34162973],\n",
       "       [ 1.12815215,  1.73316556, -0.47940803,  0.03105725],\n",
       "       [ 1.12815215, -1.49633548, -0.47940803,  0.34162973],\n",
       "       [-0.88640526,  0.29783176, -0.47940803, -0.00776431],\n",
       "       [-0.88640526,  2.091999  , -0.47940803, -0.08540743],\n",
       "       [ 1.12815215, -1.42456879, -0.47940803,  0.34162973],\n",
       "       [-0.88640526, -0.49160182, -0.47940803, -0.12422899],\n",
       "       [ 1.12815215,  2.23553238, -0.4412386 ,  0.18634349],\n",
       "       [-0.88640526,  0.58489852, -0.4412386 , -0.3183368 ],\n",
       "       [-0.88640526,  1.51786549, -0.40306917, -0.04658587],\n",
       "       [-0.88640526,  1.51786549, -0.40306917,  0.22516505],\n",
       "       [ 1.12815215,  1.4460988 , -0.25039146, -0.12422899],\n",
       "       [ 1.12815215, -0.92220196, -0.25039146,  0.14752193],\n",
       "       [-0.88640526,  0.44136514, -0.25039146,  0.10870037],\n",
       "       [ 1.12815215,  0.08253169, -0.25039146, -0.08540743],\n",
       "       [-0.88640526, -1.13750203, -0.25039146,  0.06987881],\n",
       "       [-0.88640526,  0.7284319 , -0.25039146, -0.3183368 ],\n",
       "       [ 1.12815215,  1.30256542, -0.25039146,  0.03105725],\n",
       "       [ 1.12815215, -0.06100169, -0.25039146,  0.18634349],\n",
       "       [ 1.12815215,  2.02023231, -0.25039146, -0.35715836],\n",
       "       [-0.88640526,  0.51313183, -0.25039146, -0.24069368],\n",
       "       [-0.88640526, -1.28103541, -0.25039146,  0.26398661],\n",
       "       [ 1.12815215,  0.65666521, -0.25039146, -0.16305055],\n",
       "       [-0.88640526,  1.15903204, -0.13588317,  0.30280817],\n",
       "       [-0.88640526, -1.20926872, -0.13588317,  0.18634349],\n",
       "       [-0.88640526, -0.34806844, -0.09771374,  0.38045129],\n",
       "       [-0.88640526,  0.80019859, -0.09771374, -0.16305055],\n",
       "       [-0.88640526,  2.091999  , -0.05954431,  0.18634349],\n",
       "       [ 1.12815215, -1.49633548, -0.05954431, -0.35715836],\n",
       "       [ 1.12815215,  0.65666521, -0.02137488, -0.04658587],\n",
       "       [-0.88640526,  0.08253169, -0.02137488, -0.39597992],\n",
       "       [-0.88640526, -0.49160182, -0.02137488, -0.3183368 ],\n",
       "       [ 1.12815215, -1.06573534, -0.02137488,  0.06987881],\n",
       "       [-0.88640526,  0.58489852, -0.02137488, -0.12422899],\n",
       "       [-0.88640526, -0.85043527, -0.02137488, -0.00776431],\n",
       "       [ 1.12815215,  0.65666521,  0.01679455, -0.3183368 ],\n",
       "       [ 1.12815215, -1.3528021 ,  0.01679455, -0.04658587],\n",
       "       [-0.88640526, -1.13750203,  0.05496398, -0.35715836],\n",
       "       [-0.88640526,  0.7284319 ,  0.05496398, -0.08540743],\n",
       "       [ 1.12815215,  2.02023231,  0.05496398,  0.34162973],\n",
       "       [ 1.12815215, -0.92220196,  0.05496398,  0.18634349],\n",
       "       [ 1.12815215,  0.7284319 ,  0.05496398,  0.22516505],\n",
       "       [-0.88640526, -1.28103541,  0.05496398, -0.3183368 ],\n",
       "       [-0.88640526,  1.94846562,  0.09313341, -0.00776431],\n",
       "       [ 1.12815215,  1.08726535,  0.09313341, -0.16305055],\n",
       "       [ 1.12815215,  2.091999  ,  0.09313341, -0.27951524],\n",
       "       [ 1.12815215,  1.94846562,  0.09313341, -0.08540743],\n",
       "       [ 1.12815215,  1.87669894,  0.09313341,  0.06987881],\n",
       "       [-0.88640526, -1.42456879,  0.09313341,  0.14752193],\n",
       "       [-0.88640526, -0.06100169,  0.13130284, -0.3183368 ],\n",
       "       [ 1.12815215, -1.42456879,  0.13130284, -0.16305055],\n",
       "       [-0.88640526, -1.49633548,  0.16947227, -0.08540743],\n",
       "       [-0.88640526, -1.42456879,  0.16947227, -0.00776431],\n",
       "       [-0.88640526,  1.73316556,  0.16947227, -0.27951524],\n",
       "       [-0.88640526,  0.7284319 ,  0.16947227,  0.34162973],\n",
       "       [-0.88640526,  0.87196528,  0.24581112, -0.27951524],\n",
       "       [-0.88640526,  0.80019859,  0.24581112,  0.26398661],\n",
       "       [ 1.12815215, -0.85043527,  0.24581112,  0.22516505],\n",
       "       [-0.88640526, -0.06100169,  0.24581112, -0.39597992],\n",
       "       [-0.88640526,  0.08253169,  0.32214998,  0.30280817],\n",
       "       [ 1.12815215,  0.010765  ,  0.32214998,  1.58391968],\n",
       "       [-0.88640526, -1.13750203,  0.36031941, -0.82301709],\n",
       "       [-0.88640526, -0.56336851,  0.36031941,  1.04041783],\n",
       "       [ 1.12815215,  0.29783176,  0.39848884, -0.59008772],\n",
       "       [ 1.12815215,  0.08253169,  0.39848884,  1.73920592],\n",
       "       [ 1.12815215,  1.4460988 ,  0.39848884, -1.52180518],\n",
       "       [ 1.12815215, -0.06100169,  0.39848884,  0.96277471],\n",
       "       [ 1.12815215,  0.58489852,  0.39848884, -1.5994483 ],\n",
       "       [ 1.12815215,  0.010765  ,  0.39848884,  0.96277471],\n",
       "       [-0.88640526, -0.99396865,  0.43665827, -0.62890928],\n",
       "       [-0.88640526, -0.56336851,  0.43665827,  0.80748846],\n",
       "       [ 1.12815215, -1.3528021 ,  0.4748277 , -1.75473454],\n",
       "       [-0.88640526, -0.70690189,  0.4748277 ,  1.46745499],\n",
       "       [-0.88640526,  0.36959845,  0.4748277 , -1.67709142],\n",
       "       [ 1.12815215, -0.49160182,  0.4748277 ,  0.88513158],\n",
       "       [ 1.12815215, -1.42456879,  0.51299713, -1.56062674],\n",
       "       [-0.88640526, -0.27630176,  0.51299713,  0.84631002],\n",
       "       [-0.88640526,  1.30256542,  0.55116656, -1.75473454],\n",
       "       [ 1.12815215, -0.49160182,  0.55116656,  1.6615628 ],\n",
       "       [-0.88640526, -0.77866858,  0.58933599, -0.39597992],\n",
       "       [-0.88640526, -0.49160182,  0.58933599,  1.42863343],\n",
       "       [ 1.12815215, -0.99396865,  0.62750542, -1.48298362],\n",
       "       [ 1.12815215, -0.77866858,  0.62750542,  1.81684904],\n",
       "       [ 1.12815215,  0.65666521,  0.62750542, -0.55126616],\n",
       "       [-0.88640526, -0.49160182,  0.62750542,  0.92395314],\n",
       "       [-0.88640526, -0.34806844,  0.66567484, -1.09476801],\n",
       "       [ 1.12815215, -0.34806844,  0.66567484,  1.54509812],\n",
       "       [ 1.12815215,  0.29783176,  0.66567484, -1.28887582],\n",
       "       [ 1.12815215,  0.010765  ,  0.66567484,  1.46745499],\n",
       "       [-0.88640526,  0.36959845,  0.66567484, -1.17241113],\n",
       "       [-0.88640526, -0.06100169,  0.66567484,  1.00159627],\n",
       "       [-0.88640526,  0.58489852,  0.66567484, -1.32769738],\n",
       "       [-0.88640526, -0.85043527,  0.66567484,  1.50627656],\n",
       "       [ 1.12815215, -0.13276838,  0.66567484, -1.91002079],\n",
       "       [-0.88640526, -0.6351352 ,  0.66567484,  1.07923939],\n",
       "       [ 1.12815215, -0.34806844,  0.66567484, -1.91002079],\n",
       "       [-0.88640526, -0.6351352 ,  0.66567484,  0.88513158],\n",
       "       [-0.88640526,  1.23079873,  0.70384427, -0.59008772],\n",
       "       [-0.88640526, -0.70690189,  0.70384427,  1.27334719],\n",
       "       [ 1.12815215, -1.42456879,  0.78018313, -1.75473454],\n",
       "       [-0.88640526, -0.56336851,  0.78018313,  1.6615628 ],\n",
       "       [ 1.12815215,  0.80019859,  0.93286085, -0.93948177],\n",
       "       [-0.88640526, -0.20453507,  0.93286085,  0.96277471],\n",
       "       [ 1.12815215,  0.22606507,  0.97103028, -1.17241113],\n",
       "       [-0.88640526, -0.41983513,  0.97103028,  1.73920592],\n",
       "       [-0.88640526, -0.20453507,  1.00919971, -0.90066021],\n",
       "       [ 1.12815215, -0.49160182,  1.00919971,  0.49691598],\n",
       "       [ 1.12815215,  0.08253169,  1.00919971, -1.44416206],\n",
       "       [ 1.12815215, -0.77866858,  1.00919971,  0.96277471],\n",
       "       [ 1.12815215, -0.20453507,  1.00919971, -1.56062674],\n",
       "       [ 1.12815215, -0.20453507,  1.00919971,  1.62274124],\n",
       "       [-0.88640526,  0.94373197,  1.04736914, -1.44416206],\n",
       "       [-0.88640526, -0.6351352 ,  1.04736914,  1.38981187],\n",
       "       [ 1.12815215,  1.37433211,  1.04736914, -1.36651894],\n",
       "       [ 1.12815215, -0.85043527,  1.04736914,  0.72984534],\n",
       "       [ 1.12815215,  1.4460988 ,  1.23821628, -1.4053405 ],\n",
       "       [ 1.12815215, -0.27630176,  1.23821628,  1.54509812],\n",
       "       [-0.88640526, -0.13276838,  1.390894  , -0.7065524 ],\n",
       "       [-0.88640526, -0.49160182,  1.390894  ,  1.38981187],\n",
       "       [ 1.12815215,  0.51313183,  1.42906343, -1.36651894],\n",
       "       [-0.88640526, -0.70690189,  1.42906343,  1.46745499],\n",
       "       [-0.88640526,  0.15429838,  1.46723286, -0.43480148],\n",
       "       [ 1.12815215, -0.6351352 ,  1.46723286,  1.81684904],\n",
       "       [-0.88640526,  1.08726535,  1.54357172, -1.01712489],\n",
       "       [ 1.12815215, -0.77866858,  1.54357172,  0.69102378],\n",
       "       [-0.88640526,  0.15429838,  1.61991057, -1.28887582],\n",
       "       [-0.88640526, -0.20453507,  1.61991057,  1.35099031],\n",
       "       [-0.88640526, -0.34806844,  1.61991057, -1.05594645],\n",
       "       [-0.88640526, -0.49160182,  1.61991057,  0.72984534],\n",
       "       [ 1.12815215, -0.41983513,  2.00160487, -1.63826986],\n",
       "       [-0.88640526, -0.06100169,  2.00160487,  1.58391968],\n",
       "       [-0.88640526,  0.58489852,  2.26879087, -1.32769738],\n",
       "       [-0.88640526, -0.27630176,  2.26879087,  1.11806095],\n",
       "       [-0.88640526,  0.44136514,  2.49780745, -0.86183865],\n",
       "       [ 1.12815215, -0.49160182,  2.49780745,  0.92395314],\n",
       "       [ 1.12815215, -0.49160182,  2.91767117, -1.25005425],\n",
       "       [ 1.12815215, -0.6351352 ,  2.91767117,  1.27334719]])"
      ]
     },
     "execution_count": 157,
     "metadata": {},
     "output_type": "execute_result"
    }
   ],
   "source": [
    "# K means com todos atributos precisa-se ser todos atributos ESCALONADOS\n",
    "df2_esc"
   ]
  },
  {
   "cell_type": "code",
   "execution_count": 158,
   "metadata": {
    "colab": {
     "base_uri": "https://localhost:8080/"
    },
    "id": "buG8t8_slzqi",
    "outputId": "96040d81-0c20-4a09-c8c2-94a305c33cdc"
   },
   "outputs": [
    {
     "data": {
      "text/plain": [
       "(200, 4)"
      ]
     },
     "execution_count": 158,
     "metadata": {},
     "output_type": "execute_result"
    }
   ],
   "source": [
    "df2_esc.shape"
   ]
  },
  {
   "cell_type": "markdown",
   "metadata": {
    "id": "R-mUTBTslXIi"
   },
   "source": [
    "**Elbow Method**"
   ]
  },
  {
   "cell_type": "code",
   "execution_count": 159,
   "metadata": {
    "id": "KhBY7OL8lXIi"
   },
   "outputs": [],
   "source": [
    "from sklearn.cluster import KMeans\n",
    "wcss = []\n",
    "for i in range(1,11):\n",
    "    kmeans = KMeans(n_clusters = i, init = 'k-means++', random_state = 5, max_iter = 300)\n",
    "    kmeans.fit(df2_esc)\n",
    "# Método inertia para gerar o wcss\n",
    "    wcss.append(kmeans.inertia_)"
   ]
  },
  {
   "cell_type": "code",
   "execution_count": 160,
   "metadata": {
    "id": "Tr7tnKoJlXIj"
   },
   "outputs": [],
   "source": [
    "import matplotlib.pyplot as plt\n",
    "import seaborn as sns"
   ]
  },
  {
   "cell_type": "code",
   "execution_count": 161,
   "metadata": {
    "colab": {
     "base_uri": "https://localhost:8080/",
     "height": 350
    },
    "id": "JoJfLSqWlXIj",
    "outputId": "410bfa1c-23e5-4018-e956-f668474264da"
   },
   "outputs": [
    {
     "data": {
      "image/png": "[encoded data removed]",
      "text/plain": [
       "<Figure size 1000x500 with 1 Axes>"
      ]
     },
     "metadata": {},
     "output_type": "display_data"
    }
   ],
   "source": [
    "plt.figure(figsize=(10,5))\n",
    "sns.lineplot(x=range(1, 11), y=wcss, marker='o', color='red')\n",
    "plt.title('The Elbow Method')\n",
    "plt.xlabel('Número de clusters')\n",
    "plt.ylabel('WCSS')\n",
    "plt.show()"
   ]
  },
  {
   "cell_type": "markdown",
   "metadata": {
    "id": "82FbN6pTlXIk"
   },
   "source": [
    "**Agrupamento**"
   ]
  },
  {
   "cell_type": "code",
   "execution_count": 162,
   "metadata": {
    "id": "kxhE1MTGlXIl"
   },
   "outputs": [],
   "source": [
    "kmeans = KMeans(n_clusters = 5, init = 'k-means++', random_state = 5, max_iter = 300)\n"
   ]
  },
  {
   "cell_type": "code",
   "execution_count": 163,
   "metadata": {
    "id": "VzBheeLa6rTT"
   },
   "outputs": [],
   "source": [
    "kmeans2 = kmeans.fit(df2_esc)"
   ]
  },
  {
   "cell_type": "code",
   "execution_count": 164,
   "metadata": {
    "colab": {
     "base_uri": "https://localhost:8080/"
    },
    "id": "_1iVCddo6rTm",
    "outputId": "faf54d13-cb70-4aa8-d28a-e4acdd78f227"
   },
   "outputs": [
    {
     "data": {
      "text/plain": [
       "array([[-0.88640526,  0.61165898, -0.0511341 , -0.5302104 ],\n",
       "       [ 0.04339047, -0.44191719,  0.99158305,  1.23950275],\n",
       "       [ 1.12815215,  0.98879477, -0.09682608, -0.68578738],\n",
       "       [-0.09497199, -0.92220196, -1.27278688,  0.88929104],\n",
       "       [ 0.15336631, -1.14676225,  0.13376538, -0.40224146]])"
      ]
     },
     "execution_count": 164,
     "metadata": {},
     "output_type": "execute_result"
    }
   ],
   "source": [
    "# Coordenadas dos Centróides\n",
    "centroides = kmeans2.cluster_centers_\n",
    "centroides"
   ]
  },
  {
   "cell_type": "code",
   "execution_count": 165,
   "metadata": {
    "colab": {
     "base_uri": "https://localhost:8080/"
    },
    "id": "P5BjwAHy9zSr",
    "outputId": "de9d4a41-cf49-4428-ad0e-4de267355b1c"
   },
   "outputs": [
    {
     "data": {
      "text/plain": [
       "array([[-3.88578059e-16,  4.73728814e+01,  5.92203390e+01,\n",
       "         3.65423729e+01],\n",
       "       [ 4.61538462e-01,  3.26923077e+01,  8.65384615e+01,\n",
       "         8.21282051e+01],\n",
       "       [ 1.00000000e+00,  5.26279070e+01,  5.80232558e+01,\n",
       "         3.25348837e+01],\n",
       "       [ 3.92857143e-01,  2.60000000e+01,  2.72142857e+01,\n",
       "         7.31071429e+01],\n",
       "       [ 5.16129032e-01,  2.28709677e+01,  6.40645161e+01,\n",
       "         3.98387097e+01]])"
      ]
     },
     "execution_count": 165,
     "metadata": {},
     "output_type": "execute_result"
    }
   ],
   "source": [
    "# Inversão do escalonamento\n",
    "escala.inverse_transform(kmeans2.cluster_centers_)"
   ]
  },
  {
   "cell_type": "code",
   "execution_count": 166,
   "metadata": {
    "colab": {
     "base_uri": "https://localhost:8080/"
    },
    "id": "1r_MpYd46rTn",
    "outputId": "dc05747b-27d1-42af-adb7-eaa4c554bbed"
   },
   "outputs": [
    {
     "data": {
      "text/plain": [
       "array([3, 3, 4, 3, 3, 3, 0, 3, 2, 3, 2, 3, 0, 3, 2, 3, 0, 3, 2, 3, 2, 3,\n",
       "       0, 3, 0, 3, 0, 3, 0, 3, 2, 3, 2, 3, 0, 3, 0, 3, 0, 3, 0, 3, 2, 3,\n",
       "       0, 3, 0, 3, 4, 0, 0, 3, 3, 2, 0, 2, 0, 2, 4, 2, 2, 4, 0, 0, 2, 4,\n",
       "       0, 0, 4, 0, 2, 0, 0, 0, 2, 4, 0, 2, 4, 0, 2, 2, 2, 0, 4, 2, 0, 4,\n",
       "       0, 0, 0, 4, 2, 0, 0, 4, 0, 4, 2, 4, 4, 0, 2, 4, 2, 4, 0, 2, 2, 2,\n",
       "       2, 4, 0, 4, 4, 4, 0, 0, 0, 0, 4, 0, 0, 1, 4, 1, 2, 1, 2, 1, 2, 1,\n",
       "       4, 1, 4, 1, 0, 1, 4, 1, 0, 1, 4, 1, 4, 1, 2, 1, 0, 1, 2, 1, 0, 1,\n",
       "       0, 1, 2, 1, 2, 1, 0, 1, 4, 1, 2, 1, 2, 1, 0, 1, 2, 1, 2, 1, 0, 1,\n",
       "       2, 1, 2, 1, 0, 1, 2, 1, 0, 1, 0, 1, 0, 1, 0, 1, 4, 1, 0, 1, 0, 1,\n",
       "       4, 1], dtype=int32)"
      ]
     },
     "execution_count": 166,
     "metadata": {},
     "output_type": "execute_result"
    }
   ],
   "source": [
    "# Classificação dos dados\n",
    "classificacao2 = kmeans2.labels_\n",
    "classificacao2"
   ]
  },
  {
   "cell_type": "code",
   "execution_count": 167,
   "metadata": {
    "colab": {
     "base_uri": "https://localhost:8080/"
    },
    "id": "nJjdz_hp6rTo",
    "outputId": "819204ff-6795-4084-cbd8-834956bde159"
   },
   "outputs": [
    {
     "data": {
      "text/plain": [
       "1"
      ]
     },
     "execution_count": 167,
     "metadata": {},
     "output_type": "execute_result"
    }
   ],
   "source": [
    "classificacao2[199]"
   ]
  },
  {
   "cell_type": "code",
   "execution_count": 168,
   "metadata": {
    "colab": {
     "base_uri": "https://localhost:8080/",
     "height": 423
    },
    "id": "bxffuPEt6rTq",
    "outputId": "2b20468b-fa86-490e-a974-22dfb6fa1286"
   },
   "outputs": [
    {
     "data": {
      "text/html": [
       "<div>\n",
       "<style scoped>\n",
       "    .dataframe tbody tr th:only-of-type {\n",
       "        vertical-align: middle;\n",
       "    }\n",
       "\n",
       "    .dataframe tbody tr th {\n",
       "        vertical-align: top;\n",
       "    }\n",
       "\n",
       "    .dataframe thead th {\n",
       "        text-align: right;\n",
       "    }\n",
       "</style>\n",
       "<table border=\"1\" class=\"dataframe\">\n",
       "  <thead>\n",
       "    <tr style=\"text-align: right;\">\n",
       "      <th></th>\n",
       "      <th>Grupo</th>\n",
       "    </tr>\n",
       "  </thead>\n",
       "  <tbody>\n",
       "    <tr>\n",
       "      <th>0</th>\n",
       "      <td>3</td>\n",
       "    </tr>\n",
       "    <tr>\n",
       "      <th>1</th>\n",
       "      <td>3</td>\n",
       "    </tr>\n",
       "    <tr>\n",
       "      <th>2</th>\n",
       "      <td>4</td>\n",
       "    </tr>\n",
       "    <tr>\n",
       "      <th>3</th>\n",
       "      <td>3</td>\n",
       "    </tr>\n",
       "    <tr>\n",
       "      <th>4</th>\n",
       "      <td>3</td>\n",
       "    </tr>\n",
       "    <tr>\n",
       "      <th>...</th>\n",
       "      <td>...</td>\n",
       "    </tr>\n",
       "    <tr>\n",
       "      <th>195</th>\n",
       "      <td>1</td>\n",
       "    </tr>\n",
       "    <tr>\n",
       "      <th>196</th>\n",
       "      <td>0</td>\n",
       "    </tr>\n",
       "    <tr>\n",
       "      <th>197</th>\n",
       "      <td>1</td>\n",
       "    </tr>\n",
       "    <tr>\n",
       "      <th>198</th>\n",
       "      <td>4</td>\n",
       "    </tr>\n",
       "    <tr>\n",
       "      <th>199</th>\n",
       "      <td>1</td>\n",
       "    </tr>\n",
       "  </tbody>\n",
       "</table>\n",
       "<p>200 rows × 1 columns</p>\n",
       "</div>"
      ],
      "text/plain": [
       "     Grupo\n",
       "0        3\n",
       "1        3\n",
       "2        4\n",
       "3        3\n",
       "4        3\n",
       "..     ...\n",
       "195      1\n",
       "196      0\n",
       "197      1\n",
       "198      4\n",
       "199      1\n",
       "\n",
       "[200 rows x 1 columns]"
      ]
     },
     "execution_count": 168,
     "metadata": {},
     "output_type": "execute_result"
    }
   ],
   "source": [
    "agrupamento2 = pd.DataFrame(classificacao2, columns = ['Grupo'])\n",
    "agrupamento2"
   ]
  },
  {
   "cell_type": "code",
   "execution_count": 169,
   "metadata": {
    "colab": {
     "base_uri": "https://localhost:8080/",
     "height": 423
    },
    "id": "1yUTT24h6rTr",
    "outputId": "2faca332-8c12-4a2f-c046-5a79a22f2c1b"
   },
   "outputs": [
    {
     "data": {
      "text/html": [
       "<div>\n",
       "<style scoped>\n",
       "    .dataframe tbody tr th:only-of-type {\n",
       "        vertical-align: middle;\n",
       "    }\n",
       "\n",
       "    .dataframe tbody tr th {\n",
       "        vertical-align: top;\n",
       "    }\n",
       "\n",
       "    .dataframe thead th {\n",
       "        text-align: right;\n",
       "    }\n",
       "</style>\n",
       "<table border=\"1\" class=\"dataframe\">\n",
       "  <thead>\n",
       "    <tr style=\"text-align: right;\">\n",
       "      <th></th>\n",
       "      <th>identificacao</th>\n",
       "      <th>genero</th>\n",
       "      <th>idade</th>\n",
       "      <th>rendimento</th>\n",
       "      <th>pontuacao</th>\n",
       "      <th>Grupo</th>\n",
       "    </tr>\n",
       "  </thead>\n",
       "  <tbody>\n",
       "    <tr>\n",
       "      <th>0</th>\n",
       "      <td>1</td>\n",
       "      <td>Male</td>\n",
       "      <td>19</td>\n",
       "      <td>15</td>\n",
       "      <td>39</td>\n",
       "      <td>3</td>\n",
       "    </tr>\n",
       "    <tr>\n",
       "      <th>1</th>\n",
       "      <td>2</td>\n",
       "      <td>Male</td>\n",
       "      <td>21</td>\n",
       "      <td>15</td>\n",
       "      <td>81</td>\n",
       "      <td>3</td>\n",
       "    </tr>\n",
       "    <tr>\n",
       "      <th>2</th>\n",
       "      <td>3</td>\n",
       "      <td>Female</td>\n",
       "      <td>20</td>\n",
       "      <td>16</td>\n",
       "      <td>6</td>\n",
       "      <td>4</td>\n",
       "    </tr>\n",
       "    <tr>\n",
       "      <th>3</th>\n",
       "      <td>4</td>\n",
       "      <td>Female</td>\n",
       "      <td>23</td>\n",
       "      <td>16</td>\n",
       "      <td>77</td>\n",
       "      <td>3</td>\n",
       "    </tr>\n",
       "    <tr>\n",
       "      <th>4</th>\n",
       "      <td>5</td>\n",
       "      <td>Female</td>\n",
       "      <td>31</td>\n",
       "      <td>17</td>\n",
       "      <td>40</td>\n",
       "      <td>3</td>\n",
       "    </tr>\n",
       "    <tr>\n",
       "      <th>...</th>\n",
       "      <td>...</td>\n",
       "      <td>...</td>\n",
       "      <td>...</td>\n",
       "      <td>...</td>\n",
       "      <td>...</td>\n",
       "      <td>...</td>\n",
       "    </tr>\n",
       "    <tr>\n",
       "      <th>195</th>\n",
       "      <td>196</td>\n",
       "      <td>Female</td>\n",
       "      <td>35</td>\n",
       "      <td>120</td>\n",
       "      <td>79</td>\n",
       "      <td>1</td>\n",
       "    </tr>\n",
       "    <tr>\n",
       "      <th>196</th>\n",
       "      <td>197</td>\n",
       "      <td>Female</td>\n",
       "      <td>45</td>\n",
       "      <td>126</td>\n",
       "      <td>28</td>\n",
       "      <td>0</td>\n",
       "    </tr>\n",
       "    <tr>\n",
       "      <th>197</th>\n",
       "      <td>198</td>\n",
       "      <td>Male</td>\n",
       "      <td>32</td>\n",
       "      <td>126</td>\n",
       "      <td>74</td>\n",
       "      <td>1</td>\n",
       "    </tr>\n",
       "    <tr>\n",
       "      <th>198</th>\n",
       "      <td>199</td>\n",
       "      <td>Male</td>\n",
       "      <td>32</td>\n",
       "      <td>137</td>\n",
       "      <td>18</td>\n",
       "      <td>4</td>\n",
       "    </tr>\n",
       "    <tr>\n",
       "      <th>199</th>\n",
       "      <td>200</td>\n",
       "      <td>Male</td>\n",
       "      <td>30</td>\n",
       "      <td>137</td>\n",
       "      <td>83</td>\n",
       "      <td>1</td>\n",
       "    </tr>\n",
       "  </tbody>\n",
       "</table>\n",
       "<p>200 rows × 6 columns</p>\n",
       "</div>"
      ],
      "text/plain": [
       "     identificacao  genero  idade  rendimento  pontuacao  Grupo\n",
       "0                1    Male     19          15         39      3\n",
       "1                2    Male     21          15         81      3\n",
       "2                3  Female     20          16          6      4\n",
       "3                4  Female     23          16         77      3\n",
       "4                5  Female     31          17         40      3\n",
       "..             ...     ...    ...         ...        ...    ...\n",
       "195            196  Female     35         120         79      1\n",
       "196            197  Female     45         126         28      0\n",
       "197            198    Male     32         126         74      1\n",
       "198            199    Male     32         137         18      4\n",
       "199            200    Male     30         137         83      1\n",
       "\n",
       "[200 rows x 6 columns]"
      ]
     },
     "execution_count": 169,
     "metadata": {},
     "output_type": "execute_result"
    }
   ],
   "source": [
    "df4 = pd.concat([df, agrupamento2],axis=1)\n",
    "df4"
   ]
  },
  {
   "cell_type": "code",
   "execution_count": 170,
   "metadata": {
    "colab": {
     "base_uri": "https://localhost:8080/"
    },
    "id": "QovpnOlH6rTr",
    "outputId": "8833830a-66d7-4000-a1e5-a3f825bff85a"
   },
   "outputs": [
    {
     "data": {
      "text/plain": [
       "identificacao       126\n",
       "genero           Female\n",
       "idade                31\n",
       "rendimento           70\n",
       "pontuacao            77\n",
       "Grupo                 1\n",
       "Name: 125, dtype: object"
      ]
     },
     "execution_count": 170,
     "metadata": {},
     "output_type": "execute_result"
    }
   ],
   "source": [
    "df4.iloc[125 , :]"
   ]
  },
  {
   "cell_type": "code",
   "execution_count": 171,
   "metadata": {
    "colab": {
     "base_uri": "https://localhost:8080/",
     "height": 81
    },
    "id": "K_Qx0Une6rTs",
    "outputId": "84c0e718-b049-44da-dc8e-73046e936d65"
   },
   "outputs": [
    {
     "data": {
      "text/html": [
       "<div>\n",
       "<style scoped>\n",
       "    .dataframe tbody tr th:only-of-type {\n",
       "        vertical-align: middle;\n",
       "    }\n",
       "\n",
       "    .dataframe tbody tr th {\n",
       "        vertical-align: top;\n",
       "    }\n",
       "\n",
       "    .dataframe thead th {\n",
       "        text-align: right;\n",
       "    }\n",
       "</style>\n",
       "<table border=\"1\" class=\"dataframe\">\n",
       "  <thead>\n",
       "    <tr style=\"text-align: right;\">\n",
       "      <th></th>\n",
       "      <th>identificacao</th>\n",
       "      <th>genero</th>\n",
       "      <th>idade</th>\n",
       "      <th>rendimento</th>\n",
       "      <th>pontuacao</th>\n",
       "      <th>Grupo</th>\n",
       "    </tr>\n",
       "  </thead>\n",
       "  <tbody>\n",
       "    <tr>\n",
       "      <th>75</th>\n",
       "      <td>76</td>\n",
       "      <td>Male</td>\n",
       "      <td>26</td>\n",
       "      <td>54</td>\n",
       "      <td>54</td>\n",
       "      <td>4</td>\n",
       "    </tr>\n",
       "  </tbody>\n",
       "</table>\n",
       "</div>"
      ],
      "text/plain": [
       "    identificacao genero  idade  rendimento  pontuacao  Grupo\n",
       "75             76   Male     26          54         54      4"
      ]
     },
     "execution_count": 171,
     "metadata": {},
     "output_type": "execute_result"
    }
   ],
   "source": [
    "df4.loc[df4.identificacao == 76]"
   ]
  },
  {
   "cell_type": "code",
   "execution_count": 172,
   "metadata": {
    "colab": {
     "base_uri": "https://localhost:8080/",
     "height": 1000
    },
    "id": "VFvk21KT6rTs",
    "outputId": "3f9dbb90-2f9c-4754-e09c-df8e68ed629b",
    "scrolled": true
   },
   "outputs": [
    {
     "data": {
      "text/html": [
       "<div>\n",
       "<style scoped>\n",
       "    .dataframe tbody tr th:only-of-type {\n",
       "        vertical-align: middle;\n",
       "    }\n",
       "\n",
       "    .dataframe tbody tr th {\n",
       "        vertical-align: top;\n",
       "    }\n",
       "\n",
       "    .dataframe thead th {\n",
       "        text-align: right;\n",
       "    }\n",
       "</style>\n",
       "<table border=\"1\" class=\"dataframe\">\n",
       "  <thead>\n",
       "    <tr style=\"text-align: right;\">\n",
       "      <th></th>\n",
       "      <th>identificacao</th>\n",
       "      <th>genero</th>\n",
       "      <th>idade</th>\n",
       "      <th>rendimento</th>\n",
       "      <th>pontuacao</th>\n",
       "      <th>Grupo</th>\n",
       "    </tr>\n",
       "  </thead>\n",
       "  <tbody>\n",
       "    <tr>\n",
       "      <th>6</th>\n",
       "      <td>7</td>\n",
       "      <td>Female</td>\n",
       "      <td>35</td>\n",
       "      <td>18</td>\n",
       "      <td>6</td>\n",
       "      <td>0</td>\n",
       "    </tr>\n",
       "    <tr>\n",
       "      <th>12</th>\n",
       "      <td>13</td>\n",
       "      <td>Female</td>\n",
       "      <td>58</td>\n",
       "      <td>20</td>\n",
       "      <td>15</td>\n",
       "      <td>0</td>\n",
       "    </tr>\n",
       "    <tr>\n",
       "      <th>16</th>\n",
       "      <td>17</td>\n",
       "      <td>Female</td>\n",
       "      <td>35</td>\n",
       "      <td>21</td>\n",
       "      <td>35</td>\n",
       "      <td>0</td>\n",
       "    </tr>\n",
       "    <tr>\n",
       "      <th>22</th>\n",
       "      <td>23</td>\n",
       "      <td>Female</td>\n",
       "      <td>46</td>\n",
       "      <td>25</td>\n",
       "      <td>5</td>\n",
       "      <td>0</td>\n",
       "    </tr>\n",
       "    <tr>\n",
       "      <th>24</th>\n",
       "      <td>25</td>\n",
       "      <td>Female</td>\n",
       "      <td>54</td>\n",
       "      <td>28</td>\n",
       "      <td>14</td>\n",
       "      <td>0</td>\n",
       "    </tr>\n",
       "    <tr>\n",
       "      <th>26</th>\n",
       "      <td>27</td>\n",
       "      <td>Female</td>\n",
       "      <td>45</td>\n",
       "      <td>28</td>\n",
       "      <td>32</td>\n",
       "      <td>0</td>\n",
       "    </tr>\n",
       "    <tr>\n",
       "      <th>28</th>\n",
       "      <td>29</td>\n",
       "      <td>Female</td>\n",
       "      <td>40</td>\n",
       "      <td>29</td>\n",
       "      <td>31</td>\n",
       "      <td>0</td>\n",
       "    </tr>\n",
       "    <tr>\n",
       "      <th>34</th>\n",
       "      <td>35</td>\n",
       "      <td>Female</td>\n",
       "      <td>49</td>\n",
       "      <td>33</td>\n",
       "      <td>14</td>\n",
       "      <td>0</td>\n",
       "    </tr>\n",
       "    <tr>\n",
       "      <th>36</th>\n",
       "      <td>37</td>\n",
       "      <td>Female</td>\n",
       "      <td>42</td>\n",
       "      <td>34</td>\n",
       "      <td>17</td>\n",
       "      <td>0</td>\n",
       "    </tr>\n",
       "    <tr>\n",
       "      <th>38</th>\n",
       "      <td>39</td>\n",
       "      <td>Female</td>\n",
       "      <td>36</td>\n",
       "      <td>37</td>\n",
       "      <td>26</td>\n",
       "      <td>0</td>\n",
       "    </tr>\n",
       "    <tr>\n",
       "      <th>40</th>\n",
       "      <td>41</td>\n",
       "      <td>Female</td>\n",
       "      <td>65</td>\n",
       "      <td>38</td>\n",
       "      <td>35</td>\n",
       "      <td>0</td>\n",
       "    </tr>\n",
       "    <tr>\n",
       "      <th>44</th>\n",
       "      <td>45</td>\n",
       "      <td>Female</td>\n",
       "      <td>49</td>\n",
       "      <td>39</td>\n",
       "      <td>28</td>\n",
       "      <td>0</td>\n",
       "    </tr>\n",
       "    <tr>\n",
       "      <th>46</th>\n",
       "      <td>47</td>\n",
       "      <td>Female</td>\n",
       "      <td>50</td>\n",
       "      <td>40</td>\n",
       "      <td>55</td>\n",
       "      <td>0</td>\n",
       "    </tr>\n",
       "    <tr>\n",
       "      <th>49</th>\n",
       "      <td>50</td>\n",
       "      <td>Female</td>\n",
       "      <td>31</td>\n",
       "      <td>40</td>\n",
       "      <td>42</td>\n",
       "      <td>0</td>\n",
       "    </tr>\n",
       "    <tr>\n",
       "      <th>50</th>\n",
       "      <td>51</td>\n",
       "      <td>Female</td>\n",
       "      <td>49</td>\n",
       "      <td>42</td>\n",
       "      <td>52</td>\n",
       "      <td>0</td>\n",
       "    </tr>\n",
       "    <tr>\n",
       "      <th>54</th>\n",
       "      <td>55</td>\n",
       "      <td>Female</td>\n",
       "      <td>50</td>\n",
       "      <td>43</td>\n",
       "      <td>45</td>\n",
       "      <td>0</td>\n",
       "    </tr>\n",
       "    <tr>\n",
       "      <th>56</th>\n",
       "      <td>57</td>\n",
       "      <td>Female</td>\n",
       "      <td>51</td>\n",
       "      <td>44</td>\n",
       "      <td>50</td>\n",
       "      <td>0</td>\n",
       "    </tr>\n",
       "    <tr>\n",
       "      <th>62</th>\n",
       "      <td>63</td>\n",
       "      <td>Female</td>\n",
       "      <td>67</td>\n",
       "      <td>47</td>\n",
       "      <td>52</td>\n",
       "      <td>0</td>\n",
       "    </tr>\n",
       "    <tr>\n",
       "      <th>63</th>\n",
       "      <td>64</td>\n",
       "      <td>Female</td>\n",
       "      <td>54</td>\n",
       "      <td>47</td>\n",
       "      <td>59</td>\n",
       "      <td>0</td>\n",
       "    </tr>\n",
       "    <tr>\n",
       "      <th>66</th>\n",
       "      <td>67</td>\n",
       "      <td>Female</td>\n",
       "      <td>43</td>\n",
       "      <td>48</td>\n",
       "      <td>50</td>\n",
       "      <td>0</td>\n",
       "    </tr>\n",
       "    <tr>\n",
       "      <th>67</th>\n",
       "      <td>68</td>\n",
       "      <td>Female</td>\n",
       "      <td>68</td>\n",
       "      <td>48</td>\n",
       "      <td>48</td>\n",
       "      <td>0</td>\n",
       "    </tr>\n",
       "    <tr>\n",
       "      <th>69</th>\n",
       "      <td>70</td>\n",
       "      <td>Female</td>\n",
       "      <td>32</td>\n",
       "      <td>48</td>\n",
       "      <td>47</td>\n",
       "      <td>0</td>\n",
       "    </tr>\n",
       "    <tr>\n",
       "      <th>71</th>\n",
       "      <td>72</td>\n",
       "      <td>Female</td>\n",
       "      <td>47</td>\n",
       "      <td>49</td>\n",
       "      <td>42</td>\n",
       "      <td>0</td>\n",
       "    </tr>\n",
       "    <tr>\n",
       "      <th>72</th>\n",
       "      <td>73</td>\n",
       "      <td>Female</td>\n",
       "      <td>60</td>\n",
       "      <td>50</td>\n",
       "      <td>49</td>\n",
       "      <td>0</td>\n",
       "    </tr>\n",
       "    <tr>\n",
       "      <th>73</th>\n",
       "      <td>74</td>\n",
       "      <td>Female</td>\n",
       "      <td>60</td>\n",
       "      <td>50</td>\n",
       "      <td>56</td>\n",
       "      <td>0</td>\n",
       "    </tr>\n",
       "    <tr>\n",
       "      <th>76</th>\n",
       "      <td>77</td>\n",
       "      <td>Female</td>\n",
       "      <td>45</td>\n",
       "      <td>54</td>\n",
       "      <td>53</td>\n",
       "      <td>0</td>\n",
       "    </tr>\n",
       "    <tr>\n",
       "      <th>79</th>\n",
       "      <td>80</td>\n",
       "      <td>Female</td>\n",
       "      <td>49</td>\n",
       "      <td>54</td>\n",
       "      <td>42</td>\n",
       "      <td>0</td>\n",
       "    </tr>\n",
       "    <tr>\n",
       "      <th>83</th>\n",
       "      <td>84</td>\n",
       "      <td>Female</td>\n",
       "      <td>46</td>\n",
       "      <td>54</td>\n",
       "      <td>44</td>\n",
       "      <td>0</td>\n",
       "    </tr>\n",
       "    <tr>\n",
       "      <th>86</th>\n",
       "      <td>87</td>\n",
       "      <td>Female</td>\n",
       "      <td>55</td>\n",
       "      <td>57</td>\n",
       "      <td>58</td>\n",
       "      <td>0</td>\n",
       "    </tr>\n",
       "    <tr>\n",
       "      <th>88</th>\n",
       "      <td>89</td>\n",
       "      <td>Female</td>\n",
       "      <td>34</td>\n",
       "      <td>58</td>\n",
       "      <td>60</td>\n",
       "      <td>0</td>\n",
       "    </tr>\n",
       "    <tr>\n",
       "      <th>89</th>\n",
       "      <td>90</td>\n",
       "      <td>Female</td>\n",
       "      <td>50</td>\n",
       "      <td>58</td>\n",
       "      <td>46</td>\n",
       "      <td>0</td>\n",
       "    </tr>\n",
       "    <tr>\n",
       "      <th>90</th>\n",
       "      <td>91</td>\n",
       "      <td>Female</td>\n",
       "      <td>68</td>\n",
       "      <td>59</td>\n",
       "      <td>55</td>\n",
       "      <td>0</td>\n",
       "    </tr>\n",
       "    <tr>\n",
       "      <th>93</th>\n",
       "      <td>94</td>\n",
       "      <td>Female</td>\n",
       "      <td>40</td>\n",
       "      <td>60</td>\n",
       "      <td>40</td>\n",
       "      <td>0</td>\n",
       "    </tr>\n",
       "    <tr>\n",
       "      <th>94</th>\n",
       "      <td>95</td>\n",
       "      <td>Female</td>\n",
       "      <td>32</td>\n",
       "      <td>60</td>\n",
       "      <td>42</td>\n",
       "      <td>0</td>\n",
       "    </tr>\n",
       "    <tr>\n",
       "      <th>96</th>\n",
       "      <td>97</td>\n",
       "      <td>Female</td>\n",
       "      <td>47</td>\n",
       "      <td>60</td>\n",
       "      <td>47</td>\n",
       "      <td>0</td>\n",
       "    </tr>\n",
       "    <tr>\n",
       "      <th>101</th>\n",
       "      <td>102</td>\n",
       "      <td>Female</td>\n",
       "      <td>49</td>\n",
       "      <td>62</td>\n",
       "      <td>48</td>\n",
       "      <td>0</td>\n",
       "    </tr>\n",
       "    <tr>\n",
       "      <th>106</th>\n",
       "      <td>107</td>\n",
       "      <td>Female</td>\n",
       "      <td>66</td>\n",
       "      <td>63</td>\n",
       "      <td>50</td>\n",
       "      <td>0</td>\n",
       "    </tr>\n",
       "    <tr>\n",
       "      <th>112</th>\n",
       "      <td>113</td>\n",
       "      <td>Female</td>\n",
       "      <td>38</td>\n",
       "      <td>64</td>\n",
       "      <td>42</td>\n",
       "      <td>0</td>\n",
       "    </tr>\n",
       "    <tr>\n",
       "      <th>116</th>\n",
       "      <td>117</td>\n",
       "      <td>Female</td>\n",
       "      <td>63</td>\n",
       "      <td>65</td>\n",
       "      <td>43</td>\n",
       "      <td>0</td>\n",
       "    </tr>\n",
       "    <tr>\n",
       "      <th>117</th>\n",
       "      <td>118</td>\n",
       "      <td>Female</td>\n",
       "      <td>49</td>\n",
       "      <td>65</td>\n",
       "      <td>59</td>\n",
       "      <td>0</td>\n",
       "    </tr>\n",
       "    <tr>\n",
       "      <th>118</th>\n",
       "      <td>119</td>\n",
       "      <td>Female</td>\n",
       "      <td>51</td>\n",
       "      <td>67</td>\n",
       "      <td>43</td>\n",
       "      <td>0</td>\n",
       "    </tr>\n",
       "    <tr>\n",
       "      <th>119</th>\n",
       "      <td>120</td>\n",
       "      <td>Female</td>\n",
       "      <td>50</td>\n",
       "      <td>67</td>\n",
       "      <td>57</td>\n",
       "      <td>0</td>\n",
       "    </tr>\n",
       "    <tr>\n",
       "      <th>121</th>\n",
       "      <td>122</td>\n",
       "      <td>Female</td>\n",
       "      <td>38</td>\n",
       "      <td>67</td>\n",
       "      <td>40</td>\n",
       "      <td>0</td>\n",
       "    </tr>\n",
       "    <tr>\n",
       "      <th>122</th>\n",
       "      <td>123</td>\n",
       "      <td>Female</td>\n",
       "      <td>40</td>\n",
       "      <td>69</td>\n",
       "      <td>58</td>\n",
       "      <td>0</td>\n",
       "    </tr>\n",
       "    <tr>\n",
       "      <th>136</th>\n",
       "      <td>137</td>\n",
       "      <td>Female</td>\n",
       "      <td>44</td>\n",
       "      <td>73</td>\n",
       "      <td>7</td>\n",
       "      <td>0</td>\n",
       "    </tr>\n",
       "    <tr>\n",
       "      <th>140</th>\n",
       "      <td>141</td>\n",
       "      <td>Female</td>\n",
       "      <td>57</td>\n",
       "      <td>75</td>\n",
       "      <td>5</td>\n",
       "      <td>0</td>\n",
       "    </tr>\n",
       "    <tr>\n",
       "      <th>148</th>\n",
       "      <td>149</td>\n",
       "      <td>Female</td>\n",
       "      <td>34</td>\n",
       "      <td>78</td>\n",
       "      <td>22</td>\n",
       "      <td>0</td>\n",
       "    </tr>\n",
       "    <tr>\n",
       "      <th>152</th>\n",
       "      <td>153</td>\n",
       "      <td>Female</td>\n",
       "      <td>44</td>\n",
       "      <td>78</td>\n",
       "      <td>20</td>\n",
       "      <td>0</td>\n",
       "    </tr>\n",
       "    <tr>\n",
       "      <th>154</th>\n",
       "      <td>155</td>\n",
       "      <td>Female</td>\n",
       "      <td>47</td>\n",
       "      <td>78</td>\n",
       "      <td>16</td>\n",
       "      <td>0</td>\n",
       "    </tr>\n",
       "    <tr>\n",
       "      <th>160</th>\n",
       "      <td>161</td>\n",
       "      <td>Female</td>\n",
       "      <td>56</td>\n",
       "      <td>79</td>\n",
       "      <td>35</td>\n",
       "      <td>0</td>\n",
       "    </tr>\n",
       "    <tr>\n",
       "      <th>168</th>\n",
       "      <td>169</td>\n",
       "      <td>Female</td>\n",
       "      <td>36</td>\n",
       "      <td>87</td>\n",
       "      <td>27</td>\n",
       "      <td>0</td>\n",
       "    </tr>\n",
       "    <tr>\n",
       "      <th>174</th>\n",
       "      <td>175</td>\n",
       "      <td>Female</td>\n",
       "      <td>52</td>\n",
       "      <td>88</td>\n",
       "      <td>13</td>\n",
       "      <td>0</td>\n",
       "    </tr>\n",
       "    <tr>\n",
       "      <th>180</th>\n",
       "      <td>181</td>\n",
       "      <td>Female</td>\n",
       "      <td>37</td>\n",
       "      <td>97</td>\n",
       "      <td>32</td>\n",
       "      <td>0</td>\n",
       "    </tr>\n",
       "    <tr>\n",
       "      <th>184</th>\n",
       "      <td>185</td>\n",
       "      <td>Female</td>\n",
       "      <td>41</td>\n",
       "      <td>99</td>\n",
       "      <td>39</td>\n",
       "      <td>0</td>\n",
       "    </tr>\n",
       "    <tr>\n",
       "      <th>186</th>\n",
       "      <td>187</td>\n",
       "      <td>Female</td>\n",
       "      <td>54</td>\n",
       "      <td>101</td>\n",
       "      <td>24</td>\n",
       "      <td>0</td>\n",
       "    </tr>\n",
       "    <tr>\n",
       "      <th>188</th>\n",
       "      <td>189</td>\n",
       "      <td>Female</td>\n",
       "      <td>41</td>\n",
       "      <td>103</td>\n",
       "      <td>17</td>\n",
       "      <td>0</td>\n",
       "    </tr>\n",
       "    <tr>\n",
       "      <th>190</th>\n",
       "      <td>191</td>\n",
       "      <td>Female</td>\n",
       "      <td>34</td>\n",
       "      <td>103</td>\n",
       "      <td>23</td>\n",
       "      <td>0</td>\n",
       "    </tr>\n",
       "    <tr>\n",
       "      <th>194</th>\n",
       "      <td>195</td>\n",
       "      <td>Female</td>\n",
       "      <td>47</td>\n",
       "      <td>120</td>\n",
       "      <td>16</td>\n",
       "      <td>0</td>\n",
       "    </tr>\n",
       "    <tr>\n",
       "      <th>196</th>\n",
       "      <td>197</td>\n",
       "      <td>Female</td>\n",
       "      <td>45</td>\n",
       "      <td>126</td>\n",
       "      <td>28</td>\n",
       "      <td>0</td>\n",
       "    </tr>\n",
       "  </tbody>\n",
       "</table>\n",
       "</div>"
      ],
      "text/plain": [
       "     identificacao  genero  idade  rendimento  pontuacao  Grupo\n",
       "6                7  Female     35          18          6      0\n",
       "12              13  Female     58          20         15      0\n",
       "16              17  Female     35          21         35      0\n",
       "22              23  Female     46          25          5      0\n",
       "24              25  Female     54          28         14      0\n",
       "26              27  Female     45          28         32      0\n",
       "28              29  Female     40          29         31      0\n",
       "34              35  Female     49          33         14      0\n",
       "36              37  Female     42          34         17      0\n",
       "38              39  Female     36          37         26      0\n",
       "40              41  Female     65          38         35      0\n",
       "44              45  Female     49          39         28      0\n",
       "46              47  Female     50          40         55      0\n",
       "49              50  Female     31          40         42      0\n",
       "50              51  Female     49          42         52      0\n",
       "54              55  Female     50          43         45      0\n",
       "56              57  Female     51          44         50      0\n",
       "62              63  Female     67          47         52      0\n",
       "63              64  Female     54          47         59      0\n",
       "66              67  Female     43          48         50      0\n",
       "67              68  Female     68          48         48      0\n",
       "69              70  Female     32          48         47      0\n",
       "71              72  Female     47          49         42      0\n",
       "72              73  Female     60          50         49      0\n",
       "73              74  Female     60          50         56      0\n",
       "76              77  Female     45          54         53      0\n",
       "79              80  Female     49          54         42      0\n",
       "83              84  Female     46          54         44      0\n",
       "86              87  Female     55          57         58      0\n",
       "88              89  Female     34          58         60      0\n",
       "89              90  Female     50          58         46      0\n",
       "90              91  Female     68          59         55      0\n",
       "93              94  Female     40          60         40      0\n",
       "94              95  Female     32          60         42      0\n",
       "96              97  Female     47          60         47      0\n",
       "101            102  Female     49          62         48      0\n",
       "106            107  Female     66          63         50      0\n",
       "112            113  Female     38          64         42      0\n",
       "116            117  Female     63          65         43      0\n",
       "117            118  Female     49          65         59      0\n",
       "118            119  Female     51          67         43      0\n",
       "119            120  Female     50          67         57      0\n",
       "121            122  Female     38          67         40      0\n",
       "122            123  Female     40          69         58      0\n",
       "136            137  Female     44          73          7      0\n",
       "140            141  Female     57          75          5      0\n",
       "148            149  Female     34          78         22      0\n",
       "152            153  Female     44          78         20      0\n",
       "154            155  Female     47          78         16      0\n",
       "160            161  Female     56          79         35      0\n",
       "168            169  Female     36          87         27      0\n",
       "174            175  Female     52          88         13      0\n",
       "180            181  Female     37          97         32      0\n",
       "184            185  Female     41          99         39      0\n",
       "186            187  Female     54         101         24      0\n",
       "188            189  Female     41         103         17      0\n",
       "190            191  Female     34         103         23      0\n",
       "194            195  Female     47         120         16      0\n",
       "196            197  Female     45         126         28      0"
      ]
     },
     "execution_count": 172,
     "metadata": {},
     "output_type": "execute_result"
    }
   ],
   "source": [
    "grupo0 = df4.loc[df4.Grupo == 0]\n",
    "grupo0"
   ]
  },
  {
   "cell_type": "code",
   "execution_count": 173,
   "metadata": {
    "colab": {
     "base_uri": "https://localhost:8080/"
    },
    "id": "-jYnYjcq6rTs",
    "outputId": "8442364e-74cf-4b88-8749-1a305269b6c6"
   },
   "outputs": [
    {
     "data": {
      "text/plain": [
       "(59, 6)"
      ]
     },
     "execution_count": 173,
     "metadata": {},
     "output_type": "execute_result"
    }
   ],
   "source": [
    "grupo0.shape"
   ]
  },
  {
   "cell_type": "markdown",
   "metadata": {
    "id": "N8oYhBUfx3nH",
    "jp-MarkdownHeadingCollapsed": true
   },
   "source": [
    "## **K-MEANS COM PCA**"
   ]
  },
  {
   "cell_type": "code",
   "execution_count": 174,
   "metadata": {
    "id": "A4lFQAbPx3nJ"
   },
   "outputs": [
    {
     "data": {
      "text/plain": [
       "array([[ 1.12815215, -1.42456879, -1.73899919, -0.43480148],\n",
       "       [ 1.12815215, -1.28103541, -1.73899919,  1.19570407],\n",
       "       [-0.88640526, -1.3528021 , -1.70082976, -1.71591298],\n",
       "       [-0.88640526, -1.13750203, -1.70082976,  1.04041783],\n",
       "       [-0.88640526, -0.56336851, -1.66266033, -0.39597992],\n",
       "       [-0.88640526, -1.20926872, -1.66266033,  1.00159627],\n",
       "       [-0.88640526, -0.27630176, -1.62449091, -1.71591298],\n",
       "       [-0.88640526, -1.13750203, -1.62449091,  1.70038436],\n",
       "       [ 1.12815215,  1.80493225, -1.58632148, -1.83237767],\n",
       "       [-0.88640526, -0.6351352 , -1.58632148,  0.84631002],\n",
       "       [ 1.12815215,  2.02023231, -1.58632148, -1.4053405 ],\n",
       "       [-0.88640526, -0.27630176, -1.58632148,  1.89449216],\n",
       "       [-0.88640526,  1.37433211, -1.54815205, -1.36651894],\n",
       "       [-0.88640526, -1.06573534, -1.54815205,  1.04041783],\n",
       "       [ 1.12815215, -0.13276838, -1.54815205, -1.44416206],\n",
       "       [ 1.12815215, -1.20926872, -1.54815205,  1.11806095],\n",
       "       [-0.88640526, -0.27630176, -1.50998262, -0.59008772],\n",
       "       [ 1.12815215, -1.3528021 , -1.50998262,  0.61338066],\n",
       "       [ 1.12815215,  0.94373197, -1.43364376, -0.82301709],\n",
       "       [-0.88640526, -0.27630176, -1.43364376,  1.8556706 ],\n",
       "       [ 1.12815215, -0.27630176, -1.39547433, -0.59008772],\n",
       "       [ 1.12815215, -0.99396865, -1.39547433,  0.88513158],\n",
       "       [-0.88640526,  0.51313183, -1.3573049 , -1.75473454],\n",
       "       [ 1.12815215, -0.56336851, -1.3573049 ,  0.88513158],\n",
       "       [-0.88640526,  1.08726535, -1.24279661, -1.4053405 ],\n",
       "       [ 1.12815215, -0.70690189, -1.24279661,  1.23452563],\n",
       "       [-0.88640526,  0.44136514, -1.24279661, -0.7065524 ],\n",
       "       [ 1.12815215, -0.27630176, -1.24279661,  0.41927286],\n",
       "       [-0.88640526,  0.08253169, -1.20462718, -0.74537397],\n",
       "       [-0.88640526, -1.13750203, -1.20462718,  1.42863343],\n",
       "       [ 1.12815215,  1.51786549, -1.16645776, -1.7935561 ],\n",
       "       [-0.88640526, -1.28103541, -1.16645776,  0.88513158],\n",
       "       [ 1.12815215,  1.01549866, -1.05194947, -1.7935561 ],\n",
       "       [ 1.12815215, -1.49633548, -1.05194947,  1.62274124],\n",
       "       [-0.88640526,  0.7284319 , -1.05194947, -1.4053405 ],\n",
       "       [-0.88640526, -1.28103541, -1.05194947,  1.19570407],\n",
       "       [-0.88640526,  0.22606507, -1.01378004, -1.28887582],\n",
       "       [-0.88640526, -0.6351352 , -1.01378004,  0.88513158],\n",
       "       [-0.88640526, -0.20453507, -0.89927175, -0.93948177],\n",
       "       [-0.88640526, -1.3528021 , -0.89927175,  0.96277471],\n",
       "       [-0.88640526,  1.87669894, -0.86110232, -0.59008772],\n",
       "       [ 1.12815215, -1.06573534, -0.86110232,  1.62274124],\n",
       "       [ 1.12815215,  0.65666521, -0.82293289, -0.55126616],\n",
       "       [-0.88640526, -0.56336851, -0.82293289,  0.41927286],\n",
       "       [-0.88640526,  0.7284319 , -0.82293289, -0.86183865],\n",
       "       [-0.88640526, -1.06573534, -0.82293289,  0.5745591 ],\n",
       "       [-0.88640526,  0.80019859, -0.78476346,  0.18634349],\n",
       "       [-0.88640526, -0.85043527, -0.78476346, -0.12422899],\n",
       "       [-0.88640526, -0.70690189, -0.78476346, -0.3183368 ],\n",
       "       [-0.88640526, -0.56336851, -0.78476346, -0.3183368 ],\n",
       "       [-0.88640526,  0.7284319 , -0.70842461,  0.06987881],\n",
       "       [ 1.12815215, -0.41983513, -0.70842461,  0.38045129],\n",
       "       [-0.88640526, -0.56336851, -0.67025518,  0.14752193],\n",
       "       [ 1.12815215,  1.4460988 , -0.67025518,  0.38045129],\n",
       "       [-0.88640526,  0.80019859, -0.67025518, -0.20187212],\n",
       "       [ 1.12815215,  0.58489852, -0.67025518, -0.35715836],\n",
       "       [-0.88640526,  0.87196528, -0.63208575, -0.00776431],\n",
       "       [ 1.12815215,  2.16376569, -0.63208575, -0.16305055],\n",
       "       [-0.88640526, -0.85043527, -0.55574689,  0.03105725],\n",
       "       [ 1.12815215,  1.01549866, -0.55574689, -0.16305055],\n",
       "       [ 1.12815215,  2.23553238, -0.55574689,  0.22516505],\n",
       "       [ 1.12815215, -1.42456879, -0.55574689,  0.18634349],\n",
       "       [-0.88640526,  2.02023231, -0.51757746,  0.06987881],\n",
       "       [-0.88640526,  1.08726535, -0.51757746,  0.34162973],\n",
       "       [ 1.12815215,  1.73316556, -0.47940803,  0.03105725],\n",
       "       [ 1.12815215, -1.49633548, -0.47940803,  0.34162973],\n",
       "       [-0.88640526,  0.29783176, -0.47940803, -0.00776431],\n",
       "       [-0.88640526,  2.091999  , -0.47940803, -0.08540743],\n",
       "       [ 1.12815215, -1.42456879, -0.47940803,  0.34162973],\n",
       "       [-0.88640526, -0.49160182, -0.47940803, -0.12422899],\n",
       "       [ 1.12815215,  2.23553238, -0.4412386 ,  0.18634349],\n",
       "       [-0.88640526,  0.58489852, -0.4412386 , -0.3183368 ],\n",
       "       [-0.88640526,  1.51786549, -0.40306917, -0.04658587],\n",
       "       [-0.88640526,  1.51786549, -0.40306917,  0.22516505],\n",
       "       [ 1.12815215,  1.4460988 , -0.25039146, -0.12422899],\n",
       "       [ 1.12815215, -0.92220196, -0.25039146,  0.14752193],\n",
       "       [-0.88640526,  0.44136514, -0.25039146,  0.10870037],\n",
       "       [ 1.12815215,  0.08253169, -0.25039146, -0.08540743],\n",
       "       [-0.88640526, -1.13750203, -0.25039146,  0.06987881],\n",
       "       [-0.88640526,  0.7284319 , -0.25039146, -0.3183368 ],\n",
       "       [ 1.12815215,  1.30256542, -0.25039146,  0.03105725],\n",
       "       [ 1.12815215, -0.06100169, -0.25039146,  0.18634349],\n",
       "       [ 1.12815215,  2.02023231, -0.25039146, -0.35715836],\n",
       "       [-0.88640526,  0.51313183, -0.25039146, -0.24069368],\n",
       "       [-0.88640526, -1.28103541, -0.25039146,  0.26398661],\n",
       "       [ 1.12815215,  0.65666521, -0.25039146, -0.16305055],\n",
       "       [-0.88640526,  1.15903204, -0.13588317,  0.30280817],\n",
       "       [-0.88640526, -1.20926872, -0.13588317,  0.18634349],\n",
       "       [-0.88640526, -0.34806844, -0.09771374,  0.38045129],\n",
       "       [-0.88640526,  0.80019859, -0.09771374, -0.16305055],\n",
       "       [-0.88640526,  2.091999  , -0.05954431,  0.18634349],\n",
       "       [ 1.12815215, -1.49633548, -0.05954431, -0.35715836],\n",
       "       [ 1.12815215,  0.65666521, -0.02137488, -0.04658587],\n",
       "       [-0.88640526,  0.08253169, -0.02137488, -0.39597992],\n",
       "       [-0.88640526, -0.49160182, -0.02137488, -0.3183368 ],\n",
       "       [ 1.12815215, -1.06573534, -0.02137488,  0.06987881],\n",
       "       [-0.88640526,  0.58489852, -0.02137488, -0.12422899],\n",
       "       [-0.88640526, -0.85043527, -0.02137488, -0.00776431],\n",
       "       [ 1.12815215,  0.65666521,  0.01679455, -0.3183368 ],\n",
       "       [ 1.12815215, -1.3528021 ,  0.01679455, -0.04658587],\n",
       "       [-0.88640526, -1.13750203,  0.05496398, -0.35715836],\n",
       "       [-0.88640526,  0.7284319 ,  0.05496398, -0.08540743],\n",
       "       [ 1.12815215,  2.02023231,  0.05496398,  0.34162973],\n",
       "       [ 1.12815215, -0.92220196,  0.05496398,  0.18634349],\n",
       "       [ 1.12815215,  0.7284319 ,  0.05496398,  0.22516505],\n",
       "       [-0.88640526, -1.28103541,  0.05496398, -0.3183368 ],\n",
       "       [-0.88640526,  1.94846562,  0.09313341, -0.00776431],\n",
       "       [ 1.12815215,  1.08726535,  0.09313341, -0.16305055],\n",
       "       [ 1.12815215,  2.091999  ,  0.09313341, -0.27951524],\n",
       "       [ 1.12815215,  1.94846562,  0.09313341, -0.08540743],\n",
       "       [ 1.12815215,  1.87669894,  0.09313341,  0.06987881],\n",
       "       [-0.88640526, -1.42456879,  0.09313341,  0.14752193],\n",
       "       [-0.88640526, -0.06100169,  0.13130284, -0.3183368 ],\n",
       "       [ 1.12815215, -1.42456879,  0.13130284, -0.16305055],\n",
       "       [-0.88640526, -1.49633548,  0.16947227, -0.08540743],\n",
       "       [-0.88640526, -1.42456879,  0.16947227, -0.00776431],\n",
       "       [-0.88640526,  1.73316556,  0.16947227, -0.27951524],\n",
       "       [-0.88640526,  0.7284319 ,  0.16947227,  0.34162973],\n",
       "       [-0.88640526,  0.87196528,  0.24581112, -0.27951524],\n",
       "       [-0.88640526,  0.80019859,  0.24581112,  0.26398661],\n",
       "       [ 1.12815215, -0.85043527,  0.24581112,  0.22516505],\n",
       "       [-0.88640526, -0.06100169,  0.24581112, -0.39597992],\n",
       "       [-0.88640526,  0.08253169,  0.32214998,  0.30280817],\n",
       "       [ 1.12815215,  0.010765  ,  0.32214998,  1.58391968],\n",
       "       [-0.88640526, -1.13750203,  0.36031941, -0.82301709],\n",
       "       [-0.88640526, -0.56336851,  0.36031941,  1.04041783],\n",
       "       [ 1.12815215,  0.29783176,  0.39848884, -0.59008772],\n",
       "       [ 1.12815215,  0.08253169,  0.39848884,  1.73920592],\n",
       "       [ 1.12815215,  1.4460988 ,  0.39848884, -1.52180518],\n",
       "       [ 1.12815215, -0.06100169,  0.39848884,  0.96277471],\n",
       "       [ 1.12815215,  0.58489852,  0.39848884, -1.5994483 ],\n",
       "       [ 1.12815215,  0.010765  ,  0.39848884,  0.96277471],\n",
       "       [-0.88640526, -0.99396865,  0.43665827, -0.62890928],\n",
       "       [-0.88640526, -0.56336851,  0.43665827,  0.80748846],\n",
       "       [ 1.12815215, -1.3528021 ,  0.4748277 , -1.75473454],\n",
       "       [-0.88640526, -0.70690189,  0.4748277 ,  1.46745499],\n",
       "       [-0.88640526,  0.36959845,  0.4748277 , -1.67709142],\n",
       "       [ 1.12815215, -0.49160182,  0.4748277 ,  0.88513158],\n",
       "       [ 1.12815215, -1.42456879,  0.51299713, -1.56062674],\n",
       "       [-0.88640526, -0.27630176,  0.51299713,  0.84631002],\n",
       "       [-0.88640526,  1.30256542,  0.55116656, -1.75473454],\n",
       "       [ 1.12815215, -0.49160182,  0.55116656,  1.6615628 ],\n",
       "       [-0.88640526, -0.77866858,  0.58933599, -0.39597992],\n",
       "       [-0.88640526, -0.49160182,  0.58933599,  1.42863343],\n",
       "       [ 1.12815215, -0.99396865,  0.62750542, -1.48298362],\n",
       "       [ 1.12815215, -0.77866858,  0.62750542,  1.81684904],\n",
       "       [ 1.12815215,  0.65666521,  0.62750542, -0.55126616],\n",
       "       [-0.88640526, -0.49160182,  0.62750542,  0.92395314],\n",
       "       [-0.88640526, -0.34806844,  0.66567484, -1.09476801],\n",
       "       [ 1.12815215, -0.34806844,  0.66567484,  1.54509812],\n",
       "       [ 1.12815215,  0.29783176,  0.66567484, -1.28887582],\n",
       "       [ 1.12815215,  0.010765  ,  0.66567484,  1.46745499],\n",
       "       [-0.88640526,  0.36959845,  0.66567484, -1.17241113],\n",
       "       [-0.88640526, -0.06100169,  0.66567484,  1.00159627],\n",
       "       [-0.88640526,  0.58489852,  0.66567484, -1.32769738],\n",
       "       [-0.88640526, -0.85043527,  0.66567484,  1.50627656],\n",
       "       [ 1.12815215, -0.13276838,  0.66567484, -1.91002079],\n",
       "       [-0.88640526, -0.6351352 ,  0.66567484,  1.07923939],\n",
       "       [ 1.12815215, -0.34806844,  0.66567484, -1.91002079],\n",
       "       [-0.88640526, -0.6351352 ,  0.66567484,  0.88513158],\n",
       "       [-0.88640526,  1.23079873,  0.70384427, -0.59008772],\n",
       "       [-0.88640526, -0.70690189,  0.70384427,  1.27334719],\n",
       "       [ 1.12815215, -1.42456879,  0.78018313, -1.75473454],\n",
       "       [-0.88640526, -0.56336851,  0.78018313,  1.6615628 ],\n",
       "       [ 1.12815215,  0.80019859,  0.93286085, -0.93948177],\n",
       "       [-0.88640526, -0.20453507,  0.93286085,  0.96277471],\n",
       "       [ 1.12815215,  0.22606507,  0.97103028, -1.17241113],\n",
       "       [-0.88640526, -0.41983513,  0.97103028,  1.73920592],\n",
       "       [-0.88640526, -0.20453507,  1.00919971, -0.90066021],\n",
       "       [ 1.12815215, -0.49160182,  1.00919971,  0.49691598],\n",
       "       [ 1.12815215,  0.08253169,  1.00919971, -1.44416206],\n",
       "       [ 1.12815215, -0.77866858,  1.00919971,  0.96277471],\n",
       "       [ 1.12815215, -0.20453507,  1.00919971, -1.56062674],\n",
       "       [ 1.12815215, -0.20453507,  1.00919971,  1.62274124],\n",
       "       [-0.88640526,  0.94373197,  1.04736914, -1.44416206],\n",
       "       [-0.88640526, -0.6351352 ,  1.04736914,  1.38981187],\n",
       "       [ 1.12815215,  1.37433211,  1.04736914, -1.36651894],\n",
       "       [ 1.12815215, -0.85043527,  1.04736914,  0.72984534],\n",
       "       [ 1.12815215,  1.4460988 ,  1.23821628, -1.4053405 ],\n",
       "       [ 1.12815215, -0.27630176,  1.23821628,  1.54509812],\n",
       "       [-0.88640526, -0.13276838,  1.390894  , -0.7065524 ],\n",
       "       [-0.88640526, -0.49160182,  1.390894  ,  1.38981187],\n",
       "       [ 1.12815215,  0.51313183,  1.42906343, -1.36651894],\n",
       "       [-0.88640526, -0.70690189,  1.42906343,  1.46745499],\n",
       "       [-0.88640526,  0.15429838,  1.46723286, -0.43480148],\n",
       "       [ 1.12815215, -0.6351352 ,  1.46723286,  1.81684904],\n",
       "       [-0.88640526,  1.08726535,  1.54357172, -1.01712489],\n",
       "       [ 1.12815215, -0.77866858,  1.54357172,  0.69102378],\n",
       "       [-0.88640526,  0.15429838,  1.61991057, -1.28887582],\n",
       "       [-0.88640526, -0.20453507,  1.61991057,  1.35099031],\n",
       "       [-0.88640526, -0.34806844,  1.61991057, -1.05594645],\n",
       "       [-0.88640526, -0.49160182,  1.61991057,  0.72984534],\n",
       "       [ 1.12815215, -0.41983513,  2.00160487, -1.63826986],\n",
       "       [-0.88640526, -0.06100169,  2.00160487,  1.58391968],\n",
       "       [-0.88640526,  0.58489852,  2.26879087, -1.32769738],\n",
       "       [-0.88640526, -0.27630176,  2.26879087,  1.11806095],\n",
       "       [-0.88640526,  0.44136514,  2.49780745, -0.86183865],\n",
       "       [ 1.12815215, -0.49160182,  2.49780745,  0.92395314],\n",
       "       [ 1.12815215, -0.49160182,  2.91767117, -1.25005425],\n",
       "       [ 1.12815215, -0.6351352 ,  2.91767117,  1.27334719]])"
      ]
     },
     "execution_count": 174,
     "metadata": {},
     "output_type": "execute_result"
    }
   ],
   "source": [
    "df2_esc"
   ]
  },
  {
   "cell_type": "code",
   "execution_count": 175,
   "metadata": {
    "id": "FAaXKGcwx3nK"
   },
   "outputs": [
    {
     "data": {
      "text/plain": [
       "(200, 4)"
      ]
     },
     "execution_count": 175,
     "metadata": {},
     "output_type": "execute_result"
    }
   ],
   "source": [
    "df2_esc.shape"
   ]
  },
  {
   "cell_type": "markdown",
   "metadata": {
    "id": "PKmrtqR78Uzw"
   },
   "source": [
    "**Componentes Principais**"
   ]
  },
  {
   "cell_type": "code",
   "execution_count": 176,
   "metadata": {
    "id": "VFEUeVNhzsEC"
   },
   "outputs": [],
   "source": [
    "from sklearn.decomposition import PCA"
   ]
  },
  {
   "cell_type": "code",
   "execution_count": 177,
   "metadata": {
    "id": "aoRBLYECztsx"
   },
   "outputs": [],
   "source": [
    "pca = PCA(n_components = 2)"
   ]
  },
  {
   "cell_type": "code",
   "execution_count": 178,
   "metadata": {
    "id": "IMrlaf4szS8e"
   },
   "outputs": [],
   "source": [
    "df2_pca = pca.fit_transform(df2_esc)"
   ]
  },
  {
   "cell_type": "code",
   "execution_count": 179,
   "metadata": {
    "id": "3oa-hENk0H1i"
   },
   "outputs": [
    {
     "data": {
      "text/plain": [
       "array([[-4.06382715e-01, -5.20713635e-01],\n",
       "       [-1.42767287e+00, -3.67310199e-01],\n",
       "       [ 5.07605706e-02, -1.89406774e+00],\n",
       "       [-1.69451310e+00, -1.63190805e+00],\n",
       "       [-3.13108383e-01, -1.81048272e+00],\n",
       "       [-1.71744627e+00, -1.59926418e+00],\n",
       "       [ 7.90821124e-01, -1.94727112e+00],\n",
       "       [-2.14832159e+00, -1.50537369e+00],\n",
       "       [ 2.77428623e+00, -8.82987672e-01],\n",
       "       [-1.21629477e+00, -1.61640464e+00],\n",
       "       [ 2.62905084e+00, -8.61237043e-01],\n",
       "       [-1.68947038e+00, -1.54542784e+00],\n",
       "       [ 1.68582253e+00, -2.02394479e+00],\n",
       "       [-1.64607339e+00, -1.52251259e+00],\n",
       "       [ 1.17443628e+00, -6.12790961e-01],\n",
       "       [-1.32613070e+00, -2.36719149e-01],\n",
       "       [ 1.67728253e-02, -1.74344572e+00],\n",
       "       [-1.07842454e+00, -2.44715641e-01],\n",
       "       [ 1.48758780e+00, -5.72676028e-01],\n",
       "       [-1.66373169e+00, -1.43259774e+00],\n",
       "       [ 4.88090311e-01, -3.92921145e-01],\n",
       "       [-1.01895051e+00, -1.66247511e-01],\n",
       "       [ 1.35891492e+00, -1.82866936e+00],\n",
       "       [-7.22972722e-01, -1.81687017e-01],\n",
       "       [ 1.51315931e+00, -1.76451196e+00],\n",
       "       [-1.06241157e+00, -4.31150614e-02],\n",
       "       [ 5.88832908e-01, -1.62541614e+00],\n",
       "       [-2.06188227e-01, -1.71906970e-01],\n",
       "       [ 3.68426440e-01, -1.56300645e+00],\n",
       "       [-1.96420414e+00, -1.21211990e+00],\n",
       "       [ 2.54759194e+00, -5.27913522e-01],\n",
       "       [-1.68983067e+00, -1.22412321e+00],\n",
       "       [ 2.20131721e+00, -3.88195647e-01],\n",
       "       [-1.87329695e+00,  2.24855270e-01],\n",
       "       [ 1.26515693e+00, -1.58125854e+00],\n",
       "       [-1.90386557e+00, -1.10444099e+00],\n",
       "       [ 8.39344590e-01, -1.48793867e+00],\n",
       "       [-1.24644437e+00, -1.17425940e+00],\n",
       "       [ 3.02432444e-01, -1.31960089e+00],\n",
       "       [-1.79415868e+00, -1.00420352e+00],\n",
       "       [ 1.49387594e+00, -1.47013252e+00],\n",
       "       [-1.57824777e+00,  3.26252676e-01],\n",
       "       [ 1.09972892e+00, -4.75148304e-02],\n",
       "       [-8.78229151e-01, -1.08373653e+00],\n",
       "       [ 8.90421740e-01, -1.34990772e+00],\n",
       "       [-1.33047664e+00, -1.01561907e+00],\n",
       "       [ 2.19540681e-01, -1.21995587e+00],\n",
       "       [-7.02592333e-01, -1.08085693e+00],\n",
       "       [-4.70519161e-01, -1.11577393e+00],\n",
       "       [-3.71782513e-01, -1.13065684e+00],\n",
       "       [ 2.49709965e-01, -1.16611641e+00],\n",
       "       [-2.81507713e-01,  2.47898317e-01],\n",
       "       [-6.92486630e-01, -9.94947343e-01],\n",
       "       [ 1.00183656e+00,  8.36296961e-02],\n",
       "       [ 4.85517270e-01, -1.17239636e+00],\n",
       "       [ 9.16095461e-01,  9.67976267e-02],\n",
       "       [ 4.01316916e-01, -1.13059450e+00],\n",
       "       [ 1.86862991e+00, -1.76710825e-02],\n",
       "       [-8.10654470e-01, -8.89574289e-01],\n",
       "       [ 1.07827242e+00,  1.59810666e-01],\n",
       "       [ 1.65086088e+00,  7.33740960e-02],\n",
       "       [-8.40256337e-01,  4.48881521e-01],\n",
       "       [ 1.13717903e+00, -1.15401647e+00],\n",
       "       [ 3.08719686e-01, -1.02922982e+00],\n",
       "       [ 1.43815483e+00,  1.63848653e-01],\n",
       "       [-9.96758186e-01,  5.30768704e-01],\n",
       "       [ 5.44171232e-03, -9.54225943e-01],\n",
       "       [ 1.29298442e+00, -1.14827597e+00],\n",
       "       [-9.47389862e-01,  5.23327249e-01],\n",
       "       [-4.57607937e-01, -8.84390383e-01],\n",
       "       [ 1.67683173e+00,  1.56994962e-01],\n",
       "       [ 4.16021294e-01, -9.86837080e-01],\n",
       "       [ 8.70906219e-01, -1.02631905e+00],\n",
       "       [ 6.84235085e-01, -9.98271327e-01],\n",
       "       [ 1.34595784e+00,  3.52842574e-01],\n",
       "       [-4.69867989e-01,  6.26458338e-01],\n",
       "       [ 2.27835275e-02, -7.81833032e-01],\n",
       "       [ 3.81292376e-01,  4.98237051e-01],\n",
       "       [-1.03665230e+00, -6.22127824e-01],\n",
       "       [ 5.13597177e-01, -8.55673851e-01],\n",
       "       [ 1.14055197e+00,  3.83752756e-01],\n",
       "       [ 9.58845944e-02,  5.41167687e-01],\n",
       "       [ 1.90090826e+00,  2.69270021e-01],\n",
       "       [ 3.12157595e-01, -8.25335848e-01],\n",
       "       [-1.26872547e+00, -5.87210823e-01],\n",
       "       [ 8.29573578e-01,  4.30691769e-01],\n",
       "       [ 3.82433784e-01, -7.48585816e-01],\n",
       "       [-1.16671899e+00, -5.15038230e-01],\n",
       "       [-7.07867782e-01, -5.55092382e-01],\n",
       "       [ 4.55367669e-01, -7.30251123e-01],\n",
       "       [ 1.10375960e+00, -7.98926738e-01],\n",
       "       [-5.19300383e-01,  7.79947493e-01],\n",
       "       [ 7.48178745e-01,  6.17967591e-01],\n",
       "       [ 1.21223952e-01, -6.21459016e-01],\n",
       "       [-3.27057250e-01, -5.53913735e-01],\n",
       "       [-5.16662945e-01,  8.08582982e-01],\n",
       "       [ 2.80131086e-01, -6.45501482e-01],\n",
       "       [-7.87237308e-01, -4.84651914e-01],\n",
       "       [ 9.34617726e-01,  6.19129095e-01],\n",
       "       [-6.34366480e-01,  8.55537580e-01],\n",
       "       [-7.45169167e-01, -4.32528995e-01],\n",
       "       [ 3.51736123e-01, -5.97959120e-01],\n",
       "       [ 1.41903955e+00,  5.75066566e-01],\n",
       "       [-4.98392518e-01,  8.64138980e-01],\n",
       "       [ 6.10411629e-01,  6.96992316e-01],\n",
       "       [-8.70573120e-01, -4.13639266e-01],\n",
       "       [ 1.13743087e+00, -6.87241003e-01],\n",
       "       [ 1.12369414e+00,  6.48926087e-01],\n",
       "       [ 1.89485259e+00,  5.32725254e-01],\n",
       "       [ 1.66277942e+00,  5.67642254e-01],\n",
       "       [ 1.50674188e+00,  5.91110981e-01],\n",
       "       [-1.28954958e+00, -3.21465312e-01],\n",
       "       [-3.17759179e-02, -4.81725557e-01],\n",
       "       [-6.04429349e-01,  9.38586267e-01],\n",
       "       [-1.17937838e+00, -2.79646307e-01],\n",
       "       [-1.18334467e+00, -2.79074127e-01],\n",
       "       [ 1.17553272e+00, -6.34545905e-01],\n",
       "       [ 5.76993109e-02, -4.66256439e-01],\n",
       "       [ 5.82648530e-01, -4.86829980e-01],\n",
       "       [ 1.59937938e-01, -4.23293075e-01],\n",
       "       [-4.76852264e-01,  1.00675048e+00],\n",
       "       [ 2.08622326e-02, -4.02111508e-01],\n",
       "       [-3.60876912e-01, -2.86453243e-01],\n",
       "       [-8.18252351e-01,  1.11611009e+00],\n",
       "       [-4.27018733e-01, -2.46936984e-01],\n",
       "       [-1.31210277e+00, -1.14141375e-01],\n",
       "       [ 8.72125709e-01,  9.20380930e-01],\n",
       "       [-8.76017553e-01,  1.18311437e+00],\n",
       "       [ 2.30203421e+00,  7.05154010e-01],\n",
       "       [-4.41408104e-01,  1.11786092e+00],\n",
       "       [ 1.76294893e+00,  7.86437844e-01],\n",
       "       [-3.92039780e-01,  1.11041946e+00],\n",
       "       [-4.62082916e-01, -1.83367350e-01],\n",
       "       [-1.15256325e+00, -7.97638257e-02],\n",
       "       [ 5.36209096e-01,  1.02974833e+00],\n",
       "       [-1.70487623e+00,  3.24442165e-02],\n",
       "       [ 1.19570032e+00, -4.03729862e-01],\n",
       "       [-6.84747745e-01,  1.21291448e+00],\n",
       "       [ 3.53272095e-01,  1.08643311e+00],\n",
       "       [-9.82221565e-01, -4.71043747e-02],\n",
       "       [ 1.89035883e+00, -4.50063966e-01],\n",
       "       [-1.21855815e+00,  1.35146929e+00],\n",
       "       [-4.74910385e-01, -6.48138980e-02],\n",
       "       [-1.53080042e+00,  9.37407158e-02],\n",
       "       [ 5.95450970e-01,  1.13742569e+00],\n",
       "       [-1.52316497e+00,  1.45568084e+00],\n",
       "       [ 1.09090711e+00,  1.06243584e+00],\n",
       "       [-1.18435761e+00,  7.08613124e-02],\n",
       "       [ 3.00846740e-01, -1.23166897e-01],\n",
       "       [-1.04051604e+00,  1.41219361e+00],\n",
       "       [ 1.35051212e+00,  1.05272281e+00],\n",
       "       [-7.40339814e-01,  1.36697269e+00],\n",
       "       [ 8.47864590e-01, -2.05595090e-01],\n",
       "       [-9.41714425e-01,  6.34354417e-02],\n",
       "       [ 1.10263878e+00, -2.43946728e-01],\n",
       "       [-1.83144095e+00,  1.97380086e-01],\n",
       "       [ 1.48097906e+00,  1.03326246e+00],\n",
       "       [-1.38999563e+00,  1.30980723e-01],\n",
       "       [ 1.33287409e+00,  1.05558682e+00],\n",
       "       [-1.25665910e+00,  1.10946634e-01],\n",
       "       [ 1.04004275e+00, -2.05581064e-01],\n",
       "       [-1.57293263e+00,  1.87665496e-01],\n",
       "       [ 4.84983547e-01,  1.27086361e+00],\n",
       "       [-1.74133333e+00,  2.71269219e-01],\n",
       "       [ 1.45445958e+00,  1.24115857e+00],\n",
       "       [-1.01540884e+00,  2.78776132e-01],\n",
       "       [ 1.21928466e+00,  1.30585854e+00],\n",
       "       [-1.69709206e+00,  4.10446083e-01],\n",
       "       [ 2.64157486e-01,  1.44867334e-01],\n",
       "       [-4.21324839e-01,  1.58177549e+00],\n",
       "       [ 1.30698699e+00,  1.32190295e+00],\n",
       "       [-9.38805793e-01,  1.65962313e+00],\n",
       "       [ 1.18951561e+00,  1.33964832e+00],\n",
       "       [-9.97203383e-01,  1.66820738e+00],\n",
       "       [ 1.42716078e+00, -1.08217936e-03],\n",
       "       [-1.60565560e+00,  4.55127547e-01],\n",
       "       [ 2.14205006e+00,  1.22517962e+00],\n",
       "       [-8.28402441e-01,  1.67223290e+00],\n",
       "       [ 2.21692493e+00,  1.35977748e+00],\n",
       "       [-9.94630016e-01,  1.84289057e+00],\n",
       "       [ 1.77867756e-01,  4.49552248e-01],\n",
       "       [-1.50900833e+00,  7.03127688e-01],\n",
       "       [ 1.54730865e+00,  1.60656936e+00],\n",
       "       [-1.71068006e+00,  7.62674919e-01],\n",
       "       [ 1.88205612e-01,  5.06252606e-01],\n",
       "       [-1.42953569e+00,  2.08340094e+00],\n",
       "       [ 1.22953909e+00,  4.07829870e-01],\n",
       "       [-7.55384802e-01,  2.04050460e+00],\n",
       "       [ 7.73957706e-01,  5.34939526e-01],\n",
       "       [-1.28626064e+00,  8.44610416e-01],\n",
       "       [ 2.68375609e-01,  6.11070624e-01],\n",
       "       [-1.05705706e+00,  8.10267154e-01],\n",
       "       [ 1.08870927e+00,  2.11339899e+00],\n",
       "       [-1.34984935e+00,  1.14586069e+00],\n",
       "       [ 1.09288835e+00,  9.82840852e-01],\n",
       "       [-1.17957174e+00,  1.32456784e+00],\n",
       "       [ 6.72751128e-01,  1.22106095e+00],\n",
       "       [-7.23719161e-01,  2.76501038e+00],\n",
       "       [ 7.67096226e-01,  2.86193009e+00],\n",
       "       [-1.06501524e+00,  3.13725616e+00]])"
      ]
     },
     "execution_count": 179,
     "metadata": {},
     "output_type": "execute_result"
    }
   ],
   "source": [
    "df2_pca"
   ]
  },
  {
   "cell_type": "code",
   "execution_count": 180,
   "metadata": {
    "id": "hdBAi-piY28x"
   },
   "outputs": [
    {
     "data": {
      "text/plain": [
       "array([0.33690046, 0.26230645])"
      ]
     },
     "execution_count": 180,
     "metadata": {},
     "output_type": "execute_result"
    }
   ],
   "source": [
    "# razão das variáveis explicativas\n",
    "pca.explained_variance_ratio_"
   ]
  },
  {
   "cell_type": "code",
   "execution_count": 181,
   "metadata": {
    "id": "lBxPFP0VZR1I"
   },
   "outputs": [
    {
     "data": {
      "text/plain": [
       "0.5992069019819846"
      ]
     },
     "execution_count": 181,
     "metadata": {},
     "output_type": "execute_result"
    }
   ],
   "source": [
    "# Soma das variáveis explicativas\n",
    "pca.explained_variance_ratio_.sum()"
   ]
  },
  {
   "cell_type": "markdown",
   "metadata": {
    "id": "12uyBf4xx3nL"
   },
   "source": [
    "**Elbow Method**"
   ]
  },
  {
   "cell_type": "code",
   "execution_count": 182,
   "metadata": {
    "id": "QN5UGOJhx3nM"
   },
   "outputs": [],
   "source": [
    "from sklearn.cluster import KMeans\n",
    "wcss = []\n",
    "for i in range(1, 11):\n",
    "    kmeans = KMeans(n_clusters = i, init = 'k-means++', random_state = 5, max_iter = 300)\n",
    "    kmeans.fit(df2_pca)\n",
    "# Método inertia para gerar o wcss\n",
    "    wcss.append(kmeans.inertia_)"
   ]
  },
  {
   "cell_type": "code",
   "execution_count": 183,
   "metadata": {
    "id": "rHqAl1kd0ez6"
   },
   "outputs": [],
   "source": [
    "import matplotlib.pyplot as plt\n",
    "import seaborn as sns"
   ]
  },
  {
   "cell_type": "code",
   "execution_count": 185,
   "metadata": {
    "id": "CZZYfVtq0ez8"
   },
   "outputs": [
    {
     "data": {
      "image/png": "[encoded data removed]",
      "text/plain": [
       "<Figure size 1000x500 with 1 Axes>"
      ]
     },
     "metadata": {},
     "output_type": "display_data"
    }
   ],
   "source": [
    "plt.figure(figsize=(10,5))\n",
    "sns.lineplot(x=range(1, 11), y=wcss,marker='o',color='red')\n",
    "plt.title('The Elbow Method')\n",
    "plt.xlabel('Número de clusters')\n",
    "plt.ylabel('WCSS');"
   ]
  },
  {
   "cell_type": "markdown",
   "metadata": {
    "id": "rqLD4sxt0ez9"
   },
   "source": [
    "**Agrupamento**"
   ]
  },
  {
   "cell_type": "code",
   "execution_count": 186,
   "metadata": {
    "id": "hP0-r52I0ez-"
   },
   "outputs": [],
   "source": [
    "kmeans = KMeans(n_clusters = 4, init = 'k-means++', random_state = 5, max_iter = 300)\n"
   ]
  },
  {
   "cell_type": "code",
   "execution_count": 187,
   "metadata": {
    "id": "fgI4lnLv0ez-"
   },
   "outputs": [],
   "source": [
    "kmeans3 = kmeans.fit(df2_pca)"
   ]
  },
  {
   "cell_type": "code",
   "execution_count": 188,
   "metadata": {
    "id": "3TChV4bc0ez_"
   },
   "outputs": [
    {
     "data": {
      "text/plain": [
       "array([[ 0.59773908, -1.02135332],\n",
       "       [-0.89924813,  1.20707643],\n",
       "       [ 1.23620204,  0.6001392 ],\n",
       "       [-1.17272864, -0.50410113]])"
      ]
     },
     "execution_count": 188,
     "metadata": {},
     "output_type": "execute_result"
    }
   ],
   "source": [
    "# Coordenadas dos Centróides\n",
    "centroides = kmeans3.cluster_centers_\n",
    "centroides"
   ]
  },
  {
   "cell_type": "code",
   "execution_count": 190,
   "metadata": {
    "id": "BGGT0wk00e0A",
    "scrolled": true
   },
   "outputs": [
    {
     "data": {
      "text/plain": [
       "array([3, 3, 0, 3, 0, 3, 0, 3, 2, 3, 2, 3, 0, 3, 0, 3, 0, 3, 0, 3, 0, 3,\n",
       "       0, 3, 0, 3, 0, 3, 0, 3, 2, 3, 2, 3, 0, 3, 0, 3, 0, 3, 0, 3, 2, 3,\n",
       "       0, 3, 0, 3, 3, 0, 0, 1, 3, 2, 0, 2, 0, 2, 3, 2, 2, 1, 0, 0, 2, 1,\n",
       "       0, 0, 1, 3, 2, 0, 0, 0, 2, 1, 0, 2, 3, 0, 2, 2, 2, 0, 3, 2, 0, 3,\n",
       "       3, 0, 0, 1, 2, 0, 3, 1, 0, 3, 2, 1, 3, 0, 2, 1, 2, 3, 0, 2, 2, 2,\n",
       "       2, 3, 0, 1, 3, 3, 0, 0, 0, 0, 1, 0, 3, 1, 3, 3, 2, 1, 2, 1, 2, 1,\n",
       "       3, 3, 2, 3, 0, 1, 2, 3, 2, 1, 3, 3, 2, 1, 2, 3, 0, 1, 2, 1, 0, 3,\n",
       "       2, 3, 2, 3, 2, 3, 2, 3, 2, 3, 2, 3, 2, 3, 2, 1, 2, 1, 2, 1, 2, 1,\n",
       "       2, 1, 2, 1, 2, 1, 2, 1, 2, 1, 2, 1, 2, 1, 2, 1, 2, 1, 2, 1, 2, 1,\n",
       "       2, 1], dtype=int32)"
      ]
     },
     "execution_count": 190,
     "metadata": {},
     "output_type": "execute_result"
    }
   ],
   "source": [
    "# Classificação dos dados\n",
    "classificacao3 = kmeans3.labels_\n",
    "classificacao3"
   ]
  },
  {
   "cell_type": "code",
   "execution_count": 191,
   "metadata": {
    "id": "KphGAItZ0e0B"
   },
   "outputs": [
    {
     "data": {
      "text/plain": [
       "0"
      ]
     },
     "execution_count": 191,
     "metadata": {},
     "output_type": "execute_result"
    }
   ],
   "source": [
    "classificacao3[2]"
   ]
  },
  {
   "cell_type": "code",
   "execution_count": 192,
   "metadata": {
    "id": "tbxP76X-2ac_"
   },
   "outputs": [],
   "source": [
    "import plotly.express as px\n",
    "import plotly.graph_objects as go"
   ]
  },
  {
   "cell_type": "code",
   "execution_count": 193,
   "metadata": {
    "id": "hIOLtLeq2adA"
   },
   "outputs": [
    {
     "data": {
      "application/vnd.plotly.v1+json": {
       "config": {
        "plotlyServerURL": "https://plot.ly"
       },
       "data": [
        {
         "hovertemplate": "x=%{x}<br>y=%{y}<br>color=%{marker.color}<extra></extra>",
         "legendgroup": "",
         "marker": {
          "color": [
           3,
           3,
           0,
           3,
           0,
           3,
           0,
           3,
           2,
           3,
           2,
           3,
           0,
           3,
           0,
           3,
           0,
           3,
           0,
           3,
           0,
           3,
           0,
           3,
           0,
           3,
           0,
           3,
           0,
           3,
           2,
           3,
           2,
           3,
           0,
           3,
           0,
           3,
           0,
           3,
           0,
           3,
           2,
           3,
           0,
           3,
           0,
           3,
           3,
           0,
           0,
           1,
           3,
           2,
           0,
           2,
           0,
           2,
           3,
           2,
           2,
           1,
           0,
           0,
           2,
           1,
           0,
           0,
           1,
           3,
           2,
           0,
           0,
           0,
           2,
           1,
           0,
           2,
           3,
           0,
           2,
           2,
           2,
           0,
           3,
           2,
           0,
           3,
           3,
           0,
           0,
           1,
           2,
           0,
           3,
           1,
           0,
           3,
           2,
           1,
           3,
           0,
           2,
           1,
           2,
           3,
           0,
           2,
           2,
           2,
           2,
           3,
           0,
           1,
           3,
           3,
           0,
           0,
           0,
           0,
           1,
           0,
           3,
           1,
           3,
           3,
           2,
           1,
           2,
           1,
           2,
           1,
           3,
           3,
           2,
           3,
           0,
           1,
           2,
           3,
           2,
           1,
           3,
           3,
           2,
           1,
           2,
           3,
           0,
           1,
           2,
           1,
           0,
           3,
           2,
           3,
           2,
           3,
           2,
           3,
           2,
           3,
           2,
           3,
           2,
           3,
           2,
           3,
           2,
           1,
           2,
           1,
           2,
           1,
           2,
           1,
           2,
           1,
           2,
           1,
           2,
           1,
           2,
           1,
           2,
           1,
           2,
           1,
           2,
           1,
           2,
           1,
           2,
           1,
           2,
           1,
           2,
           1,
           2,
           1
          ],
          "coloraxis": "coloraxis",
          "symbol": "circle"
         },
         "mode": "markers",
         "name": "",
         "orientation": "v",
         "showlegend": false,
         "type": "scatter",
         "x": [
          -0.40638271515795615,
          -1.4276728699542167,
          0.050760570649846515,
          -1.6945131001694214,
          -0.31310838264528756,
          -1.7174462723869521,
          0.7908211244257622,
          -2.1483215883542037,
          2.774286226088667,
          -1.2162947672439128,
          2.629050844956019,
          -1.6894703776419508,
          1.6858225266861893,
          -1.6460733883910472,
          1.1744362769650303,
          -1.3261307015730726,
          0.01677282525020262,
          -1.0784245398454684,
          1.4875878004377272,
          -1.6637316850276547,
          0.4880903105484131,
          -1.0189505128416603,
          1.3589149217937675,
          -0.7229727219419849,
          1.5131593111179191,
          -1.062411572539715,
          0.5888329082822403,
          -0.20618822719626922,
          0.36842644009595643,
          -1.96420413814542,
          2.5475919417038155,
          -1.6898306715897056,
          2.201317214598138,
          -1.8732969500021552,
          1.2651569258897108,
          -1.9038655693749484,
          0.8393445904066096,
          -1.2464443678738257,
          0.30243244384012713,
          -1.7941586766122888,
          1.4938759431071367,
          -1.5782477713162941,
          1.099728921816946,
          -0.8782291512115817,
          0.8904217399754455,
          -1.3304766384693403,
          0.21954068055520146,
          -0.7025923326402432,
          -0.47051916051531545,
          -0.37178251253093914,
          0.24970996494043726,
          -0.2815077131008845,
          -0.6924866296286236,
          1.0018365576425534,
          0.48551726967594405,
          0.916095461470392,
          0.401316916474127,
          1.8686299121045262,
          -0.8106544702734058,
          1.078272422122609,
          1.650860881708704,
          -0.840256337064781,
          1.1371790315325558,
          0.3087196858373379,
          1.4381548317970319,
          -0.9967581864763174,
          0.005441712322807765,
          1.2929844217837312,
          -0.9473898624841293,
          -0.4576079371069308,
          1.6768317273764535,
          0.4160212938629894,
          0.8709062189112092,
          0.684235085114437,
          1.3459578368199991,
          -0.4698679887189818,
          0.022783527502131966,
          0.381292376140314,
          -1.036652295497897,
          0.5135971765800981,
          1.1405519695231816,
          0.0958845943591655,
          1.9009082577261665,
          0.31215759494731304,
          -1.2687254676228248,
          0.8295735777340397,
          0.38243378412310114,
          -1.1667189931347768,
          -0.7078677824225239,
          0.4553676690460309,
          1.1037596043989706,
          -0.5193003831583205,
          0.7481787449289877,
          0.12122395198590415,
          -0.32705724960782157,
          -0.5166629453678586,
          0.28013108613444904,
          -0.7872373081936447,
          0.9346177256723064,
          -0.6343664799057337,
          -0.7451691668163114,
          0.35173612318380804,
          1.4190395463925523,
          -0.49839251797472034,
          0.6104116290174968,
          -0.8705731196287985,
          1.1374308683413317,
          1.1236941442060868,
          1.8948525945810513,
          1.6627794224561239,
          1.5067418791514946,
          -1.289549578603952,
          -0.03177591786850684,
          -0.6044293485739516,
          -1.1793783797343855,
          -1.1833446653984179,
          1.1755327240546327,
          0.05769931091423401,
          0.582648530041468,
          0.15993793845573573,
          -0.47685226407791026,
          0.020862232627353317,
          -0.36087691240116326,
          -0.8182523512624207,
          -0.42701873330661605,
          -1.3121027731184058,
          0.8721257089736029,
          -0.8760175526895807,
          2.3020342087232604,
          -0.4414081041117506,
          1.7629489304732235,
          -0.39203978011956236,
          -0.4620829155696982,
          -1.1525632502566512,
          0.5362090958896777,
          -1.7048762333723566,
          1.1957003175874015,
          -0.6847477445155659,
          0.35327209470348453,
          -0.9822215652229159,
          1.8903588330351606,
          -1.2185581471846794,
          -0.4749103847756099,
          -1.5308004157280424,
          0.5954509698400322,
          -1.5231649685727804,
          1.0909071057857118,
          -1.1843576060160617,
          0.30084673997659755,
          -1.040516043876333,
          1.3505121245054137,
          -0.7403398142591715,
          0.8478645895546996,
          -0.9417144247726071,
          1.1026387808437053,
          -1.8314409514521108,
          1.48097905780205,
          -1.3899956263663324,
          1.3328740858254853,
          -1.256659102225781,
          1.0400427519858488,
          -1.5729326275525262,
          0.4849835474698612,
          -1.7413333339561599,
          1.4544595776235634,
          -1.0154088393030478,
          1.2192846616012663,
          -1.697092060895272,
          0.2641574863393405,
          -0.4213248389828122,
          1.3069869943602088,
          -0.9388057928888883,
          1.1895156128757869,
          -0.9972033830292591,
          1.4271607847544416,
          -1.6056555955257505,
          2.142050063509921,
          -0.8284024409658685,
          2.2169249270629523,
          -0.9946300156859477,
          0.1778677556564419,
          -1.509008325022456,
          1.5473086450691282,
          -1.710680059708695,
          0.18820561172151518,
          -1.4295356877643817,
          1.2295390899347085,
          -0.7553848018404656,
          0.7739577057261282,
          -1.2862606425463141,
          0.2683756088121493,
          -1.0570570612653016,
          1.0887092711656519,
          -1.349849354065135,
          1.0928883525986575,
          -1.1795717394785505,
          0.6727511283562362,
          -0.7237191611767131,
          0.7670962256094757,
          -1.065015236202071
         ],
         "xaxis": "x",
         "y": [
          -0.5207136347541803,
          -0.36731019850646174,
          -1.8940677431734174,
          -1.6319080463761104,
          -1.8104827229475513,
          -1.5992641803386438,
          -1.9472711231346216,
          -1.5053736875274308,
          -0.8829876717475786,
          -1.6164046413069488,
          -0.8612370431432423,
          -1.5454278393385146,
          -2.023944788816324,
          -1.5225125897317824,
          -0.6127909605390405,
          -0.23671914937156435,
          -1.7434457225503461,
          -0.2447156412290113,
          -0.572676027551783,
          -1.4325977447537221,
          -0.39292114499291475,
          -0.16624751103389468,
          -1.8286693574393091,
          -0.18168701739897558,
          -1.7645119588688012,
          -0.04311506139166234,
          -1.6254161367177853,
          -0.1719069697212854,
          -1.5630064477055965,
          -1.2121199030829215,
          -0.5279135219026172,
          -1.2241232127435846,
          -0.3881956474058473,
          0.22485527030599564,
          -1.581258539665388,
          -1.104440986026849,
          -1.4879386679529738,
          -1.174259402048701,
          -1.3196008889709383,
          -1.004203524714457,
          -1.4701325172117263,
          0.32625267632892296,
          -0.047514830402514044,
          -1.0837365309459652,
          -1.3499077218383488,
          -1.0156190695273366,
          -1.2199558687981904,
          -1.0808569291192678,
          -1.1157739296227096,
          -1.1306568411100706,
          -1.166116410270154,
          0.24789831732088882,
          -0.9949473431804701,
          0.08362969608219709,
          -1.1723963625393459,
          0.09679762674525594,
          -1.1305945011699432,
          -0.0176710825026329,
          -0.8895742893243901,
          0.15981066559025983,
          0.07337409597985271,
          0.44888152110434376,
          -1.1540164731713933,
          -1.0292298238810331,
          0.16384865336353965,
          0.5307687042548931,
          -0.9542259428324907,
          -1.1482759720309363,
          0.5233272485112127,
          -0.8843903830616534,
          0.1569949624676428,
          -0.9868370801359402,
          -1.0263190520842718,
          -0.9982713274617584,
          0.35284257370740973,
          0.6264583378713806,
          -0.7818330323281906,
          0.498237050640556,
          -0.622127823770435,
          -0.8556738511382906,
          0.38375275640763545,
          0.5411676867504304,
          0.2692700209386683,
          -0.8253358483008167,
          -0.587210823266993,
          0.43069176908467943,
          -0.7485858164579086,
          -0.5150382303260995,
          -0.5550923821371829,
          -0.7302511232810982,
          -0.7989267383414,
          0.779947492864025,
          0.6179675910763406,
          -0.6214590164695857,
          -0.553913734913709,
          0.8085829823343219,
          -0.6455014820528362,
          -0.4846519137695769,
          0.6191290945508293,
          0.8555375799963977,
          -0.43252899482979623,
          -0.5979591195429768,
          0.5750665661725765,
          0.8641389804506137,
          0.6969923161491774,
          -0.4136392655392189,
          -0.6872410034821114,
          0.6489260874956151,
          0.5327252536744391,
          0.5676422541778812,
          0.5911109811344264,
          -0.3214653123162615,
          -0.48172555698778385,
          0.9385862666214361,
          -0.2796463071978739,
          -0.27907412733512205,
          -0.6345459046795788,
          -0.4662564394165924,
          -0.4868299795614083,
          -0.42329307457270116,
          1.0067504829951597,
          -0.40211150830320985,
          -0.2864532431386754,
          1.1161100933775643,
          -0.24693698369237357,
          -0.114141375087441,
          0.9203809296167398,
          1.1831143650407525,
          0.705154010440663,
          1.11786092046379,
          0.786437843758397,
          1.1104194647201093,
          -0.18336734996964946,
          -0.07976382571273388,
          1.0297483338189108,
          0.03244421652630447,
          -0.4037298616894145,
          1.212914475513445,
          1.0864331066756745,
          -0.047104374690235526,
          -0.45006396576968954,
          1.3514692877717729,
          -0.06481389799338555,
          0.09374071578305297,
          1.1374256921110297,
          1.455680838153364,
          1.062435837283566,
          0.0708613124382447,
          -0.12316689671935598,
          1.4121936071657695,
          1.0527228058378633,
          1.3669726928409345,
          -0.20559508976259352,
          0.06343544167959594,
          -0.24394672820649996,
          0.19738008630189227,
          1.0332624554484877,
          0.13098072323547255,
          1.055586822679529,
          0.11094663421939163,
          -0.2055810635415151,
          0.18766549609223607,
          1.270863614338608,
          0.27126921883104105,
          1.2411585725400598,
          0.2787761320427556,
          1.3058585397672093,
          0.41044608343512295,
          0.14486733368238305,
          1.5817754908393125,
          1.3219029547290593,
          1.6596231274526287,
          1.3396483242941328,
          1.66820738415786,
          -0.0010821793645301554,
          0.45512754663122307,
          1.225179615046244,
          1.6722329044740145,
          1.3597774819843578,
          1.842890572877121,
          0.44955224792480436,
          0.703127688016881,
          1.6065693649404313,
          0.762674918951357,
          0.5062526057665999,
          2.083400944800049,
          0.4078298702445142,
          2.040504596188145,
          0.5349395264838522,
          0.8446104158209552,
          0.6110706235089131,
          0.8102671539442186,
          2.113398986440796,
          1.1458606921229124,
          0.9828408518675884,
          1.3245678423943745,
          1.2210609455755566,
          2.765010382457772,
          2.861930094544689,
          3.1372561632411022
         ],
         "yaxis": "y"
        },
        {
         "hovertemplate": "x=%{x}<br>y=%{y}<br>size=%{marker.size}<extra></extra>",
         "legendgroup": "",
         "marker": {
          "color": "#636efa",
          "size": [
           15,
           15,
           15,
           15
          ],
          "sizemode": "area",
          "sizeref": 0.0375,
          "symbol": "circle"
         },
         "mode": "markers",
         "name": "",
         "orientation": "v",
         "showlegend": false,
         "type": "scatter",
         "x": [
          0.597739081185279,
          -0.8992481297123344,
          1.2362020351849814,
          -1.1727286425513495
         ],
         "xaxis": "x",
         "y": [
          -1.021353322263547,
          1.2070764301039472,
          0.6001391958543689,
          -0.5041011271490559
         ],
         "yaxis": "y"
        }
       ],
       "layout": {
        "height": 500,
        "template": {
         "data": {
          "bar": [
           {
            "error_x": {
             "color": "#2a3f5f"
            },
            "error_y": {
             "color": "#2a3f5f"
            },
            "marker": {
             "line": {
              "color": "#E5ECF6",
              "width": 0.5
             },
             "pattern": {
              "fillmode": "overlay",
              "size": 10,
              "solidity": 0.2
             }
            },
            "type": "bar"
           }
          ],
          "barpolar": [
           {
            "marker": {
             "line": {
              "color": "#E5ECF6",
              "width": 0.5
             },
             "pattern": {
              "fillmode": "overlay",
              "size": 10,
              "solidity": 0.2
             }
            },
            "type": "barpolar"
           }
          ],
          "carpet": [
           {
            "aaxis": {
             "endlinecolor": "#2a3f5f",
             "gridcolor": "white",
             "linecolor": "white",
             "minorgridcolor": "white",
             "startlinecolor": "#2a3f5f"
            },
            "baxis": {
             "endlinecolor": "#2a3f5f",
             "gridcolor": "white",
             "linecolor": "white",
             "minorgridcolor": "white",
             "startlinecolor": "#2a3f5f"
            },
            "type": "carpet"
           }
          ],
          "choropleth": [
           {
            "colorbar": {
             "outlinewidth": 0,
             "ticks": ""
            },
            "type": "choropleth"
           }
          ],
          "contour": [
           {
            "colorbar": {
             "outlinewidth": 0,
             "ticks": ""
            },
            "colorscale": [
             [
              0,
              "#0d0887"
             ],
             [
              0.1111111111111111,
              "#46039f"
             ],
             [
              0.2222222222222222,
              "#7201a8"
             ],
             [
              0.3333333333333333,
              "#9c179e"
             ],
             [
              0.4444444444444444,
              "#bd3786"
             ],
             [
              0.5555555555555556,
              "#d8576b"
             ],
             [
              0.6666666666666666,
              "#ed7953"
             ],
             [
              0.7777777777777778,
              "#fb9f3a"
             ],
             [
              0.8888888888888888,
              "#fdca26"
             ],
             [
              1,
              "#f0f921"
             ]
            ],
            "type": "contour"
           }
          ],
          "contourcarpet": [
           {
            "colorbar": {
             "outlinewidth": 0,
             "ticks": ""
            },
            "type": "contourcarpet"
           }
          ],
          "heatmap": [
           {
            "colorbar": {
             "outlinewidth": 0,
             "ticks": ""
            },
            "colorscale": [
             [
              0,
              "#0d0887"
             ],
             [
              0.1111111111111111,
              "#46039f"
             ],
             [
              0.2222222222222222,
              "#7201a8"
             ],
             [
              0.3333333333333333,
              "#9c179e"
             ],
             [
              0.4444444444444444,
              "#bd3786"
             ],
             [
              0.5555555555555556,
              "#d8576b"
             ],
             [
              0.6666666666666666,
              "#ed7953"
             ],
             [
              0.7777777777777778,
              "#fb9f3a"
             ],
             [
              0.8888888888888888,
              "#fdca26"
             ],
             [
              1,
              "#f0f921"
             ]
            ],
            "type": "heatmap"
           }
          ],
          "heatmapgl": [
           {
            "colorbar": {
             "outlinewidth": 0,
             "ticks": ""
            },
            "colorscale": [
             [
              0,
              "#0d0887"
             ],
             [
              0.1111111111111111,
              "#46039f"
             ],
             [
              0.2222222222222222,
              "#7201a8"
             ],
             [
              0.3333333333333333,
              "#9c179e"
             ],
             [
              0.4444444444444444,
              "#bd3786"
             ],
             [
              0.5555555555555556,
              "#d8576b"
             ],
             [
              0.6666666666666666,
              "#ed7953"
             ],
             [
              0.7777777777777778,
              "#fb9f3a"
             ],
             [
              0.8888888888888888,
              "#fdca26"
             ],
             [
              1,
              "#f0f921"
             ]
            ],
            "type": "heatmapgl"
           }
          ],
          "histogram": [
           {
            "marker": {
             "pattern": {
              "fillmode": "overlay",
              "size": 10,
              "solidity": 0.2
             }
            },
            "type": "histogram"
           }
          ],
          "histogram2d": [
           {
            "colorbar": {
             "outlinewidth": 0,
             "ticks": ""
            },
            "colorscale": [
             [
              0,
              "#0d0887"
             ],
             [
              0.1111111111111111,
              "#46039f"
             ],
             [
              0.2222222222222222,
              "#7201a8"
             ],
             [
              0.3333333333333333,
              "#9c179e"
             ],
             [
              0.4444444444444444,
              "#bd3786"
             ],
             [
              0.5555555555555556,
              "#d8576b"
             ],
             [
              0.6666666666666666,
              "#ed7953"
             ],
             [
              0.7777777777777778,
              "#fb9f3a"
             ],
             [
              0.8888888888888888,
              "#fdca26"
             ],
             [
              1,
              "#f0f921"
             ]
            ],
            "type": "histogram2d"
           }
          ],
          "histogram2dcontour": [
           {
            "colorbar": {
             "outlinewidth": 0,
             "ticks": ""
            },
            "colorscale": [
             [
              0,
              "#0d0887"
             ],
             [
              0.1111111111111111,
              "#46039f"
             ],
             [
              0.2222222222222222,
              "#7201a8"
             ],
             [
              0.3333333333333333,
              "#9c179e"
             ],
             [
              0.4444444444444444,
              "#bd3786"
             ],
             [
              0.5555555555555556,
              "#d8576b"
             ],
             [
              0.6666666666666666,
              "#ed7953"
             ],
             [
              0.7777777777777778,
              "#fb9f3a"
             ],
             [
              0.8888888888888888,
              "#fdca26"
             ],
             [
              1,
              "#f0f921"
             ]
            ],
            "type": "histogram2dcontour"
           }
          ],
          "mesh3d": [
           {
            "colorbar": {
             "outlinewidth": 0,
             "ticks": ""
            },
            "type": "mesh3d"
           }
          ],
          "parcoords": [
           {
            "line": {
             "colorbar": {
              "outlinewidth": 0,
              "ticks": ""
             }
            },
            "type": "parcoords"
           }
          ],
          "pie": [
           {
            "automargin": true,
            "type": "pie"
           }
          ],
          "scatter": [
           {
            "fillpattern": {
             "fillmode": "overlay",
             "size": 10,
             "solidity": 0.2
            },
            "type": "scatter"
           }
          ],
          "scatter3d": [
           {
            "line": {
             "colorbar": {
              "outlinewidth": 0,
              "ticks": ""
             }
            },
            "marker": {
             "colorbar": {
              "outlinewidth": 0,
              "ticks": ""
             }
            },
            "type": "scatter3d"
           }
          ],
          "scattercarpet": [
           {
            "marker": {
             "colorbar": {
              "outlinewidth": 0,
              "ticks": ""
             }
            },
            "type": "scattercarpet"
           }
          ],
          "scattergeo": [
           {
            "marker": {
             "colorbar": {
              "outlinewidth": 0,
              "ticks": ""
             }
            },
            "type": "scattergeo"
           }
          ],
          "scattergl": [
           {
            "marker": {
             "colorbar": {
              "outlinewidth": 0,
              "ticks": ""
             }
            },
            "type": "scattergl"
           }
          ],
          "scattermapbox": [
           {
            "marker": {
             "colorbar": {
              "outlinewidth": 0,
              "ticks": ""
             }
            },
            "type": "scattermapbox"
           }
          ],
          "scatterpolar": [
           {
            "marker": {
             "colorbar": {
              "outlinewidth": 0,
              "ticks": ""
             }
            },
            "type": "scatterpolar"
           }
          ],
          "scatterpolargl": [
           {
            "marker": {
             "colorbar": {
              "outlinewidth": 0,
              "ticks": ""
             }
            },
            "type": "scatterpolargl"
           }
          ],
          "scatterternary": [
           {
            "marker": {
             "colorbar": {
              "outlinewidth": 0,
              "ticks": ""
             }
            },
            "type": "scatterternary"
           }
          ],
          "surface": [
           {
            "colorbar": {
             "outlinewidth": 0,
             "ticks": ""
            },
            "colorscale": [
             [
              0,
              "#0d0887"
             ],
             [
              0.1111111111111111,
              "#46039f"
             ],
             [
              0.2222222222222222,
              "#7201a8"
             ],
             [
              0.3333333333333333,
              "#9c179e"
             ],
             [
              0.4444444444444444,
              "#bd3786"
             ],
             [
              0.5555555555555556,
              "#d8576b"
             ],
             [
              0.6666666666666666,
              "#ed7953"
             ],
             [
              0.7777777777777778,
              "#fb9f3a"
             ],
             [
              0.8888888888888888,
              "#fdca26"
             ],
             [
              1,
              "#f0f921"
             ]
            ],
            "type": "surface"
           }
          ],
          "table": [
           {
            "cells": {
             "fill": {
              "color": "#EBF0F8"
             },
             "line": {
              "color": "white"
             }
            },
            "header": {
             "fill": {
              "color": "#C8D4E3"
             },
             "line": {
              "color": "white"
             }
            },
            "type": "table"
           }
          ]
         },
         "layout": {
          "annotationdefaults": {
           "arrowcolor": "#2a3f5f",
           "arrowhead": 0,
           "arrowwidth": 1
          },
          "autotypenumbers": "strict",
          "coloraxis": {
           "colorbar": {
            "outlinewidth": 0,
            "ticks": ""
           }
          },
          "colorscale": {
           "diverging": [
            [
             0,
             "#8e0152"
            ],
            [
             0.1,
             "#c51b7d"
            ],
            [
             0.2,
             "#de77ae"
            ],
            [
             0.3,
             "#f1b6da"
            ],
            [
             0.4,
             "#fde0ef"
            ],
            [
             0.5,
             "#f7f7f7"
            ],
            [
             0.6,
             "#e6f5d0"
            ],
            [
             0.7,
             "#b8e186"
            ],
            [
             0.8,
             "#7fbc41"
            ],
            [
             0.9,
             "#4d9221"
            ],
            [
             1,
             "#276419"
            ]
           ],
           "sequential": [
            [
             0,
             "#0d0887"
            ],
            [
             0.1111111111111111,
             "#46039f"
            ],
            [
             0.2222222222222222,
             "#7201a8"
            ],
            [
             0.3333333333333333,
             "#9c179e"
            ],
            [
             0.4444444444444444,
             "#bd3786"
            ],
            [
             0.5555555555555556,
             "#d8576b"
            ],
            [
             0.6666666666666666,
             "#ed7953"
            ],
            [
             0.7777777777777778,
             "#fb9f3a"
            ],
            [
             0.8888888888888888,
             "#fdca26"
            ],
            [
             1,
             "#f0f921"
            ]
           ],
           "sequentialminus": [
            [
             0,
             "#0d0887"
            ],
            [
             0.1111111111111111,
             "#46039f"
            ],
            [
             0.2222222222222222,
             "#7201a8"
            ],
            [
             0.3333333333333333,
             "#9c179e"
            ],
            [
             0.4444444444444444,
             "#bd3786"
            ],
            [
             0.5555555555555556,
             "#d8576b"
            ],
            [
             0.6666666666666666,
             "#ed7953"
            ],
            [
             0.7777777777777778,
             "#fb9f3a"
            ],
            [
             0.8888888888888888,
             "#fdca26"
            ],
            [
             1,
             "#f0f921"
            ]
           ]
          },
          "colorway": [
           "#636efa",
           "#EF553B",
           "#00cc96",
           "#ab63fa",
           "#FFA15A",
           "#19d3f3",
           "#FF6692",
           "#B6E880",
           "#FF97FF",
           "#FECB52"
          ],
          "font": {
           "color": "#2a3f5f"
          },
          "geo": {
           "bgcolor": "white",
           "lakecolor": "white",
           "landcolor": "#E5ECF6",
           "showlakes": true,
           "showland": true,
           "subunitcolor": "white"
          },
          "hoverlabel": {
           "align": "left"
          },
          "hovermode": "closest",
          "mapbox": {
           "style": "light"
          },
          "paper_bgcolor": "white",
          "plot_bgcolor": "#E5ECF6",
          "polar": {
           "angularaxis": {
            "gridcolor": "white",
            "linecolor": "white",
            "ticks": ""
           },
           "bgcolor": "#E5ECF6",
           "radialaxis": {
            "gridcolor": "white",
            "linecolor": "white",
            "ticks": ""
           }
          },
          "scene": {
           "xaxis": {
            "backgroundcolor": "#E5ECF6",
            "gridcolor": "white",
            "gridwidth": 2,
            "linecolor": "white",
            "showbackground": true,
            "ticks": "",
            "zerolinecolor": "white"
           },
           "yaxis": {
            "backgroundcolor": "#E5ECF6",
            "gridcolor": "white",
            "gridwidth": 2,
            "linecolor": "white",
            "showbackground": true,
            "ticks": "",
            "zerolinecolor": "white"
           },
           "zaxis": {
            "backgroundcolor": "#E5ECF6",
            "gridcolor": "white",
            "gridwidth": 2,
            "linecolor": "white",
            "showbackground": true,
            "ticks": "",
            "zerolinecolor": "white"
           }
          },
          "shapedefaults": {
           "line": {
            "color": "#2a3f5f"
           }
          },
          "ternary": {
           "aaxis": {
            "gridcolor": "white",
            "linecolor": "white",
            "ticks": ""
           },
           "baxis": {
            "gridcolor": "white",
            "linecolor": "white",
            "ticks": ""
           },
           "bgcolor": "#E5ECF6",
           "caxis": {
            "gridcolor": "white",
            "linecolor": "white",
            "ticks": ""
           }
          },
          "title": {
           "x": 0.05
          },
          "xaxis": {
           "automargin": true,
           "gridcolor": "white",
           "linecolor": "white",
           "ticks": "",
           "title": {
            "standoff": 15
           },
           "zerolinecolor": "white",
           "zerolinewidth": 2
          },
          "yaxis": {
           "automargin": true,
           "gridcolor": "white",
           "linecolor": "white",
           "ticks": "",
           "title": {
            "standoff": 15
           },
           "zerolinecolor": "white",
           "zerolinewidth": 2
          }
         }
        },
        "title": {
         "text": "Agrupamento K-Means com PCA"
        },
        "width": 800,
        "xaxis": {
         "autorange": true,
         "range": [
          -2.4585773973512755,
          3.0845420350857387
         ],
         "title": {
          "text": "Componente 1"
         },
         "type": "linear"
        },
        "yaxis": {
         "autorange": true,
         "range": [
          -2.3873448558506705,
          3.5006562302754487
         ],
         "title": {
          "text": "Componente 2"
         },
         "type": "linear"
        }
       }
      },
      "image/png": "[encoded data removed]",
      "text/html": [
       "<div>                            <div id=\"2c1b0303-d6cc-4348-bb3f-4234aeb2652a\" class=\"plotly-graph-div\" style=\"height:500px; width:800px;\"></div>            <script type=\"text/javascript\">                require([\"plotly\"], function(Plotly) {                    window.PLOTLYENV=window.PLOTLYENV || {};                                    if (document.getElementById(\"2c1b0303-d6cc-4348-bb3f-4234aeb2652a\")) {                    Plotly.newPlot(                        \"2c1b0303-d6cc-4348-bb3f-4234aeb2652a\",                        [{\"hovertemplate\":\"x=%{x}\\u003cbr\\u003ey=%{y}\\u003cbr\\u003ecolor=%{marker.color}\\u003cextra\\u003e\\u003c\\u002fextra\\u003e\",\"legendgroup\":\"\",\"marker\":{\"color\":[3,3,0,3,0,3,0,3,2,3,2,3,0,3,0,3,0,3,0,3,0,3,0,3,0,3,0,3,0,3,2,3,2,3,0,3,0,3,0,3,0,3,2,3,0,3,0,3,3,0,0,1,3,2,0,2,0,2,3,2,2,1,0,0,2,1,0,0,1,3,2,0,0,0,2,1,0,2,3,0,2,2,2,0,3,2,0,3,3,0,0,1,2,0,3,1,0,3,2,1,3,0,2,1,2,3,0,2,2,2,2,3,0,1,3,3,0,0,0,0,1,0,3,1,3,3,2,1,2,1,2,1,3,3,2,3,0,1,2,3,2,1,3,3,2,1,2,3,0,1,2,1,0,3,2,3,2,3,2,3,2,3,2,3,2,3,2,3,2,1,2,1,2,1,2,1,2,1,2,1,2,1,2,1,2,1,2,1,2,1,2,1,2,1,2,1,2,1,2,1],\"coloraxis\":\"coloraxis\",\"symbol\":\"circle\"},\"mode\":\"markers\",\"name\":\"\",\"orientation\":\"v\",\"showlegend\":false,\"x\":[-0.40638271515795615,-1.4276728699542167,0.050760570649846515,-1.6945131001694214,-0.31310838264528756,-1.7174462723869521,0.7908211244257622,-2.1483215883542037,2.774286226088667,-1.2162947672439128,2.629050844956019,-1.6894703776419508,1.6858225266861893,-1.6460733883910472,1.1744362769650303,-1.3261307015730726,0.01677282525020262,-1.0784245398454684,1.4875878004377272,-1.6637316850276547,0.4880903105484131,-1.0189505128416603,1.3589149217937675,-0.7229727219419849,1.5131593111179191,-1.062411572539715,0.5888329082822403,-0.20618822719626922,0.36842644009595643,-1.96420413814542,2.5475919417038155,-1.6898306715897056,2.201317214598138,-1.8732969500021552,1.2651569258897108,-1.9038655693749484,0.8393445904066096,-1.2464443678738257,0.30243244384012713,-1.7941586766122888,1.4938759431071367,-1.5782477713162941,1.099728921816946,-0.8782291512115817,0.8904217399754455,-1.3304766384693403,0.21954068055520146,-0.7025923326402432,-0.47051916051531545,-0.37178251253093914,0.24970996494043726,-0.2815077131008845,-0.6924866296286236,1.0018365576425534,0.48551726967594405,0.916095461470392,0.401316916474127,1.8686299121045262,-0.8106544702734058,1.078272422122609,1.650860881708704,-0.840256337064781,1.1371790315325558,0.3087196858373379,1.4381548317970319,-0.9967581864763174,0.005441712322807765,1.2929844217837312,-0.9473898624841293,-0.4576079371069308,1.6768317273764535,0.4160212938629894,0.8709062189112092,0.684235085114437,1.3459578368199991,-0.4698679887189818,0.022783527502131966,0.381292376140314,-1.036652295497897,0.5135971765800981,1.1405519695231816,0.0958845943591655,1.9009082577261665,0.31215759494731304,-1.2687254676228248,0.8295735777340397,0.38243378412310114,-1.1667189931347768,-0.7078677824225239,0.4553676690460309,1.1037596043989706,-0.5193003831583205,0.7481787449289877,0.12122395198590415,-0.32705724960782157,-0.5166629453678586,0.28013108613444904,-0.7872373081936447,0.9346177256723064,-0.6343664799057337,-0.7451691668163114,0.35173612318380804,1.4190395463925523,-0.49839251797472034,0.6104116290174968,-0.8705731196287985,1.1374308683413317,1.1236941442060868,1.8948525945810513,1.6627794224561239,1.5067418791514946,-1.289549578603952,-0.03177591786850684,-0.6044293485739516,-1.1793783797343855,-1.1833446653984179,1.1755327240546327,0.05769931091423401,0.582648530041468,0.15993793845573573,-0.47685226407791026,0.020862232627353317,-0.36087691240116326,-0.8182523512624207,-0.42701873330661605,-1.3121027731184058,0.8721257089736029,-0.8760175526895807,2.3020342087232604,-0.4414081041117506,1.7629489304732235,-0.39203978011956236,-0.4620829155696982,-1.1525632502566512,0.5362090958896777,-1.7048762333723566,1.1957003175874015,-0.6847477445155659,0.35327209470348453,-0.9822215652229159,1.8903588330351606,-1.2185581471846794,-0.4749103847756099,-1.5308004157280424,0.5954509698400322,-1.5231649685727804,1.0909071057857118,-1.1843576060160617,0.30084673997659755,-1.040516043876333,1.3505121245054137,-0.7403398142591715,0.8478645895546996,-0.9417144247726071,1.1026387808437053,-1.8314409514521108,1.48097905780205,-1.3899956263663324,1.3328740858254853,-1.256659102225781,1.0400427519858488,-1.5729326275525262,0.4849835474698612,-1.7413333339561599,1.4544595776235634,-1.0154088393030478,1.2192846616012663,-1.697092060895272,0.2641574863393405,-0.4213248389828122,1.3069869943602088,-0.9388057928888883,1.1895156128757869,-0.9972033830292591,1.4271607847544416,-1.6056555955257505,2.142050063509921,-0.8284024409658685,2.2169249270629523,-0.9946300156859477,0.1778677556564419,-1.509008325022456,1.5473086450691282,-1.710680059708695,0.18820561172151518,-1.4295356877643817,1.2295390899347085,-0.7553848018404656,0.7739577057261282,-1.2862606425463141,0.2683756088121493,-1.0570570612653016,1.0887092711656519,-1.349849354065135,1.0928883525986575,-1.1795717394785505,0.6727511283562362,-0.7237191611767131,0.7670962256094757,-1.065015236202071],\"xaxis\":\"x\",\"y\":[-0.5207136347541803,-0.36731019850646174,-1.8940677431734174,-1.6319080463761104,-1.8104827229475513,-1.5992641803386438,-1.9472711231346216,-1.5053736875274308,-0.8829876717475786,-1.6164046413069488,-0.8612370431432423,-1.5454278393385146,-2.023944788816324,-1.5225125897317824,-0.6127909605390405,-0.23671914937156435,-1.7434457225503461,-0.2447156412290113,-0.572676027551783,-1.4325977447537221,-0.39292114499291475,-0.16624751103389468,-1.8286693574393091,-0.18168701739897558,-1.7645119588688012,-0.04311506139166234,-1.6254161367177853,-0.1719069697212854,-1.5630064477055965,-1.2121199030829215,-0.5279135219026172,-1.2241232127435846,-0.3881956474058473,0.22485527030599564,-1.581258539665388,-1.104440986026849,-1.4879386679529738,-1.174259402048701,-1.3196008889709383,-1.004203524714457,-1.4701325172117263,0.32625267632892296,-0.047514830402514044,-1.0837365309459652,-1.3499077218383488,-1.0156190695273366,-1.2199558687981904,-1.0808569291192678,-1.1157739296227096,-1.1306568411100706,-1.166116410270154,0.24789831732088882,-0.9949473431804701,0.08362969608219709,-1.1723963625393459,0.09679762674525594,-1.1305945011699432,-0.0176710825026329,-0.8895742893243901,0.15981066559025983,0.07337409597985271,0.44888152110434376,-1.1540164731713933,-1.0292298238810331,0.16384865336353965,0.5307687042548931,-0.9542259428324907,-1.1482759720309363,0.5233272485112127,-0.8843903830616534,0.1569949624676428,-0.9868370801359402,-1.0263190520842718,-0.9982713274617584,0.35284257370740973,0.6264583378713806,-0.7818330323281906,0.498237050640556,-0.622127823770435,-0.8556738511382906,0.38375275640763545,0.5411676867504304,0.2692700209386683,-0.8253358483008167,-0.587210823266993,0.43069176908467943,-0.7485858164579086,-0.5150382303260995,-0.5550923821371829,-0.7302511232810982,-0.7989267383414,0.779947492864025,0.6179675910763406,-0.6214590164695857,-0.553913734913709,0.8085829823343219,-0.6455014820528362,-0.4846519137695769,0.6191290945508293,0.8555375799963977,-0.43252899482979623,-0.5979591195429768,0.5750665661725765,0.8641389804506137,0.6969923161491774,-0.4136392655392189,-0.6872410034821114,0.6489260874956151,0.5327252536744391,0.5676422541778812,0.5911109811344264,-0.3214653123162615,-0.48172555698778385,0.9385862666214361,-0.2796463071978739,-0.27907412733512205,-0.6345459046795788,-0.4662564394165924,-0.4868299795614083,-0.42329307457270116,1.0067504829951597,-0.40211150830320985,-0.2864532431386754,1.1161100933775643,-0.24693698369237357,-0.114141375087441,0.9203809296167398,1.1831143650407525,0.705154010440663,1.11786092046379,0.786437843758397,1.1104194647201093,-0.18336734996964946,-0.07976382571273388,1.0297483338189108,0.03244421652630447,-0.4037298616894145,1.212914475513445,1.0864331066756745,-0.047104374690235526,-0.45006396576968954,1.3514692877717729,-0.06481389799338555,0.09374071578305297,1.1374256921110297,1.455680838153364,1.062435837283566,0.0708613124382447,-0.12316689671935598,1.4121936071657695,1.0527228058378633,1.3669726928409345,-0.20559508976259352,0.06343544167959594,-0.24394672820649996,0.19738008630189227,1.0332624554484877,0.13098072323547255,1.055586822679529,0.11094663421939163,-0.2055810635415151,0.18766549609223607,1.270863614338608,0.27126921883104105,1.2411585725400598,0.2787761320427556,1.3058585397672093,0.41044608343512295,0.14486733368238305,1.5817754908393125,1.3219029547290593,1.6596231274526287,1.3396483242941328,1.66820738415786,-0.0010821793645301554,0.45512754663122307,1.225179615046244,1.6722329044740145,1.3597774819843578,1.842890572877121,0.44955224792480436,0.703127688016881,1.6065693649404313,0.762674918951357,0.5062526057665999,2.083400944800049,0.4078298702445142,2.040504596188145,0.5349395264838522,0.8446104158209552,0.6110706235089131,0.8102671539442186,2.113398986440796,1.1458606921229124,0.9828408518675884,1.3245678423943745,1.2210609455755566,2.765010382457772,2.861930094544689,3.1372561632411022],\"yaxis\":\"y\",\"type\":\"scatter\"},{\"hovertemplate\":\"x=%{x}\\u003cbr\\u003ey=%{y}\\u003cbr\\u003esize=%{marker.size}\\u003cextra\\u003e\\u003c\\u002fextra\\u003e\",\"legendgroup\":\"\",\"marker\":{\"color\":\"#636efa\",\"size\":[15,15,15,15],\"sizemode\":\"area\",\"sizeref\":0.0375,\"symbol\":\"circle\"},\"mode\":\"markers\",\"name\":\"\",\"orientation\":\"v\",\"showlegend\":false,\"x\":[0.597739081185279,-0.8992481297123344,1.2362020351849814,-1.1727286425513495],\"xaxis\":\"x\",\"y\":[-1.021353322263547,1.2070764301039472,0.6001391958543689,-0.5041011271490559],\"yaxis\":\"y\",\"type\":\"scatter\"}],                        {\"template\":{\"data\":{\"histogram2dcontour\":[{\"type\":\"histogram2dcontour\",\"colorbar\":{\"outlinewidth\":0,\"ticks\":\"\"},\"colorscale\":[[0.0,\"#0d0887\"],[0.1111111111111111,\"#46039f\"],[0.2222222222222222,\"#7201a8\"],[0.3333333333333333,\"#9c179e\"],[0.4444444444444444,\"#bd3786\"],[0.5555555555555556,\"#d8576b\"],[0.6666666666666666,\"#ed7953\"],[0.7777777777777778,\"#fb9f3a\"],[0.8888888888888888,\"#fdca26\"],[1.0,\"#f0f921\"]]}],\"choropleth\":[{\"type\":\"choropleth\",\"colorbar\":{\"outlinewidth\":0,\"ticks\":\"\"}}],\"histogram2d\":[{\"type\":\"histogram2d\",\"colorbar\":{\"outlinewidth\":0,\"ticks\":\"\"},\"colorscale\":[[0.0,\"#0d0887\"],[0.1111111111111111,\"#46039f\"],[0.2222222222222222,\"#7201a8\"],[0.3333333333333333,\"#9c179e\"],[0.4444444444444444,\"#bd3786\"],[0.5555555555555556,\"#d8576b\"],[0.6666666666666666,\"#ed7953\"],[0.7777777777777778,\"#fb9f3a\"],[0.8888888888888888,\"#fdca26\"],[1.0,\"#f0f921\"]]}],\"heatmap\":[{\"type\":\"heatmap\",\"colorbar\":{\"outlinewidth\":0,\"ticks\":\"\"},\"colorscale\":[[0.0,\"#0d0887\"],[0.1111111111111111,\"#46039f\"],[0.2222222222222222,\"#7201a8\"],[0.3333333333333333,\"#9c179e\"],[0.4444444444444444,\"#bd3786\"],[0.5555555555555556,\"#d8576b\"],[0.6666666666666666,\"#ed7953\"],[0.7777777777777778,\"#fb9f3a\"],[0.8888888888888888,\"#fdca26\"],[1.0,\"#f0f921\"]]}],\"heatmapgl\":[{\"type\":\"heatmapgl\",\"colorbar\":{\"outlinewidth\":0,\"ticks\":\"\"},\"colorscale\":[[0.0,\"#0d0887\"],[0.1111111111111111,\"#46039f\"],[0.2222222222222222,\"#7201a8\"],[0.3333333333333333,\"#9c179e\"],[0.4444444444444444,\"#bd3786\"],[0.5555555555555556,\"#d8576b\"],[0.6666666666666666,\"#ed7953\"],[0.7777777777777778,\"#fb9f3a\"],[0.8888888888888888,\"#fdca26\"],[1.0,\"#f0f921\"]]}],\"contourcarpet\":[{\"type\":\"contourcarpet\",\"colorbar\":{\"outlinewidth\":0,\"ticks\":\"\"}}],\"contour\":[{\"type\":\"contour\",\"colorbar\":{\"outlinewidth\":0,\"ticks\":\"\"},\"colorscale\":[[0.0,\"#0d0887\"],[0.1111111111111111,\"#46039f\"],[0.2222222222222222,\"#7201a8\"],[0.3333333333333333,\"#9c179e\"],[0.4444444444444444,\"#bd3786\"],[0.5555555555555556,\"#d8576b\"],[0.6666666666666666,\"#ed7953\"],[0.7777777777777778,\"#fb9f3a\"],[0.8888888888888888,\"#fdca26\"],[1.0,\"#f0f921\"]]}],\"surface\":[{\"type\":\"surface\",\"colorbar\":{\"outlinewidth\":0,\"ticks\":\"\"},\"colorscale\":[[0.0,\"#0d0887\"],[0.1111111111111111,\"#46039f\"],[0.2222222222222222,\"#7201a8\"],[0.3333333333333333,\"#9c179e\"],[0.4444444444444444,\"#bd3786\"],[0.5555555555555556,\"#d8576b\"],[0.6666666666666666,\"#ed7953\"],[0.7777777777777778,\"#fb9f3a\"],[0.8888888888888888,\"#fdca26\"],[1.0,\"#f0f921\"]]}],\"mesh3d\":[{\"type\":\"mesh3d\",\"colorbar\":{\"outlinewidth\":0,\"ticks\":\"\"}}],\"scatter\":[{\"fillpattern\":{\"fillmode\":\"overlay\",\"size\":10,\"solidity\":0.2},\"type\":\"scatter\"}],\"parcoords\":[{\"type\":\"parcoords\",\"line\":{\"colorbar\":{\"outlinewidth\":0,\"ticks\":\"\"}}}],\"scatterpolargl\":[{\"type\":\"scatterpolargl\",\"marker\":{\"colorbar\":{\"outlinewidth\":0,\"ticks\":\"\"}}}],\"bar\":[{\"error_x\":{\"color\":\"#2a3f5f\"},\"error_y\":{\"color\":\"#2a3f5f\"},\"marker\":{\"line\":{\"color\":\"#E5ECF6\",\"width\":0.5},\"pattern\":{\"fillmode\":\"overlay\",\"size\":10,\"solidity\":0.2}},\"type\":\"bar\"}],\"scattergeo\":[{\"type\":\"scattergeo\",\"marker\":{\"colorbar\":{\"outlinewidth\":0,\"ticks\":\"\"}}}],\"scatterpolar\":[{\"type\":\"scatterpolar\",\"marker\":{\"colorbar\":{\"outlinewidth\":0,\"ticks\":\"\"}}}],\"histogram\":[{\"marker\":{\"pattern\":{\"fillmode\":\"overlay\",\"size\":10,\"solidity\":0.2}},\"type\":\"histogram\"}],\"scattergl\":[{\"type\":\"scattergl\",\"marker\":{\"colorbar\":{\"outlinewidth\":0,\"ticks\":\"\"}}}],\"scatter3d\":[{\"type\":\"scatter3d\",\"line\":{\"colorbar\":{\"outlinewidth\":0,\"ticks\":\"\"}},\"marker\":{\"colorbar\":{\"outlinewidth\":0,\"ticks\":\"\"}}}],\"scattermapbox\":[{\"type\":\"scattermapbox\",\"marker\":{\"colorbar\":{\"outlinewidth\":0,\"ticks\":\"\"}}}],\"scatterternary\":[{\"type\":\"scatterternary\",\"marker\":{\"colorbar\":{\"outlinewidth\":0,\"ticks\":\"\"}}}],\"scattercarpet\":[{\"type\":\"scattercarpet\",\"marker\":{\"colorbar\":{\"outlinewidth\":0,\"ticks\":\"\"}}}],\"carpet\":[{\"aaxis\":{\"endlinecolor\":\"#2a3f5f\",\"gridcolor\":\"white\",\"linecolor\":\"white\",\"minorgridcolor\":\"white\",\"startlinecolor\":\"#2a3f5f\"},\"baxis\":{\"endlinecolor\":\"#2a3f5f\",\"gridcolor\":\"white\",\"linecolor\":\"white\",\"minorgridcolor\":\"white\",\"startlinecolor\":\"#2a3f5f\"},\"type\":\"carpet\"}],\"table\":[{\"cells\":{\"fill\":{\"color\":\"#EBF0F8\"},\"line\":{\"color\":\"white\"}},\"header\":{\"fill\":{\"color\":\"#C8D4E3\"},\"line\":{\"color\":\"white\"}},\"type\":\"table\"}],\"barpolar\":[{\"marker\":{\"line\":{\"color\":\"#E5ECF6\",\"width\":0.5},\"pattern\":{\"fillmode\":\"overlay\",\"size\":10,\"solidity\":0.2}},\"type\":\"barpolar\"}],\"pie\":[{\"automargin\":true,\"type\":\"pie\"}]},\"layout\":{\"autotypenumbers\":\"strict\",\"colorway\":[\"#636efa\",\"#EF553B\",\"#00cc96\",\"#ab63fa\",\"#FFA15A\",\"#19d3f3\",\"#FF6692\",\"#B6E880\",\"#FF97FF\",\"#FECB52\"],\"font\":{\"color\":\"#2a3f5f\"},\"hovermode\":\"closest\",\"hoverlabel\":{\"align\":\"left\"},\"paper_bgcolor\":\"white\",\"plot_bgcolor\":\"#E5ECF6\",\"polar\":{\"bgcolor\":\"#E5ECF6\",\"angularaxis\":{\"gridcolor\":\"white\",\"linecolor\":\"white\",\"ticks\":\"\"},\"radialaxis\":{\"gridcolor\":\"white\",\"linecolor\":\"white\",\"ticks\":\"\"}},\"ternary\":{\"bgcolor\":\"#E5ECF6\",\"aaxis\":{\"gridcolor\":\"white\",\"linecolor\":\"white\",\"ticks\":\"\"},\"baxis\":{\"gridcolor\":\"white\",\"linecolor\":\"white\",\"ticks\":\"\"},\"caxis\":{\"gridcolor\":\"white\",\"linecolor\":\"white\",\"ticks\":\"\"}},\"coloraxis\":{\"colorbar\":{\"outlinewidth\":0,\"ticks\":\"\"}},\"colorscale\":{\"sequential\":[[0.0,\"#0d0887\"],[0.1111111111111111,\"#46039f\"],[0.2222222222222222,\"#7201a8\"],[0.3333333333333333,\"#9c179e\"],[0.4444444444444444,\"#bd3786\"],[0.5555555555555556,\"#d8576b\"],[0.6666666666666666,\"#ed7953\"],[0.7777777777777778,\"#fb9f3a\"],[0.8888888888888888,\"#fdca26\"],[1.0,\"#f0f921\"]],\"sequentialminus\":[[0.0,\"#0d0887\"],[0.1111111111111111,\"#46039f\"],[0.2222222222222222,\"#7201a8\"],[0.3333333333333333,\"#9c179e\"],[0.4444444444444444,\"#bd3786\"],[0.5555555555555556,\"#d8576b\"],[0.6666666666666666,\"#ed7953\"],[0.7777777777777778,\"#fb9f3a\"],[0.8888888888888888,\"#fdca26\"],[1.0,\"#f0f921\"]],\"diverging\":[[0,\"#8e0152\"],[0.1,\"#c51b7d\"],[0.2,\"#de77ae\"],[0.3,\"#f1b6da\"],[0.4,\"#fde0ef\"],[0.5,\"#f7f7f7\"],[0.6,\"#e6f5d0\"],[0.7,\"#b8e186\"],[0.8,\"#7fbc41\"],[0.9,\"#4d9221\"],[1,\"#276419\"]]},\"xaxis\":{\"gridcolor\":\"white\",\"linecolor\":\"white\",\"ticks\":\"\",\"title\":{\"standoff\":15},\"zerolinecolor\":\"white\",\"automargin\":true,\"zerolinewidth\":2},\"yaxis\":{\"gridcolor\":\"white\",\"linecolor\":\"white\",\"ticks\":\"\",\"title\":{\"standoff\":15},\"zerolinecolor\":\"white\",\"automargin\":true,\"zerolinewidth\":2},\"scene\":{\"xaxis\":{\"backgroundcolor\":\"#E5ECF6\",\"gridcolor\":\"white\",\"linecolor\":\"white\",\"showbackground\":true,\"ticks\":\"\",\"zerolinecolor\":\"white\",\"gridwidth\":2},\"yaxis\":{\"backgroundcolor\":\"#E5ECF6\",\"gridcolor\":\"white\",\"linecolor\":\"white\",\"showbackground\":true,\"ticks\":\"\",\"zerolinecolor\":\"white\",\"gridwidth\":2},\"zaxis\":{\"backgroundcolor\":\"#E5ECF6\",\"gridcolor\":\"white\",\"linecolor\":\"white\",\"showbackground\":true,\"ticks\":\"\",\"zerolinecolor\":\"white\",\"gridwidth\":2}},\"shapedefaults\":{\"line\":{\"color\":\"#2a3f5f\"}},\"annotationdefaults\":{\"arrowcolor\":\"#2a3f5f\",\"arrowhead\":0,\"arrowwidth\":1},\"geo\":{\"bgcolor\":\"white\",\"landcolor\":\"#E5ECF6\",\"subunitcolor\":\"white\",\"showland\":true,\"showlakes\":true,\"lakecolor\":\"white\"},\"title\":{\"x\":0.05},\"mapbox\":{\"style\":\"light\"}}},\"title\":{\"text\":\"Agrupamento K-Means com PCA\"},\"width\":800,\"height\":500,\"xaxis\":{\"title\":{\"text\":\"Componente 1\"}},\"yaxis\":{\"title\":{\"text\":\"Componente 2\"}}},                        {\"responsive\": true}                    ).then(function(){\n",
       "                            \n",
       "var gd = document.getElementById('2c1b0303-d6cc-4348-bb3f-4234aeb2652a');\n",
       "var x = new MutationObserver(function (mutations, observer) {{\n",
       "        var display = window.getComputedStyle(gd).display;\n",
       "        if (!display || display === 'none') {{\n",
       "            console.log([gd, 'removed!']);\n",
       "            Plotly.purge(gd);\n",
       "            observer.disconnect();\n",
       "        }}\n",
       "}});\n",
       "\n",
       "// Listen for the removal of the full notebook cells\n",
       "var notebookContainer = gd.closest('#notebook-container');\n",
       "if (notebookContainer) {{\n",
       "    x.observe(notebookContainer, {childList: true});\n",
       "}}\n",
       "\n",
       "// Listen for the clearing of the current output cell\n",
       "var outputEl = gd.closest('.output');\n",
       "if (outputEl) {{\n",
       "    x.observe(outputEl, {childList: true});\n",
       "}}\n",
       "\n",
       "                        })                };                });            </script>        </div>"
      ]
     },
     "metadata": {},
     "output_type": "display_data"
    }
   ],
   "source": [
    "graf1 = px.scatter(x = df2_pca[:,0], y = df2_pca[:,1], color=classificacao3)\n",
    "graf2 = px.scatter(x = centroides[:,0], y = centroides[:,1], size = [15, 15, 15, 15])\n",
    "graf3 = go.Figure(data = graf1.data + graf2.data)\n",
    "graf3.update_layout(width=800,height=500,title_text='Agrupamento K-Means com PCA')\n",
    "graf3.update_xaxes(title = 'Componente 1')\n",
    "graf3.update_yaxes(title = 'Componente 2')\n",
    "graf3.show()"
   ]
  },
  {
   "cell_type": "code",
   "execution_count": 195,
   "metadata": {
    "id": "akDlbFP10e0C",
    "scrolled": true
   },
   "outputs": [
    {
     "data": {
      "text/html": [
       "<div>\n",
       "<style scoped>\n",
       "    .dataframe tbody tr th:only-of-type {\n",
       "        vertical-align: middle;\n",
       "    }\n",
       "\n",
       "    .dataframe tbody tr th {\n",
       "        vertical-align: top;\n",
       "    }\n",
       "\n",
       "    .dataframe thead th {\n",
       "        text-align: right;\n",
       "    }\n",
       "</style>\n",
       "<table border=\"1\" class=\"dataframe\">\n",
       "  <thead>\n",
       "    <tr style=\"text-align: right;\">\n",
       "      <th></th>\n",
       "      <th>Grupo</th>\n",
       "    </tr>\n",
       "  </thead>\n",
       "  <tbody>\n",
       "    <tr>\n",
       "      <th>0</th>\n",
       "      <td>3</td>\n",
       "    </tr>\n",
       "    <tr>\n",
       "      <th>1</th>\n",
       "      <td>3</td>\n",
       "    </tr>\n",
       "    <tr>\n",
       "      <th>2</th>\n",
       "      <td>0</td>\n",
       "    </tr>\n",
       "    <tr>\n",
       "      <th>3</th>\n",
       "      <td>3</td>\n",
       "    </tr>\n",
       "    <tr>\n",
       "      <th>4</th>\n",
       "      <td>0</td>\n",
       "    </tr>\n",
       "    <tr>\n",
       "      <th>...</th>\n",
       "      <td>...</td>\n",
       "    </tr>\n",
       "    <tr>\n",
       "      <th>195</th>\n",
       "      <td>1</td>\n",
       "    </tr>\n",
       "    <tr>\n",
       "      <th>196</th>\n",
       "      <td>2</td>\n",
       "    </tr>\n",
       "    <tr>\n",
       "      <th>197</th>\n",
       "      <td>1</td>\n",
       "    </tr>\n",
       "    <tr>\n",
       "      <th>198</th>\n",
       "      <td>2</td>\n",
       "    </tr>\n",
       "    <tr>\n",
       "      <th>199</th>\n",
       "      <td>1</td>\n",
       "    </tr>\n",
       "  </tbody>\n",
       "</table>\n",
       "<p>200 rows × 1 columns</p>\n",
       "</div>"
      ],
      "text/plain": [
       "     Grupo\n",
       "0        3\n",
       "1        3\n",
       "2        0\n",
       "3        3\n",
       "4        0\n",
       "..     ...\n",
       "195      1\n",
       "196      2\n",
       "197      1\n",
       "198      2\n",
       "199      1\n",
       "\n",
       "[200 rows x 1 columns]"
      ]
     },
     "execution_count": 195,
     "metadata": {},
     "output_type": "execute_result"
    }
   ],
   "source": [
    "agrupamento3 = pd.DataFrame(classificacao3, columns = ['Grupo'])\n",
    "agrupamento3"
   ]
  },
  {
   "cell_type": "code",
   "execution_count": 196,
   "metadata": {
    "id": "FhmmWJYI0e0C",
    "scrolled": true
   },
   "outputs": [
    {
     "data": {
      "text/html": [
       "<div>\n",
       "<style scoped>\n",
       "    .dataframe tbody tr th:only-of-type {\n",
       "        vertical-align: middle;\n",
       "    }\n",
       "\n",
       "    .dataframe tbody tr th {\n",
       "        vertical-align: top;\n",
       "    }\n",
       "\n",
       "    .dataframe thead th {\n",
       "        text-align: right;\n",
       "    }\n",
       "</style>\n",
       "<table border=\"1\" class=\"dataframe\">\n",
       "  <thead>\n",
       "    <tr style=\"text-align: right;\">\n",
       "      <th></th>\n",
       "      <th>identificacao</th>\n",
       "      <th>genero</th>\n",
       "      <th>idade</th>\n",
       "      <th>rendimento</th>\n",
       "      <th>pontuacao</th>\n",
       "      <th>Grupo</th>\n",
       "    </tr>\n",
       "  </thead>\n",
       "  <tbody>\n",
       "    <tr>\n",
       "      <th>0</th>\n",
       "      <td>1</td>\n",
       "      <td>Male</td>\n",
       "      <td>19</td>\n",
       "      <td>15</td>\n",
       "      <td>39</td>\n",
       "      <td>3</td>\n",
       "    </tr>\n",
       "    <tr>\n",
       "      <th>1</th>\n",
       "      <td>2</td>\n",
       "      <td>Male</td>\n",
       "      <td>21</td>\n",
       "      <td>15</td>\n",
       "      <td>81</td>\n",
       "      <td>3</td>\n",
       "    </tr>\n",
       "    <tr>\n",
       "      <th>2</th>\n",
       "      <td>3</td>\n",
       "      <td>Female</td>\n",
       "      <td>20</td>\n",
       "      <td>16</td>\n",
       "      <td>6</td>\n",
       "      <td>0</td>\n",
       "    </tr>\n",
       "    <tr>\n",
       "      <th>3</th>\n",
       "      <td>4</td>\n",
       "      <td>Female</td>\n",
       "      <td>23</td>\n",
       "      <td>16</td>\n",
       "      <td>77</td>\n",
       "      <td>3</td>\n",
       "    </tr>\n",
       "    <tr>\n",
       "      <th>4</th>\n",
       "      <td>5</td>\n",
       "      <td>Female</td>\n",
       "      <td>31</td>\n",
       "      <td>17</td>\n",
       "      <td>40</td>\n",
       "      <td>0</td>\n",
       "    </tr>\n",
       "    <tr>\n",
       "      <th>...</th>\n",
       "      <td>...</td>\n",
       "      <td>...</td>\n",
       "      <td>...</td>\n",
       "      <td>...</td>\n",
       "      <td>...</td>\n",
       "      <td>...</td>\n",
       "    </tr>\n",
       "    <tr>\n",
       "      <th>195</th>\n",
       "      <td>196</td>\n",
       "      <td>Female</td>\n",
       "      <td>35</td>\n",
       "      <td>120</td>\n",
       "      <td>79</td>\n",
       "      <td>1</td>\n",
       "    </tr>\n",
       "    <tr>\n",
       "      <th>196</th>\n",
       "      <td>197</td>\n",
       "      <td>Female</td>\n",
       "      <td>45</td>\n",
       "      <td>126</td>\n",
       "      <td>28</td>\n",
       "      <td>2</td>\n",
       "    </tr>\n",
       "    <tr>\n",
       "      <th>197</th>\n",
       "      <td>198</td>\n",
       "      <td>Male</td>\n",
       "      <td>32</td>\n",
       "      <td>126</td>\n",
       "      <td>74</td>\n",
       "      <td>1</td>\n",
       "    </tr>\n",
       "    <tr>\n",
       "      <th>198</th>\n",
       "      <td>199</td>\n",
       "      <td>Male</td>\n",
       "      <td>32</td>\n",
       "      <td>137</td>\n",
       "      <td>18</td>\n",
       "      <td>2</td>\n",
       "    </tr>\n",
       "    <tr>\n",
       "      <th>199</th>\n",
       "      <td>200</td>\n",
       "      <td>Male</td>\n",
       "      <td>30</td>\n",
       "      <td>137</td>\n",
       "      <td>83</td>\n",
       "      <td>1</td>\n",
       "    </tr>\n",
       "  </tbody>\n",
       "</table>\n",
       "<p>200 rows × 6 columns</p>\n",
       "</div>"
      ],
      "text/plain": [
       "     identificacao  genero  idade  rendimento  pontuacao  Grupo\n",
       "0                1    Male     19          15         39      3\n",
       "1                2    Male     21          15         81      3\n",
       "2                3  Female     20          16          6      0\n",
       "3                4  Female     23          16         77      3\n",
       "4                5  Female     31          17         40      0\n",
       "..             ...     ...    ...         ...        ...    ...\n",
       "195            196  Female     35         120         79      1\n",
       "196            197  Female     45         126         28      2\n",
       "197            198    Male     32         126         74      1\n",
       "198            199    Male     32         137         18      2\n",
       "199            200    Male     30         137         83      1\n",
       "\n",
       "[200 rows x 6 columns]"
      ]
     },
     "execution_count": 196,
     "metadata": {},
     "output_type": "execute_result"
    }
   ],
   "source": [
    "df5 = pd.concat([df, agrupamento3],axis=1)\n",
    "df5"
   ]
  },
  {
   "cell_type": "code",
   "execution_count": 197,
   "metadata": {
    "id": "zwWNoC3U0e0D"
   },
   "outputs": [
    {
     "data": {
      "text/plain": [
       "identificacao       126\n",
       "genero           Female\n",
       "idade                31\n",
       "rendimento           70\n",
       "pontuacao            77\n",
       "Grupo                 3\n",
       "Name: 125, dtype: object"
      ]
     },
     "execution_count": 197,
     "metadata": {},
     "output_type": "execute_result"
    }
   ],
   "source": [
    "df5.iloc[125 , :]"
   ]
  },
  {
   "cell_type": "code",
   "execution_count": 198,
   "metadata": {
    "id": "qiS4uP8j0e0D"
   },
   "outputs": [
    {
     "data": {
      "text/html": [
       "<div>\n",
       "<style scoped>\n",
       "    .dataframe tbody tr th:only-of-type {\n",
       "        vertical-align: middle;\n",
       "    }\n",
       "\n",
       "    .dataframe tbody tr th {\n",
       "        vertical-align: top;\n",
       "    }\n",
       "\n",
       "    .dataframe thead th {\n",
       "        text-align: right;\n",
       "    }\n",
       "</style>\n",
       "<table border=\"1\" class=\"dataframe\">\n",
       "  <thead>\n",
       "    <tr style=\"text-align: right;\">\n",
       "      <th></th>\n",
       "      <th>identificacao</th>\n",
       "      <th>genero</th>\n",
       "      <th>idade</th>\n",
       "      <th>rendimento</th>\n",
       "      <th>pontuacao</th>\n",
       "      <th>Grupo</th>\n",
       "    </tr>\n",
       "  </thead>\n",
       "  <tbody>\n",
       "    <tr>\n",
       "      <th>75</th>\n",
       "      <td>76</td>\n",
       "      <td>Male</td>\n",
       "      <td>26</td>\n",
       "      <td>54</td>\n",
       "      <td>54</td>\n",
       "      <td>1</td>\n",
       "    </tr>\n",
       "  </tbody>\n",
       "</table>\n",
       "</div>"
      ],
      "text/plain": [
       "    identificacao genero  idade  rendimento  pontuacao  Grupo\n",
       "75             76   Male     26          54         54      1"
      ]
     },
     "execution_count": 198,
     "metadata": {},
     "output_type": "execute_result"
    }
   ],
   "source": [
    "df5.loc[df5.identificacao == 76]"
   ]
  },
  {
   "cell_type": "code",
   "execution_count": 200,
   "metadata": {
    "id": "7c_KuFUv0e0E",
    "scrolled": true
   },
   "outputs": [
    {
     "data": {
      "text/html": [
       "<div>\n",
       "<style scoped>\n",
       "    .dataframe tbody tr th:only-of-type {\n",
       "        vertical-align: middle;\n",
       "    }\n",
       "\n",
       "    .dataframe tbody tr th {\n",
       "        vertical-align: top;\n",
       "    }\n",
       "\n",
       "    .dataframe thead th {\n",
       "        text-align: right;\n",
       "    }\n",
       "</style>\n",
       "<table border=\"1\" class=\"dataframe\">\n",
       "  <thead>\n",
       "    <tr style=\"text-align: right;\">\n",
       "      <th></th>\n",
       "      <th>identificacao</th>\n",
       "      <th>genero</th>\n",
       "      <th>idade</th>\n",
       "      <th>rendimento</th>\n",
       "      <th>pontuacao</th>\n",
       "      <th>Grupo</th>\n",
       "    </tr>\n",
       "  </thead>\n",
       "  <tbody>\n",
       "    <tr>\n",
       "      <th>2</th>\n",
       "      <td>3</td>\n",
       "      <td>Female</td>\n",
       "      <td>20</td>\n",
       "      <td>16</td>\n",
       "      <td>6</td>\n",
       "      <td>0</td>\n",
       "    </tr>\n",
       "    <tr>\n",
       "      <th>4</th>\n",
       "      <td>5</td>\n",
       "      <td>Female</td>\n",
       "      <td>31</td>\n",
       "      <td>17</td>\n",
       "      <td>40</td>\n",
       "      <td>0</td>\n",
       "    </tr>\n",
       "    <tr>\n",
       "      <th>6</th>\n",
       "      <td>7</td>\n",
       "      <td>Female</td>\n",
       "      <td>35</td>\n",
       "      <td>18</td>\n",
       "      <td>6</td>\n",
       "      <td>0</td>\n",
       "    </tr>\n",
       "    <tr>\n",
       "      <th>12</th>\n",
       "      <td>13</td>\n",
       "      <td>Female</td>\n",
       "      <td>58</td>\n",
       "      <td>20</td>\n",
       "      <td>15</td>\n",
       "      <td>0</td>\n",
       "    </tr>\n",
       "    <tr>\n",
       "      <th>14</th>\n",
       "      <td>15</td>\n",
       "      <td>Male</td>\n",
       "      <td>37</td>\n",
       "      <td>20</td>\n",
       "      <td>13</td>\n",
       "      <td>0</td>\n",
       "    </tr>\n",
       "    <tr>\n",
       "      <th>16</th>\n",
       "      <td>17</td>\n",
       "      <td>Female</td>\n",
       "      <td>35</td>\n",
       "      <td>21</td>\n",
       "      <td>35</td>\n",
       "      <td>0</td>\n",
       "    </tr>\n",
       "    <tr>\n",
       "      <th>18</th>\n",
       "      <td>19</td>\n",
       "      <td>Male</td>\n",
       "      <td>52</td>\n",
       "      <td>23</td>\n",
       "      <td>29</td>\n",
       "      <td>0</td>\n",
       "    </tr>\n",
       "    <tr>\n",
       "      <th>20</th>\n",
       "      <td>21</td>\n",
       "      <td>Male</td>\n",
       "      <td>35</td>\n",
       "      <td>24</td>\n",
       "      <td>35</td>\n",
       "      <td>0</td>\n",
       "    </tr>\n",
       "    <tr>\n",
       "      <th>22</th>\n",
       "      <td>23</td>\n",
       "      <td>Female</td>\n",
       "      <td>46</td>\n",
       "      <td>25</td>\n",
       "      <td>5</td>\n",
       "      <td>0</td>\n",
       "    </tr>\n",
       "    <tr>\n",
       "      <th>24</th>\n",
       "      <td>25</td>\n",
       "      <td>Female</td>\n",
       "      <td>54</td>\n",
       "      <td>28</td>\n",
       "      <td>14</td>\n",
       "      <td>0</td>\n",
       "    </tr>\n",
       "    <tr>\n",
       "      <th>26</th>\n",
       "      <td>27</td>\n",
       "      <td>Female</td>\n",
       "      <td>45</td>\n",
       "      <td>28</td>\n",
       "      <td>32</td>\n",
       "      <td>0</td>\n",
       "    </tr>\n",
       "    <tr>\n",
       "      <th>28</th>\n",
       "      <td>29</td>\n",
       "      <td>Female</td>\n",
       "      <td>40</td>\n",
       "      <td>29</td>\n",
       "      <td>31</td>\n",
       "      <td>0</td>\n",
       "    </tr>\n",
       "    <tr>\n",
       "      <th>34</th>\n",
       "      <td>35</td>\n",
       "      <td>Female</td>\n",
       "      <td>49</td>\n",
       "      <td>33</td>\n",
       "      <td>14</td>\n",
       "      <td>0</td>\n",
       "    </tr>\n",
       "    <tr>\n",
       "      <th>36</th>\n",
       "      <td>37</td>\n",
       "      <td>Female</td>\n",
       "      <td>42</td>\n",
       "      <td>34</td>\n",
       "      <td>17</td>\n",
       "      <td>0</td>\n",
       "    </tr>\n",
       "    <tr>\n",
       "      <th>38</th>\n",
       "      <td>39</td>\n",
       "      <td>Female</td>\n",
       "      <td>36</td>\n",
       "      <td>37</td>\n",
       "      <td>26</td>\n",
       "      <td>0</td>\n",
       "    </tr>\n",
       "    <tr>\n",
       "      <th>40</th>\n",
       "      <td>41</td>\n",
       "      <td>Female</td>\n",
       "      <td>65</td>\n",
       "      <td>38</td>\n",
       "      <td>35</td>\n",
       "      <td>0</td>\n",
       "    </tr>\n",
       "    <tr>\n",
       "      <th>44</th>\n",
       "      <td>45</td>\n",
       "      <td>Female</td>\n",
       "      <td>49</td>\n",
       "      <td>39</td>\n",
       "      <td>28</td>\n",
       "      <td>0</td>\n",
       "    </tr>\n",
       "    <tr>\n",
       "      <th>46</th>\n",
       "      <td>47</td>\n",
       "      <td>Female</td>\n",
       "      <td>50</td>\n",
       "      <td>40</td>\n",
       "      <td>55</td>\n",
       "      <td>0</td>\n",
       "    </tr>\n",
       "    <tr>\n",
       "      <th>49</th>\n",
       "      <td>50</td>\n",
       "      <td>Female</td>\n",
       "      <td>31</td>\n",
       "      <td>40</td>\n",
       "      <td>42</td>\n",
       "      <td>0</td>\n",
       "    </tr>\n",
       "    <tr>\n",
       "      <th>50</th>\n",
       "      <td>51</td>\n",
       "      <td>Female</td>\n",
       "      <td>49</td>\n",
       "      <td>42</td>\n",
       "      <td>52</td>\n",
       "      <td>0</td>\n",
       "    </tr>\n",
       "    <tr>\n",
       "      <th>54</th>\n",
       "      <td>55</td>\n",
       "      <td>Female</td>\n",
       "      <td>50</td>\n",
       "      <td>43</td>\n",
       "      <td>45</td>\n",
       "      <td>0</td>\n",
       "    </tr>\n",
       "    <tr>\n",
       "      <th>56</th>\n",
       "      <td>57</td>\n",
       "      <td>Female</td>\n",
       "      <td>51</td>\n",
       "      <td>44</td>\n",
       "      <td>50</td>\n",
       "      <td>0</td>\n",
       "    </tr>\n",
       "    <tr>\n",
       "      <th>62</th>\n",
       "      <td>63</td>\n",
       "      <td>Female</td>\n",
       "      <td>67</td>\n",
       "      <td>47</td>\n",
       "      <td>52</td>\n",
       "      <td>0</td>\n",
       "    </tr>\n",
       "    <tr>\n",
       "      <th>63</th>\n",
       "      <td>64</td>\n",
       "      <td>Female</td>\n",
       "      <td>54</td>\n",
       "      <td>47</td>\n",
       "      <td>59</td>\n",
       "      <td>0</td>\n",
       "    </tr>\n",
       "    <tr>\n",
       "      <th>66</th>\n",
       "      <td>67</td>\n",
       "      <td>Female</td>\n",
       "      <td>43</td>\n",
       "      <td>48</td>\n",
       "      <td>50</td>\n",
       "      <td>0</td>\n",
       "    </tr>\n",
       "    <tr>\n",
       "      <th>67</th>\n",
       "      <td>68</td>\n",
       "      <td>Female</td>\n",
       "      <td>68</td>\n",
       "      <td>48</td>\n",
       "      <td>48</td>\n",
       "      <td>0</td>\n",
       "    </tr>\n",
       "    <tr>\n",
       "      <th>71</th>\n",
       "      <td>72</td>\n",
       "      <td>Female</td>\n",
       "      <td>47</td>\n",
       "      <td>49</td>\n",
       "      <td>42</td>\n",
       "      <td>0</td>\n",
       "    </tr>\n",
       "    <tr>\n",
       "      <th>72</th>\n",
       "      <td>73</td>\n",
       "      <td>Female</td>\n",
       "      <td>60</td>\n",
       "      <td>50</td>\n",
       "      <td>49</td>\n",
       "      <td>0</td>\n",
       "    </tr>\n",
       "    <tr>\n",
       "      <th>73</th>\n",
       "      <td>74</td>\n",
       "      <td>Female</td>\n",
       "      <td>60</td>\n",
       "      <td>50</td>\n",
       "      <td>56</td>\n",
       "      <td>0</td>\n",
       "    </tr>\n",
       "    <tr>\n",
       "      <th>76</th>\n",
       "      <td>77</td>\n",
       "      <td>Female</td>\n",
       "      <td>45</td>\n",
       "      <td>54</td>\n",
       "      <td>53</td>\n",
       "      <td>0</td>\n",
       "    </tr>\n",
       "    <tr>\n",
       "      <th>79</th>\n",
       "      <td>80</td>\n",
       "      <td>Female</td>\n",
       "      <td>49</td>\n",
       "      <td>54</td>\n",
       "      <td>42</td>\n",
       "      <td>0</td>\n",
       "    </tr>\n",
       "    <tr>\n",
       "      <th>83</th>\n",
       "      <td>84</td>\n",
       "      <td>Female</td>\n",
       "      <td>46</td>\n",
       "      <td>54</td>\n",
       "      <td>44</td>\n",
       "      <td>0</td>\n",
       "    </tr>\n",
       "    <tr>\n",
       "      <th>86</th>\n",
       "      <td>87</td>\n",
       "      <td>Female</td>\n",
       "      <td>55</td>\n",
       "      <td>57</td>\n",
       "      <td>58</td>\n",
       "      <td>0</td>\n",
       "    </tr>\n",
       "    <tr>\n",
       "      <th>89</th>\n",
       "      <td>90</td>\n",
       "      <td>Female</td>\n",
       "      <td>50</td>\n",
       "      <td>58</td>\n",
       "      <td>46</td>\n",
       "      <td>0</td>\n",
       "    </tr>\n",
       "    <tr>\n",
       "      <th>90</th>\n",
       "      <td>91</td>\n",
       "      <td>Female</td>\n",
       "      <td>68</td>\n",
       "      <td>59</td>\n",
       "      <td>55</td>\n",
       "      <td>0</td>\n",
       "    </tr>\n",
       "    <tr>\n",
       "      <th>93</th>\n",
       "      <td>94</td>\n",
       "      <td>Female</td>\n",
       "      <td>40</td>\n",
       "      <td>60</td>\n",
       "      <td>40</td>\n",
       "      <td>0</td>\n",
       "    </tr>\n",
       "    <tr>\n",
       "      <th>96</th>\n",
       "      <td>97</td>\n",
       "      <td>Female</td>\n",
       "      <td>47</td>\n",
       "      <td>60</td>\n",
       "      <td>47</td>\n",
       "      <td>0</td>\n",
       "    </tr>\n",
       "    <tr>\n",
       "      <th>101</th>\n",
       "      <td>102</td>\n",
       "      <td>Female</td>\n",
       "      <td>49</td>\n",
       "      <td>62</td>\n",
       "      <td>48</td>\n",
       "      <td>0</td>\n",
       "    </tr>\n",
       "    <tr>\n",
       "      <th>106</th>\n",
       "      <td>107</td>\n",
       "      <td>Female</td>\n",
       "      <td>66</td>\n",
       "      <td>63</td>\n",
       "      <td>50</td>\n",
       "      <td>0</td>\n",
       "    </tr>\n",
       "    <tr>\n",
       "      <th>112</th>\n",
       "      <td>113</td>\n",
       "      <td>Female</td>\n",
       "      <td>38</td>\n",
       "      <td>64</td>\n",
       "      <td>42</td>\n",
       "      <td>0</td>\n",
       "    </tr>\n",
       "    <tr>\n",
       "      <th>116</th>\n",
       "      <td>117</td>\n",
       "      <td>Female</td>\n",
       "      <td>63</td>\n",
       "      <td>65</td>\n",
       "      <td>43</td>\n",
       "      <td>0</td>\n",
       "    </tr>\n",
       "    <tr>\n",
       "      <th>117</th>\n",
       "      <td>118</td>\n",
       "      <td>Female</td>\n",
       "      <td>49</td>\n",
       "      <td>65</td>\n",
       "      <td>59</td>\n",
       "      <td>0</td>\n",
       "    </tr>\n",
       "    <tr>\n",
       "      <th>118</th>\n",
       "      <td>119</td>\n",
       "      <td>Female</td>\n",
       "      <td>51</td>\n",
       "      <td>67</td>\n",
       "      <td>43</td>\n",
       "      <td>0</td>\n",
       "    </tr>\n",
       "    <tr>\n",
       "      <th>119</th>\n",
       "      <td>120</td>\n",
       "      <td>Female</td>\n",
       "      <td>50</td>\n",
       "      <td>67</td>\n",
       "      <td>57</td>\n",
       "      <td>0</td>\n",
       "    </tr>\n",
       "    <tr>\n",
       "      <th>121</th>\n",
       "      <td>122</td>\n",
       "      <td>Female</td>\n",
       "      <td>38</td>\n",
       "      <td>67</td>\n",
       "      <td>40</td>\n",
       "      <td>0</td>\n",
       "    </tr>\n",
       "    <tr>\n",
       "      <th>136</th>\n",
       "      <td>137</td>\n",
       "      <td>Female</td>\n",
       "      <td>44</td>\n",
       "      <td>73</td>\n",
       "      <td>7</td>\n",
       "      <td>0</td>\n",
       "    </tr>\n",
       "    <tr>\n",
       "      <th>148</th>\n",
       "      <td>149</td>\n",
       "      <td>Female</td>\n",
       "      <td>34</td>\n",
       "      <td>78</td>\n",
       "      <td>22</td>\n",
       "      <td>0</td>\n",
       "    </tr>\n",
       "    <tr>\n",
       "      <th>152</th>\n",
       "      <td>153</td>\n",
       "      <td>Female</td>\n",
       "      <td>44</td>\n",
       "      <td>78</td>\n",
       "      <td>20</td>\n",
       "      <td>0</td>\n",
       "    </tr>\n",
       "  </tbody>\n",
       "</table>\n",
       "</div>"
      ],
      "text/plain": [
       "     identificacao  genero  idade  rendimento  pontuacao  Grupo\n",
       "2                3  Female     20          16          6      0\n",
       "4                5  Female     31          17         40      0\n",
       "6                7  Female     35          18          6      0\n",
       "12              13  Female     58          20         15      0\n",
       "14              15    Male     37          20         13      0\n",
       "16              17  Female     35          21         35      0\n",
       "18              19    Male     52          23         29      0\n",
       "20              21    Male     35          24         35      0\n",
       "22              23  Female     46          25          5      0\n",
       "24              25  Female     54          28         14      0\n",
       "26              27  Female     45          28         32      0\n",
       "28              29  Female     40          29         31      0\n",
       "34              35  Female     49          33         14      0\n",
       "36              37  Female     42          34         17      0\n",
       "38              39  Female     36          37         26      0\n",
       "40              41  Female     65          38         35      0\n",
       "44              45  Female     49          39         28      0\n",
       "46              47  Female     50          40         55      0\n",
       "49              50  Female     31          40         42      0\n",
       "50              51  Female     49          42         52      0\n",
       "54              55  Female     50          43         45      0\n",
       "56              57  Female     51          44         50      0\n",
       "62              63  Female     67          47         52      0\n",
       "63              64  Female     54          47         59      0\n",
       "66              67  Female     43          48         50      0\n",
       "67              68  Female     68          48         48      0\n",
       "71              72  Female     47          49         42      0\n",
       "72              73  Female     60          50         49      0\n",
       "73              74  Female     60          50         56      0\n",
       "76              77  Female     45          54         53      0\n",
       "79              80  Female     49          54         42      0\n",
       "83              84  Female     46          54         44      0\n",
       "86              87  Female     55          57         58      0\n",
       "89              90  Female     50          58         46      0\n",
       "90              91  Female     68          59         55      0\n",
       "93              94  Female     40          60         40      0\n",
       "96              97  Female     47          60         47      0\n",
       "101            102  Female     49          62         48      0\n",
       "106            107  Female     66          63         50      0\n",
       "112            113  Female     38          64         42      0\n",
       "116            117  Female     63          65         43      0\n",
       "117            118  Female     49          65         59      0\n",
       "118            119  Female     51          67         43      0\n",
       "119            120  Female     50          67         57      0\n",
       "121            122  Female     38          67         40      0\n",
       "136            137  Female     44          73          7      0\n",
       "148            149  Female     34          78         22      0\n",
       "152            153  Female     44          78         20      0"
      ]
     },
     "execution_count": 200,
     "metadata": {},
     "output_type": "execute_result"
    }
   ],
   "source": [
    "grupo0 = df5.loc[df5.Grupo == 0]\n",
    "grupo0"
   ]
  },
  {
   "cell_type": "code",
   "execution_count": 201,
   "metadata": {
    "id": "mWdLsqM30e0E"
   },
   "outputs": [
    {
     "data": {
      "text/plain": [
       "(48, 6)"
      ]
     },
     "execution_count": 201,
     "metadata": {},
     "output_type": "execute_result"
    }
   ],
   "source": [
    "grupo0.shape"
   ]
  },
  {
   "cell_type": "markdown",
   "metadata": {
    "id": "a8-uQCMz0e0F"
   },
   "source": [
    "## **ALGORITMO HIERÁRQUICO COM PCA**"
   ]
  },
  {
   "cell_type": "markdown",
   "metadata": {
    "id": "x2vPbgMuJJPi"
   },
   "source": [
    "https://scikit-learn.org/stable/modules/generated/sklearn.cluster.AgglomerativeClustering.html"
   ]
  },
  {
   "cell_type": "code",
   "execution_count": null,
   "metadata": {
    "id": "Ii5XArTOX8gQ"
   },
   "outputs": [],
   "source": [
    "df2.head()"
   ]
  },
  {
   "cell_type": "code",
   "execution_count": null,
   "metadata": {
    "id": "ljtUSFih90lf"
   },
   "outputs": [],
   "source": [
    "df2_esc"
   ]
  },
  {
   "cell_type": "code",
   "execution_count": null,
   "metadata": {
    "id": "ntYuM-li78x5"
   },
   "outputs": [],
   "source": [
    "df2_esc.shape"
   ]
  },
  {
   "cell_type": "markdown",
   "metadata": {
    "id": "kRbfqOzT7_VI"
   },
   "source": [
    "**Componentes Principais**"
   ]
  },
  {
   "cell_type": "code",
   "execution_count": null,
   "metadata": {
    "id": "TlSJepO878x8"
   },
   "outputs": [],
   "source": [
    "from sklearn.decomposition import PCA"
   ]
  },
  {
   "cell_type": "code",
   "execution_count": null,
   "metadata": {
    "id": "-n-Xr2rh78x9"
   },
   "outputs": [],
   "source": [
    "pca = PCA(n_components = 2)"
   ]
  },
  {
   "cell_type": "code",
   "execution_count": null,
   "metadata": {
    "id": "kIz83olU78x9"
   },
   "outputs": [],
   "source": [
    "df2_pca = pca.fit_transform(df2_esc)"
   ]
  },
  {
   "cell_type": "code",
   "execution_count": null,
   "metadata": {
    "id": "Q5G5gWjk78x-"
   },
   "outputs": [],
   "source": [
    "df2_pca"
   ]
  },
  {
   "cell_type": "markdown",
   "metadata": {
    "id": "WhSS6kvv-C3h"
   },
   "source": [
    "**Dendograma**"
   ]
  },
  {
   "cell_type": "code",
   "execution_count": null,
   "metadata": {
    "id": "aKUpnNYu5nwT"
   },
   "outputs": [],
   "source": [
    "import matplotlib.pyplot as plt\n",
    "from scipy.cluster.hierarchy import dendrogram, linkage"
   ]
  },
  {
   "cell_type": "code",
   "execution_count": null,
   "metadata": {
    "id": "Ieor4uK45U90"
   },
   "outputs": [],
   "source": [
    "dendrograma = dendrogram(linkage(df2_pca, method = 'complete'))"
   ]
  },
  {
   "cell_type": "code",
   "execution_count": null,
   "metadata": {
    "id": "HOf34UC37wim"
   },
   "outputs": [],
   "source": [
    "from sklearn.cluster import AgglomerativeClustering"
   ]
  },
  {
   "cell_type": "code",
   "execution_count": null,
   "metadata": {
    "id": "1AN6L6cz-SkN"
   },
   "outputs": [],
   "source": [
    "hier = AgglomerativeClustering(n_clusters=3, affinity='euclidean', linkage = 'complete')\n",
    "classificacao4 = hier.fit_predict(df2_pca)"
   ]
  },
  {
   "cell_type": "code",
   "execution_count": null,
   "metadata": {
    "id": "TfBoJa5L-fad"
   },
   "outputs": [],
   "source": [
    "classificacao4"
   ]
  },
  {
   "cell_type": "code",
   "execution_count": null,
   "metadata": {
    "id": "hmFGpfqd79iT"
   },
   "outputs": [],
   "source": [
    "import plotly.express as px"
   ]
  },
  {
   "cell_type": "code",
   "execution_count": null,
   "metadata": {
    "id": "56h38krX79iV"
   },
   "outputs": [],
   "source": [
    "graf = px.scatter(x = df2_pca[:,0], y = df2_pca[:,1], color=classificacao4)\n",
    "graf.update_layout(width=800,height=500,title_text='Agrupamento Hierárquico')\n",
    "graf.show()"
   ]
  },
  {
   "cell_type": "markdown",
   "metadata": {
    "id": "CDa4HtVj8l4Y"
   },
   "source": [
    "**Agrupamento**"
   ]
  },
  {
   "cell_type": "code",
   "execution_count": null,
   "metadata": {
    "id": "CDOknDo38i9n"
   },
   "outputs": [],
   "source": [
    "agrupamento4 = pd.DataFrame(classificacao4, columns = ['Grupo'])\n",
    "agrupamento4"
   ]
  },
  {
   "cell_type": "code",
   "execution_count": null,
   "metadata": {
    "id": "bkSe6nCF8i9o"
   },
   "outputs": [],
   "source": [
    "df6 = pd.concat([df, agrupamento4],axis=1)\n",
    "df6"
   ]
  },
  {
   "cell_type": "code",
   "execution_count": null,
   "metadata": {
    "id": "mfH0GI8F8i9q"
   },
   "outputs": [],
   "source": [
    "df6.loc[df6.identificacao == 22]"
   ]
  },
  {
   "cell_type": "code",
   "execution_count": null,
   "metadata": {
    "id": "lUpu9id-8i9q"
   },
   "outputs": [],
   "source": [
    "grupo2 = df6.loc[df6.Grupo == 2]\n",
    "grupo2"
   ]
  },
  {
   "cell_type": "markdown",
   "metadata": {
    "id": "nHawQMs89sBv",
    "jp-MarkdownHeadingCollapsed": true
   },
   "source": [
    "## **ALGORITMO HIERÁRQUICO: todos atributos**\n",
    "\n",
    "\n",
    "\n",
    "\n"
   ]
  },
  {
   "cell_type": "code",
   "execution_count": null,
   "metadata": {
    "id": "2HZgLiHQlou2"
   },
   "outputs": [],
   "source": [
    "df2.head()"
   ]
  },
  {
   "cell_type": "code",
   "execution_count": null,
   "metadata": {
    "id": "aU64HSGL9sBx"
   },
   "outputs": [],
   "source": [
    "df2_esc"
   ]
  },
  {
   "cell_type": "code",
   "execution_count": null,
   "metadata": {
    "id": "GvcYljzo9sBy"
   },
   "outputs": [],
   "source": [
    "df2_esc.shape"
   ]
  },
  {
   "cell_type": "markdown",
   "metadata": {
    "id": "rDJzoa2D-MbQ"
   },
   "source": [
    "**Dendograma**"
   ]
  },
  {
   "cell_type": "code",
   "execution_count": null,
   "metadata": {
    "id": "VLm2BNlv9sBx"
   },
   "outputs": [],
   "source": [
    "import matplotlib.pyplot as plt\n",
    "from scipy.cluster.hierarchy import dendrogram, linkage"
   ]
  },
  {
   "cell_type": "code",
   "execution_count": null,
   "metadata": {
    "id": "QTBnxz_J9sB1"
   },
   "outputs": [],
   "source": [
    "dendrograma = dendrogram(linkage(df2_esc, method = 'average'))"
   ]
  },
  {
   "cell_type": "code",
   "execution_count": null,
   "metadata": {
    "id": "ymTB91459sB2"
   },
   "outputs": [],
   "source": [
    "from sklearn.cluster import AgglomerativeClustering"
   ]
  },
  {
   "cell_type": "code",
   "execution_count": null,
   "metadata": {
    "id": "1vrGzMSK9sB2"
   },
   "outputs": [],
   "source": [
    "hier = AgglomerativeClustering(n_clusters=7, affinity='euclidean', linkage = 'average')\n",
    "classificacao5 = hier.fit_predict(df2_esc)"
   ]
  },
  {
   "cell_type": "code",
   "execution_count": null,
   "metadata": {
    "id": "_zoU34yK9sB3"
   },
   "outputs": [],
   "source": [
    "classificacao5"
   ]
  },
  {
   "cell_type": "markdown",
   "metadata": {
    "id": "su34SbhO9sB4"
   },
   "source": [
    "**Agrupamento**"
   ]
  },
  {
   "cell_type": "code",
   "execution_count": null,
   "metadata": {
    "id": "VgPBp91_9sB5"
   },
   "outputs": [],
   "source": [
    "agrupamento5 = pd.DataFrame(classificacao5, columns = ['Grupo'])\n",
    "agrupamento5"
   ]
  },
  {
   "cell_type": "code",
   "execution_count": null,
   "metadata": {
    "id": "qMOFBccb9sB5"
   },
   "outputs": [],
   "source": [
    "df7 = pd.concat([df, agrupamento5],axis=1)\n",
    "df7"
   ]
  },
  {
   "cell_type": "code",
   "execution_count": null,
   "metadata": {
    "id": "5mGCvaTK9sB6"
   },
   "outputs": [],
   "source": [
    "df7.loc[df7.identificacao == 131]"
   ]
  },
  {
   "cell_type": "code",
   "execution_count": null,
   "metadata": {
    "id": "X-wWkvCj9sB7"
   },
   "outputs": [],
   "source": [
    "grupo4 = df7.loc[df7.Grupo == 6]\n",
    "grupo4.head(2)"
   ]
  },
  {
   "cell_type": "code",
   "execution_count": null,
   "metadata": {
    "id": "EMHY7rn9_iQH"
   },
   "outputs": [],
   "source": [
    "grupo4.shape"
   ]
  },
  {
   "cell_type": "markdown",
   "metadata": {
    "id": "O5-EwCdnBgBb",
    "jp-MarkdownHeadingCollapsed": true
   },
   "source": [
    "## **ALGORITMO DBSCAN COM PCA**"
   ]
  },
  {
   "cell_type": "markdown",
   "metadata": {
    "id": "ZAXoGI7pLylK"
   },
   "source": [
    "https://scikit-learn.org/stable/modules/generated/sklearn.cluster.DBSCAN.html"
   ]
  },
  {
   "cell_type": "code",
   "execution_count": null,
   "metadata": {
    "id": "yTXitQ0fBgBc"
   },
   "outputs": [],
   "source": [
    "df2_esc"
   ]
  },
  {
   "cell_type": "code",
   "execution_count": null,
   "metadata": {
    "id": "nXL-PY5EBgBd"
   },
   "outputs": [],
   "source": [
    "df2_esc.shape"
   ]
  },
  {
   "cell_type": "markdown",
   "metadata": {
    "id": "QwaIvBhABgBe"
   },
   "source": [
    "**Componentes Principais**"
   ]
  },
  {
   "cell_type": "code",
   "execution_count": null,
   "metadata": {
    "id": "bUau0xFYBgBe"
   },
   "outputs": [],
   "source": [
    "from sklearn.decomposition import PCA"
   ]
  },
  {
   "cell_type": "code",
   "execution_count": null,
   "metadata": {
    "id": "xJxtP0q5BgBf"
   },
   "outputs": [],
   "source": [
    "pca = PCA(n_components = 2)"
   ]
  },
  {
   "cell_type": "code",
   "execution_count": null,
   "metadata": {
    "id": "-nY_BZ-dBgBf"
   },
   "outputs": [],
   "source": [
    "df2_pca = pca.fit_transform(df2_esc)"
   ]
  },
  {
   "cell_type": "code",
   "execution_count": null,
   "metadata": {
    "id": "1SRryDS4BgBg"
   },
   "outputs": [],
   "source": [
    "df2_pca"
   ]
  },
  {
   "cell_type": "code",
   "execution_count": null,
   "metadata": {
    "id": "wQfTPFoUBgBi"
   },
   "outputs": [],
   "source": [
    "from sklearn.cluster import DBSCAN"
   ]
  },
  {
   "cell_type": "code",
   "execution_count": null,
   "metadata": {
    "id": "cbT6Bd8aBgBi"
   },
   "outputs": [],
   "source": [
    "dbscan = DBSCAN(eps = 0.32, min_samples=4)\n",
    "dbscan.fit(df2_pca)"
   ]
  },
  {
   "cell_type": "code",
   "execution_count": null,
   "metadata": {
    "id": "rPXzTru_CSyu"
   },
   "outputs": [],
   "source": [
    "classificacao6 = dbscan.labels_\n",
    "classificacao6"
   ]
  },
  {
   "cell_type": "code",
   "execution_count": null,
   "metadata": {
    "id": "hcPhnzzPBgBj"
   },
   "outputs": [],
   "source": [
    "import plotly.express as px"
   ]
  },
  {
   "cell_type": "code",
   "execution_count": null,
   "metadata": {
    "id": "00KyF5MkBgBk"
   },
   "outputs": [],
   "source": [
    "graf = px.scatter(x = df2_pca[:,0], y = df2_pca[:,1], color=classificacao6)\n",
    "graf.update_layout(width=800,height=500,title_text='Agrupamento DBSCAN')\n",
    "graf.show()"
   ]
  },
  {
   "cell_type": "markdown",
   "metadata": {
    "id": "cAIznYv_BgBk"
   },
   "source": [
    "**Agrupamento**"
   ]
  },
  {
   "cell_type": "code",
   "execution_count": null,
   "metadata": {
    "id": "eWjIORe2BgBl"
   },
   "outputs": [],
   "source": [
    "agrupamento6 = pd.DataFrame(classificacao6, columns = ['Grupo'])\n",
    "agrupamento6"
   ]
  },
  {
   "cell_type": "code",
   "execution_count": null,
   "metadata": {
    "id": "dugWabRCBgBl"
   },
   "outputs": [],
   "source": [
    "df8 = pd.concat([df, agrupamento6],axis=1)\n",
    "df8"
   ]
  },
  {
   "cell_type": "code",
   "execution_count": null,
   "metadata": {
    "id": "ffDWdASHBgBm"
   },
   "outputs": [],
   "source": [
    "df8.loc[df8.identificacao == 5]"
   ]
  },
  {
   "cell_type": "code",
   "execution_count": null,
   "metadata": {
    "id": "aybcZvfmBgBn"
   },
   "outputs": [],
   "source": [
    "ruido = df8.loc[df8.Grupo == -1]\n",
    "ruido"
   ]
  },
  {
   "cell_type": "code",
   "execution_count": null,
   "metadata": {
    "id": "4LCdujhiyOl0"
   },
   "outputs": [],
   "source": [
    "ruido.shape"
   ]
  },
  {
   "cell_type": "markdown",
   "metadata": {
    "id": "b0GeDSCv1cA5",
    "jp-MarkdownHeadingCollapsed": true
   },
   "source": [
    "## **ALGORITMO DBSCAN: todos atributos**"
   ]
  },
  {
   "cell_type": "code",
   "execution_count": null,
   "metadata": {
    "id": "MCgPQx6r1cA7"
   },
   "outputs": [],
   "source": [
    "df2_esc"
   ]
  },
  {
   "cell_type": "code",
   "execution_count": null,
   "metadata": {
    "id": "8PwnBaNy1cA7"
   },
   "outputs": [],
   "source": [
    "df2_esc.shape"
   ]
  },
  {
   "cell_type": "code",
   "execution_count": null,
   "metadata": {
    "id": "MxqM2YdQ1cA-"
   },
   "outputs": [],
   "source": [
    "from sklearn.cluster import DBSCAN"
   ]
  },
  {
   "cell_type": "code",
   "execution_count": null,
   "metadata": {
    "id": "nhqrK4Si1cA-"
   },
   "outputs": [],
   "source": [
    "dbscan = DBSCAN(eps = 0.73, min_samples=4)\n",
    "dbscan.fit(df2_esc)"
   ]
  },
  {
   "cell_type": "code",
   "execution_count": null,
   "metadata": {
    "id": "AXrUcH6J1cA_"
   },
   "outputs": [],
   "source": [
    "classificacao7 = dbscan.labels_\n",
    "classificacao7"
   ]
  },
  {
   "cell_type": "markdown",
   "metadata": {
    "id": "1Wd8WWlq1cBA"
   },
   "source": [
    "**Agrupamento**"
   ]
  },
  {
   "cell_type": "code",
   "execution_count": null,
   "metadata": {
    "id": "tx0ap37H1cBB"
   },
   "outputs": [],
   "source": [
    "agrupamento7 = pd.DataFrame(classificacao7, columns = ['Grupo'])\n",
    "agrupamento7"
   ]
  },
  {
   "cell_type": "code",
   "execution_count": null,
   "metadata": {
    "id": "wGftEOQL1cBB"
   },
   "outputs": [],
   "source": [
    "df9 = pd.concat([df, agrupamento7],axis=1)\n",
    "df9"
   ]
  },
  {
   "cell_type": "code",
   "execution_count": null,
   "metadata": {
    "id": "0tikmLlS1cBB"
   },
   "outputs": [],
   "source": [
    "df9.loc[df9.identificacao == 127]"
   ]
  },
  {
   "cell_type": "code",
   "execution_count": null,
   "metadata": {
    "id": "Vlkow2yC1cBC"
   },
   "outputs": [],
   "source": [
    "ruido = df9.loc[df9.Grupo == -1]\n",
    "ruido"
   ]
  },
  {
   "cell_type": "code",
   "execution_count": null,
   "metadata": {
    "id": "UQ-Uk1z00_6n"
   },
   "outputs": [],
   "source": [
    "ruido.shape"
   ]
  },
  {
   "cell_type": "code",
   "execution_count": null,
   "metadata": {
    "id": "ToVgDn3E1ExN"
   },
   "outputs": [],
   "source": [
    "grupo = df9.loc[df9.Grupo == 1]\n",
    "grupo.shape"
   ]
  },
  {
   "cell_type": "markdown",
   "metadata": {
    "id": "rxXUeesH4cZc",
    "jp-MarkdownHeadingCollapsed": true
   },
   "source": [
    "## **ALGORITMO MEANSHIFT COM PCA**"
   ]
  },
  {
   "cell_type": "markdown",
   "metadata": {
    "id": "Eeat9rN64cZd"
   },
   "source": [
    "https://scikit-learn.org/stable/modules/generated/sklearn.cluster.MeanShift.html"
   ]
  },
  {
   "cell_type": "code",
   "execution_count": null,
   "metadata": {
    "id": "faTVluMZ4cZd"
   },
   "outputs": [],
   "source": [
    "df2_esc"
   ]
  },
  {
   "cell_type": "code",
   "execution_count": null,
   "metadata": {
    "id": "glkVgs7e4cZd"
   },
   "outputs": [],
   "source": [
    "df2_esc.shape"
   ]
  },
  {
   "cell_type": "markdown",
   "metadata": {
    "id": "x7wQ4o7m4cZd"
   },
   "source": [
    "**Componentes Principais**"
   ]
  },
  {
   "cell_type": "code",
   "execution_count": null,
   "metadata": {
    "id": "p3wYSHWz4cZe"
   },
   "outputs": [],
   "source": [
    "from sklearn.decomposition import PCA"
   ]
  },
  {
   "cell_type": "code",
   "execution_count": null,
   "metadata": {
    "id": "LPhLF7m34cZe"
   },
   "outputs": [],
   "source": [
    "pca = PCA(n_components = 2)"
   ]
  },
  {
   "cell_type": "code",
   "execution_count": null,
   "metadata": {
    "id": "-uFbBkjA4cZe"
   },
   "outputs": [],
   "source": [
    "df2_pca = pca.fit_transform(df2_esc)"
   ]
  },
  {
   "cell_type": "code",
   "execution_count": null,
   "metadata": {
    "id": "Rxv2wJ264cZe"
   },
   "outputs": [],
   "source": [
    "df2_pca"
   ]
  },
  {
   "cell_type": "markdown",
   "metadata": {
    "id": "xp5KhWP3XfbD"
   },
   "source": [
    "**MeanShift**"
   ]
  },
  {
   "cell_type": "code",
   "execution_count": null,
   "metadata": {
    "id": "jdQIf5av4cZe"
   },
   "outputs": [],
   "source": [
    "from sklearn.cluster import MeanShift"
   ]
  },
  {
   "cell_type": "code",
   "execution_count": null,
   "metadata": {
    "id": "X3Vb3Jvc4cZe"
   },
   "outputs": [],
   "source": [
    "mean = MeanShift(bandwidth=1, cluster_all=True)"
   ]
  },
  {
   "cell_type": "code",
   "execution_count": null,
   "metadata": {
    "id": "wPzcYdfo5IM8"
   },
   "outputs": [],
   "source": [
    "mean.fit(df2_pca)"
   ]
  },
  {
   "cell_type": "code",
   "execution_count": null,
   "metadata": {
    "id": "urJbYO8_4cZf"
   },
   "outputs": [],
   "source": [
    "classificacao8 = mean.labels_\n",
    "classificacao8"
   ]
  },
  {
   "cell_type": "code",
   "execution_count": null,
   "metadata": {
    "id": "Ytbw059M4cZf"
   },
   "outputs": [],
   "source": [
    "import plotly.express as px"
   ]
  },
  {
   "cell_type": "code",
   "execution_count": null,
   "metadata": {
    "id": "H7KnG8JJ4cZf"
   },
   "outputs": [],
   "source": [
    "graf = px.scatter(x = df2_pca[:,0], y = df2_pca[:,1], color=classificacao8)\n",
    "graf.update_layout(width=800,height=500,title_text='Agrupamento MeanShift')\n",
    "graf.show()"
   ]
  },
  {
   "cell_type": "markdown",
   "metadata": {
    "id": "tc7lcrs-4cZf"
   },
   "source": [
    "**Agrupamento**"
   ]
  },
  {
   "cell_type": "code",
   "execution_count": null,
   "metadata": {
    "id": "XK7tguOi4cZf"
   },
   "outputs": [],
   "source": [
    "agrupamento8 = pd.DataFrame(classificacao8, columns = ['Grupo'])\n",
    "agrupamento8"
   ]
  },
  {
   "cell_type": "code",
   "execution_count": null,
   "metadata": {
    "id": "D6G0g90e4cZg"
   },
   "outputs": [],
   "source": [
    "df9 = pd.concat([df, agrupamento8],axis=1)\n",
    "df9"
   ]
  },
  {
   "cell_type": "code",
   "execution_count": null,
   "metadata": {
    "id": "1y4PmoTr4cZg"
   },
   "outputs": [],
   "source": [
    "df9.loc[df9.identificacao == 19]"
   ]
  },
  {
   "cell_type": "code",
   "execution_count": null,
   "metadata": {
    "id": "oeOzOg9S4cZg"
   },
   "outputs": [],
   "source": [
    "ruido = df9.loc[df9.Grupo == -1]\n",
    "ruido"
   ]
  },
  {
   "cell_type": "code",
   "execution_count": null,
   "metadata": {
    "id": "ksC1VmsqaOer"
   },
   "outputs": [],
   "source": [
    "grupo = df9.loc[df9.Grupo == 3]\n",
    "grupo.shape"
   ]
  },
  {
   "cell_type": "markdown",
   "metadata": {
    "id": "LPSZ9LAU4cZg",
    "jp-MarkdownHeadingCollapsed": true
   },
   "source": [
    "## **ALGORITMO MEANSHIFT: todos atributos**"
   ]
  },
  {
   "cell_type": "code",
   "execution_count": null,
   "metadata": {
    "id": "dYKMJ9WPG2jf"
   },
   "outputs": [],
   "source": [
    "df2_esc"
   ]
  },
  {
   "cell_type": "code",
   "execution_count": null,
   "metadata": {
    "id": "UIWnx7YzG2jn"
   },
   "outputs": [],
   "source": [
    "df2"
   ]
  },
  {
   "cell_type": "code",
   "execution_count": null,
   "metadata": {
    "id": "kz7OQAtOG2jo"
   },
   "outputs": [],
   "source": [
    "df2_esc.shape"
   ]
  },
  {
   "cell_type": "code",
   "execution_count": null,
   "metadata": {
    "id": "mqpk159XHGqW"
   },
   "outputs": [],
   "source": [
    "from sklearn.cluster import MeanShift"
   ]
  },
  {
   "cell_type": "code",
   "execution_count": null,
   "metadata": {
    "id": "p8Ydb7H0HGqX"
   },
   "outputs": [],
   "source": [
    "mean = MeanShift(bandwidth=1.5, cluster_all=True)"
   ]
  },
  {
   "cell_type": "code",
   "execution_count": null,
   "metadata": {
    "id": "X3XFkcQ4HGqY"
   },
   "outputs": [],
   "source": [
    "mean.fit(df2_esc)"
   ]
  },
  {
   "cell_type": "code",
   "execution_count": null,
   "metadata": {
    "id": "_sXhWx0vG2jq"
   },
   "outputs": [],
   "source": [
    "classificacao9 = mean.labels_\n",
    "classificacao9"
   ]
  },
  {
   "cell_type": "markdown",
   "metadata": {
    "id": "H5m91Jc5G2jq"
   },
   "source": [
    "**Agrupamento**"
   ]
  },
  {
   "cell_type": "code",
   "execution_count": null,
   "metadata": {
    "id": "ek70yriRG2jr"
   },
   "outputs": [],
   "source": [
    "agrupamento9 = pd.DataFrame(classificacao9, columns = ['Grupo'])\n",
    "agrupamento9"
   ]
  },
  {
   "cell_type": "code",
   "execution_count": null,
   "metadata": {
    "id": "1t1-R6YNG2js"
   },
   "outputs": [],
   "source": [
    "df10 = pd.concat([df, agrupamento9],axis=1)\n",
    "df10"
   ]
  },
  {
   "cell_type": "code",
   "execution_count": null,
   "metadata": {
    "id": "JyTKLU4kG2js"
   },
   "outputs": [],
   "source": [
    "df10.loc[df10.identificacao == 45]"
   ]
  },
  {
   "cell_type": "code",
   "execution_count": null,
   "metadata": {
    "id": "WA73SYArcnKb"
   },
   "outputs": [],
   "source": [
    "grupo = df10.loc[df10.Grupo == 4]\n",
    "grupo.shape"
   ]
  },
  {
   "cell_type": "markdown",
   "metadata": {
    "id": "fGeOjJIGSxje",
    "jp-MarkdownHeadingCollapsed": true
   },
   "source": [
    "## **K-PROTOTYPES**"
   ]
  },
  {
   "cell_type": "markdown",
   "metadata": {
    "id": "UBbMlcUNGjUP"
   },
   "source": [
    "Algoritmo para agrupamento de dados mistos (categóricos e numéricos). Documentação: https://pypi.org/project/kmodes/\n",
    "\n",
    "---\n",
    "\n"
   ]
  },
  {
   "cell_type": "code",
   "execution_count": null,
   "metadata": {
    "id": "kefbt73fSxGE"
   },
   "outputs": [],
   "source": [
    "df.head()"
   ]
  },
  {
   "cell_type": "code",
   "execution_count": null,
   "metadata": {
    "id": "4SWG0tCsJ5Jh"
   },
   "outputs": [],
   "source": [
    "dados= df[['genero','idade','rendimento', 'pontuacao']]\n",
    "dados"
   ]
  },
  {
   "cell_type": "code",
   "execution_count": null,
   "metadata": {
    "id": "YGYHy400LzIH"
   },
   "outputs": [],
   "source": [
    "pip install kmodes"
   ]
  },
  {
   "cell_type": "code",
   "execution_count": null,
   "metadata": {
    "id": "DiyH4dGmLfJ_"
   },
   "outputs": [],
   "source": [
    "from kmodes.kprototypes import KPrototypes"
   ]
  },
  {
   "cell_type": "code",
   "execution_count": null,
   "metadata": {
    "id": "R4oFBnxzLflo"
   },
   "outputs": [],
   "source": [
    "kproto = KPrototypes(n_clusters= 4)"
   ]
  },
  {
   "cell_type": "code",
   "execution_count": null,
   "metadata": {
    "id": "NhX1qZ2ZLiO1"
   },
   "outputs": [],
   "source": [
    "kproto1 = kproto.fit_predict(dados, categorical=[0])"
   ]
  },
  {
   "cell_type": "code",
   "execution_count": null,
   "metadata": {
    "id": "JGlMf6SrTT8k"
   },
   "outputs": [],
   "source": [
    "kproto1"
   ]
  },
  {
   "cell_type": "code",
   "execution_count": null,
   "metadata": {
    "id": "z0-pxdsuThGJ"
   },
   "outputs": [],
   "source": [
    "kproto1[4]"
   ]
  },
  {
   "cell_type": "code",
   "execution_count": null,
   "metadata": {
    "id": "9mUIs-UoTlMZ"
   },
   "outputs": [],
   "source": [
    "agrupamento = pd.DataFrame(kproto1, columns = ['grupo'])\n",
    "agrupamento"
   ]
  },
  {
   "cell_type": "code",
   "execution_count": null,
   "metadata": {
    "id": "RL-zBm4TT0VI"
   },
   "outputs": [],
   "source": [
    "df_final = pd.concat([df, agrupamento],axis=1)"
   ]
  },
  {
   "cell_type": "code",
   "execution_count": null,
   "metadata": {
    "id": "aqVV-4uKUnj-"
   },
   "outputs": [],
   "source": [
    "df_final.head()"
   ]
  },
  {
   "cell_type": "code",
   "execution_count": null,
   "metadata": {
    "id": "5LlRuMO1U0SN"
   },
   "outputs": [],
   "source": [
    "df_final.iloc[132 , :]"
   ]
  },
  {
   "cell_type": "code",
   "execution_count": null,
   "metadata": {
    "id": "0yaEJ1TOU95g"
   },
   "outputs": [],
   "source": [
    "grupo = df_final.loc[df_final.grupo ==3]\n",
    "grupo.head()"
   ]
  },
  {
   "cell_type": "code",
   "execution_count": null,
   "metadata": {
    "id": "tdBpUTehVHV-"
   },
   "outputs": [],
   "source": [
    "grupo.shape"
   ]
  },
  {
   "cell_type": "markdown",
   "metadata": {
    "id": "8TSQqqrQpEdy",
    "jp-MarkdownHeadingCollapsed": true
   },
   "source": [
    "## **K-MODES**"
   ]
  },
  {
   "cell_type": "markdown",
   "metadata": {
    "id": "Sy2s_M1dV8do"
   },
   "source": [
    "Algoritmo para agrupamento de dados categóricos. Documentação: https://pypi.org/project/kmodes/"
   ]
  },
  {
   "cell_type": "markdown",
   "metadata": {
    "id": "qAXAdeG5q7AB"
   },
   "source": [
    "https://www.kaggle.com/datasets/yukeshmarudhasalam/bankmarketing"
   ]
  },
  {
   "cell_type": "code",
   "execution_count": null,
   "metadata": {
    "id": "J1pA-Oi7a8a3"
   },
   "outputs": [],
   "source": [
    "import numpy as np\n",
    "import pandas as pd"
   ]
  },
  {
   "cell_type": "code",
   "execution_count": null,
   "metadata": {
    "id": "9-FCwLH-a8a5"
   },
   "outputs": [],
   "source": [
    "import warnings\n",
    "warnings.filterwarnings(\"ignore\")"
   ]
  },
  {
   "cell_type": "code",
   "execution_count": null,
   "metadata": {
    "id": "GOnQ1ousa8a6"
   },
   "outputs": [],
   "source": [
    "df = pd.read_csv('/content/drive/MyDrive/Cursos_Udemy/Machine_Learning_com_Python/bankmarketing.csv',\n",
    "                    sep=',', encoding='iso-8859-1')"
   ]
  },
  {
   "cell_type": "code",
   "execution_count": null,
   "metadata": {
    "id": "HnPB-u58bKmk"
   },
   "outputs": [],
   "source": [
    "df.head()"
   ]
  },
  {
   "cell_type": "code",
   "execution_count": null,
   "metadata": {
    "id": "k5LBxaOV_zBy"
   },
   "outputs": [],
   "source": [
    "df.shape"
   ]
  },
  {
   "cell_type": "code",
   "execution_count": null,
   "metadata": {
    "id": "DboPtFlObrBO"
   },
   "outputs": [],
   "source": [
    "df.columns"
   ]
  },
  {
   "cell_type": "code",
   "execution_count": null,
   "metadata": {
    "id": "AWzzpMm6NXLC"
   },
   "outputs": [],
   "source": [
    "df.dtypes"
   ]
  },
  {
   "cell_type": "markdown",
   "metadata": {
    "id": "xTyyVFdg331C"
   },
   "source": [
    "**Variáveis**\n",
    "\n",
    "**age** : idade (numérica)\n",
    "\n",
    "**job** : tipo de trabalho (categorias: 'admin.','blue-collar','entrepreneur(empreendedor)','housemaid','management (gestão)','retired (aposentado)','self-employed (autônomo)','services','student','technician','unemployed (desempregado)','unknown')\n",
    "\n",
    "**marital** : estado civil (categorias: 'divorced','married','single','unknown'; obs.: 'divorced' significa divorciado ou viúvo (a))\n",
    "\n",
    "**education**: nível escolar (categorias: 'basic.4y','basic.6y','basic.9y','high.school','illiterate','professional.course','university.degree','unknown')\n",
    "\n",
    "**default**: inadimplência (categorias: 'no','yes','unknown')\n",
    "\n",
    "**housing**: crédito de habitação (categorias: 'no','yes','unknown')\n",
    "\n",
    "**loan**: empréstimo pessoal (categorias: 'no','yes','unknown')\n",
    "\n",
    "**contact**: contato (categorias: 'cellular','telephone')\n",
    "\n",
    "**month**: último mês de contato (categorias: 'jan', 'feb', 'mar', 'april', 'may', 'jun', 'jul', 'aug', 'sep', 'oct', 'nov', 'dec')\n",
    "\n",
    "**day_of_week**: último dia de contato (categorical: 'mon','tue','wed','thu','fri')\n",
    "\n",
    "**poutcome:** resultado do marketing anterior (categorical: 'failure','nonexistent','success')"
   ]
  },
  {
   "cell_type": "code",
   "execution_count": null,
   "metadata": {
    "id": "zbRGgfSEuyJk"
   },
   "outputs": [],
   "source": [
    "df2 = df[['age','job', 'marital', 'education', 'default', 'housing', 'loan','contact','month','day_of_week','poutcome']]\n",
    "df2"
   ]
  },
  {
   "cell_type": "code",
   "execution_count": null,
   "metadata": {
    "id": "qnt_hkYtMz3q"
   },
   "outputs": [],
   "source": [
    "df3 = df2.copy()"
   ]
  },
  {
   "cell_type": "code",
   "execution_count": null,
   "metadata": {
    "id": "tqs_KhtR8dlo"
   },
   "outputs": [],
   "source": [
    "df3['faixa_idade'] = pd.cut(df3['age'], [0, 20, 30, 40, 50, 60, 70, 80, 90, 100],\n",
    "                              labels=['0-20', '20-30', '30-40', '40-50','50-60','60-70','70-80', '80-90','90-100'])"
   ]
  },
  {
   "cell_type": "code",
   "execution_count": null,
   "metadata": {
    "id": "bMn8x7L5Z6Eo"
   },
   "outputs": [],
   "source": [
    "df3  = df3.drop('age',axis = 1)"
   ]
  },
  {
   "cell_type": "code",
   "execution_count": null,
   "metadata": {
    "id": "qw4PTh0181Po"
   },
   "outputs": [],
   "source": [
    "df3.head(30)"
   ]
  },
  {
   "cell_type": "code",
   "execution_count": null,
   "metadata": {
    "id": "h_FW5rhnAQjO"
   },
   "outputs": [],
   "source": [
    "df3.dtypes"
   ]
  },
  {
   "cell_type": "code",
   "execution_count": null,
   "metadata": {
    "id": "wYWAljo_9Czm"
   },
   "outputs": [],
   "source": [
    "df3.isnull().sum()"
   ]
  },
  {
   "cell_type": "markdown",
   "metadata": {
    "id": "FSJ5rQv9TvoI"
   },
   "source": [
    "### **Pré-processamento**"
   ]
  },
  {
   "cell_type": "markdown",
   "metadata": {
    "id": "3SQ7ZdUbcymf"
   },
   "source": [
    "**Transformação para codificação numérica**"
   ]
  },
  {
   "cell_type": "code",
   "execution_count": null,
   "metadata": {
    "id": "XAmAjHTuBB_6"
   },
   "outputs": [],
   "source": [
    "from sklearn import preprocessing\n",
    "df4 = df3.apply(preprocessing.LabelEncoder().fit_transform)\n",
    "df4.head()"
   ]
  },
  {
   "cell_type": "markdown",
   "metadata": {
    "id": "h2OyYFATUG7N"
   },
   "source": [
    "### **Instalação**"
   ]
  },
  {
   "cell_type": "code",
   "execution_count": null,
   "metadata": {
    "id": "Pk8tlQVRCMOH"
   },
   "outputs": [],
   "source": [
    "pip install kmodes"
   ]
  },
  {
   "cell_type": "code",
   "execution_count": null,
   "metadata": {
    "id": "yeOlBx-aBd6O"
   },
   "outputs": [],
   "source": [
    "from kmodes.kmodes import KModes"
   ]
  },
  {
   "cell_type": "code",
   "execution_count": null,
   "metadata": {
    "id": "UWxY3oj1CR4W"
   },
   "outputs": [],
   "source": [
    "?KModes"
   ]
  },
  {
   "cell_type": "markdown",
   "metadata": {
    "id": "RQOPPeKZE6YV"
   },
   "source": [
    "### **NÚMERO DE CLUSTERS \"IDEAL\"**"
   ]
  },
  {
   "cell_type": "code",
   "execution_count": null,
   "metadata": {
    "id": "v7iQvSCOE6YW"
   },
   "outputs": [],
   "source": [
    "custo = []\n",
    "for num_clusters in list(range(1,10)):\n",
    "    kmode = KModes(n_clusters=num_clusters, n_init = 2, verbose=1)\n",
    "    kmode.fit_predict(df4)\n",
    "    custo.append(kmode.cost_)"
   ]
  },
  {
   "cell_type": "code",
   "execution_count": null,
   "metadata": {
    "id": "XnmghpALGTRm"
   },
   "outputs": [],
   "source": [
    "import matplotlib.pyplot as plt\n",
    "y = np.array([i for i in range(1,10,1)])\n",
    "plt.plot(y,custo);"
   ]
  },
  {
   "cell_type": "code",
   "execution_count": null,
   "metadata": {
    "id": "n0gRmgGdHuwD"
   },
   "outputs": [],
   "source": [
    "kmd = KModes(n_clusters=4, verbose=1)\n",
    "kmd1 = kmd.fit_predict(df4)"
   ]
  },
  {
   "cell_type": "code",
   "execution_count": null,
   "metadata": {
    "id": "VX0Pc7uzIln4"
   },
   "outputs": [],
   "source": [
    "kmd1"
   ]
  },
  {
   "cell_type": "code",
   "execution_count": null,
   "metadata": {
    "id": "LDwHiC5vJ0B-"
   },
   "outputs": [],
   "source": [
    "kmd1[40000]"
   ]
  },
  {
   "cell_type": "code",
   "execution_count": null,
   "metadata": {
    "id": "70tQ6RjpKz7B"
   },
   "outputs": [],
   "source": [
    "agrupamento = pd.DataFrame(kmd1, columns = ['grupo'])\n",
    "agrupamento"
   ]
  },
  {
   "cell_type": "code",
   "execution_count": null,
   "metadata": {
    "id": "aGr_5uBuKz7D"
   },
   "outputs": [],
   "source": [
    "df5 = pd.concat([df2, agrupamento],axis=1)"
   ]
  },
  {
   "cell_type": "code",
   "execution_count": null,
   "metadata": {
    "id": "XvtJ--8yLLal"
   },
   "outputs": [],
   "source": [
    "df5.head()"
   ]
  },
  {
   "cell_type": "code",
   "execution_count": null,
   "metadata": {
    "id": "dh1lJ4UvKz7D"
   },
   "outputs": [],
   "source": [
    "df5.iloc[33284 , :]"
   ]
  },
  {
   "cell_type": "code",
   "execution_count": null,
   "metadata": {
    "id": "Vy8u1CuRJp0R"
   },
   "outputs": [],
   "source": [
    "grupo = df5.loc[df5.grupo == 3]\n",
    "grupo.head()"
   ]
  },
  {
   "cell_type": "code",
   "execution_count": null,
   "metadata": {
    "id": "fV8_czHTO2RP"
   },
   "outputs": [],
   "source": [
    "grupo.shape"
   ]
  },
  {
   "cell_type": "code",
   "execution_count": null,
   "metadata": {
    "id": "OYv6qLsLQBQd"
   },
   "outputs": [],
   "source": [
    "import matplotlib.pyplot as plt\n",
    "import seaborn as sns"
   ]
  },
  {
   "cell_type": "code",
   "execution_count": null,
   "metadata": {
    "id": "ZkDyiCc_P3od"
   },
   "outputs": [],
   "source": [
    "plt.subplots(figsize = (15,5))\n",
    "sns.countplot(x=df5['job'], order=df5['job'].value_counts().index, hue=df5['grupo'])\n",
    "plt.show()"
   ]
  },
  {
   "cell_type": "markdown",
   "metadata": {
    "id": "jJbmIvWtqVFM",
    "jp-MarkdownHeadingCollapsed": true
   },
   "source": [
    "## **DESAFIO 5**"
   ]
  },
  {
   "cell_type": "markdown",
   "metadata": {
    "id": "93TC2-XbSpjX"
   },
   "source": [
    "DESENVOLVER E SELECIONAR O MELHOR ALGORITMO DE MACHINE LEARNING DE AGRUPAMENTO PARA O DATASET DO LINK A SEGUIR:"
   ]
  },
  {
   "cell_type": "markdown",
   "metadata": {
    "id": "kYjMQob4qTfq"
   },
   "source": [
    "https://www.kaggle.com/harrywang/wine-dataset-for-clustering"
   ]
  }
 ],
 "metadata": {
  "colab": {
   "provenance": []
  },
  "kernelspec": {
   "display_name": "Python 3 (ipykernel)",
   "language": "python",
   "name": "python3"
  },
  "language_info": {
   "codemirror_mode": {
    "name": "ipython",
    "version": 3
   },
   "file_extension": ".py",
   "mimetype": "text/x-python",
   "name": "python",
   "nbconvert_exporter": "python",
   "pygments_lexer": "ipython3",
   "version": "3.12.2"
  }
 },
 "nbformat": 4,
 "nbformat_minor": 4
}
