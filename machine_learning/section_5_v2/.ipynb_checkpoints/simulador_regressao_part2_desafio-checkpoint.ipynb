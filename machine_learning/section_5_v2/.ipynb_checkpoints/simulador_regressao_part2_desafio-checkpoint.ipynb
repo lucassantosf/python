{
 "cells": [
  {
   "cell_type": "markdown",
   "metadata": {
    "id": "fQJ5CYV9Te0X"
   },
   "source": [
    "# **PrevSeguro**"
   ]
  },
  {
   "cell_type": "markdown",
   "metadata": {
    "id": "kXFCCsVHTtTP"
   },
   "source": [
    "Este algoritmo realiza a previsão de valores de seguro médico com base em alguns fatores como idade, IMC e número de dependentes do plano. "
   ]
  },
  {
   "cell_type": "markdown",
   "metadata": {
    "id": "zF4ZZ2IaMarJ"
   },
   "source": [
    "**Abertura dos atributos previsores e alvo**"
   ]
  },
  {
   "cell_type": "code",
   "execution_count": 1,
   "metadata": {
    "id": "WB8AihEHE-SO"
   },
   "outputs": [],
   "source": [
    "import pandas as pd\n",
    "import numpy as np"
   ]
  },
  {
   "cell_type": "code",
   "execution_count": 2,
   "metadata": {
    "id": "OgOCU0-ZE5JW"
   },
   "outputs": [],
   "source": [
    "independente = pd.read_csv('independente_desafio.csv',header=None)"
   ]
  },
  {
   "cell_type": "code",
   "execution_count": 3,
   "metadata": {
    "id": "OT_O9kmLiC3r",
    "scrolled": true
   },
   "outputs": [
    {
     "data": {
      "text/html": [
       "<div>\n",
       "<style scoped>\n",
       "    .dataframe tbody tr th:only-of-type {\n",
       "        vertical-align: middle;\n",
       "    }\n",
       "\n",
       "    .dataframe tbody tr th {\n",
       "        vertical-align: top;\n",
       "    }\n",
       "\n",
       "    .dataframe thead th {\n",
       "        text-align: right;\n",
       "    }\n",
       "</style>\n",
       "<table border=\"1\" class=\"dataframe\">\n",
       "  <thead>\n",
       "    <tr style=\"text-align: right;\">\n",
       "      <th></th>\n",
       "      <th>0</th>\n",
       "      <th>1</th>\n",
       "      <th>2</th>\n",
       "    </tr>\n",
       "  </thead>\n",
       "  <tbody>\n",
       "    <tr>\n",
       "      <th>0</th>\n",
       "      <td>19.0</td>\n",
       "      <td>27.900</td>\n",
       "      <td>0.0</td>\n",
       "    </tr>\n",
       "    <tr>\n",
       "      <th>1</th>\n",
       "      <td>18.0</td>\n",
       "      <td>33.770</td>\n",
       "      <td>1.0</td>\n",
       "    </tr>\n",
       "    <tr>\n",
       "      <th>2</th>\n",
       "      <td>28.0</td>\n",
       "      <td>33.000</td>\n",
       "      <td>3.0</td>\n",
       "    </tr>\n",
       "    <tr>\n",
       "      <th>3</th>\n",
       "      <td>33.0</td>\n",
       "      <td>22.705</td>\n",
       "      <td>0.0</td>\n",
       "    </tr>\n",
       "    <tr>\n",
       "      <th>4</th>\n",
       "      <td>32.0</td>\n",
       "      <td>28.880</td>\n",
       "      <td>0.0</td>\n",
       "    </tr>\n",
       "    <tr>\n",
       "      <th>...</th>\n",
       "      <td>...</td>\n",
       "      <td>...</td>\n",
       "      <td>...</td>\n",
       "    </tr>\n",
       "    <tr>\n",
       "      <th>1333</th>\n",
       "      <td>50.0</td>\n",
       "      <td>30.970</td>\n",
       "      <td>3.0</td>\n",
       "    </tr>\n",
       "    <tr>\n",
       "      <th>1334</th>\n",
       "      <td>18.0</td>\n",
       "      <td>31.920</td>\n",
       "      <td>0.0</td>\n",
       "    </tr>\n",
       "    <tr>\n",
       "      <th>1335</th>\n",
       "      <td>18.0</td>\n",
       "      <td>36.850</td>\n",
       "      <td>0.0</td>\n",
       "    </tr>\n",
       "    <tr>\n",
       "      <th>1336</th>\n",
       "      <td>21.0</td>\n",
       "      <td>25.800</td>\n",
       "      <td>0.0</td>\n",
       "    </tr>\n",
       "    <tr>\n",
       "      <th>1337</th>\n",
       "      <td>61.0</td>\n",
       "      <td>29.070</td>\n",
       "      <td>0.0</td>\n",
       "    </tr>\n",
       "  </tbody>\n",
       "</table>\n",
       "<p>1338 rows × 3 columns</p>\n",
       "</div>"
      ],
      "text/plain": [
       "         0       1    2\n",
       "0     19.0  27.900  0.0\n",
       "1     18.0  33.770  1.0\n",
       "2     28.0  33.000  3.0\n",
       "3     33.0  22.705  0.0\n",
       "4     32.0  28.880  0.0\n",
       "...    ...     ...  ...\n",
       "1333  50.0  30.970  3.0\n",
       "1334  18.0  31.920  0.0\n",
       "1335  18.0  36.850  0.0\n",
       "1336  21.0  25.800  0.0\n",
       "1337  61.0  29.070  0.0\n",
       "\n",
       "[1338 rows x 3 columns]"
      ]
     },
     "execution_count": 3,
     "metadata": {},
     "output_type": "execute_result"
    }
   ],
   "source": [
    "independente"
   ]
  },
  {
   "cell_type": "code",
   "execution_count": 4,
   "metadata": {
    "id": "98RdIzv6GAdC"
   },
   "outputs": [],
   "source": [
    "independente = independente.values"
   ]
  },
  {
   "cell_type": "code",
   "execution_count": 5,
   "metadata": {
    "id": "tu5Mpu8gG3Bw"
   },
   "outputs": [],
   "source": [
    "dependente = pd.read_csv('dependente_desafio.csv',header=None)"
   ]
  },
  {
   "cell_type": "code",
   "execution_count": 6,
   "metadata": {
    "id": "U2HIYfy4G63G"
   },
   "outputs": [
    {
     "data": {
      "text/html": [
       "<div>\n",
       "<style scoped>\n",
       "    .dataframe tbody tr th:only-of-type {\n",
       "        vertical-align: middle;\n",
       "    }\n",
       "\n",
       "    .dataframe tbody tr th {\n",
       "        vertical-align: top;\n",
       "    }\n",
       "\n",
       "    .dataframe thead th {\n",
       "        text-align: right;\n",
       "    }\n",
       "</style>\n",
       "<table border=\"1\" class=\"dataframe\">\n",
       "  <thead>\n",
       "    <tr style=\"text-align: right;\">\n",
       "      <th></th>\n",
       "      <th>0</th>\n",
       "    </tr>\n",
       "  </thead>\n",
       "  <tbody>\n",
       "    <tr>\n",
       "      <th>0</th>\n",
       "      <td>16884.92400</td>\n",
       "    </tr>\n",
       "    <tr>\n",
       "      <th>1</th>\n",
       "      <td>1725.55230</td>\n",
       "    </tr>\n",
       "    <tr>\n",
       "      <th>2</th>\n",
       "      <td>4449.46200</td>\n",
       "    </tr>\n",
       "    <tr>\n",
       "      <th>3</th>\n",
       "      <td>21984.47061</td>\n",
       "    </tr>\n",
       "    <tr>\n",
       "      <th>4</th>\n",
       "      <td>3866.85520</td>\n",
       "    </tr>\n",
       "    <tr>\n",
       "      <th>...</th>\n",
       "      <td>...</td>\n",
       "    </tr>\n",
       "    <tr>\n",
       "      <th>1333</th>\n",
       "      <td>10600.54830</td>\n",
       "    </tr>\n",
       "    <tr>\n",
       "      <th>1334</th>\n",
       "      <td>2205.98080</td>\n",
       "    </tr>\n",
       "    <tr>\n",
       "      <th>1335</th>\n",
       "      <td>1629.83350</td>\n",
       "    </tr>\n",
       "    <tr>\n",
       "      <th>1336</th>\n",
       "      <td>2007.94500</td>\n",
       "    </tr>\n",
       "    <tr>\n",
       "      <th>1337</th>\n",
       "      <td>29141.36030</td>\n",
       "    </tr>\n",
       "  </tbody>\n",
       "</table>\n",
       "<p>1338 rows × 1 columns</p>\n",
       "</div>"
      ],
      "text/plain": [
       "                0\n",
       "0     16884.92400\n",
       "1      1725.55230\n",
       "2      4449.46200\n",
       "3     21984.47061\n",
       "4      3866.85520\n",
       "...           ...\n",
       "1333  10600.54830\n",
       "1334   2205.98080\n",
       "1335   1629.83350\n",
       "1336   2007.94500\n",
       "1337  29141.36030\n",
       "\n",
       "[1338 rows x 1 columns]"
      ]
     },
     "execution_count": 6,
     "metadata": {},
     "output_type": "execute_result"
    }
   ],
   "source": [
    "dependente"
   ]
  },
  {
   "cell_type": "code",
   "execution_count": 7,
   "metadata": {
    "id": "RT7WpC3XG9Dt"
   },
   "outputs": [],
   "source": [
    "dependente = dependente.iloc[:, 0].values"
   ]
  },
  {
   "cell_type": "markdown",
   "metadata": {
    "id": "jH3OocboSGXH"
   },
   "source": [
    "**Carregando o Regressor CASTBOOST**"
   ]
  },
  {
   "cell_type": "code",
   "execution_count": 8,
   "metadata": {
    "colab": {
     "base_uri": "https://localhost:8080/"
    },
    "id": "bocaCQzKqK1v",
    "outputId": "8e94575d-5151-4b1a-8ed5-be3340ac4d17",
    "scrolled": true
   },
   "outputs": [
    {
     "name": "stdout",
     "output_type": "stream",
     "text": [
      "Requirement already satisfied: catboost in /home/lucas/anaconda3/lib/python3.12/site-packages (1.2.5)\n",
      "Requirement already satisfied: graphviz in /home/lucas/anaconda3/lib/python3.12/site-packages (from catboost) (0.20.3)\n",
      "Requirement already satisfied: matplotlib in /home/lucas/anaconda3/lib/python3.12/site-packages (from catboost) (3.8.4)\n",
      "Requirement already satisfied: numpy>=1.16.0 in /home/lucas/anaconda3/lib/python3.12/site-packages (from catboost) (1.26.4)\n",
      "Requirement already satisfied: pandas>=0.24 in /home/lucas/anaconda3/lib/python3.12/site-packages (from catboost) (2.2.2)\n",
      "Requirement already satisfied: scipy in /home/lucas/anaconda3/lib/python3.12/site-packages (from catboost) (1.13.1)\n",
      "Requirement already satisfied: plotly in /home/lucas/anaconda3/lib/python3.12/site-packages (from catboost) (5.22.0)\n",
      "Requirement already satisfied: six in /home/lucas/anaconda3/lib/python3.12/site-packages (from catboost) (1.16.0)\n",
      "Requirement already satisfied: python-dateutil>=2.8.2 in /home/lucas/anaconda3/lib/python3.12/site-packages (from pandas>=0.24->catboost) (2.9.0.post0)\n",
      "Requirement already satisfied: pytz>=2020.1 in /home/lucas/anaconda3/lib/python3.12/site-packages (from pandas>=0.24->catboost) (2024.1)\n",
      "Requirement already satisfied: tzdata>=2022.7 in /home/lucas/anaconda3/lib/python3.12/site-packages (from pandas>=0.24->catboost) (2023.3)\n",
      "Requirement already satisfied: contourpy>=1.0.1 in /home/lucas/anaconda3/lib/python3.12/site-packages (from matplotlib->catboost) (1.2.0)\n",
      "Requirement already satisfied: cycler>=0.10 in /home/lucas/anaconda3/lib/python3.12/site-packages (from matplotlib->catboost) (0.11.0)\n",
      "Requirement already satisfied: fonttools>=4.22.0 in /home/lucas/anaconda3/lib/python3.12/site-packages (from matplotlib->catboost) (4.51.0)\n",
      "Requirement already satisfied: kiwisolver>=1.3.1 in /home/lucas/anaconda3/lib/python3.12/site-packages (from matplotlib->catboost) (1.4.4)\n",
      "Requirement already satisfied: packaging>=20.0 in /home/lucas/anaconda3/lib/python3.12/site-packages (from matplotlib->catboost) (23.2)\n",
      "Requirement already satisfied: pillow>=8 in /home/lucas/anaconda3/lib/python3.12/site-packages (from matplotlib->catboost) (10.3.0)\n",
      "Requirement already satisfied: pyparsing>=2.3.1 in /home/lucas/anaconda3/lib/python3.12/site-packages (from matplotlib->catboost) (3.0.9)\n",
      "Requirement already satisfied: tenacity>=6.2.0 in /home/lucas/anaconda3/lib/python3.12/site-packages (from plotly->catboost) (8.2.2)\n"
     ]
    }
   ],
   "source": [
    "#Instalação\n",
    "!pip install catboost"
   ]
  },
  {
   "cell_type": "code",
   "execution_count": 10,
   "metadata": {},
   "outputs": [],
   "source": [
    "from catboost.core import CatBoostRegressor"
   ]
  },
  {
   "cell_type": "code",
   "execution_count": 12,
   "metadata": {
    "scrolled": true
   },
   "outputs": [
    {
     "name": "stdout",
     "output_type": "stream",
     "text": [
      "0:\tlearn: 11998.7208380\ttotal: 623us\tremaining: 49.3ms\n",
      "1:\tlearn: 11917.4782273\ttotal: 1.54ms\tremaining: 60.2ms\n",
      "2:\tlearn: 11847.0501457\ttotal: 2.29ms\tremaining: 58.8ms\n",
      "3:\tlearn: 11778.5207505\ttotal: 2.77ms\tremaining: 52.5ms\n",
      "4:\tlearn: 11719.8068335\ttotal: 3.24ms\tremaining: 48.7ms\n",
      "5:\tlearn: 11661.7309064\ttotal: 3.71ms\tremaining: 45.8ms\n",
      "6:\tlearn: 11613.0963951\ttotal: 4.18ms\tremaining: 43.6ms\n",
      "7:\tlearn: 11569.1493934\ttotal: 4.64ms\tremaining: 41.8ms\n",
      "8:\tlearn: 11518.2363361\ttotal: 5.09ms\tremaining: 40.1ms\n",
      "9:\tlearn: 11478.5923270\ttotal: 5.53ms\tremaining: 38.7ms\n",
      "10:\tlearn: 11436.1368031\ttotal: 6ms\tremaining: 37.6ms\n",
      "11:\tlearn: 11408.8073713\ttotal: 6.49ms\tremaining: 36.8ms\n",
      "12:\tlearn: 11386.6345603\ttotal: 6.94ms\tremaining: 35.8ms\n",
      "13:\tlearn: 11366.7462673\ttotal: 7.38ms\tremaining: 34.8ms\n",
      "14:\tlearn: 11346.2476669\ttotal: 7.82ms\tremaining: 33.9ms\n",
      "15:\tlearn: 11324.1047430\ttotal: 8.25ms\tremaining: 33ms\n",
      "16:\tlearn: 11308.7903783\ttotal: 8.7ms\tremaining: 32.3ms\n",
      "17:\tlearn: 11293.9426809\ttotal: 9.13ms\tremaining: 31.4ms\n",
      "18:\tlearn: 11276.9778789\ttotal: 9.56ms\tremaining: 30.7ms\n",
      "19:\tlearn: 11259.7982013\ttotal: 10ms\tremaining: 30ms\n",
      "20:\tlearn: 11248.7194896\ttotal: 10.5ms\tremaining: 29.4ms\n",
      "21:\tlearn: 11237.6472001\ttotal: 10.9ms\tremaining: 28.9ms\n",
      "22:\tlearn: 11225.8214685\ttotal: 11.4ms\tremaining: 28.4ms\n",
      "23:\tlearn: 11205.9983505\ttotal: 11.9ms\tremaining: 27.8ms\n",
      "24:\tlearn: 11191.5601405\ttotal: 12.4ms\tremaining: 27.2ms\n",
      "25:\tlearn: 11180.8570576\ttotal: 12.8ms\tremaining: 26.6ms\n",
      "26:\tlearn: 11167.5043429\ttotal: 13.3ms\tremaining: 26.1ms\n",
      "27:\tlearn: 11153.4810620\ttotal: 13.7ms\tremaining: 25.5ms\n",
      "28:\tlearn: 11144.0195896\ttotal: 14.2ms\tremaining: 25ms\n",
      "29:\tlearn: 11138.1878454\ttotal: 14.7ms\tremaining: 24.4ms\n",
      "30:\tlearn: 11126.5784431\ttotal: 15.2ms\tremaining: 24ms\n",
      "31:\tlearn: 11119.6040038\ttotal: 15.6ms\tremaining: 23.4ms\n",
      "32:\tlearn: 11115.7484327\ttotal: 16ms\tremaining: 22.8ms\n",
      "33:\tlearn: 11105.8526176\ttotal: 16.9ms\tremaining: 22.9ms\n",
      "34:\tlearn: 11099.8986572\ttotal: 17.4ms\tremaining: 22.4ms\n",
      "35:\tlearn: 11089.6120505\ttotal: 18ms\tremaining: 22.1ms\n",
      "36:\tlearn: 11083.0962147\ttotal: 19.2ms\tremaining: 22.3ms\n",
      "37:\tlearn: 11071.9497470\ttotal: 19.6ms\tremaining: 21.7ms\n",
      "38:\tlearn: 11065.8963147\ttotal: 20ms\tremaining: 21ms\n",
      "39:\tlearn: 11057.3495844\ttotal: 20.4ms\tremaining: 20.4ms\n",
      "40:\tlearn: 11051.6929808\ttotal: 20.7ms\tremaining: 19.7ms\n",
      "41:\tlearn: 11044.3226600\ttotal: 21.4ms\tremaining: 19.3ms\n",
      "42:\tlearn: 11035.3292830\ttotal: 21.9ms\tremaining: 18.9ms\n",
      "43:\tlearn: 11031.8068654\ttotal: 22.3ms\tremaining: 18.2ms\n",
      "44:\tlearn: 11027.5046746\ttotal: 23ms\tremaining: 17.9ms\n",
      "45:\tlearn: 11024.6639934\ttotal: 23.5ms\tremaining: 17.3ms\n",
      "46:\tlearn: 11020.6916902\ttotal: 23.8ms\tremaining: 16.7ms\n",
      "47:\tlearn: 11017.3609011\ttotal: 24.2ms\tremaining: 16.1ms\n",
      "48:\tlearn: 11011.7799804\ttotal: 24.5ms\tremaining: 15.5ms\n",
      "49:\tlearn: 11008.2566429\ttotal: 24.9ms\tremaining: 14.9ms\n",
      "50:\tlearn: 11006.0106880\ttotal: 25.2ms\tremaining: 14.3ms\n",
      "51:\tlearn: 11002.4386239\ttotal: 25.6ms\tremaining: 13.8ms\n",
      "52:\tlearn: 10999.8601594\ttotal: 25.9ms\tremaining: 13.2ms\n",
      "53:\tlearn: 10996.8974120\ttotal: 26.2ms\tremaining: 12.6ms\n",
      "54:\tlearn: 10989.3651756\ttotal: 26.5ms\tremaining: 12.1ms\n",
      "55:\tlearn: 10987.3584191\ttotal: 26.9ms\tremaining: 11.5ms\n",
      "56:\tlearn: 10980.9366015\ttotal: 27.2ms\tremaining: 11ms\n",
      "57:\tlearn: 10975.2631193\ttotal: 27.6ms\tremaining: 10.5ms\n",
      "58:\tlearn: 10969.9258226\ttotal: 28ms\tremaining: 9.95ms\n",
      "59:\tlearn: 10966.2114666\ttotal: 28.3ms\tremaining: 9.44ms\n",
      "60:\tlearn: 10957.7837177\ttotal: 28.6ms\tremaining: 8.92ms\n",
      "61:\tlearn: 10950.7729973\ttotal: 29ms\tremaining: 8.42ms\n",
      "62:\tlearn: 10946.3103807\ttotal: 29.4ms\tremaining: 7.93ms\n",
      "63:\tlearn: 10944.5276240\ttotal: 29.8ms\tremaining: 7.46ms\n",
      "64:\tlearn: 10929.7565201\ttotal: 30.2ms\tremaining: 6.97ms\n",
      "65:\tlearn: 10922.8719168\ttotal: 30.6ms\tremaining: 6.49ms\n",
      "66:\tlearn: 10919.7564097\ttotal: 30.9ms\tremaining: 6ms\n",
      "67:\tlearn: 10917.5425883\ttotal: 31.3ms\tremaining: 5.53ms\n",
      "68:\tlearn: 10912.0763546\ttotal: 31.7ms\tremaining: 5.05ms\n",
      "69:\tlearn: 10906.8780541\ttotal: 32ms\tremaining: 4.57ms\n",
      "70:\tlearn: 10896.3118984\ttotal: 32.4ms\tremaining: 4.1ms\n",
      "71:\tlearn: 10890.1817128\ttotal: 32.7ms\tremaining: 3.63ms\n",
      "72:\tlearn: 10886.1067737\ttotal: 33.1ms\tremaining: 3.17ms\n",
      "73:\tlearn: 10880.9229581\ttotal: 33.4ms\tremaining: 2.71ms\n",
      "74:\tlearn: 10877.9328966\ttotal: 33.8ms\tremaining: 2.25ms\n",
      "75:\tlearn: 10873.2607872\ttotal: 34.2ms\tremaining: 1.8ms\n",
      "76:\tlearn: 10858.7743095\ttotal: 34.6ms\tremaining: 1.35ms\n",
      "77:\tlearn: 10850.3105989\ttotal: 34.9ms\tremaining: 896us\n",
      "78:\tlearn: 10845.6615841\ttotal: 35.3ms\tremaining: 446us\n",
      "79:\tlearn: 10840.4629725\ttotal: 35.6ms\tremaining: 0us\n"
     ]
    },
    {
     "data": {
      "text/plain": [
       "<catboost.core.CatBoostRegressor at 0x7768b40e6900>"
      ]
     },
     "execution_count": 12,
     "metadata": {},
     "output_type": "execute_result"
    }
   ],
   "source": [
    "catboost = CatBoostRegressor (iterations=80, learning_rate=0.07, depth = 5, random_state = 10)\n",
    "catboost.fit(independente, dependente)"
   ]
  },
  {
   "cell_type": "markdown",
   "metadata": {
    "id": "NGzVZVzkMzqv"
   },
   "source": [
    "**Previsão dos valores dos planos**"
   ]
  },
  {
   "cell_type": "code",
   "execution_count": 13,
   "metadata": {
    "colab": {
     "base_uri": "https://localhost:8080/"
    },
    "id": "VZE8pMdgsoTY",
    "outputId": "9ee8a106-afb1-4f34-af1a-2e044ca92524"
   },
   "outputs": [
    {
     "name": "stdin",
     "output_type": "stream",
     "text": [
      "Qual sua idade? 35\n"
     ]
    }
   ],
   "source": [
    "age = input ('Qual sua idade?')"
   ]
  },
  {
   "cell_type": "code",
   "execution_count": 14,
   "metadata": {
    "colab": {
     "base_uri": "https://localhost:8080/"
    },
    "id": "cBBtuF5Tsta8",
    "outputId": "914447b4-eed1-47a3-923a-6f15b7b9ebff"
   },
   "outputs": [
    {
     "name": "stdin",
     "output_type": "stream",
     "text": [
      "Qual seu indice de massa corpórea IMC ? 27\n"
     ]
    }
   ],
   "source": [
    "bmi = input ('Qual seu indice de massa corpórea IMC ?')"
   ]
  },
  {
   "cell_type": "code",
   "execution_count": 15,
   "metadata": {
    "colab": {
     "base_uri": "https://localhost:8080/"
    },
    "id": "Os6PnLoMs34b",
    "outputId": "8e6c0142-cae7-4be3-cce2-63d790e9ffee"
   },
   "outputs": [
    {
     "name": "stdin",
     "output_type": "stream",
     "text": [
      "Qual o numero de dependentes? 3\n"
     ]
    }
   ],
   "source": [
    "children = input ('Qual o numero de dependentes?')"
   ]
  },
  {
   "cell_type": "code",
   "execution_count": 16,
   "metadata": {
    "colab": {
     "base_uri": "https://localhost:8080/"
    },
    "id": "anLpFG7CsIRB",
    "outputId": "6388ddc6-9249-4b4e-d506-76679087c256"
   },
   "outputs": [
    {
     "name": "stdout",
     "output_type": "stream",
     "text": [
      "O valor do plano de saúde é US$ 10165.65\n"
     ]
    }
   ],
   "source": [
    "# Fazendo previsões para valores distintos\n",
    "informacoes = [age,bmi,children]\n",
    "valor_seguro = catboost.predict([informacoes])\n",
    "print(\"O valor do plano de saúde é US$ {:.2f}\".format(valor_seguro[0]))"
   ]
  }
 ],
 "metadata": {
  "colab": {
   "name": "simulador_regressao.ipynb",
   "provenance": []
  },
  "kernelspec": {
   "display_name": "Python 3 (ipykernel)",
   "language": "python",
   "name": "python3"
  },
  "language_info": {
   "codemirror_mode": {
    "name": "ipython",
    "version": 3
   },
   "file_extension": ".py",
   "mimetype": "text/x-python",
   "name": "python",
   "nbconvert_exporter": "python",
   "pygments_lexer": "ipython3",
   "version": "3.12.2"
  }
 },
 "nbformat": 4,
 "nbformat_minor": 4
}
