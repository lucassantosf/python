{
 "cells": [
  {
   "cell_type": "markdown",
   "id": "20260448-035d-48fc-9885-9a193618997a",
   "metadata": {},
   "source": [
    "# Multiplas Saídas - Base Video Game\n",
    "\n",
    "Base de dados: https://www.kaggle.com/datasets/gregorut/videogamesales"
   ]
  },
  {
   "cell_type": "markdown",
   "id": "fca8a6f8-6934-4ec5-a5e0-69e6712ecd8b",
   "metadata": {
    "jp-MarkdownHeadingCollapsed": true
   },
   "source": [
    "## Importando bibliotecas"
   ]
  },
  {
   "cell_type": "code",
   "execution_count": 1,
   "id": "05620c33-b825-40f8-a826-37bf3247e69e",
   "metadata": {},
   "outputs": [],
   "source": [
    "!pip install -q tensorflow==2.16.1"
   ]
  },
  {
   "cell_type": "code",
   "execution_count": 2,
   "id": "b2ff8c43-140b-4a57-b058-1323ad05abb4",
   "metadata": {},
   "outputs": [],
   "source": [
    "# Importacao desta lib para desativar erro no TensorFlow\n",
    "import os\n",
    "os.environ[\"CUDA_VISIBLE_DEVICES\"] = \"-1\""
   ]
  },
  {
   "cell_type": "code",
   "execution_count": 3,
   "id": "f13e12a2-c92a-4c55-b220-2f810959c9be",
   "metadata": {},
   "outputs": [
    {
     "name": "stderr",
     "output_type": "stream",
     "text": [
      "2024-11-29 18:56:10.123628: I external/local_tsl/tsl/cuda/cudart_stub.cc:32] Could not find cuda drivers on your machine, GPU will not be used.\n",
      "2024-11-29 18:56:10.337163: I external/local_tsl/tsl/cuda/cudart_stub.cc:32] Could not find cuda drivers on your machine, GPU will not be used.\n",
      "2024-11-29 18:56:11.090072: I tensorflow/core/platform/cpu_feature_guard.cc:210] This TensorFlow binary is optimized to use available CPU instructions in performance-critical operations.\n",
      "To enable the following instructions: AVX2 FMA, in other operations, rebuild TensorFlow with the appropriate compiler flags.\n",
      "2024-11-29 18:56:13.067134: W tensorflow/compiler/tf2tensorrt/utils/py_utils.cc:38] TF-TRT Warning: Could not find TensorRT\n"
     ]
    }
   ],
   "source": [
    "import pandas as pd\n",
    "import tensorflow as tf\n",
    "import sklearn"
   ]
  },
  {
   "cell_type": "code",
   "execution_count": 4,
   "id": "38bc9b0d-ee01-4915-a83d-d68dfa01300b",
   "metadata": {},
   "outputs": [
    {
     "data": {
      "text/plain": [
       "('2.2.2', '2.16.1', '1.4.2')"
      ]
     },
     "execution_count": 4,
     "metadata": {},
     "output_type": "execute_result"
    }
   ],
   "source": [
    "pd.__version__,tf.__version__,sklearn.__version__"
   ]
  },
  {
   "cell_type": "code",
   "execution_count": 5,
   "id": "88690180-2231-48e3-8f16-5762141a8ffc",
   "metadata": {},
   "outputs": [],
   "source": [
    "from tensorflow.keras.models import Model\n",
    "from tensorflow.keras.layers import Dense, Dropout, Activation, Input\n",
    "from sklearn.preprocessing import OneHotEncoder\n",
    "from sklearn.compose import ColumnTransformer"
   ]
  },
  {
   "cell_type": "markdown",
   "id": "790a0dc6-d7e3-48cb-a101-eff6c08144cd",
   "metadata": {
    "jp-MarkdownHeadingCollapsed": true
   },
   "source": [
    "## Importando base de dados"
   ]
  },
  {
   "cell_type": "code",
   "execution_count": 6,
   "id": "38145284-60fd-474a-a4d8-e2759240ee60",
   "metadata": {},
   "outputs": [
    {
     "data": {
      "text/html": [
       "<div>\n",
       "<style scoped>\n",
       "    .dataframe tbody tr th:only-of-type {\n",
       "        vertical-align: middle;\n",
       "    }\n",
       "\n",
       "    .dataframe tbody tr th {\n",
       "        vertical-align: top;\n",
       "    }\n",
       "\n",
       "    .dataframe thead th {\n",
       "        text-align: right;\n",
       "    }\n",
       "</style>\n",
       "<table border=\"1\" class=\"dataframe\">\n",
       "  <thead>\n",
       "    <tr style=\"text-align: right;\">\n",
       "      <th></th>\n",
       "      <th>Rank</th>\n",
       "      <th>Name</th>\n",
       "      <th>Platform</th>\n",
       "      <th>Year</th>\n",
       "      <th>Genre</th>\n",
       "      <th>Publisher</th>\n",
       "      <th>NA_Sales</th>\n",
       "      <th>EU_Sales</th>\n",
       "      <th>JP_Sales</th>\n",
       "      <th>Other_Sales</th>\n",
       "      <th>Global_Sales</th>\n",
       "    </tr>\n",
       "  </thead>\n",
       "  <tbody>\n",
       "    <tr>\n",
       "      <th>0</th>\n",
       "      <td>1</td>\n",
       "      <td>Wii Sports</td>\n",
       "      <td>Wii</td>\n",
       "      <td>2006.0</td>\n",
       "      <td>Sports</td>\n",
       "      <td>Nintendo</td>\n",
       "      <td>41.49</td>\n",
       "      <td>29.02</td>\n",
       "      <td>3.77</td>\n",
       "      <td>8.46</td>\n",
       "      <td>82.74</td>\n",
       "    </tr>\n",
       "    <tr>\n",
       "      <th>1</th>\n",
       "      <td>2</td>\n",
       "      <td>Super Mario Bros.</td>\n",
       "      <td>NES</td>\n",
       "      <td>1985.0</td>\n",
       "      <td>Platform</td>\n",
       "      <td>Nintendo</td>\n",
       "      <td>29.08</td>\n",
       "      <td>3.58</td>\n",
       "      <td>6.81</td>\n",
       "      <td>0.77</td>\n",
       "      <td>40.24</td>\n",
       "    </tr>\n",
       "    <tr>\n",
       "      <th>2</th>\n",
       "      <td>3</td>\n",
       "      <td>Mario Kart Wii</td>\n",
       "      <td>Wii</td>\n",
       "      <td>2008.0</td>\n",
       "      <td>Racing</td>\n",
       "      <td>Nintendo</td>\n",
       "      <td>15.85</td>\n",
       "      <td>12.88</td>\n",
       "      <td>3.79</td>\n",
       "      <td>3.31</td>\n",
       "      <td>35.82</td>\n",
       "    </tr>\n",
       "    <tr>\n",
       "      <th>3</th>\n",
       "      <td>4</td>\n",
       "      <td>Wii Sports Resort</td>\n",
       "      <td>Wii</td>\n",
       "      <td>2009.0</td>\n",
       "      <td>Sports</td>\n",
       "      <td>Nintendo</td>\n",
       "      <td>15.75</td>\n",
       "      <td>11.01</td>\n",
       "      <td>3.28</td>\n",
       "      <td>2.96</td>\n",
       "      <td>33.00</td>\n",
       "    </tr>\n",
       "    <tr>\n",
       "      <th>4</th>\n",
       "      <td>5</td>\n",
       "      <td>Pokemon Red/Pokemon Blue</td>\n",
       "      <td>GB</td>\n",
       "      <td>1996.0</td>\n",
       "      <td>Role-Playing</td>\n",
       "      <td>Nintendo</td>\n",
       "      <td>11.27</td>\n",
       "      <td>8.89</td>\n",
       "      <td>10.22</td>\n",
       "      <td>1.00</td>\n",
       "      <td>31.37</td>\n",
       "    </tr>\n",
       "    <tr>\n",
       "      <th>...</th>\n",
       "      <td>...</td>\n",
       "      <td>...</td>\n",
       "      <td>...</td>\n",
       "      <td>...</td>\n",
       "      <td>...</td>\n",
       "      <td>...</td>\n",
       "      <td>...</td>\n",
       "      <td>...</td>\n",
       "      <td>...</td>\n",
       "      <td>...</td>\n",
       "      <td>...</td>\n",
       "    </tr>\n",
       "    <tr>\n",
       "      <th>16593</th>\n",
       "      <td>16596</td>\n",
       "      <td>Woody Woodpecker in Crazy Castle 5</td>\n",
       "      <td>GBA</td>\n",
       "      <td>2002.0</td>\n",
       "      <td>Platform</td>\n",
       "      <td>Kemco</td>\n",
       "      <td>0.01</td>\n",
       "      <td>0.00</td>\n",
       "      <td>0.00</td>\n",
       "      <td>0.00</td>\n",
       "      <td>0.01</td>\n",
       "    </tr>\n",
       "    <tr>\n",
       "      <th>16594</th>\n",
       "      <td>16597</td>\n",
       "      <td>Men in Black II: Alien Escape</td>\n",
       "      <td>GC</td>\n",
       "      <td>2003.0</td>\n",
       "      <td>Shooter</td>\n",
       "      <td>Infogrames</td>\n",
       "      <td>0.01</td>\n",
       "      <td>0.00</td>\n",
       "      <td>0.00</td>\n",
       "      <td>0.00</td>\n",
       "      <td>0.01</td>\n",
       "    </tr>\n",
       "    <tr>\n",
       "      <th>16595</th>\n",
       "      <td>16598</td>\n",
       "      <td>SCORE International Baja 1000: The Official Game</td>\n",
       "      <td>PS2</td>\n",
       "      <td>2008.0</td>\n",
       "      <td>Racing</td>\n",
       "      <td>Activision</td>\n",
       "      <td>0.00</td>\n",
       "      <td>0.00</td>\n",
       "      <td>0.00</td>\n",
       "      <td>0.00</td>\n",
       "      <td>0.01</td>\n",
       "    </tr>\n",
       "    <tr>\n",
       "      <th>16596</th>\n",
       "      <td>16599</td>\n",
       "      <td>Know How 2</td>\n",
       "      <td>DS</td>\n",
       "      <td>2010.0</td>\n",
       "      <td>Puzzle</td>\n",
       "      <td>7G//AMES</td>\n",
       "      <td>0.00</td>\n",
       "      <td>0.01</td>\n",
       "      <td>0.00</td>\n",
       "      <td>0.00</td>\n",
       "      <td>0.01</td>\n",
       "    </tr>\n",
       "    <tr>\n",
       "      <th>16597</th>\n",
       "      <td>16600</td>\n",
       "      <td>Spirits &amp; Spells</td>\n",
       "      <td>GBA</td>\n",
       "      <td>2003.0</td>\n",
       "      <td>Platform</td>\n",
       "      <td>Wanadoo</td>\n",
       "      <td>0.01</td>\n",
       "      <td>0.00</td>\n",
       "      <td>0.00</td>\n",
       "      <td>0.00</td>\n",
       "      <td>0.01</td>\n",
       "    </tr>\n",
       "  </tbody>\n",
       "</table>\n",
       "<p>16598 rows × 11 columns</p>\n",
       "</div>"
      ],
      "text/plain": [
       "        Rank                                              Name Platform  \\\n",
       "0          1                                        Wii Sports      Wii   \n",
       "1          2                                 Super Mario Bros.      NES   \n",
       "2          3                                    Mario Kart Wii      Wii   \n",
       "3          4                                 Wii Sports Resort      Wii   \n",
       "4          5                          Pokemon Red/Pokemon Blue       GB   \n",
       "...      ...                                               ...      ...   \n",
       "16593  16596                Woody Woodpecker in Crazy Castle 5      GBA   \n",
       "16594  16597                     Men in Black II: Alien Escape       GC   \n",
       "16595  16598  SCORE International Baja 1000: The Official Game      PS2   \n",
       "16596  16599                                        Know How 2       DS   \n",
       "16597  16600                                  Spirits & Spells      GBA   \n",
       "\n",
       "         Year         Genre   Publisher  NA_Sales  EU_Sales  JP_Sales  \\\n",
       "0      2006.0        Sports    Nintendo     41.49     29.02      3.77   \n",
       "1      1985.0      Platform    Nintendo     29.08      3.58      6.81   \n",
       "2      2008.0        Racing    Nintendo     15.85     12.88      3.79   \n",
       "3      2009.0        Sports    Nintendo     15.75     11.01      3.28   \n",
       "4      1996.0  Role-Playing    Nintendo     11.27      8.89     10.22   \n",
       "...       ...           ...         ...       ...       ...       ...   \n",
       "16593  2002.0      Platform       Kemco      0.01      0.00      0.00   \n",
       "16594  2003.0       Shooter  Infogrames      0.01      0.00      0.00   \n",
       "16595  2008.0        Racing  Activision      0.00      0.00      0.00   \n",
       "16596  2010.0        Puzzle    7G//AMES      0.00      0.01      0.00   \n",
       "16597  2003.0      Platform     Wanadoo      0.01      0.00      0.00   \n",
       "\n",
       "       Other_Sales  Global_Sales  \n",
       "0             8.46         82.74  \n",
       "1             0.77         40.24  \n",
       "2             3.31         35.82  \n",
       "3             2.96         33.00  \n",
       "4             1.00         31.37  \n",
       "...            ...           ...  \n",
       "16593         0.00          0.01  \n",
       "16594         0.00          0.01  \n",
       "16595         0.00          0.01  \n",
       "16596         0.00          0.01  \n",
       "16597         0.00          0.01  \n",
       "\n",
       "[16598 rows x 11 columns]"
      ]
     },
     "execution_count": 6,
     "metadata": {},
     "output_type": "execute_result"
    }
   ],
   "source": [
    "base = pd.read_csv('games.csv')\n",
    "base"
   ]
  },
  {
   "cell_type": "markdown",
   "id": "7daaa4b3-51c1-4d40-ba83-781ab7ca63c9",
   "metadata": {},
   "source": [
    "## Pre-processamento da base de dados"
   ]
  },
  {
   "cell_type": "markdown",
   "id": "530ffad3-0b63-4cf6-943a-7b84e8670eae",
   "metadata": {},
   "source": [
    "### Apagando dados irrelevantes"
   ]
  },
  {
   "cell_type": "code",
   "execution_count": 7,
   "id": "996301b0-26cf-4aed-abce-f4a85b776866",
   "metadata": {
    "scrolled": true
   },
   "outputs": [],
   "source": [
    "base = base.drop('Rank',axis=1)\n",
    "base = base.drop('Other_Sales',axis=1)\n",
    "base = base.drop('Global_Sales',axis=1)"
   ]
  },
  {
   "cell_type": "code",
   "execution_count": 8,
   "id": "9d47d89f-daf5-42f4-b04a-e6d620fdc5e5",
   "metadata": {},
   "outputs": [
    {
     "data": {
      "text/plain": [
       "(16598, 8)"
      ]
     },
     "execution_count": 8,
     "metadata": {},
     "output_type": "execute_result"
    }
   ],
   "source": [
    "base.shape"
   ]
  },
  {
   "cell_type": "markdown",
   "id": "f600df5b-9b2b-4a7f-ba6c-65788e14e68d",
   "metadata": {},
   "source": [
    "### Verificar se tem dados nulos"
   ]
  },
  {
   "cell_type": "markdown",
   "id": "723b1f09-0515-43d2-a840-f1992c413182",
   "metadata": {},
   "source": [
    "base.isnull().sum()"
   ]
  },
  {
   "cell_type": "markdown",
   "id": "94cef9c1-d808-4458-b6a9-2ec84b2c5514",
   "metadata": {},
   "source": [
    "Neste caso, como é uma base de teste, podemos deletar as colunas nulas, porém em um projeto real deveria-se entender o motivo disto e corrigir"
   ]
  },
  {
   "cell_type": "code",
   "execution_count": 9,
   "id": "2d1cfa9c-aaa5-4228-912d-0337c8bc6fcf",
   "metadata": {},
   "outputs": [],
   "source": [
    "base = base.dropna(axis=0)"
   ]
  },
  {
   "cell_type": "code",
   "execution_count": 10,
   "id": "c7718f55-cffa-4b9d-8322-58df97c6bc1a",
   "metadata": {},
   "outputs": [
    {
     "data": {
      "text/plain": [
       "(16291, 8)"
      ]
     },
     "execution_count": 10,
     "metadata": {},
     "output_type": "execute_result"
    }
   ],
   "source": [
    "base.shape"
   ]
  },
  {
   "cell_type": "code",
   "execution_count": 11,
   "id": "74510790-bd6c-4e83-a74d-fd48e11769bf",
   "metadata": {},
   "outputs": [
    {
     "data": {
      "text/plain": [
       "Name         0\n",
       "Platform     0\n",
       "Year         0\n",
       "Genre        0\n",
       "Publisher    0\n",
       "NA_Sales     0\n",
       "EU_Sales     0\n",
       "JP_Sales     0\n",
       "dtype: int64"
      ]
     },
     "execution_count": 11,
     "metadata": {},
     "output_type": "execute_result"
    }
   ],
   "source": [
    "base.isnull().sum()"
   ]
  },
  {
   "cell_type": "markdown",
   "id": "72478035-44de-4c0c-a39c-c16fd4c9f8d2",
   "metadata": {},
   "source": [
    "### Verificar a repeticao do campo de name"
   ]
  },
  {
   "cell_type": "code",
   "execution_count": 12,
   "id": "c9ab0d83-979b-4f83-ad1f-2cb9705fdcfe",
   "metadata": {},
   "outputs": [
    {
     "data": {
      "text/plain": [
       "Name\n",
       "Need for Speed: Most Wanted    12\n",
       "FIFA 14                         9\n",
       "Ratatouille                     9\n",
       "LEGO Marvel Super Heroes        9\n",
       "Cars                            8\n",
       "                               ..\n",
       "PGA Tour 96                     1\n",
       "Game & Wario                    1\n",
       "Angry Birds                     1\n",
       "Shadow Hearts: Covenant         1\n",
       "Know How 2                      1\n",
       "Name: count, Length: 11325, dtype: int64"
      ]
     },
     "execution_count": 12,
     "metadata": {},
     "output_type": "execute_result"
    }
   ],
   "source": [
    "base['Name'].value_counts()"
   ]
  },
  {
   "cell_type": "markdown",
   "id": "980596a5-ede5-49bd-bd76-0487c9a45422",
   "metadata": {},
   "source": [
    "Baseado na quantidade de nomes, e do total de registros, o campo de name não é relevante para a Rede Neural aprender algo com ele, por conta disto pode-se deletar esta coluna"
   ]
  },
  {
   "cell_type": "code",
   "execution_count": 13,
   "id": "3446e5ea-d0fb-444d-89ce-0e9bd65bc22b",
   "metadata": {},
   "outputs": [],
   "source": [
    "base = base.drop('Name',axis=1)"
   ]
  },
  {
   "cell_type": "code",
   "execution_count": 14,
   "id": "060e368b-d2b2-464c-ab6a-f3da69d29da8",
   "metadata": {},
   "outputs": [
    {
     "data": {
      "text/plain": [
       "(16291, 7)"
      ]
     },
     "execution_count": 14,
     "metadata": {},
     "output_type": "execute_result"
    }
   ],
   "source": [
    "base.shape"
   ]
  },
  {
   "cell_type": "code",
   "execution_count": 15,
   "id": "be4707f7-a206-4019-a705-673b4871649c",
   "metadata": {},
   "outputs": [
    {
     "data": {
      "text/html": [
       "<div>\n",
       "<style scoped>\n",
       "    .dataframe tbody tr th:only-of-type {\n",
       "        vertical-align: middle;\n",
       "    }\n",
       "\n",
       "    .dataframe tbody tr th {\n",
       "        vertical-align: top;\n",
       "    }\n",
       "\n",
       "    .dataframe thead th {\n",
       "        text-align: right;\n",
       "    }\n",
       "</style>\n",
       "<table border=\"1\" class=\"dataframe\">\n",
       "  <thead>\n",
       "    <tr style=\"text-align: right;\">\n",
       "      <th></th>\n",
       "      <th>Platform</th>\n",
       "      <th>Year</th>\n",
       "      <th>Genre</th>\n",
       "      <th>Publisher</th>\n",
       "      <th>NA_Sales</th>\n",
       "      <th>EU_Sales</th>\n",
       "      <th>JP_Sales</th>\n",
       "    </tr>\n",
       "  </thead>\n",
       "  <tbody>\n",
       "    <tr>\n",
       "      <th>0</th>\n",
       "      <td>Wii</td>\n",
       "      <td>2006.0</td>\n",
       "      <td>Sports</td>\n",
       "      <td>Nintendo</td>\n",
       "      <td>41.49</td>\n",
       "      <td>29.02</td>\n",
       "      <td>3.77</td>\n",
       "    </tr>\n",
       "    <tr>\n",
       "      <th>1</th>\n",
       "      <td>NES</td>\n",
       "      <td>1985.0</td>\n",
       "      <td>Platform</td>\n",
       "      <td>Nintendo</td>\n",
       "      <td>29.08</td>\n",
       "      <td>3.58</td>\n",
       "      <td>6.81</td>\n",
       "    </tr>\n",
       "    <tr>\n",
       "      <th>2</th>\n",
       "      <td>Wii</td>\n",
       "      <td>2008.0</td>\n",
       "      <td>Racing</td>\n",
       "      <td>Nintendo</td>\n",
       "      <td>15.85</td>\n",
       "      <td>12.88</td>\n",
       "      <td>3.79</td>\n",
       "    </tr>\n",
       "    <tr>\n",
       "      <th>3</th>\n",
       "      <td>Wii</td>\n",
       "      <td>2009.0</td>\n",
       "      <td>Sports</td>\n",
       "      <td>Nintendo</td>\n",
       "      <td>15.75</td>\n",
       "      <td>11.01</td>\n",
       "      <td>3.28</td>\n",
       "    </tr>\n",
       "    <tr>\n",
       "      <th>4</th>\n",
       "      <td>GB</td>\n",
       "      <td>1996.0</td>\n",
       "      <td>Role-Playing</td>\n",
       "      <td>Nintendo</td>\n",
       "      <td>11.27</td>\n",
       "      <td>8.89</td>\n",
       "      <td>10.22</td>\n",
       "    </tr>\n",
       "  </tbody>\n",
       "</table>\n",
       "</div>"
      ],
      "text/plain": [
       "  Platform    Year         Genre Publisher  NA_Sales  EU_Sales  JP_Sales\n",
       "0      Wii  2006.0        Sports  Nintendo     41.49     29.02      3.77\n",
       "1      NES  1985.0      Platform  Nintendo     29.08      3.58      6.81\n",
       "2      Wii  2008.0        Racing  Nintendo     15.85     12.88      3.79\n",
       "3      Wii  2009.0        Sports  Nintendo     15.75     11.01      3.28\n",
       "4       GB  1996.0  Role-Playing  Nintendo     11.27      8.89     10.22"
      ]
     },
     "execution_count": 15,
     "metadata": {},
     "output_type": "execute_result"
    }
   ],
   "source": [
    "base.head(5)"
   ]
  },
  {
   "cell_type": "markdown",
   "id": "dad81d37-10ed-4d46-b34a-8f7cd44fc712",
   "metadata": {},
   "source": [
    "### Divisão de previsores e alvo"
   ]
  },
  {
   "cell_type": "code",
   "execution_count": 16,
   "id": "bd27c267-f5c7-4366-a46e-0468e45c6cda",
   "metadata": {},
   "outputs": [
    {
     "data": {
      "text/plain": [
       "Index(['Platform', 'Year', 'Genre', 'Publisher', 'NA_Sales', 'EU_Sales',\n",
       "       'JP_Sales'],\n",
       "      dtype='object')"
      ]
     },
     "execution_count": 16,
     "metadata": {},
     "output_type": "execute_result"
    }
   ],
   "source": [
    "base.columns"
   ]
  },
  {
   "cell_type": "code",
   "execution_count": 17,
   "id": "0772e0c4-c0f9-45a7-9481-92ac3bfe3105",
   "metadata": {},
   "outputs": [
    {
     "data": {
      "text/plain": [
       "array([['Wii', 2006.0, 'Sports', 'Nintendo'],\n",
       "       ['NES', 1985.0, 'Platform', 'Nintendo'],\n",
       "       ['Wii', 2008.0, 'Racing', 'Nintendo'],\n",
       "       ...,\n",
       "       ['PS2', 2008.0, 'Racing', 'Activision'],\n",
       "       ['DS', 2010.0, 'Puzzle', '7G//AMES'],\n",
       "       ['GBA', 2003.0, 'Platform', 'Wanadoo']], dtype=object)"
      ]
     },
     "execution_count": 17,
     "metadata": {},
     "output_type": "execute_result"
    }
   ],
   "source": [
    "X = base.iloc[:,[0,1,2,3]].values\n",
    "X"
   ]
  },
  {
   "cell_type": "code",
   "execution_count": 18,
   "id": "ee170cc4-40a9-4cb0-b2a6-d96126321338",
   "metadata": {},
   "outputs": [],
   "source": [
    "## Alvos baseados em cada região\n",
    "y_na = base.iloc[:,4].values\n",
    "y_ue = base.iloc[:,5].values\n",
    "y_jp = base.iloc[:,6].values"
   ]
  },
  {
   "cell_type": "code",
   "execution_count": 19,
   "id": "3f7e1e18-769b-4973-8459-89b1c614fa68",
   "metadata": {},
   "outputs": [
    {
     "data": {
      "text/plain": [
       "array([4.149e+01, 2.908e+01, 1.585e+01, ..., 0.000e+00, 0.000e+00,\n",
       "       1.000e-02])"
      ]
     },
     "execution_count": 19,
     "metadata": {},
     "output_type": "execute_result"
    }
   ],
   "source": [
    "y_na"
   ]
  },
  {
   "cell_type": "code",
   "execution_count": 20,
   "id": "1198029b-af65-4ff1-b162-9bee1acb4316",
   "metadata": {},
   "outputs": [
    {
     "data": {
      "text/plain": [
       "array([2.902e+01, 3.580e+00, 1.288e+01, ..., 0.000e+00, 1.000e-02,\n",
       "       0.000e+00])"
      ]
     },
     "execution_count": 20,
     "metadata": {},
     "output_type": "execute_result"
    }
   ],
   "source": [
    "y_ue"
   ]
  },
  {
   "cell_type": "code",
   "execution_count": 21,
   "id": "e26d1bf7-861d-4226-969e-e1dabc92a4a3",
   "metadata": {},
   "outputs": [
    {
     "data": {
      "text/plain": [
       "array([3.77, 6.81, 3.79, ..., 0.  , 0.  , 0.  ])"
      ]
     },
     "execution_count": 21,
     "metadata": {},
     "output_type": "execute_result"
    }
   ],
   "source": [
    "y_jp"
   ]
  },
  {
   "cell_type": "markdown",
   "id": "5d8761c5-b31f-4051-91d3-8ce951c1f457",
   "metadata": {},
   "source": [
    "### Converter dados categóricos nominais em ordinais com OneHotEncoder"
   ]
  },
  {
   "cell_type": "code",
   "execution_count": 22,
   "id": "fdfe9b50-c1cb-4ce3-9dab-007e53a38d79",
   "metadata": {
    "scrolled": true
   },
   "outputs": [
    {
     "data": {
      "text/plain": [
       "Platform\n",
       "DS      2131\n",
       "PS2     2127\n",
       "PS3     1304\n",
       "Wii     1290\n",
       "X360    1234\n",
       "PSP     1197\n",
       "PS      1189\n",
       "PC       938\n",
       "XB       803\n",
       "GBA      786\n",
       "GC       542\n",
       "3DS      499\n",
       "PSV      410\n",
       "PS4      336\n",
       "N64      316\n",
       "SNES     239\n",
       "XOne     213\n",
       "SAT      173\n",
       "WiiU     143\n",
       "2600     116\n",
       "NES       98\n",
       "GB        97\n",
       "DC        52\n",
       "GEN       27\n",
       "NG        12\n",
       "SCD        6\n",
       "WS         6\n",
       "3DO        3\n",
       "TG16       2\n",
       "GG         1\n",
       "PCFX       1\n",
       "Name: count, dtype: int64"
      ]
     },
     "execution_count": 22,
     "metadata": {},
     "output_type": "execute_result"
    }
   ],
   "source": [
    "# PS2 1 0 0 0 0 ...\n",
    "# PS3 0 1 0 0 0 ...\n",
    "base['Platform'].value_counts()"
   ]
  },
  {
   "cell_type": "code",
   "execution_count": 23,
   "id": "e7065f1a-3897-4713-a68e-74f18edbf2de",
   "metadata": {},
   "outputs": [
    {
     "data": {
      "text/plain": [
       "Index(['Platform', 'Year', 'Genre', 'Publisher', 'NA_Sales', 'EU_Sales',\n",
       "       'JP_Sales'],\n",
       "      dtype='object')"
      ]
     },
     "execution_count": 23,
     "metadata": {},
     "output_type": "execute_result"
    }
   ],
   "source": [
    "base.columns"
   ]
  },
  {
   "cell_type": "code",
   "execution_count": 24,
   "id": "4496b96c-f471-450b-8bc7-c4607b6edca9",
   "metadata": {},
   "outputs": [],
   "source": [
    "onehotencoder = ColumnTransformer(transformers=[(\"OneHot\", OneHotEncoder(), [0,2,3])], remainder='passthrough')"
   ]
  },
  {
   "cell_type": "code",
   "execution_count": 25,
   "id": "a5112b71-b67e-49d1-88c8-f499fd5799dc",
   "metadata": {},
   "outputs": [
    {
     "data": {
      "text/plain": [
       "(16291, 620)"
      ]
     },
     "execution_count": 25,
     "metadata": {},
     "output_type": "execute_result"
    }
   ],
   "source": [
    "X = onehotencoder.fit_transform(X).toarray()\n",
    "X.shape"
   ]
  },
  {
   "cell_type": "code",
   "execution_count": 26,
   "id": "796f51b9-88b2-45ca-ae90-f87befdfc89a",
   "metadata": {
    "scrolled": true
   },
   "outputs": [
    {
     "data": {
      "text/plain": [
       "array([0.000e+00, 0.000e+00, 0.000e+00, 0.000e+00, 0.000e+00, 0.000e+00,\n",
       "       0.000e+00, 0.000e+00, 0.000e+00, 0.000e+00, 0.000e+00, 0.000e+00,\n",
       "       0.000e+00, 0.000e+00, 0.000e+00, 0.000e+00, 0.000e+00, 0.000e+00,\n",
       "       0.000e+00, 0.000e+00, 0.000e+00, 0.000e+00, 0.000e+00, 0.000e+00,\n",
       "       0.000e+00, 0.000e+00, 1.000e+00, 0.000e+00, 0.000e+00, 0.000e+00,\n",
       "       0.000e+00, 0.000e+00, 0.000e+00, 0.000e+00, 0.000e+00, 0.000e+00,\n",
       "       0.000e+00, 0.000e+00, 0.000e+00, 0.000e+00, 0.000e+00, 1.000e+00,\n",
       "       0.000e+00, 0.000e+00, 0.000e+00, 0.000e+00, 0.000e+00, 0.000e+00,\n",
       "       0.000e+00, 0.000e+00, 0.000e+00, 0.000e+00, 0.000e+00, 0.000e+00,\n",
       "       0.000e+00, 0.000e+00, 0.000e+00, 0.000e+00, 0.000e+00, 0.000e+00,\n",
       "       0.000e+00, 0.000e+00, 0.000e+00, 0.000e+00, 0.000e+00, 0.000e+00,\n",
       "       0.000e+00, 0.000e+00, 0.000e+00, 0.000e+00, 0.000e+00, 0.000e+00,\n",
       "       0.000e+00, 0.000e+00, 0.000e+00, 0.000e+00, 0.000e+00, 0.000e+00,\n",
       "       0.000e+00, 0.000e+00, 0.000e+00, 0.000e+00, 0.000e+00, 0.000e+00,\n",
       "       0.000e+00, 0.000e+00, 0.000e+00, 0.000e+00, 0.000e+00, 0.000e+00,\n",
       "       0.000e+00, 0.000e+00, 0.000e+00, 0.000e+00, 0.000e+00, 0.000e+00,\n",
       "       0.000e+00, 0.000e+00, 0.000e+00, 0.000e+00, 0.000e+00, 0.000e+00,\n",
       "       0.000e+00, 0.000e+00, 0.000e+00, 0.000e+00, 0.000e+00, 0.000e+00,\n",
       "       0.000e+00, 0.000e+00, 0.000e+00, 0.000e+00, 0.000e+00, 0.000e+00,\n",
       "       0.000e+00, 0.000e+00, 0.000e+00, 0.000e+00, 0.000e+00, 0.000e+00,\n",
       "       0.000e+00, 0.000e+00, 0.000e+00, 0.000e+00, 0.000e+00, 0.000e+00,\n",
       "       0.000e+00, 0.000e+00, 0.000e+00, 0.000e+00, 0.000e+00, 0.000e+00,\n",
       "       0.000e+00, 0.000e+00, 0.000e+00, 0.000e+00, 0.000e+00, 0.000e+00,\n",
       "       0.000e+00, 0.000e+00, 0.000e+00, 0.000e+00, 0.000e+00, 0.000e+00,\n",
       "       0.000e+00, 0.000e+00, 0.000e+00, 0.000e+00, 0.000e+00, 0.000e+00,\n",
       "       0.000e+00, 0.000e+00, 0.000e+00, 0.000e+00, 0.000e+00, 0.000e+00,\n",
       "       0.000e+00, 0.000e+00, 0.000e+00, 0.000e+00, 0.000e+00, 0.000e+00,\n",
       "       0.000e+00, 0.000e+00, 0.000e+00, 0.000e+00, 0.000e+00, 0.000e+00,\n",
       "       0.000e+00, 0.000e+00, 0.000e+00, 0.000e+00, 0.000e+00, 0.000e+00,\n",
       "       0.000e+00, 0.000e+00, 0.000e+00, 0.000e+00, 0.000e+00, 0.000e+00,\n",
       "       0.000e+00, 0.000e+00, 0.000e+00, 0.000e+00, 0.000e+00, 0.000e+00,\n",
       "       0.000e+00, 0.000e+00, 0.000e+00, 0.000e+00, 0.000e+00, 0.000e+00,\n",
       "       0.000e+00, 0.000e+00, 0.000e+00, 0.000e+00, 0.000e+00, 0.000e+00,\n",
       "       0.000e+00, 0.000e+00, 0.000e+00, 0.000e+00, 0.000e+00, 0.000e+00,\n",
       "       0.000e+00, 0.000e+00, 0.000e+00, 0.000e+00, 0.000e+00, 0.000e+00,\n",
       "       0.000e+00, 0.000e+00, 0.000e+00, 0.000e+00, 0.000e+00, 0.000e+00,\n",
       "       0.000e+00, 0.000e+00, 0.000e+00, 0.000e+00, 0.000e+00, 0.000e+00,\n",
       "       0.000e+00, 0.000e+00, 0.000e+00, 0.000e+00, 0.000e+00, 0.000e+00,\n",
       "       0.000e+00, 0.000e+00, 0.000e+00, 0.000e+00, 0.000e+00, 0.000e+00,\n",
       "       0.000e+00, 0.000e+00, 0.000e+00, 0.000e+00, 0.000e+00, 0.000e+00,\n",
       "       0.000e+00, 0.000e+00, 0.000e+00, 0.000e+00, 0.000e+00, 0.000e+00,\n",
       "       0.000e+00, 0.000e+00, 0.000e+00, 0.000e+00, 0.000e+00, 0.000e+00,\n",
       "       0.000e+00, 0.000e+00, 0.000e+00, 0.000e+00, 0.000e+00, 0.000e+00,\n",
       "       0.000e+00, 0.000e+00, 0.000e+00, 0.000e+00, 0.000e+00, 0.000e+00,\n",
       "       0.000e+00, 0.000e+00, 0.000e+00, 0.000e+00, 0.000e+00, 0.000e+00,\n",
       "       0.000e+00, 0.000e+00, 0.000e+00, 0.000e+00, 0.000e+00, 0.000e+00,\n",
       "       0.000e+00, 0.000e+00, 0.000e+00, 0.000e+00, 0.000e+00, 0.000e+00,\n",
       "       0.000e+00, 0.000e+00, 0.000e+00, 0.000e+00, 0.000e+00, 0.000e+00,\n",
       "       0.000e+00, 0.000e+00, 0.000e+00, 0.000e+00, 0.000e+00, 0.000e+00,\n",
       "       0.000e+00, 0.000e+00, 0.000e+00, 0.000e+00, 0.000e+00, 0.000e+00,\n",
       "       0.000e+00, 0.000e+00, 0.000e+00, 0.000e+00, 0.000e+00, 0.000e+00,\n",
       "       0.000e+00, 0.000e+00, 0.000e+00, 0.000e+00, 0.000e+00, 0.000e+00,\n",
       "       0.000e+00, 0.000e+00, 0.000e+00, 0.000e+00, 0.000e+00, 0.000e+00,\n",
       "       0.000e+00, 0.000e+00, 0.000e+00, 0.000e+00, 0.000e+00, 0.000e+00,\n",
       "       0.000e+00, 0.000e+00, 0.000e+00, 0.000e+00, 0.000e+00, 0.000e+00,\n",
       "       0.000e+00, 0.000e+00, 0.000e+00, 0.000e+00, 0.000e+00, 0.000e+00,\n",
       "       0.000e+00, 0.000e+00, 0.000e+00, 0.000e+00, 0.000e+00, 0.000e+00,\n",
       "       0.000e+00, 0.000e+00, 0.000e+00, 0.000e+00, 0.000e+00, 0.000e+00,\n",
       "       0.000e+00, 0.000e+00, 0.000e+00, 0.000e+00, 0.000e+00, 0.000e+00,\n",
       "       0.000e+00, 0.000e+00, 0.000e+00, 0.000e+00, 0.000e+00, 0.000e+00,\n",
       "       0.000e+00, 0.000e+00, 0.000e+00, 0.000e+00, 0.000e+00, 0.000e+00,\n",
       "       0.000e+00, 0.000e+00, 0.000e+00, 0.000e+00, 0.000e+00, 0.000e+00,\n",
       "       0.000e+00, 0.000e+00, 0.000e+00, 0.000e+00, 0.000e+00, 0.000e+00,\n",
       "       0.000e+00, 0.000e+00, 0.000e+00, 0.000e+00, 0.000e+00, 0.000e+00,\n",
       "       0.000e+00, 0.000e+00, 0.000e+00, 0.000e+00, 0.000e+00, 0.000e+00,\n",
       "       0.000e+00, 0.000e+00, 0.000e+00, 0.000e+00, 0.000e+00, 0.000e+00,\n",
       "       0.000e+00, 0.000e+00, 0.000e+00, 0.000e+00, 0.000e+00, 0.000e+00,\n",
       "       1.000e+00, 0.000e+00, 0.000e+00, 0.000e+00, 0.000e+00, 0.000e+00,\n",
       "       0.000e+00, 0.000e+00, 0.000e+00, 0.000e+00, 0.000e+00, 0.000e+00,\n",
       "       0.000e+00, 0.000e+00, 0.000e+00, 0.000e+00, 0.000e+00, 0.000e+00,\n",
       "       0.000e+00, 0.000e+00, 0.000e+00, 0.000e+00, 0.000e+00, 0.000e+00,\n",
       "       0.000e+00, 0.000e+00, 0.000e+00, 0.000e+00, 0.000e+00, 0.000e+00,\n",
       "       0.000e+00, 0.000e+00, 0.000e+00, 0.000e+00, 0.000e+00, 0.000e+00,\n",
       "       0.000e+00, 0.000e+00, 0.000e+00, 0.000e+00, 0.000e+00, 0.000e+00,\n",
       "       0.000e+00, 0.000e+00, 0.000e+00, 0.000e+00, 0.000e+00, 0.000e+00,\n",
       "       0.000e+00, 0.000e+00, 0.000e+00, 0.000e+00, 0.000e+00, 0.000e+00,\n",
       "       0.000e+00, 0.000e+00, 0.000e+00, 0.000e+00, 0.000e+00, 0.000e+00,\n",
       "       0.000e+00, 0.000e+00, 0.000e+00, 0.000e+00, 0.000e+00, 0.000e+00,\n",
       "       0.000e+00, 0.000e+00, 0.000e+00, 0.000e+00, 0.000e+00, 0.000e+00,\n",
       "       0.000e+00, 0.000e+00, 0.000e+00, 0.000e+00, 0.000e+00, 0.000e+00,\n",
       "       0.000e+00, 0.000e+00, 0.000e+00, 0.000e+00, 0.000e+00, 0.000e+00,\n",
       "       0.000e+00, 0.000e+00, 0.000e+00, 0.000e+00, 0.000e+00, 0.000e+00,\n",
       "       0.000e+00, 0.000e+00, 0.000e+00, 0.000e+00, 0.000e+00, 0.000e+00,\n",
       "       0.000e+00, 0.000e+00, 0.000e+00, 0.000e+00, 0.000e+00, 0.000e+00,\n",
       "       0.000e+00, 0.000e+00, 0.000e+00, 0.000e+00, 0.000e+00, 0.000e+00,\n",
       "       0.000e+00, 0.000e+00, 0.000e+00, 0.000e+00, 0.000e+00, 0.000e+00,\n",
       "       0.000e+00, 0.000e+00, 0.000e+00, 0.000e+00, 0.000e+00, 0.000e+00,\n",
       "       0.000e+00, 0.000e+00, 0.000e+00, 0.000e+00, 0.000e+00, 0.000e+00,\n",
       "       0.000e+00, 0.000e+00, 0.000e+00, 0.000e+00, 0.000e+00, 0.000e+00,\n",
       "       0.000e+00, 0.000e+00, 0.000e+00, 0.000e+00, 0.000e+00, 0.000e+00,\n",
       "       0.000e+00, 0.000e+00, 0.000e+00, 0.000e+00, 0.000e+00, 0.000e+00,\n",
       "       0.000e+00, 0.000e+00, 0.000e+00, 0.000e+00, 0.000e+00, 0.000e+00,\n",
       "       0.000e+00, 0.000e+00, 0.000e+00, 0.000e+00, 0.000e+00, 0.000e+00,\n",
       "       0.000e+00, 0.000e+00, 0.000e+00, 0.000e+00, 0.000e+00, 0.000e+00,\n",
       "       0.000e+00, 0.000e+00, 0.000e+00, 0.000e+00, 0.000e+00, 0.000e+00,\n",
       "       0.000e+00, 0.000e+00, 0.000e+00, 0.000e+00, 0.000e+00, 0.000e+00,\n",
       "       0.000e+00, 0.000e+00, 0.000e+00, 0.000e+00, 0.000e+00, 0.000e+00,\n",
       "       0.000e+00, 0.000e+00, 0.000e+00, 0.000e+00, 0.000e+00, 0.000e+00,\n",
       "       0.000e+00, 0.000e+00, 0.000e+00, 0.000e+00, 0.000e+00, 0.000e+00,\n",
       "       0.000e+00, 0.000e+00, 0.000e+00, 0.000e+00, 0.000e+00, 0.000e+00,\n",
       "       0.000e+00, 0.000e+00, 0.000e+00, 0.000e+00, 0.000e+00, 0.000e+00,\n",
       "       0.000e+00, 0.000e+00, 0.000e+00, 0.000e+00, 0.000e+00, 0.000e+00,\n",
       "       0.000e+00, 0.000e+00, 0.000e+00, 0.000e+00, 0.000e+00, 0.000e+00,\n",
       "       0.000e+00, 2.006e+03])"
      ]
     },
     "execution_count": 26,
     "metadata": {},
     "output_type": "execute_result"
    }
   ],
   "source": [
    "X[0]"
   ]
  },
  {
   "cell_type": "markdown",
   "id": "010d89fa-9f98-4e84-8a4d-a2617e298903",
   "metadata": {},
   "source": [
    "## Estrutura da Rede Neural"
   ]
  },
  {
   "cell_type": "code",
   "execution_count": 46,
   "id": "35329869-d553-46dd-8906-5b601e7e706f",
   "metadata": {},
   "outputs": [
    {
     "data": {
      "text/plain": [
       "311.5"
      ]
     },
     "execution_count": 46,
     "metadata": {},
     "output_type": "execute_result"
    }
   ],
   "source": [
    "## Calcular quantidade de neuronios camada oculta\n",
    "## somar neuronios de entrada + de saide e dividir por 2\n",
    "( 620 + 3 ) / 2"
   ]
  },
  {
   "cell_type": "code",
   "execution_count": 47,
   "id": "a625b955-e46d-4514-b38f-eea28fcbcb94",
   "metadata": {},
   "outputs": [],
   "source": [
    "## Aqui as camadas são conectas desta forma - Que é diferente do Sequential\n",
    "camada_entrada = Input(shape=(620,))\n",
    "camada_oculta1 = Dense(units = 312, activation='relu')(camada_entrada)\n",
    "camada_oculta2 = Dense(units = 312, activation='relu')(camada_oculta1)\n",
    "camada_saida1 = Dense(units = 1, activation='linear')(camada_oculta2)\n",
    "camada_saida2 = Dense(units = 1, activation='linear')(camada_oculta2)\n",
    "camada_saida3 = Dense(units = 1, activation='linear')(camada_oculta2)"
   ]
  },
  {
   "cell_type": "code",
   "execution_count": 48,
   "id": "c911a9bd-4ad9-4e7a-80b5-87a96a6b3f55",
   "metadata": {},
   "outputs": [],
   "source": [
    "regressor = Model(inputs = camada_entrada, outputs = [camada_saida1,camada_saida2,camada_saida3] )"
   ]
  },
  {
   "cell_type": "code",
   "execution_count": 49,
   "id": "ebbfb19f-ccc6-42f7-b971-426ad977bb5a",
   "metadata": {},
   "outputs": [],
   "source": [
    "regressor.compile(optimizer='adam',loss='mse')"
   ]
  },
  {
   "cell_type": "code",
   "execution_count": 51,
   "id": "adfb68d1-95fb-46a5-862a-f699fc69e5d6",
   "metadata": {
    "scrolled": true
   },
   "outputs": [
    {
     "name": "stdout",
     "output_type": "stream",
     "text": [
      "Epoch 1/500\n",
      "\u001b[1m163/163\u001b[0m \u001b[32m━━━━━━━━━━━━━━━━━━━━\u001b[0m\u001b[37m\u001b[0m \u001b[1m2s\u001b[0m 4ms/step - dense_2_loss: 30.0170 - dense_3_loss: 551.8806 - dense_4_loss: 270.8410 - loss: 852.7400\n",
      "Epoch 2/500\n",
      "\u001b[1m163/163\u001b[0m \u001b[32m━━━━━━━━━━━━━━━━━━━━\u001b[0m\u001b[37m\u001b[0m \u001b[1m1s\u001b[0m 8ms/step - dense_2_loss: 0.8412 - dense_3_loss: 0.2541 - dense_4_loss: 0.1477 - loss: 1.2428\n",
      "Epoch 3/500\n",
      "\u001b[1m163/163\u001b[0m \u001b[32m━━━━━━━━━━━━━━━━━━━━\u001b[0m\u001b[37m\u001b[0m \u001b[1m1s\u001b[0m 9ms/step - dense_2_loss: 1.6643 - dense_3_loss: 0.6003 - dense_4_loss: 0.4969 - loss: 2.7614\n",
      "Epoch 4/500\n",
      "\u001b[1m163/163\u001b[0m \u001b[32m━━━━━━━━━━━━━━━━━━━━\u001b[0m\u001b[37m\u001b[0m \u001b[1m2s\u001b[0m 8ms/step - dense_2_loss: 1.5652 - dense_3_loss: 1.0903 - dense_4_loss: 1.1373 - loss: 3.7928\n",
      "Epoch 5/500\n",
      "\u001b[1m163/163\u001b[0m \u001b[32m━━━━━━━━━━━━━━━━━━━━\u001b[0m\u001b[37m\u001b[0m \u001b[1m1s\u001b[0m 9ms/step - dense_2_loss: 1.4365 - dense_3_loss: 0.5973 - dense_4_loss: 0.6221 - loss: 2.6560\n",
      "Epoch 6/500\n",
      "\u001b[1m163/163\u001b[0m \u001b[32m━━━━━━━━━━━━━━━━━━━━\u001b[0m\u001b[37m\u001b[0m \u001b[1m2s\u001b[0m 8ms/step - dense_2_loss: 2.7561 - dense_3_loss: 1.1957 - dense_4_loss: 1.5280 - loss: 5.4798\n",
      "Epoch 7/500\n",
      "\u001b[1m163/163\u001b[0m \u001b[32m━━━━━━━━━━━━━━━━━━━━\u001b[0m\u001b[37m\u001b[0m \u001b[1m3s\u001b[0m 8ms/step - dense_2_loss: 1.2250 - dense_3_loss: 0.6526 - dense_4_loss: 0.6435 - loss: 2.5212\n",
      "Epoch 8/500\n",
      "\u001b[1m163/163\u001b[0m \u001b[32m━━━━━━━━━━━━━━━━━━━━\u001b[0m\u001b[37m\u001b[0m \u001b[1m1s\u001b[0m 8ms/step - dense_2_loss: 1.2183 - dense_3_loss: 1.5634 - dense_4_loss: 1.8019 - loss: 4.5836\n",
      "Epoch 9/500\n",
      "\u001b[1m163/163\u001b[0m \u001b[32m━━━━━━━━━━━━━━━━━━━━\u001b[0m\u001b[37m\u001b[0m \u001b[1m1s\u001b[0m 9ms/step - dense_2_loss: 1.3688 - dense_3_loss: 1.4535 - dense_4_loss: 1.6552 - loss: 4.4775\n",
      "Epoch 10/500\n",
      "\u001b[1m163/163\u001b[0m \u001b[32m━━━━━━━━━━━━━━━━━━━━\u001b[0m\u001b[37m\u001b[0m \u001b[1m2s\u001b[0m 9ms/step - dense_2_loss: 2.2783 - dense_3_loss: 1.4534 - dense_4_loss: 1.3832 - loss: 5.1149\n",
      "Epoch 11/500\n",
      "\u001b[1m163/163\u001b[0m \u001b[32m━━━━━━━━━━━━━━━━━━━━\u001b[0m\u001b[37m\u001b[0m \u001b[1m1s\u001b[0m 9ms/step - dense_2_loss: 1.8938 - dense_3_loss: 1.2916 - dense_4_loss: 1.2458 - loss: 4.4312\n",
      "Epoch 12/500\n",
      "\u001b[1m163/163\u001b[0m \u001b[32m━━━━━━━━━━━━━━━━━━━━\u001b[0m\u001b[37m\u001b[0m \u001b[1m1s\u001b[0m 8ms/step - dense_2_loss: 2.3975 - dense_3_loss: 1.2417 - dense_4_loss: 2.4484 - loss: 6.0877\n",
      "Epoch 13/500\n",
      "\u001b[1m163/163\u001b[0m \u001b[32m━━━━━━━━━━━━━━━━━━━━\u001b[0m\u001b[37m\u001b[0m \u001b[1m2s\u001b[0m 10ms/step - dense_2_loss: 1.4712 - dense_3_loss: 0.5710 - dense_4_loss: 0.3606 - loss: 2.3991\n",
      "Epoch 14/500\n",
      "\u001b[1m163/163\u001b[0m \u001b[32m━━━━━━━━━━━━━━━━━━━━\u001b[0m\u001b[37m\u001b[0m \u001b[1m1s\u001b[0m 8ms/step - dense_2_loss: 14.1234 - dense_3_loss: 37.1205 - dense_4_loss: 33.9939 - loss: 85.2380\n",
      "Epoch 15/500\n",
      "\u001b[1m163/163\u001b[0m \u001b[32m━━━━━━━━━━━━━━━━━━━━\u001b[0m\u001b[37m\u001b[0m \u001b[1m2s\u001b[0m 9ms/step - dense_2_loss: 0.6511 - dense_3_loss: 0.3009 - dense_4_loss: 0.1258 - loss: 1.0778\n",
      "Epoch 16/500\n",
      "\u001b[1m163/163\u001b[0m \u001b[32m━━━━━━━━━━━━━━━━━━━━\u001b[0m\u001b[37m\u001b[0m \u001b[1m3s\u001b[0m 9ms/step - dense_2_loss: 0.5751 - dense_3_loss: 0.3227 - dense_4_loss: 0.1058 - loss: 1.0037\n",
      "Epoch 17/500\n",
      "\u001b[1m163/163\u001b[0m \u001b[32m━━━━━━━━━━━━━━━━━━━━\u001b[0m\u001b[37m\u001b[0m \u001b[1m2s\u001b[0m 12ms/step - dense_2_loss: 0.7627 - dense_3_loss: 0.4935 - dense_4_loss: 0.2361 - loss: 1.4922\n",
      "Epoch 18/500\n",
      "\u001b[1m163/163\u001b[0m \u001b[32m━━━━━━━━━━━━━━━━━━━━\u001b[0m\u001b[37m\u001b[0m \u001b[1m2s\u001b[0m 10ms/step - dense_2_loss: 0.8614 - dense_3_loss: 0.5414 - dense_4_loss: 0.2257 - loss: 1.6284\n",
      "Epoch 19/500\n",
      "\u001b[1m163/163\u001b[0m \u001b[32m━━━━━━━━━━━━━━━━━━━━\u001b[0m\u001b[37m\u001b[0m \u001b[1m2s\u001b[0m 9ms/step - dense_2_loss: 0.8635 - dense_3_loss: 1.4633 - dense_4_loss: 0.7416 - loss: 3.0684\n",
      "Epoch 20/500\n",
      "\u001b[1m163/163\u001b[0m \u001b[32m━━━━━━━━━━━━━━━━━━━━\u001b[0m\u001b[37m\u001b[0m \u001b[1m2s\u001b[0m 10ms/step - dense_2_loss: 1.1092 - dense_3_loss: 1.4417 - dense_4_loss: 0.6445 - loss: 3.1954\n",
      "Epoch 21/500\n",
      "\u001b[1m163/163\u001b[0m \u001b[32m━━━━━━━━━━━━━━━━━━━━\u001b[0m\u001b[37m\u001b[0m \u001b[1m2s\u001b[0m 8ms/step - dense_2_loss: 1.5006 - dense_3_loss: 1.0492 - dense_4_loss: 0.6094 - loss: 3.1591\n",
      "Epoch 22/500\n",
      "\u001b[1m163/163\u001b[0m \u001b[32m━━━━━━━━━━━━━━━━━━━━\u001b[0m\u001b[37m\u001b[0m \u001b[1m1s\u001b[0m 8ms/step - dense_2_loss: 1.7880 - dense_3_loss: 2.4001 - dense_4_loss: 1.4562 - loss: 5.6444\n",
      "Epoch 23/500\n",
      "\u001b[1m163/163\u001b[0m \u001b[32m━━━━━━━━━━━━━━━━━━━━\u001b[0m\u001b[37m\u001b[0m \u001b[1m1s\u001b[0m 9ms/step - dense_2_loss: 5.4513 - dense_3_loss: 3.7961 - dense_4_loss: 3.0062 - loss: 12.2537\n",
      "Epoch 24/500\n",
      "\u001b[1m163/163\u001b[0m \u001b[32m━━━━━━━━━━━━━━━━━━━━\u001b[0m\u001b[37m\u001b[0m \u001b[1m2s\u001b[0m 10ms/step - dense_2_loss: 0.6054 - dense_3_loss: 0.4547 - dense_4_loss: 0.2291 - loss: 1.2892\n",
      "Epoch 25/500\n",
      "\u001b[1m163/163\u001b[0m \u001b[32m━━━━━━━━━━━━━━━━━━━━\u001b[0m\u001b[37m\u001b[0m \u001b[1m2s\u001b[0m 5ms/step - dense_2_loss: 0.7393 - dense_3_loss: 0.7765 - dense_4_loss: 0.4214 - loss: 1.9372\n",
      "Epoch 26/500\n",
      "\u001b[1m163/163\u001b[0m \u001b[32m━━━━━━━━━━━━━━━━━━━━\u001b[0m\u001b[37m\u001b[0m \u001b[1m1s\u001b[0m 4ms/step - dense_2_loss: 0.7449 - dense_3_loss: 0.6606 - dense_4_loss: 0.3151 - loss: 1.7205\n",
      "Epoch 27/500\n",
      "\u001b[1m163/163\u001b[0m \u001b[32m━━━━━━━━━━━━━━━━━━━━\u001b[0m\u001b[37m\u001b[0m \u001b[1m1s\u001b[0m 5ms/step - dense_2_loss: 0.9286 - dense_3_loss: 1.7405 - dense_4_loss: 0.8913 - loss: 3.5605\n",
      "Epoch 28/500\n",
      "\u001b[1m163/163\u001b[0m \u001b[32m━━━━━━━━━━━━━━━━━━━━\u001b[0m\u001b[37m\u001b[0m \u001b[1m1s\u001b[0m 5ms/step - dense_2_loss: 0.5713 - dense_3_loss: 1.5012 - dense_4_loss: 0.8508 - loss: 2.9233\n",
      "Epoch 29/500\n",
      "\u001b[1m163/163\u001b[0m \u001b[32m━━━━━━━━━━━━━━━━━━━━\u001b[0m\u001b[37m\u001b[0m \u001b[1m1s\u001b[0m 5ms/step - dense_2_loss: 1.0768 - dense_3_loss: 0.8795 - dense_4_loss: 0.5563 - loss: 2.5126\n",
      "Epoch 30/500\n",
      "\u001b[1m163/163\u001b[0m \u001b[32m━━━━━━━━━━━━━━━━━━━━\u001b[0m\u001b[37m\u001b[0m \u001b[1m1s\u001b[0m 4ms/step - dense_2_loss: 2.3735 - dense_3_loss: 3.9093 - dense_4_loss: 3.5551 - loss: 9.8379\n",
      "Epoch 31/500\n",
      "\u001b[1m163/163\u001b[0m \u001b[32m━━━━━━━━━━━━━━━━━━━━\u001b[0m\u001b[37m\u001b[0m \u001b[1m1s\u001b[0m 4ms/step - dense_2_loss: 0.6522 - dense_3_loss: 0.3694 - dense_4_loss: 0.1582 - loss: 1.1798\n",
      "Epoch 32/500\n",
      "\u001b[1m163/163\u001b[0m \u001b[32m━━━━━━━━━━━━━━━━━━━━\u001b[0m\u001b[37m\u001b[0m \u001b[1m1s\u001b[0m 4ms/step - dense_2_loss: 0.9070 - dense_3_loss: 0.6445 - dense_4_loss: 0.3123 - loss: 1.8638\n",
      "Epoch 33/500\n",
      "\u001b[1m163/163\u001b[0m \u001b[32m━━━━━━━━━━━━━━━━━━━━\u001b[0m\u001b[37m\u001b[0m \u001b[1m1s\u001b[0m 5ms/step - dense_2_loss: 0.7444 - dense_3_loss: 0.4470 - dense_4_loss: 0.2491 - loss: 1.4404\n",
      "Epoch 34/500\n",
      "\u001b[1m163/163\u001b[0m \u001b[32m━━━━━━━━━━━━━━━━━━━━\u001b[0m\u001b[37m\u001b[0m \u001b[1m1s\u001b[0m 4ms/step - dense_2_loss: 0.6857 - dense_3_loss: 0.4976 - dense_4_loss: 0.3150 - loss: 1.4982\n",
      "Epoch 35/500\n",
      "\u001b[1m163/163\u001b[0m \u001b[32m━━━━━━━━━━━━━━━━━━━━\u001b[0m\u001b[37m\u001b[0m \u001b[1m1s\u001b[0m 4ms/step - dense_2_loss: 0.9596 - dense_3_loss: 1.3277 - dense_4_loss: 0.7955 - loss: 3.0828\n",
      "Epoch 36/500\n",
      "\u001b[1m163/163\u001b[0m \u001b[32m━━━━━━━━━━━━━━━━━━━━\u001b[0m\u001b[37m\u001b[0m \u001b[1m1s\u001b[0m 4ms/step - dense_2_loss: 1.1029 - dense_3_loss: 0.9155 - dense_4_loss: 0.3815 - loss: 2.3999\n",
      "Epoch 37/500\n",
      "\u001b[1m163/163\u001b[0m \u001b[32m━━━━━━━━━━━━━━━━━━━━\u001b[0m\u001b[37m\u001b[0m \u001b[1m1s\u001b[0m 5ms/step - dense_2_loss: 0.6503 - dense_3_loss: 1.0220 - dense_4_loss: 0.4976 - loss: 2.1698\n",
      "Epoch 38/500\n",
      "\u001b[1m163/163\u001b[0m \u001b[32m━━━━━━━━━━━━━━━━━━━━\u001b[0m\u001b[37m\u001b[0m \u001b[1m1s\u001b[0m 4ms/step - dense_2_loss: 0.8268 - dense_3_loss: 0.9391 - dense_4_loss: 0.5389 - loss: 2.3048\n",
      "Epoch 39/500\n",
      "\u001b[1m163/163\u001b[0m \u001b[32m━━━━━━━━━━━━━━━━━━━━\u001b[0m\u001b[37m\u001b[0m \u001b[1m1s\u001b[0m 4ms/step - dense_2_loss: 1.2262 - dense_3_loss: 1.4647 - dense_4_loss: 1.0745 - loss: 3.7654\n",
      "Epoch 40/500\n",
      "\u001b[1m163/163\u001b[0m \u001b[32m━━━━━━━━━━━━━━━━━━━━\u001b[0m\u001b[37m\u001b[0m \u001b[1m1s\u001b[0m 5ms/step - dense_2_loss: 0.9427 - dense_3_loss: 0.3542 - dense_4_loss: 0.2365 - loss: 1.5334\n",
      "Epoch 41/500\n",
      "\u001b[1m163/163\u001b[0m \u001b[32m━━━━━━━━━━━━━━━━━━━━\u001b[0m\u001b[37m\u001b[0m \u001b[1m1s\u001b[0m 5ms/step - dense_2_loss: 0.7111 - dense_3_loss: 0.3322 - dense_4_loss: 0.1602 - loss: 1.2035\n",
      "Epoch 42/500\n",
      "\u001b[1m163/163\u001b[0m \u001b[32m━━━━━━━━━━━━━━━━━━━━\u001b[0m\u001b[37m\u001b[0m \u001b[1m1s\u001b[0m 4ms/step - dense_2_loss: 0.8666 - dense_3_loss: 0.3196 - dense_4_loss: 0.1946 - loss: 1.3808\n",
      "Epoch 43/500\n",
      "\u001b[1m163/163\u001b[0m \u001b[32m━━━━━━━━━━━━━━━━━━━━\u001b[0m\u001b[37m\u001b[0m \u001b[1m1s\u001b[0m 5ms/step - dense_2_loss: 0.6079 - dense_3_loss: 0.2360 - dense_4_loss: 0.1763 - loss: 1.0201\n",
      "Epoch 44/500\n",
      "\u001b[1m163/163\u001b[0m \u001b[32m━━━━━━━━━━━━━━━━━━━━\u001b[0m\u001b[37m\u001b[0m \u001b[1m1s\u001b[0m 5ms/step - dense_2_loss: 1.2177 - dense_3_loss: 0.5077 - dense_4_loss: 0.4122 - loss: 2.1376\n",
      "Epoch 45/500\n",
      "\u001b[1m163/163\u001b[0m \u001b[32m━━━━━━━━━━━━━━━━━━━━\u001b[0m\u001b[37m\u001b[0m \u001b[1m1s\u001b[0m 5ms/step - dense_2_loss: 0.7937 - dense_3_loss: 0.3721 - dense_4_loss: 0.3262 - loss: 1.4920\n",
      "Epoch 46/500\n",
      "\u001b[1m163/163\u001b[0m \u001b[32m━━━━━━━━━━━━━━━━━━━━\u001b[0m\u001b[37m\u001b[0m \u001b[1m1s\u001b[0m 5ms/step - dense_2_loss: 1.1417 - dense_3_loss: 0.7922 - dense_4_loss: 1.3930 - loss: 3.3269\n",
      "Epoch 47/500\n",
      "\u001b[1m163/163\u001b[0m \u001b[32m━━━━━━━━━━━━━━━━━━━━\u001b[0m\u001b[37m\u001b[0m \u001b[1m1s\u001b[0m 5ms/step - dense_2_loss: 0.9384 - dense_3_loss: 0.6054 - dense_4_loss: 0.3691 - loss: 1.9129\n",
      "Epoch 48/500\n",
      "\u001b[1m163/163\u001b[0m \u001b[32m━━━━━━━━━━━━━━━━━━━━\u001b[0m\u001b[37m\u001b[0m \u001b[1m1s\u001b[0m 5ms/step - dense_2_loss: 0.6578 - dense_3_loss: 0.3969 - dense_4_loss: 0.1804 - loss: 1.2352\n",
      "Epoch 49/500\n",
      "\u001b[1m163/163\u001b[0m \u001b[32m━━━━━━━━━━━━━━━━━━━━\u001b[0m\u001b[37m\u001b[0m \u001b[1m1s\u001b[0m 5ms/step - dense_2_loss: 0.7903 - dense_3_loss: 0.3836 - dense_4_loss: 0.3086 - loss: 1.4825\n",
      "Epoch 50/500\n",
      "\u001b[1m163/163\u001b[0m \u001b[32m━━━━━━━━━━━━━━━━━━━━\u001b[0m\u001b[37m\u001b[0m \u001b[1m1s\u001b[0m 5ms/step - dense_2_loss: 2.6148 - dense_3_loss: 1.2532 - dense_4_loss: 1.4379 - loss: 5.3059\n",
      "Epoch 51/500\n",
      "\u001b[1m163/163\u001b[0m \u001b[32m━━━━━━━━━━━━━━━━━━━━\u001b[0m\u001b[37m\u001b[0m \u001b[1m1s\u001b[0m 5ms/step - dense_2_loss: 0.6878 - dense_3_loss: 0.4082 - dense_4_loss: 0.2610 - loss: 1.3571\n",
      "Epoch 52/500\n",
      "\u001b[1m163/163\u001b[0m \u001b[32m━━━━━━━━━━━━━━━━━━━━\u001b[0m\u001b[37m\u001b[0m \u001b[1m2s\u001b[0m 12ms/step - dense_2_loss: 0.6382 - dense_3_loss: 0.2806 - dense_4_loss: 0.1840 - loss: 1.1027\n",
      "Epoch 53/500\n",
      "\u001b[1m163/163\u001b[0m \u001b[32m━━━━━━━━━━━━━━━━━━━━\u001b[0m\u001b[37m\u001b[0m \u001b[1m2s\u001b[0m 11ms/step - dense_2_loss: 0.6781 - dense_3_loss: 0.4513 - dense_4_loss: 0.2998 - loss: 1.4292\n",
      "Epoch 54/500\n",
      "\u001b[1m163/163\u001b[0m \u001b[32m━━━━━━━━━━━━━━━━━━━━\u001b[0m\u001b[37m\u001b[0m \u001b[1m2s\u001b[0m 11ms/step - dense_2_loss: 0.9115 - dense_3_loss: 0.7612 - dense_4_loss: 0.4162 - loss: 2.0889\n",
      "Epoch 55/500\n",
      "\u001b[1m163/163\u001b[0m \u001b[32m━━━━━━━━━━━━━━━━━━━━\u001b[0m\u001b[37m\u001b[0m \u001b[1m3s\u001b[0m 12ms/step - dense_2_loss: 0.7239 - dense_3_loss: 0.4709 - dense_4_loss: 0.2675 - loss: 1.4622\n",
      "Epoch 56/500\n",
      "\u001b[1m163/163\u001b[0m \u001b[32m━━━━━━━━━━━━━━━━━━━━\u001b[0m\u001b[37m\u001b[0m \u001b[1m2s\u001b[0m 12ms/step - dense_2_loss: 0.5273 - dense_3_loss: 0.3365 - dense_4_loss: 0.2218 - loss: 1.0857\n",
      "Epoch 57/500\n",
      "\u001b[1m163/163\u001b[0m \u001b[32m━━━━━━━━━━━━━━━━━━━━\u001b[0m\u001b[37m\u001b[0m \u001b[1m2s\u001b[0m 12ms/step - dense_2_loss: 0.8183 - dense_3_loss: 0.5728 - dense_4_loss: 0.3760 - loss: 1.7671\n",
      "Epoch 58/500\n",
      "\u001b[1m163/163\u001b[0m \u001b[32m━━━━━━━━━━━━━━━━━━━━\u001b[0m\u001b[37m\u001b[0m \u001b[1m2s\u001b[0m 10ms/step - dense_2_loss: 0.7846 - dense_3_loss: 0.2997 - dense_4_loss: 0.1495 - loss: 1.2338\n",
      "Epoch 59/500\n",
      "\u001b[1m163/163\u001b[0m \u001b[32m━━━━━━━━━━━━━━━━━━━━\u001b[0m\u001b[37m\u001b[0m \u001b[1m2s\u001b[0m 11ms/step - dense_2_loss: 0.6613 - dense_3_loss: 0.3158 - dense_4_loss: 0.1684 - loss: 1.1455\n",
      "Epoch 60/500\n",
      "\u001b[1m163/163\u001b[0m \u001b[32m━━━━━━━━━━━━━━━━━━━━\u001b[0m\u001b[37m\u001b[0m \u001b[1m2s\u001b[0m 12ms/step - dense_2_loss: 0.5999 - dense_3_loss: 0.2853 - dense_4_loss: 0.1178 - loss: 1.0030\n",
      "Epoch 61/500\n",
      "\u001b[1m163/163\u001b[0m \u001b[32m━━━━━━━━━━━━━━━━━━━━\u001b[0m\u001b[37m\u001b[0m \u001b[1m2s\u001b[0m 10ms/step - dense_2_loss: 0.7495 - dense_3_loss: 0.3444 - dense_4_loss: 0.1587 - loss: 1.2527\n",
      "Epoch 62/500\n",
      "\u001b[1m163/163\u001b[0m \u001b[32m━━━━━━━━━━━━━━━━━━━━\u001b[0m\u001b[37m\u001b[0m \u001b[1m3s\u001b[0m 11ms/step - dense_2_loss: 0.9705 - dense_3_loss: 0.4470 - dense_4_loss: 0.1940 - loss: 1.6115\n",
      "Epoch 63/500\n",
      "\u001b[1m163/163\u001b[0m \u001b[32m━━━━━━━━━━━━━━━━━━━━\u001b[0m\u001b[37m\u001b[0m \u001b[1m2s\u001b[0m 11ms/step - dense_2_loss: 0.6978 - dense_3_loss: 0.4031 - dense_4_loss: 0.2148 - loss: 1.3158\n",
      "Epoch 64/500\n",
      "\u001b[1m163/163\u001b[0m \u001b[32m━━━━━━━━━━━━━━━━━━━━\u001b[0m\u001b[37m\u001b[0m \u001b[1m3s\u001b[0m 12ms/step - dense_2_loss: 0.6315 - dense_3_loss: 0.3641 - dense_4_loss: 0.1431 - loss: 1.1386\n",
      "Epoch 65/500\n",
      "\u001b[1m163/163\u001b[0m \u001b[32m━━━━━━━━━━━━━━━━━━━━\u001b[0m\u001b[37m\u001b[0m \u001b[1m3s\u001b[0m 12ms/step - dense_2_loss: 0.8349 - dense_3_loss: 0.3850 - dense_4_loss: 0.1983 - loss: 1.4182\n",
      "Epoch 66/500\n",
      "\u001b[1m163/163\u001b[0m \u001b[32m━━━━━━━━━━━━━━━━━━━━\u001b[0m\u001b[37m\u001b[0m \u001b[1m2s\u001b[0m 7ms/step - dense_2_loss: 0.5138 - dense_3_loss: 0.3449 - dense_4_loss: 0.1664 - loss: 1.0250\n",
      "Epoch 67/500\n",
      "\u001b[1m163/163\u001b[0m \u001b[32m━━━━━━━━━━━━━━━━━━━━\u001b[0m\u001b[37m\u001b[0m \u001b[1m1s\u001b[0m 5ms/step - dense_2_loss: 1.0533 - dense_3_loss: 1.5569 - dense_4_loss: 1.0441 - loss: 3.6543\n",
      "Epoch 68/500\n",
      "\u001b[1m163/163\u001b[0m \u001b[32m━━━━━━━━━━━━━━━━━━━━\u001b[0m\u001b[37m\u001b[0m \u001b[1m1s\u001b[0m 6ms/step - dense_2_loss: 0.4801 - dense_3_loss: 0.2235 - dense_4_loss: 0.0764 - loss: 0.7799\n",
      "Epoch 69/500\n",
      "\u001b[1m163/163\u001b[0m \u001b[32m━━━━━━━━━━━━━━━━━━━━\u001b[0m\u001b[37m\u001b[0m \u001b[1m1s\u001b[0m 5ms/step - dense_2_loss: 0.7336 - dense_3_loss: 0.4595 - dense_4_loss: 0.1833 - loss: 1.3763\n",
      "Epoch 70/500\n",
      "\u001b[1m163/163\u001b[0m \u001b[32m━━━━━━━━━━━━━━━━━━━━\u001b[0m\u001b[37m\u001b[0m \u001b[1m1s\u001b[0m 5ms/step - dense_2_loss: 0.6421 - dense_3_loss: 0.3161 - dense_4_loss: 0.1439 - loss: 1.1021\n",
      "Epoch 71/500\n",
      "\u001b[1m163/163\u001b[0m \u001b[32m━━━━━━━━━━━━━━━━━━━━\u001b[0m\u001b[37m\u001b[0m \u001b[1m1s\u001b[0m 5ms/step - dense_2_loss: 0.4553 - dense_3_loss: 0.2456 - dense_4_loss: 0.1027 - loss: 0.8036\n",
      "Epoch 72/500\n",
      "\u001b[1m163/163\u001b[0m \u001b[32m━━━━━━━━━━━━━━━━━━━━\u001b[0m\u001b[37m\u001b[0m \u001b[1m1s\u001b[0m 5ms/step - dense_2_loss: 0.7298 - dense_3_loss: 0.3718 - dense_4_loss: 0.1215 - loss: 1.2231\n",
      "Epoch 73/500\n",
      "\u001b[1m163/163\u001b[0m \u001b[32m━━━━━━━━━━━━━━━━━━━━\u001b[0m\u001b[37m\u001b[0m \u001b[1m1s\u001b[0m 5ms/step - dense_2_loss: 0.4581 - dense_3_loss: 0.2674 - dense_4_loss: 0.1084 - loss: 0.8339\n",
      "Epoch 74/500\n",
      "\u001b[1m163/163\u001b[0m \u001b[32m━━━━━━━━━━━━━━━━━━━━\u001b[0m\u001b[37m\u001b[0m \u001b[1m1s\u001b[0m 5ms/step - dense_2_loss: 0.6522 - dense_3_loss: 0.3500 - dense_4_loss: 0.1113 - loss: 1.1135\n",
      "Epoch 75/500\n",
      "\u001b[1m163/163\u001b[0m \u001b[32m━━━━━━━━━━━━━━━━━━━━\u001b[0m\u001b[37m\u001b[0m \u001b[1m1s\u001b[0m 5ms/step - dense_2_loss: 0.6423 - dense_3_loss: 0.3402 - dense_4_loss: 0.1304 - loss: 1.1130\n",
      "Epoch 76/500\n",
      "\u001b[1m163/163\u001b[0m \u001b[32m━━━━━━━━━━━━━━━━━━━━\u001b[0m\u001b[37m\u001b[0m \u001b[1m1s\u001b[0m 5ms/step - dense_2_loss: 0.5516 - dense_3_loss: 0.3678 - dense_4_loss: 0.4489 - loss: 1.3683\n",
      "Epoch 77/500\n",
      "\u001b[1m163/163\u001b[0m \u001b[32m━━━━━━━━━━━━━━━━━━━━\u001b[0m\u001b[37m\u001b[0m \u001b[1m1s\u001b[0m 5ms/step - dense_2_loss: 0.5486 - dense_3_loss: 0.2970 - dense_4_loss: 0.1157 - loss: 0.9613\n",
      "Epoch 78/500\n",
      "\u001b[1m163/163\u001b[0m \u001b[32m━━━━━━━━━━━━━━━━━━━━\u001b[0m\u001b[37m\u001b[0m \u001b[1m1s\u001b[0m 5ms/step - dense_2_loss: 0.6404 - dense_3_loss: 0.2670 - dense_4_loss: 0.0878 - loss: 0.9952\n",
      "Epoch 79/500\n",
      "\u001b[1m163/163\u001b[0m \u001b[32m━━━━━━━━━━━━━━━━━━━━\u001b[0m\u001b[37m\u001b[0m \u001b[1m1s\u001b[0m 6ms/step - dense_2_loss: 0.5119 - dense_3_loss: 0.2617 - dense_4_loss: 0.1551 - loss: 0.9286\n",
      "Epoch 80/500\n",
      "\u001b[1m163/163\u001b[0m \u001b[32m━━━━━━━━━━━━━━━━━━━━\u001b[0m\u001b[37m\u001b[0m \u001b[1m2s\u001b[0m 11ms/step - dense_2_loss: 0.5563 - dense_3_loss: 0.2389 - dense_4_loss: 0.1061 - loss: 0.9013\n",
      "Epoch 81/500\n",
      "\u001b[1m163/163\u001b[0m \u001b[32m━━━━━━━━━━━━━━━━━━━━\u001b[0m\u001b[37m\u001b[0m \u001b[1m2s\u001b[0m 11ms/step - dense_2_loss: 0.6390 - dense_3_loss: 0.2470 - dense_4_loss: 0.1208 - loss: 1.0067\n",
      "Epoch 82/500\n",
      "\u001b[1m163/163\u001b[0m \u001b[32m━━━━━━━━━━━━━━━━━━━━\u001b[0m\u001b[37m\u001b[0m \u001b[1m2s\u001b[0m 11ms/step - dense_2_loss: 0.8718 - dense_3_loss: 0.3428 - dense_4_loss: 0.1430 - loss: 1.3577\n",
      "Epoch 83/500\n",
      "\u001b[1m163/163\u001b[0m \u001b[32m━━━━━━━━━━━━━━━━━━━━\u001b[0m\u001b[37m\u001b[0m \u001b[1m2s\u001b[0m 11ms/step - dense_2_loss: 0.8713 - dense_3_loss: 0.4065 - dense_4_loss: 0.1664 - loss: 1.4442\n",
      "Epoch 84/500\n",
      "\u001b[1m163/163\u001b[0m \u001b[32m━━━━━━━━━━━━━━━━━━━━\u001b[0m\u001b[37m\u001b[0m \u001b[1m3s\u001b[0m 11ms/step - dense_2_loss: 0.6809 - dense_3_loss: 0.2609 - dense_4_loss: 0.0886 - loss: 1.0303\n",
      "Epoch 85/500\n",
      "\u001b[1m163/163\u001b[0m \u001b[32m━━━━━━━━━━━━━━━━━━━━\u001b[0m\u001b[37m\u001b[0m \u001b[1m3s\u001b[0m 11ms/step - dense_2_loss: 0.8301 - dense_3_loss: 0.4388 - dense_4_loss: 0.1231 - loss: 1.3920\n",
      "Epoch 86/500\n",
      "\u001b[1m163/163\u001b[0m \u001b[32m━━━━━━━━━━━━━━━━━━━━\u001b[0m\u001b[37m\u001b[0m \u001b[1m2s\u001b[0m 11ms/step - dense_2_loss: 0.5851 - dense_3_loss: 0.2407 - dense_4_loss: 0.1017 - loss: 0.9275\n",
      "Epoch 87/500\n",
      "\u001b[1m163/163\u001b[0m \u001b[32m━━━━━━━━━━━━━━━━━━━━\u001b[0m\u001b[37m\u001b[0m \u001b[1m2s\u001b[0m 11ms/step - dense_2_loss: 0.8104 - dense_3_loss: 0.2997 - dense_4_loss: 0.0950 - loss: 1.2051\n",
      "Epoch 88/500\n",
      "\u001b[1m163/163\u001b[0m \u001b[32m━━━━━━━━━━━━━━━━━━━━\u001b[0m\u001b[37m\u001b[0m \u001b[1m3s\u001b[0m 12ms/step - dense_2_loss: 0.5521 - dense_3_loss: 0.2430 - dense_4_loss: 0.1509 - loss: 0.9460\n",
      "Epoch 89/500\n",
      "\u001b[1m163/163\u001b[0m \u001b[32m━━━━━━━━━━━━━━━━━━━━\u001b[0m\u001b[37m\u001b[0m \u001b[1m2s\u001b[0m 5ms/step - dense_2_loss: 0.6038 - dense_3_loss: 0.2671 - dense_4_loss: 0.1331 - loss: 1.0040\n",
      "Epoch 90/500\n",
      "\u001b[1m163/163\u001b[0m \u001b[32m━━━━━━━━━━━━━━━━━━━━\u001b[0m\u001b[37m\u001b[0m \u001b[1m1s\u001b[0m 5ms/step - dense_2_loss: 0.5242 - dense_3_loss: 0.2446 - dense_4_loss: 0.0828 - loss: 0.8517\n",
      "Epoch 91/500\n",
      "\u001b[1m163/163\u001b[0m \u001b[32m━━━━━━━━━━━━━━━━━━━━\u001b[0m\u001b[37m\u001b[0m \u001b[1m1s\u001b[0m 6ms/step - dense_2_loss: 0.5525 - dense_3_loss: 0.2290 - dense_4_loss: 0.0715 - loss: 0.8530\n",
      "Epoch 92/500\n",
      "\u001b[1m163/163\u001b[0m \u001b[32m━━━━━━━━━━━━━━━━━━━━\u001b[0m\u001b[37m\u001b[0m \u001b[1m1s\u001b[0m 5ms/step - dense_2_loss: 0.5792 - dense_3_loss: 0.2521 - dense_4_loss: 0.1105 - loss: 0.9418\n",
      "Epoch 93/500\n",
      "\u001b[1m163/163\u001b[0m \u001b[32m━━━━━━━━━━━━━━━━━━━━\u001b[0m\u001b[37m\u001b[0m \u001b[1m1s\u001b[0m 4ms/step - dense_2_loss: 0.5870 - dense_3_loss: 0.2098 - dense_4_loss: 0.0909 - loss: 0.8877\n",
      "Epoch 94/500\n",
      "\u001b[1m163/163\u001b[0m \u001b[32m━━━━━━━━━━━━━━━━━━━━\u001b[0m\u001b[37m\u001b[0m \u001b[1m1s\u001b[0m 5ms/step - dense_2_loss: 0.7178 - dense_3_loss: 0.2575 - dense_4_loss: 0.1033 - loss: 1.0787\n",
      "Epoch 95/500\n",
      "\u001b[1m163/163\u001b[0m \u001b[32m━━━━━━━━━━━━━━━━━━━━\u001b[0m\u001b[37m\u001b[0m \u001b[1m1s\u001b[0m 5ms/step - dense_2_loss: 1.1267 - dense_3_loss: 0.4943 - dense_4_loss: 0.1001 - loss: 1.7212\n",
      "Epoch 96/500\n",
      "\u001b[1m163/163\u001b[0m \u001b[32m━━━━━━━━━━━━━━━━━━━━\u001b[0m\u001b[37m\u001b[0m \u001b[1m1s\u001b[0m 5ms/step - dense_2_loss: 0.6186 - dense_3_loss: 0.2538 - dense_4_loss: 0.1116 - loss: 0.9841\n",
      "Epoch 97/500\n",
      "\u001b[1m163/163\u001b[0m \u001b[32m━━━━━━━━━━━━━━━━━━━━\u001b[0m\u001b[37m\u001b[0m \u001b[1m1s\u001b[0m 4ms/step - dense_2_loss: 0.6393 - dense_3_loss: 0.2655 - dense_4_loss: 0.0990 - loss: 1.0039\n",
      "Epoch 98/500\n",
      "\u001b[1m163/163\u001b[0m \u001b[32m━━━━━━━━━━━━━━━━━━━━\u001b[0m\u001b[37m\u001b[0m \u001b[1m1s\u001b[0m 5ms/step - dense_2_loss: 0.5574 - dense_3_loss: 0.2532 - dense_4_loss: 0.0862 - loss: 0.8968\n",
      "Epoch 99/500\n",
      "\u001b[1m163/163\u001b[0m \u001b[32m━━━━━━━━━━━━━━━━━━━━\u001b[0m\u001b[37m\u001b[0m \u001b[1m1s\u001b[0m 5ms/step - dense_2_loss: 0.4548 - dense_3_loss: 0.1818 - dense_4_loss: 0.0886 - loss: 0.7252\n",
      "Epoch 100/500\n",
      "\u001b[1m163/163\u001b[0m \u001b[32m━━━━━━━━━━━━━━━━━━━━\u001b[0m\u001b[37m\u001b[0m \u001b[1m1s\u001b[0m 5ms/step - dense_2_loss: 0.8680 - dense_3_loss: 0.4083 - dense_4_loss: 0.1139 - loss: 1.3901\n",
      "Epoch 101/500\n",
      "\u001b[1m163/163\u001b[0m \u001b[32m━━━━━━━━━━━━━━━━━━━━\u001b[0m\u001b[37m\u001b[0m \u001b[1m1s\u001b[0m 5ms/step - dense_2_loss: 0.5246 - dense_3_loss: 0.1594 - dense_4_loss: 0.0792 - loss: 0.7631\n",
      "Epoch 102/500\n",
      "\u001b[1m163/163\u001b[0m \u001b[32m━━━━━━━━━━━━━━━━━━━━\u001b[0m\u001b[37m\u001b[0m \u001b[1m1s\u001b[0m 5ms/step - dense_2_loss: 0.5408 - dense_3_loss: 0.2188 - dense_4_loss: 0.0719 - loss: 0.8315\n",
      "Epoch 103/500\n",
      "\u001b[1m163/163\u001b[0m \u001b[32m━━━━━━━━━━━━━━━━━━━━\u001b[0m\u001b[37m\u001b[0m \u001b[1m1s\u001b[0m 6ms/step - dense_2_loss: 0.4938 - dense_3_loss: 0.2350 - dense_4_loss: 0.0844 - loss: 0.8131\n",
      "Epoch 104/500\n",
      "\u001b[1m163/163\u001b[0m \u001b[32m━━━━━━━━━━━━━━━━━━━━\u001b[0m\u001b[37m\u001b[0m \u001b[1m1s\u001b[0m 5ms/step - dense_2_loss: 0.7962 - dense_3_loss: 0.3074 - dense_4_loss: 0.0909 - loss: 1.1945\n",
      "Epoch 105/500\n",
      "\u001b[1m163/163\u001b[0m \u001b[32m━━━━━━━━━━━━━━━━━━━━\u001b[0m\u001b[37m\u001b[0m \u001b[1m1s\u001b[0m 5ms/step - dense_2_loss: 0.5431 - dense_3_loss: 0.2096 - dense_4_loss: 0.0931 - loss: 0.8458\n",
      "Epoch 106/500\n",
      "\u001b[1m163/163\u001b[0m \u001b[32m━━━━━━━━━━━━━━━━━━━━\u001b[0m\u001b[37m\u001b[0m \u001b[1m1s\u001b[0m 5ms/step - dense_2_loss: 0.5649 - dense_3_loss: 0.2304 - dense_4_loss: 0.1063 - loss: 0.9016\n",
      "Epoch 107/500\n",
      "\u001b[1m163/163\u001b[0m \u001b[32m━━━━━━━━━━━━━━━━━━━━\u001b[0m\u001b[37m\u001b[0m \u001b[1m1s\u001b[0m 5ms/step - dense_2_loss: 0.6682 - dense_3_loss: 0.2042 - dense_4_loss: 0.0869 - loss: 0.9594\n",
      "Epoch 108/500\n",
      "\u001b[1m163/163\u001b[0m \u001b[32m━━━━━━━━━━━━━━━━━━━━\u001b[0m\u001b[37m\u001b[0m \u001b[1m1s\u001b[0m 6ms/step - dense_2_loss: 0.9383 - dense_3_loss: 0.3428 - dense_4_loss: 0.0898 - loss: 1.3710\n",
      "Epoch 109/500\n",
      "\u001b[1m163/163\u001b[0m \u001b[32m━━━━━━━━━━━━━━━━━━━━\u001b[0m\u001b[37m\u001b[0m \u001b[1m2s\u001b[0m 11ms/step - dense_2_loss: 0.7702 - dense_3_loss: 0.2431 - dense_4_loss: 0.0952 - loss: 1.1085\n",
      "Epoch 110/500\n",
      "\u001b[1m163/163\u001b[0m \u001b[32m━━━━━━━━━━━━━━━━━━━━\u001b[0m\u001b[37m\u001b[0m \u001b[1m2s\u001b[0m 14ms/step - dense_2_loss: 0.6730 - dense_3_loss: 0.2589 - dense_4_loss: 0.1041 - loss: 1.0360\n",
      "Epoch 111/500\n",
      "\u001b[1m163/163\u001b[0m \u001b[32m━━━━━━━━━━━━━━━━━━━━\u001b[0m\u001b[37m\u001b[0m \u001b[1m2s\u001b[0m 11ms/step - dense_2_loss: 0.5919 - dense_3_loss: 0.2275 - dense_4_loss: 0.0938 - loss: 0.9132\n",
      "Epoch 112/500\n",
      "\u001b[1m163/163\u001b[0m \u001b[32m━━━━━━━━━━━━━━━━━━━━\u001b[0m\u001b[37m\u001b[0m \u001b[1m2s\u001b[0m 13ms/step - dense_2_loss: 0.5770 - dense_3_loss: 0.2485 - dense_4_loss: 0.0869 - loss: 0.9123\n",
      "Epoch 113/500\n",
      "\u001b[1m163/163\u001b[0m \u001b[32m━━━━━━━━━━━━━━━━━━━━\u001b[0m\u001b[37m\u001b[0m \u001b[1m2s\u001b[0m 11ms/step - dense_2_loss: 0.5124 - dense_3_loss: 0.2074 - dense_4_loss: 0.0608 - loss: 0.7805\n",
      "Epoch 114/500\n",
      "\u001b[1m163/163\u001b[0m \u001b[32m━━━━━━━━━━━━━━━━━━━━\u001b[0m\u001b[37m\u001b[0m \u001b[1m2s\u001b[0m 12ms/step - dense_2_loss: 0.5389 - dense_3_loss: 0.1966 - dense_4_loss: 0.0698 - loss: 0.8054\n",
      "Epoch 115/500\n",
      "\u001b[1m163/163\u001b[0m \u001b[32m━━━━━━━━━━━━━━━━━━━━\u001b[0m\u001b[37m\u001b[0m \u001b[1m2s\u001b[0m 12ms/step - dense_2_loss: 0.6895 - dense_3_loss: 0.2879 - dense_4_loss: 0.0746 - loss: 1.0519\n",
      "Epoch 116/500\n",
      "\u001b[1m163/163\u001b[0m \u001b[32m━━━━━━━━━━━━━━━━━━━━\u001b[0m\u001b[37m\u001b[0m \u001b[1m2s\u001b[0m 11ms/step - dense_2_loss: 0.5963 - dense_3_loss: 0.2914 - dense_4_loss: 0.0720 - loss: 0.9596\n",
      "Epoch 117/500\n",
      "\u001b[1m163/163\u001b[0m \u001b[32m━━━━━━━━━━━━━━━━━━━━\u001b[0m\u001b[37m\u001b[0m \u001b[1m2s\u001b[0m 11ms/step - dense_2_loss: 0.6030 - dense_3_loss: 0.2602 - dense_4_loss: 0.0784 - loss: 0.9416\n",
      "Epoch 118/500\n",
      "\u001b[1m163/163\u001b[0m \u001b[32m━━━━━━━━━━━━━━━━━━━━\u001b[0m\u001b[37m\u001b[0m \u001b[1m1s\u001b[0m 6ms/step - dense_2_loss: 0.6977 - dense_3_loss: 0.2837 - dense_4_loss: 0.0960 - loss: 1.0774\n",
      "Epoch 119/500\n",
      "\u001b[1m163/163\u001b[0m \u001b[32m━━━━━━━━━━━━━━━━━━━━\u001b[0m\u001b[37m\u001b[0m \u001b[1m1s\u001b[0m 6ms/step - dense_2_loss: 0.5673 - dense_3_loss: 0.2287 - dense_4_loss: 0.0883 - loss: 0.8842\n",
      "Epoch 120/500\n",
      "\u001b[1m163/163\u001b[0m \u001b[32m━━━━━━━━━━━━━━━━━━━━\u001b[0m\u001b[37m\u001b[0m \u001b[1m1s\u001b[0m 6ms/step - dense_2_loss: 0.6770 - dense_3_loss: 0.2749 - dense_4_loss: 0.0986 - loss: 1.0505\n",
      "Epoch 121/500\n",
      "\u001b[1m163/163\u001b[0m \u001b[32m━━━━━━━━━━━━━━━━━━━━\u001b[0m\u001b[37m\u001b[0m \u001b[1m1s\u001b[0m 5ms/step - dense_2_loss: 0.5272 - dense_3_loss: 0.1993 - dense_4_loss: 0.0742 - loss: 0.8007\n",
      "Epoch 122/500\n",
      "\u001b[1m163/163\u001b[0m \u001b[32m━━━━━━━━━━━━━━━━━━━━\u001b[0m\u001b[37m\u001b[0m \u001b[1m1s\u001b[0m 4ms/step - dense_2_loss: 0.5247 - dense_3_loss: 0.2300 - dense_4_loss: 0.0809 - loss: 0.8355\n",
      "Epoch 123/500\n",
      "\u001b[1m163/163\u001b[0m \u001b[32m━━━━━━━━━━━━━━━━━━━━\u001b[0m\u001b[37m\u001b[0m \u001b[1m1s\u001b[0m 5ms/step - dense_2_loss: 0.6584 - dense_3_loss: 0.2280 - dense_4_loss: 0.0833 - loss: 0.9696\n",
      "Epoch 124/500\n",
      "\u001b[1m163/163\u001b[0m \u001b[32m━━━━━━━━━━━━━━━━━━━━\u001b[0m\u001b[37m\u001b[0m \u001b[1m1s\u001b[0m 5ms/step - dense_2_loss: 0.5609 - dense_3_loss: 0.2128 - dense_4_loss: 0.0680 - loss: 0.8416\n",
      "Epoch 125/500\n",
      "\u001b[1m163/163\u001b[0m \u001b[32m━━━━━━━━━━━━━━━━━━━━\u001b[0m\u001b[37m\u001b[0m \u001b[1m1s\u001b[0m 5ms/step - dense_2_loss: 0.4435 - dense_3_loss: 0.2043 - dense_4_loss: 0.0816 - loss: 0.7295\n",
      "Epoch 126/500\n",
      "\u001b[1m163/163\u001b[0m \u001b[32m━━━━━━━━━━━━━━━━━━━━\u001b[0m\u001b[37m\u001b[0m \u001b[1m1s\u001b[0m 6ms/step - dense_2_loss: 0.5872 - dense_3_loss: 0.2217 - dense_4_loss: 0.0877 - loss: 0.8966\n",
      "Epoch 127/500\n",
      "\u001b[1m163/163\u001b[0m \u001b[32m━━━━━━━━━━━━━━━━━━━━\u001b[0m\u001b[37m\u001b[0m \u001b[1m1s\u001b[0m 6ms/step - dense_2_loss: 0.5646 - dense_3_loss: 0.2318 - dense_4_loss: 0.0734 - loss: 0.8698\n",
      "Epoch 128/500\n",
      "\u001b[1m163/163\u001b[0m \u001b[32m━━━━━━━━━━━━━━━━━━━━\u001b[0m\u001b[37m\u001b[0m \u001b[1m1s\u001b[0m 6ms/step - dense_2_loss: 0.5591 - dense_3_loss: 0.1993 - dense_4_loss: 0.0835 - loss: 0.8419\n",
      "Epoch 129/500\n",
      "\u001b[1m163/163\u001b[0m \u001b[32m━━━━━━━━━━━━━━━━━━━━\u001b[0m\u001b[37m\u001b[0m \u001b[1m1s\u001b[0m 5ms/step - dense_2_loss: 0.4071 - dense_3_loss: 0.1793 - dense_4_loss: 0.0752 - loss: 0.6616\n",
      "Epoch 130/500\n",
      "\u001b[1m163/163\u001b[0m \u001b[32m━━━━━━━━━━━━━━━━━━━━\u001b[0m\u001b[37m\u001b[0m \u001b[1m1s\u001b[0m 5ms/step - dense_2_loss: 0.4697 - dense_3_loss: 0.2276 - dense_4_loss: 0.0784 - loss: 0.7757\n",
      "Epoch 131/500\n",
      "\u001b[1m163/163\u001b[0m \u001b[32m━━━━━━━━━━━━━━━━━━━━\u001b[0m\u001b[37m\u001b[0m \u001b[1m1s\u001b[0m 5ms/step - dense_2_loss: 0.5837 - dense_3_loss: 0.2357 - dense_4_loss: 0.0873 - loss: 0.9068\n",
      "Epoch 132/500\n",
      "\u001b[1m163/163\u001b[0m \u001b[32m━━━━━━━━━━━━━━━━━━━━\u001b[0m\u001b[37m\u001b[0m \u001b[1m2s\u001b[0m 10ms/step - dense_2_loss: 0.4634 - dense_3_loss: 0.1984 - dense_4_loss: 0.0752 - loss: 0.7370\n",
      "Epoch 133/500\n",
      "\u001b[1m163/163\u001b[0m \u001b[32m━━━━━━━━━━━━━━━━━━━━\u001b[0m\u001b[37m\u001b[0m \u001b[1m2s\u001b[0m 11ms/step - dense_2_loss: 0.5523 - dense_3_loss: 0.2591 - dense_4_loss: 0.0923 - loss: 0.9038\n",
      "Epoch 134/500\n",
      "\u001b[1m163/163\u001b[0m \u001b[32m━━━━━━━━━━━━━━━━━━━━\u001b[0m\u001b[37m\u001b[0m \u001b[1m2s\u001b[0m 12ms/step - dense_2_loss: 0.6702 - dense_3_loss: 0.2631 - dense_4_loss: 0.0913 - loss: 1.0246\n",
      "Epoch 135/500\n",
      "\u001b[1m163/163\u001b[0m \u001b[32m━━━━━━━━━━━━━━━━━━━━\u001b[0m\u001b[37m\u001b[0m \u001b[1m2s\u001b[0m 10ms/step - dense_2_loss: 0.5523 - dense_3_loss: 0.2227 - dense_4_loss: 0.0858 - loss: 0.8608\n",
      "Epoch 136/500\n",
      "\u001b[1m163/163\u001b[0m \u001b[32m━━━━━━━━━━━━━━━━━━━━\u001b[0m\u001b[37m\u001b[0m \u001b[1m2s\u001b[0m 12ms/step - dense_2_loss: 0.7980 - dense_3_loss: 0.2797 - dense_4_loss: 0.1126 - loss: 1.1903\n",
      "Epoch 137/500\n",
      "\u001b[1m163/163\u001b[0m \u001b[32m━━━━━━━━━━━━━━━━━━━━\u001b[0m\u001b[37m\u001b[0m \u001b[1m2s\u001b[0m 5ms/step - dense_2_loss: 0.6665 - dense_3_loss: 0.2638 - dense_4_loss: 0.0854 - loss: 1.0158\n",
      "Epoch 138/500\n",
      "\u001b[1m163/163\u001b[0m \u001b[32m━━━━━━━━━━━━━━━━━━━━\u001b[0m\u001b[37m\u001b[0m \u001b[1m1s\u001b[0m 6ms/step - dense_2_loss: 0.5657 - dense_3_loss: 0.1936 - dense_4_loss: 0.0901 - loss: 0.8495\n",
      "Epoch 139/500\n",
      "\u001b[1m163/163\u001b[0m \u001b[32m━━━━━━━━━━━━━━━━━━━━\u001b[0m\u001b[37m\u001b[0m \u001b[1m1s\u001b[0m 5ms/step - dense_2_loss: 0.6905 - dense_3_loss: 0.2451 - dense_4_loss: 0.0881 - loss: 1.0237\n",
      "Epoch 140/500\n",
      "\u001b[1m163/163\u001b[0m \u001b[32m━━━━━━━━━━━━━━━━━━━━\u001b[0m\u001b[37m\u001b[0m \u001b[1m1s\u001b[0m 6ms/step - dense_2_loss: 0.6306 - dense_3_loss: 0.2709 - dense_4_loss: 0.0847 - loss: 0.9862\n",
      "Epoch 141/500\n",
      "\u001b[1m163/163\u001b[0m \u001b[32m━━━━━━━━━━━━━━━━━━━━\u001b[0m\u001b[37m\u001b[0m \u001b[1m1s\u001b[0m 6ms/step - dense_2_loss: 1.1588 - dense_3_loss: 0.3920 - dense_4_loss: 0.1026 - loss: 1.6534\n",
      "Epoch 142/500\n",
      "\u001b[1m163/163\u001b[0m \u001b[32m━━━━━━━━━━━━━━━━━━━━\u001b[0m\u001b[37m\u001b[0m \u001b[1m1s\u001b[0m 6ms/step - dense_2_loss: 0.7790 - dense_3_loss: 0.2525 - dense_4_loss: 0.0816 - loss: 1.1130\n",
      "Epoch 143/500\n",
      "\u001b[1m163/163\u001b[0m \u001b[32m━━━━━━━━━━━━━━━━━━━━\u001b[0m\u001b[37m\u001b[0m \u001b[1m1s\u001b[0m 6ms/step - dense_2_loss: 0.5525 - dense_3_loss: 0.2125 - dense_4_loss: 0.1006 - loss: 0.8657\n",
      "Epoch 144/500\n",
      "\u001b[1m163/163\u001b[0m \u001b[32m━━━━━━━━━━━━━━━━━━━━\u001b[0m\u001b[37m\u001b[0m \u001b[1m1s\u001b[0m 6ms/step - dense_2_loss: 0.4982 - dense_3_loss: 0.1740 - dense_4_loss: 0.0770 - loss: 0.7492\n",
      "Epoch 145/500\n",
      "\u001b[1m163/163\u001b[0m \u001b[32m━━━━━━━━━━━━━━━━━━━━\u001b[0m\u001b[37m\u001b[0m \u001b[1m1s\u001b[0m 5ms/step - dense_2_loss: 0.6690 - dense_3_loss: 0.2633 - dense_4_loss: 0.0936 - loss: 1.0258\n",
      "Epoch 146/500\n",
      "\u001b[1m163/163\u001b[0m \u001b[32m━━━━━━━━━━━━━━━━━━━━\u001b[0m\u001b[37m\u001b[0m \u001b[1m1s\u001b[0m 6ms/step - dense_2_loss: 0.6371 - dense_3_loss: 0.2723 - dense_4_loss: 0.0934 - loss: 1.0028\n",
      "Epoch 147/500\n",
      "\u001b[1m163/163\u001b[0m \u001b[32m━━━━━━━━━━━━━━━━━━━━\u001b[0m\u001b[37m\u001b[0m \u001b[1m1s\u001b[0m 5ms/step - dense_2_loss: 0.5273 - dense_3_loss: 0.2537 - dense_4_loss: 0.0877 - loss: 0.8687\n",
      "Epoch 148/500\n",
      "\u001b[1m163/163\u001b[0m \u001b[32m━━━━━━━━━━━━━━━━━━━━\u001b[0m\u001b[37m\u001b[0m \u001b[1m1s\u001b[0m 5ms/step - dense_2_loss: 0.7036 - dense_3_loss: 0.2353 - dense_4_loss: 0.0822 - loss: 1.0211\n",
      "Epoch 149/500\n",
      "\u001b[1m163/163\u001b[0m \u001b[32m━━━━━━━━━━━━━━━━━━━━\u001b[0m\u001b[37m\u001b[0m \u001b[1m1s\u001b[0m 5ms/step - dense_2_loss: 0.5675 - dense_3_loss: 0.2157 - dense_4_loss: 0.0765 - loss: 0.8597\n",
      "Epoch 150/500\n",
      "\u001b[1m163/163\u001b[0m \u001b[32m━━━━━━━━━━━━━━━━━━━━\u001b[0m\u001b[37m\u001b[0m \u001b[1m1s\u001b[0m 5ms/step - dense_2_loss: 0.7266 - dense_3_loss: 0.2790 - dense_4_loss: 0.0950 - loss: 1.1007\n",
      "Epoch 151/500\n",
      "\u001b[1m163/163\u001b[0m \u001b[32m━━━━━━━━━━━━━━━━━━━━\u001b[0m\u001b[37m\u001b[0m \u001b[1m1s\u001b[0m 5ms/step - dense_2_loss: 0.5123 - dense_3_loss: 0.1782 - dense_4_loss: 0.0817 - loss: 0.7721\n",
      "Epoch 152/500\n",
      "\u001b[1m163/163\u001b[0m \u001b[32m━━━━━━━━━━━━━━━━━━━━\u001b[0m\u001b[37m\u001b[0m \u001b[1m1s\u001b[0m 6ms/step - dense_2_loss: 0.8607 - dense_3_loss: 0.3378 - dense_4_loss: 0.0953 - loss: 1.2938\n",
      "Epoch 153/500\n",
      "\u001b[1m163/163\u001b[0m \u001b[32m━━━━━━━━━━━━━━━━━━━━\u001b[0m\u001b[37m\u001b[0m \u001b[1m1s\u001b[0m 6ms/step - dense_2_loss: 0.6484 - dense_3_loss: 0.2148 - dense_4_loss: 0.0828 - loss: 0.9460\n",
      "Epoch 154/500\n",
      "\u001b[1m163/163\u001b[0m \u001b[32m━━━━━━━━━━━━━━━━━━━━\u001b[0m\u001b[37m\u001b[0m \u001b[1m1s\u001b[0m 6ms/step - dense_2_loss: 0.5912 - dense_3_loss: 0.2442 - dense_4_loss: 0.0834 - loss: 0.9188\n",
      "Epoch 155/500\n",
      "\u001b[1m163/163\u001b[0m \u001b[32m━━━━━━━━━━━━━━━━━━━━\u001b[0m\u001b[37m\u001b[0m \u001b[1m1s\u001b[0m 5ms/step - dense_2_loss: 0.6043 - dense_3_loss: 0.2786 - dense_4_loss: 0.0815 - loss: 0.9644\n",
      "Epoch 156/500\n",
      "\u001b[1m163/163\u001b[0m \u001b[32m━━━━━━━━━━━━━━━━━━━━\u001b[0m\u001b[37m\u001b[0m \u001b[1m1s\u001b[0m 5ms/step - dense_2_loss: 0.6720 - dense_3_loss: 0.3185 - dense_4_loss: 0.0977 - loss: 1.0882\n",
      "Epoch 157/500\n",
      "\u001b[1m163/163\u001b[0m \u001b[32m━━━━━━━━━━━━━━━━━━━━\u001b[0m\u001b[37m\u001b[0m \u001b[1m1s\u001b[0m 5ms/step - dense_2_loss: 0.5743 - dense_3_loss: 0.2426 - dense_4_loss: 0.1050 - loss: 0.9219\n",
      "Epoch 158/500\n",
      "\u001b[1m163/163\u001b[0m \u001b[32m━━━━━━━━━━━━━━━━━━━━\u001b[0m\u001b[37m\u001b[0m \u001b[1m1s\u001b[0m 5ms/step - dense_2_loss: 0.4235 - dense_3_loss: 0.2117 - dense_4_loss: 0.0779 - loss: 0.7130\n",
      "Epoch 159/500\n",
      "\u001b[1m163/163\u001b[0m \u001b[32m━━━━━━━━━━━━━━━━━━━━\u001b[0m\u001b[37m\u001b[0m \u001b[1m2s\u001b[0m 11ms/step - dense_2_loss: 0.4846 - dense_3_loss: 0.1821 - dense_4_loss: 0.0786 - loss: 0.7452\n",
      "Epoch 160/500\n",
      "\u001b[1m163/163\u001b[0m \u001b[32m━━━━━━━━━━━━━━━━━━━━\u001b[0m\u001b[37m\u001b[0m \u001b[1m3s\u001b[0m 12ms/step - dense_2_loss: 0.8738 - dense_3_loss: 0.3702 - dense_4_loss: 0.0956 - loss: 1.3396\n",
      "Epoch 161/500\n",
      "\u001b[1m163/163\u001b[0m \u001b[32m━━━━━━━━━━━━━━━━━━━━\u001b[0m\u001b[37m\u001b[0m \u001b[1m3s\u001b[0m 12ms/step - dense_2_loss: 0.6848 - dense_3_loss: 0.2034 - dense_4_loss: 0.0815 - loss: 0.9698\n",
      "Epoch 162/500\n",
      "\u001b[1m163/163\u001b[0m \u001b[32m━━━━━━━━━━━━━━━━━━━━\u001b[0m\u001b[37m\u001b[0m \u001b[1m2s\u001b[0m 11ms/step - dense_2_loss: 0.5666 - dense_3_loss: 0.2523 - dense_4_loss: 0.0749 - loss: 0.8938\n",
      "Epoch 163/500\n",
      "\u001b[1m163/163\u001b[0m \u001b[32m━━━━━━━━━━━━━━━━━━━━\u001b[0m\u001b[37m\u001b[0m \u001b[1m3s\u001b[0m 13ms/step - dense_2_loss: 0.5500 - dense_3_loss: 0.2081 - dense_4_loss: 0.0839 - loss: 0.8421\n",
      "Epoch 164/500\n",
      "\u001b[1m163/163\u001b[0m \u001b[32m━━━━━━━━━━━━━━━━━━━━\u001b[0m\u001b[37m\u001b[0m \u001b[1m2s\u001b[0m 11ms/step - dense_2_loss: 0.6584 - dense_3_loss: 0.2378 - dense_4_loss: 0.0776 - loss: 0.9738\n",
      "Epoch 165/500\n",
      "\u001b[1m163/163\u001b[0m \u001b[32m━━━━━━━━━━━━━━━━━━━━\u001b[0m\u001b[37m\u001b[0m \u001b[1m2s\u001b[0m 12ms/step - dense_2_loss: 0.4998 - dense_3_loss: 0.1985 - dense_4_loss: 0.0711 - loss: 0.7694\n",
      "Epoch 166/500\n",
      "\u001b[1m163/163\u001b[0m \u001b[32m━━━━━━━━━━━━━━━━━━━━\u001b[0m\u001b[37m\u001b[0m \u001b[1m2s\u001b[0m 10ms/step - dense_2_loss: 0.6286 - dense_3_loss: 0.2331 - dense_4_loss: 0.0836 - loss: 0.9453\n",
      "Epoch 167/500\n",
      "\u001b[1m163/163\u001b[0m \u001b[32m━━━━━━━━━━━━━━━━━━━━\u001b[0m\u001b[37m\u001b[0m \u001b[1m1s\u001b[0m 6ms/step - dense_2_loss: 0.8182 - dense_3_loss: 0.2725 - dense_4_loss: 0.0929 - loss: 1.1835\n",
      "Epoch 168/500\n",
      "\u001b[1m163/163\u001b[0m \u001b[32m━━━━━━━━━━━━━━━━━━━━\u001b[0m\u001b[37m\u001b[0m \u001b[1m1s\u001b[0m 6ms/step - dense_2_loss: 0.5968 - dense_3_loss: 0.2424 - dense_4_loss: 0.0953 - loss: 0.9345\n",
      "Epoch 169/500\n",
      "\u001b[1m163/163\u001b[0m \u001b[32m━━━━━━━━━━━━━━━━━━━━\u001b[0m\u001b[37m\u001b[0m \u001b[1m1s\u001b[0m 6ms/step - dense_2_loss: 0.5851 - dense_3_loss: 0.2349 - dense_4_loss: 0.0819 - loss: 0.9019\n",
      "Epoch 170/500\n",
      "\u001b[1m163/163\u001b[0m \u001b[32m━━━━━━━━━━━━━━━━━━━━\u001b[0m\u001b[37m\u001b[0m \u001b[1m1s\u001b[0m 7ms/step - dense_2_loss: 0.6057 - dense_3_loss: 0.1968 - dense_4_loss: 0.0735 - loss: 0.8760\n",
      "Epoch 171/500\n",
      "\u001b[1m163/163\u001b[0m \u001b[32m━━━━━━━━━━━━━━━━━━━━\u001b[0m\u001b[37m\u001b[0m \u001b[1m1s\u001b[0m 5ms/step - dense_2_loss: 0.4542 - dense_3_loss: 0.1906 - dense_4_loss: 0.0741 - loss: 0.7189\n",
      "Epoch 172/500\n",
      "\u001b[1m163/163\u001b[0m \u001b[32m━━━━━━━━━━━━━━━━━━━━\u001b[0m\u001b[37m\u001b[0m \u001b[1m1s\u001b[0m 5ms/step - dense_2_loss: 0.5652 - dense_3_loss: 0.2574 - dense_4_loss: 0.0786 - loss: 0.9011\n",
      "Epoch 173/500\n",
      "\u001b[1m163/163\u001b[0m \u001b[32m━━━━━━━━━━━━━━━━━━━━\u001b[0m\u001b[37m\u001b[0m \u001b[1m1s\u001b[0m 5ms/step - dense_2_loss: 0.6876 - dense_3_loss: 0.2266 - dense_4_loss: 0.0843 - loss: 0.9985\n",
      "Epoch 174/500\n",
      "\u001b[1m163/163\u001b[0m \u001b[32m━━━━━━━━━━━━━━━━━━━━\u001b[0m\u001b[37m\u001b[0m \u001b[1m1s\u001b[0m 5ms/step - dense_2_loss: 0.6524 - dense_3_loss: 0.2569 - dense_4_loss: 0.0943 - loss: 1.0036\n",
      "Epoch 175/500\n",
      "\u001b[1m163/163\u001b[0m \u001b[32m━━━━━━━━━━━━━━━━━━━━\u001b[0m\u001b[37m\u001b[0m \u001b[1m1s\u001b[0m 6ms/step - dense_2_loss: 0.6506 - dense_3_loss: 0.2154 - dense_4_loss: 0.0767 - loss: 0.9428\n",
      "Epoch 176/500\n",
      "\u001b[1m163/163\u001b[0m \u001b[32m━━━━━━━━━━━━━━━━━━━━\u001b[0m\u001b[37m\u001b[0m \u001b[1m1s\u001b[0m 6ms/step - dense_2_loss: 0.4670 - dense_3_loss: 0.2186 - dense_4_loss: 0.0770 - loss: 0.7627\n",
      "Epoch 177/500\n",
      "\u001b[1m163/163\u001b[0m \u001b[32m━━━━━━━━━━━━━━━━━━━━\u001b[0m\u001b[37m\u001b[0m \u001b[1m1s\u001b[0m 6ms/step - dense_2_loss: 0.5586 - dense_3_loss: 0.2188 - dense_4_loss: 0.0727 - loss: 0.8501\n",
      "Epoch 178/500\n",
      "\u001b[1m163/163\u001b[0m \u001b[32m━━━━━━━━━━━━━━━━━━━━\u001b[0m\u001b[37m\u001b[0m \u001b[1m1s\u001b[0m 6ms/step - dense_2_loss: 0.6606 - dense_3_loss: 0.2760 - dense_4_loss: 0.0879 - loss: 1.0245\n",
      "Epoch 179/500\n",
      "\u001b[1m163/163\u001b[0m \u001b[32m━━━━━━━━━━━━━━━━━━━━\u001b[0m\u001b[37m\u001b[0m \u001b[1m1s\u001b[0m 6ms/step - dense_2_loss: 0.7917 - dense_3_loss: 0.3501 - dense_4_loss: 0.0731 - loss: 1.2149\n",
      "Epoch 180/500\n",
      "\u001b[1m163/163\u001b[0m \u001b[32m━━━━━━━━━━━━━━━━━━━━\u001b[0m\u001b[37m\u001b[0m \u001b[1m1s\u001b[0m 6ms/step - dense_2_loss: 0.8212 - dense_3_loss: 0.2797 - dense_4_loss: 0.0873 - loss: 1.1882\n",
      "Epoch 181/500\n",
      "\u001b[1m163/163\u001b[0m \u001b[32m━━━━━━━━━━━━━━━━━━━━\u001b[0m\u001b[37m\u001b[0m \u001b[1m1s\u001b[0m 5ms/step - dense_2_loss: 0.4645 - dense_3_loss: 0.1931 - dense_4_loss: 0.0763 - loss: 0.7339\n",
      "Epoch 182/500\n",
      "\u001b[1m163/163\u001b[0m \u001b[32m━━━━━━━━━━━━━━━━━━━━\u001b[0m\u001b[37m\u001b[0m \u001b[1m1s\u001b[0m 5ms/step - dense_2_loss: 0.7608 - dense_3_loss: 0.3037 - dense_4_loss: 0.0800 - loss: 1.1444\n",
      "Epoch 183/500\n",
      "\u001b[1m163/163\u001b[0m \u001b[32m━━━━━━━━━━━━━━━━━━━━\u001b[0m\u001b[37m\u001b[0m \u001b[1m1s\u001b[0m 5ms/step - dense_2_loss: 0.5617 - dense_3_loss: 0.2235 - dense_4_loss: 0.0681 - loss: 0.8534\n",
      "Epoch 184/500\n",
      "\u001b[1m163/163\u001b[0m \u001b[32m━━━━━━━━━━━━━━━━━━━━\u001b[0m\u001b[37m\u001b[0m \u001b[1m1s\u001b[0m 5ms/step - dense_2_loss: 0.6207 - dense_3_loss: 0.2338 - dense_4_loss: 0.0791 - loss: 0.9336\n",
      "Epoch 185/500\n",
      "\u001b[1m163/163\u001b[0m \u001b[32m━━━━━━━━━━━━━━━━━━━━\u001b[0m\u001b[37m\u001b[0m \u001b[1m1s\u001b[0m 5ms/step - dense_2_loss: 0.4139 - dense_3_loss: 0.2039 - dense_4_loss: 0.0609 - loss: 0.6787\n",
      "Epoch 186/500\n",
      "\u001b[1m163/163\u001b[0m \u001b[32m━━━━━━━━━━━━━━━━━━━━\u001b[0m\u001b[37m\u001b[0m \u001b[1m1s\u001b[0m 5ms/step - dense_2_loss: 0.5116 - dense_3_loss: 0.2048 - dense_4_loss: 0.0822 - loss: 0.7986\n",
      "Epoch 187/500\n",
      "\u001b[1m163/163\u001b[0m \u001b[32m━━━━━━━━━━━━━━━━━━━━\u001b[0m\u001b[37m\u001b[0m \u001b[1m1s\u001b[0m 6ms/step - dense_2_loss: 0.5045 - dense_3_loss: 0.2137 - dense_4_loss: 0.0788 - loss: 0.7970\n",
      "Epoch 188/500\n",
      "\u001b[1m163/163\u001b[0m \u001b[32m━━━━━━━━━━━━━━━━━━━━\u001b[0m\u001b[37m\u001b[0m \u001b[1m1s\u001b[0m 6ms/step - dense_2_loss: 0.4828 - dense_3_loss: 0.1753 - dense_4_loss: 0.0822 - loss: 0.7403\n",
      "Epoch 189/500\n",
      "\u001b[1m163/163\u001b[0m \u001b[32m━━━━━━━━━━━━━━━━━━━━\u001b[0m\u001b[37m\u001b[0m \u001b[1m1s\u001b[0m 5ms/step - dense_2_loss: 0.4357 - dense_3_loss: 0.2058 - dense_4_loss: 0.0788 - loss: 0.7203\n",
      "Epoch 190/500\n",
      "\u001b[1m163/163\u001b[0m \u001b[32m━━━━━━━━━━━━━━━━━━━━\u001b[0m\u001b[37m\u001b[0m \u001b[1m1s\u001b[0m 6ms/step - dense_2_loss: 0.6408 - dense_3_loss: 0.2631 - dense_4_loss: 0.0840 - loss: 0.9878\n",
      "Epoch 191/500\n",
      "\u001b[1m163/163\u001b[0m \u001b[32m━━━━━━━━━━━━━━━━━━━━\u001b[0m\u001b[37m\u001b[0m \u001b[1m1s\u001b[0m 6ms/step - dense_2_loss: 0.6152 - dense_3_loss: 0.2458 - dense_4_loss: 0.0882 - loss: 0.9492\n",
      "Epoch 192/500\n",
      "\u001b[1m163/163\u001b[0m \u001b[32m━━━━━━━━━━━━━━━━━━━━\u001b[0m\u001b[37m\u001b[0m \u001b[1m1s\u001b[0m 5ms/step - dense_2_loss: 0.4271 - dense_3_loss: 0.1524 - dense_4_loss: 0.0694 - loss: 0.6489\n",
      "Epoch 193/500\n",
      "\u001b[1m163/163\u001b[0m \u001b[32m━━━━━━━━━━━━━━━━━━━━\u001b[0m\u001b[37m\u001b[0m \u001b[1m1s\u001b[0m 6ms/step - dense_2_loss: 0.5531 - dense_3_loss: 0.2301 - dense_4_loss: 0.0860 - loss: 0.8692\n",
      "Epoch 194/500\n",
      "\u001b[1m163/163\u001b[0m \u001b[32m━━━━━━━━━━━━━━━━━━━━\u001b[0m\u001b[37m\u001b[0m \u001b[1m1s\u001b[0m 6ms/step - dense_2_loss: 0.5486 - dense_3_loss: 0.2448 - dense_4_loss: 0.0711 - loss: 0.8645\n",
      "Epoch 195/500\n",
      "\u001b[1m163/163\u001b[0m \u001b[32m━━━━━━━━━━━━━━━━━━━━\u001b[0m\u001b[37m\u001b[0m \u001b[1m1s\u001b[0m 7ms/step - dense_2_loss: 0.5431 - dense_3_loss: 0.1866 - dense_4_loss: 0.0664 - loss: 0.7961\n",
      "Epoch 196/500\n",
      "\u001b[1m163/163\u001b[0m \u001b[32m━━━━━━━━━━━━━━━━━━━━\u001b[0m\u001b[37m\u001b[0m \u001b[1m1s\u001b[0m 5ms/step - dense_2_loss: 0.5278 - dense_3_loss: 0.2185 - dense_4_loss: 0.0709 - loss: 0.8173\n",
      "Epoch 197/500\n",
      "\u001b[1m163/163\u001b[0m \u001b[32m━━━━━━━━━━━━━━━━━━━━\u001b[0m\u001b[37m\u001b[0m \u001b[1m1s\u001b[0m 6ms/step - dense_2_loss: 0.4737 - dense_3_loss: 0.1693 - dense_4_loss: 0.0769 - loss: 0.7199\n",
      "Epoch 198/500\n",
      "\u001b[1m163/163\u001b[0m \u001b[32m━━━━━━━━━━━━━━━━━━━━\u001b[0m\u001b[37m\u001b[0m \u001b[1m1s\u001b[0m 6ms/step - dense_2_loss: 0.5672 - dense_3_loss: 0.2025 - dense_4_loss: 0.1022 - loss: 0.8719\n",
      "Epoch 199/500\n",
      "\u001b[1m163/163\u001b[0m \u001b[32m━━━━━━━━━━━━━━━━━━━━\u001b[0m\u001b[37m\u001b[0m \u001b[1m1s\u001b[0m 6ms/step - dense_2_loss: 0.5084 - dense_3_loss: 0.2054 - dense_4_loss: 0.0851 - loss: 0.7989\n",
      "Epoch 200/500\n",
      "\u001b[1m163/163\u001b[0m \u001b[32m━━━━━━━━━━━━━━━━━━━━\u001b[0m\u001b[37m\u001b[0m \u001b[1m1s\u001b[0m 6ms/step - dense_2_loss: 0.7486 - dense_3_loss: 0.2712 - dense_4_loss: 0.0906 - loss: 1.1104\n",
      "Epoch 201/500\n",
      "\u001b[1m163/163\u001b[0m \u001b[32m━━━━━━━━━━━━━━━━━━━━\u001b[0m\u001b[37m\u001b[0m \u001b[1m2s\u001b[0m 11ms/step - dense_2_loss: 0.7768 - dense_3_loss: 0.3047 - dense_4_loss: 0.0949 - loss: 1.1764\n",
      "Epoch 202/500\n",
      "\u001b[1m163/163\u001b[0m \u001b[32m━━━━━━━━━━━━━━━━━━━━\u001b[0m\u001b[37m\u001b[0m \u001b[1m2s\u001b[0m 12ms/step - dense_2_loss: 0.8626 - dense_3_loss: 0.3043 - dense_4_loss: 0.1205 - loss: 1.2874\n",
      "Epoch 203/500\n",
      "\u001b[1m163/163\u001b[0m \u001b[32m━━━━━━━━━━━━━━━━━━━━\u001b[0m\u001b[37m\u001b[0m \u001b[1m2s\u001b[0m 12ms/step - dense_2_loss: 0.5210 - dense_3_loss: 0.2219 - dense_4_loss: 0.0863 - loss: 0.8292\n",
      "Epoch 204/500\n",
      "\u001b[1m163/163\u001b[0m \u001b[32m━━━━━━━━━━━━━━━━━━━━\u001b[0m\u001b[37m\u001b[0m \u001b[1m2s\u001b[0m 12ms/step - dense_2_loss: 0.7538 - dense_3_loss: 0.2752 - dense_4_loss: 0.1032 - loss: 1.1322\n",
      "Epoch 205/500\n",
      "\u001b[1m163/163\u001b[0m \u001b[32m━━━━━━━━━━━━━━━━━━━━\u001b[0m\u001b[37m\u001b[0m \u001b[1m2s\u001b[0m 12ms/step - dense_2_loss: 0.4955 - dense_3_loss: 0.2058 - dense_4_loss: 0.0994 - loss: 0.8007\n",
      "Epoch 206/500\n",
      "\u001b[1m163/163\u001b[0m \u001b[32m━━━━━━━━━━━━━━━━━━━━\u001b[0m\u001b[37m\u001b[0m \u001b[1m2s\u001b[0m 12ms/step - dense_2_loss: 0.5203 - dense_3_loss: 0.2445 - dense_4_loss: 0.0935 - loss: 0.8584\n",
      "Epoch 207/500\n",
      "\u001b[1m163/163\u001b[0m \u001b[32m━━━━━━━━━━━━━━━━━━━━\u001b[0m\u001b[37m\u001b[0m \u001b[1m2s\u001b[0m 11ms/step - dense_2_loss: 0.6160 - dense_3_loss: 0.2514 - dense_4_loss: 0.1019 - loss: 0.9692\n",
      "Epoch 208/500\n",
      "\u001b[1m163/163\u001b[0m \u001b[32m━━━━━━━━━━━━━━━━━━━━\u001b[0m\u001b[37m\u001b[0m \u001b[1m2s\u001b[0m 12ms/step - dense_2_loss: 0.4921 - dense_3_loss: 0.2384 - dense_4_loss: 0.0797 - loss: 0.8101\n",
      "Epoch 209/500\n",
      "\u001b[1m163/163\u001b[0m \u001b[32m━━━━━━━━━━━━━━━━━━━━\u001b[0m\u001b[37m\u001b[0m \u001b[1m2s\u001b[0m 13ms/step - dense_2_loss: 0.9382 - dense_3_loss: 0.4055 - dense_4_loss: 0.0985 - loss: 1.4422\n",
      "Epoch 210/500\n",
      "\u001b[1m163/163\u001b[0m \u001b[32m━━━━━━━━━━━━━━━━━━━━\u001b[0m\u001b[37m\u001b[0m \u001b[1m2s\u001b[0m 15ms/step - dense_2_loss: 0.9300 - dense_3_loss: 0.3393 - dense_4_loss: 0.0960 - loss: 1.3654\n",
      "Epoch 211/500\n",
      "\u001b[1m163/163\u001b[0m \u001b[32m━━━━━━━━━━━━━━━━━━━━\u001b[0m\u001b[37m\u001b[0m \u001b[1m2s\u001b[0m 11ms/step - dense_2_loss: 0.7462 - dense_3_loss: 0.3304 - dense_4_loss: 0.0926 - loss: 1.1693\n",
      "Epoch 212/500\n",
      "\u001b[1m163/163\u001b[0m \u001b[32m━━━━━━━━━━━━━━━━━━━━\u001b[0m\u001b[37m\u001b[0m \u001b[1m2s\u001b[0m 10ms/step - dense_2_loss: 0.8512 - dense_3_loss: 0.3615 - dense_4_loss: 0.0972 - loss: 1.3100\n",
      "Epoch 213/500\n",
      "\u001b[1m163/163\u001b[0m \u001b[32m━━━━━━━━━━━━━━━━━━━━\u001b[0m\u001b[37m\u001b[0m \u001b[1m2s\u001b[0m 13ms/step - dense_2_loss: 0.6497 - dense_3_loss: 0.2714 - dense_4_loss: 0.0987 - loss: 1.0198\n",
      "Epoch 214/500\n",
      "\u001b[1m163/163\u001b[0m \u001b[32m━━━━━━━━━━━━━━━━━━━━\u001b[0m\u001b[37m\u001b[0m \u001b[1m2s\u001b[0m 12ms/step - dense_2_loss: 0.5591 - dense_3_loss: 0.2213 - dense_4_loss: 0.0869 - loss: 0.8672\n",
      "Epoch 215/500\n",
      "\u001b[1m163/163\u001b[0m \u001b[32m━━━━━━━━━━━━━━━━━━━━\u001b[0m\u001b[37m\u001b[0m \u001b[1m2s\u001b[0m 10ms/step - dense_2_loss: 0.4729 - dense_3_loss: 0.2351 - dense_4_loss: 0.0806 - loss: 0.7886\n",
      "Epoch 216/500\n",
      "\u001b[1m163/163\u001b[0m \u001b[32m━━━━━━━━━━━━━━━━━━━━\u001b[0m\u001b[37m\u001b[0m \u001b[1m3s\u001b[0m 11ms/step - dense_2_loss: 0.5012 - dense_3_loss: 0.2179 - dense_4_loss: 0.0849 - loss: 0.8040\n",
      "Epoch 217/500\n",
      "\u001b[1m163/163\u001b[0m \u001b[32m━━━━━━━━━━━━━━━━━━━━\u001b[0m\u001b[37m\u001b[0m \u001b[1m2s\u001b[0m 11ms/step - dense_2_loss: 0.5882 - dense_3_loss: 0.3046 - dense_4_loss: 0.1018 - loss: 0.9946\n",
      "Epoch 218/500\n",
      "\u001b[1m163/163\u001b[0m \u001b[32m━━━━━━━━━━━━━━━━━━━━\u001b[0m\u001b[37m\u001b[0m \u001b[1m2s\u001b[0m 12ms/step - dense_2_loss: 0.6775 - dense_3_loss: 0.2337 - dense_4_loss: 0.0923 - loss: 1.0035\n",
      "Epoch 219/500\n",
      "\u001b[1m163/163\u001b[0m \u001b[32m━━━━━━━━━━━━━━━━━━━━\u001b[0m\u001b[37m\u001b[0m \u001b[1m3s\u001b[0m 16ms/step - dense_2_loss: 0.7289 - dense_3_loss: 0.2523 - dense_4_loss: 0.1046 - loss: 1.0858\n",
      "Epoch 220/500\n",
      "\u001b[1m163/163\u001b[0m \u001b[32m━━━━━━━━━━━━━━━━━━━━\u001b[0m\u001b[37m\u001b[0m \u001b[1m4s\u001b[0m 10ms/step - dense_2_loss: 0.6306 - dense_3_loss: 0.2637 - dense_4_loss: 0.0809 - loss: 0.9752\n",
      "Epoch 221/500\n",
      "\u001b[1m163/163\u001b[0m \u001b[32m━━━━━━━━━━━━━━━━━━━━\u001b[0m\u001b[37m\u001b[0m \u001b[1m1s\u001b[0m 7ms/step - dense_2_loss: 0.5548 - dense_3_loss: 0.2246 - dense_4_loss: 0.0878 - loss: 0.8672\n",
      "Epoch 222/500\n",
      "\u001b[1m163/163\u001b[0m \u001b[32m━━━━━━━━━━━━━━━━━━━━\u001b[0m\u001b[37m\u001b[0m \u001b[1m1s\u001b[0m 8ms/step - dense_2_loss: 0.7052 - dense_3_loss: 0.2226 - dense_4_loss: 0.0910 - loss: 1.0188\n",
      "Epoch 223/500\n",
      "\u001b[1m163/163\u001b[0m \u001b[32m━━━━━━━━━━━━━━━━━━━━\u001b[0m\u001b[37m\u001b[0m \u001b[1m1s\u001b[0m 6ms/step - dense_2_loss: 0.6934 - dense_3_loss: 0.2541 - dense_4_loss: 0.0888 - loss: 1.0363\n",
      "Epoch 224/500\n",
      "\u001b[1m163/163\u001b[0m \u001b[32m━━━━━━━━━━━━━━━━━━━━\u001b[0m\u001b[37m\u001b[0m \u001b[1m1s\u001b[0m 7ms/step - dense_2_loss: 0.8227 - dense_3_loss: 0.2884 - dense_4_loss: 0.0963 - loss: 1.2074\n",
      "Epoch 225/500\n",
      "\u001b[1m163/163\u001b[0m \u001b[32m━━━━━━━━━━━━━━━━━━━━\u001b[0m\u001b[37m\u001b[0m \u001b[1m1s\u001b[0m 6ms/step - dense_2_loss: 0.7269 - dense_3_loss: 0.2994 - dense_4_loss: 0.1080 - loss: 1.1344\n",
      "Epoch 226/500\n",
      "\u001b[1m163/163\u001b[0m \u001b[32m━━━━━━━━━━━━━━━━━━━━\u001b[0m\u001b[37m\u001b[0m \u001b[1m1s\u001b[0m 6ms/step - dense_2_loss: 0.6274 - dense_3_loss: 0.2866 - dense_4_loss: 0.0846 - loss: 0.9986\n",
      "Epoch 227/500\n",
      "\u001b[1m163/163\u001b[0m \u001b[32m━━━━━━━━━━━━━━━━━━━━\u001b[0m\u001b[37m\u001b[0m \u001b[1m1s\u001b[0m 5ms/step - dense_2_loss: 0.4832 - dense_3_loss: 0.2055 - dense_4_loss: 0.0939 - loss: 0.7826\n",
      "Epoch 228/500\n",
      "\u001b[1m163/163\u001b[0m \u001b[32m━━━━━━━━━━━━━━━━━━━━\u001b[0m\u001b[37m\u001b[0m \u001b[1m1s\u001b[0m 5ms/step - dense_2_loss: 0.7423 - dense_3_loss: 0.3328 - dense_4_loss: 0.0898 - loss: 1.1649\n",
      "Epoch 229/500\n",
      "\u001b[1m163/163\u001b[0m \u001b[32m━━━━━━━━━━━━━━━━━━━━\u001b[0m\u001b[37m\u001b[0m \u001b[1m1s\u001b[0m 5ms/step - dense_2_loss: 0.6574 - dense_3_loss: 0.2117 - dense_4_loss: 0.0929 - loss: 0.9619\n",
      "Epoch 230/500\n",
      "\u001b[1m163/163\u001b[0m \u001b[32m━━━━━━━━━━━━━━━━━━━━\u001b[0m\u001b[37m\u001b[0m \u001b[1m1s\u001b[0m 6ms/step - dense_2_loss: 0.5882 - dense_3_loss: 0.2190 - dense_4_loss: 0.0825 - loss: 0.8896\n",
      "Epoch 231/500\n",
      "\u001b[1m163/163\u001b[0m \u001b[32m━━━━━━━━━━━━━━━━━━━━\u001b[0m\u001b[37m\u001b[0m \u001b[1m1s\u001b[0m 8ms/step - dense_2_loss: 0.6972 - dense_3_loss: 0.2630 - dense_4_loss: 0.0927 - loss: 1.0528\n",
      "Epoch 232/500\n",
      "\u001b[1m163/163\u001b[0m \u001b[32m━━━━━━━━━━━━━━━━━━━━\u001b[0m\u001b[37m\u001b[0m \u001b[1m1s\u001b[0m 7ms/step - dense_2_loss: 0.5750 - dense_3_loss: 0.2056 - dense_4_loss: 0.0865 - loss: 0.8670\n",
      "Epoch 233/500\n",
      "\u001b[1m163/163\u001b[0m \u001b[32m━━━━━━━━━━━━━━━━━━━━\u001b[0m\u001b[37m\u001b[0m \u001b[1m1s\u001b[0m 7ms/step - dense_2_loss: 0.4836 - dense_3_loss: 0.1811 - dense_4_loss: 0.0826 - loss: 0.7473\n",
      "Epoch 234/500\n",
      "\u001b[1m163/163\u001b[0m \u001b[32m━━━━━━━━━━━━━━━━━━━━\u001b[0m\u001b[37m\u001b[0m \u001b[1m1s\u001b[0m 6ms/step - dense_2_loss: 0.6664 - dense_3_loss: 0.2398 - dense_4_loss: 0.0901 - loss: 0.9963\n",
      "Epoch 235/500\n",
      "\u001b[1m163/163\u001b[0m \u001b[32m━━━━━━━━━━━━━━━━━━━━\u001b[0m\u001b[37m\u001b[0m \u001b[1m1s\u001b[0m 7ms/step - dense_2_loss: 0.5150 - dense_3_loss: 0.1859 - dense_4_loss: 0.0805 - loss: 0.7813\n",
      "Epoch 236/500\n",
      "\u001b[1m163/163\u001b[0m \u001b[32m━━━━━━━━━━━━━━━━━━━━\u001b[0m\u001b[37m\u001b[0m \u001b[1m1s\u001b[0m 6ms/step - dense_2_loss: 0.5234 - dense_3_loss: 0.2195 - dense_4_loss: 0.0805 - loss: 0.8233\n",
      "Epoch 237/500\n",
      "\u001b[1m163/163\u001b[0m \u001b[32m━━━━━━━━━━━━━━━━━━━━\u001b[0m\u001b[37m\u001b[0m \u001b[1m2s\u001b[0m 8ms/step - dense_2_loss: 0.6322 - dense_3_loss: 0.2969 - dense_4_loss: 0.0820 - loss: 1.0112\n",
      "Epoch 238/500\n",
      "\u001b[1m163/163\u001b[0m \u001b[32m━━━━━━━━━━━━━━━━━━━━\u001b[0m\u001b[37m\u001b[0m \u001b[1m2s\u001b[0m 6ms/step - dense_2_loss: 0.5121 - dense_3_loss: 0.2044 - dense_4_loss: 0.1072 - loss: 0.8237\n",
      "Epoch 239/500\n",
      "\u001b[1m163/163\u001b[0m \u001b[32m━━━━━━━━━━━━━━━━━━━━\u001b[0m\u001b[37m\u001b[0m \u001b[1m1s\u001b[0m 6ms/step - dense_2_loss: 0.6204 - dense_3_loss: 0.2641 - dense_4_loss: 0.0891 - loss: 0.9735\n",
      "Epoch 240/500\n",
      "\u001b[1m163/163\u001b[0m \u001b[32m━━━━━━━━━━━━━━━━━━━━\u001b[0m\u001b[37m\u001b[0m \u001b[1m1s\u001b[0m 7ms/step - dense_2_loss: 0.5087 - dense_3_loss: 0.2061 - dense_4_loss: 0.0973 - loss: 0.8121\n",
      "Epoch 241/500\n",
      "\u001b[1m163/163\u001b[0m \u001b[32m━━━━━━━━━━━━━━━━━━━━\u001b[0m\u001b[37m\u001b[0m \u001b[1m1s\u001b[0m 8ms/step - dense_2_loss: 0.6955 - dense_3_loss: 0.3418 - dense_4_loss: 0.1189 - loss: 1.1562\n",
      "Epoch 242/500\n",
      "\u001b[1m163/163\u001b[0m \u001b[32m━━━━━━━━━━━━━━━━━━━━\u001b[0m\u001b[37m\u001b[0m \u001b[1m1s\u001b[0m 7ms/step - dense_2_loss: 0.4969 - dense_3_loss: 0.2253 - dense_4_loss: 0.1172 - loss: 0.8394\n",
      "Epoch 243/500\n",
      "\u001b[1m163/163\u001b[0m \u001b[32m━━━━━━━━━━━━━━━━━━━━\u001b[0m\u001b[37m\u001b[0m \u001b[1m1s\u001b[0m 5ms/step - dense_2_loss: 0.7664 - dense_3_loss: 0.2463 - dense_4_loss: 0.0831 - loss: 1.0958\n",
      "Epoch 244/500\n",
      "\u001b[1m163/163\u001b[0m \u001b[32m━━━━━━━━━━━━━━━━━━━━\u001b[0m\u001b[37m\u001b[0m \u001b[1m1s\u001b[0m 5ms/step - dense_2_loss: 0.6036 - dense_3_loss: 0.2441 - dense_4_loss: 0.0881 - loss: 0.9358\n",
      "Epoch 245/500\n",
      "\u001b[1m163/163\u001b[0m \u001b[32m━━━━━━━━━━━━━━━━━━━━\u001b[0m\u001b[37m\u001b[0m \u001b[1m1s\u001b[0m 6ms/step - dense_2_loss: 0.7935 - dense_3_loss: 0.3491 - dense_4_loss: 0.0785 - loss: 1.2211\n",
      "Epoch 246/500\n",
      "\u001b[1m163/163\u001b[0m \u001b[32m━━━━━━━━━━━━━━━━━━━━\u001b[0m\u001b[37m\u001b[0m \u001b[1m1s\u001b[0m 5ms/step - dense_2_loss: 0.8298 - dense_3_loss: 0.3595 - dense_4_loss: 0.0851 - loss: 1.2744\n",
      "Epoch 247/500\n",
      "\u001b[1m163/163\u001b[0m \u001b[32m━━━━━━━━━━━━━━━━━━━━\u001b[0m\u001b[37m\u001b[0m \u001b[1m1s\u001b[0m 6ms/step - dense_2_loss: 0.6800 - dense_3_loss: 0.3083 - dense_4_loss: 0.0853 - loss: 1.0736\n",
      "Epoch 248/500\n",
      "\u001b[1m163/163\u001b[0m \u001b[32m━━━━━━━━━━━━━━━━━━━━\u001b[0m\u001b[37m\u001b[0m \u001b[1m1s\u001b[0m 6ms/step - dense_2_loss: 0.4729 - dense_3_loss: 0.2138 - dense_4_loss: 0.0824 - loss: 0.7691\n",
      "Epoch 249/500\n",
      "\u001b[1m163/163\u001b[0m \u001b[32m━━━━━━━━━━━━━━━━━━━━\u001b[0m\u001b[37m\u001b[0m \u001b[1m1s\u001b[0m 6ms/step - dense_2_loss: 0.5556 - dense_3_loss: 0.2203 - dense_4_loss: 0.0825 - loss: 0.8584\n",
      "Epoch 250/500\n",
      "\u001b[1m163/163\u001b[0m \u001b[32m━━━━━━━━━━━━━━━━━━━━\u001b[0m\u001b[37m\u001b[0m \u001b[1m1s\u001b[0m 5ms/step - dense_2_loss: 0.5577 - dense_3_loss: 0.2127 - dense_4_loss: 0.0843 - loss: 0.8547\n",
      "Epoch 251/500\n",
      "\u001b[1m163/163\u001b[0m \u001b[32m━━━━━━━━━━━━━━━━━━━━\u001b[0m\u001b[37m\u001b[0m \u001b[1m1s\u001b[0m 6ms/step - dense_2_loss: 0.5820 - dense_3_loss: 0.2167 - dense_4_loss: 0.0753 - loss: 0.8740\n",
      "Epoch 252/500\n",
      "\u001b[1m163/163\u001b[0m \u001b[32m━━━━━━━━━━━━━━━━━━━━\u001b[0m\u001b[37m\u001b[0m \u001b[1m1s\u001b[0m 5ms/step - dense_2_loss: 0.6482 - dense_3_loss: 0.2065 - dense_4_loss: 0.0949 - loss: 0.9496\n",
      "Epoch 253/500\n",
      "\u001b[1m163/163\u001b[0m \u001b[32m━━━━━━━━━━━━━━━━━━━━\u001b[0m\u001b[37m\u001b[0m \u001b[1m1s\u001b[0m 5ms/step - dense_2_loss: 0.6812 - dense_3_loss: 0.3043 - dense_4_loss: 0.1003 - loss: 1.0858\n",
      "Epoch 254/500\n",
      "\u001b[1m163/163\u001b[0m \u001b[32m━━━━━━━━━━━━━━━━━━━━\u001b[0m\u001b[37m\u001b[0m \u001b[1m1s\u001b[0m 5ms/step - dense_2_loss: 0.5661 - dense_3_loss: 0.1948 - dense_4_loss: 0.1042 - loss: 0.8651\n",
      "Epoch 255/500\n",
      "\u001b[1m163/163\u001b[0m \u001b[32m━━━━━━━━━━━━━━━━━━━━\u001b[0m\u001b[37m\u001b[0m \u001b[1m1s\u001b[0m 5ms/step - dense_2_loss: 0.5796 - dense_3_loss: 0.2528 - dense_4_loss: 0.0943 - loss: 0.9267\n",
      "Epoch 256/500\n",
      "\u001b[1m163/163\u001b[0m \u001b[32m━━━━━━━━━━━━━━━━━━━━\u001b[0m\u001b[37m\u001b[0m \u001b[1m1s\u001b[0m 5ms/step - dense_2_loss: 0.6637 - dense_3_loss: 0.2330 - dense_4_loss: 0.0882 - loss: 0.9847\n",
      "Epoch 257/500\n",
      "\u001b[1m163/163\u001b[0m \u001b[32m━━━━━━━━━━━━━━━━━━━━\u001b[0m\u001b[37m\u001b[0m \u001b[1m1s\u001b[0m 6ms/step - dense_2_loss: 0.6808 - dense_3_loss: 0.1939 - dense_4_loss: 0.0995 - loss: 0.9742\n",
      "Epoch 258/500\n",
      "\u001b[1m163/163\u001b[0m \u001b[32m━━━━━━━━━━━━━━━━━━━━\u001b[0m\u001b[37m\u001b[0m \u001b[1m1s\u001b[0m 5ms/step - dense_2_loss: 0.7587 - dense_3_loss: 0.2883 - dense_4_loss: 0.1032 - loss: 1.1502\n",
      "Epoch 259/500\n",
      "\u001b[1m163/163\u001b[0m \u001b[32m━━━━━━━━━━━━━━━━━━━━\u001b[0m\u001b[37m\u001b[0m \u001b[1m1s\u001b[0m 5ms/step - dense_2_loss: 0.5511 - dense_3_loss: 0.2249 - dense_4_loss: 0.1006 - loss: 0.8765\n",
      "Epoch 260/500\n",
      "\u001b[1m163/163\u001b[0m \u001b[32m━━━━━━━━━━━━━━━━━━━━\u001b[0m\u001b[37m\u001b[0m \u001b[1m1s\u001b[0m 5ms/step - dense_2_loss: 0.9953 - dense_3_loss: 0.4443 - dense_4_loss: 0.0843 - loss: 1.5238\n",
      "Epoch 261/500\n",
      "\u001b[1m163/163\u001b[0m \u001b[32m━━━━━━━━━━━━━━━━━━━━\u001b[0m\u001b[37m\u001b[0m \u001b[1m1s\u001b[0m 5ms/step - dense_2_loss: 0.6725 - dense_3_loss: 0.2480 - dense_4_loss: 0.1076 - loss: 1.0281\n",
      "Epoch 262/500\n",
      "\u001b[1m163/163\u001b[0m \u001b[32m━━━━━━━━━━━━━━━━━━━━\u001b[0m\u001b[37m\u001b[0m \u001b[1m1s\u001b[0m 6ms/step - dense_2_loss: 0.6756 - dense_3_loss: 0.2584 - dense_4_loss: 0.0775 - loss: 1.0115\n",
      "Epoch 263/500\n",
      "\u001b[1m163/163\u001b[0m \u001b[32m━━━━━━━━━━━━━━━━━━━━\u001b[0m\u001b[37m\u001b[0m \u001b[1m1s\u001b[0m 5ms/step - dense_2_loss: 0.5543 - dense_3_loss: 0.2281 - dense_4_loss: 0.0851 - loss: 0.8675\n",
      "Epoch 264/500\n",
      "\u001b[1m163/163\u001b[0m \u001b[32m━━━━━━━━━━━━━━━━━━━━\u001b[0m\u001b[37m\u001b[0m \u001b[1m1s\u001b[0m 5ms/step - dense_2_loss: 0.6406 - dense_3_loss: 0.2372 - dense_4_loss: 0.1155 - loss: 0.9932\n",
      "Epoch 265/500\n",
      "\u001b[1m163/163\u001b[0m \u001b[32m━━━━━━━━━━━━━━━━━━━━\u001b[0m\u001b[37m\u001b[0m \u001b[1m1s\u001b[0m 8ms/step - dense_2_loss: 0.6044 - dense_3_loss: 0.2341 - dense_4_loss: 0.0994 - loss: 0.9379\n",
      "Epoch 266/500\n",
      "\u001b[1m163/163\u001b[0m \u001b[32m━━━━━━━━━━━━━━━━━━━━\u001b[0m\u001b[37m\u001b[0m \u001b[1m1s\u001b[0m 6ms/step - dense_2_loss: 0.6437 - dense_3_loss: 0.3094 - dense_4_loss: 0.0928 - loss: 1.0459\n",
      "Epoch 267/500\n",
      "\u001b[1m163/163\u001b[0m \u001b[32m━━━━━━━━━━━━━━━━━━━━\u001b[0m\u001b[37m\u001b[0m \u001b[1m1s\u001b[0m 6ms/step - dense_2_loss: 0.6468 - dense_3_loss: 0.2549 - dense_4_loss: 0.0848 - loss: 0.9865\n",
      "Epoch 268/500\n",
      "\u001b[1m163/163\u001b[0m \u001b[32m━━━━━━━━━━━━━━━━━━━━\u001b[0m\u001b[37m\u001b[0m \u001b[1m1s\u001b[0m 5ms/step - dense_2_loss: 0.6693 - dense_3_loss: 0.2556 - dense_4_loss: 0.0925 - loss: 1.0174\n",
      "Epoch 269/500\n",
      "\u001b[1m163/163\u001b[0m \u001b[32m━━━━━━━━━━━━━━━━━━━━\u001b[0m\u001b[37m\u001b[0m \u001b[1m1s\u001b[0m 5ms/step - dense_2_loss: 0.8317 - dense_3_loss: 0.4224 - dense_4_loss: 0.0837 - loss: 1.3378\n",
      "Epoch 270/500\n",
      "\u001b[1m163/163\u001b[0m \u001b[32m━━━━━━━━━━━━━━━━━━━━\u001b[0m\u001b[37m\u001b[0m \u001b[1m1s\u001b[0m 5ms/step - dense_2_loss: 0.7168 - dense_3_loss: 0.2357 - dense_4_loss: 0.1067 - loss: 1.0592\n",
      "Epoch 271/500\n",
      "\u001b[1m163/163\u001b[0m \u001b[32m━━━━━━━━━━━━━━━━━━━━\u001b[0m\u001b[37m\u001b[0m \u001b[1m1s\u001b[0m 5ms/step - dense_2_loss: 0.4771 - dense_3_loss: 0.2094 - dense_4_loss: 0.0780 - loss: 0.7645\n",
      "Epoch 272/500\n",
      "\u001b[1m163/163\u001b[0m \u001b[32m━━━━━━━━━━━━━━━━━━━━\u001b[0m\u001b[37m\u001b[0m \u001b[1m1s\u001b[0m 5ms/step - dense_2_loss: 0.5897 - dense_3_loss: 0.2506 - dense_4_loss: 0.1070 - loss: 0.9473\n",
      "Epoch 273/500\n",
      "\u001b[1m163/163\u001b[0m \u001b[32m━━━━━━━━━━━━━━━━━━━━\u001b[0m\u001b[37m\u001b[0m \u001b[1m1s\u001b[0m 5ms/step - dense_2_loss: 0.6157 - dense_3_loss: 0.2000 - dense_4_loss: 0.0897 - loss: 0.9054\n",
      "Epoch 274/500\n",
      "\u001b[1m163/163\u001b[0m \u001b[32m━━━━━━━━━━━━━━━━━━━━\u001b[0m\u001b[37m\u001b[0m \u001b[1m1s\u001b[0m 5ms/step - dense_2_loss: 0.5016 - dense_3_loss: 0.2056 - dense_4_loss: 0.0767 - loss: 0.7839\n",
      "Epoch 275/500\n",
      "\u001b[1m163/163\u001b[0m \u001b[32m━━━━━━━━━━━━━━━━━━━━\u001b[0m\u001b[37m\u001b[0m \u001b[1m2s\u001b[0m 9ms/step - dense_2_loss: 0.5018 - dense_3_loss: 0.2263 - dense_4_loss: 0.1097 - loss: 0.8378\n",
      "Epoch 276/500\n",
      "\u001b[1m163/163\u001b[0m \u001b[32m━━━━━━━━━━━━━━━━━━━━\u001b[0m\u001b[37m\u001b[0m \u001b[1m3s\u001b[0m 15ms/step - dense_2_loss: 0.8795 - dense_3_loss: 0.3920 - dense_4_loss: 0.0887 - loss: 1.3602\n",
      "Epoch 277/500\n",
      "\u001b[1m163/163\u001b[0m \u001b[32m━━━━━━━━━━━━━━━━━━━━\u001b[0m\u001b[37m\u001b[0m \u001b[1m3s\u001b[0m 15ms/step - dense_2_loss: 0.6243 - dense_3_loss: 0.2471 - dense_4_loss: 0.1033 - loss: 0.9748\n",
      "Epoch 278/500\n",
      "\u001b[1m163/163\u001b[0m \u001b[32m━━━━━━━━━━━━━━━━━━━━\u001b[0m\u001b[37m\u001b[0m \u001b[1m2s\u001b[0m 12ms/step - dense_2_loss: 0.5287 - dense_3_loss: 0.1832 - dense_4_loss: 0.0920 - loss: 0.8039\n",
      "Epoch 279/500\n",
      "\u001b[1m163/163\u001b[0m \u001b[32m━━━━━━━━━━━━━━━━━━━━\u001b[0m\u001b[37m\u001b[0m \u001b[1m2s\u001b[0m 15ms/step - dense_2_loss: 0.5208 - dense_3_loss: 0.1939 - dense_4_loss: 0.0904 - loss: 0.8051\n",
      "Epoch 280/500\n",
      "\u001b[1m163/163\u001b[0m \u001b[32m━━━━━━━━━━━━━━━━━━━━\u001b[0m\u001b[37m\u001b[0m \u001b[1m2s\u001b[0m 13ms/step - dense_2_loss: 0.5744 - dense_3_loss: 0.2065 - dense_4_loss: 0.1240 - loss: 0.9049\n",
      "Epoch 281/500\n",
      "\u001b[1m163/163\u001b[0m \u001b[32m━━━━━━━━━━━━━━━━━━━━\u001b[0m\u001b[37m\u001b[0m \u001b[1m3s\u001b[0m 16ms/step - dense_2_loss: 0.5383 - dense_3_loss: 0.2244 - dense_4_loss: 0.0867 - loss: 0.8494\n",
      "Epoch 282/500\n",
      "\u001b[1m163/163\u001b[0m \u001b[32m━━━━━━━━━━━━━━━━━━━━\u001b[0m\u001b[37m\u001b[0m \u001b[1m3s\u001b[0m 15ms/step - dense_2_loss: 0.7310 - dense_3_loss: 0.2948 - dense_4_loss: 0.0857 - loss: 1.1115\n",
      "Epoch 283/500\n",
      "\u001b[1m163/163\u001b[0m \u001b[32m━━━━━━━━━━━━━━━━━━━━\u001b[0m\u001b[37m\u001b[0m \u001b[1m2s\u001b[0m 12ms/step - dense_2_loss: 0.5835 - dense_3_loss: 0.2546 - dense_4_loss: 0.1067 - loss: 0.9448\n",
      "Epoch 284/500\n",
      "\u001b[1m163/163\u001b[0m \u001b[32m━━━━━━━━━━━━━━━━━━━━\u001b[0m\u001b[37m\u001b[0m \u001b[1m3s\u001b[0m 12ms/step - dense_2_loss: 0.5762 - dense_3_loss: 0.2104 - dense_4_loss: 0.0857 - loss: 0.8723\n",
      "Epoch 285/500\n",
      "\u001b[1m163/163\u001b[0m \u001b[32m━━━━━━━━━━━━━━━━━━━━\u001b[0m\u001b[37m\u001b[0m \u001b[1m2s\u001b[0m 8ms/step - dense_2_loss: 0.7066 - dense_3_loss: 0.2788 - dense_4_loss: 0.0811 - loss: 1.0665\n",
      "Epoch 286/500\n",
      "\u001b[1m163/163\u001b[0m \u001b[32m━━━━━━━━━━━━━━━━━━━━\u001b[0m\u001b[37m\u001b[0m \u001b[1m1s\u001b[0m 9ms/step - dense_2_loss: 0.5631 - dense_3_loss: 0.2467 - dense_4_loss: 0.0869 - loss: 0.8967\n",
      "Epoch 287/500\n",
      "\u001b[1m163/163\u001b[0m \u001b[32m━━━━━━━━━━━━━━━━━━━━\u001b[0m\u001b[37m\u001b[0m \u001b[1m3s\u001b[0m 9ms/step - dense_2_loss: 0.5436 - dense_3_loss: 0.1934 - dense_4_loss: 0.0897 - loss: 0.8267\n",
      "Epoch 288/500\n",
      "\u001b[1m163/163\u001b[0m \u001b[32m━━━━━━━━━━━━━━━━━━━━\u001b[0m\u001b[37m\u001b[0m \u001b[1m2s\u001b[0m 11ms/step - dense_2_loss: 0.8425 - dense_3_loss: 0.3800 - dense_4_loss: 0.0789 - loss: 1.3014\n",
      "Epoch 289/500\n",
      "\u001b[1m163/163\u001b[0m \u001b[32m━━━━━━━━━━━━━━━━━━━━\u001b[0m\u001b[37m\u001b[0m \u001b[1m3s\u001b[0m 12ms/step - dense_2_loss: 0.4807 - dense_3_loss: 0.1956 - dense_4_loss: 0.0930 - loss: 0.7692\n",
      "Epoch 290/500\n",
      "\u001b[1m163/163\u001b[0m \u001b[32m━━━━━━━━━━━━━━━━━━━━\u001b[0m\u001b[37m\u001b[0m \u001b[1m2s\u001b[0m 8ms/step - dense_2_loss: 0.4437 - dense_3_loss: 0.1824 - dense_4_loss: 0.0877 - loss: 0.7138\n",
      "Epoch 291/500\n",
      "\u001b[1m163/163\u001b[0m \u001b[32m━━━━━━━━━━━━━━━━━━━━\u001b[0m\u001b[37m\u001b[0m \u001b[1m2s\u001b[0m 12ms/step - dense_2_loss: 0.6247 - dense_3_loss: 0.2762 - dense_4_loss: 0.0942 - loss: 0.9950\n",
      "Epoch 292/500\n",
      "\u001b[1m163/163\u001b[0m \u001b[32m━━━━━━━━━━━━━━━━━━━━\u001b[0m\u001b[37m\u001b[0m \u001b[1m2s\u001b[0m 9ms/step - dense_2_loss: 0.4763 - dense_3_loss: 0.1920 - dense_4_loss: 0.0906 - loss: 0.7589\n",
      "Epoch 293/500\n",
      "\u001b[1m163/163\u001b[0m \u001b[32m━━━━━━━━━━━━━━━━━━━━\u001b[0m\u001b[37m\u001b[0m \u001b[1m1s\u001b[0m 8ms/step - dense_2_loss: 0.5583 - dense_3_loss: 0.2156 - dense_4_loss: 0.0783 - loss: 0.8522\n",
      "Epoch 294/500\n",
      "\u001b[1m163/163\u001b[0m \u001b[32m━━━━━━━━━━━━━━━━━━━━\u001b[0m\u001b[37m\u001b[0m \u001b[1m1s\u001b[0m 8ms/step - dense_2_loss: 0.5612 - dense_3_loss: 0.2559 - dense_4_loss: 0.0920 - loss: 0.9091\n",
      "Epoch 295/500\n",
      "\u001b[1m163/163\u001b[0m \u001b[32m━━━━━━━━━━━━━━━━━━━━\u001b[0m\u001b[37m\u001b[0m \u001b[1m2s\u001b[0m 11ms/step - dense_2_loss: 0.5251 - dense_3_loss: 0.2152 - dense_4_loss: 0.0912 - loss: 0.8316\n",
      "Epoch 296/500\n",
      "\u001b[1m163/163\u001b[0m \u001b[32m━━━━━━━━━━━━━━━━━━━━\u001b[0m\u001b[37m\u001b[0m \u001b[1m3s\u001b[0m 11ms/step - dense_2_loss: 0.5083 - dense_3_loss: 0.2554 - dense_4_loss: 0.0958 - loss: 0.8595\n",
      "Epoch 297/500\n",
      "\u001b[1m163/163\u001b[0m \u001b[32m━━━━━━━━━━━━━━━━━━━━\u001b[0m\u001b[37m\u001b[0m \u001b[1m2s\u001b[0m 11ms/step - dense_2_loss: 0.5295 - dense_3_loss: 0.2170 - dense_4_loss: 0.0839 - loss: 0.8304\n",
      "Epoch 298/500\n",
      "\u001b[1m163/163\u001b[0m \u001b[32m━━━━━━━━━━━━━━━━━━━━\u001b[0m\u001b[37m\u001b[0m \u001b[1m1s\u001b[0m 7ms/step - dense_2_loss: 0.6935 - dense_3_loss: 0.2069 - dense_4_loss: 0.1088 - loss: 1.0093\n",
      "Epoch 299/500\n",
      "\u001b[1m163/163\u001b[0m \u001b[32m━━━━━━━━━━━━━━━━━━━━\u001b[0m\u001b[37m\u001b[0m \u001b[1m1s\u001b[0m 9ms/step - dense_2_loss: 0.5134 - dense_3_loss: 0.2158 - dense_4_loss: 0.0834 - loss: 0.8126\n",
      "Epoch 300/500\n",
      "\u001b[1m163/163\u001b[0m \u001b[32m━━━━━━━━━━━━━━━━━━━━\u001b[0m\u001b[37m\u001b[0m \u001b[1m2s\u001b[0m 6ms/step - dense_2_loss: 0.5697 - dense_3_loss: 0.2130 - dense_4_loss: 0.0809 - loss: 0.8635\n",
      "Epoch 301/500\n",
      "\u001b[1m163/163\u001b[0m \u001b[32m━━━━━━━━━━━━━━━━━━━━\u001b[0m\u001b[37m\u001b[0m \u001b[1m1s\u001b[0m 6ms/step - dense_2_loss: 0.5123 - dense_3_loss: 0.2268 - dense_4_loss: 0.0850 - loss: 0.8241\n",
      "Epoch 302/500\n",
      "\u001b[1m163/163\u001b[0m \u001b[32m━━━━━━━━━━━━━━━━━━━━\u001b[0m\u001b[37m\u001b[0m \u001b[1m1s\u001b[0m 7ms/step - dense_2_loss: 0.6027 - dense_3_loss: 0.2694 - dense_4_loss: 0.0741 - loss: 0.9461\n",
      "Epoch 303/500\n",
      "\u001b[1m163/163\u001b[0m \u001b[32m━━━━━━━━━━━━━━━━━━━━\u001b[0m\u001b[37m\u001b[0m \u001b[1m1s\u001b[0m 6ms/step - dense_2_loss: 0.5333 - dense_3_loss: 0.2132 - dense_4_loss: 0.0945 - loss: 0.8410\n",
      "Epoch 304/500\n",
      "\u001b[1m163/163\u001b[0m \u001b[32m━━━━━━━━━━━━━━━━━━━━\u001b[0m\u001b[37m\u001b[0m \u001b[1m1s\u001b[0m 5ms/step - dense_2_loss: 0.6445 - dense_3_loss: 0.2765 - dense_4_loss: 0.1063 - loss: 1.0273\n",
      "Epoch 305/500\n",
      "\u001b[1m163/163\u001b[0m \u001b[32m━━━━━━━━━━━━━━━━━━━━\u001b[0m\u001b[37m\u001b[0m \u001b[1m1s\u001b[0m 7ms/step - dense_2_loss: 0.5470 - dense_3_loss: 0.2372 - dense_4_loss: 0.0767 - loss: 0.8609\n",
      "Epoch 306/500\n",
      "\u001b[1m163/163\u001b[0m \u001b[32m━━━━━━━━━━━━━━━━━━━━\u001b[0m\u001b[37m\u001b[0m \u001b[1m1s\u001b[0m 6ms/step - dense_2_loss: 0.5812 - dense_3_loss: 0.1992 - dense_4_loss: 0.0789 - loss: 0.8593\n",
      "Epoch 307/500\n",
      "\u001b[1m163/163\u001b[0m \u001b[32m━━━━━━━━━━━━━━━━━━━━\u001b[0m\u001b[37m\u001b[0m \u001b[1m1s\u001b[0m 6ms/step - dense_2_loss: 0.4627 - dense_3_loss: 0.2061 - dense_4_loss: 0.0852 - loss: 0.7541\n",
      "Epoch 308/500\n",
      "\u001b[1m163/163\u001b[0m \u001b[32m━━━━━━━━━━━━━━━━━━━━\u001b[0m\u001b[37m\u001b[0m \u001b[1m1s\u001b[0m 6ms/step - dense_2_loss: 0.5339 - dense_3_loss: 0.2366 - dense_4_loss: 0.0878 - loss: 0.8582\n",
      "Epoch 309/500\n",
      "\u001b[1m163/163\u001b[0m \u001b[32m━━━━━━━━━━━━━━━━━━━━\u001b[0m\u001b[37m\u001b[0m \u001b[1m1s\u001b[0m 7ms/step - dense_2_loss: 0.6804 - dense_3_loss: 0.2853 - dense_4_loss: 0.1000 - loss: 1.0657\n",
      "Epoch 310/500\n",
      "\u001b[1m163/163\u001b[0m \u001b[32m━━━━━━━━━━━━━━━━━━━━\u001b[0m\u001b[37m\u001b[0m \u001b[1m1s\u001b[0m 6ms/step - dense_2_loss: 0.6369 - dense_3_loss: 0.2810 - dense_4_loss: 0.0939 - loss: 1.0117\n",
      "Epoch 311/500\n",
      "\u001b[1m163/163\u001b[0m \u001b[32m━━━━━━━━━━━━━━━━━━━━\u001b[0m\u001b[37m\u001b[0m \u001b[1m1s\u001b[0m 5ms/step - dense_2_loss: 0.7625 - dense_3_loss: 0.2536 - dense_4_loss: 0.0872 - loss: 1.1033\n",
      "Epoch 312/500\n",
      "\u001b[1m163/163\u001b[0m \u001b[32m━━━━━━━━━━━━━━━━━━━━\u001b[0m\u001b[37m\u001b[0m \u001b[1m2s\u001b[0m 7ms/step - dense_2_loss: 0.7950 - dense_3_loss: 0.2524 - dense_4_loss: 0.0873 - loss: 1.1347\n",
      "Epoch 313/500\n",
      "\u001b[1m163/163\u001b[0m \u001b[32m━━━━━━━━━━━━━━━━━━━━\u001b[0m\u001b[37m\u001b[0m \u001b[1m1s\u001b[0m 7ms/step - dense_2_loss: 0.5530 - dense_3_loss: 0.1928 - dense_4_loss: 0.0792 - loss: 0.8251\n",
      "Epoch 314/500\n",
      "\u001b[1m163/163\u001b[0m \u001b[32m━━━━━━━━━━━━━━━━━━━━\u001b[0m\u001b[37m\u001b[0m \u001b[1m1s\u001b[0m 6ms/step - dense_2_loss: 0.4706 - dense_3_loss: 0.1974 - dense_4_loss: 0.0887 - loss: 0.7567\n",
      "Epoch 315/500\n",
      "\u001b[1m163/163\u001b[0m \u001b[32m━━━━━━━━━━━━━━━━━━━━\u001b[0m\u001b[37m\u001b[0m \u001b[1m1s\u001b[0m 6ms/step - dense_2_loss: 0.8241 - dense_3_loss: 0.3320 - dense_4_loss: 0.0951 - loss: 1.2512\n",
      "Epoch 316/500\n",
      "\u001b[1m163/163\u001b[0m \u001b[32m━━━━━━━━━━━━━━━━━━━━\u001b[0m\u001b[37m\u001b[0m \u001b[1m1s\u001b[0m 6ms/step - dense_2_loss: 0.6463 - dense_3_loss: 0.2726 - dense_4_loss: 0.1017 - loss: 1.0206\n",
      "Epoch 317/500\n",
      "\u001b[1m163/163\u001b[0m \u001b[32m━━━━━━━━━━━━━━━━━━━━\u001b[0m\u001b[37m\u001b[0m \u001b[1m1s\u001b[0m 6ms/step - dense_2_loss: 0.6784 - dense_3_loss: 0.2850 - dense_4_loss: 0.0838 - loss: 1.0472\n",
      "Epoch 318/500\n",
      "\u001b[1m163/163\u001b[0m \u001b[32m━━━━━━━━━━━━━━━━━━━━\u001b[0m\u001b[37m\u001b[0m \u001b[1m1s\u001b[0m 6ms/step - dense_2_loss: 0.5074 - dense_3_loss: 0.2177 - dense_4_loss: 0.0808 - loss: 0.8059\n",
      "Epoch 319/500\n",
      "\u001b[1m163/163\u001b[0m \u001b[32m━━━━━━━━━━━━━━━━━━━━\u001b[0m\u001b[37m\u001b[0m \u001b[1m1s\u001b[0m 7ms/step - dense_2_loss: 0.6323 - dense_3_loss: 0.2985 - dense_4_loss: 0.0879 - loss: 1.0187\n",
      "Epoch 320/500\n",
      "\u001b[1m163/163\u001b[0m \u001b[32m━━━━━━━━━━━━━━━━━━━━\u001b[0m\u001b[37m\u001b[0m \u001b[1m1s\u001b[0m 7ms/step - dense_2_loss: 0.5799 - dense_3_loss: 0.2652 - dense_4_loss: 0.0963 - loss: 0.9414\n",
      "Epoch 321/500\n",
      "\u001b[1m163/163\u001b[0m \u001b[32m━━━━━━━━━━━━━━━━━━━━\u001b[0m\u001b[37m\u001b[0m \u001b[1m1s\u001b[0m 6ms/step - dense_2_loss: 0.5209 - dense_3_loss: 0.2109 - dense_4_loss: 0.0883 - loss: 0.8201\n",
      "Epoch 322/500\n",
      "\u001b[1m163/163\u001b[0m \u001b[32m━━━━━━━━━━━━━━━━━━━━\u001b[0m\u001b[37m\u001b[0m \u001b[1m1s\u001b[0m 6ms/step - dense_2_loss: 0.5468 - dense_3_loss: 0.2222 - dense_4_loss: 0.0812 - loss: 0.8502\n",
      "Epoch 323/500\n",
      "\u001b[1m163/163\u001b[0m \u001b[32m━━━━━━━━━━━━━━━━━━━━\u001b[0m\u001b[37m\u001b[0m \u001b[1m2s\u001b[0m 8ms/step - dense_2_loss: 0.5722 - dense_3_loss: 0.2230 - dense_4_loss: 0.0986 - loss: 0.8938\n",
      "Epoch 324/500\n",
      "\u001b[1m163/163\u001b[0m \u001b[32m━━━━━━━━━━━━━━━━━━━━\u001b[0m\u001b[37m\u001b[0m \u001b[1m2s\u001b[0m 6ms/step - dense_2_loss: 0.4583 - dense_3_loss: 0.1828 - dense_4_loss: 0.0753 - loss: 0.7164\n",
      "Epoch 325/500\n",
      "\u001b[1m163/163\u001b[0m \u001b[32m━━━━━━━━━━━━━━━━━━━━\u001b[0m\u001b[37m\u001b[0m \u001b[1m1s\u001b[0m 6ms/step - dense_2_loss: 0.5161 - dense_3_loss: 0.2224 - dense_4_loss: 0.1051 - loss: 0.8436\n",
      "Epoch 326/500\n",
      "\u001b[1m163/163\u001b[0m \u001b[32m━━━━━━━━━━━━━━━━━━━━\u001b[0m\u001b[37m\u001b[0m \u001b[1m1s\u001b[0m 6ms/step - dense_2_loss: 0.5637 - dense_3_loss: 0.2116 - dense_4_loss: 0.0943 - loss: 0.8695\n",
      "Epoch 327/500\n",
      "\u001b[1m163/163\u001b[0m \u001b[32m━━━━━━━━━━━━━━━━━━━━\u001b[0m\u001b[37m\u001b[0m \u001b[1m1s\u001b[0m 6ms/step - dense_2_loss: 0.5205 - dense_3_loss: 0.1962 - dense_4_loss: 0.0936 - loss: 0.8103\n",
      "Epoch 328/500\n",
      "\u001b[1m163/163\u001b[0m \u001b[32m━━━━━━━━━━━━━━━━━━━━\u001b[0m\u001b[37m\u001b[0m \u001b[1m1s\u001b[0m 7ms/step - dense_2_loss: 0.5517 - dense_3_loss: 0.1862 - dense_4_loss: 0.0792 - loss: 0.8171\n",
      "Epoch 329/500\n",
      "\u001b[1m163/163\u001b[0m \u001b[32m━━━━━━━━━━━━━━━━━━━━\u001b[0m\u001b[37m\u001b[0m \u001b[1m1s\u001b[0m 6ms/step - dense_2_loss: 0.6692 - dense_3_loss: 0.2064 - dense_4_loss: 0.1137 - loss: 0.9893\n",
      "Epoch 330/500\n",
      "\u001b[1m163/163\u001b[0m \u001b[32m━━━━━━━━━━━━━━━━━━━━\u001b[0m\u001b[37m\u001b[0m \u001b[1m1s\u001b[0m 6ms/step - dense_2_loss: 0.6225 - dense_3_loss: 0.2568 - dense_4_loss: 0.0972 - loss: 0.9765\n",
      "Epoch 331/500\n",
      "\u001b[1m163/163\u001b[0m \u001b[32m━━━━━━━━━━━━━━━━━━━━\u001b[0m\u001b[37m\u001b[0m \u001b[1m1s\u001b[0m 6ms/step - dense_2_loss: 0.5549 - dense_3_loss: 0.1952 - dense_4_loss: 0.0771 - loss: 0.8272\n",
      "Epoch 332/500\n",
      "\u001b[1m163/163\u001b[0m \u001b[32m━━━━━━━━━━━━━━━━━━━━\u001b[0m\u001b[37m\u001b[0m \u001b[1m1s\u001b[0m 7ms/step - dense_2_loss: 0.6951 - dense_3_loss: 0.3172 - dense_4_loss: 0.0945 - loss: 1.1068\n",
      "Epoch 333/500\n",
      "\u001b[1m163/163\u001b[0m \u001b[32m━━━━━━━━━━━━━━━━━━━━\u001b[0m\u001b[37m\u001b[0m \u001b[1m1s\u001b[0m 6ms/step - dense_2_loss: 0.8431 - dense_3_loss: 0.3217 - dense_4_loss: 0.0889 - loss: 1.2537\n",
      "Epoch 334/500\n",
      "\u001b[1m163/163\u001b[0m \u001b[32m━━━━━━━━━━━━━━━━━━━━\u001b[0m\u001b[37m\u001b[0m \u001b[1m1s\u001b[0m 6ms/step - dense_2_loss: 0.4328 - dense_3_loss: 0.1976 - dense_4_loss: 0.0793 - loss: 0.7097\n",
      "Epoch 335/500\n",
      "\u001b[1m163/163\u001b[0m \u001b[32m━━━━━━━━━━━━━━━━━━━━\u001b[0m\u001b[37m\u001b[0m \u001b[1m1s\u001b[0m 6ms/step - dense_2_loss: 0.4826 - dense_3_loss: 0.1947 - dense_4_loss: 0.0949 - loss: 0.7723\n",
      "Epoch 336/500\n",
      "\u001b[1m163/163\u001b[0m \u001b[32m━━━━━━━━━━━━━━━━━━━━\u001b[0m\u001b[37m\u001b[0m \u001b[1m1s\u001b[0m 7ms/step - dense_2_loss: 0.6271 - dense_3_loss: 0.2643 - dense_4_loss: 0.0803 - loss: 0.9717\n",
      "Epoch 337/500\n",
      "\u001b[1m163/163\u001b[0m \u001b[32m━━━━━━━━━━━━━━━━━━━━\u001b[0m\u001b[37m\u001b[0m \u001b[1m1s\u001b[0m 6ms/step - dense_2_loss: 0.5185 - dense_3_loss: 0.1853 - dense_4_loss: 0.0769 - loss: 0.7807\n",
      "Epoch 338/500\n",
      "\u001b[1m163/163\u001b[0m \u001b[32m━━━━━━━━━━━━━━━━━━━━\u001b[0m\u001b[37m\u001b[0m \u001b[1m1s\u001b[0m 7ms/step - dense_2_loss: 0.5401 - dense_3_loss: 0.2268 - dense_4_loss: 0.0880 - loss: 0.8549\n",
      "Epoch 339/500\n",
      "\u001b[1m163/163\u001b[0m \u001b[32m━━━━━━━━━━━━━━━━━━━━\u001b[0m\u001b[37m\u001b[0m \u001b[1m1s\u001b[0m 7ms/step - dense_2_loss: 0.4315 - dense_3_loss: 0.2112 - dense_4_loss: 0.0764 - loss: 0.7191\n",
      "Epoch 340/500\n",
      "\u001b[1m163/163\u001b[0m \u001b[32m━━━━━━━━━━━━━━━━━━━━\u001b[0m\u001b[37m\u001b[0m \u001b[1m1s\u001b[0m 6ms/step - dense_2_loss: 0.7798 - dense_3_loss: 0.2234 - dense_4_loss: 0.0887 - loss: 1.0919\n",
      "Epoch 341/500\n",
      "\u001b[1m163/163\u001b[0m \u001b[32m━━━━━━━━━━━━━━━━━━━━\u001b[0m\u001b[37m\u001b[0m \u001b[1m1s\u001b[0m 6ms/step - dense_2_loss: 0.4665 - dense_3_loss: 0.1841 - dense_4_loss: 0.0795 - loss: 0.7301\n",
      "Epoch 342/500\n",
      "\u001b[1m163/163\u001b[0m \u001b[32m━━━━━━━━━━━━━━━━━━━━\u001b[0m\u001b[37m\u001b[0m \u001b[1m1s\u001b[0m 7ms/step - dense_2_loss: 0.6775 - dense_3_loss: 0.2295 - dense_4_loss: 0.0883 - loss: 0.9953\n",
      "Epoch 343/500\n",
      "\u001b[1m163/163\u001b[0m \u001b[32m━━━━━━━━━━━━━━━━━━━━\u001b[0m\u001b[37m\u001b[0m \u001b[1m1s\u001b[0m 7ms/step - dense_2_loss: 0.6327 - dense_3_loss: 0.2775 - dense_4_loss: 0.0674 - loss: 0.9776\n",
      "Epoch 344/500\n",
      "\u001b[1m163/163\u001b[0m \u001b[32m━━━━━━━━━━━━━━━━━━━━\u001b[0m\u001b[37m\u001b[0m \u001b[1m1s\u001b[0m 6ms/step - dense_2_loss: 0.6178 - dense_3_loss: 0.2302 - dense_4_loss: 0.0886 - loss: 0.9366\n",
      "Epoch 345/500\n",
      "\u001b[1m163/163\u001b[0m \u001b[32m━━━━━━━━━━━━━━━━━━━━\u001b[0m\u001b[37m\u001b[0m \u001b[1m1s\u001b[0m 5ms/step - dense_2_loss: 0.4970 - dense_3_loss: 0.2050 - dense_4_loss: 0.0820 - loss: 0.7840\n",
      "Epoch 346/500\n",
      "\u001b[1m163/163\u001b[0m \u001b[32m━━━━━━━━━━━━━━━━━━━━\u001b[0m\u001b[37m\u001b[0m \u001b[1m1s\u001b[0m 6ms/step - dense_2_loss: 0.6661 - dense_3_loss: 0.2106 - dense_4_loss: 0.0900 - loss: 0.9667\n",
      "Epoch 347/500\n",
      "\u001b[1m163/163\u001b[0m \u001b[32m━━━━━━━━━━━━━━━━━━━━\u001b[0m\u001b[37m\u001b[0m \u001b[1m1s\u001b[0m 6ms/step - dense_2_loss: 0.5446 - dense_3_loss: 0.2286 - dense_4_loss: 0.1010 - loss: 0.8742\n",
      "Epoch 348/500\n",
      "\u001b[1m163/163\u001b[0m \u001b[32m━━━━━━━━━━━━━━━━━━━━\u001b[0m\u001b[37m\u001b[0m \u001b[1m1s\u001b[0m 6ms/step - dense_2_loss: 0.4471 - dense_3_loss: 0.1891 - dense_4_loss: 0.0746 - loss: 0.7108\n",
      "Epoch 349/500\n",
      "\u001b[1m163/163\u001b[0m \u001b[32m━━━━━━━━━━━━━━━━━━━━\u001b[0m\u001b[37m\u001b[0m \u001b[1m2s\u001b[0m 9ms/step - dense_2_loss: 0.4687 - dense_3_loss: 0.1982 - dense_4_loss: 0.0742 - loss: 0.7412\n",
      "Epoch 350/500\n",
      "\u001b[1m163/163\u001b[0m \u001b[32m━━━━━━━━━━━━━━━━━━━━\u001b[0m\u001b[37m\u001b[0m \u001b[1m2s\u001b[0m 6ms/step - dense_2_loss: 0.5987 - dense_3_loss: 0.2616 - dense_4_loss: 0.0772 - loss: 0.9376\n",
      "Epoch 351/500\n",
      "\u001b[1m163/163\u001b[0m \u001b[32m━━━━━━━━━━━━━━━━━━━━\u001b[0m\u001b[37m\u001b[0m \u001b[1m1s\u001b[0m 6ms/step - dense_2_loss: 0.4736 - dense_3_loss: 0.2029 - dense_4_loss: 0.0849 - loss: 0.7615\n",
      "Epoch 352/500\n",
      "\u001b[1m163/163\u001b[0m \u001b[32m━━━━━━━━━━━━━━━━━━━━\u001b[0m\u001b[37m\u001b[0m \u001b[1m1s\u001b[0m 6ms/step - dense_2_loss: 0.5700 - dense_3_loss: 0.2099 - dense_4_loss: 0.0920 - loss: 0.8719\n",
      "Epoch 353/500\n",
      "\u001b[1m163/163\u001b[0m \u001b[32m━━━━━━━━━━━━━━━━━━━━\u001b[0m\u001b[37m\u001b[0m \u001b[1m1s\u001b[0m 6ms/step - dense_2_loss: 0.6503 - dense_3_loss: 0.2658 - dense_4_loss: 0.1044 - loss: 1.0206\n",
      "Epoch 354/500\n",
      "\u001b[1m163/163\u001b[0m \u001b[32m━━━━━━━━━━━━━━━━━━━━\u001b[0m\u001b[37m\u001b[0m \u001b[1m1s\u001b[0m 7ms/step - dense_2_loss: 0.5796 - dense_3_loss: 0.2188 - dense_4_loss: 0.0826 - loss: 0.8811\n",
      "Epoch 355/500\n",
      "\u001b[1m163/163\u001b[0m \u001b[32m━━━━━━━━━━━━━━━━━━━━\u001b[0m\u001b[37m\u001b[0m \u001b[1m1s\u001b[0m 6ms/step - dense_2_loss: 0.5320 - dense_3_loss: 0.2465 - dense_4_loss: 0.0901 - loss: 0.8687\n",
      "Epoch 356/500\n",
      "\u001b[1m163/163\u001b[0m \u001b[32m━━━━━━━━━━━━━━━━━━━━\u001b[0m\u001b[37m\u001b[0m \u001b[1m1s\u001b[0m 6ms/step - dense_2_loss: 0.6077 - dense_3_loss: 0.2059 - dense_4_loss: 0.0799 - loss: 0.8936\n",
      "Epoch 357/500\n",
      "\u001b[1m163/163\u001b[0m \u001b[32m━━━━━━━━━━━━━━━━━━━━\u001b[0m\u001b[37m\u001b[0m \u001b[1m1s\u001b[0m 5ms/step - dense_2_loss: 0.6272 - dense_3_loss: 0.2639 - dense_4_loss: 0.0941 - loss: 0.9852\n",
      "Epoch 358/500\n",
      "\u001b[1m163/163\u001b[0m \u001b[32m━━━━━━━━━━━━━━━━━━━━\u001b[0m\u001b[37m\u001b[0m \u001b[1m1s\u001b[0m 5ms/step - dense_2_loss: 0.4562 - dense_3_loss: 0.2065 - dense_4_loss: 0.0929 - loss: 0.7556\n",
      "Epoch 359/500\n",
      "\u001b[1m163/163\u001b[0m \u001b[32m━━━━━━━━━━━━━━━━━━━━\u001b[0m\u001b[37m\u001b[0m \u001b[1m1s\u001b[0m 6ms/step - dense_2_loss: 0.4570 - dense_3_loss: 0.2131 - dense_4_loss: 0.0809 - loss: 0.7510\n",
      "Epoch 360/500\n",
      "\u001b[1m163/163\u001b[0m \u001b[32m━━━━━━━━━━━━━━━━━━━━\u001b[0m\u001b[37m\u001b[0m \u001b[1m1s\u001b[0m 5ms/step - dense_2_loss: 0.6514 - dense_3_loss: 0.2776 - dense_4_loss: 0.0938 - loss: 1.0228\n",
      "Epoch 361/500\n",
      "\u001b[1m163/163\u001b[0m \u001b[32m━━━━━━━━━━━━━━━━━━━━\u001b[0m\u001b[37m\u001b[0m \u001b[1m1s\u001b[0m 5ms/step - dense_2_loss: 0.5612 - dense_3_loss: 0.2324 - dense_4_loss: 0.0800 - loss: 0.8736\n",
      "Epoch 362/500\n",
      "\u001b[1m163/163\u001b[0m \u001b[32m━━━━━━━━━━━━━━━━━━━━\u001b[0m\u001b[37m\u001b[0m \u001b[1m1s\u001b[0m 7ms/step - dense_2_loss: 0.5138 - dense_3_loss: 0.1698 - dense_4_loss: 0.0810 - loss: 0.7645\n",
      "Epoch 363/500\n",
      "\u001b[1m163/163\u001b[0m \u001b[32m━━━━━━━━━━━━━━━━━━━━\u001b[0m\u001b[37m\u001b[0m \u001b[1m1s\u001b[0m 6ms/step - dense_2_loss: 0.5728 - dense_3_loss: 0.1927 - dense_4_loss: 0.0921 - loss: 0.8576\n",
      "Epoch 364/500\n",
      "\u001b[1m163/163\u001b[0m \u001b[32m━━━━━━━━━━━━━━━━━━━━\u001b[0m\u001b[37m\u001b[0m \u001b[1m1s\u001b[0m 6ms/step - dense_2_loss: 0.6787 - dense_3_loss: 0.2190 - dense_4_loss: 0.0913 - loss: 0.9889\n",
      "Epoch 365/500\n",
      "\u001b[1m163/163\u001b[0m \u001b[32m━━━━━━━━━━━━━━━━━━━━\u001b[0m\u001b[37m\u001b[0m \u001b[1m1s\u001b[0m 6ms/step - dense_2_loss: 0.5032 - dense_3_loss: 0.1933 - dense_4_loss: 0.0843 - loss: 0.7808\n",
      "Epoch 366/500\n",
      "\u001b[1m163/163\u001b[0m \u001b[32m━━━━━━━━━━━━━━━━━━━━\u001b[0m\u001b[37m\u001b[0m \u001b[1m1s\u001b[0m 7ms/step - dense_2_loss: 0.5173 - dense_3_loss: 0.2250 - dense_4_loss: 0.0875 - loss: 0.8299\n",
      "Epoch 367/500\n",
      "\u001b[1m163/163\u001b[0m \u001b[32m━━━━━━━━━━━━━━━━━━━━\u001b[0m\u001b[37m\u001b[0m \u001b[1m1s\u001b[0m 5ms/step - dense_2_loss: 0.5294 - dense_3_loss: 0.2435 - dense_4_loss: 0.0774 - loss: 0.8503\n",
      "Epoch 368/500\n",
      "\u001b[1m163/163\u001b[0m \u001b[32m━━━━━━━━━━━━━━━━━━━━\u001b[0m\u001b[37m\u001b[0m \u001b[1m1s\u001b[0m 5ms/step - dense_2_loss: 0.4867 - dense_3_loss: 0.2175 - dense_4_loss: 0.0849 - loss: 0.7891\n",
      "Epoch 369/500\n",
      "\u001b[1m163/163\u001b[0m \u001b[32m━━━━━━━━━━━━━━━━━━━━\u001b[0m\u001b[37m\u001b[0m \u001b[1m1s\u001b[0m 6ms/step - dense_2_loss: 0.4575 - dense_3_loss: 0.2254 - dense_4_loss: 0.0974 - loss: 0.7803\n",
      "Epoch 370/500\n",
      "\u001b[1m163/163\u001b[0m \u001b[32m━━━━━━━━━━━━━━━━━━━━\u001b[0m\u001b[37m\u001b[0m \u001b[1m1s\u001b[0m 6ms/step - dense_2_loss: 0.8186 - dense_3_loss: 0.3279 - dense_4_loss: 0.0855 - loss: 1.2320\n",
      "Epoch 371/500\n",
      "\u001b[1m163/163\u001b[0m \u001b[32m━━━━━━━━━━━━━━━━━━━━\u001b[0m\u001b[37m\u001b[0m \u001b[1m1s\u001b[0m 5ms/step - dense_2_loss: 0.5465 - dense_3_loss: 0.1755 - dense_4_loss: 0.0878 - loss: 0.8098\n",
      "Epoch 372/500\n",
      "\u001b[1m163/163\u001b[0m \u001b[32m━━━━━━━━━━━━━━━━━━━━\u001b[0m\u001b[37m\u001b[0m \u001b[1m1s\u001b[0m 6ms/step - dense_2_loss: 0.6137 - dense_3_loss: 0.2319 - dense_4_loss: 0.1183 - loss: 0.9639\n",
      "Epoch 373/500\n",
      "\u001b[1m163/163\u001b[0m \u001b[32m━━━━━━━━━━━━━━━━━━━━\u001b[0m\u001b[37m\u001b[0m \u001b[1m1s\u001b[0m 6ms/step - dense_2_loss: 0.5527 - dense_3_loss: 0.2674 - dense_4_loss: 0.0990 - loss: 0.9191\n",
      "Epoch 374/500\n",
      "\u001b[1m163/163\u001b[0m \u001b[32m━━━━━━━━━━━━━━━━━━━━\u001b[0m\u001b[37m\u001b[0m \u001b[1m1s\u001b[0m 6ms/step - dense_2_loss: 0.4696 - dense_3_loss: 0.1881 - dense_4_loss: 0.0912 - loss: 0.7488\n",
      "Epoch 375/500\n",
      "\u001b[1m163/163\u001b[0m \u001b[32m━━━━━━━━━━━━━━━━━━━━\u001b[0m\u001b[37m\u001b[0m \u001b[1m1s\u001b[0m 6ms/step - dense_2_loss: 0.7966 - dense_3_loss: 0.2939 - dense_4_loss: 0.0770 - loss: 1.1675\n",
      "Epoch 376/500\n",
      "\u001b[1m163/163\u001b[0m \u001b[32m━━━━━━━━━━━━━━━━━━━━\u001b[0m\u001b[37m\u001b[0m \u001b[1m1s\u001b[0m 6ms/step - dense_2_loss: 0.4775 - dense_3_loss: 0.1881 - dense_4_loss: 0.0752 - loss: 0.7408\n",
      "Epoch 377/500\n",
      "\u001b[1m163/163\u001b[0m \u001b[32m━━━━━━━━━━━━━━━━━━━━\u001b[0m\u001b[37m\u001b[0m \u001b[1m1s\u001b[0m 6ms/step - dense_2_loss: 0.6399 - dense_3_loss: 0.2975 - dense_4_loss: 0.0812 - loss: 1.0187\n",
      "Epoch 378/500\n",
      "\u001b[1m163/163\u001b[0m \u001b[32m━━━━━━━━━━━━━━━━━━━━\u001b[0m\u001b[37m\u001b[0m \u001b[1m2s\u001b[0m 9ms/step - dense_2_loss: 0.6835 - dense_3_loss: 0.2983 - dense_4_loss: 0.0844 - loss: 1.0662\n",
      "Epoch 379/500\n",
      "\u001b[1m163/163\u001b[0m \u001b[32m━━━━━━━━━━━━━━━━━━━━\u001b[0m\u001b[37m\u001b[0m \u001b[1m2s\u001b[0m 6ms/step - dense_2_loss: 0.6006 - dense_3_loss: 0.2529 - dense_4_loss: 0.0922 - loss: 0.9457\n",
      "Epoch 380/500\n",
      "\u001b[1m163/163\u001b[0m \u001b[32m━━━━━━━━━━━━━━━━━━━━\u001b[0m\u001b[37m\u001b[0m \u001b[1m1s\u001b[0m 6ms/step - dense_2_loss: 0.6631 - dense_3_loss: 0.2160 - dense_4_loss: 0.0934 - loss: 0.9724\n",
      "Epoch 381/500\n",
      "\u001b[1m163/163\u001b[0m \u001b[32m━━━━━━━━━━━━━━━━━━━━\u001b[0m\u001b[37m\u001b[0m \u001b[1m1s\u001b[0m 6ms/step - dense_2_loss: 0.5767 - dense_3_loss: 0.1971 - dense_4_loss: 0.0814 - loss: 0.8551\n",
      "Epoch 382/500\n",
      "\u001b[1m163/163\u001b[0m \u001b[32m━━━━━━━━━━━━━━━━━━━━\u001b[0m\u001b[37m\u001b[0m \u001b[1m1s\u001b[0m 6ms/step - dense_2_loss: 0.6889 - dense_3_loss: 0.3044 - dense_4_loss: 0.0825 - loss: 1.0757\n",
      "Epoch 383/500\n",
      "\u001b[1m163/163\u001b[0m \u001b[32m━━━━━━━━━━━━━━━━━━━━\u001b[0m\u001b[37m\u001b[0m \u001b[1m1s\u001b[0m 7ms/step - dense_2_loss: 0.8267 - dense_3_loss: 0.2260 - dense_4_loss: 0.0976 - loss: 1.1503\n",
      "Epoch 384/500\n",
      "\u001b[1m163/163\u001b[0m \u001b[32m━━━━━━━━━━━━━━━━━━━━\u001b[0m\u001b[37m\u001b[0m \u001b[1m1s\u001b[0m 7ms/step - dense_2_loss: 0.5066 - dense_3_loss: 0.1997 - dense_4_loss: 0.0924 - loss: 0.7987\n",
      "Epoch 385/500\n",
      "\u001b[1m163/163\u001b[0m \u001b[32m━━━━━━━━━━━━━━━━━━━━\u001b[0m\u001b[37m\u001b[0m \u001b[1m1s\u001b[0m 6ms/step - dense_2_loss: 0.5425 - dense_3_loss: 0.2084 - dense_4_loss: 0.0850 - loss: 0.8359\n",
      "Epoch 386/500\n",
      "\u001b[1m163/163\u001b[0m \u001b[32m━━━━━━━━━━━━━━━━━━━━\u001b[0m\u001b[37m\u001b[0m \u001b[1m1s\u001b[0m 6ms/step - dense_2_loss: 0.5663 - dense_3_loss: 0.2168 - dense_4_loss: 0.0868 - loss: 0.8699\n",
      "Epoch 387/500\n",
      "\u001b[1m163/163\u001b[0m \u001b[32m━━━━━━━━━━━━━━━━━━━━\u001b[0m\u001b[37m\u001b[0m \u001b[1m1s\u001b[0m 7ms/step - dense_2_loss: 0.6631 - dense_3_loss: 0.2530 - dense_4_loss: 0.0801 - loss: 0.9962\n",
      "Epoch 388/500\n",
      "\u001b[1m163/163\u001b[0m \u001b[32m━━━━━━━━━━━━━━━━━━━━\u001b[0m\u001b[37m\u001b[0m \u001b[1m1s\u001b[0m 6ms/step - dense_2_loss: 0.5213 - dense_3_loss: 0.2202 - dense_4_loss: 0.0802 - loss: 0.8217\n",
      "Epoch 389/500\n",
      "\u001b[1m163/163\u001b[0m \u001b[32m━━━━━━━━━━━━━━━━━━━━\u001b[0m\u001b[37m\u001b[0m \u001b[1m1s\u001b[0m 6ms/step - dense_2_loss: 0.6188 - dense_3_loss: 0.2915 - dense_4_loss: 0.0860 - loss: 0.9963\n",
      "Epoch 390/500\n",
      "\u001b[1m163/163\u001b[0m \u001b[32m━━━━━━━━━━━━━━━━━━━━\u001b[0m\u001b[37m\u001b[0m \u001b[1m1s\u001b[0m 6ms/step - dense_2_loss: 0.5683 - dense_3_loss: 0.2255 - dense_4_loss: 0.0967 - loss: 0.8905\n",
      "Epoch 391/500\n",
      "\u001b[1m163/163\u001b[0m \u001b[32m━━━━━━━━━━━━━━━━━━━━\u001b[0m\u001b[37m\u001b[0m \u001b[1m1s\u001b[0m 6ms/step - dense_2_loss: 0.4035 - dense_3_loss: 0.1916 - dense_4_loss: 0.1018 - loss: 0.6969\n",
      "Epoch 392/500\n",
      "\u001b[1m163/163\u001b[0m \u001b[32m━━━━━━━━━━━━━━━━━━━━\u001b[0m\u001b[37m\u001b[0m \u001b[1m1s\u001b[0m 6ms/step - dense_2_loss: 0.6575 - dense_3_loss: 0.2604 - dense_4_loss: 0.0889 - loss: 1.0068\n",
      "Epoch 393/500\n",
      "\u001b[1m163/163\u001b[0m \u001b[32m━━━━━━━━━━━━━━━━━━━━\u001b[0m\u001b[37m\u001b[0m \u001b[1m1s\u001b[0m 6ms/step - dense_2_loss: 0.7765 - dense_3_loss: 0.2985 - dense_4_loss: 0.0975 - loss: 1.1725\n",
      "Epoch 394/500\n",
      "\u001b[1m163/163\u001b[0m \u001b[32m━━━━━━━━━━━━━━━━━━━━\u001b[0m\u001b[37m\u001b[0m \u001b[1m1s\u001b[0m 6ms/step - dense_2_loss: 0.6942 - dense_3_loss: 0.2712 - dense_4_loss: 0.0907 - loss: 1.0561\n",
      "Epoch 395/500\n",
      "\u001b[1m163/163\u001b[0m \u001b[32m━━━━━━━━━━━━━━━━━━━━\u001b[0m\u001b[37m\u001b[0m \u001b[1m1s\u001b[0m 6ms/step - dense_2_loss: 0.6147 - dense_3_loss: 0.2375 - dense_4_loss: 0.0891 - loss: 0.9414\n",
      "Epoch 396/500\n",
      "\u001b[1m163/163\u001b[0m \u001b[32m━━━━━━━━━━━━━━━━━━━━\u001b[0m\u001b[37m\u001b[0m \u001b[1m1s\u001b[0m 6ms/step - dense_2_loss: 0.5464 - dense_3_loss: 0.2362 - dense_4_loss: 0.0917 - loss: 0.8743\n",
      "Epoch 397/500\n",
      "\u001b[1m163/163\u001b[0m \u001b[32m━━━━━━━━━━━━━━━━━━━━\u001b[0m\u001b[37m\u001b[0m \u001b[1m1s\u001b[0m 6ms/step - dense_2_loss: 0.5607 - dense_3_loss: 0.2062 - dense_4_loss: 0.0785 - loss: 0.8454\n",
      "Epoch 398/500\n",
      "\u001b[1m163/163\u001b[0m \u001b[32m━━━━━━━━━━━━━━━━━━━━\u001b[0m\u001b[37m\u001b[0m \u001b[1m1s\u001b[0m 6ms/step - dense_2_loss: 0.5616 - dense_3_loss: 0.1991 - dense_4_loss: 0.0816 - loss: 0.8422\n",
      "Epoch 399/500\n",
      "\u001b[1m163/163\u001b[0m \u001b[32m━━━━━━━━━━━━━━━━━━━━\u001b[0m\u001b[37m\u001b[0m \u001b[1m1s\u001b[0m 6ms/step - dense_2_loss: 0.6038 - dense_3_loss: 0.2088 - dense_4_loss: 0.0736 - loss: 0.8861\n",
      "Epoch 400/500\n",
      "\u001b[1m163/163\u001b[0m \u001b[32m━━━━━━━━━━━━━━━━━━━━\u001b[0m\u001b[37m\u001b[0m \u001b[1m1s\u001b[0m 6ms/step - dense_2_loss: 0.5587 - dense_3_loss: 0.2540 - dense_4_loss: 0.1014 - loss: 0.9141\n",
      "Epoch 401/500\n",
      "\u001b[1m163/163\u001b[0m \u001b[32m━━━━━━━━━━━━━━━━━━━━\u001b[0m\u001b[37m\u001b[0m \u001b[1m1s\u001b[0m 7ms/step - dense_2_loss: 0.8192 - dense_3_loss: 0.3690 - dense_4_loss: 0.0902 - loss: 1.2784\n",
      "Epoch 402/500\n",
      "\u001b[1m163/163\u001b[0m \u001b[32m━━━━━━━━━━━━━━━━━━━━\u001b[0m\u001b[37m\u001b[0m \u001b[1m1s\u001b[0m 7ms/step - dense_2_loss: 0.6253 - dense_3_loss: 0.2033 - dense_4_loss: 0.0814 - loss: 0.9100\n",
      "Epoch 403/500\n",
      "\u001b[1m163/163\u001b[0m \u001b[32m━━━━━━━━━━━━━━━━━━━━\u001b[0m\u001b[37m\u001b[0m \u001b[1m1s\u001b[0m 7ms/step - dense_2_loss: 0.7643 - dense_3_loss: 0.2609 - dense_4_loss: 0.0915 - loss: 1.1167\n",
      "Epoch 404/500\n",
      "\u001b[1m163/163\u001b[0m \u001b[32m━━━━━━━━━━━━━━━━━━━━\u001b[0m\u001b[37m\u001b[0m \u001b[1m1s\u001b[0m 8ms/step - dense_2_loss: 0.5320 - dense_3_loss: 0.1975 - dense_4_loss: 0.0824 - loss: 0.8119\n",
      "Epoch 405/500\n",
      "\u001b[1m163/163\u001b[0m \u001b[32m━━━━━━━━━━━━━━━━━━━━\u001b[0m\u001b[37m\u001b[0m \u001b[1m2s\u001b[0m 9ms/step - dense_2_loss: 0.4304 - dense_3_loss: 0.1768 - dense_4_loss: 0.0761 - loss: 0.6833\n",
      "Epoch 406/500\n",
      "\u001b[1m163/163\u001b[0m \u001b[32m━━━━━━━━━━━━━━━━━━━━\u001b[0m\u001b[37m\u001b[0m \u001b[1m1s\u001b[0m 7ms/step - dense_2_loss: 0.5575 - dense_3_loss: 0.2089 - dense_4_loss: 0.0878 - loss: 0.8542\n",
      "Epoch 407/500\n",
      "\u001b[1m163/163\u001b[0m \u001b[32m━━━━━━━━━━━━━━━━━━━━\u001b[0m\u001b[37m\u001b[0m \u001b[1m1s\u001b[0m 7ms/step - dense_2_loss: 0.6005 - dense_3_loss: 0.2228 - dense_4_loss: 0.0782 - loss: 0.9015\n",
      "Epoch 408/500\n",
      "\u001b[1m163/163\u001b[0m \u001b[32m━━━━━━━━━━━━━━━━━━━━\u001b[0m\u001b[37m\u001b[0m \u001b[1m1s\u001b[0m 7ms/step - dense_2_loss: 0.6442 - dense_3_loss: 0.2631 - dense_4_loss: 0.0871 - loss: 0.9944\n",
      "Epoch 409/500\n",
      "\u001b[1m163/163\u001b[0m \u001b[32m━━━━━━━━━━━━━━━━━━━━\u001b[0m\u001b[37m\u001b[0m \u001b[1m1s\u001b[0m 7ms/step - dense_2_loss: 0.6904 - dense_3_loss: 0.3066 - dense_4_loss: 0.0821 - loss: 1.0791\n",
      "Epoch 410/500\n",
      "\u001b[1m163/163\u001b[0m \u001b[32m━━━━━━━━━━━━━━━━━━━━\u001b[0m\u001b[37m\u001b[0m \u001b[1m1s\u001b[0m 7ms/step - dense_2_loss: 0.4752 - dense_3_loss: 0.2035 - dense_4_loss: 0.0788 - loss: 0.7576\n",
      "Epoch 411/500\n",
      "\u001b[1m163/163\u001b[0m \u001b[32m━━━━━━━━━━━━━━━━━━━━\u001b[0m\u001b[37m\u001b[0m \u001b[1m1s\u001b[0m 7ms/step - dense_2_loss: 0.6487 - dense_3_loss: 0.2565 - dense_4_loss: 0.1035 - loss: 1.0087\n",
      "Epoch 412/500\n",
      "\u001b[1m163/163\u001b[0m \u001b[32m━━━━━━━━━━━━━━━━━━━━\u001b[0m\u001b[37m\u001b[0m \u001b[1m1s\u001b[0m 6ms/step - dense_2_loss: 0.6470 - dense_3_loss: 0.2319 - dense_4_loss: 0.1144 - loss: 0.9933\n",
      "Epoch 413/500\n",
      "\u001b[1m163/163\u001b[0m \u001b[32m━━━━━━━━━━━━━━━━━━━━\u001b[0m\u001b[37m\u001b[0m \u001b[1m1s\u001b[0m 7ms/step - dense_2_loss: 0.5697 - dense_3_loss: 0.2079 - dense_4_loss: 0.1048 - loss: 0.8824\n",
      "Epoch 414/500\n",
      "\u001b[1m163/163\u001b[0m \u001b[32m━━━━━━━━━━━━━━━━━━━━\u001b[0m\u001b[37m\u001b[0m \u001b[1m1s\u001b[0m 7ms/step - dense_2_loss: 0.9708 - dense_3_loss: 0.3700 - dense_4_loss: 0.0924 - loss: 1.4332\n",
      "Epoch 415/500\n",
      "\u001b[1m163/163\u001b[0m \u001b[32m━━━━━━━━━━━━━━━━━━━━\u001b[0m\u001b[37m\u001b[0m \u001b[1m1s\u001b[0m 7ms/step - dense_2_loss: 0.5875 - dense_3_loss: 0.2189 - dense_4_loss: 0.0755 - loss: 0.8820\n",
      "Epoch 416/500\n",
      "\u001b[1m163/163\u001b[0m \u001b[32m━━━━━━━━━━━━━━━━━━━━\u001b[0m\u001b[37m\u001b[0m \u001b[1m1s\u001b[0m 6ms/step - dense_2_loss: 0.6857 - dense_3_loss: 0.2172 - dense_4_loss: 0.0901 - loss: 0.9930\n",
      "Epoch 417/500\n",
      "\u001b[1m163/163\u001b[0m \u001b[32m━━━━━━━━━━━━━━━━━━━━\u001b[0m\u001b[37m\u001b[0m \u001b[1m1s\u001b[0m 6ms/step - dense_2_loss: 0.9109 - dense_3_loss: 0.4031 - dense_4_loss: 0.0787 - loss: 1.3927\n",
      "Epoch 418/500\n",
      "\u001b[1m163/163\u001b[0m \u001b[32m━━━━━━━━━━━━━━━━━━━━\u001b[0m\u001b[37m\u001b[0m \u001b[1m1s\u001b[0m 7ms/step - dense_2_loss: 0.6213 - dense_3_loss: 0.2450 - dense_4_loss: 0.0952 - loss: 0.9616\n",
      "Epoch 419/500\n",
      "\u001b[1m163/163\u001b[0m \u001b[32m━━━━━━━━━━━━━━━━━━━━\u001b[0m\u001b[37m\u001b[0m \u001b[1m1s\u001b[0m 7ms/step - dense_2_loss: 0.7709 - dense_3_loss: 0.2825 - dense_4_loss: 0.0886 - loss: 1.1420\n",
      "Epoch 420/500\n",
      "\u001b[1m163/163\u001b[0m \u001b[32m━━━━━━━━━━━━━━━━━━━━\u001b[0m\u001b[37m\u001b[0m \u001b[1m1s\u001b[0m 6ms/step - dense_2_loss: 0.5055 - dense_3_loss: 0.2200 - dense_4_loss: 0.0778 - loss: 0.8033\n",
      "Epoch 421/500\n",
      "\u001b[1m163/163\u001b[0m \u001b[32m━━━━━━━━━━━━━━━━━━━━\u001b[0m\u001b[37m\u001b[0m \u001b[1m1s\u001b[0m 7ms/step - dense_2_loss: 0.5426 - dense_3_loss: 0.2461 - dense_4_loss: 0.0860 - loss: 0.8747\n",
      "Epoch 422/500\n",
      "\u001b[1m163/163\u001b[0m \u001b[32m━━━━━━━━━━━━━━━━━━━━\u001b[0m\u001b[37m\u001b[0m \u001b[1m1s\u001b[0m 6ms/step - dense_2_loss: 0.6272 - dense_3_loss: 0.2450 - dense_4_loss: 0.0802 - loss: 0.9524\n",
      "Epoch 423/500\n",
      "\u001b[1m163/163\u001b[0m \u001b[32m━━━━━━━━━━━━━━━━━━━━\u001b[0m\u001b[37m\u001b[0m \u001b[1m1s\u001b[0m 6ms/step - dense_2_loss: 0.6816 - dense_3_loss: 0.3079 - dense_4_loss: 0.0889 - loss: 1.0785\n",
      "Epoch 424/500\n",
      "\u001b[1m163/163\u001b[0m \u001b[32m━━━━━━━━━━━━━━━━━━━━\u001b[0m\u001b[37m\u001b[0m \u001b[1m1s\u001b[0m 6ms/step - dense_2_loss: 0.5310 - dense_3_loss: 0.2261 - dense_4_loss: 0.0895 - loss: 0.8466\n",
      "Epoch 425/500\n",
      "\u001b[1m163/163\u001b[0m \u001b[32m━━━━━━━━━━━━━━━━━━━━\u001b[0m\u001b[37m\u001b[0m \u001b[1m1s\u001b[0m 6ms/step - dense_2_loss: 0.5374 - dense_3_loss: 0.2315 - dense_4_loss: 0.0942 - loss: 0.8632\n",
      "Epoch 426/500\n",
      "\u001b[1m163/163\u001b[0m \u001b[32m━━━━━━━━━━━━━━━━━━━━\u001b[0m\u001b[37m\u001b[0m \u001b[1m1s\u001b[0m 7ms/step - dense_2_loss: 0.5095 - dense_3_loss: 0.2026 - dense_4_loss: 0.0749 - loss: 0.7870\n",
      "Epoch 427/500\n",
      "\u001b[1m163/163\u001b[0m \u001b[32m━━━━━━━━━━━━━━━━━━━━\u001b[0m\u001b[37m\u001b[0m \u001b[1m1s\u001b[0m 7ms/step - dense_2_loss: 0.5005 - dense_3_loss: 0.2063 - dense_4_loss: 0.0854 - loss: 0.7922\n",
      "Epoch 428/500\n",
      "\u001b[1m163/163\u001b[0m \u001b[32m━━━━━━━━━━━━━━━━━━━━\u001b[0m\u001b[37m\u001b[0m \u001b[1m1s\u001b[0m 7ms/step - dense_2_loss: 0.6097 - dense_3_loss: 0.2659 - dense_4_loss: 0.1052 - loss: 0.9808\n",
      "Epoch 429/500\n",
      "\u001b[1m163/163\u001b[0m \u001b[32m━━━━━━━━━━━━━━━━━━━━\u001b[0m\u001b[37m\u001b[0m \u001b[1m1s\u001b[0m 6ms/step - dense_2_loss: 0.6996 - dense_3_loss: 0.2829 - dense_4_loss: 0.1032 - loss: 1.0857\n",
      "Epoch 430/500\n",
      "\u001b[1m163/163\u001b[0m \u001b[32m━━━━━━━━━━━━━━━━━━━━\u001b[0m\u001b[37m\u001b[0m \u001b[1m1s\u001b[0m 6ms/step - dense_2_loss: 0.4373 - dense_3_loss: 0.2088 - dense_4_loss: 0.0814 - loss: 0.7276\n",
      "Epoch 431/500\n",
      "\u001b[1m163/163\u001b[0m \u001b[32m━━━━━━━━━━━━━━━━━━━━\u001b[0m\u001b[37m\u001b[0m \u001b[1m1s\u001b[0m 7ms/step - dense_2_loss: 0.7341 - dense_3_loss: 0.2861 - dense_4_loss: 0.0841 - loss: 1.1043\n",
      "Epoch 432/500\n",
      "\u001b[1m163/163\u001b[0m \u001b[32m━━━━━━━━━━━━━━━━━━━━\u001b[0m\u001b[37m\u001b[0m \u001b[1m2s\u001b[0m 10ms/step - dense_2_loss: 0.5632 - dense_3_loss: 0.2428 - dense_4_loss: 0.1026 - loss: 0.9086\n",
      "Epoch 433/500\n",
      "\u001b[1m163/163\u001b[0m \u001b[32m━━━━━━━━━━━━━━━━━━━━\u001b[0m\u001b[37m\u001b[0m \u001b[1m2s\u001b[0m 6ms/step - dense_2_loss: 0.4599 - dense_3_loss: 0.2107 - dense_4_loss: 0.0891 - loss: 0.7598\n",
      "Epoch 434/500\n",
      "\u001b[1m163/163\u001b[0m \u001b[32m━━━━━━━━━━━━━━━━━━━━\u001b[0m\u001b[37m\u001b[0m \u001b[1m1s\u001b[0m 6ms/step - dense_2_loss: 0.7401 - dense_3_loss: 0.3180 - dense_4_loss: 0.0973 - loss: 1.1554\n",
      "Epoch 435/500\n",
      "\u001b[1m163/163\u001b[0m \u001b[32m━━━━━━━━━━━━━━━━━━━━\u001b[0m\u001b[37m\u001b[0m \u001b[1m1s\u001b[0m 6ms/step - dense_2_loss: 0.4830 - dense_3_loss: 0.2026 - dense_4_loss: 0.0812 - loss: 0.7668\n",
      "Epoch 436/500\n",
      "\u001b[1m163/163\u001b[0m \u001b[32m━━━━━━━━━━━━━━━━━━━━\u001b[0m\u001b[37m\u001b[0m \u001b[1m1s\u001b[0m 7ms/step - dense_2_loss: 0.6743 - dense_3_loss: 0.2309 - dense_4_loss: 0.0910 - loss: 0.9961\n",
      "Epoch 437/500\n",
      "\u001b[1m163/163\u001b[0m \u001b[32m━━━━━━━━━━━━━━━━━━━━\u001b[0m\u001b[37m\u001b[0m \u001b[1m1s\u001b[0m 7ms/step - dense_2_loss: 0.6623 - dense_3_loss: 0.2922 - dense_4_loss: 0.0840 - loss: 1.0385\n",
      "Epoch 438/500\n",
      "\u001b[1m163/163\u001b[0m \u001b[32m━━━━━━━━━━━━━━━━━━━━\u001b[0m\u001b[37m\u001b[0m \u001b[1m1s\u001b[0m 7ms/step - dense_2_loss: 0.5888 - dense_3_loss: 0.2420 - dense_4_loss: 0.0953 - loss: 0.9261\n",
      "Epoch 439/500\n",
      "\u001b[1m163/163\u001b[0m \u001b[32m━━━━━━━━━━━━━━━━━━━━\u001b[0m\u001b[37m\u001b[0m \u001b[1m1s\u001b[0m 6ms/step - dense_2_loss: 0.7493 - dense_3_loss: 0.2516 - dense_4_loss: 0.0943 - loss: 1.0951\n",
      "Epoch 440/500\n",
      "\u001b[1m163/163\u001b[0m \u001b[32m━━━━━━━━━━━━━━━━━━━━\u001b[0m\u001b[37m\u001b[0m \u001b[1m1s\u001b[0m 7ms/step - dense_2_loss: 0.6198 - dense_3_loss: 0.2289 - dense_4_loss: 0.0799 - loss: 0.9287\n",
      "Epoch 441/500\n",
      "\u001b[1m163/163\u001b[0m \u001b[32m━━━━━━━━━━━━━━━━━━━━\u001b[0m\u001b[37m\u001b[0m \u001b[1m1s\u001b[0m 7ms/step - dense_2_loss: 0.6399 - dense_3_loss: 0.2385 - dense_4_loss: 0.0847 - loss: 0.9632\n",
      "Epoch 442/500\n",
      "\u001b[1m163/163\u001b[0m \u001b[32m━━━━━━━━━━━━━━━━━━━━\u001b[0m\u001b[37m\u001b[0m \u001b[1m1s\u001b[0m 6ms/step - dense_2_loss: 0.5766 - dense_3_loss: 0.2215 - dense_4_loss: 0.0961 - loss: 0.8941\n",
      "Epoch 443/500\n",
      "\u001b[1m163/163\u001b[0m \u001b[32m━━━━━━━━━━━━━━━━━━━━\u001b[0m\u001b[37m\u001b[0m \u001b[1m1s\u001b[0m 6ms/step - dense_2_loss: 0.5618 - dense_3_loss: 0.2451 - dense_4_loss: 0.0872 - loss: 0.8940\n",
      "Epoch 444/500\n",
      "\u001b[1m163/163\u001b[0m \u001b[32m━━━━━━━━━━━━━━━━━━━━\u001b[0m\u001b[37m\u001b[0m \u001b[1m1s\u001b[0m 7ms/step - dense_2_loss: 0.7099 - dense_3_loss: 0.2508 - dense_4_loss: 0.0858 - loss: 1.0466\n",
      "Epoch 445/500\n",
      "\u001b[1m163/163\u001b[0m \u001b[32m━━━━━━━━━━━━━━━━━━━━\u001b[0m\u001b[37m\u001b[0m \u001b[1m1s\u001b[0m 6ms/step - dense_2_loss: 0.5300 - dense_3_loss: 0.2375 - dense_4_loss: 0.0819 - loss: 0.8493\n",
      "Epoch 446/500\n",
      "\u001b[1m163/163\u001b[0m \u001b[32m━━━━━━━━━━━━━━━━━━━━\u001b[0m\u001b[37m\u001b[0m \u001b[1m1s\u001b[0m 6ms/step - dense_2_loss: 0.5697 - dense_3_loss: 0.2046 - dense_4_loss: 0.0893 - loss: 0.8636\n",
      "Epoch 447/500\n",
      "\u001b[1m163/163\u001b[0m \u001b[32m━━━━━━━━━━━━━━━━━━━━\u001b[0m\u001b[37m\u001b[0m \u001b[1m1s\u001b[0m 7ms/step - dense_2_loss: 0.4130 - dense_3_loss: 0.1661 - dense_4_loss: 0.0842 - loss: 0.6633\n",
      "Epoch 448/500\n",
      "\u001b[1m163/163\u001b[0m \u001b[32m━━━━━━━━━━━━━━━━━━━━\u001b[0m\u001b[37m\u001b[0m \u001b[1m1s\u001b[0m 7ms/step - dense_2_loss: 0.4761 - dense_3_loss: 0.2077 - dense_4_loss: 0.0932 - loss: 0.7770\n",
      "Epoch 449/500\n",
      "\u001b[1m163/163\u001b[0m \u001b[32m━━━━━━━━━━━━━━━━━━━━\u001b[0m\u001b[37m\u001b[0m \u001b[1m1s\u001b[0m 6ms/step - dense_2_loss: 0.4794 - dense_3_loss: 0.2040 - dense_4_loss: 0.0857 - loss: 0.7691\n",
      "Epoch 450/500\n",
      "\u001b[1m163/163\u001b[0m \u001b[32m━━━━━━━━━━━━━━━━━━━━\u001b[0m\u001b[37m\u001b[0m \u001b[1m1s\u001b[0m 7ms/step - dense_2_loss: 0.5042 - dense_3_loss: 0.1757 - dense_4_loss: 0.0769 - loss: 0.7568\n",
      "Epoch 451/500\n",
      "\u001b[1m163/163\u001b[0m \u001b[32m━━━━━━━━━━━━━━━━━━━━\u001b[0m\u001b[37m\u001b[0m \u001b[1m1s\u001b[0m 7ms/step - dense_2_loss: 0.6531 - dense_3_loss: 0.2376 - dense_4_loss: 0.0809 - loss: 0.9715\n",
      "Epoch 452/500\n",
      "\u001b[1m163/163\u001b[0m \u001b[32m━━━━━━━━━━━━━━━━━━━━\u001b[0m\u001b[37m\u001b[0m \u001b[1m1s\u001b[0m 6ms/step - dense_2_loss: 0.5361 - dense_3_loss: 0.2105 - dense_4_loss: 0.0775 - loss: 0.8242\n",
      "Epoch 453/500\n",
      "\u001b[1m163/163\u001b[0m \u001b[32m━━━━━━━━━━━━━━━━━━━━\u001b[0m\u001b[37m\u001b[0m \u001b[1m1s\u001b[0m 7ms/step - dense_2_loss: 0.4781 - dense_3_loss: 0.2263 - dense_4_loss: 0.0786 - loss: 0.7829\n",
      "Epoch 454/500\n",
      "\u001b[1m163/163\u001b[0m \u001b[32m━━━━━━━━━━━━━━━━━━━━\u001b[0m\u001b[37m\u001b[0m \u001b[1m1s\u001b[0m 7ms/step - dense_2_loss: 0.5217 - dense_3_loss: 0.2351 - dense_4_loss: 0.0803 - loss: 0.8371\n",
      "Epoch 455/500\n",
      "\u001b[1m163/163\u001b[0m \u001b[32m━━━━━━━━━━━━━━━━━━━━\u001b[0m\u001b[37m\u001b[0m \u001b[1m1s\u001b[0m 7ms/step - dense_2_loss: 0.7501 - dense_3_loss: 0.2986 - dense_4_loss: 0.0804 - loss: 1.1291\n",
      "Epoch 456/500\n",
      "\u001b[1m163/163\u001b[0m \u001b[32m━━━━━━━━━━━━━━━━━━━━\u001b[0m\u001b[37m\u001b[0m \u001b[1m2s\u001b[0m 11ms/step - dense_2_loss: 0.5854 - dense_3_loss: 0.2574 - dense_4_loss: 0.0804 - loss: 0.9232\n",
      "Epoch 457/500\n",
      "\u001b[1m163/163\u001b[0m \u001b[32m━━━━━━━━━━━━━━━━━━━━\u001b[0m\u001b[37m\u001b[0m \u001b[1m2s\u001b[0m 7ms/step - dense_2_loss: 0.6501 - dense_3_loss: 0.2711 - dense_4_loss: 0.0904 - loss: 1.0115\n",
      "Epoch 458/500\n",
      "\u001b[1m163/163\u001b[0m \u001b[32m━━━━━━━━━━━━━━━━━━━━\u001b[0m\u001b[37m\u001b[0m \u001b[1m1s\u001b[0m 7ms/step - dense_2_loss: 0.9118 - dense_3_loss: 0.4204 - dense_4_loss: 0.1214 - loss: 1.4536\n",
      "Epoch 459/500\n",
      "\u001b[1m163/163\u001b[0m \u001b[32m━━━━━━━━━━━━━━━━━━━━\u001b[0m\u001b[37m\u001b[0m \u001b[1m1s\u001b[0m 6ms/step - dense_2_loss: 0.6518 - dense_3_loss: 0.2341 - dense_4_loss: 0.0867 - loss: 0.9725\n",
      "Epoch 460/500\n",
      "\u001b[1m163/163\u001b[0m \u001b[32m━━━━━━━━━━━━━━━━━━━━\u001b[0m\u001b[37m\u001b[0m \u001b[1m1s\u001b[0m 7ms/step - dense_2_loss: 0.6149 - dense_3_loss: 0.2659 - dense_4_loss: 0.0769 - loss: 0.9577\n",
      "Epoch 461/500\n",
      "\u001b[1m163/163\u001b[0m \u001b[32m━━━━━━━━━━━━━━━━━━━━\u001b[0m\u001b[37m\u001b[0m \u001b[1m1s\u001b[0m 7ms/step - dense_2_loss: 0.7289 - dense_3_loss: 0.3474 - dense_4_loss: 0.0836 - loss: 1.1598\n",
      "Epoch 462/500\n",
      "\u001b[1m163/163\u001b[0m \u001b[32m━━━━━━━━━━━━━━━━━━━━\u001b[0m\u001b[37m\u001b[0m \u001b[1m1s\u001b[0m 7ms/step - dense_2_loss: 0.4985 - dense_3_loss: 0.1843 - dense_4_loss: 0.0916 - loss: 0.7743\n",
      "Epoch 463/500\n",
      "\u001b[1m163/163\u001b[0m \u001b[32m━━━━━━━━━━━━━━━━━━━━\u001b[0m\u001b[37m\u001b[0m \u001b[1m1s\u001b[0m 7ms/step - dense_2_loss: 0.6901 - dense_3_loss: 0.3275 - dense_4_loss: 0.0849 - loss: 1.1025\n",
      "Epoch 464/500\n",
      "\u001b[1m163/163\u001b[0m \u001b[32m━━━━━━━━━━━━━━━━━━━━\u001b[0m\u001b[37m\u001b[0m \u001b[1m1s\u001b[0m 7ms/step - dense_2_loss: 0.6130 - dense_3_loss: 0.2378 - dense_4_loss: 0.1085 - loss: 0.9593\n",
      "Epoch 465/500\n",
      "\u001b[1m163/163\u001b[0m \u001b[32m━━━━━━━━━━━━━━━━━━━━\u001b[0m\u001b[37m\u001b[0m \u001b[1m1s\u001b[0m 7ms/step - dense_2_loss: 0.4469 - dense_3_loss: 0.1940 - dense_4_loss: 0.0816 - loss: 0.7225\n",
      "Epoch 466/500\n",
      "\u001b[1m163/163\u001b[0m \u001b[32m━━━━━━━━━━━━━━━━━━━━\u001b[0m\u001b[37m\u001b[0m \u001b[1m2s\u001b[0m 9ms/step - dense_2_loss: 0.7572 - dense_3_loss: 0.3437 - dense_4_loss: 0.0938 - loss: 1.1946\n",
      "Epoch 467/500\n",
      "\u001b[1m163/163\u001b[0m \u001b[32m━━━━━━━━━━━━━━━━━━━━\u001b[0m\u001b[37m\u001b[0m \u001b[1m3s\u001b[0m 10ms/step - dense_2_loss: 0.4829 - dense_3_loss: 0.2071 - dense_4_loss: 0.0842 - loss: 0.7742\n",
      "Epoch 468/500\n",
      "\u001b[1m163/163\u001b[0m \u001b[32m━━━━━━━━━━━━━━━━━━━━\u001b[0m\u001b[37m\u001b[0m \u001b[1m1s\u001b[0m 7ms/step - dense_2_loss: 0.5618 - dense_3_loss: 0.2205 - dense_4_loss: 0.0859 - loss: 0.8682\n",
      "Epoch 469/500\n",
      "\u001b[1m163/163\u001b[0m \u001b[32m━━━━━━━━━━━━━━━━━━━━\u001b[0m\u001b[37m\u001b[0m \u001b[1m1s\u001b[0m 7ms/step - dense_2_loss: 0.6000 - dense_3_loss: 0.2531 - dense_4_loss: 0.0884 - loss: 0.9415\n",
      "Epoch 470/500\n",
      "\u001b[1m163/163\u001b[0m \u001b[32m━━━━━━━━━━━━━━━━━━━━\u001b[0m\u001b[37m\u001b[0m \u001b[1m2s\u001b[0m 9ms/step - dense_2_loss: 0.4170 - dense_3_loss: 0.1781 - dense_4_loss: 0.0753 - loss: 0.6704\n",
      "Epoch 471/500\n",
      "\u001b[1m163/163\u001b[0m \u001b[32m━━━━━━━━━━━━━━━━━━━━\u001b[0m\u001b[37m\u001b[0m \u001b[1m3s\u001b[0m 10ms/step - dense_2_loss: 0.4172 - dense_3_loss: 0.2066 - dense_4_loss: 0.0643 - loss: 0.6880\n",
      "Epoch 472/500\n",
      "\u001b[1m163/163\u001b[0m \u001b[32m━━━━━━━━━━━━━━━━━━━━\u001b[0m\u001b[37m\u001b[0m \u001b[1m2s\u001b[0m 12ms/step - dense_2_loss: 0.6696 - dense_3_loss: 0.2286 - dense_4_loss: 0.0953 - loss: 0.9936\n",
      "Epoch 473/500\n",
      "\u001b[1m163/163\u001b[0m \u001b[32m━━━━━━━━━━━━━━━━━━━━\u001b[0m\u001b[37m\u001b[0m \u001b[1m3s\u001b[0m 12ms/step - dense_2_loss: 0.4460 - dense_3_loss: 0.1604 - dense_4_loss: 0.0772 - loss: 0.6836\n",
      "Epoch 474/500\n",
      "\u001b[1m163/163\u001b[0m \u001b[32m━━━━━━━━━━━━━━━━━━━━\u001b[0m\u001b[37m\u001b[0m \u001b[1m2s\u001b[0m 7ms/step - dense_2_loss: 0.4489 - dense_3_loss: 0.1808 - dense_4_loss: 0.0718 - loss: 0.7015\n",
      "Epoch 475/500\n",
      "\u001b[1m163/163\u001b[0m \u001b[32m━━━━━━━━━━━━━━━━━━━━\u001b[0m\u001b[37m\u001b[0m \u001b[1m1s\u001b[0m 6ms/step - dense_2_loss: 0.4828 - dense_3_loss: 0.2033 - dense_4_loss: 0.0916 - loss: 0.7777\n",
      "Epoch 476/500\n",
      "\u001b[1m163/163\u001b[0m \u001b[32m━━━━━━━━━━━━━━━━━━━━\u001b[0m\u001b[37m\u001b[0m \u001b[1m1s\u001b[0m 5ms/step - dense_2_loss: 0.4275 - dense_3_loss: 0.1723 - dense_4_loss: 0.0731 - loss: 0.6729\n",
      "Epoch 477/500\n",
      "\u001b[1m163/163\u001b[0m \u001b[32m━━━━━━━━━━━━━━━━━━━━\u001b[0m\u001b[37m\u001b[0m \u001b[1m1s\u001b[0m 4ms/step - dense_2_loss: 1.0264 - dense_3_loss: 0.4240 - dense_4_loss: 0.1031 - loss: 1.5535\n",
      "Epoch 478/500\n",
      "\u001b[1m163/163\u001b[0m \u001b[32m━━━━━━━━━━━━━━━━━━━━\u001b[0m\u001b[37m\u001b[0m \u001b[1m1s\u001b[0m 4ms/step - dense_2_loss: 0.7338 - dense_3_loss: 0.3115 - dense_4_loss: 0.0917 - loss: 1.1369\n",
      "Epoch 479/500\n",
      "\u001b[1m163/163\u001b[0m \u001b[32m━━━━━━━━━━━━━━━━━━━━\u001b[0m\u001b[37m\u001b[0m \u001b[1m1s\u001b[0m 4ms/step - dense_2_loss: 0.7123 - dense_3_loss: 0.3047 - dense_4_loss: 0.0892 - loss: 1.1062\n",
      "Epoch 480/500\n",
      "\u001b[1m163/163\u001b[0m \u001b[32m━━━━━━━━━━━━━━━━━━━━\u001b[0m\u001b[37m\u001b[0m \u001b[1m1s\u001b[0m 4ms/step - dense_2_loss: 0.4534 - dense_3_loss: 0.1937 - dense_4_loss: 0.0926 - loss: 0.7396\n",
      "Epoch 481/500\n",
      "\u001b[1m163/163\u001b[0m \u001b[32m━━━━━━━━━━━━━━━━━━━━\u001b[0m\u001b[37m\u001b[0m \u001b[1m1s\u001b[0m 4ms/step - dense_2_loss: 0.3779 - dense_3_loss: 0.1710 - dense_4_loss: 0.0880 - loss: 0.6370\n",
      "Epoch 482/500\n",
      "\u001b[1m163/163\u001b[0m \u001b[32m━━━━━━━━━━━━━━━━━━━━\u001b[0m\u001b[37m\u001b[0m \u001b[1m1s\u001b[0m 5ms/step - dense_2_loss: 0.6682 - dense_3_loss: 0.2481 - dense_4_loss: 0.0820 - loss: 0.9983\n",
      "Epoch 483/500\n",
      "\u001b[1m163/163\u001b[0m \u001b[32m━━━━━━━━━━━━━━━━━━━━\u001b[0m\u001b[37m\u001b[0m \u001b[1m1s\u001b[0m 4ms/step - dense_2_loss: 0.6924 - dense_3_loss: 0.2819 - dense_4_loss: 0.0926 - loss: 1.0670\n",
      "Epoch 484/500\n",
      "\u001b[1m163/163\u001b[0m \u001b[32m━━━━━━━━━━━━━━━━━━━━\u001b[0m\u001b[37m\u001b[0m \u001b[1m1s\u001b[0m 5ms/step - dense_2_loss: 0.4699 - dense_3_loss: 0.1818 - dense_4_loss: 0.0886 - loss: 0.7403\n",
      "Epoch 485/500\n",
      "\u001b[1m163/163\u001b[0m \u001b[32m━━━━━━━━━━━━━━━━━━━━\u001b[0m\u001b[37m\u001b[0m \u001b[1m1s\u001b[0m 4ms/step - dense_2_loss: 0.4171 - dense_3_loss: 0.1868 - dense_4_loss: 0.0804 - loss: 0.6843\n",
      "Epoch 486/500\n",
      "\u001b[1m163/163\u001b[0m \u001b[32m━━━━━━━━━━━━━━━━━━━━\u001b[0m\u001b[37m\u001b[0m \u001b[1m1s\u001b[0m 4ms/step - dense_2_loss: 0.5240 - dense_3_loss: 0.1974 - dense_4_loss: 0.0883 - loss: 0.8097\n",
      "Epoch 487/500\n",
      "\u001b[1m163/163\u001b[0m \u001b[32m━━━━━━━━━━━━━━━━━━━━\u001b[0m\u001b[37m\u001b[0m \u001b[1m1s\u001b[0m 4ms/step - dense_2_loss: 0.6352 - dense_3_loss: 0.2701 - dense_4_loss: 0.0822 - loss: 0.9876\n",
      "Epoch 488/500\n",
      "\u001b[1m163/163\u001b[0m \u001b[32m━━━━━━━━━━━━━━━━━━━━\u001b[0m\u001b[37m\u001b[0m \u001b[1m1s\u001b[0m 4ms/step - dense_2_loss: 0.5402 - dense_3_loss: 0.2227 - dense_4_loss: 0.0856 - loss: 0.8485\n",
      "Epoch 489/500\n",
      "\u001b[1m163/163\u001b[0m \u001b[32m━━━━━━━━━━━━━━━━━━━━\u001b[0m\u001b[37m\u001b[0m \u001b[1m1s\u001b[0m 4ms/step - dense_2_loss: 0.5832 - dense_3_loss: 0.2008 - dense_4_loss: 0.0871 - loss: 0.8711\n",
      "Epoch 490/500\n",
      "\u001b[1m163/163\u001b[0m \u001b[32m━━━━━━━━━━━━━━━━━━━━\u001b[0m\u001b[37m\u001b[0m \u001b[1m1s\u001b[0m 4ms/step - dense_2_loss: 0.4691 - dense_3_loss: 0.1915 - dense_4_loss: 0.0907 - loss: 0.7514\n",
      "Epoch 491/500\n",
      "\u001b[1m163/163\u001b[0m \u001b[32m━━━━━━━━━━━━━━━━━━━━\u001b[0m\u001b[37m\u001b[0m \u001b[1m1s\u001b[0m 4ms/step - dense_2_loss: 0.4735 - dense_3_loss: 0.1981 - dense_4_loss: 0.0872 - loss: 0.7589\n",
      "Epoch 492/500\n",
      "\u001b[1m163/163\u001b[0m \u001b[32m━━━━━━━━━━━━━━━━━━━━\u001b[0m\u001b[37m\u001b[0m \u001b[1m1s\u001b[0m 4ms/step - dense_2_loss: 0.4677 - dense_3_loss: 0.2004 - dense_4_loss: 0.0913 - loss: 0.7594\n",
      "Epoch 493/500\n",
      "\u001b[1m163/163\u001b[0m \u001b[32m━━━━━━━━━━━━━━━━━━━━\u001b[0m\u001b[37m\u001b[0m \u001b[1m1s\u001b[0m 4ms/step - dense_2_loss: 0.6763 - dense_3_loss: 0.2888 - dense_4_loss: 0.0804 - loss: 1.0456\n",
      "Epoch 494/500\n",
      "\u001b[1m163/163\u001b[0m \u001b[32m━━━━━━━━━━━━━━━━━━━━\u001b[0m\u001b[37m\u001b[0m \u001b[1m1s\u001b[0m 5ms/step - dense_2_loss: 0.5468 - dense_3_loss: 0.1842 - dense_4_loss: 0.0754 - loss: 0.8064\n",
      "Epoch 495/500\n",
      "\u001b[1m163/163\u001b[0m \u001b[32m━━━━━━━━━━━━━━━━━━━━\u001b[0m\u001b[37m\u001b[0m \u001b[1m1s\u001b[0m 4ms/step - dense_2_loss: 0.5169 - dense_3_loss: 0.2398 - dense_4_loss: 0.0888 - loss: 0.8455\n",
      "Epoch 496/500\n",
      "\u001b[1m163/163\u001b[0m \u001b[32m━━━━━━━━━━━━━━━━━━━━\u001b[0m\u001b[37m\u001b[0m \u001b[1m1s\u001b[0m 5ms/step - dense_2_loss: 0.5088 - dense_3_loss: 0.2448 - dense_4_loss: 0.0974 - loss: 0.8510\n",
      "Epoch 497/500\n",
      "\u001b[1m163/163\u001b[0m \u001b[32m━━━━━━━━━━━━━━━━━━━━\u001b[0m\u001b[37m\u001b[0m \u001b[1m1s\u001b[0m 4ms/step - dense_2_loss: 0.4865 - dense_3_loss: 0.1672 - dense_4_loss: 0.0752 - loss: 0.7289\n",
      "Epoch 498/500\n",
      "\u001b[1m163/163\u001b[0m \u001b[32m━━━━━━━━━━━━━━━━━━━━\u001b[0m\u001b[37m\u001b[0m \u001b[1m1s\u001b[0m 4ms/step - dense_2_loss: 0.3809 - dense_3_loss: 0.1795 - dense_4_loss: 0.0771 - loss: 0.6375\n",
      "Epoch 499/500\n",
      "\u001b[1m163/163\u001b[0m \u001b[32m━━━━━━━━━━━━━━━━━━━━\u001b[0m\u001b[37m\u001b[0m \u001b[1m1s\u001b[0m 4ms/step - dense_2_loss: 0.4892 - dense_3_loss: 0.2171 - dense_4_loss: 0.0846 - loss: 0.7909\n",
      "Epoch 500/500\n",
      "\u001b[1m163/163\u001b[0m \u001b[32m━━━━━━━━━━━━━━━━━━━━\u001b[0m\u001b[37m\u001b[0m \u001b[1m1s\u001b[0m 4ms/step - dense_2_loss: 0.5793 - dense_3_loss: 0.2565 - dense_4_loss: 0.0853 - loss: 0.9210\n"
     ]
    },
    {
     "data": {
      "text/plain": [
       "<keras.src.callbacks.history.History at 0x74f6f5380b00>"
      ]
     },
     "execution_count": 51,
     "metadata": {},
     "output_type": "execute_result"
    }
   ],
   "source": [
    "regressor.fit(X,[y_na,y_ue,y_jp],epochs=500,batch_size=100)"
   ]
  },
  {
   "cell_type": "code",
   "execution_count": 53,
   "id": "12137332-2e9d-4f84-b330-6fb8eba747ef",
   "metadata": {},
   "outputs": [
    {
     "name": "stdout",
     "output_type": "stream",
     "text": [
      "\u001b[1m510/510\u001b[0m \u001b[32m━━━━━━━━━━━━━━━━━━━━\u001b[0m\u001b[37m\u001b[0m \u001b[1m1s\u001b[0m 1ms/step\n"
     ]
    }
   ],
   "source": [
    "previsao_na, previsao_eu, previsao_jp = regressor.predict(X)"
   ]
  },
  {
   "cell_type": "code",
   "execution_count": 54,
   "id": "55e5738e-30c7-4ddb-a511-1cd50bfa7d61",
   "metadata": {},
   "outputs": [
    {
     "data": {
      "text/plain": [
       "array([[0.426366  ],\n",
       "       [0.59752333],\n",
       "       [0.46182445],\n",
       "       ...,\n",
       "       [0.21021514],\n",
       "       [0.04071105],\n",
       "       [0.07215017]], dtype=float32)"
      ]
     },
     "execution_count": 54,
     "metadata": {},
     "output_type": "execute_result"
    }
   ],
   "source": [
    "previsao_na, previsao_na.mean()"
   ]
  },
  {
   "cell_type": "code",
   "execution_count": 55,
   "id": "8b86f24a-7503-4dbd-b71e-6f993772b475",
   "metadata": {},
   "outputs": [
    {
     "data": {
      "text/plain": [
       "(array([4.149e+01, 2.908e+01, 1.585e+01, ..., 0.000e+00, 0.000e+00,\n",
       "        1.000e-02]),\n",
       " 0.26564667607881653)"
      ]
     },
     "execution_count": 55,
     "metadata": {},
     "output_type": "execute_result"
    }
   ],
   "source": [
    "y_na, y_na.mean()"
   ]
  },
  {
   "cell_type": "code",
   "execution_count": 56,
   "id": "2ff2ad17-ac39-4ca9-88a5-389300a9d9df",
   "metadata": {},
   "outputs": [],
   "source": [
    "from sklearn.metrics import mean_absolute_error"
   ]
  },
  {
   "cell_type": "code",
   "execution_count": 58,
   "id": "1e0125c1-b6f4-4d96-9ba0-dad9447adcc5",
   "metadata": {},
   "outputs": [
    {
     "data": {
      "text/plain": [
       "0.22585294340549708"
      ]
     },
     "execution_count": 58,
     "metadata": {},
     "output_type": "execute_result"
    }
   ],
   "source": [
    "mean_absolute_error(y_na,previsao_na)"
   ]
  },
  {
   "cell_type": "code",
   "execution_count": 59,
   "id": "80c6a1b6-732a-44c8-85d9-8cc4e04e2c26",
   "metadata": {},
   "outputs": [
    {
     "data": {
      "text/plain": [
       "(array([[0.2362842 ],\n",
       "        [0.33107626],\n",
       "        [0.25574955],\n",
       "        ...,\n",
       "        [0.12157764],\n",
       "        [0.03153801],\n",
       "        [0.04823831]], dtype=float32),\n",
       " 0.06887)"
      ]
     },
     "execution_count": 59,
     "metadata": {},
     "output_type": "execute_result"
    }
   ],
   "source": [
    "previsao_eu, previsao_eu.mean()"
   ]
  },
  {
   "cell_type": "code",
   "execution_count": 60,
   "id": "f4cbb386-5626-4e7b-bab5-ce3bf1bffe53",
   "metadata": {},
   "outputs": [
    {
     "data": {
      "text/plain": [
       "(array([2.902e+01, 3.580e+00, 1.288e+01, ..., 0.000e+00, 1.000e-02,\n",
       "        0.000e+00]),\n",
       " 0.14773126266036463)"
      ]
     },
     "execution_count": 60,
     "metadata": {},
     "output_type": "execute_result"
    }
   ],
   "source": [
    "y_ue, y_ue.mean()"
   ]
  },
  {
   "cell_type": "code",
   "execution_count": 61,
   "id": "f8940314-fcc1-449e-b79a-d920f553d700",
   "metadata": {},
   "outputs": [
    {
     "data": {
      "text/plain": [
       "0.14173675864347696"
      ]
     },
     "execution_count": 61,
     "metadata": {},
     "output_type": "execute_result"
    }
   ],
   "source": [
    "mean_absolute_error(y_ue,previsao_eu)"
   ]
  },
  {
   "cell_type": "code",
   "execution_count": 62,
   "id": "8f0e4bb3-cc4d-4b2c-8ba9-5d7e1ea2afc7",
   "metadata": {},
   "outputs": [
    {
     "data": {
      "text/plain": [
       "(array([[0.00492217],\n",
       "        [0.05297192],\n",
       "        [0.01117447],\n",
       "        ...,\n",
       "        [0.04957362],\n",
       "        [0.08060856],\n",
       "        [0.07485228]], dtype=float32),\n",
       " 0.06797831)"
      ]
     },
     "execution_count": 62,
     "metadata": {},
     "output_type": "execute_result"
    }
   ],
   "source": [
    "previsao_jp, previsao_jp.mean()"
   ]
  },
  {
   "cell_type": "code",
   "execution_count": 63,
   "id": "4c8c3419-50c4-43e6-89cb-aba6314da307",
   "metadata": {},
   "outputs": [
    {
     "data": {
      "text/plain": [
       "(array([3.77, 6.81, 3.79, ..., 0.  , 0.  , 0.  ]), 0.0788330980295869)"
      ]
     },
     "execution_count": 63,
     "metadata": {},
     "output_type": "execute_result"
    }
   ],
   "source": [
    "y_jp, y_jp.mean()"
   ]
  },
  {
   "cell_type": "code",
   "execution_count": 64,
   "id": "b36b4035-23ca-4ba1-b89f-680a925eff57",
   "metadata": {},
   "outputs": [
    {
     "data": {
      "text/plain": [
       "0.11044297579737652"
      ]
     },
     "execution_count": 64,
     "metadata": {},
     "output_type": "execute_result"
    }
   ],
   "source": [
    "mean_absolute_error(y_jp,previsao_jp)"
   ]
  }
 ],
 "metadata": {
  "kernelspec": {
   "display_name": "Python 3 (ipykernel)",
   "language": "python",
   "name": "python3"
  },
  "language_info": {
   "codemirror_mode": {
    "name": "ipython",
    "version": 3
   },
   "file_extension": ".py",
   "mimetype": "text/x-python",
   "name": "python",
   "nbconvert_exporter": "python",
   "pygments_lexer": "ipython3",
   "version": "3.12.2"
  }
 },
 "nbformat": 4,
 "nbformat_minor": 5
}
