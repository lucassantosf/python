{
 "cells": [
  {
   "cell_type": "markdown",
   "id": "20260448-035d-48fc-9885-9a193618997a",
   "metadata": {},
   "source": [
    "# Regressão Multiplas Saídas - Base Video Game\n",
    "\n",
    "Base de dados: https://www.kaggle.com/datasets/gregorut/videogamesales"
   ]
  },
  {
   "cell_type": "markdown",
   "id": "fca8a6f8-6934-4ec5-a5e0-69e6712ecd8b",
   "metadata": {},
   "source": [
    "## Importando bibliotecas"
   ]
  },
  {
   "cell_type": "code",
   "execution_count": 1,
   "id": "05620c33-b825-40f8-a826-37bf3247e69e",
   "metadata": {},
   "outputs": [],
   "source": [
    "!pip install -q tensorflow==2.16.1"
   ]
  },
  {
   "cell_type": "code",
   "execution_count": 2,
   "id": "b2ff8c43-140b-4a57-b058-1323ad05abb4",
   "metadata": {},
   "outputs": [],
   "source": [
    "# Importacao desta lib para desativar erro no TensorFlow\n",
    "import os\n",
    "os.environ[\"CUDA_VISIBLE_DEVICES\"] = \"-1\""
   ]
  },
  {
   "cell_type": "code",
   "execution_count": 3,
   "id": "f13e12a2-c92a-4c55-b220-2f810959c9be",
   "metadata": {},
   "outputs": [
    {
     "name": "stderr",
     "output_type": "stream",
     "text": [
      "2025-01-09 17:18:57.222084: I external/local_tsl/tsl/cuda/cudart_stub.cc:32] Could not find cuda drivers on your machine, GPU will not be used.\n",
      "2025-01-09 17:18:57.468613: I external/local_tsl/tsl/cuda/cudart_stub.cc:32] Could not find cuda drivers on your machine, GPU will not be used.\n",
      "2025-01-09 17:18:58.232774: I tensorflow/core/platform/cpu_feature_guard.cc:210] This TensorFlow binary is optimized to use available CPU instructions in performance-critical operations.\n",
      "To enable the following instructions: AVX2 FMA, in other operations, rebuild TensorFlow with the appropriate compiler flags.\n",
      "2025-01-09 17:19:00.504619: W tensorflow/compiler/tf2tensorrt/utils/py_utils.cc:38] TF-TRT Warning: Could not find TensorRT\n"
     ]
    }
   ],
   "source": [
    "import pandas as pd\n",
    "import tensorflow as tf\n",
    "import sklearn"
   ]
  },
  {
   "cell_type": "code",
   "execution_count": 4,
   "id": "38bc9b0d-ee01-4915-a83d-d68dfa01300b",
   "metadata": {},
   "outputs": [
    {
     "data": {
      "text/plain": [
       "('2.2.2', '2.16.1', '1.4.2')"
      ]
     },
     "execution_count": 4,
     "metadata": {},
     "output_type": "execute_result"
    }
   ],
   "source": [
    "pd.__version__,tf.__version__,sklearn.__version__"
   ]
  },
  {
   "cell_type": "code",
   "execution_count": 5,
   "id": "88690180-2231-48e3-8f16-5762141a8ffc",
   "metadata": {},
   "outputs": [],
   "source": [
    "from tensorflow.keras.models import Model\n",
    "from tensorflow.keras.layers import Dense, Dropout, Activation, Input\n",
    "from sklearn.preprocessing import OneHotEncoder\n",
    "from sklearn.compose import ColumnTransformer"
   ]
  },
  {
   "cell_type": "markdown",
   "id": "790a0dc6-d7e3-48cb-a101-eff6c08144cd",
   "metadata": {},
   "source": [
    "## Importando base de dados"
   ]
  },
  {
   "cell_type": "code",
   "execution_count": 6,
   "id": "38145284-60fd-474a-a4d8-e2759240ee60",
   "metadata": {},
   "outputs": [
    {
     "data": {
      "text/html": [
       "<div>\n",
       "<style scoped>\n",
       "    .dataframe tbody tr th:only-of-type {\n",
       "        vertical-align: middle;\n",
       "    }\n",
       "\n",
       "    .dataframe tbody tr th {\n",
       "        vertical-align: top;\n",
       "    }\n",
       "\n",
       "    .dataframe thead th {\n",
       "        text-align: right;\n",
       "    }\n",
       "</style>\n",
       "<table border=\"1\" class=\"dataframe\">\n",
       "  <thead>\n",
       "    <tr style=\"text-align: right;\">\n",
       "      <th></th>\n",
       "      <th>Rank</th>\n",
       "      <th>Name</th>\n",
       "      <th>Platform</th>\n",
       "      <th>Year</th>\n",
       "      <th>Genre</th>\n",
       "      <th>Publisher</th>\n",
       "      <th>NA_Sales</th>\n",
       "      <th>EU_Sales</th>\n",
       "      <th>JP_Sales</th>\n",
       "      <th>Other_Sales</th>\n",
       "      <th>Global_Sales</th>\n",
       "    </tr>\n",
       "  </thead>\n",
       "  <tbody>\n",
       "    <tr>\n",
       "      <th>0</th>\n",
       "      <td>1</td>\n",
       "      <td>Wii Sports</td>\n",
       "      <td>Wii</td>\n",
       "      <td>2006.0</td>\n",
       "      <td>Sports</td>\n",
       "      <td>Nintendo</td>\n",
       "      <td>41.49</td>\n",
       "      <td>29.02</td>\n",
       "      <td>3.77</td>\n",
       "      <td>8.46</td>\n",
       "      <td>82.74</td>\n",
       "    </tr>\n",
       "    <tr>\n",
       "      <th>1</th>\n",
       "      <td>2</td>\n",
       "      <td>Super Mario Bros.</td>\n",
       "      <td>NES</td>\n",
       "      <td>1985.0</td>\n",
       "      <td>Platform</td>\n",
       "      <td>Nintendo</td>\n",
       "      <td>29.08</td>\n",
       "      <td>3.58</td>\n",
       "      <td>6.81</td>\n",
       "      <td>0.77</td>\n",
       "      <td>40.24</td>\n",
       "    </tr>\n",
       "    <tr>\n",
       "      <th>2</th>\n",
       "      <td>3</td>\n",
       "      <td>Mario Kart Wii</td>\n",
       "      <td>Wii</td>\n",
       "      <td>2008.0</td>\n",
       "      <td>Racing</td>\n",
       "      <td>Nintendo</td>\n",
       "      <td>15.85</td>\n",
       "      <td>12.88</td>\n",
       "      <td>3.79</td>\n",
       "      <td>3.31</td>\n",
       "      <td>35.82</td>\n",
       "    </tr>\n",
       "    <tr>\n",
       "      <th>3</th>\n",
       "      <td>4</td>\n",
       "      <td>Wii Sports Resort</td>\n",
       "      <td>Wii</td>\n",
       "      <td>2009.0</td>\n",
       "      <td>Sports</td>\n",
       "      <td>Nintendo</td>\n",
       "      <td>15.75</td>\n",
       "      <td>11.01</td>\n",
       "      <td>3.28</td>\n",
       "      <td>2.96</td>\n",
       "      <td>33.00</td>\n",
       "    </tr>\n",
       "    <tr>\n",
       "      <th>4</th>\n",
       "      <td>5</td>\n",
       "      <td>Pokemon Red/Pokemon Blue</td>\n",
       "      <td>GB</td>\n",
       "      <td>1996.0</td>\n",
       "      <td>Role-Playing</td>\n",
       "      <td>Nintendo</td>\n",
       "      <td>11.27</td>\n",
       "      <td>8.89</td>\n",
       "      <td>10.22</td>\n",
       "      <td>1.00</td>\n",
       "      <td>31.37</td>\n",
       "    </tr>\n",
       "    <tr>\n",
       "      <th>...</th>\n",
       "      <td>...</td>\n",
       "      <td>...</td>\n",
       "      <td>...</td>\n",
       "      <td>...</td>\n",
       "      <td>...</td>\n",
       "      <td>...</td>\n",
       "      <td>...</td>\n",
       "      <td>...</td>\n",
       "      <td>...</td>\n",
       "      <td>...</td>\n",
       "      <td>...</td>\n",
       "    </tr>\n",
       "    <tr>\n",
       "      <th>16593</th>\n",
       "      <td>16596</td>\n",
       "      <td>Woody Woodpecker in Crazy Castle 5</td>\n",
       "      <td>GBA</td>\n",
       "      <td>2002.0</td>\n",
       "      <td>Platform</td>\n",
       "      <td>Kemco</td>\n",
       "      <td>0.01</td>\n",
       "      <td>0.00</td>\n",
       "      <td>0.00</td>\n",
       "      <td>0.00</td>\n",
       "      <td>0.01</td>\n",
       "    </tr>\n",
       "    <tr>\n",
       "      <th>16594</th>\n",
       "      <td>16597</td>\n",
       "      <td>Men in Black II: Alien Escape</td>\n",
       "      <td>GC</td>\n",
       "      <td>2003.0</td>\n",
       "      <td>Shooter</td>\n",
       "      <td>Infogrames</td>\n",
       "      <td>0.01</td>\n",
       "      <td>0.00</td>\n",
       "      <td>0.00</td>\n",
       "      <td>0.00</td>\n",
       "      <td>0.01</td>\n",
       "    </tr>\n",
       "    <tr>\n",
       "      <th>16595</th>\n",
       "      <td>16598</td>\n",
       "      <td>SCORE International Baja 1000: The Official Game</td>\n",
       "      <td>PS2</td>\n",
       "      <td>2008.0</td>\n",
       "      <td>Racing</td>\n",
       "      <td>Activision</td>\n",
       "      <td>0.00</td>\n",
       "      <td>0.00</td>\n",
       "      <td>0.00</td>\n",
       "      <td>0.00</td>\n",
       "      <td>0.01</td>\n",
       "    </tr>\n",
       "    <tr>\n",
       "      <th>16596</th>\n",
       "      <td>16599</td>\n",
       "      <td>Know How 2</td>\n",
       "      <td>DS</td>\n",
       "      <td>2010.0</td>\n",
       "      <td>Puzzle</td>\n",
       "      <td>7G//AMES</td>\n",
       "      <td>0.00</td>\n",
       "      <td>0.01</td>\n",
       "      <td>0.00</td>\n",
       "      <td>0.00</td>\n",
       "      <td>0.01</td>\n",
       "    </tr>\n",
       "    <tr>\n",
       "      <th>16597</th>\n",
       "      <td>16600</td>\n",
       "      <td>Spirits &amp; Spells</td>\n",
       "      <td>GBA</td>\n",
       "      <td>2003.0</td>\n",
       "      <td>Platform</td>\n",
       "      <td>Wanadoo</td>\n",
       "      <td>0.01</td>\n",
       "      <td>0.00</td>\n",
       "      <td>0.00</td>\n",
       "      <td>0.00</td>\n",
       "      <td>0.01</td>\n",
       "    </tr>\n",
       "  </tbody>\n",
       "</table>\n",
       "<p>16598 rows × 11 columns</p>\n",
       "</div>"
      ],
      "text/plain": [
       "        Rank                                              Name Platform  \\\n",
       "0          1                                        Wii Sports      Wii   \n",
       "1          2                                 Super Mario Bros.      NES   \n",
       "2          3                                    Mario Kart Wii      Wii   \n",
       "3          4                                 Wii Sports Resort      Wii   \n",
       "4          5                          Pokemon Red/Pokemon Blue       GB   \n",
       "...      ...                                               ...      ...   \n",
       "16593  16596                Woody Woodpecker in Crazy Castle 5      GBA   \n",
       "16594  16597                     Men in Black II: Alien Escape       GC   \n",
       "16595  16598  SCORE International Baja 1000: The Official Game      PS2   \n",
       "16596  16599                                        Know How 2       DS   \n",
       "16597  16600                                  Spirits & Spells      GBA   \n",
       "\n",
       "         Year         Genre   Publisher  NA_Sales  EU_Sales  JP_Sales  \\\n",
       "0      2006.0        Sports    Nintendo     41.49     29.02      3.77   \n",
       "1      1985.0      Platform    Nintendo     29.08      3.58      6.81   \n",
       "2      2008.0        Racing    Nintendo     15.85     12.88      3.79   \n",
       "3      2009.0        Sports    Nintendo     15.75     11.01      3.28   \n",
       "4      1996.0  Role-Playing    Nintendo     11.27      8.89     10.22   \n",
       "...       ...           ...         ...       ...       ...       ...   \n",
       "16593  2002.0      Platform       Kemco      0.01      0.00      0.00   \n",
       "16594  2003.0       Shooter  Infogrames      0.01      0.00      0.00   \n",
       "16595  2008.0        Racing  Activision      0.00      0.00      0.00   \n",
       "16596  2010.0        Puzzle    7G//AMES      0.00      0.01      0.00   \n",
       "16597  2003.0      Platform     Wanadoo      0.01      0.00      0.00   \n",
       "\n",
       "       Other_Sales  Global_Sales  \n",
       "0             8.46         82.74  \n",
       "1             0.77         40.24  \n",
       "2             3.31         35.82  \n",
       "3             2.96         33.00  \n",
       "4             1.00         31.37  \n",
       "...            ...           ...  \n",
       "16593         0.00          0.01  \n",
       "16594         0.00          0.01  \n",
       "16595         0.00          0.01  \n",
       "16596         0.00          0.01  \n",
       "16597         0.00          0.01  \n",
       "\n",
       "[16598 rows x 11 columns]"
      ]
     },
     "execution_count": 6,
     "metadata": {},
     "output_type": "execute_result"
    }
   ],
   "source": [
    "base = pd.read_csv('games.csv')\n",
    "base"
   ]
  },
  {
   "cell_type": "markdown",
   "id": "7daaa4b3-51c1-4d40-ba83-781ab7ca63c9",
   "metadata": {},
   "source": [
    "## Pre-processamento da base de dados"
   ]
  },
  {
   "cell_type": "markdown",
   "id": "530ffad3-0b63-4cf6-943a-7b84e8670eae",
   "metadata": {},
   "source": [
    "### Apagando dados irrelevantes"
   ]
  },
  {
   "cell_type": "code",
   "execution_count": 7,
   "id": "996301b0-26cf-4aed-abce-f4a85b776866",
   "metadata": {
    "scrolled": true
   },
   "outputs": [],
   "source": [
    "base = base.drop('Rank',axis=1)\n",
    "base = base.drop('Other_Sales',axis=1)\n",
    "base = base.drop('Global_Sales',axis=1)"
   ]
  },
  {
   "cell_type": "code",
   "execution_count": 8,
   "id": "9d47d89f-daf5-42f4-b04a-e6d620fdc5e5",
   "metadata": {},
   "outputs": [
    {
     "data": {
      "text/plain": [
       "(16598, 8)"
      ]
     },
     "execution_count": 8,
     "metadata": {},
     "output_type": "execute_result"
    }
   ],
   "source": [
    "base.shape"
   ]
  },
  {
   "cell_type": "markdown",
   "id": "f600df5b-9b2b-4a7f-ba6c-65788e14e68d",
   "metadata": {},
   "source": [
    "### Verificar se tem dados nulos"
   ]
  },
  {
   "cell_type": "markdown",
   "id": "723b1f09-0515-43d2-a840-f1992c413182",
   "metadata": {},
   "source": [
    "base.isnull().sum()"
   ]
  },
  {
   "cell_type": "markdown",
   "id": "94cef9c1-d808-4458-b6a9-2ec84b2c5514",
   "metadata": {},
   "source": [
    "Neste caso, como é uma base de teste, podemos deletar as colunas nulas, porém em um projeto real deveria-se entender o motivo disto e corrigir"
   ]
  },
  {
   "cell_type": "code",
   "execution_count": 9,
   "id": "2d1cfa9c-aaa5-4228-912d-0337c8bc6fcf",
   "metadata": {},
   "outputs": [],
   "source": [
    "base = base.dropna(axis=0)"
   ]
  },
  {
   "cell_type": "code",
   "execution_count": 10,
   "id": "c7718f55-cffa-4b9d-8322-58df97c6bc1a",
   "metadata": {},
   "outputs": [
    {
     "data": {
      "text/plain": [
       "(16291, 8)"
      ]
     },
     "execution_count": 10,
     "metadata": {},
     "output_type": "execute_result"
    }
   ],
   "source": [
    "base.shape"
   ]
  },
  {
   "cell_type": "code",
   "execution_count": 12,
   "id": "74510790-bd6c-4e83-a74d-fd48e11769bf",
   "metadata": {},
   "outputs": [
    {
     "data": {
      "text/plain": [
       "Name         0\n",
       "Platform     0\n",
       "Year         0\n",
       "Genre        0\n",
       "Publisher    0\n",
       "NA_Sales     0\n",
       "EU_Sales     0\n",
       "JP_Sales     0\n",
       "dtype: int64"
      ]
     },
     "execution_count": 12,
     "metadata": {},
     "output_type": "execute_result"
    }
   ],
   "source": [
    "base.isnull().sum()"
   ]
  },
  {
   "cell_type": "markdown",
   "id": "72478035-44de-4c0c-a39c-c16fd4c9f8d2",
   "metadata": {},
   "source": [
    "### Verificar a repeticao do campo de name"
   ]
  },
  {
   "cell_type": "code",
   "execution_count": 13,
   "id": "c9ab0d83-979b-4f83-ad1f-2cb9705fdcfe",
   "metadata": {},
   "outputs": [
    {
     "data": {
      "text/plain": [
       "Name\n",
       "Need for Speed: Most Wanted    12\n",
       "FIFA 14                         9\n",
       "Ratatouille                     9\n",
       "LEGO Marvel Super Heroes        9\n",
       "Cars                            8\n",
       "                               ..\n",
       "PGA Tour 96                     1\n",
       "Game & Wario                    1\n",
       "Angry Birds                     1\n",
       "Shadow Hearts: Covenant         1\n",
       "Know How 2                      1\n",
       "Name: count, Length: 11325, dtype: int64"
      ]
     },
     "execution_count": 13,
     "metadata": {},
     "output_type": "execute_result"
    }
   ],
   "source": [
    "base['Name'].value_counts()"
   ]
  },
  {
   "cell_type": "markdown",
   "id": "980596a5-ede5-49bd-bd76-0487c9a45422",
   "metadata": {},
   "source": [
    "Baseado na quantidade de nomes, e do total de registros, o campo de name não é relevante para a Rede Neural aprender algo com ele, por conta disto pode-se deletar esta coluna"
   ]
  },
  {
   "cell_type": "code",
   "execution_count": 14,
   "id": "3446e5ea-d0fb-444d-89ce-0e9bd65bc22b",
   "metadata": {},
   "outputs": [],
   "source": [
    "base = base.drop('Name',axis=1)"
   ]
  },
  {
   "cell_type": "code",
   "execution_count": 15,
   "id": "060e368b-d2b2-464c-ab6a-f3da69d29da8",
   "metadata": {},
   "outputs": [
    {
     "data": {
      "text/plain": [
       "(16291, 7)"
      ]
     },
     "execution_count": 15,
     "metadata": {},
     "output_type": "execute_result"
    }
   ],
   "source": [
    "base.shape"
   ]
  },
  {
   "cell_type": "code",
   "execution_count": 16,
   "id": "be4707f7-a206-4019-a705-673b4871649c",
   "metadata": {},
   "outputs": [
    {
     "data": {
      "text/html": [
       "<div>\n",
       "<style scoped>\n",
       "    .dataframe tbody tr th:only-of-type {\n",
       "        vertical-align: middle;\n",
       "    }\n",
       "\n",
       "    .dataframe tbody tr th {\n",
       "        vertical-align: top;\n",
       "    }\n",
       "\n",
       "    .dataframe thead th {\n",
       "        text-align: right;\n",
       "    }\n",
       "</style>\n",
       "<table border=\"1\" class=\"dataframe\">\n",
       "  <thead>\n",
       "    <tr style=\"text-align: right;\">\n",
       "      <th></th>\n",
       "      <th>Platform</th>\n",
       "      <th>Year</th>\n",
       "      <th>Genre</th>\n",
       "      <th>Publisher</th>\n",
       "      <th>NA_Sales</th>\n",
       "      <th>EU_Sales</th>\n",
       "      <th>JP_Sales</th>\n",
       "    </tr>\n",
       "  </thead>\n",
       "  <tbody>\n",
       "    <tr>\n",
       "      <th>0</th>\n",
       "      <td>Wii</td>\n",
       "      <td>2006.0</td>\n",
       "      <td>Sports</td>\n",
       "      <td>Nintendo</td>\n",
       "      <td>41.49</td>\n",
       "      <td>29.02</td>\n",
       "      <td>3.77</td>\n",
       "    </tr>\n",
       "    <tr>\n",
       "      <th>1</th>\n",
       "      <td>NES</td>\n",
       "      <td>1985.0</td>\n",
       "      <td>Platform</td>\n",
       "      <td>Nintendo</td>\n",
       "      <td>29.08</td>\n",
       "      <td>3.58</td>\n",
       "      <td>6.81</td>\n",
       "    </tr>\n",
       "    <tr>\n",
       "      <th>2</th>\n",
       "      <td>Wii</td>\n",
       "      <td>2008.0</td>\n",
       "      <td>Racing</td>\n",
       "      <td>Nintendo</td>\n",
       "      <td>15.85</td>\n",
       "      <td>12.88</td>\n",
       "      <td>3.79</td>\n",
       "    </tr>\n",
       "    <tr>\n",
       "      <th>3</th>\n",
       "      <td>Wii</td>\n",
       "      <td>2009.0</td>\n",
       "      <td>Sports</td>\n",
       "      <td>Nintendo</td>\n",
       "      <td>15.75</td>\n",
       "      <td>11.01</td>\n",
       "      <td>3.28</td>\n",
       "    </tr>\n",
       "    <tr>\n",
       "      <th>4</th>\n",
       "      <td>GB</td>\n",
       "      <td>1996.0</td>\n",
       "      <td>Role-Playing</td>\n",
       "      <td>Nintendo</td>\n",
       "      <td>11.27</td>\n",
       "      <td>8.89</td>\n",
       "      <td>10.22</td>\n",
       "    </tr>\n",
       "  </tbody>\n",
       "</table>\n",
       "</div>"
      ],
      "text/plain": [
       "  Platform    Year         Genre Publisher  NA_Sales  EU_Sales  JP_Sales\n",
       "0      Wii  2006.0        Sports  Nintendo     41.49     29.02      3.77\n",
       "1      NES  1985.0      Platform  Nintendo     29.08      3.58      6.81\n",
       "2      Wii  2008.0        Racing  Nintendo     15.85     12.88      3.79\n",
       "3      Wii  2009.0        Sports  Nintendo     15.75     11.01      3.28\n",
       "4       GB  1996.0  Role-Playing  Nintendo     11.27      8.89     10.22"
      ]
     },
     "execution_count": 16,
     "metadata": {},
     "output_type": "execute_result"
    }
   ],
   "source": [
    "base.head(5)"
   ]
  },
  {
   "cell_type": "markdown",
   "id": "dad81d37-10ed-4d46-b34a-8f7cd44fc712",
   "metadata": {},
   "source": [
    "### Divisão de previsores e alvo"
   ]
  },
  {
   "cell_type": "code",
   "execution_count": 17,
   "id": "bd27c267-f5c7-4366-a46e-0468e45c6cda",
   "metadata": {},
   "outputs": [
    {
     "data": {
      "text/plain": [
       "Index(['Platform', 'Year', 'Genre', 'Publisher', 'NA_Sales', 'EU_Sales',\n",
       "       'JP_Sales'],\n",
       "      dtype='object')"
      ]
     },
     "execution_count": 17,
     "metadata": {},
     "output_type": "execute_result"
    }
   ],
   "source": [
    "base.columns"
   ]
  },
  {
   "cell_type": "code",
   "execution_count": 18,
   "id": "0772e0c4-c0f9-45a7-9481-92ac3bfe3105",
   "metadata": {},
   "outputs": [
    {
     "data": {
      "text/plain": [
       "array([['Wii', 2006.0, 'Sports', 'Nintendo'],\n",
       "       ['NES', 1985.0, 'Platform', 'Nintendo'],\n",
       "       ['Wii', 2008.0, 'Racing', 'Nintendo'],\n",
       "       ...,\n",
       "       ['PS2', 2008.0, 'Racing', 'Activision'],\n",
       "       ['DS', 2010.0, 'Puzzle', '7G//AMES'],\n",
       "       ['GBA', 2003.0, 'Platform', 'Wanadoo']], dtype=object)"
      ]
     },
     "execution_count": 18,
     "metadata": {},
     "output_type": "execute_result"
    }
   ],
   "source": [
    "X = base.iloc[:,[0,1,2,3]].values\n",
    "X"
   ]
  },
  {
   "cell_type": "code",
   "execution_count": 23,
   "id": "ee170cc4-40a9-4cb0-b2a6-d96126321338",
   "metadata": {},
   "outputs": [],
   "source": [
    "## Alvos baseados em cada região\n",
    "y_na = base.iloc[:,4].values\n",
    "y_ue = base.iloc[:,5].values\n",
    "y_jp = base.iloc[:,6].values"
   ]
  },
  {
   "cell_type": "code",
   "execution_count": 24,
   "id": "3f7e1e18-769b-4973-8459-89b1c614fa68",
   "metadata": {},
   "outputs": [
    {
     "data": {
      "text/plain": [
       "array([4.149e+01, 2.908e+01, 1.585e+01, ..., 0.000e+00, 0.000e+00,\n",
       "       1.000e-02])"
      ]
     },
     "execution_count": 24,
     "metadata": {},
     "output_type": "execute_result"
    }
   ],
   "source": [
    "y_na"
   ]
  },
  {
   "cell_type": "code",
   "execution_count": 25,
   "id": "1198029b-af65-4ff1-b162-9bee1acb4316",
   "metadata": {},
   "outputs": [
    {
     "data": {
      "text/plain": [
       "array([2.902e+01, 3.580e+00, 1.288e+01, ..., 0.000e+00, 1.000e-02,\n",
       "       0.000e+00])"
      ]
     },
     "execution_count": 25,
     "metadata": {},
     "output_type": "execute_result"
    }
   ],
   "source": [
    "y_ue"
   ]
  },
  {
   "cell_type": "code",
   "execution_count": 26,
   "id": "e26d1bf7-861d-4226-969e-e1dabc92a4a3",
   "metadata": {},
   "outputs": [
    {
     "data": {
      "text/plain": [
       "array([3.77, 6.81, 3.79, ..., 0.  , 0.  , 0.  ])"
      ]
     },
     "execution_count": 26,
     "metadata": {},
     "output_type": "execute_result"
    }
   ],
   "source": [
    "y_jp"
   ]
  },
  {
   "cell_type": "markdown",
   "id": "5d8761c5-b31f-4051-91d3-8ce951c1f457",
   "metadata": {},
   "source": [
    "### Converter dados categóricos nominais em ordinais com OneHotEncoder"
   ]
  },
  {
   "cell_type": "code",
   "execution_count": 27,
   "id": "fdfe9b50-c1cb-4ce3-9dab-007e53a38d79",
   "metadata": {
    "scrolled": true
   },
   "outputs": [
    {
     "data": {
      "text/plain": [
       "Platform\n",
       "DS      2131\n",
       "PS2     2127\n",
       "PS3     1304\n",
       "Wii     1290\n",
       "X360    1234\n",
       "PSP     1197\n",
       "PS      1189\n",
       "PC       938\n",
       "XB       803\n",
       "GBA      786\n",
       "GC       542\n",
       "3DS      499\n",
       "PSV      410\n",
       "PS4      336\n",
       "N64      316\n",
       "SNES     239\n",
       "XOne     213\n",
       "SAT      173\n",
       "WiiU     143\n",
       "2600     116\n",
       "NES       98\n",
       "GB        97\n",
       "DC        52\n",
       "GEN       27\n",
       "NG        12\n",
       "SCD        6\n",
       "WS         6\n",
       "3DO        3\n",
       "TG16       2\n",
       "GG         1\n",
       "PCFX       1\n",
       "Name: count, dtype: int64"
      ]
     },
     "execution_count": 27,
     "metadata": {},
     "output_type": "execute_result"
    }
   ],
   "source": [
    "# PS2 1 0 0 0 0 ...\n",
    "# PS3 0 1 0 0 0 ...\n",
    "base['Platform'].value_counts()"
   ]
  },
  {
   "cell_type": "code",
   "execution_count": 28,
   "id": "e7065f1a-3897-4713-a68e-74f18edbf2de",
   "metadata": {},
   "outputs": [
    {
     "data": {
      "text/plain": [
       "Index(['Platform', 'Year', 'Genre', 'Publisher', 'NA_Sales', 'EU_Sales',\n",
       "       'JP_Sales'],\n",
       "      dtype='object')"
      ]
     },
     "execution_count": 28,
     "metadata": {},
     "output_type": "execute_result"
    }
   ],
   "source": [
    "base.columns"
   ]
  },
  {
   "cell_type": "code",
   "execution_count": 29,
   "id": "4496b96c-f471-450b-8bc7-c4607b6edca9",
   "metadata": {},
   "outputs": [],
   "source": [
    "onehotencoder = ColumnTransformer(transformers=[(\"OneHot\", OneHotEncoder(), [0,2,3])], remainder='passthrough')"
   ]
  },
  {
   "cell_type": "code",
   "execution_count": 30,
   "id": "a5112b71-b67e-49d1-88c8-f499fd5799dc",
   "metadata": {},
   "outputs": [
    {
     "data": {
      "text/plain": [
       "(16291, 620)"
      ]
     },
     "execution_count": 30,
     "metadata": {},
     "output_type": "execute_result"
    }
   ],
   "source": [
    "X = onehotencoder.fit_transform(X).toarray()\n",
    "X.shape"
   ]
  },
  {
   "cell_type": "code",
   "execution_count": 31,
   "id": "796f51b9-88b2-45ca-ae90-f87befdfc89a",
   "metadata": {
    "scrolled": true
   },
   "outputs": [
    {
     "data": {
      "text/plain": [
       "array([0.000e+00, 0.000e+00, 0.000e+00, 0.000e+00, 0.000e+00, 0.000e+00,\n",
       "       0.000e+00, 0.000e+00, 0.000e+00, 0.000e+00, 0.000e+00, 0.000e+00,\n",
       "       0.000e+00, 0.000e+00, 0.000e+00, 0.000e+00, 0.000e+00, 0.000e+00,\n",
       "       0.000e+00, 0.000e+00, 0.000e+00, 0.000e+00, 0.000e+00, 0.000e+00,\n",
       "       0.000e+00, 0.000e+00, 1.000e+00, 0.000e+00, 0.000e+00, 0.000e+00,\n",
       "       0.000e+00, 0.000e+00, 0.000e+00, 0.000e+00, 0.000e+00, 0.000e+00,\n",
       "       0.000e+00, 0.000e+00, 0.000e+00, 0.000e+00, 0.000e+00, 1.000e+00,\n",
       "       0.000e+00, 0.000e+00, 0.000e+00, 0.000e+00, 0.000e+00, 0.000e+00,\n",
       "       0.000e+00, 0.000e+00, 0.000e+00, 0.000e+00, 0.000e+00, 0.000e+00,\n",
       "       0.000e+00, 0.000e+00, 0.000e+00, 0.000e+00, 0.000e+00, 0.000e+00,\n",
       "       0.000e+00, 0.000e+00, 0.000e+00, 0.000e+00, 0.000e+00, 0.000e+00,\n",
       "       0.000e+00, 0.000e+00, 0.000e+00, 0.000e+00, 0.000e+00, 0.000e+00,\n",
       "       0.000e+00, 0.000e+00, 0.000e+00, 0.000e+00, 0.000e+00, 0.000e+00,\n",
       "       0.000e+00, 0.000e+00, 0.000e+00, 0.000e+00, 0.000e+00, 0.000e+00,\n",
       "       0.000e+00, 0.000e+00, 0.000e+00, 0.000e+00, 0.000e+00, 0.000e+00,\n",
       "       0.000e+00, 0.000e+00, 0.000e+00, 0.000e+00, 0.000e+00, 0.000e+00,\n",
       "       0.000e+00, 0.000e+00, 0.000e+00, 0.000e+00, 0.000e+00, 0.000e+00,\n",
       "       0.000e+00, 0.000e+00, 0.000e+00, 0.000e+00, 0.000e+00, 0.000e+00,\n",
       "       0.000e+00, 0.000e+00, 0.000e+00, 0.000e+00, 0.000e+00, 0.000e+00,\n",
       "       0.000e+00, 0.000e+00, 0.000e+00, 0.000e+00, 0.000e+00, 0.000e+00,\n",
       "       0.000e+00, 0.000e+00, 0.000e+00, 0.000e+00, 0.000e+00, 0.000e+00,\n",
       "       0.000e+00, 0.000e+00, 0.000e+00, 0.000e+00, 0.000e+00, 0.000e+00,\n",
       "       0.000e+00, 0.000e+00, 0.000e+00, 0.000e+00, 0.000e+00, 0.000e+00,\n",
       "       0.000e+00, 0.000e+00, 0.000e+00, 0.000e+00, 0.000e+00, 0.000e+00,\n",
       "       0.000e+00, 0.000e+00, 0.000e+00, 0.000e+00, 0.000e+00, 0.000e+00,\n",
       "       0.000e+00, 0.000e+00, 0.000e+00, 0.000e+00, 0.000e+00, 0.000e+00,\n",
       "       0.000e+00, 0.000e+00, 0.000e+00, 0.000e+00, 0.000e+00, 0.000e+00,\n",
       "       0.000e+00, 0.000e+00, 0.000e+00, 0.000e+00, 0.000e+00, 0.000e+00,\n",
       "       0.000e+00, 0.000e+00, 0.000e+00, 0.000e+00, 0.000e+00, 0.000e+00,\n",
       "       0.000e+00, 0.000e+00, 0.000e+00, 0.000e+00, 0.000e+00, 0.000e+00,\n",
       "       0.000e+00, 0.000e+00, 0.000e+00, 0.000e+00, 0.000e+00, 0.000e+00,\n",
       "       0.000e+00, 0.000e+00, 0.000e+00, 0.000e+00, 0.000e+00, 0.000e+00,\n",
       "       0.000e+00, 0.000e+00, 0.000e+00, 0.000e+00, 0.000e+00, 0.000e+00,\n",
       "       0.000e+00, 0.000e+00, 0.000e+00, 0.000e+00, 0.000e+00, 0.000e+00,\n",
       "       0.000e+00, 0.000e+00, 0.000e+00, 0.000e+00, 0.000e+00, 0.000e+00,\n",
       "       0.000e+00, 0.000e+00, 0.000e+00, 0.000e+00, 0.000e+00, 0.000e+00,\n",
       "       0.000e+00, 0.000e+00, 0.000e+00, 0.000e+00, 0.000e+00, 0.000e+00,\n",
       "       0.000e+00, 0.000e+00, 0.000e+00, 0.000e+00, 0.000e+00, 0.000e+00,\n",
       "       0.000e+00, 0.000e+00, 0.000e+00, 0.000e+00, 0.000e+00, 0.000e+00,\n",
       "       0.000e+00, 0.000e+00, 0.000e+00, 0.000e+00, 0.000e+00, 0.000e+00,\n",
       "       0.000e+00, 0.000e+00, 0.000e+00, 0.000e+00, 0.000e+00, 0.000e+00,\n",
       "       0.000e+00, 0.000e+00, 0.000e+00, 0.000e+00, 0.000e+00, 0.000e+00,\n",
       "       0.000e+00, 0.000e+00, 0.000e+00, 0.000e+00, 0.000e+00, 0.000e+00,\n",
       "       0.000e+00, 0.000e+00, 0.000e+00, 0.000e+00, 0.000e+00, 0.000e+00,\n",
       "       0.000e+00, 0.000e+00, 0.000e+00, 0.000e+00, 0.000e+00, 0.000e+00,\n",
       "       0.000e+00, 0.000e+00, 0.000e+00, 0.000e+00, 0.000e+00, 0.000e+00,\n",
       "       0.000e+00, 0.000e+00, 0.000e+00, 0.000e+00, 0.000e+00, 0.000e+00,\n",
       "       0.000e+00, 0.000e+00, 0.000e+00, 0.000e+00, 0.000e+00, 0.000e+00,\n",
       "       0.000e+00, 0.000e+00, 0.000e+00, 0.000e+00, 0.000e+00, 0.000e+00,\n",
       "       0.000e+00, 0.000e+00, 0.000e+00, 0.000e+00, 0.000e+00, 0.000e+00,\n",
       "       0.000e+00, 0.000e+00, 0.000e+00, 0.000e+00, 0.000e+00, 0.000e+00,\n",
       "       0.000e+00, 0.000e+00, 0.000e+00, 0.000e+00, 0.000e+00, 0.000e+00,\n",
       "       0.000e+00, 0.000e+00, 0.000e+00, 0.000e+00, 0.000e+00, 0.000e+00,\n",
       "       0.000e+00, 0.000e+00, 0.000e+00, 0.000e+00, 0.000e+00, 0.000e+00,\n",
       "       0.000e+00, 0.000e+00, 0.000e+00, 0.000e+00, 0.000e+00, 0.000e+00,\n",
       "       0.000e+00, 0.000e+00, 0.000e+00, 0.000e+00, 0.000e+00, 0.000e+00,\n",
       "       0.000e+00, 0.000e+00, 0.000e+00, 0.000e+00, 0.000e+00, 0.000e+00,\n",
       "       0.000e+00, 0.000e+00, 0.000e+00, 0.000e+00, 0.000e+00, 0.000e+00,\n",
       "       0.000e+00, 0.000e+00, 0.000e+00, 0.000e+00, 0.000e+00, 0.000e+00,\n",
       "       0.000e+00, 0.000e+00, 0.000e+00, 0.000e+00, 0.000e+00, 0.000e+00,\n",
       "       0.000e+00, 0.000e+00, 0.000e+00, 0.000e+00, 0.000e+00, 0.000e+00,\n",
       "       0.000e+00, 0.000e+00, 0.000e+00, 0.000e+00, 0.000e+00, 0.000e+00,\n",
       "       0.000e+00, 0.000e+00, 0.000e+00, 0.000e+00, 0.000e+00, 0.000e+00,\n",
       "       0.000e+00, 0.000e+00, 0.000e+00, 0.000e+00, 0.000e+00, 0.000e+00,\n",
       "       0.000e+00, 0.000e+00, 0.000e+00, 0.000e+00, 0.000e+00, 0.000e+00,\n",
       "       0.000e+00, 0.000e+00, 0.000e+00, 0.000e+00, 0.000e+00, 0.000e+00,\n",
       "       0.000e+00, 0.000e+00, 0.000e+00, 0.000e+00, 0.000e+00, 0.000e+00,\n",
       "       1.000e+00, 0.000e+00, 0.000e+00, 0.000e+00, 0.000e+00, 0.000e+00,\n",
       "       0.000e+00, 0.000e+00, 0.000e+00, 0.000e+00, 0.000e+00, 0.000e+00,\n",
       "       0.000e+00, 0.000e+00, 0.000e+00, 0.000e+00, 0.000e+00, 0.000e+00,\n",
       "       0.000e+00, 0.000e+00, 0.000e+00, 0.000e+00, 0.000e+00, 0.000e+00,\n",
       "       0.000e+00, 0.000e+00, 0.000e+00, 0.000e+00, 0.000e+00, 0.000e+00,\n",
       "       0.000e+00, 0.000e+00, 0.000e+00, 0.000e+00, 0.000e+00, 0.000e+00,\n",
       "       0.000e+00, 0.000e+00, 0.000e+00, 0.000e+00, 0.000e+00, 0.000e+00,\n",
       "       0.000e+00, 0.000e+00, 0.000e+00, 0.000e+00, 0.000e+00, 0.000e+00,\n",
       "       0.000e+00, 0.000e+00, 0.000e+00, 0.000e+00, 0.000e+00, 0.000e+00,\n",
       "       0.000e+00, 0.000e+00, 0.000e+00, 0.000e+00, 0.000e+00, 0.000e+00,\n",
       "       0.000e+00, 0.000e+00, 0.000e+00, 0.000e+00, 0.000e+00, 0.000e+00,\n",
       "       0.000e+00, 0.000e+00, 0.000e+00, 0.000e+00, 0.000e+00, 0.000e+00,\n",
       "       0.000e+00, 0.000e+00, 0.000e+00, 0.000e+00, 0.000e+00, 0.000e+00,\n",
       "       0.000e+00, 0.000e+00, 0.000e+00, 0.000e+00, 0.000e+00, 0.000e+00,\n",
       "       0.000e+00, 0.000e+00, 0.000e+00, 0.000e+00, 0.000e+00, 0.000e+00,\n",
       "       0.000e+00, 0.000e+00, 0.000e+00, 0.000e+00, 0.000e+00, 0.000e+00,\n",
       "       0.000e+00, 0.000e+00, 0.000e+00, 0.000e+00, 0.000e+00, 0.000e+00,\n",
       "       0.000e+00, 0.000e+00, 0.000e+00, 0.000e+00, 0.000e+00, 0.000e+00,\n",
       "       0.000e+00, 0.000e+00, 0.000e+00, 0.000e+00, 0.000e+00, 0.000e+00,\n",
       "       0.000e+00, 0.000e+00, 0.000e+00, 0.000e+00, 0.000e+00, 0.000e+00,\n",
       "       0.000e+00, 0.000e+00, 0.000e+00, 0.000e+00, 0.000e+00, 0.000e+00,\n",
       "       0.000e+00, 0.000e+00, 0.000e+00, 0.000e+00, 0.000e+00, 0.000e+00,\n",
       "       0.000e+00, 0.000e+00, 0.000e+00, 0.000e+00, 0.000e+00, 0.000e+00,\n",
       "       0.000e+00, 0.000e+00, 0.000e+00, 0.000e+00, 0.000e+00, 0.000e+00,\n",
       "       0.000e+00, 0.000e+00, 0.000e+00, 0.000e+00, 0.000e+00, 0.000e+00,\n",
       "       0.000e+00, 0.000e+00, 0.000e+00, 0.000e+00, 0.000e+00, 0.000e+00,\n",
       "       0.000e+00, 0.000e+00, 0.000e+00, 0.000e+00, 0.000e+00, 0.000e+00,\n",
       "       0.000e+00, 0.000e+00, 0.000e+00, 0.000e+00, 0.000e+00, 0.000e+00,\n",
       "       0.000e+00, 0.000e+00, 0.000e+00, 0.000e+00, 0.000e+00, 0.000e+00,\n",
       "       0.000e+00, 0.000e+00, 0.000e+00, 0.000e+00, 0.000e+00, 0.000e+00,\n",
       "       0.000e+00, 0.000e+00, 0.000e+00, 0.000e+00, 0.000e+00, 0.000e+00,\n",
       "       0.000e+00, 0.000e+00, 0.000e+00, 0.000e+00, 0.000e+00, 0.000e+00,\n",
       "       0.000e+00, 0.000e+00, 0.000e+00, 0.000e+00, 0.000e+00, 0.000e+00,\n",
       "       0.000e+00, 0.000e+00, 0.000e+00, 0.000e+00, 0.000e+00, 0.000e+00,\n",
       "       0.000e+00, 0.000e+00, 0.000e+00, 0.000e+00, 0.000e+00, 0.000e+00,\n",
       "       0.000e+00, 0.000e+00, 0.000e+00, 0.000e+00, 0.000e+00, 0.000e+00,\n",
       "       0.000e+00, 2.006e+03])"
      ]
     },
     "execution_count": 31,
     "metadata": {},
     "output_type": "execute_result"
    }
   ],
   "source": [
    "X[0]"
   ]
  },
  {
   "cell_type": "markdown",
   "id": "010d89fa-9f98-4e84-8a4d-a2617e298903",
   "metadata": {},
   "source": [
    "## Estrutura da Rede Neural"
   ]
  },
  {
   "cell_type": "code",
   "execution_count": 32,
   "id": "35329869-d553-46dd-8906-5b601e7e706f",
   "metadata": {},
   "outputs": [
    {
     "data": {
      "text/plain": [
       "311.5"
      ]
     },
     "execution_count": 32,
     "metadata": {},
     "output_type": "execute_result"
    }
   ],
   "source": [
    "## Calcular quantidade de neuronios camada oculta\n",
    "## somar neuronios de entrada + de saide e dividir por 2\n",
    "( 620 + 3 ) / 2"
   ]
  },
  {
   "cell_type": "code",
   "execution_count": 33,
   "id": "a625b955-e46d-4514-b38f-eea28fcbcb94",
   "metadata": {},
   "outputs": [],
   "source": [
    "## Aqui as camadas são conectas desta forma - Que é diferente do Sequential\n",
    "camada_entrada = Input(shape=(620,))\n",
    "camada_oculta1 = Dense(units = 312, activation='relu')(camada_entrada)\n",
    "camada_oculta2 = Dense(units = 312, activation='relu')(camada_oculta1)\n",
    "camada_saida1 = Dense(units = 1, activation='linear')(camada_oculta2)\n",
    "camada_saida2 = Dense(units = 1, activation='linear')(camada_oculta2)\n",
    "camada_saida3 = Dense(units = 1, activation='linear')(camada_oculta2)"
   ]
  },
  {
   "cell_type": "code",
   "execution_count": 34,
   "id": "c911a9bd-4ad9-4e7a-80b5-87a96a6b3f55",
   "metadata": {},
   "outputs": [],
   "source": [
    "regressor = Model(inputs = camada_entrada, outputs = [camada_saida1,camada_saida2,camada_saida3] )"
   ]
  },
  {
   "cell_type": "code",
   "execution_count": 35,
   "id": "ebbfb19f-ccc6-42f7-b971-426ad977bb5a",
   "metadata": {},
   "outputs": [],
   "source": [
    "regressor.compile(optimizer='adam',loss='mse')"
   ]
  },
  {
   "cell_type": "code",
   "execution_count": 36,
   "id": "adfb68d1-95fb-46a5-862a-f699fc69e5d6",
   "metadata": {
    "scrolled": true
   },
   "outputs": [
    {
     "name": "stdout",
     "output_type": "stream",
     "text": [
      "Epoch 1/500\n",
      "\u001b[1m163/163\u001b[0m \u001b[32m━━━━━━━━━━━━━━━━━━━━\u001b[0m\u001b[37m\u001b[0m \u001b[1m3s\u001b[0m 7ms/step - dense_2_loss: 907.9509 - dense_3_loss: 19.4139 - dense_4_loss: 313.3368 - loss: 1240.7037\n",
      "Epoch 2/500\n",
      "\u001b[1m163/163\u001b[0m \u001b[32m━━━━━━━━━━━━━━━━━━━━\u001b[0m\u001b[37m\u001b[0m \u001b[1m1s\u001b[0m 7ms/step - dense_2_loss: 0.6639 - dense_3_loss: 0.2473 - dense_4_loss: 0.1154 - loss: 1.0266\n",
      "Epoch 3/500\n",
      "\u001b[1m163/163\u001b[0m \u001b[32m━━━━━━━━━━━━━━━━━━━━\u001b[0m\u001b[37m\u001b[0m \u001b[1m1s\u001b[0m 7ms/step - dense_2_loss: 0.7508 - dense_3_loss: 0.5692 - dense_4_loss: 0.1903 - loss: 1.5102\n",
      "Epoch 4/500\n",
      "\u001b[1m163/163\u001b[0m \u001b[32m━━━━━━━━━━━━━━━━━━━━\u001b[0m\u001b[37m\u001b[0m \u001b[1m1s\u001b[0m 8ms/step - dense_2_loss: 0.9051 - dense_3_loss: 1.3864 - dense_4_loss: 0.4131 - loss: 2.7047\n",
      "Epoch 5/500\n",
      "\u001b[1m163/163\u001b[0m \u001b[32m━━━━━━━━━━━━━━━━━━━━\u001b[0m\u001b[37m\u001b[0m \u001b[1m1s\u001b[0m 8ms/step - dense_2_loss: 2.0445 - dense_3_loss: 3.1672 - dense_4_loss: 2.3821 - loss: 7.5938\n",
      "Epoch 6/500\n",
      "\u001b[1m163/163\u001b[0m \u001b[32m━━━━━━━━━━━━━━━━━━━━\u001b[0m\u001b[37m\u001b[0m \u001b[1m1s\u001b[0m 8ms/step - dense_2_loss: 1.8796 - dense_3_loss: 2.1079 - dense_4_loss: 2.0713 - loss: 6.0589\n",
      "Epoch 7/500\n",
      "\u001b[1m163/163\u001b[0m \u001b[32m━━━━━━━━━━━━━━━━━━━━\u001b[0m\u001b[37m\u001b[0m \u001b[1m3s\u001b[0m 8ms/step - dense_2_loss: 2.8485 - dense_3_loss: 2.1770 - dense_4_loss: 3.2087 - loss: 8.2342\n",
      "Epoch 8/500\n",
      "\u001b[1m163/163\u001b[0m \u001b[32m━━━━━━━━━━━━━━━━━━━━\u001b[0m\u001b[37m\u001b[0m \u001b[1m1s\u001b[0m 8ms/step - dense_2_loss: 3.0841 - dense_3_loss: 1.9919 - dense_4_loss: 3.3311 - loss: 8.4070\n",
      "Epoch 9/500\n",
      "\u001b[1m163/163\u001b[0m \u001b[32m━━━━━━━━━━━━━━━━━━━━\u001b[0m\u001b[37m\u001b[0m \u001b[1m1s\u001b[0m 8ms/step - dense_2_loss: 3.7920 - dense_3_loss: 4.6510 - dense_4_loss: 3.9949 - loss: 12.4379\n",
      "Epoch 10/500\n",
      "\u001b[1m163/163\u001b[0m \u001b[32m━━━━━━━━━━━━━━━━━━━━\u001b[0m\u001b[37m\u001b[0m \u001b[1m1s\u001b[0m 8ms/step - dense_2_loss: 0.7693 - dense_3_loss: 2.2569 - dense_4_loss: 0.5956 - loss: 3.6217\n",
      "Epoch 11/500\n",
      "\u001b[1m163/163\u001b[0m \u001b[32m━━━━━━━━━━━━━━━━━━━━\u001b[0m\u001b[37m\u001b[0m \u001b[1m3s\u001b[0m 8ms/step - dense_2_loss: 6.5156 - dense_3_loss: 4.4212 - dense_4_loss: 6.4696 - loss: 17.4066\n",
      "Epoch 12/500\n",
      "\u001b[1m163/163\u001b[0m \u001b[32m━━━━━━━━━━━━━━━━━━━━\u001b[0m\u001b[37m\u001b[0m \u001b[1m1s\u001b[0m 8ms/step - dense_2_loss: 0.5659 - dense_3_loss: 0.2858 - dense_4_loss: 0.1247 - loss: 0.9765\n",
      "Epoch 13/500\n",
      "\u001b[1m163/163\u001b[0m \u001b[32m━━━━━━━━━━━━━━━━━━━━\u001b[0m\u001b[37m\u001b[0m \u001b[1m1s\u001b[0m 7ms/step - dense_2_loss: 0.5772 - dense_3_loss: 0.3020 - dense_4_loss: 0.1860 - loss: 1.0651\n",
      "Epoch 14/500\n",
      "\u001b[1m163/163\u001b[0m \u001b[32m━━━━━━━━━━━━━━━━━━━━\u001b[0m\u001b[37m\u001b[0m \u001b[1m1s\u001b[0m 8ms/step - dense_2_loss: 1.1207 - dense_3_loss: 0.7360 - dense_4_loss: 0.4647 - loss: 2.3213\n",
      "Epoch 15/500\n",
      "\u001b[1m163/163\u001b[0m \u001b[32m━━━━━━━━━━━━━━━━━━━━\u001b[0m\u001b[37m\u001b[0m \u001b[1m1s\u001b[0m 7ms/step - dense_2_loss: 0.8469 - dense_3_loss: 0.5791 - dense_4_loss: 0.2491 - loss: 1.6751\n",
      "Epoch 16/500\n",
      "\u001b[1m163/163\u001b[0m \u001b[32m━━━━━━━━━━━━━━━━━━━━\u001b[0m\u001b[37m\u001b[0m \u001b[1m1s\u001b[0m 8ms/step - dense_2_loss: 2.7148 - dense_3_loss: 1.6657 - dense_4_loss: 1.8584 - loss: 6.2389\n",
      "Epoch 17/500\n",
      "\u001b[1m163/163\u001b[0m \u001b[32m━━━━━━━━━━━━━━━━━━━━\u001b[0m\u001b[37m\u001b[0m \u001b[1m1s\u001b[0m 9ms/step - dense_2_loss: 2.2476 - dense_3_loss: 2.3587 - dense_4_loss: 1.5135 - loss: 6.1198\n",
      "Epoch 18/500\n",
      "\u001b[1m163/163\u001b[0m \u001b[32m━━━━━━━━━━━━━━━━━━━━\u001b[0m\u001b[37m\u001b[0m \u001b[1m3s\u001b[0m 8ms/step - dense_2_loss: 7.6545 - dense_3_loss: 7.1383 - dense_4_loss: 6.7410 - loss: 21.5340\n",
      "Epoch 19/500\n",
      "\u001b[1m163/163\u001b[0m \u001b[32m━━━━━━━━━━━━━━━━━━━━\u001b[0m\u001b[37m\u001b[0m \u001b[1m1s\u001b[0m 8ms/step - dense_2_loss: 1.0048 - dense_3_loss: 0.4754 - dense_4_loss: 0.2998 - loss: 1.7800\n",
      "Epoch 20/500\n",
      "\u001b[1m163/163\u001b[0m \u001b[32m━━━━━━━━━━━━━━━━━━━━\u001b[0m\u001b[37m\u001b[0m \u001b[1m1s\u001b[0m 7ms/step - dense_2_loss: 1.3625 - dense_3_loss: 1.0694 - dense_4_loss: 0.5166 - loss: 2.9485\n",
      "Epoch 21/500\n",
      "\u001b[1m163/163\u001b[0m \u001b[32m━━━━━━━━━━━━━━━━━━━━\u001b[0m\u001b[37m\u001b[0m \u001b[1m1s\u001b[0m 8ms/step - dense_2_loss: 1.9571 - dense_3_loss: 0.6199 - dense_4_loss: 0.9443 - loss: 3.5213\n",
      "Epoch 22/500\n",
      "\u001b[1m163/163\u001b[0m \u001b[32m━━━━━━━━━━━━━━━━━━━━\u001b[0m\u001b[37m\u001b[0m \u001b[1m1s\u001b[0m 8ms/step - dense_2_loss: 3.3763 - dense_3_loss: 1.1506 - dense_4_loss: 1.9009 - loss: 6.4277\n",
      "Epoch 23/500\n",
      "\u001b[1m163/163\u001b[0m \u001b[32m━━━━━━━━━━━━━━━━━━━━\u001b[0m\u001b[37m\u001b[0m \u001b[1m1s\u001b[0m 8ms/step - dense_2_loss: 1.9179 - dense_3_loss: 0.8489 - dense_4_loss: 0.8689 - loss: 3.6357\n",
      "Epoch 24/500\n",
      "\u001b[1m163/163\u001b[0m \u001b[32m━━━━━━━━━━━━━━━━━━━━\u001b[0m\u001b[37m\u001b[0m \u001b[1m1s\u001b[0m 8ms/step - dense_2_loss: 2.0231 - dense_3_loss: 1.0304 - dense_4_loss: 1.1277 - loss: 4.1812\n",
      "Epoch 25/500\n",
      "\u001b[1m163/163\u001b[0m \u001b[32m━━━━━━━━━━━━━━━━━━━━\u001b[0m\u001b[37m\u001b[0m \u001b[1m1s\u001b[0m 9ms/step - dense_2_loss: 1.4873 - dense_3_loss: 1.1550 - dense_4_loss: 0.9191 - loss: 3.5614\n",
      "Epoch 26/500\n",
      "\u001b[1m163/163\u001b[0m \u001b[32m━━━━━━━━━━━━━━━━━━━━\u001b[0m\u001b[37m\u001b[0m \u001b[1m1s\u001b[0m 8ms/step - dense_2_loss: 1.5010 - dense_3_loss: 1.1214 - dense_4_loss: 1.4031 - loss: 4.0255\n",
      "Epoch 27/500\n",
      "\u001b[1m163/163\u001b[0m \u001b[32m━━━━━━━━━━━━━━━━━━━━\u001b[0m\u001b[37m\u001b[0m \u001b[1m3s\u001b[0m 9ms/step - dense_2_loss: 6.6172 - dense_3_loss: 12.8605 - dense_4_loss: 12.7377 - loss: 32.2156\n",
      "Epoch 28/500\n",
      "\u001b[1m163/163\u001b[0m \u001b[32m━━━━━━━━━━━━━━━━━━━━\u001b[0m\u001b[37m\u001b[0m \u001b[1m3s\u001b[0m 9ms/step - dense_2_loss: 0.6524 - dense_3_loss: 0.2580 - dense_4_loss: 0.0916 - loss: 1.0019\n",
      "Epoch 29/500\n",
      "\u001b[1m163/163\u001b[0m \u001b[32m━━━━━━━━━━━━━━━━━━━━\u001b[0m\u001b[37m\u001b[0m \u001b[1m1s\u001b[0m 8ms/step - dense_2_loss: 0.9219 - dense_3_loss: 0.4381 - dense_4_loss: 0.1541 - loss: 1.5142\n",
      "Epoch 30/500\n",
      "\u001b[1m163/163\u001b[0m \u001b[32m━━━━━━━━━━━━━━━━━━━━\u001b[0m\u001b[37m\u001b[0m \u001b[1m1s\u001b[0m 8ms/step - dense_2_loss: 0.8926 - dense_3_loss: 0.3909 - dense_4_loss: 0.1976 - loss: 1.4811\n",
      "Epoch 31/500\n",
      "\u001b[1m163/163\u001b[0m \u001b[32m━━━━━━━━━━━━━━━━━━━━\u001b[0m\u001b[37m\u001b[0m \u001b[1m1s\u001b[0m 8ms/step - dense_2_loss: 3.7205 - dense_3_loss: 2.2105 - dense_4_loss: 1.5067 - loss: 7.4379\n",
      "Epoch 32/500\n",
      "\u001b[1m163/163\u001b[0m \u001b[32m━━━━━━━━━━━━━━━━━━━━\u001b[0m\u001b[37m\u001b[0m \u001b[1m2s\u001b[0m 9ms/step - dense_2_loss: 0.9415 - dense_3_loss: 0.4785 - dense_4_loss: 0.1393 - loss: 1.5593\n",
      "Epoch 33/500\n",
      "\u001b[1m163/163\u001b[0m \u001b[32m━━━━━━━━━━━━━━━━━━━━\u001b[0m\u001b[37m\u001b[0m \u001b[1m2s\u001b[0m 9ms/step - dense_2_loss: 1.0478 - dense_3_loss: 0.4409 - dense_4_loss: 0.1205 - loss: 1.6092\n",
      "Epoch 34/500\n",
      "\u001b[1m163/163\u001b[0m \u001b[32m━━━━━━━━━━━━━━━━━━━━\u001b[0m\u001b[37m\u001b[0m \u001b[1m1s\u001b[0m 8ms/step - dense_2_loss: 0.8934 - dense_3_loss: 0.3297 - dense_4_loss: 0.1432 - loss: 1.3663\n",
      "Epoch 35/500\n",
      "\u001b[1m163/163\u001b[0m \u001b[32m━━━━━━━━━━━━━━━━━━━━\u001b[0m\u001b[37m\u001b[0m \u001b[1m3s\u001b[0m 9ms/step - dense_2_loss: 1.2481 - dense_3_loss: 0.7407 - dense_4_loss: 0.1834 - loss: 2.1723\n",
      "Epoch 36/500\n",
      "\u001b[1m163/163\u001b[0m \u001b[32m━━━━━━━━━━━━━━━━━━━━\u001b[0m\u001b[37m\u001b[0m \u001b[1m2s\u001b[0m 12ms/step - dense_2_loss: 0.5973 - dense_3_loss: 0.4746 - dense_4_loss: 0.1561 - loss: 1.2280\n",
      "Epoch 37/500\n",
      "\u001b[1m163/163\u001b[0m \u001b[32m━━━━━━━━━━━━━━━━━━━━\u001b[0m\u001b[37m\u001b[0m \u001b[1m2s\u001b[0m 11ms/step - dense_2_loss: 1.4628 - dense_3_loss: 1.0110 - dense_4_loss: 0.3715 - loss: 2.8453\n",
      "Epoch 38/500\n",
      "\u001b[1m163/163\u001b[0m \u001b[32m━━━━━━━━━━━━━━━━━━━━\u001b[0m\u001b[37m\u001b[0m \u001b[1m3s\u001b[0m 11ms/step - dense_2_loss: 1.0179 - dense_3_loss: 0.4299 - dense_4_loss: 0.2816 - loss: 1.7294\n",
      "Epoch 39/500\n",
      "\u001b[1m163/163\u001b[0m \u001b[32m━━━━━━━━━━━━━━━━━━━━\u001b[0m\u001b[37m\u001b[0m \u001b[1m2s\u001b[0m 10ms/step - dense_2_loss: 1.3498 - dense_3_loss: 0.9823 - dense_4_loss: 0.2436 - loss: 2.5757\n",
      "Epoch 40/500\n",
      "\u001b[1m163/163\u001b[0m \u001b[32m━━━━━━━━━━━━━━━━━━━━\u001b[0m\u001b[37m\u001b[0m \u001b[1m2s\u001b[0m 9ms/step - dense_2_loss: 1.1949 - dense_3_loss: 0.5519 - dense_4_loss: 0.4113 - loss: 2.1582 \n",
      "Epoch 41/500\n",
      "\u001b[1m163/163\u001b[0m \u001b[32m━━━━━━━━━━━━━━━━━━━━\u001b[0m\u001b[37m\u001b[0m \u001b[1m2s\u001b[0m 10ms/step - dense_2_loss: 1.2788 - dense_3_loss: 0.6340 - dense_4_loss: 0.4096 - loss: 2.3224\n",
      "Epoch 42/500\n",
      "\u001b[1m163/163\u001b[0m \u001b[32m━━━━━━━━━━━━━━━━━━━━\u001b[0m\u001b[37m\u001b[0m \u001b[1m1s\u001b[0m 8ms/step - dense_2_loss: 1.2771 - dense_3_loss: 0.4527 - dense_4_loss: 0.4395 - loss: 2.1693\n",
      "Epoch 43/500\n",
      "\u001b[1m163/163\u001b[0m \u001b[32m━━━━━━━━━━━━━━━━━━━━\u001b[0m\u001b[37m\u001b[0m \u001b[1m2s\u001b[0m 7ms/step - dense_2_loss: 7.7391 - dense_3_loss: 3.6863 - dense_4_loss: 3.3294 - loss: 14.7549\n",
      "Epoch 44/500\n",
      "\u001b[1m163/163\u001b[0m \u001b[32m━━━━━━━━━━━━━━━━━━━━\u001b[0m\u001b[37m\u001b[0m \u001b[1m1s\u001b[0m 8ms/step - dense_2_loss: 0.6571 - dense_3_loss: 0.2944 - dense_4_loss: 0.1182 - loss: 1.0698\n",
      "Epoch 45/500\n",
      "\u001b[1m163/163\u001b[0m \u001b[32m━━━━━━━━━━━━━━━━━━━━\u001b[0m\u001b[37m\u001b[0m \u001b[1m2s\u001b[0m 9ms/step - dense_2_loss: 0.9320 - dense_3_loss: 0.4045 - dense_4_loss: 0.0952 - loss: 1.4317\n",
      "Epoch 46/500\n",
      "\u001b[1m163/163\u001b[0m \u001b[32m━━━━━━━━━━━━━━━━━━━━\u001b[0m\u001b[37m\u001b[0m \u001b[1m1s\u001b[0m 8ms/step - dense_2_loss: 0.7835 - dense_3_loss: 0.2977 - dense_4_loss: 0.1146 - loss: 1.1956\n",
      "Epoch 47/500\n",
      "\u001b[1m163/163\u001b[0m \u001b[32m━━━━━━━━━━━━━━━━━━━━\u001b[0m\u001b[37m\u001b[0m \u001b[1m2s\u001b[0m 8ms/step - dense_2_loss: 1.0135 - dense_3_loss: 0.4412 - dense_4_loss: 0.1509 - loss: 1.6056\n",
      "Epoch 48/500\n",
      "\u001b[1m163/163\u001b[0m \u001b[32m━━━━━━━━━━━━━━━━━━━━\u001b[0m\u001b[37m\u001b[0m \u001b[1m1s\u001b[0m 7ms/step - dense_2_loss: 1.0700 - dense_3_loss: 0.2718 - dense_4_loss: 0.1156 - loss: 1.4574\n",
      "Epoch 49/500\n",
      "\u001b[1m163/163\u001b[0m \u001b[32m━━━━━━━━━━━━━━━━━━━━\u001b[0m\u001b[37m\u001b[0m \u001b[1m1s\u001b[0m 8ms/step - dense_2_loss: 0.9354 - dense_3_loss: 0.4203 - dense_4_loss: 0.1406 - loss: 1.4964\n",
      "Epoch 50/500\n",
      "\u001b[1m163/163\u001b[0m \u001b[32m━━━━━━━━━━━━━━━━━━━━\u001b[0m\u001b[37m\u001b[0m \u001b[1m3s\u001b[0m 8ms/step - dense_2_loss: 0.9930 - dense_3_loss: 0.3173 - dense_4_loss: 0.1580 - loss: 1.4682\n",
      "Epoch 51/500\n",
      "\u001b[1m163/163\u001b[0m \u001b[32m━━━━━━━━━━━━━━━━━━━━\u001b[0m\u001b[37m\u001b[0m \u001b[1m1s\u001b[0m 8ms/step - dense_2_loss: 0.9155 - dense_3_loss: 0.3910 - dense_4_loss: 0.2958 - loss: 1.6024\n",
      "Epoch 52/500\n",
      "\u001b[1m163/163\u001b[0m \u001b[32m━━━━━━━━━━━━━━━━━━━━\u001b[0m\u001b[37m\u001b[0m \u001b[1m2s\u001b[0m 8ms/step - dense_2_loss: 0.7412 - dense_3_loss: 0.3978 - dense_4_loss: 0.2493 - loss: 1.3883\n",
      "Epoch 53/500\n",
      "\u001b[1m163/163\u001b[0m \u001b[32m━━━━━━━━━━━━━━━━━━━━\u001b[0m\u001b[37m\u001b[0m \u001b[1m1s\u001b[0m 8ms/step - dense_2_loss: 0.8994 - dense_3_loss: 0.3873 - dense_4_loss: 0.2553 - loss: 1.5420\n",
      "Epoch 54/500\n",
      "\u001b[1m163/163\u001b[0m \u001b[32m━━━━━━━━━━━━━━━━━━━━\u001b[0m\u001b[37m\u001b[0m \u001b[1m2s\u001b[0m 7ms/step - dense_2_loss: 2.5980 - dense_3_loss: 3.2996 - dense_4_loss: 2.8319 - loss: 8.7295\n",
      "Epoch 55/500\n",
      "\u001b[1m163/163\u001b[0m \u001b[32m━━━━━━━━━━━━━━━━━━━━\u001b[0m\u001b[37m\u001b[0m \u001b[1m2s\u001b[0m 9ms/step - dense_2_loss: 0.6389 - dense_3_loss: 0.3215 - dense_4_loss: 0.0856 - loss: 1.0460\n",
      "Epoch 56/500\n",
      "\u001b[1m163/163\u001b[0m \u001b[32m━━━━━━━━━━━━━━━━━━━━\u001b[0m\u001b[37m\u001b[0m \u001b[1m1s\u001b[0m 9ms/step - dense_2_loss: 0.5494 - dense_3_loss: 0.2169 - dense_4_loss: 0.0835 - loss: 0.8498\n",
      "Epoch 57/500\n",
      "\u001b[1m163/163\u001b[0m \u001b[32m━━━━━━━━━━━━━━━━━━━━\u001b[0m\u001b[37m\u001b[0m \u001b[1m1s\u001b[0m 9ms/step - dense_2_loss: 0.7781 - dense_3_loss: 0.4102 - dense_4_loss: 0.1166 - loss: 1.3049\n",
      "Epoch 58/500\n",
      "\u001b[1m163/163\u001b[0m \u001b[32m━━━━━━━━━━━━━━━━━━━━\u001b[0m\u001b[37m\u001b[0m \u001b[1m2s\u001b[0m 7ms/step - dense_2_loss: 0.6863 - dense_3_loss: 0.4076 - dense_4_loss: 0.1830 - loss: 1.2769\n",
      "Epoch 59/500\n",
      "\u001b[1m163/163\u001b[0m \u001b[32m━━━━━━━━━━━━━━━━━━━━\u001b[0m\u001b[37m\u001b[0m \u001b[1m1s\u001b[0m 8ms/step - dense_2_loss: 0.6728 - dense_3_loss: 0.2984 - dense_4_loss: 0.1232 - loss: 1.0944\n",
      "Epoch 60/500\n",
      "\u001b[1m163/163\u001b[0m \u001b[32m━━━━━━━━━━━━━━━━━━━━\u001b[0m\u001b[37m\u001b[0m \u001b[1m3s\u001b[0m 10ms/step - dense_2_loss: 0.6356 - dense_3_loss: 0.2208 - dense_4_loss: 0.0910 - loss: 0.9475\n",
      "Epoch 61/500\n",
      "\u001b[1m163/163\u001b[0m \u001b[32m━━━━━━━━━━━━━━━━━━━━\u001b[0m\u001b[37m\u001b[0m \u001b[1m1s\u001b[0m 8ms/step - dense_2_loss: 0.7122 - dense_3_loss: 0.2982 - dense_4_loss: 0.1114 - loss: 1.1219\n",
      "Epoch 62/500\n",
      "\u001b[1m163/163\u001b[0m \u001b[32m━━━━━━━━━━━━━━━━━━━━\u001b[0m\u001b[37m\u001b[0m \u001b[1m1s\u001b[0m 9ms/step - dense_2_loss: 0.5849 - dense_3_loss: 0.2425 - dense_4_loss: 0.1619 - loss: 0.9894\n",
      "Epoch 63/500\n",
      "\u001b[1m163/163\u001b[0m \u001b[32m━━━━━━━━━━━━━━━━━━━━\u001b[0m\u001b[37m\u001b[0m \u001b[1m2s\u001b[0m 8ms/step - dense_2_loss: 0.4779 - dense_3_loss: 0.2357 - dense_4_loss: 0.0946 - loss: 0.8082\n",
      "Epoch 64/500\n",
      "\u001b[1m163/163\u001b[0m \u001b[32m━━━━━━━━━━━━━━━━━━━━\u001b[0m\u001b[37m\u001b[0m \u001b[1m2s\u001b[0m 8ms/step - dense_2_loss: 0.7213 - dense_3_loss: 0.3267 - dense_4_loss: 0.1433 - loss: 1.1912\n",
      "Epoch 65/500\n",
      "\u001b[1m163/163\u001b[0m \u001b[32m━━━━━━━━━━━━━━━━━━━━\u001b[0m\u001b[37m\u001b[0m \u001b[1m3s\u001b[0m 8ms/step - dense_2_loss: 0.8066 - dense_3_loss: 0.3023 - dense_4_loss: 0.1781 - loss: 1.2869\n",
      "Epoch 66/500\n",
      "\u001b[1m163/163\u001b[0m \u001b[32m━━━━━━━━━━━━━━━━━━━━\u001b[0m\u001b[37m\u001b[0m \u001b[1m1s\u001b[0m 8ms/step - dense_2_loss: 0.6971 - dense_3_loss: 0.2989 - dense_4_loss: 0.1445 - loss: 1.1405\n",
      "Epoch 67/500\n",
      "\u001b[1m163/163\u001b[0m \u001b[32m━━━━━━━━━━━━━━━━━━━━\u001b[0m\u001b[37m\u001b[0m \u001b[1m1s\u001b[0m 8ms/step - dense_2_loss: 0.8263 - dense_3_loss: 0.3561 - dense_4_loss: 0.1867 - loss: 1.3692\n",
      "Epoch 68/500\n",
      "\u001b[1m163/163\u001b[0m \u001b[32m━━━━━━━━━━━━━━━━━━━━\u001b[0m\u001b[37m\u001b[0m \u001b[1m1s\u001b[0m 9ms/step - dense_2_loss: 0.6553 - dense_3_loss: 0.3768 - dense_4_loss: 0.1915 - loss: 1.2235\n",
      "Epoch 69/500\n",
      "\u001b[1m163/163\u001b[0m \u001b[32m━━━━━━━━━━━━━━━━━━━━\u001b[0m\u001b[37m\u001b[0m \u001b[1m1s\u001b[0m 8ms/step - dense_2_loss: 1.4793 - dense_3_loss: 0.7680 - dense_4_loss: 0.3682 - loss: 2.6155\n",
      "Epoch 70/500\n",
      "\u001b[1m163/163\u001b[0m \u001b[32m━━━━━━━━━━━━━━━━━━━━\u001b[0m\u001b[37m\u001b[0m \u001b[1m1s\u001b[0m 8ms/step - dense_2_loss: 0.6931 - dense_3_loss: 0.2688 - dense_4_loss: 0.1128 - loss: 1.0747\n",
      "Epoch 71/500\n",
      "\u001b[1m163/163\u001b[0m \u001b[32m━━━━━━━━━━━━━━━━━━━━\u001b[0m\u001b[37m\u001b[0m \u001b[1m3s\u001b[0m 8ms/step - dense_2_loss: 0.8343 - dense_3_loss: 0.3467 - dense_4_loss: 0.1242 - loss: 1.3052\n",
      "Epoch 72/500\n",
      "\u001b[1m163/163\u001b[0m \u001b[32m━━━━━━━━━━━━━━━━━━━━\u001b[0m\u001b[37m\u001b[0m \u001b[1m2s\u001b[0m 11ms/step - dense_2_loss: 0.8354 - dense_3_loss: 0.3641 - dense_4_loss: 0.1310 - loss: 1.3305\n",
      "Epoch 73/500\n",
      "\u001b[1m163/163\u001b[0m \u001b[32m━━━━━━━━━━━━━━━━━━━━\u001b[0m\u001b[37m\u001b[0m \u001b[1m2s\u001b[0m 11ms/step - dense_2_loss: 0.8103 - dense_3_loss: 0.3824 - dense_4_loss: 0.1481 - loss: 1.3408\n",
      "Epoch 74/500\n",
      "\u001b[1m163/163\u001b[0m \u001b[32m━━━━━━━━━━━━━━━━━━━━\u001b[0m\u001b[37m\u001b[0m \u001b[1m2s\u001b[0m 10ms/step - dense_2_loss: 0.8816 - dense_3_loss: 0.4541 - dense_4_loss: 0.2582 - loss: 1.5939\n",
      "Epoch 75/500\n",
      "\u001b[1m163/163\u001b[0m \u001b[32m━━━━━━━━━━━━━━━━━━━━\u001b[0m\u001b[37m\u001b[0m \u001b[1m2s\u001b[0m 9ms/step - dense_2_loss: 0.6010 - dense_3_loss: 0.2372 - dense_4_loss: 0.0945 - loss: 0.9327\n",
      "Epoch 76/500\n",
      "\u001b[1m163/163\u001b[0m \u001b[32m━━━━━━━━━━━━━━━━━━━━\u001b[0m\u001b[37m\u001b[0m \u001b[1m2s\u001b[0m 12ms/step - dense_2_loss: 0.5684 - dense_3_loss: 0.2130 - dense_4_loss: 0.0850 - loss: 0.8665\n",
      "Epoch 77/500\n",
      "\u001b[1m163/163\u001b[0m \u001b[32m━━━━━━━━━━━━━━━━━━━━\u001b[0m\u001b[37m\u001b[0m \u001b[1m2s\u001b[0m 11ms/step - dense_2_loss: 0.7184 - dense_3_loss: 0.3397 - dense_4_loss: 0.1248 - loss: 1.1830\n",
      "Epoch 78/500\n",
      "\u001b[1m163/163\u001b[0m \u001b[32m━━━━━━━━━━━━━━━━━━━━\u001b[0m\u001b[37m\u001b[0m \u001b[1m2s\u001b[0m 6ms/step - dense_2_loss: 0.6797 - dense_3_loss: 0.3049 - dense_4_loss: 0.1328 - loss: 1.1174\n",
      "Epoch 79/500\n",
      "\u001b[1m163/163\u001b[0m \u001b[32m━━━━━━━━━━━━━━━━━━━━\u001b[0m\u001b[37m\u001b[0m \u001b[1m2s\u001b[0m 10ms/step - dense_2_loss: 0.5773 - dense_3_loss: 0.2694 - dense_4_loss: 0.1074 - loss: 0.9541\n",
      "Epoch 80/500\n",
      "\u001b[1m163/163\u001b[0m \u001b[32m━━━━━━━━━━━━━━━━━━━━\u001b[0m\u001b[37m\u001b[0m \u001b[1m3s\u001b[0m 15ms/step - dense_2_loss: 0.5797 - dense_3_loss: 0.3127 - dense_4_loss: 0.1985 - loss: 1.0910\n",
      "Epoch 81/500\n",
      "\u001b[1m163/163\u001b[0m \u001b[32m━━━━━━━━━━━━━━━━━━━━\u001b[0m\u001b[37m\u001b[0m \u001b[1m3s\u001b[0m 15ms/step - dense_2_loss: 0.7977 - dense_3_loss: 0.2986 - dense_4_loss: 0.1592 - loss: 1.2556\n",
      "Epoch 82/500\n",
      "\u001b[1m163/163\u001b[0m \u001b[32m━━━━━━━━━━━━━━━━━━━━\u001b[0m\u001b[37m\u001b[0m \u001b[1m3s\u001b[0m 17ms/step - dense_2_loss: 0.7462 - dense_3_loss: 0.2972 - dense_4_loss: 0.1247 - loss: 1.1681\n",
      "Epoch 83/500\n",
      "\u001b[1m163/163\u001b[0m \u001b[32m━━━━━━━━━━━━━━━━━━━━\u001b[0m\u001b[37m\u001b[0m \u001b[1m3s\u001b[0m 17ms/step - dense_2_loss: 0.5442 - dense_3_loss: 0.2162 - dense_4_loss: 0.1002 - loss: 0.8606\n",
      "Epoch 84/500\n",
      "\u001b[1m163/163\u001b[0m \u001b[32m━━━━━━━━━━━━━━━━━━━━\u001b[0m\u001b[37m\u001b[0m \u001b[1m3s\u001b[0m 16ms/step - dense_2_loss: 0.6734 - dense_3_loss: 0.2504 - dense_4_loss: 0.1163 - loss: 1.0402\n",
      "Epoch 85/500\n",
      "\u001b[1m163/163\u001b[0m \u001b[32m━━━━━━━━━━━━━━━━━━━━\u001b[0m\u001b[37m\u001b[0m \u001b[1m6s\u001b[0m 18ms/step - dense_2_loss: 0.7225 - dense_3_loss: 0.2677 - dense_4_loss: 0.1035 - loss: 1.0937\n",
      "Epoch 86/500\n",
      "\u001b[1m163/163\u001b[0m \u001b[32m━━━━━━━━━━━━━━━━━━━━\u001b[0m\u001b[37m\u001b[0m \u001b[1m4s\u001b[0m 10ms/step - dense_2_loss: 0.7424 - dense_3_loss: 0.3281 - dense_4_loss: 0.1021 - loss: 1.1727\n",
      "Epoch 87/500\n",
      "\u001b[1m163/163\u001b[0m \u001b[32m━━━━━━━━━━━━━━━━━━━━\u001b[0m\u001b[37m\u001b[0m \u001b[1m1s\u001b[0m 7ms/step - dense_2_loss: 0.6444 - dense_3_loss: 0.2620 - dense_4_loss: 0.1025 - loss: 1.0090\n",
      "Epoch 88/500\n",
      "\u001b[1m163/163\u001b[0m \u001b[32m━━━━━━━━━━━━━━━━━━━━\u001b[0m\u001b[37m\u001b[0m \u001b[1m1s\u001b[0m 6ms/step - dense_2_loss: 0.6830 - dense_3_loss: 0.2811 - dense_4_loss: 0.0909 - loss: 1.0550\n",
      "Epoch 89/500\n",
      "\u001b[1m163/163\u001b[0m \u001b[32m━━━━━━━━━━━━━━━━━━━━\u001b[0m\u001b[37m\u001b[0m \u001b[1m1s\u001b[0m 7ms/step - dense_2_loss: 0.6072 - dense_3_loss: 0.2155 - dense_4_loss: 0.0900 - loss: 0.9126\n",
      "Epoch 90/500\n",
      "\u001b[1m163/163\u001b[0m \u001b[32m━━━━━━━━━━━━━━━━━━━━\u001b[0m\u001b[37m\u001b[0m \u001b[1m1s\u001b[0m 7ms/step - dense_2_loss: 0.4690 - dense_3_loss: 0.2138 - dense_4_loss: 0.0921 - loss: 0.7750\n",
      "Epoch 91/500\n",
      "\u001b[1m163/163\u001b[0m \u001b[32m━━━━━━━━━━━━━━━━━━━━\u001b[0m\u001b[37m\u001b[0m \u001b[1m1s\u001b[0m 7ms/step - dense_2_loss: 0.5438 - dense_3_loss: 0.2324 - dense_4_loss: 0.0776 - loss: 0.8537\n",
      "Epoch 92/500\n",
      "\u001b[1m163/163\u001b[0m \u001b[32m━━━━━━━━━━━━━━━━━━━━\u001b[0m\u001b[37m\u001b[0m \u001b[1m1s\u001b[0m 7ms/step - dense_2_loss: 0.5221 - dense_3_loss: 0.2197 - dense_4_loss: 0.0931 - loss: 0.8350\n",
      "Epoch 93/500\n",
      "\u001b[1m163/163\u001b[0m \u001b[32m━━━━━━━━━━━━━━━━━━━━\u001b[0m\u001b[37m\u001b[0m \u001b[1m1s\u001b[0m 7ms/step - dense_2_loss: 0.4332 - dense_3_loss: 0.1959 - dense_4_loss: 0.0930 - loss: 0.7220\n",
      "Epoch 94/500\n",
      "\u001b[1m163/163\u001b[0m \u001b[32m━━━━━━━━━━━━━━━━━━━━\u001b[0m\u001b[37m\u001b[0m \u001b[1m1s\u001b[0m 7ms/step - dense_2_loss: 0.5968 - dense_3_loss: 0.2262 - dense_4_loss: 0.0942 - loss: 0.9172\n",
      "Epoch 95/500\n",
      "\u001b[1m163/163\u001b[0m \u001b[32m━━━━━━━━━━━━━━━━━━━━\u001b[0m\u001b[37m\u001b[0m \u001b[1m1s\u001b[0m 7ms/step - dense_2_loss: 0.6655 - dense_3_loss: 0.2625 - dense_4_loss: 0.1154 - loss: 1.0433\n",
      "Epoch 96/500\n",
      "\u001b[1m163/163\u001b[0m \u001b[32m━━━━━━━━━━━━━━━━━━━━\u001b[0m\u001b[37m\u001b[0m \u001b[1m1s\u001b[0m 6ms/step - dense_2_loss: 0.8409 - dense_3_loss: 0.3694 - dense_4_loss: 0.0899 - loss: 1.3002\n",
      "Epoch 97/500\n",
      "\u001b[1m163/163\u001b[0m \u001b[32m━━━━━━━━━━━━━━━━━━━━\u001b[0m\u001b[37m\u001b[0m \u001b[1m1s\u001b[0m 7ms/step - dense_2_loss: 0.6104 - dense_3_loss: 0.2536 - dense_4_loss: 0.0685 - loss: 0.9326\n",
      "Epoch 98/500\n",
      "\u001b[1m163/163\u001b[0m \u001b[32m━━━━━━━━━━━━━━━━━━━━\u001b[0m\u001b[37m\u001b[0m \u001b[1m2s\u001b[0m 9ms/step - dense_2_loss: 0.3996 - dense_3_loss: 0.1884 - dense_4_loss: 0.0721 - loss: 0.6602\n",
      "Epoch 99/500\n",
      "\u001b[1m163/163\u001b[0m \u001b[32m━━━━━━━━━━━━━━━━━━━━\u001b[0m\u001b[37m\u001b[0m \u001b[1m2s\u001b[0m 8ms/step - dense_2_loss: 0.5743 - dense_3_loss: 0.2321 - dense_4_loss: 0.0977 - loss: 0.9041\n",
      "Epoch 100/500\n",
      "\u001b[1m163/163\u001b[0m \u001b[32m━━━━━━━━━━━━━━━━━━━━\u001b[0m\u001b[37m\u001b[0m \u001b[1m1s\u001b[0m 6ms/step - dense_2_loss: 0.5567 - dense_3_loss: 0.2346 - dense_4_loss: 0.0843 - loss: 0.8757\n",
      "Epoch 101/500\n",
      "\u001b[1m163/163\u001b[0m \u001b[32m━━━━━━━━━━━━━━━━━━━━\u001b[0m\u001b[37m\u001b[0m \u001b[1m1s\u001b[0m 6ms/step - dense_2_loss: 0.6476 - dense_3_loss: 0.2847 - dense_4_loss: 0.0807 - loss: 1.0130\n",
      "Epoch 102/500\n",
      "\u001b[1m163/163\u001b[0m \u001b[32m━━━━━━━━━━━━━━━━━━━━\u001b[0m\u001b[37m\u001b[0m \u001b[1m1s\u001b[0m 6ms/step - dense_2_loss: 0.6072 - dense_3_loss: 0.2300 - dense_4_loss: 0.0928 - loss: 0.9300\n",
      "Epoch 103/500\n",
      "\u001b[1m163/163\u001b[0m \u001b[32m━━━━━━━━━━━━━━━━━━━━\u001b[0m\u001b[37m\u001b[0m \u001b[1m1s\u001b[0m 7ms/step - dense_2_loss: 0.6613 - dense_3_loss: 0.2387 - dense_4_loss: 0.0809 - loss: 0.9810\n",
      "Epoch 104/500\n",
      "\u001b[1m163/163\u001b[0m \u001b[32m━━━━━━━━━━━━━━━━━━━━\u001b[0m\u001b[37m\u001b[0m \u001b[1m2s\u001b[0m 11ms/step - dense_2_loss: 0.8680 - dense_3_loss: 0.4014 - dense_4_loss: 0.0845 - loss: 1.3539\n",
      "Epoch 105/500\n",
      "\u001b[1m163/163\u001b[0m \u001b[32m━━━━━━━━━━━━━━━━━━━━\u001b[0m\u001b[37m\u001b[0m \u001b[1m3s\u001b[0m 13ms/step - dense_2_loss: 0.6755 - dense_3_loss: 0.3007 - dense_4_loss: 0.0802 - loss: 1.0564\n",
      "Epoch 106/500\n",
      "\u001b[1m163/163\u001b[0m \u001b[32m━━━━━━━━━━━━━━━━━━━━\u001b[0m\u001b[37m\u001b[0m \u001b[1m2s\u001b[0m 8ms/step - dense_2_loss: 0.8349 - dense_3_loss: 0.3603 - dense_4_loss: 0.0810 - loss: 1.2761\n",
      "Epoch 107/500\n",
      "\u001b[1m163/163\u001b[0m \u001b[32m━━━━━━━━━━━━━━━━━━━━\u001b[0m\u001b[37m\u001b[0m \u001b[1m1s\u001b[0m 6ms/step - dense_2_loss: 0.5086 - dense_3_loss: 0.2122 - dense_4_loss: 0.0656 - loss: 0.7865\n",
      "Epoch 108/500\n",
      "\u001b[1m163/163\u001b[0m \u001b[32m━━━━━━━━━━━━━━━━━━━━\u001b[0m\u001b[37m\u001b[0m \u001b[1m1s\u001b[0m 6ms/step - dense_2_loss: 0.5019 - dense_3_loss: 0.2014 - dense_4_loss: 0.0758 - loss: 0.7790\n",
      "Epoch 109/500\n",
      "\u001b[1m163/163\u001b[0m \u001b[32m━━━━━━━━━━━━━━━━━━━━\u001b[0m\u001b[37m\u001b[0m \u001b[1m2s\u001b[0m 13ms/step - dense_2_loss: 0.5801 - dense_3_loss: 0.2078 - dense_4_loss: 0.0713 - loss: 0.8592\n",
      "Epoch 110/500\n",
      "\u001b[1m163/163\u001b[0m \u001b[32m━━━━━━━━━━━━━━━━━━━━\u001b[0m\u001b[37m\u001b[0m \u001b[1m3s\u001b[0m 18ms/step - dense_2_loss: 0.7573 - dense_3_loss: 0.3123 - dense_4_loss: 0.0736 - loss: 1.1432\n",
      "Epoch 111/500\n",
      "\u001b[1m163/163\u001b[0m \u001b[32m━━━━━━━━━━━━━━━━━━━━\u001b[0m\u001b[37m\u001b[0m \u001b[1m3s\u001b[0m 17ms/step - dense_2_loss: 0.4974 - dense_3_loss: 0.1883 - dense_4_loss: 0.0778 - loss: 0.7635\n",
      "Epoch 112/500\n",
      "\u001b[1m163/163\u001b[0m \u001b[32m━━━━━━━━━━━━━━━━━━━━\u001b[0m\u001b[37m\u001b[0m \u001b[1m3s\u001b[0m 18ms/step - dense_2_loss: 0.5245 - dense_3_loss: 0.2248 - dense_4_loss: 0.0888 - loss: 0.8381\n",
      "Epoch 113/500\n",
      "\u001b[1m163/163\u001b[0m \u001b[32m━━━━━━━━━━━━━━━━━━━━\u001b[0m\u001b[37m\u001b[0m \u001b[1m5s\u001b[0m 16ms/step - dense_2_loss: 0.6828 - dense_3_loss: 0.3016 - dense_4_loss: 0.0735 - loss: 1.0579\n",
      "Epoch 114/500\n",
      "\u001b[1m163/163\u001b[0m \u001b[32m━━━━━━━━━━━━━━━━━━━━\u001b[0m\u001b[37m\u001b[0m \u001b[1m3s\u001b[0m 16ms/step - dense_2_loss: 0.5135 - dense_3_loss: 0.2239 - dense_4_loss: 0.0923 - loss: 0.8298\n",
      "Epoch 115/500\n",
      "\u001b[1m163/163\u001b[0m \u001b[32m━━━━━━━━━━━━━━━━━━━━\u001b[0m\u001b[37m\u001b[0m \u001b[1m1s\u001b[0m 9ms/step - dense_2_loss: 0.6058 - dense_3_loss: 0.2213 - dense_4_loss: 0.0808 - loss: 0.9079\n",
      "Epoch 116/500\n",
      "\u001b[1m163/163\u001b[0m \u001b[32m━━━━━━━━━━━━━━━━━━━━\u001b[0m\u001b[37m\u001b[0m \u001b[1m3s\u001b[0m 10ms/step - dense_2_loss: 0.5705 - dense_3_loss: 0.1825 - dense_4_loss: 0.0777 - loss: 0.8306\n",
      "Epoch 117/500\n",
      "\u001b[1m163/163\u001b[0m \u001b[32m━━━━━━━━━━━━━━━━━━━━\u001b[0m\u001b[37m\u001b[0m \u001b[1m1s\u001b[0m 8ms/step - dense_2_loss: 0.8057 - dense_3_loss: 0.3322 - dense_4_loss: 0.0817 - loss: 1.2196\n",
      "Epoch 118/500\n",
      "\u001b[1m163/163\u001b[0m \u001b[32m━━━━━━━━━━━━━━━━━━━━\u001b[0m\u001b[37m\u001b[0m \u001b[1m2s\u001b[0m 9ms/step - dense_2_loss: 0.7338 - dense_3_loss: 0.2922 - dense_4_loss: 0.0764 - loss: 1.1024\n",
      "Epoch 119/500\n",
      "\u001b[1m163/163\u001b[0m \u001b[32m━━━━━━━━━━━━━━━━━━━━\u001b[0m\u001b[37m\u001b[0m \u001b[1m2s\u001b[0m 9ms/step - dense_2_loss: 0.6387 - dense_3_loss: 0.2558 - dense_4_loss: 0.0737 - loss: 0.9682\n",
      "Epoch 120/500\n",
      "\u001b[1m163/163\u001b[0m \u001b[32m━━━━━━━━━━━━━━━━━━━━\u001b[0m\u001b[37m\u001b[0m \u001b[1m2s\u001b[0m 9ms/step - dense_2_loss: 0.6892 - dense_3_loss: 0.2883 - dense_4_loss: 0.0768 - loss: 1.0544\n",
      "Epoch 121/500\n",
      "\u001b[1m163/163\u001b[0m \u001b[32m━━━━━━━━━━━━━━━━━━━━\u001b[0m\u001b[37m\u001b[0m \u001b[1m2s\u001b[0m 10ms/step - dense_2_loss: 0.4774 - dense_3_loss: 0.1824 - dense_4_loss: 0.0668 - loss: 0.7266\n",
      "Epoch 122/500\n",
      "\u001b[1m163/163\u001b[0m \u001b[32m━━━━━━━━━━━━━━━━━━━━\u001b[0m\u001b[37m\u001b[0m \u001b[1m1s\u001b[0m 9ms/step - dense_2_loss: 0.5547 - dense_3_loss: 0.2469 - dense_4_loss: 0.0919 - loss: 0.8936\n",
      "Epoch 123/500\n",
      "\u001b[1m163/163\u001b[0m \u001b[32m━━━━━━━━━━━━━━━━━━━━\u001b[0m\u001b[37m\u001b[0m \u001b[1m1s\u001b[0m 9ms/step - dense_2_loss: 0.6375 - dense_3_loss: 0.2161 - dense_4_loss: 0.0748 - loss: 0.9284\n",
      "Epoch 124/500\n",
      "\u001b[1m163/163\u001b[0m \u001b[32m━━━━━━━━━━━━━━━━━━━━\u001b[0m\u001b[37m\u001b[0m \u001b[1m1s\u001b[0m 9ms/step - dense_2_loss: 0.5113 - dense_3_loss: 0.2144 - dense_4_loss: 0.0758 - loss: 0.8014\n",
      "Epoch 125/500\n",
      "\u001b[1m163/163\u001b[0m \u001b[32m━━━━━━━━━━━━━━━━━━━━\u001b[0m\u001b[37m\u001b[0m \u001b[1m1s\u001b[0m 9ms/step - dense_2_loss: 0.6480 - dense_3_loss: 0.2940 - dense_4_loss: 0.0905 - loss: 1.0325\n",
      "Epoch 126/500\n",
      "\u001b[1m163/163\u001b[0m \u001b[32m━━━━━━━━━━━━━━━━━━━━\u001b[0m\u001b[37m\u001b[0m \u001b[1m2s\u001b[0m 10ms/step - dense_2_loss: 0.4685 - dense_3_loss: 0.2234 - dense_4_loss: 0.0738 - loss: 0.7657\n",
      "Epoch 127/500\n",
      "\u001b[1m163/163\u001b[0m \u001b[32m━━━━━━━━━━━━━━━━━━━━\u001b[0m\u001b[37m\u001b[0m \u001b[1m2s\u001b[0m 8ms/step - dense_2_loss: 0.5287 - dense_3_loss: 0.2017 - dense_4_loss: 0.0666 - loss: 0.7970\n",
      "Epoch 128/500\n",
      "\u001b[1m163/163\u001b[0m \u001b[32m━━━━━━━━━━━━━━━━━━━━\u001b[0m\u001b[37m\u001b[0m \u001b[1m3s\u001b[0m 8ms/step - dense_2_loss: 0.4523 - dense_3_loss: 0.2105 - dense_4_loss: 0.0860 - loss: 0.7489\n",
      "Epoch 129/500\n",
      "\u001b[1m163/163\u001b[0m \u001b[32m━━━━━━━━━━━━━━━━━━━━\u001b[0m\u001b[37m\u001b[0m \u001b[1m1s\u001b[0m 9ms/step - dense_2_loss: 0.6727 - dense_3_loss: 0.2471 - dense_4_loss: 0.0796 - loss: 0.9994\n",
      "Epoch 130/500\n",
      "\u001b[1m163/163\u001b[0m \u001b[32m━━━━━━━━━━━━━━━━━━━━\u001b[0m\u001b[37m\u001b[0m \u001b[1m2s\u001b[0m 11ms/step - dense_2_loss: 0.6145 - dense_3_loss: 0.2203 - dense_4_loss: 0.1100 - loss: 0.9449\n",
      "Epoch 131/500\n",
      "\u001b[1m163/163\u001b[0m \u001b[32m━━━━━━━━━━━━━━━━━━━━\u001b[0m\u001b[37m\u001b[0m \u001b[1m2s\u001b[0m 8ms/step - dense_2_loss: 0.6564 - dense_3_loss: 0.3052 - dense_4_loss: 0.0832 - loss: 1.0449\n",
      "Epoch 132/500\n",
      "\u001b[1m163/163\u001b[0m \u001b[32m━━━━━━━━━━━━━━━━━━━━\u001b[0m\u001b[37m\u001b[0m \u001b[1m2s\u001b[0m 8ms/step - dense_2_loss: 0.4916 - dense_3_loss: 0.2159 - dense_4_loss: 0.0811 - loss: 0.7886\n",
      "Epoch 133/500\n",
      "\u001b[1m163/163\u001b[0m \u001b[32m━━━━━━━━━━━━━━━━━━━━\u001b[0m\u001b[37m\u001b[0m \u001b[1m1s\u001b[0m 9ms/step - dense_2_loss: 0.6061 - dense_3_loss: 0.2086 - dense_4_loss: 0.0958 - loss: 0.9106\n",
      "Epoch 134/500\n",
      "\u001b[1m163/163\u001b[0m \u001b[32m━━━━━━━━━━━━━━━━━━━━\u001b[0m\u001b[37m\u001b[0m \u001b[1m2s\u001b[0m 8ms/step - dense_2_loss: 0.6515 - dense_3_loss: 0.2081 - dense_4_loss: 0.0744 - loss: 0.9340\n",
      "Epoch 135/500\n",
      "\u001b[1m163/163\u001b[0m \u001b[32m━━━━━━━━━━━━━━━━━━━━\u001b[0m\u001b[37m\u001b[0m \u001b[1m1s\u001b[0m 9ms/step - dense_2_loss: 0.4764 - dense_3_loss: 0.2156 - dense_4_loss: 0.0783 - loss: 0.7702\n",
      "Epoch 136/500\n",
      "\u001b[1m163/163\u001b[0m \u001b[32m━━━━━━━━━━━━━━━━━━━━\u001b[0m\u001b[37m\u001b[0m \u001b[1m2s\u001b[0m 11ms/step - dense_2_loss: 0.6861 - dense_3_loss: 0.2750 - dense_4_loss: 0.0875 - loss: 1.0486\n",
      "Epoch 137/500\n",
      "\u001b[1m163/163\u001b[0m \u001b[32m━━━━━━━━━━━━━━━━━━━━\u001b[0m\u001b[37m\u001b[0m \u001b[1m2s\u001b[0m 9ms/step - dense_2_loss: 0.5328 - dense_3_loss: 0.2121 - dense_4_loss: 0.0946 - loss: 0.8396\n",
      "Epoch 138/500\n",
      "\u001b[1m163/163\u001b[0m \u001b[32m━━━━━━━━━━━━━━━━━━━━\u001b[0m\u001b[37m\u001b[0m \u001b[1m2s\u001b[0m 9ms/step - dense_2_loss: 0.7821 - dense_3_loss: 0.3396 - dense_4_loss: 0.1042 - loss: 1.2259\n",
      "Epoch 139/500\n",
      "\u001b[1m163/163\u001b[0m \u001b[32m━━━━━━━━━━━━━━━━━━━━\u001b[0m\u001b[37m\u001b[0m \u001b[1m1s\u001b[0m 9ms/step - dense_2_loss: 0.7123 - dense_3_loss: 0.3142 - dense_4_loss: 0.1112 - loss: 1.1377\n",
      "Epoch 140/500\n",
      "\u001b[1m163/163\u001b[0m \u001b[32m━━━━━━━━━━━━━━━━━━━━\u001b[0m\u001b[37m\u001b[0m \u001b[1m1s\u001b[0m 9ms/step - dense_2_loss: 0.9706 - dense_3_loss: 0.3175 - dense_4_loss: 0.1061 - loss: 1.3942\n",
      "Epoch 141/500\n",
      "\u001b[1m163/163\u001b[0m \u001b[32m━━━━━━━━━━━━━━━━━━━━\u001b[0m\u001b[37m\u001b[0m \u001b[1m3s\u001b[0m 11ms/step - dense_2_loss: 0.6800 - dense_3_loss: 0.1712 - dense_4_loss: 0.0881 - loss: 0.9393\n",
      "Epoch 142/500\n",
      "\u001b[1m163/163\u001b[0m \u001b[32m━━━━━━━━━━━━━━━━━━━━\u001b[0m\u001b[37m\u001b[0m \u001b[1m2s\u001b[0m 10ms/step - dense_2_loss: 0.6004 - dense_3_loss: 0.1875 - dense_4_loss: 0.0873 - loss: 0.8752\n",
      "Epoch 143/500\n",
      "\u001b[1m163/163\u001b[0m \u001b[32m━━━━━━━━━━━━━━━━━━━━\u001b[0m\u001b[37m\u001b[0m \u001b[1m3s\u001b[0m 10ms/step - dense_2_loss: 0.6559 - dense_3_loss: 0.2688 - dense_4_loss: 0.0846 - loss: 1.0092\n",
      "Epoch 144/500\n",
      "\u001b[1m163/163\u001b[0m \u001b[32m━━━━━━━━━━━━━━━━━━━━\u001b[0m\u001b[37m\u001b[0m \u001b[1m2s\u001b[0m 11ms/step - dense_2_loss: 0.5926 - dense_3_loss: 0.2370 - dense_4_loss: 0.0975 - loss: 0.9272\n",
      "Epoch 145/500\n",
      "\u001b[1m163/163\u001b[0m \u001b[32m━━━━━━━━━━━━━━━━━━━━\u001b[0m\u001b[37m\u001b[0m \u001b[1m2s\u001b[0m 10ms/step - dense_2_loss: 0.7652 - dense_3_loss: 0.2824 - dense_4_loss: 0.0985 - loss: 1.1461\n",
      "Epoch 146/500\n",
      "\u001b[1m163/163\u001b[0m \u001b[32m━━━━━━━━━━━━━━━━━━━━\u001b[0m\u001b[37m\u001b[0m \u001b[1m2s\u001b[0m 10ms/step - dense_2_loss: 0.7776 - dense_3_loss: 0.3080 - dense_4_loss: 0.0917 - loss: 1.1773\n",
      "Epoch 147/500\n",
      "\u001b[1m163/163\u001b[0m \u001b[32m━━━━━━━━━━━━━━━━━━━━\u001b[0m\u001b[37m\u001b[0m \u001b[1m2s\u001b[0m 10ms/step - dense_2_loss: 0.5757 - dense_3_loss: 0.2475 - dense_4_loss: 0.0932 - loss: 0.9164\n",
      "Epoch 148/500\n",
      "\u001b[1m163/163\u001b[0m \u001b[32m━━━━━━━━━━━━━━━━━━━━\u001b[0m\u001b[37m\u001b[0m \u001b[1m2s\u001b[0m 10ms/step - dense_2_loss: 0.8199 - dense_3_loss: 0.3612 - dense_4_loss: 0.0802 - loss: 1.2613\n",
      "Epoch 149/500\n",
      "\u001b[1m163/163\u001b[0m \u001b[32m━━━━━━━━━━━━━━━━━━━━\u001b[0m\u001b[37m\u001b[0m \u001b[1m2s\u001b[0m 9ms/step - dense_2_loss: 0.4547 - dense_3_loss: 0.2068 - dense_4_loss: 0.0840 - loss: 0.7454\n",
      "Epoch 150/500\n",
      "\u001b[1m163/163\u001b[0m \u001b[32m━━━━━━━━━━━━━━━━━━━━\u001b[0m\u001b[37m\u001b[0m \u001b[1m2s\u001b[0m 13ms/step - dense_2_loss: 0.6735 - dense_3_loss: 0.2599 - dense_4_loss: 0.0871 - loss: 1.0205\n",
      "Epoch 151/500\n",
      "\u001b[1m163/163\u001b[0m \u001b[32m━━━━━━━━━━━━━━━━━━━━\u001b[0m\u001b[37m\u001b[0m \u001b[1m2s\u001b[0m 11ms/step - dense_2_loss: 0.6759 - dense_3_loss: 0.2676 - dense_4_loss: 0.0882 - loss: 1.0317\n",
      "Epoch 152/500\n",
      "\u001b[1m163/163\u001b[0m \u001b[32m━━━━━━━━━━━━━━━━━━━━\u001b[0m\u001b[37m\u001b[0m \u001b[1m2s\u001b[0m 10ms/step - dense_2_loss: 0.6093 - dense_3_loss: 0.2366 - dense_4_loss: 0.1024 - loss: 0.9483\n",
      "Epoch 153/500\n",
      "\u001b[1m163/163\u001b[0m \u001b[32m━━━━━━━━━━━━━━━━━━━━\u001b[0m\u001b[37m\u001b[0m \u001b[1m3s\u001b[0m 10ms/step - dense_2_loss: 0.6618 - dense_3_loss: 0.2526 - dense_4_loss: 0.0896 - loss: 1.0040\n",
      "Epoch 154/500\n",
      "\u001b[1m163/163\u001b[0m \u001b[32m━━━━━━━━━━━━━━━━━━━━\u001b[0m\u001b[37m\u001b[0m \u001b[1m2s\u001b[0m 10ms/step - dense_2_loss: 0.7605 - dense_3_loss: 0.2564 - dense_4_loss: 0.0920 - loss: 1.1089\n",
      "Epoch 155/500\n",
      "\u001b[1m163/163\u001b[0m \u001b[32m━━━━━━━━━━━━━━━━━━━━\u001b[0m\u001b[37m\u001b[0m \u001b[1m2s\u001b[0m 11ms/step - dense_2_loss: 0.6549 - dense_3_loss: 0.2504 - dense_4_loss: 0.0840 - loss: 0.9893\n",
      "Epoch 156/500\n",
      "\u001b[1m163/163\u001b[0m \u001b[32m━━━━━━━━━━━━━━━━━━━━\u001b[0m\u001b[37m\u001b[0m \u001b[1m2s\u001b[0m 10ms/step - dense_2_loss: 0.5804 - dense_3_loss: 0.2539 - dense_4_loss: 0.0795 - loss: 0.9138\n",
      "Epoch 157/500\n",
      "\u001b[1m163/163\u001b[0m \u001b[32m━━━━━━━━━━━━━━━━━━━━\u001b[0m\u001b[37m\u001b[0m \u001b[1m2s\u001b[0m 10ms/step - dense_2_loss: 0.5179 - dense_3_loss: 0.1784 - dense_4_loss: 0.0747 - loss: 0.7710\n",
      "Epoch 158/500\n",
      "\u001b[1m163/163\u001b[0m \u001b[32m━━━━━━━━━━━━━━━━━━━━\u001b[0m\u001b[37m\u001b[0m \u001b[1m2s\u001b[0m 10ms/step - dense_2_loss: 0.6024 - dense_3_loss: 0.2430 - dense_4_loss: 0.0860 - loss: 0.9314\n",
      "Epoch 159/500\n",
      "\u001b[1m163/163\u001b[0m \u001b[32m━━━━━━━━━━━━━━━━━━━━\u001b[0m\u001b[37m\u001b[0m \u001b[1m2s\u001b[0m 10ms/step - dense_2_loss: 0.6798 - dense_3_loss: 0.2834 - dense_4_loss: 0.0876 - loss: 1.0508\n",
      "Epoch 160/500\n",
      "\u001b[1m163/163\u001b[0m \u001b[32m━━━━━━━━━━━━━━━━━━━━\u001b[0m\u001b[37m\u001b[0m \u001b[1m2s\u001b[0m 10ms/step - dense_2_loss: 0.6441 - dense_3_loss: 0.2854 - dense_4_loss: 0.0770 - loss: 1.0064\n",
      "Epoch 161/500\n",
      "\u001b[1m163/163\u001b[0m \u001b[32m━━━━━━━━━━━━━━━━━━━━\u001b[0m\u001b[37m\u001b[0m \u001b[1m2s\u001b[0m 10ms/step - dense_2_loss: 0.9103 - dense_3_loss: 0.4074 - dense_4_loss: 0.0942 - loss: 1.4120\n",
      "Epoch 162/500\n",
      "\u001b[1m163/163\u001b[0m \u001b[32m━━━━━━━━━━━━━━━━━━━━\u001b[0m\u001b[37m\u001b[0m \u001b[1m2s\u001b[0m 12ms/step - dense_2_loss: 0.4384 - dense_3_loss: 0.2091 - dense_4_loss: 0.0779 - loss: 0.7253\n",
      "Epoch 163/500\n",
      "\u001b[1m163/163\u001b[0m \u001b[32m━━━━━━━━━━━━━━━━━━━━\u001b[0m\u001b[37m\u001b[0m \u001b[1m2s\u001b[0m 9ms/step - dense_2_loss: 0.9332 - dense_3_loss: 0.4216 - dense_4_loss: 0.0969 - loss: 1.4517\n",
      "Epoch 164/500\n",
      "\u001b[1m163/163\u001b[0m \u001b[32m━━━━━━━━━━━━━━━━━━━━\u001b[0m\u001b[37m\u001b[0m \u001b[1m2s\u001b[0m 9ms/step - dense_2_loss: 0.5437 - dense_3_loss: 0.2434 - dense_4_loss: 0.0808 - loss: 0.8680\n",
      "Epoch 165/500\n",
      "\u001b[1m163/163\u001b[0m \u001b[32m━━━━━━━━━━━━━━━━━━━━\u001b[0m\u001b[37m\u001b[0m \u001b[1m2s\u001b[0m 13ms/step - dense_2_loss: 0.5983 - dense_3_loss: 0.2432 - dense_4_loss: 0.0772 - loss: 0.9187\n",
      "Epoch 166/500\n",
      "\u001b[1m163/163\u001b[0m \u001b[32m━━━━━━━━━━━━━━━━━━━━\u001b[0m\u001b[37m\u001b[0m \u001b[1m2s\u001b[0m 10ms/step - dense_2_loss: 0.5716 - dense_3_loss: 0.2163 - dense_4_loss: 0.0820 - loss: 0.8699\n",
      "Epoch 167/500\n",
      "\u001b[1m163/163\u001b[0m \u001b[32m━━━━━━━━━━━━━━━━━━━━\u001b[0m\u001b[37m\u001b[0m \u001b[1m2s\u001b[0m 10ms/step - dense_2_loss: 0.6258 - dense_3_loss: 0.2130 - dense_4_loss: 0.0610 - loss: 0.8998\n",
      "Epoch 168/500\n",
      "\u001b[1m163/163\u001b[0m \u001b[32m━━━━━━━━━━━━━━━━━━━━\u001b[0m\u001b[37m\u001b[0m \u001b[1m3s\u001b[0m 10ms/step - dense_2_loss: 0.7408 - dense_3_loss: 0.3042 - dense_4_loss: 0.0718 - loss: 1.1168\n",
      "Epoch 169/500\n",
      "\u001b[1m163/163\u001b[0m \u001b[32m━━━━━━━━━━━━━━━━━━━━\u001b[0m\u001b[37m\u001b[0m \u001b[1m2s\u001b[0m 10ms/step - dense_2_loss: 0.7561 - dense_3_loss: 0.2999 - dense_4_loss: 0.0799 - loss: 1.1359\n",
      "Epoch 170/500\n",
      "\u001b[1m163/163\u001b[0m \u001b[32m━━━━━━━━━━━━━━━━━━━━\u001b[0m\u001b[37m\u001b[0m \u001b[1m3s\u001b[0m 10ms/step - dense_2_loss: 0.8012 - dense_3_loss: 0.3381 - dense_4_loss: 0.0757 - loss: 1.2151\n",
      "Epoch 171/500\n",
      "\u001b[1m163/163\u001b[0m \u001b[32m━━━━━━━━━━━━━━━━━━━━\u001b[0m\u001b[37m\u001b[0m \u001b[1m2s\u001b[0m 10ms/step - dense_2_loss: 0.4553 - dense_3_loss: 0.2247 - dense_4_loss: 0.0798 - loss: 0.7598\n",
      "Epoch 172/500\n",
      "\u001b[1m163/163\u001b[0m \u001b[32m━━━━━━━━━━━━━━━━━━━━\u001b[0m\u001b[37m\u001b[0m \u001b[1m2s\u001b[0m 11ms/step - dense_2_loss: 0.7642 - dense_3_loss: 0.2809 - dense_4_loss: 0.0973 - loss: 1.1424\n",
      "Epoch 173/500\n",
      "\u001b[1m163/163\u001b[0m \u001b[32m━━━━━━━━━━━━━━━━━━━━\u001b[0m\u001b[37m\u001b[0m \u001b[1m2s\u001b[0m 10ms/step - dense_2_loss: 0.6423 - dense_3_loss: 0.2896 - dense_4_loss: 0.0918 - loss: 1.0238\n",
      "Epoch 174/500\n",
      "\u001b[1m163/163\u001b[0m \u001b[32m━━━━━━━━━━━━━━━━━━━━\u001b[0m\u001b[37m\u001b[0m \u001b[1m2s\u001b[0m 10ms/step - dense_2_loss: 0.5206 - dense_3_loss: 0.1949 - dense_4_loss: 0.0671 - loss: 0.7826\n",
      "Epoch 175/500\n",
      "\u001b[1m163/163\u001b[0m \u001b[32m━━━━━━━━━━━━━━━━━━━━\u001b[0m\u001b[37m\u001b[0m \u001b[1m3s\u001b[0m 12ms/step - dense_2_loss: 0.4816 - dense_3_loss: 0.2048 - dense_4_loss: 0.0795 - loss: 0.7658\n",
      "Epoch 176/500\n",
      "\u001b[1m163/163\u001b[0m \u001b[32m━━━━━━━━━━━━━━━━━━━━\u001b[0m\u001b[37m\u001b[0m \u001b[1m2s\u001b[0m 11ms/step - dense_2_loss: 0.5230 - dense_3_loss: 0.2085 - dense_4_loss: 0.0760 - loss: 0.8074\n",
      "Epoch 177/500\n",
      "\u001b[1m163/163\u001b[0m \u001b[32m━━━━━━━━━━━━━━━━━━━━\u001b[0m\u001b[37m\u001b[0m \u001b[1m2s\u001b[0m 10ms/step - dense_2_loss: 0.5730 - dense_3_loss: 0.2152 - dense_4_loss: 0.0786 - loss: 0.8668\n",
      "Epoch 178/500\n",
      "\u001b[1m163/163\u001b[0m \u001b[32m━━━━━━━━━━━━━━━━━━━━\u001b[0m\u001b[37m\u001b[0m \u001b[1m2s\u001b[0m 10ms/step - dense_2_loss: 0.4918 - dense_3_loss: 0.1701 - dense_4_loss: 0.0663 - loss: 0.7282\n",
      "Epoch 179/500\n",
      "\u001b[1m163/163\u001b[0m \u001b[32m━━━━━━━━━━━━━━━━━━━━\u001b[0m\u001b[37m\u001b[0m \u001b[1m2s\u001b[0m 10ms/step - dense_2_loss: 0.7056 - dense_3_loss: 0.2371 - dense_4_loss: 0.0768 - loss: 1.0196\n",
      "Epoch 180/500\n",
      "\u001b[1m163/163\u001b[0m \u001b[32m━━━━━━━━━━━━━━━━━━━━\u001b[0m\u001b[37m\u001b[0m \u001b[1m2s\u001b[0m 10ms/step - dense_2_loss: 0.4419 - dense_3_loss: 0.2122 - dense_4_loss: 0.0713 - loss: 0.7255\n",
      "Epoch 181/500\n",
      "\u001b[1m163/163\u001b[0m \u001b[32m━━━━━━━━━━━━━━━━━━━━\u001b[0m\u001b[37m\u001b[0m \u001b[1m2s\u001b[0m 9ms/step - dense_2_loss: 0.6679 - dense_3_loss: 0.2960 - dense_4_loss: 0.1100 - loss: 1.0738\n",
      "Epoch 182/500\n",
      "\u001b[1m163/163\u001b[0m \u001b[32m━━━━━━━━━━━━━━━━━━━━\u001b[0m\u001b[37m\u001b[0m \u001b[1m3s\u001b[0m 14ms/step - dense_2_loss: 0.6317 - dense_3_loss: 0.2656 - dense_4_loss: 0.0773 - loss: 0.9746\n",
      "Epoch 183/500\n",
      "\u001b[1m163/163\u001b[0m \u001b[32m━━━━━━━━━━━━━━━━━━━━\u001b[0m\u001b[37m\u001b[0m \u001b[1m2s\u001b[0m 10ms/step - dense_2_loss: 0.4530 - dense_3_loss: 0.1999 - dense_4_loss: 0.0713 - loss: 0.7241\n",
      "Epoch 184/500\n",
      "\u001b[1m163/163\u001b[0m \u001b[32m━━━━━━━━━━━━━━━━━━━━\u001b[0m\u001b[37m\u001b[0m \u001b[1m2s\u001b[0m 6ms/step - dense_2_loss: 0.6298 - dense_3_loss: 0.2623 - dense_4_loss: 0.0733 - loss: 0.9654\n",
      "Epoch 185/500\n",
      "\u001b[1m163/163\u001b[0m \u001b[32m━━━━━━━━━━━━━━━━━━━━\u001b[0m\u001b[37m\u001b[0m \u001b[1m1s\u001b[0m 6ms/step - dense_2_loss: 0.5522 - dense_3_loss: 0.2630 - dense_4_loss: 0.0754 - loss: 0.8907\n",
      "Epoch 186/500\n",
      "\u001b[1m163/163\u001b[0m \u001b[32m━━━━━━━━━━━━━━━━━━━━\u001b[0m\u001b[37m\u001b[0m \u001b[1m1s\u001b[0m 7ms/step - dense_2_loss: 0.5088 - dense_3_loss: 0.2442 - dense_4_loss: 0.0819 - loss: 0.8349\n",
      "Epoch 187/500\n",
      "\u001b[1m163/163\u001b[0m \u001b[32m━━━━━━━━━━━━━━━━━━━━\u001b[0m\u001b[37m\u001b[0m \u001b[1m1s\u001b[0m 6ms/step - dense_2_loss: 0.5874 - dense_3_loss: 0.2024 - dense_4_loss: 0.0763 - loss: 0.8661\n",
      "Epoch 188/500\n",
      "\u001b[1m163/163\u001b[0m \u001b[32m━━━━━━━━━━━━━━━━━━━━\u001b[0m\u001b[37m\u001b[0m \u001b[1m1s\u001b[0m 7ms/step - dense_2_loss: 0.4917 - dense_3_loss: 0.2185 - dense_4_loss: 0.0900 - loss: 0.8003\n",
      "Epoch 189/500\n",
      "\u001b[1m163/163\u001b[0m \u001b[32m━━━━━━━━━━━━━━━━━━━━\u001b[0m\u001b[37m\u001b[0m \u001b[1m1s\u001b[0m 6ms/step - dense_2_loss: 0.5000 - dense_3_loss: 0.2121 - dense_4_loss: 0.0727 - loss: 0.7847\n",
      "Epoch 190/500\n",
      "\u001b[1m163/163\u001b[0m \u001b[32m━━━━━━━━━━━━━━━━━━━━\u001b[0m\u001b[37m\u001b[0m \u001b[1m1s\u001b[0m 5ms/step - dense_2_loss: 0.6896 - dense_3_loss: 0.2464 - dense_4_loss: 0.0710 - loss: 1.0070\n",
      "Epoch 191/500\n",
      "\u001b[1m163/163\u001b[0m \u001b[32m━━━━━━━━━━━━━━━━━━━━\u001b[0m\u001b[37m\u001b[0m \u001b[1m1s\u001b[0m 6ms/step - dense_2_loss: 0.5307 - dense_3_loss: 0.2016 - dense_4_loss: 0.0861 - loss: 0.8185\n",
      "Epoch 192/500\n",
      "\u001b[1m163/163\u001b[0m \u001b[32m━━━━━━━━━━━━━━━━━━━━\u001b[0m\u001b[37m\u001b[0m \u001b[1m1s\u001b[0m 5ms/step - dense_2_loss: 0.9242 - dense_3_loss: 0.3553 - dense_4_loss: 0.0935 - loss: 1.3730\n",
      "Epoch 193/500\n",
      "\u001b[1m163/163\u001b[0m \u001b[32m━━━━━━━━━━━━━━━━━━━━\u001b[0m\u001b[37m\u001b[0m \u001b[1m1s\u001b[0m 5ms/step - dense_2_loss: 0.5701 - dense_3_loss: 0.2030 - dense_4_loss: 0.0790 - loss: 0.8521\n",
      "Epoch 194/500\n",
      "\u001b[1m163/163\u001b[0m \u001b[32m━━━━━━━━━━━━━━━━━━━━\u001b[0m\u001b[37m\u001b[0m \u001b[1m1s\u001b[0m 6ms/step - dense_2_loss: 0.6135 - dense_3_loss: 0.2104 - dense_4_loss: 0.0838 - loss: 0.9077\n",
      "Epoch 195/500\n",
      "\u001b[1m163/163\u001b[0m \u001b[32m━━━━━━━━━━━━━━━━━━━━\u001b[0m\u001b[37m\u001b[0m \u001b[1m1s\u001b[0m 6ms/step - dense_2_loss: 0.6105 - dense_3_loss: 0.2907 - dense_4_loss: 0.0776 - loss: 0.9787\n",
      "Epoch 196/500\n",
      "\u001b[1m163/163\u001b[0m \u001b[32m━━━━━━━━━━━━━━━━━━━━\u001b[0m\u001b[37m\u001b[0m \u001b[1m1s\u001b[0m 5ms/step - dense_2_loss: 0.7702 - dense_3_loss: 0.2172 - dense_4_loss: 0.0901 - loss: 1.0775\n",
      "Epoch 197/500\n",
      "\u001b[1m163/163\u001b[0m \u001b[32m━━━━━━━━━━━━━━━━━━━━\u001b[0m\u001b[37m\u001b[0m \u001b[1m1s\u001b[0m 5ms/step - dense_2_loss: 0.5040 - dense_3_loss: 0.1986 - dense_4_loss: 0.0731 - loss: 0.7758\n",
      "Epoch 198/500\n",
      "\u001b[1m163/163\u001b[0m \u001b[32m━━━━━━━━━━━━━━━━━━━━\u001b[0m\u001b[37m\u001b[0m \u001b[1m1s\u001b[0m 5ms/step - dense_2_loss: 0.5594 - dense_3_loss: 0.2438 - dense_4_loss: 0.0933 - loss: 0.8965\n",
      "Epoch 199/500\n",
      "\u001b[1m163/163\u001b[0m \u001b[32m━━━━━━━━━━━━━━━━━━━━\u001b[0m\u001b[37m\u001b[0m \u001b[1m1s\u001b[0m 6ms/step - dense_2_loss: 0.5297 - dense_3_loss: 0.2229 - dense_4_loss: 0.0863 - loss: 0.8389\n",
      "Epoch 200/500\n",
      "\u001b[1m163/163\u001b[0m \u001b[32m━━━━━━━━━━━━━━━━━━━━\u001b[0m\u001b[37m\u001b[0m \u001b[1m1s\u001b[0m 6ms/step - dense_2_loss: 0.4364 - dense_3_loss: 0.1965 - dense_4_loss: 0.0878 - loss: 0.7207\n",
      "Epoch 201/500\n",
      "\u001b[1m163/163\u001b[0m \u001b[32m━━━━━━━━━━━━━━━━━━━━\u001b[0m\u001b[37m\u001b[0m \u001b[1m1s\u001b[0m 5ms/step - dense_2_loss: 0.6415 - dense_3_loss: 0.2476 - dense_4_loss: 0.0825 - loss: 0.9716\n",
      "Epoch 202/500\n",
      "\u001b[1m163/163\u001b[0m \u001b[32m━━━━━━━━━━━━━━━━━━━━\u001b[0m\u001b[37m\u001b[0m \u001b[1m1s\u001b[0m 5ms/step - dense_2_loss: 0.5579 - dense_3_loss: 0.2350 - dense_4_loss: 0.0881 - loss: 0.8810\n",
      "Epoch 203/500\n",
      "\u001b[1m163/163\u001b[0m \u001b[32m━━━━━━━━━━━━━━━━━━━━\u001b[0m\u001b[37m\u001b[0m \u001b[1m1s\u001b[0m 7ms/step - dense_2_loss: 0.5627 - dense_3_loss: 0.2326 - dense_4_loss: 0.0817 - loss: 0.8769\n",
      "Epoch 204/500\n",
      "\u001b[1m163/163\u001b[0m \u001b[32m━━━━━━━━━━━━━━━━━━━━\u001b[0m\u001b[37m\u001b[0m \u001b[1m1s\u001b[0m 6ms/step - dense_2_loss: 0.9136 - dense_3_loss: 0.4365 - dense_4_loss: 0.0817 - loss: 1.4319\n",
      "Epoch 205/500\n",
      "\u001b[1m163/163\u001b[0m \u001b[32m━━━━━━━━━━━━━━━━━━━━\u001b[0m\u001b[37m\u001b[0m \u001b[1m1s\u001b[0m 5ms/step - dense_2_loss: 0.6605 - dense_3_loss: 0.2478 - dense_4_loss: 0.0696 - loss: 0.9779\n",
      "Epoch 206/500\n",
      "\u001b[1m163/163\u001b[0m \u001b[32m━━━━━━━━━━━━━━━━━━━━\u001b[0m\u001b[37m\u001b[0m \u001b[1m1s\u001b[0m 5ms/step - dense_2_loss: 0.5741 - dense_3_loss: 0.1926 - dense_4_loss: 0.0809 - loss: 0.8476\n",
      "Epoch 207/500\n",
      "\u001b[1m163/163\u001b[0m \u001b[32m━━━━━━━━━━━━━━━━━━━━\u001b[0m\u001b[37m\u001b[0m \u001b[1m1s\u001b[0m 5ms/step - dense_2_loss: 0.6246 - dense_3_loss: 0.2190 - dense_4_loss: 0.0734 - loss: 0.9170\n",
      "Epoch 208/500\n",
      "\u001b[1m163/163\u001b[0m \u001b[32m━━━━━━━━━━━━━━━━━━━━\u001b[0m\u001b[37m\u001b[0m \u001b[1m1s\u001b[0m 5ms/step - dense_2_loss: 0.4833 - dense_3_loss: 0.2028 - dense_4_loss: 0.0765 - loss: 0.7625\n",
      "Epoch 209/500\n",
      "\u001b[1m163/163\u001b[0m \u001b[32m━━━━━━━━━━━━━━━━━━━━\u001b[0m\u001b[37m\u001b[0m \u001b[1m1s\u001b[0m 5ms/step - dense_2_loss: 0.6886 - dense_3_loss: 0.2337 - dense_4_loss: 0.0924 - loss: 1.0147\n",
      "Epoch 210/500\n",
      "\u001b[1m163/163\u001b[0m \u001b[32m━━━━━━━━━━━━━━━━━━━━\u001b[0m\u001b[37m\u001b[0m \u001b[1m1s\u001b[0m 6ms/step - dense_2_loss: 0.4836 - dense_3_loss: 0.2080 - dense_4_loss: 0.0798 - loss: 0.7714\n",
      "Epoch 211/500\n",
      "\u001b[1m163/163\u001b[0m \u001b[32m━━━━━━━━━━━━━━━━━━━━\u001b[0m\u001b[37m\u001b[0m \u001b[1m1s\u001b[0m 6ms/step - dense_2_loss: 0.4205 - dense_3_loss: 0.2039 - dense_4_loss: 0.0809 - loss: 0.7053\n",
      "Epoch 212/500\n",
      "\u001b[1m163/163\u001b[0m \u001b[32m━━━━━━━━━━━━━━━━━━━━\u001b[0m\u001b[37m\u001b[0m \u001b[1m1s\u001b[0m 6ms/step - dense_2_loss: 0.5642 - dense_3_loss: 0.1924 - dense_4_loss: 0.0728 - loss: 0.8294\n",
      "Epoch 213/500\n",
      "\u001b[1m163/163\u001b[0m \u001b[32m━━━━━━━━━━━━━━━━━━━━\u001b[0m\u001b[37m\u001b[0m \u001b[1m1s\u001b[0m 6ms/step - dense_2_loss: 0.8445 - dense_3_loss: 0.3275 - dense_4_loss: 0.0802 - loss: 1.2522\n",
      "Epoch 214/500\n",
      "\u001b[1m163/163\u001b[0m \u001b[32m━━━━━━━━━━━━━━━━━━━━\u001b[0m\u001b[37m\u001b[0m \u001b[1m1s\u001b[0m 5ms/step - dense_2_loss: 0.5951 - dense_3_loss: 0.1903 - dense_4_loss: 0.0934 - loss: 0.8788\n",
      "Epoch 215/500\n",
      "\u001b[1m163/163\u001b[0m \u001b[32m━━━━━━━━━━━━━━━━━━━━\u001b[0m\u001b[37m\u001b[0m \u001b[1m1s\u001b[0m 6ms/step - dense_2_loss: 0.4798 - dense_3_loss: 0.2524 - dense_4_loss: 0.0808 - loss: 0.8130\n",
      "Epoch 216/500\n",
      "\u001b[1m163/163\u001b[0m \u001b[32m━━━━━━━━━━━━━━━━━━━━\u001b[0m\u001b[37m\u001b[0m \u001b[1m1s\u001b[0m 5ms/step - dense_2_loss: 0.7208 - dense_3_loss: 0.3281 - dense_4_loss: 0.0671 - loss: 1.1160\n",
      "Epoch 217/500\n",
      "\u001b[1m163/163\u001b[0m \u001b[32m━━━━━━━━━━━━━━━━━━━━\u001b[0m\u001b[37m\u001b[0m \u001b[1m1s\u001b[0m 5ms/step - dense_2_loss: 0.7607 - dense_3_loss: 0.3561 - dense_4_loss: 0.0749 - loss: 1.1917\n",
      "Epoch 218/500\n",
      "\u001b[1m163/163\u001b[0m \u001b[32m━━━━━━━━━━━━━━━━━━━━\u001b[0m\u001b[37m\u001b[0m \u001b[1m1s\u001b[0m 5ms/step - dense_2_loss: 0.6462 - dense_3_loss: 0.2450 - dense_4_loss: 0.0989 - loss: 0.9902\n",
      "Epoch 219/500\n",
      "\u001b[1m163/163\u001b[0m \u001b[32m━━━━━━━━━━━━━━━━━━━━\u001b[0m\u001b[37m\u001b[0m \u001b[1m1s\u001b[0m 5ms/step - dense_2_loss: 0.5129 - dense_3_loss: 0.2202 - dense_4_loss: 0.0839 - loss: 0.8170\n",
      "Epoch 220/500\n",
      "\u001b[1m163/163\u001b[0m \u001b[32m━━━━━━━━━━━━━━━━━━━━\u001b[0m\u001b[37m\u001b[0m \u001b[1m1s\u001b[0m 5ms/step - dense_2_loss: 0.4695 - dense_3_loss: 0.2200 - dense_4_loss: 0.0856 - loss: 0.7751\n",
      "Epoch 221/500\n",
      "\u001b[1m163/163\u001b[0m \u001b[32m━━━━━━━━━━━━━━━━━━━━\u001b[0m\u001b[37m\u001b[0m \u001b[1m1s\u001b[0m 5ms/step - dense_2_loss: 0.6096 - dense_3_loss: 0.2340 - dense_4_loss: 0.0858 - loss: 0.9294\n",
      "Epoch 222/500\n",
      "\u001b[1m163/163\u001b[0m \u001b[32m━━━━━━━━━━━━━━━━━━━━\u001b[0m\u001b[37m\u001b[0m \u001b[1m1s\u001b[0m 5ms/step - dense_2_loss: 0.9754 - dense_3_loss: 0.4256 - dense_4_loss: 0.0898 - loss: 1.4908\n",
      "Epoch 223/500\n",
      "\u001b[1m163/163\u001b[0m \u001b[32m━━━━━━━━━━━━━━━━━━━━\u001b[0m\u001b[37m\u001b[0m \u001b[1m1s\u001b[0m 5ms/step - dense_2_loss: 0.4741 - dense_3_loss: 0.2155 - dense_4_loss: 0.0821 - loss: 0.7717\n",
      "Epoch 224/500\n",
      "\u001b[1m163/163\u001b[0m \u001b[32m━━━━━━━━━━━━━━━━━━━━\u001b[0m\u001b[37m\u001b[0m \u001b[1m1s\u001b[0m 5ms/step - dense_2_loss: 0.6527 - dense_3_loss: 0.2781 - dense_4_loss: 0.1088 - loss: 1.0396\n",
      "Epoch 225/500\n",
      "\u001b[1m163/163\u001b[0m \u001b[32m━━━━━━━━━━━━━━━━━━━━\u001b[0m\u001b[37m\u001b[0m \u001b[1m1s\u001b[0m 5ms/step - dense_2_loss: 0.4902 - dense_3_loss: 0.1833 - dense_4_loss: 0.0657 - loss: 0.7392\n",
      "Epoch 226/500\n",
      "\u001b[1m163/163\u001b[0m \u001b[32m━━━━━━━━━━━━━━━━━━━━\u001b[0m\u001b[37m\u001b[0m \u001b[1m1s\u001b[0m 5ms/step - dense_2_loss: 0.6987 - dense_3_loss: 0.2612 - dense_4_loss: 0.0865 - loss: 1.0465\n",
      "Epoch 227/500\n",
      "\u001b[1m163/163\u001b[0m \u001b[32m━━━━━━━━━━━━━━━━━━━━\u001b[0m\u001b[37m\u001b[0m \u001b[1m1s\u001b[0m 5ms/step - dense_2_loss: 0.7981 - dense_3_loss: 0.2747 - dense_4_loss: 0.0979 - loss: 1.1707\n",
      "Epoch 228/500\n",
      "\u001b[1m163/163\u001b[0m \u001b[32m━━━━━━━━━━━━━━━━━━━━\u001b[0m\u001b[37m\u001b[0m \u001b[1m1s\u001b[0m 5ms/step - dense_2_loss: 0.4989 - dense_3_loss: 0.2110 - dense_4_loss: 0.0975 - loss: 0.8074\n",
      "Epoch 229/500\n",
      "\u001b[1m163/163\u001b[0m \u001b[32m━━━━━━━━━━━━━━━━━━━━\u001b[0m\u001b[37m\u001b[0m \u001b[1m1s\u001b[0m 5ms/step - dense_2_loss: 0.6012 - dense_3_loss: 0.2116 - dense_4_loss: 0.0803 - loss: 0.8930\n",
      "Epoch 230/500\n",
      "\u001b[1m163/163\u001b[0m \u001b[32m━━━━━━━━━━━━━━━━━━━━\u001b[0m\u001b[37m\u001b[0m \u001b[1m1s\u001b[0m 5ms/step - dense_2_loss: 0.7364 - dense_3_loss: 0.2233 - dense_4_loss: 0.0999 - loss: 1.0596\n",
      "Epoch 231/500\n",
      "\u001b[1m163/163\u001b[0m \u001b[32m━━━━━━━━━━━━━━━━━━━━\u001b[0m\u001b[37m\u001b[0m \u001b[1m1s\u001b[0m 5ms/step - dense_2_loss: 0.6255 - dense_3_loss: 0.2323 - dense_4_loss: 0.1041 - loss: 0.9618\n",
      "Epoch 232/500\n",
      "\u001b[1m163/163\u001b[0m \u001b[32m━━━━━━━━━━━━━━━━━━━━\u001b[0m\u001b[37m\u001b[0m \u001b[1m1s\u001b[0m 5ms/step - dense_2_loss: 0.4193 - dense_3_loss: 0.1814 - dense_4_loss: 0.0670 - loss: 0.6677\n",
      "Epoch 233/500\n",
      "\u001b[1m163/163\u001b[0m \u001b[32m━━━━━━━━━━━━━━━━━━━━\u001b[0m\u001b[37m\u001b[0m \u001b[1m1s\u001b[0m 5ms/step - dense_2_loss: 0.6095 - dense_3_loss: 0.2768 - dense_4_loss: 0.0948 - loss: 0.9811\n",
      "Epoch 234/500\n",
      "\u001b[1m163/163\u001b[0m \u001b[32m━━━━━━━━━━━━━━━━━━━━\u001b[0m\u001b[37m\u001b[0m \u001b[1m1s\u001b[0m 5ms/step - dense_2_loss: 0.5474 - dense_3_loss: 0.2049 - dense_4_loss: 0.1059 - loss: 0.8582\n",
      "Epoch 235/500\n",
      "\u001b[1m163/163\u001b[0m \u001b[32m━━━━━━━━━━━━━━━━━━━━\u001b[0m\u001b[37m\u001b[0m \u001b[1m1s\u001b[0m 5ms/step - dense_2_loss: 0.8250 - dense_3_loss: 0.3222 - dense_4_loss: 0.0931 - loss: 1.2403\n",
      "Epoch 236/500\n",
      "\u001b[1m163/163\u001b[0m \u001b[32m━━━━━━━━━━━━━━━━━━━━\u001b[0m\u001b[37m\u001b[0m \u001b[1m1s\u001b[0m 5ms/step - dense_2_loss: 0.6906 - dense_3_loss: 0.2001 - dense_4_loss: 0.0865 - loss: 0.9771\n",
      "Epoch 237/500\n",
      "\u001b[1m163/163\u001b[0m \u001b[32m━━━━━━━━━━━━━━━━━━━━\u001b[0m\u001b[37m\u001b[0m \u001b[1m1s\u001b[0m 5ms/step - dense_2_loss: 0.4542 - dense_3_loss: 0.1961 - dense_4_loss: 0.0756 - loss: 0.7259\n",
      "Epoch 238/500\n",
      "\u001b[1m163/163\u001b[0m \u001b[32m━━━━━━━━━━━━━━━━━━━━\u001b[0m\u001b[37m\u001b[0m \u001b[1m1s\u001b[0m 5ms/step - dense_2_loss: 0.4705 - dense_3_loss: 0.1982 - dense_4_loss: 0.1080 - loss: 0.7767\n",
      "Epoch 239/500\n",
      "\u001b[1m163/163\u001b[0m \u001b[32m━━━━━━━━━━━━━━━━━━━━\u001b[0m\u001b[37m\u001b[0m \u001b[1m1s\u001b[0m 5ms/step - dense_2_loss: 0.7084 - dense_3_loss: 0.2425 - dense_4_loss: 0.1231 - loss: 1.0739\n",
      "Epoch 240/500\n",
      "\u001b[1m163/163\u001b[0m \u001b[32m━━━━━━━━━━━━━━━━━━━━\u001b[0m\u001b[37m\u001b[0m \u001b[1m1s\u001b[0m 5ms/step - dense_2_loss: 0.5502 - dense_3_loss: 0.2389 - dense_4_loss: 0.1023 - loss: 0.8914\n",
      "Epoch 241/500\n",
      "\u001b[1m163/163\u001b[0m \u001b[32m━━━━━━━━━━━━━━━━━━━━\u001b[0m\u001b[37m\u001b[0m \u001b[1m1s\u001b[0m 5ms/step - dense_2_loss: 0.4396 - dense_3_loss: 0.1927 - dense_4_loss: 0.0772 - loss: 0.7095\n",
      "Epoch 242/500\n",
      "\u001b[1m163/163\u001b[0m \u001b[32m━━━━━━━━━━━━━━━━━━━━\u001b[0m\u001b[37m\u001b[0m \u001b[1m1s\u001b[0m 5ms/step - dense_2_loss: 0.7093 - dense_3_loss: 0.2767 - dense_4_loss: 0.0861 - loss: 1.0721\n",
      "Epoch 243/500\n",
      "\u001b[1m163/163\u001b[0m \u001b[32m━━━━━━━━━━━━━━━━━━━━\u001b[0m\u001b[37m\u001b[0m \u001b[1m1s\u001b[0m 5ms/step - dense_2_loss: 0.7546 - dense_3_loss: 0.2335 - dense_4_loss: 0.0938 - loss: 1.0819\n",
      "Epoch 244/500\n",
      "\u001b[1m163/163\u001b[0m \u001b[32m━━━━━━━━━━━━━━━━━━━━\u001b[0m\u001b[37m\u001b[0m \u001b[1m1s\u001b[0m 5ms/step - dense_2_loss: 0.5933 - dense_3_loss: 0.2873 - dense_4_loss: 0.0870 - loss: 0.9675\n",
      "Epoch 245/500\n",
      "\u001b[1m163/163\u001b[0m \u001b[32m━━━━━━━━━━━━━━━━━━━━\u001b[0m\u001b[37m\u001b[0m \u001b[1m1s\u001b[0m 5ms/step - dense_2_loss: 0.5277 - dense_3_loss: 0.1800 - dense_4_loss: 0.0832 - loss: 0.7909\n",
      "Epoch 246/500\n",
      "\u001b[1m163/163\u001b[0m \u001b[32m━━━━━━━━━━━━━━━━━━━━\u001b[0m\u001b[37m\u001b[0m \u001b[1m1s\u001b[0m 5ms/step - dense_2_loss: 0.7903 - dense_3_loss: 0.2327 - dense_4_loss: 0.1026 - loss: 1.1256\n",
      "Epoch 247/500\n",
      "\u001b[1m163/163\u001b[0m \u001b[32m━━━━━━━━━━━━━━━━━━━━\u001b[0m\u001b[37m\u001b[0m \u001b[1m1s\u001b[0m 5ms/step - dense_2_loss: 0.4371 - dense_3_loss: 0.2130 - dense_4_loss: 0.0907 - loss: 0.7408\n",
      "Epoch 248/500\n",
      "\u001b[1m163/163\u001b[0m \u001b[32m━━━━━━━━━━━━━━━━━━━━\u001b[0m\u001b[37m\u001b[0m \u001b[1m1s\u001b[0m 5ms/step - dense_2_loss: 0.7218 - dense_3_loss: 0.2164 - dense_4_loss: 0.0796 - loss: 1.0179\n",
      "Epoch 249/500\n",
      "\u001b[1m163/163\u001b[0m \u001b[32m━━━━━━━━━━━━━━━━━━━━\u001b[0m\u001b[37m\u001b[0m \u001b[1m1s\u001b[0m 5ms/step - dense_2_loss: 0.7135 - dense_3_loss: 0.2673 - dense_4_loss: 0.0998 - loss: 1.0806\n",
      "Epoch 250/500\n",
      "\u001b[1m163/163\u001b[0m \u001b[32m━━━━━━━━━━━━━━━━━━━━\u001b[0m\u001b[37m\u001b[0m \u001b[1m1s\u001b[0m 6ms/step - dense_2_loss: 0.7101 - dense_3_loss: 0.3115 - dense_4_loss: 0.0794 - loss: 1.1011\n",
      "Epoch 251/500\n",
      "\u001b[1m163/163\u001b[0m \u001b[32m━━━━━━━━━━━━━━━━━━━━\u001b[0m\u001b[37m\u001b[0m \u001b[1m1s\u001b[0m 5ms/step - dense_2_loss: 0.5011 - dense_3_loss: 0.2033 - dense_4_loss: 0.0758 - loss: 0.7803\n",
      "Epoch 252/500\n",
      "\u001b[1m163/163\u001b[0m \u001b[32m━━━━━━━━━━━━━━━━━━━━\u001b[0m\u001b[37m\u001b[0m \u001b[1m1s\u001b[0m 5ms/step - dense_2_loss: 0.3447 - dense_3_loss: 0.1663 - dense_4_loss: 0.0718 - loss: 0.5828\n",
      "Epoch 253/500\n",
      "\u001b[1m163/163\u001b[0m \u001b[32m━━━━━━━━━━━━━━━━━━━━\u001b[0m\u001b[37m\u001b[0m \u001b[1m1s\u001b[0m 5ms/step - dense_2_loss: 0.5173 - dense_3_loss: 0.2106 - dense_4_loss: 0.0788 - loss: 0.8066\n",
      "Epoch 254/500\n",
      "\u001b[1m163/163\u001b[0m \u001b[32m━━━━━━━━━━━━━━━━━━━━\u001b[0m\u001b[37m\u001b[0m \u001b[1m1s\u001b[0m 5ms/step - dense_2_loss: 0.5029 - dense_3_loss: 0.2029 - dense_4_loss: 0.0809 - loss: 0.7868\n",
      "Epoch 255/500\n",
      "\u001b[1m163/163\u001b[0m \u001b[32m━━━━━━━━━━━━━━━━━━━━\u001b[0m\u001b[37m\u001b[0m \u001b[1m1s\u001b[0m 5ms/step - dense_2_loss: 0.6186 - dense_3_loss: 0.2275 - dense_4_loss: 0.0957 - loss: 0.9419\n",
      "Epoch 256/500\n",
      "\u001b[1m163/163\u001b[0m \u001b[32m━━━━━━━━━━━━━━━━━━━━\u001b[0m\u001b[37m\u001b[0m \u001b[1m1s\u001b[0m 5ms/step - dense_2_loss: 0.6016 - dense_3_loss: 0.2325 - dense_4_loss: 0.0883 - loss: 0.9224\n",
      "Epoch 257/500\n",
      "\u001b[1m163/163\u001b[0m \u001b[32m━━━━━━━━━━━━━━━━━━━━\u001b[0m\u001b[37m\u001b[0m \u001b[1m1s\u001b[0m 5ms/step - dense_2_loss: 0.5033 - dense_3_loss: 0.2176 - dense_4_loss: 0.1029 - loss: 0.8238\n",
      "Epoch 258/500\n",
      "\u001b[1m163/163\u001b[0m \u001b[32m━━━━━━━━━━━━━━━━━━━━\u001b[0m\u001b[37m\u001b[0m \u001b[1m1s\u001b[0m 5ms/step - dense_2_loss: 0.5933 - dense_3_loss: 0.2547 - dense_4_loss: 0.0881 - loss: 0.9361\n",
      "Epoch 259/500\n",
      "\u001b[1m163/163\u001b[0m \u001b[32m━━━━━━━━━━━━━━━━━━━━\u001b[0m\u001b[37m\u001b[0m \u001b[1m1s\u001b[0m 6ms/step - dense_2_loss: 0.6454 - dense_3_loss: 0.1875 - dense_4_loss: 0.0657 - loss: 0.8986\n",
      "Epoch 260/500\n",
      "\u001b[1m163/163\u001b[0m \u001b[32m━━━━━━━━━━━━━━━━━━━━\u001b[0m\u001b[37m\u001b[0m \u001b[1m1s\u001b[0m 6ms/step - dense_2_loss: 0.7711 - dense_3_loss: 0.3448 - dense_4_loss: 0.0945 - loss: 1.2104\n",
      "Epoch 261/500\n",
      "\u001b[1m163/163\u001b[0m \u001b[32m━━━━━━━━━━━━━━━━━━━━\u001b[0m\u001b[37m\u001b[0m \u001b[1m1s\u001b[0m 5ms/step - dense_2_loss: 0.5471 - dense_3_loss: 0.2434 - dense_4_loss: 0.0948 - loss: 0.8853\n",
      "Epoch 262/500\n",
      "\u001b[1m163/163\u001b[0m \u001b[32m━━━━━━━━━━━━━━━━━━━━\u001b[0m\u001b[37m\u001b[0m \u001b[1m1s\u001b[0m 5ms/step - dense_2_loss: 0.5173 - dense_3_loss: 0.2140 - dense_4_loss: 0.1102 - loss: 0.8414\n",
      "Epoch 263/500\n",
      "\u001b[1m163/163\u001b[0m \u001b[32m━━━━━━━━━━━━━━━━━━━━\u001b[0m\u001b[37m\u001b[0m \u001b[1m1s\u001b[0m 5ms/step - dense_2_loss: 0.4517 - dense_3_loss: 0.1910 - dense_4_loss: 0.0795 - loss: 0.7222\n",
      "Epoch 264/500\n",
      "\u001b[1m163/163\u001b[0m \u001b[32m━━━━━━━━━━━━━━━━━━━━\u001b[0m\u001b[37m\u001b[0m \u001b[1m1s\u001b[0m 5ms/step - dense_2_loss: 0.7654 - dense_3_loss: 0.3062 - dense_4_loss: 0.0811 - loss: 1.1528\n",
      "Epoch 265/500\n",
      "\u001b[1m163/163\u001b[0m \u001b[32m━━━━━━━━━━━━━━━━━━━━\u001b[0m\u001b[37m\u001b[0m \u001b[1m1s\u001b[0m 5ms/step - dense_2_loss: 0.8193 - dense_3_loss: 0.2596 - dense_4_loss: 0.1148 - loss: 1.1938\n",
      "Epoch 266/500\n",
      "\u001b[1m163/163\u001b[0m \u001b[32m━━━━━━━━━━━━━━━━━━━━\u001b[0m\u001b[37m\u001b[0m \u001b[1m1s\u001b[0m 5ms/step - dense_2_loss: 0.4701 - dense_3_loss: 0.2029 - dense_4_loss: 0.0751 - loss: 0.7481\n",
      "Epoch 267/500\n",
      "\u001b[1m163/163\u001b[0m \u001b[32m━━━━━━━━━━━━━━━━━━━━\u001b[0m\u001b[37m\u001b[0m \u001b[1m1s\u001b[0m 5ms/step - dense_2_loss: 0.6987 - dense_3_loss: 0.2875 - dense_4_loss: 0.0857 - loss: 1.0720\n",
      "Epoch 268/500\n",
      "\u001b[1m163/163\u001b[0m \u001b[32m━━━━━━━━━━━━━━━━━━━━\u001b[0m\u001b[37m\u001b[0m \u001b[1m1s\u001b[0m 6ms/step - dense_2_loss: 0.5729 - dense_3_loss: 0.2128 - dense_4_loss: 0.0961 - loss: 0.8818\n",
      "Epoch 269/500\n",
      "\u001b[1m163/163\u001b[0m \u001b[32m━━━━━━━━━━━━━━━━━━━━\u001b[0m\u001b[37m\u001b[0m \u001b[1m2s\u001b[0m 9ms/step - dense_2_loss: 0.6340 - dense_3_loss: 0.2867 - dense_4_loss: 0.1063 - loss: 1.0270\n",
      "Epoch 270/500\n",
      "\u001b[1m163/163\u001b[0m \u001b[32m━━━━━━━━━━━━━━━━━━━━\u001b[0m\u001b[37m\u001b[0m \u001b[1m1s\u001b[0m 7ms/step - dense_2_loss: 0.4464 - dense_3_loss: 0.1912 - dense_4_loss: 0.0796 - loss: 0.7172\n",
      "Epoch 271/500\n",
      "\u001b[1m163/163\u001b[0m \u001b[32m━━━━━━━━━━━━━━━━━━━━\u001b[0m\u001b[37m\u001b[0m \u001b[1m1s\u001b[0m 7ms/step - dense_2_loss: 0.6157 - dense_3_loss: 0.3044 - dense_4_loss: 0.0766 - loss: 0.9968\n",
      "Epoch 272/500\n",
      "\u001b[1m163/163\u001b[0m \u001b[32m━━━━━━━━━━━━━━━━━━━━\u001b[0m\u001b[37m\u001b[0m \u001b[1m1s\u001b[0m 9ms/step - dense_2_loss: 0.5129 - dense_3_loss: 0.1892 - dense_4_loss: 0.0932 - loss: 0.7953\n",
      "Epoch 273/500\n",
      "\u001b[1m163/163\u001b[0m \u001b[32m━━━━━━━━━━━━━━━━━━━━\u001b[0m\u001b[37m\u001b[0m \u001b[1m3s\u001b[0m 16ms/step - dense_2_loss: 0.4406 - dense_3_loss: 0.1844 - dense_4_loss: 0.0894 - loss: 0.7143\n",
      "Epoch 274/500\n",
      "\u001b[1m163/163\u001b[0m \u001b[32m━━━━━━━━━━━━━━━━━━━━\u001b[0m\u001b[37m\u001b[0m \u001b[1m3s\u001b[0m 17ms/step - dense_2_loss: 0.5326 - dense_3_loss: 0.1900 - dense_4_loss: 0.0799 - loss: 0.8025\n",
      "Epoch 275/500\n",
      "\u001b[1m163/163\u001b[0m \u001b[32m━━━━━━━━━━━━━━━━━━━━\u001b[0m\u001b[37m\u001b[0m \u001b[1m5s\u001b[0m 16ms/step - dense_2_loss: 0.9518 - dense_3_loss: 0.4517 - dense_4_loss: 0.0997 - loss: 1.5032\n",
      "Epoch 276/500\n",
      "\u001b[1m163/163\u001b[0m \u001b[32m━━━━━━━━━━━━━━━━━━━━\u001b[0m\u001b[37m\u001b[0m \u001b[1m1s\u001b[0m 9ms/step - dense_2_loss: 0.5639 - dense_3_loss: 0.2204 - dense_4_loss: 0.0829 - loss: 0.8672\n",
      "Epoch 277/500\n",
      "\u001b[1m163/163\u001b[0m \u001b[32m━━━━━━━━━━━━━━━━━━━━\u001b[0m\u001b[37m\u001b[0m \u001b[1m1s\u001b[0m 6ms/step - dense_2_loss: 0.4905 - dense_3_loss: 0.1713 - dense_4_loss: 0.0838 - loss: 0.7454\n",
      "Epoch 278/500\n",
      "\u001b[1m163/163\u001b[0m \u001b[32m━━━━━━━━━━━━━━━━━━━━\u001b[0m\u001b[37m\u001b[0m \u001b[1m1s\u001b[0m 6ms/step - dense_2_loss: 0.6414 - dense_3_loss: 0.2859 - dense_4_loss: 0.1049 - loss: 1.0321\n",
      "Epoch 279/500\n",
      "\u001b[1m163/163\u001b[0m \u001b[32m━━━━━━━━━━━━━━━━━━━━\u001b[0m\u001b[37m\u001b[0m \u001b[1m1s\u001b[0m 5ms/step - dense_2_loss: 0.6656 - dense_3_loss: 0.3280 - dense_4_loss: 0.0792 - loss: 1.0728\n",
      "Epoch 280/500\n",
      "\u001b[1m163/163\u001b[0m \u001b[32m━━━━━━━━━━━━━━━━━━━━\u001b[0m\u001b[37m\u001b[0m \u001b[1m1s\u001b[0m 5ms/step - dense_2_loss: 0.9230 - dense_3_loss: 0.3631 - dense_4_loss: 0.0976 - loss: 1.3838\n",
      "Epoch 281/500\n",
      "\u001b[1m163/163\u001b[0m \u001b[32m━━━━━━━━━━━━━━━━━━━━\u001b[0m\u001b[37m\u001b[0m \u001b[1m2s\u001b[0m 7ms/step - dense_2_loss: 0.4639 - dense_3_loss: 0.1920 - dense_4_loss: 0.0812 - loss: 0.7370\n",
      "Epoch 282/500\n",
      "\u001b[1m163/163\u001b[0m \u001b[32m━━━━━━━━━━━━━━━━━━━━\u001b[0m\u001b[37m\u001b[0m \u001b[1m1s\u001b[0m 6ms/step - dense_2_loss: 0.8603 - dense_3_loss: 0.3699 - dense_4_loss: 0.0839 - loss: 1.3141\n",
      "Epoch 283/500\n",
      "\u001b[1m163/163\u001b[0m \u001b[32m━━━━━━━━━━━━━━━━━━━━\u001b[0m\u001b[37m\u001b[0m \u001b[1m1s\u001b[0m 8ms/step - dense_2_loss: 0.5976 - dense_3_loss: 0.2047 - dense_4_loss: 0.0865 - loss: 0.8889\n",
      "Epoch 284/500\n",
      "\u001b[1m163/163\u001b[0m \u001b[32m━━━━━━━━━━━━━━━━━━━━\u001b[0m\u001b[37m\u001b[0m \u001b[1m2s\u001b[0m 12ms/step - dense_2_loss: 0.5084 - dense_3_loss: 0.1851 - dense_4_loss: 0.0766 - loss: 0.7700\n",
      "Epoch 285/500\n",
      "\u001b[1m163/163\u001b[0m \u001b[32m━━━━━━━━━━━━━━━━━━━━\u001b[0m\u001b[37m\u001b[0m \u001b[1m3s\u001b[0m 13ms/step - dense_2_loss: 0.6142 - dense_3_loss: 0.2572 - dense_4_loss: 0.0947 - loss: 0.9660\n",
      "Epoch 286/500\n",
      "\u001b[1m163/163\u001b[0m \u001b[32m━━━━━━━━━━━━━━━━━━━━\u001b[0m\u001b[37m\u001b[0m \u001b[1m2s\u001b[0m 12ms/step - dense_2_loss: 0.5717 - dense_3_loss: 0.2243 - dense_4_loss: 0.0908 - loss: 0.8867\n",
      "Epoch 287/500\n",
      "\u001b[1m163/163\u001b[0m \u001b[32m━━━━━━━━━━━━━━━━━━━━\u001b[0m\u001b[37m\u001b[0m \u001b[1m3s\u001b[0m 12ms/step - dense_2_loss: 0.7138 - dense_3_loss: 0.2607 - dense_4_loss: 0.0833 - loss: 1.0578\n",
      "Epoch 288/500\n",
      "\u001b[1m163/163\u001b[0m \u001b[32m━━━━━━━━━━━━━━━━━━━━\u001b[0m\u001b[37m\u001b[0m \u001b[1m2s\u001b[0m 7ms/step - dense_2_loss: 0.4687 - dense_3_loss: 0.2021 - dense_4_loss: 0.0713 - loss: 0.7422\n",
      "Epoch 289/500\n",
      "\u001b[1m163/163\u001b[0m \u001b[32m━━━━━━━━━━━━━━━━━━━━\u001b[0m\u001b[37m\u001b[0m \u001b[1m1s\u001b[0m 6ms/step - dense_2_loss: 0.5832 - dense_3_loss: 0.2335 - dense_4_loss: 0.1012 - loss: 0.9179\n",
      "Epoch 290/500\n",
      "\u001b[1m163/163\u001b[0m \u001b[32m━━━━━━━━━━━━━━━━━━━━\u001b[0m\u001b[37m\u001b[0m \u001b[1m1s\u001b[0m 6ms/step - dense_2_loss: 0.5083 - dense_3_loss: 0.1887 - dense_4_loss: 0.0931 - loss: 0.7901\n",
      "Epoch 291/500\n",
      "\u001b[1m163/163\u001b[0m \u001b[32m━━━━━━━━━━━━━━━━━━━━\u001b[0m\u001b[37m\u001b[0m \u001b[1m1s\u001b[0m 6ms/step - dense_2_loss: 0.5252 - dense_3_loss: 0.2201 - dense_4_loss: 0.0841 - loss: 0.8294\n",
      "Epoch 292/500\n",
      "\u001b[1m163/163\u001b[0m \u001b[32m━━━━━━━━━━━━━━━━━━━━\u001b[0m\u001b[37m\u001b[0m \u001b[1m1s\u001b[0m 7ms/step - dense_2_loss: 0.7842 - dense_3_loss: 0.2759 - dense_4_loss: 0.0963 - loss: 1.1564\n",
      "Epoch 293/500\n",
      "\u001b[1m163/163\u001b[0m \u001b[32m━━━━━━━━━━━━━━━━━━━━\u001b[0m\u001b[37m\u001b[0m \u001b[1m1s\u001b[0m 6ms/step - dense_2_loss: 0.6354 - dense_3_loss: 0.2163 - dense_4_loss: 0.0862 - loss: 0.9378\n",
      "Epoch 294/500\n",
      "\u001b[1m163/163\u001b[0m \u001b[32m━━━━━━━━━━━━━━━━━━━━\u001b[0m\u001b[37m\u001b[0m \u001b[1m1s\u001b[0m 6ms/step - dense_2_loss: 0.7918 - dense_3_loss: 0.3023 - dense_4_loss: 0.0911 - loss: 1.1852\n",
      "Epoch 295/500\n",
      "\u001b[1m163/163\u001b[0m \u001b[32m━━━━━━━━━━━━━━━━━━━━\u001b[0m\u001b[37m\u001b[0m \u001b[1m1s\u001b[0m 6ms/step - dense_2_loss: 0.4799 - dense_3_loss: 0.1829 - dense_4_loss: 0.0806 - loss: 0.7435\n",
      "Epoch 296/500\n",
      "\u001b[1m163/163\u001b[0m \u001b[32m━━━━━━━━━━━━━━━━━━━━\u001b[0m\u001b[37m\u001b[0m \u001b[1m1s\u001b[0m 6ms/step - dense_2_loss: 0.6192 - dense_3_loss: 0.2264 - dense_4_loss: 0.0818 - loss: 0.9274\n",
      "Epoch 297/500\n",
      "\u001b[1m163/163\u001b[0m \u001b[32m━━━━━━━━━━━━━━━━━━━━\u001b[0m\u001b[37m\u001b[0m \u001b[1m1s\u001b[0m 6ms/step - dense_2_loss: 0.6081 - dense_3_loss: 0.2139 - dense_4_loss: 0.0864 - loss: 0.9084\n",
      "Epoch 298/500\n",
      "\u001b[1m163/163\u001b[0m \u001b[32m━━━━━━━━━━━━━━━━━━━━\u001b[0m\u001b[37m\u001b[0m \u001b[1m1s\u001b[0m 6ms/step - dense_2_loss: 0.5187 - dense_3_loss: 0.2549 - dense_4_loss: 0.0767 - loss: 0.8502\n",
      "Epoch 299/500\n",
      "\u001b[1m163/163\u001b[0m \u001b[32m━━━━━━━━━━━━━━━━━━━━\u001b[0m\u001b[37m\u001b[0m \u001b[1m1s\u001b[0m 6ms/step - dense_2_loss: 0.8224 - dense_3_loss: 0.3648 - dense_4_loss: 0.1064 - loss: 1.2936\n",
      "Epoch 300/500\n",
      "\u001b[1m163/163\u001b[0m \u001b[32m━━━━━━━━━━━━━━━━━━━━\u001b[0m\u001b[37m\u001b[0m \u001b[1m1s\u001b[0m 6ms/step - dense_2_loss: 0.5494 - dense_3_loss: 0.1897 - dense_4_loss: 0.0903 - loss: 0.8293\n",
      "Epoch 301/500\n",
      "\u001b[1m163/163\u001b[0m \u001b[32m━━━━━━━━━━━━━━━━━━━━\u001b[0m\u001b[37m\u001b[0m \u001b[1m1s\u001b[0m 6ms/step - dense_2_loss: 0.7578 - dense_3_loss: 0.2783 - dense_4_loss: 0.0859 - loss: 1.1221\n",
      "Epoch 302/500\n",
      "\u001b[1m163/163\u001b[0m \u001b[32m━━━━━━━━━━━━━━━━━━━━\u001b[0m\u001b[37m\u001b[0m \u001b[1m1s\u001b[0m 8ms/step - dense_2_loss: 0.8895 - dense_3_loss: 0.3383 - dense_4_loss: 0.0970 - loss: 1.3247\n",
      "Epoch 303/500\n",
      "\u001b[1m163/163\u001b[0m \u001b[32m━━━━━━━━━━━━━━━━━━━━\u001b[0m\u001b[37m\u001b[0m \u001b[1m1s\u001b[0m 7ms/step - dense_2_loss: 0.5636 - dense_3_loss: 0.2337 - dense_4_loss: 0.0865 - loss: 0.8838\n",
      "Epoch 304/500\n",
      "\u001b[1m163/163\u001b[0m \u001b[32m━━━━━━━━━━━━━━━━━━━━\u001b[0m\u001b[37m\u001b[0m \u001b[1m1s\u001b[0m 8ms/step - dense_2_loss: 0.6119 - dense_3_loss: 0.1877 - dense_4_loss: 0.0912 - loss: 0.8909\n",
      "Epoch 305/500\n",
      "\u001b[1m163/163\u001b[0m \u001b[32m━━━━━━━━━━━━━━━━━━━━\u001b[0m\u001b[37m\u001b[0m \u001b[1m1s\u001b[0m 6ms/step - dense_2_loss: 0.5605 - dense_3_loss: 0.2256 - dense_4_loss: 0.0727 - loss: 0.8588\n",
      "Epoch 306/500\n",
      "\u001b[1m163/163\u001b[0m \u001b[32m━━━━━━━━━━━━━━━━━━━━\u001b[0m\u001b[37m\u001b[0m \u001b[1m1s\u001b[0m 5ms/step - dense_2_loss: 0.6456 - dense_3_loss: 0.3197 - dense_4_loss: 0.0913 - loss: 1.0566\n",
      "Epoch 307/500\n",
      "\u001b[1m163/163\u001b[0m \u001b[32m━━━━━━━━━━━━━━━━━━━━\u001b[0m\u001b[37m\u001b[0m \u001b[1m1s\u001b[0m 5ms/step - dense_2_loss: 0.5267 - dense_3_loss: 0.2082 - dense_4_loss: 0.0987 - loss: 0.8336\n",
      "Epoch 308/500\n",
      "\u001b[1m163/163\u001b[0m \u001b[32m━━━━━━━━━━━━━━━━━━━━\u001b[0m\u001b[37m\u001b[0m \u001b[1m1s\u001b[0m 6ms/step - dense_2_loss: 0.6386 - dense_3_loss: 0.1969 - dense_4_loss: 0.1033 - loss: 0.9388\n",
      "Epoch 309/500\n",
      "\u001b[1m163/163\u001b[0m \u001b[32m━━━━━━━━━━━━━━━━━━━━\u001b[0m\u001b[37m\u001b[0m \u001b[1m1s\u001b[0m 5ms/step - dense_2_loss: 0.5151 - dense_3_loss: 0.2068 - dense_4_loss: 0.0870 - loss: 0.8089\n",
      "Epoch 310/500\n",
      "\u001b[1m163/163\u001b[0m \u001b[32m━━━━━━━━━━━━━━━━━━━━\u001b[0m\u001b[37m\u001b[0m \u001b[1m1s\u001b[0m 5ms/step - dense_2_loss: 0.6674 - dense_3_loss: 0.2625 - dense_4_loss: 0.0755 - loss: 1.0054\n",
      "Epoch 311/500\n",
      "\u001b[1m163/163\u001b[0m \u001b[32m━━━━━━━━━━━━━━━━━━━━\u001b[0m\u001b[37m\u001b[0m \u001b[1m1s\u001b[0m 5ms/step - dense_2_loss: 0.6204 - dense_3_loss: 0.2485 - dense_4_loss: 0.1118 - loss: 0.9807\n",
      "Epoch 312/500\n",
      "\u001b[1m163/163\u001b[0m \u001b[32m━━━━━━━━━━━━━━━━━━━━\u001b[0m\u001b[37m\u001b[0m \u001b[1m1s\u001b[0m 5ms/step - dense_2_loss: 0.8566 - dense_3_loss: 0.3521 - dense_4_loss: 0.1101 - loss: 1.3188\n",
      "Epoch 313/500\n",
      "\u001b[1m163/163\u001b[0m \u001b[32m━━━━━━━━━━━━━━━━━━━━\u001b[0m\u001b[37m\u001b[0m \u001b[1m1s\u001b[0m 5ms/step - dense_2_loss: 0.9261 - dense_3_loss: 0.4301 - dense_4_loss: 0.0973 - loss: 1.4535\n",
      "Epoch 314/500\n",
      "\u001b[1m163/163\u001b[0m \u001b[32m━━━━━━━━━━━━━━━━━━━━\u001b[0m\u001b[37m\u001b[0m \u001b[1m1s\u001b[0m 6ms/step - dense_2_loss: 0.5971 - dense_3_loss: 0.2109 - dense_4_loss: 0.0765 - loss: 0.8845\n",
      "Epoch 315/500\n",
      "\u001b[1m163/163\u001b[0m \u001b[32m━━━━━━━━━━━━━━━━━━━━\u001b[0m\u001b[37m\u001b[0m \u001b[1m1s\u001b[0m 5ms/step - dense_2_loss: 0.5134 - dense_3_loss: 0.1482 - dense_4_loss: 0.0740 - loss: 0.7357\n",
      "Epoch 316/500\n",
      "\u001b[1m163/163\u001b[0m \u001b[32m━━━━━━━━━━━━━━━━━━━━\u001b[0m\u001b[37m\u001b[0m \u001b[1m1s\u001b[0m 5ms/step - dense_2_loss: 0.6883 - dense_3_loss: 0.2635 - dense_4_loss: 0.0964 - loss: 1.0482\n",
      "Epoch 317/500\n",
      "\u001b[1m163/163\u001b[0m \u001b[32m━━━━━━━━━━━━━━━━━━━━\u001b[0m\u001b[37m\u001b[0m \u001b[1m1s\u001b[0m 6ms/step - dense_2_loss: 0.5450 - dense_3_loss: 0.2574 - dense_4_loss: 0.0850 - loss: 0.8874\n",
      "Epoch 318/500\n",
      "\u001b[1m163/163\u001b[0m \u001b[32m━━━━━━━━━━━━━━━━━━━━\u001b[0m\u001b[37m\u001b[0m \u001b[1m1s\u001b[0m 5ms/step - dense_2_loss: 0.5141 - dense_3_loss: 0.1952 - dense_4_loss: 0.0781 - loss: 0.7874\n",
      "Epoch 319/500\n",
      "\u001b[1m163/163\u001b[0m \u001b[32m━━━━━━━━━━━━━━━━━━━━\u001b[0m\u001b[37m\u001b[0m \u001b[1m1s\u001b[0m 5ms/step - dense_2_loss: 0.4606 - dense_3_loss: 0.1683 - dense_4_loss: 0.0738 - loss: 0.7027\n",
      "Epoch 320/500\n",
      "\u001b[1m163/163\u001b[0m \u001b[32m━━━━━━━━━━━━━━━━━━━━\u001b[0m\u001b[37m\u001b[0m \u001b[1m1s\u001b[0m 5ms/step - dense_2_loss: 0.8062 - dense_3_loss: 0.3319 - dense_4_loss: 0.0998 - loss: 1.2378\n",
      "Epoch 321/500\n",
      "\u001b[1m163/163\u001b[0m \u001b[32m━━━━━━━━━━━━━━━━━━━━\u001b[0m\u001b[37m\u001b[0m \u001b[1m1s\u001b[0m 5ms/step - dense_2_loss: 0.5611 - dense_3_loss: 0.2295 - dense_4_loss: 0.0898 - loss: 0.8804\n",
      "Epoch 322/500\n",
      "\u001b[1m163/163\u001b[0m \u001b[32m━━━━━━━━━━━━━━━━━━━━\u001b[0m\u001b[37m\u001b[0m \u001b[1m1s\u001b[0m 6ms/step - dense_2_loss: 0.6037 - dense_3_loss: 0.2302 - dense_4_loss: 0.0803 - loss: 0.9141\n",
      "Epoch 323/500\n",
      "\u001b[1m163/163\u001b[0m \u001b[32m━━━━━━━━━━━━━━━━━━━━\u001b[0m\u001b[37m\u001b[0m \u001b[1m1s\u001b[0m 6ms/step - dense_2_loss: 0.5574 - dense_3_loss: 0.2460 - dense_4_loss: 0.0918 - loss: 0.8953\n",
      "Epoch 324/500\n",
      "\u001b[1m163/163\u001b[0m \u001b[32m━━━━━━━━━━━━━━━━━━━━\u001b[0m\u001b[37m\u001b[0m \u001b[1m1s\u001b[0m 5ms/step - dense_2_loss: 0.5808 - dense_3_loss: 0.2350 - dense_4_loss: 0.1022 - loss: 0.9181\n",
      "Epoch 325/500\n",
      "\u001b[1m163/163\u001b[0m \u001b[32m━━━━━━━━━━━━━━━━━━━━\u001b[0m\u001b[37m\u001b[0m \u001b[1m1s\u001b[0m 5ms/step - dense_2_loss: 0.4883 - dense_3_loss: 0.2260 - dense_4_loss: 0.0835 - loss: 0.7978\n",
      "Epoch 326/500\n",
      "\u001b[1m163/163\u001b[0m \u001b[32m━━━━━━━━━━━━━━━━━━━━\u001b[0m\u001b[37m\u001b[0m \u001b[1m1s\u001b[0m 6ms/step - dense_2_loss: 0.5540 - dense_3_loss: 0.1907 - dense_4_loss: 0.0956 - loss: 0.8403\n",
      "Epoch 327/500\n",
      "\u001b[1m163/163\u001b[0m \u001b[32m━━━━━━━━━━━━━━━━━━━━\u001b[0m\u001b[37m\u001b[0m \u001b[1m1s\u001b[0m 5ms/step - dense_2_loss: 0.6306 - dense_3_loss: 0.2136 - dense_4_loss: 0.0763 - loss: 0.9204\n",
      "Epoch 328/500\n",
      "\u001b[1m163/163\u001b[0m \u001b[32m━━━━━━━━━━━━━━━━━━━━\u001b[0m\u001b[37m\u001b[0m \u001b[1m1s\u001b[0m 5ms/step - dense_2_loss: 0.5852 - dense_3_loss: 0.2344 - dense_4_loss: 0.0858 - loss: 0.9055\n",
      "Epoch 329/500\n",
      "\u001b[1m163/163\u001b[0m \u001b[32m━━━━━━━━━━━━━━━━━━━━\u001b[0m\u001b[37m\u001b[0m \u001b[1m1s\u001b[0m 5ms/step - dense_2_loss: 0.5332 - dense_3_loss: 0.2143 - dense_4_loss: 0.0748 - loss: 0.8222\n",
      "Epoch 330/500\n",
      "\u001b[1m163/163\u001b[0m \u001b[32m━━━━━━━━━━━━━━━━━━━━\u001b[0m\u001b[37m\u001b[0m \u001b[1m1s\u001b[0m 5ms/step - dense_2_loss: 0.6438 - dense_3_loss: 0.2797 - dense_4_loss: 0.0780 - loss: 1.0014\n",
      "Epoch 331/500\n",
      "\u001b[1m163/163\u001b[0m \u001b[32m━━━━━━━━━━━━━━━━━━━━\u001b[0m\u001b[37m\u001b[0m \u001b[1m2s\u001b[0m 7ms/step - dense_2_loss: 0.5600 - dense_3_loss: 0.1588 - dense_4_loss: 0.0756 - loss: 0.7944\n",
      "Epoch 332/500\n",
      "\u001b[1m163/163\u001b[0m \u001b[32m━━━━━━━━━━━━━━━━━━━━\u001b[0m\u001b[37m\u001b[0m \u001b[1m1s\u001b[0m 7ms/step - dense_2_loss: 0.7794 - dense_3_loss: 0.3010 - dense_4_loss: 0.0985 - loss: 1.1789\n",
      "Epoch 333/500\n",
      "\u001b[1m163/163\u001b[0m \u001b[32m━━━━━━━━━━━━━━━━━━━━\u001b[0m\u001b[37m\u001b[0m \u001b[1m1s\u001b[0m 5ms/step - dense_2_loss: 0.5093 - dense_3_loss: 0.2769 - dense_4_loss: 0.1004 - loss: 0.8865\n",
      "Epoch 334/500\n",
      "\u001b[1m163/163\u001b[0m \u001b[32m━━━━━━━━━━━━━━━━━━━━\u001b[0m\u001b[37m\u001b[0m \u001b[1m1s\u001b[0m 5ms/step - dense_2_loss: 0.6918 - dense_3_loss: 0.2162 - dense_4_loss: 0.0944 - loss: 1.0024\n",
      "Epoch 335/500\n",
      "\u001b[1m163/163\u001b[0m \u001b[32m━━━━━━━━━━━━━━━━━━━━\u001b[0m\u001b[37m\u001b[0m \u001b[1m1s\u001b[0m 5ms/step - dense_2_loss: 0.6057 - dense_3_loss: 0.2388 - dense_4_loss: 0.0798 - loss: 0.9243\n",
      "Epoch 336/500\n",
      "\u001b[1m163/163\u001b[0m \u001b[32m━━━━━━━━━━━━━━━━━━━━\u001b[0m\u001b[37m\u001b[0m \u001b[1m1s\u001b[0m 5ms/step - dense_2_loss: 0.7894 - dense_3_loss: 0.3458 - dense_4_loss: 0.0837 - loss: 1.2189\n",
      "Epoch 337/500\n",
      "\u001b[1m163/163\u001b[0m \u001b[32m━━━━━━━━━━━━━━━━━━━━\u001b[0m\u001b[37m\u001b[0m \u001b[1m1s\u001b[0m 5ms/step - dense_2_loss: 0.4443 - dense_3_loss: 0.1931 - dense_4_loss: 0.0795 - loss: 0.7169\n",
      "Epoch 338/500\n",
      "\u001b[1m163/163\u001b[0m \u001b[32m━━━━━━━━━━━━━━━━━━━━\u001b[0m\u001b[37m\u001b[0m \u001b[1m1s\u001b[0m 5ms/step - dense_2_loss: 0.7377 - dense_3_loss: 0.2952 - dense_4_loss: 0.0909 - loss: 1.1237\n",
      "Epoch 339/500\n",
      "\u001b[1m163/163\u001b[0m \u001b[32m━━━━━━━━━━━━━━━━━━━━\u001b[0m\u001b[37m\u001b[0m \u001b[1m1s\u001b[0m 5ms/step - dense_2_loss: 0.4986 - dense_3_loss: 0.2431 - dense_4_loss: 0.0711 - loss: 0.8128\n",
      "Epoch 340/500\n",
      "\u001b[1m163/163\u001b[0m \u001b[32m━━━━━━━━━━━━━━━━━━━━\u001b[0m\u001b[37m\u001b[0m \u001b[1m1s\u001b[0m 5ms/step - dense_2_loss: 0.5638 - dense_3_loss: 0.2214 - dense_4_loss: 0.0823 - loss: 0.8675\n",
      "Epoch 341/500\n",
      "\u001b[1m163/163\u001b[0m \u001b[32m━━━━━━━━━━━━━━━━━━━━\u001b[0m\u001b[37m\u001b[0m \u001b[1m1s\u001b[0m 6ms/step - dense_2_loss: 0.6988 - dense_3_loss: 0.3037 - dense_4_loss: 0.1122 - loss: 1.1146\n",
      "Epoch 342/500\n",
      "\u001b[1m163/163\u001b[0m \u001b[32m━━━━━━━━━━━━━━━━━━━━\u001b[0m\u001b[37m\u001b[0m \u001b[1m1s\u001b[0m 6ms/step - dense_2_loss: 1.1418 - dense_3_loss: 0.4639 - dense_4_loss: 0.0922 - loss: 1.6978\n",
      "Epoch 343/500\n",
      "\u001b[1m163/163\u001b[0m \u001b[32m━━━━━━━━━━━━━━━━━━━━\u001b[0m\u001b[37m\u001b[0m \u001b[1m1s\u001b[0m 7ms/step - dense_2_loss: 0.4506 - dense_3_loss: 0.1675 - dense_4_loss: 0.0642 - loss: 0.6823\n",
      "Epoch 344/500\n",
      "\u001b[1m163/163\u001b[0m \u001b[32m━━━━━━━━━━━━━━━━━━━━\u001b[0m\u001b[37m\u001b[0m \u001b[1m1s\u001b[0m 6ms/step - dense_2_loss: 0.5963 - dense_3_loss: 0.2230 - dense_4_loss: 0.0903 - loss: 0.9096\n",
      "Epoch 345/500\n",
      "\u001b[1m163/163\u001b[0m \u001b[32m━━━━━━━━━━━━━━━━━━━━\u001b[0m\u001b[37m\u001b[0m \u001b[1m1s\u001b[0m 6ms/step - dense_2_loss: 0.5678 - dense_3_loss: 0.2067 - dense_4_loss: 0.0828 - loss: 0.8573\n",
      "Epoch 346/500\n",
      "\u001b[1m163/163\u001b[0m \u001b[32m━━━━━━━━━━━━━━━━━━━━\u001b[0m\u001b[37m\u001b[0m \u001b[1m2s\u001b[0m 8ms/step - dense_2_loss: 0.6008 - dense_3_loss: 0.2271 - dense_4_loss: 0.0839 - loss: 0.9118\n",
      "Epoch 347/500\n",
      "\u001b[1m163/163\u001b[0m \u001b[32m━━━━━━━━━━━━━━━━━━━━\u001b[0m\u001b[37m\u001b[0m \u001b[1m2s\u001b[0m 6ms/step - dense_2_loss: 0.7186 - dense_3_loss: 0.2354 - dense_4_loss: 0.1000 - loss: 1.0540\n",
      "Epoch 348/500\n",
      "\u001b[1m163/163\u001b[0m \u001b[32m━━━━━━━━━━━━━━━━━━━━\u001b[0m\u001b[37m\u001b[0m \u001b[1m1s\u001b[0m 6ms/step - dense_2_loss: 0.4639 - dense_3_loss: 0.2203 - dense_4_loss: 0.0885 - loss: 0.7726\n",
      "Epoch 349/500\n",
      "\u001b[1m163/163\u001b[0m \u001b[32m━━━━━━━━━━━━━━━━━━━━\u001b[0m\u001b[37m\u001b[0m \u001b[1m1s\u001b[0m 8ms/step - dense_2_loss: 0.5645 - dense_3_loss: 0.2663 - dense_4_loss: 0.0841 - loss: 0.9149\n",
      "Epoch 350/500\n",
      "\u001b[1m163/163\u001b[0m \u001b[32m━━━━━━━━━━━━━━━━━━━━\u001b[0m\u001b[37m\u001b[0m \u001b[1m1s\u001b[0m 6ms/step - dense_2_loss: 0.5587 - dense_3_loss: 0.2580 - dense_4_loss: 0.0772 - loss: 0.8939\n",
      "Epoch 351/500\n",
      "\u001b[1m163/163\u001b[0m \u001b[32m━━━━━━━━━━━━━━━━━━━━\u001b[0m\u001b[37m\u001b[0m \u001b[1m1s\u001b[0m 6ms/step - dense_2_loss: 0.4985 - dense_3_loss: 0.2307 - dense_4_loss: 0.0783 - loss: 0.8076\n",
      "Epoch 352/500\n",
      "\u001b[1m163/163\u001b[0m \u001b[32m━━━━━━━━━━━━━━━━━━━━\u001b[0m\u001b[37m\u001b[0m \u001b[1m1s\u001b[0m 5ms/step - dense_2_loss: 0.5381 - dense_3_loss: 0.2046 - dense_4_loss: 0.0988 - loss: 0.8415\n",
      "Epoch 353/500\n",
      "\u001b[1m163/163\u001b[0m \u001b[32m━━━━━━━━━━━━━━━━━━━━\u001b[0m\u001b[37m\u001b[0m \u001b[1m1s\u001b[0m 7ms/step - dense_2_loss: 0.4645 - dense_3_loss: 0.1742 - dense_4_loss: 0.0878 - loss: 0.7265\n",
      "Epoch 354/500\n",
      "\u001b[1m163/163\u001b[0m \u001b[32m━━━━━━━━━━━━━━━━━━━━\u001b[0m\u001b[37m\u001b[0m \u001b[1m2s\u001b[0m 10ms/step - dense_2_loss: 0.5461 - dense_3_loss: 0.2336 - dense_4_loss: 0.0921 - loss: 0.8718\n",
      "Epoch 355/500\n",
      "\u001b[1m163/163\u001b[0m \u001b[32m━━━━━━━━━━━━━━━━━━━━\u001b[0m\u001b[37m\u001b[0m \u001b[1m1s\u001b[0m 6ms/step - dense_2_loss: 0.4172 - dense_3_loss: 0.1831 - dense_4_loss: 0.0755 - loss: 0.6758\n",
      "Epoch 356/500\n",
      "\u001b[1m163/163\u001b[0m \u001b[32m━━━━━━━━━━━━━━━━━━━━\u001b[0m\u001b[37m\u001b[0m \u001b[1m1s\u001b[0m 5ms/step - dense_2_loss: 0.4327 - dense_3_loss: 0.2132 - dense_4_loss: 0.0713 - loss: 0.7172\n",
      "Epoch 357/500\n",
      "\u001b[1m163/163\u001b[0m \u001b[32m━━━━━━━━━━━━━━━━━━━━\u001b[0m\u001b[37m\u001b[0m \u001b[1m1s\u001b[0m 6ms/step - dense_2_loss: 0.4881 - dense_3_loss: 0.2369 - dense_4_loss: 0.0810 - loss: 0.8060\n",
      "Epoch 358/500\n",
      "\u001b[1m163/163\u001b[0m \u001b[32m━━━━━━━━━━━━━━━━━━━━\u001b[0m\u001b[37m\u001b[0m \u001b[1m1s\u001b[0m 6ms/step - dense_2_loss: 0.6461 - dense_3_loss: 0.2458 - dense_4_loss: 0.0888 - loss: 0.9807\n",
      "Epoch 359/500\n",
      "\u001b[1m163/163\u001b[0m \u001b[32m━━━━━━━━━━━━━━━━━━━━\u001b[0m\u001b[37m\u001b[0m \u001b[1m1s\u001b[0m 5ms/step - dense_2_loss: 0.4854 - dense_3_loss: 0.2094 - dense_4_loss: 0.0804 - loss: 0.7752\n",
      "Epoch 360/500\n",
      "\u001b[1m163/163\u001b[0m \u001b[32m━━━━━━━━━━━━━━━━━━━━\u001b[0m\u001b[37m\u001b[0m \u001b[1m1s\u001b[0m 5ms/step - dense_2_loss: 0.6473 - dense_3_loss: 0.2788 - dense_4_loss: 0.0952 - loss: 1.0212\n",
      "Epoch 361/500\n",
      "\u001b[1m163/163\u001b[0m \u001b[32m━━━━━━━━━━━━━━━━━━━━\u001b[0m\u001b[37m\u001b[0m \u001b[1m1s\u001b[0m 5ms/step - dense_2_loss: 0.7109 - dense_3_loss: 0.2513 - dense_4_loss: 0.0845 - loss: 1.0466\n",
      "Epoch 362/500\n",
      "\u001b[1m163/163\u001b[0m \u001b[32m━━━━━━━━━━━━━━━━━━━━\u001b[0m\u001b[37m\u001b[0m \u001b[1m1s\u001b[0m 5ms/step - dense_2_loss: 0.4141 - dense_3_loss: 0.1750 - dense_4_loss: 0.0724 - loss: 0.6615\n",
      "Epoch 363/500\n",
      "\u001b[1m163/163\u001b[0m \u001b[32m━━━━━━━━━━━━━━━━━━━━\u001b[0m\u001b[37m\u001b[0m \u001b[1m1s\u001b[0m 5ms/step - dense_2_loss: 0.6426 - dense_3_loss: 0.2610 - dense_4_loss: 0.0727 - loss: 0.9763\n",
      "Epoch 364/500\n",
      "\u001b[1m163/163\u001b[0m \u001b[32m━━━━━━━━━━━━━━━━━━━━\u001b[0m\u001b[37m\u001b[0m \u001b[1m1s\u001b[0m 6ms/step - dense_2_loss: 0.5541 - dense_3_loss: 0.2367 - dense_4_loss: 0.0786 - loss: 0.8694\n",
      "Epoch 365/500\n",
      "\u001b[1m163/163\u001b[0m \u001b[32m━━━━━━━━━━━━━━━━━━━━\u001b[0m\u001b[37m\u001b[0m \u001b[1m1s\u001b[0m 8ms/step - dense_2_loss: 0.4930 - dense_3_loss: 0.2145 - dense_4_loss: 0.0718 - loss: 0.7794\n",
      "Epoch 366/500\n",
      "\u001b[1m163/163\u001b[0m \u001b[32m━━━━━━━━━━━━━━━━━━━━\u001b[0m\u001b[37m\u001b[0m \u001b[1m2s\u001b[0m 5ms/step - dense_2_loss: 0.4380 - dense_3_loss: 0.1822 - dense_4_loss: 0.0821 - loss: 0.7023\n",
      "Epoch 367/500\n",
      "\u001b[1m163/163\u001b[0m \u001b[32m━━━━━━━━━━━━━━━━━━━━\u001b[0m\u001b[37m\u001b[0m \u001b[1m1s\u001b[0m 5ms/step - dense_2_loss: 0.4525 - dense_3_loss: 0.2054 - dense_4_loss: 0.0902 - loss: 0.7481\n",
      "Epoch 368/500\n",
      "\u001b[1m163/163\u001b[0m \u001b[32m━━━━━━━━━━━━━━━━━━━━\u001b[0m\u001b[37m\u001b[0m \u001b[1m1s\u001b[0m 6ms/step - dense_2_loss: 0.5354 - dense_3_loss: 0.2022 - dense_4_loss: 0.0759 - loss: 0.8136\n",
      "Epoch 369/500\n",
      "\u001b[1m163/163\u001b[0m \u001b[32m━━━━━━━━━━━━━━━━━━━━\u001b[0m\u001b[37m\u001b[0m \u001b[1m1s\u001b[0m 5ms/step - dense_2_loss: 0.8348 - dense_3_loss: 0.3795 - dense_4_loss: 0.0902 - loss: 1.3045\n",
      "Epoch 370/500\n",
      "\u001b[1m163/163\u001b[0m \u001b[32m━━━━━━━━━━━━━━━━━━━━\u001b[0m\u001b[37m\u001b[0m \u001b[1m1s\u001b[0m 5ms/step - dense_2_loss: 0.5439 - dense_3_loss: 0.2216 - dense_4_loss: 0.0894 - loss: 0.8549\n",
      "Epoch 371/500\n",
      "\u001b[1m163/163\u001b[0m \u001b[32m━━━━━━━━━━━━━━━━━━━━\u001b[0m\u001b[37m\u001b[0m \u001b[1m1s\u001b[0m 6ms/step - dense_2_loss: 0.5744 - dense_3_loss: 0.2672 - dense_4_loss: 0.0807 - loss: 0.9222\n",
      "Epoch 372/500\n",
      "\u001b[1m163/163\u001b[0m \u001b[32m━━━━━━━━━━━━━━━━━━━━\u001b[0m\u001b[37m\u001b[0m \u001b[1m1s\u001b[0m 6ms/step - dense_2_loss: 0.6770 - dense_3_loss: 0.2881 - dense_4_loss: 0.0943 - loss: 1.0594\n",
      "Epoch 373/500\n",
      "\u001b[1m163/163\u001b[0m \u001b[32m━━━━━━━━━━━━━━━━━━━━\u001b[0m\u001b[37m\u001b[0m \u001b[1m1s\u001b[0m 6ms/step - dense_2_loss: 0.5792 - dense_3_loss: 0.2317 - dense_4_loss: 0.0845 - loss: 0.8954\n",
      "Epoch 374/500\n",
      "\u001b[1m163/163\u001b[0m \u001b[32m━━━━━━━━━━━━━━━━━━━━\u001b[0m\u001b[37m\u001b[0m \u001b[1m1s\u001b[0m 6ms/step - dense_2_loss: 0.7076 - dense_3_loss: 0.3255 - dense_4_loss: 0.1005 - loss: 1.1336\n",
      "Epoch 375/500\n",
      "\u001b[1m163/163\u001b[0m \u001b[32m━━━━━━━━━━━━━━━━━━━━\u001b[0m\u001b[37m\u001b[0m \u001b[1m1s\u001b[0m 5ms/step - dense_2_loss: 0.6367 - dense_3_loss: 0.1966 - dense_4_loss: 0.0865 - loss: 0.9198\n",
      "Epoch 376/500\n",
      "\u001b[1m163/163\u001b[0m \u001b[32m━━━━━━━━━━━━━━━━━━━━\u001b[0m\u001b[37m\u001b[0m \u001b[1m1s\u001b[0m 7ms/step - dense_2_loss: 0.4412 - dense_3_loss: 0.1854 - dense_4_loss: 0.0816 - loss: 0.7082\n",
      "Epoch 377/500\n",
      "\u001b[1m163/163\u001b[0m \u001b[32m━━━━━━━━━━━━━━━━━━━━\u001b[0m\u001b[37m\u001b[0m \u001b[1m1s\u001b[0m 7ms/step - dense_2_loss: 0.7251 - dense_3_loss: 0.3597 - dense_4_loss: 0.0830 - loss: 1.1678\n",
      "Epoch 378/500\n",
      "\u001b[1m163/163\u001b[0m \u001b[32m━━━━━━━━━━━━━━━━━━━━\u001b[0m\u001b[37m\u001b[0m \u001b[1m1s\u001b[0m 6ms/step - dense_2_loss: 0.6628 - dense_3_loss: 0.2336 - dense_4_loss: 0.0929 - loss: 0.9892\n",
      "Epoch 379/500\n",
      "\u001b[1m163/163\u001b[0m \u001b[32m━━━━━━━━━━━━━━━━━━━━\u001b[0m\u001b[37m\u001b[0m \u001b[1m1s\u001b[0m 6ms/step - dense_2_loss: 0.8947 - dense_3_loss: 0.4223 - dense_4_loss: 0.0907 - loss: 1.4077\n",
      "Epoch 380/500\n",
      "\u001b[1m163/163\u001b[0m \u001b[32m━━━━━━━━━━━━━━━━━━━━\u001b[0m\u001b[37m\u001b[0m \u001b[1m1s\u001b[0m 6ms/step - dense_2_loss: 0.5778 - dense_3_loss: 0.2406 - dense_4_loss: 0.0906 - loss: 0.9089\n",
      "Epoch 381/500\n",
      "\u001b[1m163/163\u001b[0m \u001b[32m━━━━━━━━━━━━━━━━━━━━\u001b[0m\u001b[37m\u001b[0m \u001b[1m1s\u001b[0m 7ms/step - dense_2_loss: 0.7723 - dense_3_loss: 0.3127 - dense_4_loss: 0.0916 - loss: 1.1766\n",
      "Epoch 382/500\n",
      "\u001b[1m163/163\u001b[0m \u001b[32m━━━━━━━━━━━━━━━━━━━━\u001b[0m\u001b[37m\u001b[0m \u001b[1m1s\u001b[0m 6ms/step - dense_2_loss: 0.4729 - dense_3_loss: 0.1926 - dense_4_loss: 0.0789 - loss: 0.7444\n",
      "Epoch 383/500\n",
      "\u001b[1m163/163\u001b[0m \u001b[32m━━━━━━━━━━━━━━━━━━━━\u001b[0m\u001b[37m\u001b[0m \u001b[1m1s\u001b[0m 5ms/step - dense_2_loss: 0.4545 - dense_3_loss: 0.1843 - dense_4_loss: 0.1006 - loss: 0.7394\n",
      "Epoch 384/500\n",
      "\u001b[1m163/163\u001b[0m \u001b[32m━━━━━━━━━━━━━━━━━━━━\u001b[0m\u001b[37m\u001b[0m \u001b[1m1s\u001b[0m 7ms/step - dense_2_loss: 0.3923 - dense_3_loss: 0.1789 - dense_4_loss: 0.0820 - loss: 0.6531\n",
      "Epoch 385/500\n",
      "\u001b[1m163/163\u001b[0m \u001b[32m━━━━━━━━━━━━━━━━━━━━\u001b[0m\u001b[37m\u001b[0m \u001b[1m1s\u001b[0m 5ms/step - dense_2_loss: 0.6606 - dense_3_loss: 0.2095 - dense_4_loss: 0.0987 - loss: 0.9688\n",
      "Epoch 386/500\n",
      "\u001b[1m163/163\u001b[0m \u001b[32m━━━━━━━━━━━━━━━━━━━━\u001b[0m\u001b[37m\u001b[0m \u001b[1m1s\u001b[0m 5ms/step - dense_2_loss: 0.5898 - dense_3_loss: 0.2730 - dense_4_loss: 0.0822 - loss: 0.9450\n",
      "Epoch 387/500\n",
      "\u001b[1m163/163\u001b[0m \u001b[32m━━━━━━━━━━━━━━━━━━━━\u001b[0m\u001b[37m\u001b[0m \u001b[1m1s\u001b[0m 6ms/step - dense_2_loss: 0.6721 - dense_3_loss: 0.3074 - dense_4_loss: 0.0836 - loss: 1.0630\n",
      "Epoch 388/500\n",
      "\u001b[1m163/163\u001b[0m \u001b[32m━━━━━━━━━━━━━━━━━━━━\u001b[0m\u001b[37m\u001b[0m \u001b[1m1s\u001b[0m 6ms/step - dense_2_loss: 1.0188 - dense_3_loss: 0.4170 - dense_4_loss: 0.1150 - loss: 1.5508\n",
      "Epoch 389/500\n",
      "\u001b[1m163/163\u001b[0m \u001b[32m━━━━━━━━━━━━━━━━━━━━\u001b[0m\u001b[37m\u001b[0m \u001b[1m1s\u001b[0m 7ms/step - dense_2_loss: 0.7077 - dense_3_loss: 0.2335 - dense_4_loss: 0.0918 - loss: 1.0330\n",
      "Epoch 390/500\n",
      "\u001b[1m163/163\u001b[0m \u001b[32m━━━━━━━━━━━━━━━━━━━━\u001b[0m\u001b[37m\u001b[0m \u001b[1m1s\u001b[0m 7ms/step - dense_2_loss: 0.6924 - dense_3_loss: 0.3186 - dense_4_loss: 0.0896 - loss: 1.1006\n",
      "Epoch 391/500\n",
      "\u001b[1m163/163\u001b[0m \u001b[32m━━━━━━━━━━━━━━━━━━━━\u001b[0m\u001b[37m\u001b[0m \u001b[1m1s\u001b[0m 5ms/step - dense_2_loss: 0.5175 - dense_3_loss: 0.2269 - dense_4_loss: 0.0829 - loss: 0.8273\n",
      "Epoch 392/500\n",
      "\u001b[1m163/163\u001b[0m \u001b[32m━━━━━━━━━━━━━━━━━━━━\u001b[0m\u001b[37m\u001b[0m \u001b[1m1s\u001b[0m 5ms/step - dense_2_loss: 0.4958 - dense_3_loss: 0.2166 - dense_4_loss: 0.0873 - loss: 0.7997\n",
      "Epoch 393/500\n",
      "\u001b[1m163/163\u001b[0m \u001b[32m━━━━━━━━━━━━━━━━━━━━\u001b[0m\u001b[37m\u001b[0m \u001b[1m1s\u001b[0m 5ms/step - dense_2_loss: 0.4634 - dense_3_loss: 0.1663 - dense_4_loss: 0.0733 - loss: 0.7030\n",
      "Epoch 394/500\n",
      "\u001b[1m163/163\u001b[0m \u001b[32m━━━━━━━━━━━━━━━━━━━━\u001b[0m\u001b[37m\u001b[0m \u001b[1m1s\u001b[0m 6ms/step - dense_2_loss: 0.6691 - dense_3_loss: 0.2865 - dense_4_loss: 0.0846 - loss: 1.0402\n",
      "Epoch 395/500\n",
      "\u001b[1m163/163\u001b[0m \u001b[32m━━━━━━━━━━━━━━━━━━━━\u001b[0m\u001b[37m\u001b[0m \u001b[1m1s\u001b[0m 5ms/step - dense_2_loss: 0.4849 - dense_3_loss: 0.2120 - dense_4_loss: 0.0776 - loss: 0.7745\n",
      "Epoch 396/500\n",
      "\u001b[1m163/163\u001b[0m \u001b[32m━━━━━━━━━━━━━━━━━━━━\u001b[0m\u001b[37m\u001b[0m \u001b[1m1s\u001b[0m 5ms/step - dense_2_loss: 0.5447 - dense_3_loss: 0.2200 - dense_4_loss: 0.0873 - loss: 0.8520\n",
      "Epoch 397/500\n",
      "\u001b[1m163/163\u001b[0m \u001b[32m━━━━━━━━━━━━━━━━━━━━\u001b[0m\u001b[37m\u001b[0m \u001b[1m1s\u001b[0m 5ms/step - dense_2_loss: 0.6932 - dense_3_loss: 0.2657 - dense_4_loss: 0.0830 - loss: 1.0419\n",
      "Epoch 398/500\n",
      "\u001b[1m163/163\u001b[0m \u001b[32m━━━━━━━━━━━━━━━━━━━━\u001b[0m\u001b[37m\u001b[0m \u001b[1m1s\u001b[0m 6ms/step - dense_2_loss: 0.6346 - dense_3_loss: 0.2289 - dense_4_loss: 0.0909 - loss: 0.9544\n",
      "Epoch 399/500\n",
      "\u001b[1m163/163\u001b[0m \u001b[32m━━━━━━━━━━━━━━━━━━━━\u001b[0m\u001b[37m\u001b[0m \u001b[1m1s\u001b[0m 5ms/step - dense_2_loss: 0.6668 - dense_3_loss: 0.1908 - dense_4_loss: 0.0808 - loss: 0.9383\n",
      "Epoch 400/500\n",
      "\u001b[1m163/163\u001b[0m \u001b[32m━━━━━━━━━━━━━━━━━━━━\u001b[0m\u001b[37m\u001b[0m \u001b[1m1s\u001b[0m 5ms/step - dense_2_loss: 0.6183 - dense_3_loss: 0.2788 - dense_4_loss: 0.0911 - loss: 0.9882\n",
      "Epoch 401/500\n",
      "\u001b[1m163/163\u001b[0m \u001b[32m━━━━━━━━━━━━━━━━━━━━\u001b[0m\u001b[37m\u001b[0m \u001b[1m1s\u001b[0m 5ms/step - dense_2_loss: 0.8011 - dense_3_loss: 0.2287 - dense_4_loss: 0.0891 - loss: 1.1189\n",
      "Epoch 402/500\n",
      "\u001b[1m163/163\u001b[0m \u001b[32m━━━━━━━━━━━━━━━━━━━━\u001b[0m\u001b[37m\u001b[0m \u001b[1m1s\u001b[0m 5ms/step - dense_2_loss: 0.5163 - dense_3_loss: 0.2234 - dense_4_loss: 0.0820 - loss: 0.8218\n",
      "Epoch 403/500\n",
      "\u001b[1m163/163\u001b[0m \u001b[32m━━━━━━━━━━━━━━━━━━━━\u001b[0m\u001b[37m\u001b[0m \u001b[1m1s\u001b[0m 8ms/step - dense_2_loss: 0.4989 - dense_3_loss: 0.2234 - dense_4_loss: 0.0814 - loss: 0.8037\n",
      "Epoch 404/500\n",
      "\u001b[1m163/163\u001b[0m \u001b[32m━━━━━━━━━━━━━━━━━━━━\u001b[0m\u001b[37m\u001b[0m \u001b[1m2s\u001b[0m 5ms/step - dense_2_loss: 0.5747 - dense_3_loss: 0.2134 - dense_4_loss: 0.0812 - loss: 0.8692\n",
      "Epoch 405/500\n",
      "\u001b[1m163/163\u001b[0m \u001b[32m━━━━━━━━━━━━━━━━━━━━\u001b[0m\u001b[37m\u001b[0m \u001b[1m1s\u001b[0m 5ms/step - dense_2_loss: 0.6501 - dense_3_loss: 0.2752 - dense_4_loss: 0.0892 - loss: 1.0145\n",
      "Epoch 406/500\n",
      "\u001b[1m163/163\u001b[0m \u001b[32m━━━━━━━━━━━━━━━━━━━━\u001b[0m\u001b[37m\u001b[0m \u001b[1m1s\u001b[0m 5ms/step - dense_2_loss: 0.5042 - dense_3_loss: 0.2215 - dense_4_loss: 0.0809 - loss: 0.8066\n",
      "Epoch 407/500\n",
      "\u001b[1m163/163\u001b[0m \u001b[32m━━━━━━━━━━━━━━━━━━━━\u001b[0m\u001b[37m\u001b[0m \u001b[1m1s\u001b[0m 5ms/step - dense_2_loss: 0.5186 - dense_3_loss: 0.2153 - dense_4_loss: 0.0835 - loss: 0.8175\n",
      "Epoch 408/500\n",
      "\u001b[1m163/163\u001b[0m \u001b[32m━━━━━━━━━━━━━━━━━━━━\u001b[0m\u001b[37m\u001b[0m \u001b[1m1s\u001b[0m 5ms/step - dense_2_loss: 0.6082 - dense_3_loss: 0.2420 - dense_4_loss: 0.0814 - loss: 0.9317\n",
      "Epoch 409/500\n",
      "\u001b[1m163/163\u001b[0m \u001b[32m━━━━━━━━━━━━━━━━━━━━\u001b[0m\u001b[37m\u001b[0m \u001b[1m1s\u001b[0m 5ms/step - dense_2_loss: 0.7672 - dense_3_loss: 0.2494 - dense_4_loss: 0.0867 - loss: 1.1033\n",
      "Epoch 410/500\n",
      "\u001b[1m163/163\u001b[0m \u001b[32m━━━━━━━━━━━━━━━━━━━━\u001b[0m\u001b[37m\u001b[0m \u001b[1m1s\u001b[0m 6ms/step - dense_2_loss: 0.6295 - dense_3_loss: 0.2413 - dense_4_loss: 0.0918 - loss: 0.9626\n",
      "Epoch 411/500\n",
      "\u001b[1m163/163\u001b[0m \u001b[32m━━━━━━━━━━━━━━━━━━━━\u001b[0m\u001b[37m\u001b[0m \u001b[1m1s\u001b[0m 5ms/step - dense_2_loss: 0.4233 - dense_3_loss: 0.1772 - dense_4_loss: 0.0930 - loss: 0.6935\n",
      "Epoch 412/500\n",
      "\u001b[1m163/163\u001b[0m \u001b[32m━━━━━━━━━━━━━━━━━━━━\u001b[0m\u001b[37m\u001b[0m \u001b[1m1s\u001b[0m 5ms/step - dense_2_loss: 0.5137 - dense_3_loss: 0.2345 - dense_4_loss: 0.0812 - loss: 0.8294\n",
      "Epoch 413/500\n",
      "\u001b[1m163/163\u001b[0m \u001b[32m━━━━━━━━━━━━━━━━━━━━\u001b[0m\u001b[37m\u001b[0m \u001b[1m1s\u001b[0m 5ms/step - dense_2_loss: 0.6330 - dense_3_loss: 0.2825 - dense_4_loss: 0.0963 - loss: 1.0118\n",
      "Epoch 414/500\n",
      "\u001b[1m163/163\u001b[0m \u001b[32m━━━━━━━━━━━━━━━━━━━━\u001b[0m\u001b[37m\u001b[0m \u001b[1m1s\u001b[0m 5ms/step - dense_2_loss: 0.5885 - dense_3_loss: 0.2473 - dense_4_loss: 0.0876 - loss: 0.9233\n",
      "Epoch 415/500\n",
      "\u001b[1m163/163\u001b[0m \u001b[32m━━━━━━━━━━━━━━━━━━━━\u001b[0m\u001b[37m\u001b[0m \u001b[1m1s\u001b[0m 7ms/step - dense_2_loss: 0.6213 - dense_3_loss: 0.2347 - dense_4_loss: 0.0895 - loss: 0.9456\n",
      "Epoch 416/500\n",
      "\u001b[1m163/163\u001b[0m \u001b[32m━━━━━━━━━━━━━━━━━━━━\u001b[0m\u001b[37m\u001b[0m \u001b[1m1s\u001b[0m 6ms/step - dense_2_loss: 0.4929 - dense_3_loss: 0.2401 - dense_4_loss: 0.0940 - loss: 0.8269\n",
      "Epoch 417/500\n",
      "\u001b[1m163/163\u001b[0m \u001b[32m━━━━━━━━━━━━━━━━━━━━\u001b[0m\u001b[37m\u001b[0m \u001b[1m1s\u001b[0m 6ms/step - dense_2_loss: 0.5620 - dense_3_loss: 0.2463 - dense_4_loss: 0.0889 - loss: 0.8972\n",
      "Epoch 418/500\n",
      "\u001b[1m163/163\u001b[0m \u001b[32m━━━━━━━━━━━━━━━━━━━━\u001b[0m\u001b[37m\u001b[0m \u001b[1m1s\u001b[0m 7ms/step - dense_2_loss: 0.5869 - dense_3_loss: 0.2032 - dense_4_loss: 0.0757 - loss: 0.8658\n",
      "Epoch 419/500\n",
      "\u001b[1m163/163\u001b[0m \u001b[32m━━━━━━━━━━━━━━━━━━━━\u001b[0m\u001b[37m\u001b[0m \u001b[1m1s\u001b[0m 7ms/step - dense_2_loss: 0.4711 - dense_3_loss: 0.2233 - dense_4_loss: 0.0934 - loss: 0.7878\n",
      "Epoch 420/500\n",
      "\u001b[1m163/163\u001b[0m \u001b[32m━━━━━━━━━━━━━━━━━━━━\u001b[0m\u001b[37m\u001b[0m \u001b[1m1s\u001b[0m 7ms/step - dense_2_loss: 0.5325 - dense_3_loss: 0.2494 - dense_4_loss: 0.0798 - loss: 0.8617\n",
      "Epoch 421/500\n",
      "\u001b[1m163/163\u001b[0m \u001b[32m━━━━━━━━━━━━━━━━━━━━\u001b[0m\u001b[37m\u001b[0m \u001b[1m1s\u001b[0m 6ms/step - dense_2_loss: 0.6778 - dense_3_loss: 0.2851 - dense_4_loss: 0.0875 - loss: 1.0504\n",
      "Epoch 422/500\n",
      "\u001b[1m163/163\u001b[0m \u001b[32m━━━━━━━━━━━━━━━━━━━━\u001b[0m\u001b[37m\u001b[0m \u001b[1m1s\u001b[0m 7ms/step - dense_2_loss: 0.4449 - dense_3_loss: 0.2104 - dense_4_loss: 0.1020 - loss: 0.7573\n",
      "Epoch 423/500\n",
      "\u001b[1m163/163\u001b[0m \u001b[32m━━━━━━━━━━━━━━━━━━━━\u001b[0m\u001b[37m\u001b[0m \u001b[1m1s\u001b[0m 6ms/step - dense_2_loss: 0.6648 - dense_3_loss: 0.2778 - dense_4_loss: 0.0868 - loss: 1.0295\n",
      "Epoch 424/500\n",
      "\u001b[1m163/163\u001b[0m \u001b[32m━━━━━━━━━━━━━━━━━━━━\u001b[0m\u001b[37m\u001b[0m \u001b[1m1s\u001b[0m 7ms/step - dense_2_loss: 0.3918 - dense_3_loss: 0.2006 - dense_4_loss: 0.0826 - loss: 0.6749\n",
      "Epoch 425/500\n",
      "\u001b[1m163/163\u001b[0m \u001b[32m━━━━━━━━━━━━━━━━━━━━\u001b[0m\u001b[37m\u001b[0m \u001b[1m1s\u001b[0m 6ms/step - dense_2_loss: 0.4401 - dense_3_loss: 0.1905 - dense_4_loss: 0.0873 - loss: 0.7179\n",
      "Epoch 426/500\n",
      "\u001b[1m163/163\u001b[0m \u001b[32m━━━━━━━━━━━━━━━━━━━━\u001b[0m\u001b[37m\u001b[0m \u001b[1m1s\u001b[0m 6ms/step - dense_2_loss: 0.5879 - dense_3_loss: 0.2737 - dense_4_loss: 0.0917 - loss: 0.9533\n",
      "Epoch 427/500\n",
      "\u001b[1m163/163\u001b[0m \u001b[32m━━━━━━━━━━━━━━━━━━━━\u001b[0m\u001b[37m\u001b[0m \u001b[1m1s\u001b[0m 6ms/step - dense_2_loss: 0.4411 - dense_3_loss: 0.2162 - dense_4_loss: 0.0934 - loss: 0.7508\n",
      "Epoch 428/500\n",
      "\u001b[1m163/163\u001b[0m \u001b[32m━━━━━━━━━━━━━━━━━━━━\u001b[0m\u001b[37m\u001b[0m \u001b[1m1s\u001b[0m 6ms/step - dense_2_loss: 0.7197 - dense_3_loss: 0.3265 - dense_4_loss: 0.1114 - loss: 1.1577\n",
      "Epoch 429/500\n",
      "\u001b[1m163/163\u001b[0m \u001b[32m━━━━━━━━━━━━━━━━━━━━\u001b[0m\u001b[37m\u001b[0m \u001b[1m1s\u001b[0m 6ms/step - dense_2_loss: 0.5418 - dense_3_loss: 0.2007 - dense_4_loss: 0.0903 - loss: 0.8328\n",
      "Epoch 430/500\n",
      "\u001b[1m163/163\u001b[0m \u001b[32m━━━━━━━━━━━━━━━━━━━━\u001b[0m\u001b[37m\u001b[0m \u001b[1m1s\u001b[0m 6ms/step - dense_2_loss: 0.3928 - dense_3_loss: 0.1763 - dense_4_loss: 0.0729 - loss: 0.6420\n",
      "Epoch 431/500\n",
      "\u001b[1m163/163\u001b[0m \u001b[32m━━━━━━━━━━━━━━━━━━━━\u001b[0m\u001b[37m\u001b[0m \u001b[1m1s\u001b[0m 6ms/step - dense_2_loss: 0.5843 - dense_3_loss: 0.2254 - dense_4_loss: 0.0844 - loss: 0.8941\n",
      "Epoch 432/500\n",
      "\u001b[1m163/163\u001b[0m \u001b[32m━━━━━━━━━━━━━━━━━━━━\u001b[0m\u001b[37m\u001b[0m \u001b[1m1s\u001b[0m 6ms/step - dense_2_loss: 0.5328 - dense_3_loss: 0.2288 - dense_4_loss: 0.0951 - loss: 0.8567\n",
      "Epoch 433/500\n",
      "\u001b[1m163/163\u001b[0m \u001b[32m━━━━━━━━━━━━━━━━━━━━\u001b[0m\u001b[37m\u001b[0m \u001b[1m1s\u001b[0m 7ms/step - dense_2_loss: 0.5123 - dense_3_loss: 0.2596 - dense_4_loss: 0.0927 - loss: 0.8645\n",
      "Epoch 434/500\n",
      "\u001b[1m163/163\u001b[0m \u001b[32m━━━━━━━━━━━━━━━━━━━━\u001b[0m\u001b[37m\u001b[0m \u001b[1m1s\u001b[0m 7ms/step - dense_2_loss: 0.6892 - dense_3_loss: 0.3001 - dense_4_loss: 0.0750 - loss: 1.0643\n",
      "Epoch 435/500\n",
      "\u001b[1m163/163\u001b[0m \u001b[32m━━━━━━━━━━━━━━━━━━━━\u001b[0m\u001b[37m\u001b[0m \u001b[1m1s\u001b[0m 7ms/step - dense_2_loss: 0.5400 - dense_3_loss: 0.2472 - dense_4_loss: 0.0895 - loss: 0.8767\n",
      "Epoch 436/500\n",
      "\u001b[1m163/163\u001b[0m \u001b[32m━━━━━━━━━━━━━━━━━━━━\u001b[0m\u001b[37m\u001b[0m \u001b[1m1s\u001b[0m 6ms/step - dense_2_loss: 0.5929 - dense_3_loss: 0.2634 - dense_4_loss: 0.0830 - loss: 0.9393\n",
      "Epoch 437/500\n",
      "\u001b[1m163/163\u001b[0m \u001b[32m━━━━━━━━━━━━━━━━━━━━\u001b[0m\u001b[37m\u001b[0m \u001b[1m1s\u001b[0m 6ms/step - dense_2_loss: 0.4655 - dense_3_loss: 0.2107 - dense_4_loss: 0.0853 - loss: 0.7614\n",
      "Epoch 438/500\n",
      "\u001b[1m163/163\u001b[0m \u001b[32m━━━━━━━━━━━━━━━━━━━━\u001b[0m\u001b[37m\u001b[0m \u001b[1m1s\u001b[0m 6ms/step - dense_2_loss: 0.4216 - dense_3_loss: 0.1832 - dense_4_loss: 0.0845 - loss: 0.6893\n",
      "Epoch 439/500\n",
      "\u001b[1m163/163\u001b[0m \u001b[32m━━━━━━━━━━━━━━━━━━━━\u001b[0m\u001b[37m\u001b[0m \u001b[1m1s\u001b[0m 6ms/step - dense_2_loss: 0.5054 - dense_3_loss: 0.2265 - dense_4_loss: 0.1096 - loss: 0.8415\n",
      "Epoch 440/500\n",
      "\u001b[1m163/163\u001b[0m \u001b[32m━━━━━━━━━━━━━━━━━━━━\u001b[0m\u001b[37m\u001b[0m \u001b[1m1s\u001b[0m 6ms/step - dense_2_loss: 0.7366 - dense_3_loss: 0.2805 - dense_4_loss: 0.0823 - loss: 1.0994\n",
      "Epoch 441/500\n",
      "\u001b[1m163/163\u001b[0m \u001b[32m━━━━━━━━━━━━━━━━━━━━\u001b[0m\u001b[37m\u001b[0m \u001b[1m1s\u001b[0m 6ms/step - dense_2_loss: 0.5991 - dense_3_loss: 0.2571 - dense_4_loss: 0.0901 - loss: 0.9463\n",
      "Epoch 442/500\n",
      "\u001b[1m163/163\u001b[0m \u001b[32m━━━━━━━━━━━━━━━━━━━━\u001b[0m\u001b[37m\u001b[0m \u001b[1m1s\u001b[0m 6ms/step - dense_2_loss: 0.5827 - dense_3_loss: 0.2364 - dense_4_loss: 0.0805 - loss: 0.8996\n",
      "Epoch 443/500\n",
      "\u001b[1m163/163\u001b[0m \u001b[32m━━━━━━━━━━━━━━━━━━━━\u001b[0m\u001b[37m\u001b[0m \u001b[1m1s\u001b[0m 6ms/step - dense_2_loss: 0.6129 - dense_3_loss: 0.2821 - dense_4_loss: 0.0802 - loss: 0.9752\n",
      "Epoch 444/500\n",
      "\u001b[1m163/163\u001b[0m \u001b[32m━━━━━━━━━━━━━━━━━━━━\u001b[0m\u001b[37m\u001b[0m \u001b[1m1s\u001b[0m 6ms/step - dense_2_loss: 0.5116 - dense_3_loss: 0.2066 - dense_4_loss: 0.0859 - loss: 0.8040\n",
      "Epoch 445/500\n",
      "\u001b[1m163/163\u001b[0m \u001b[32m━━━━━━━━━━━━━━━━━━━━\u001b[0m\u001b[37m\u001b[0m \u001b[1m1s\u001b[0m 6ms/step - dense_2_loss: 0.4876 - dense_3_loss: 0.2297 - dense_4_loss: 0.0867 - loss: 0.8040\n",
      "Epoch 446/500\n",
      "\u001b[1m163/163\u001b[0m \u001b[32m━━━━━━━━━━━━━━━━━━━━\u001b[0m\u001b[37m\u001b[0m \u001b[1m1s\u001b[0m 6ms/step - dense_2_loss: 0.5961 - dense_3_loss: 0.1910 - dense_4_loss: 0.0959 - loss: 0.8831\n",
      "Epoch 447/500\n",
      "\u001b[1m163/163\u001b[0m \u001b[32m━━━━━━━━━━━━━━━━━━━━\u001b[0m\u001b[37m\u001b[0m \u001b[1m1s\u001b[0m 6ms/step - dense_2_loss: 0.4098 - dense_3_loss: 0.1697 - dense_4_loss: 0.0833 - loss: 0.6629\n",
      "Epoch 448/500\n",
      "\u001b[1m163/163\u001b[0m \u001b[32m━━━━━━━━━━━━━━━━━━━━\u001b[0m\u001b[37m\u001b[0m \u001b[1m1s\u001b[0m 7ms/step - dense_2_loss: 0.6105 - dense_3_loss: 0.2831 - dense_4_loss: 0.0818 - loss: 0.9754\n",
      "Epoch 449/500\n",
      "\u001b[1m163/163\u001b[0m \u001b[32m━━━━━━━━━━━━━━━━━━━━\u001b[0m\u001b[37m\u001b[0m \u001b[1m1s\u001b[0m 6ms/step - dense_2_loss: 0.4128 - dense_3_loss: 0.1946 - dense_4_loss: 0.1008 - loss: 0.7082\n",
      "Epoch 450/500\n",
      "\u001b[1m163/163\u001b[0m \u001b[32m━━━━━━━━━━━━━━━━━━━━\u001b[0m\u001b[37m\u001b[0m \u001b[1m1s\u001b[0m 6ms/step - dense_2_loss: 0.6302 - dense_3_loss: 0.2264 - dense_4_loss: 0.0970 - loss: 0.9536\n",
      "Epoch 451/500\n",
      "\u001b[1m163/163\u001b[0m \u001b[32m━━━━━━━━━━━━━━━━━━━━\u001b[0m\u001b[37m\u001b[0m \u001b[1m1s\u001b[0m 8ms/step - dense_2_loss: 0.5580 - dense_3_loss: 0.2048 - dense_4_loss: 0.0823 - loss: 0.8451\n",
      "Epoch 452/500\n",
      "\u001b[1m163/163\u001b[0m \u001b[32m━━━━━━━━━━━━━━━━━━━━\u001b[0m\u001b[37m\u001b[0m \u001b[1m1s\u001b[0m 9ms/step - dense_2_loss: 0.5409 - dense_3_loss: 0.2210 - dense_4_loss: 0.0740 - loss: 0.8359\n",
      "Epoch 453/500\n",
      "\u001b[1m163/163\u001b[0m \u001b[32m━━━━━━━━━━━━━━━━━━━━\u001b[0m\u001b[37m\u001b[0m \u001b[1m1s\u001b[0m 7ms/step - dense_2_loss: 0.4677 - dense_3_loss: 0.2302 - dense_4_loss: 0.0903 - loss: 0.7882\n",
      "Epoch 454/500\n",
      "\u001b[1m163/163\u001b[0m \u001b[32m━━━━━━━━━━━━━━━━━━━━\u001b[0m\u001b[37m\u001b[0m \u001b[1m1s\u001b[0m 7ms/step - dense_2_loss: 0.5685 - dense_3_loss: 0.2624 - dense_4_loss: 0.0780 - loss: 0.9088\n",
      "Epoch 455/500\n",
      "\u001b[1m163/163\u001b[0m \u001b[32m━━━━━━━━━━━━━━━━━━━━\u001b[0m\u001b[37m\u001b[0m \u001b[1m1s\u001b[0m 6ms/step - dense_2_loss: 0.5561 - dense_3_loss: 0.2459 - dense_4_loss: 0.0857 - loss: 0.8878\n",
      "Epoch 456/500\n",
      "\u001b[1m163/163\u001b[0m \u001b[32m━━━━━━━━━━━━━━━━━━━━\u001b[0m\u001b[37m\u001b[0m \u001b[1m1s\u001b[0m 6ms/step - dense_2_loss: 0.5797 - dense_3_loss: 0.2835 - dense_4_loss: 0.0916 - loss: 0.9548\n",
      "Epoch 457/500\n",
      "\u001b[1m163/163\u001b[0m \u001b[32m━━━━━━━━━━━━━━━━━━━━\u001b[0m\u001b[37m\u001b[0m \u001b[1m1s\u001b[0m 6ms/step - dense_2_loss: 0.5482 - dense_3_loss: 0.2424 - dense_4_loss: 0.1029 - loss: 0.8935\n",
      "Epoch 458/500\n",
      "\u001b[1m163/163\u001b[0m \u001b[32m━━━━━━━━━━━━━━━━━━━━\u001b[0m\u001b[37m\u001b[0m \u001b[1m1s\u001b[0m 6ms/step - dense_2_loss: 0.6841 - dense_3_loss: 0.3024 - dense_4_loss: 0.0861 - loss: 1.0726\n",
      "Epoch 459/500\n",
      "\u001b[1m163/163\u001b[0m \u001b[32m━━━━━━━━━━━━━━━━━━━━\u001b[0m\u001b[37m\u001b[0m \u001b[1m1s\u001b[0m 7ms/step - dense_2_loss: 0.4888 - dense_3_loss: 0.2046 - dense_4_loss: 0.0858 - loss: 0.7792\n",
      "Epoch 460/500\n",
      "\u001b[1m163/163\u001b[0m \u001b[32m━━━━━━━━━━━━━━━━━━━━\u001b[0m\u001b[37m\u001b[0m \u001b[1m1s\u001b[0m 8ms/step - dense_2_loss: 0.6316 - dense_3_loss: 0.1916 - dense_4_loss: 0.0931 - loss: 0.9163\n",
      "Epoch 461/500\n",
      "\u001b[1m163/163\u001b[0m \u001b[32m━━━━━━━━━━━━━━━━━━━━\u001b[0m\u001b[37m\u001b[0m \u001b[1m1s\u001b[0m 8ms/step - dense_2_loss: 0.3738 - dense_3_loss: 0.1793 - dense_4_loss: 0.0841 - loss: 0.6373\n",
      "Epoch 462/500\n",
      "\u001b[1m163/163\u001b[0m \u001b[32m━━━━━━━━━━━━━━━━━━━━\u001b[0m\u001b[37m\u001b[0m \u001b[1m1s\u001b[0m 7ms/step - dense_2_loss: 0.7063 - dense_3_loss: 0.3388 - dense_4_loss: 0.0804 - loss: 1.1254\n",
      "Epoch 463/500\n",
      "\u001b[1m163/163\u001b[0m \u001b[32m━━━━━━━━━━━━━━━━━━━━\u001b[0m\u001b[37m\u001b[0m \u001b[1m1s\u001b[0m 7ms/step - dense_2_loss: 0.4668 - dense_3_loss: 0.1853 - dense_4_loss: 0.0907 - loss: 0.7428\n",
      "Epoch 464/500\n",
      "\u001b[1m163/163\u001b[0m \u001b[32m━━━━━━━━━━━━━━━━━━━━\u001b[0m\u001b[37m\u001b[0m \u001b[1m1s\u001b[0m 5ms/step - dense_2_loss: 0.8271 - dense_3_loss: 0.3448 - dense_4_loss: 0.1073 - loss: 1.2792\n",
      "Epoch 465/500\n",
      "\u001b[1m163/163\u001b[0m \u001b[32m━━━━━━━━━━━━━━━━━━━━\u001b[0m\u001b[37m\u001b[0m \u001b[1m1s\u001b[0m 4ms/step - dense_2_loss: 0.7065 - dense_3_loss: 0.2589 - dense_4_loss: 0.1054 - loss: 1.0708\n",
      "Epoch 466/500\n",
      "\u001b[1m163/163\u001b[0m \u001b[32m━━━━━━━━━━━━━━━━━━━━\u001b[0m\u001b[37m\u001b[0m \u001b[1m1s\u001b[0m 4ms/step - dense_2_loss: 0.6759 - dense_3_loss: 0.2486 - dense_4_loss: 0.0852 - loss: 1.0096\n",
      "Epoch 467/500\n",
      "\u001b[1m163/163\u001b[0m \u001b[32m━━━━━━━━━━━━━━━━━━━━\u001b[0m\u001b[37m\u001b[0m \u001b[1m1s\u001b[0m 4ms/step - dense_2_loss: 0.6739 - dense_3_loss: 0.2118 - dense_4_loss: 0.0903 - loss: 0.9760\n",
      "Epoch 468/500\n",
      "\u001b[1m163/163\u001b[0m \u001b[32m━━━━━━━━━━━━━━━━━━━━\u001b[0m\u001b[37m\u001b[0m \u001b[1m1s\u001b[0m 4ms/step - dense_2_loss: 0.4033 - dense_3_loss: 0.1881 - dense_4_loss: 0.0914 - loss: 0.6827\n",
      "Epoch 469/500\n",
      "\u001b[1m163/163\u001b[0m \u001b[32m━━━━━━━━━━━━━━━━━━━━\u001b[0m\u001b[37m\u001b[0m \u001b[1m1s\u001b[0m 4ms/step - dense_2_loss: 0.3732 - dense_3_loss: 0.1830 - dense_4_loss: 0.0723 - loss: 0.6286\n",
      "Epoch 470/500\n",
      "\u001b[1m163/163\u001b[0m \u001b[32m━━━━━━━━━━━━━━━━━━━━\u001b[0m\u001b[37m\u001b[0m \u001b[1m1s\u001b[0m 4ms/step - dense_2_loss: 0.4237 - dense_3_loss: 0.2260 - dense_4_loss: 0.0828 - loss: 0.7325\n",
      "Epoch 471/500\n",
      "\u001b[1m163/163\u001b[0m \u001b[32m━━━━━━━━━━━━━━━━━━━━\u001b[0m\u001b[37m\u001b[0m \u001b[1m1s\u001b[0m 4ms/step - dense_2_loss: 0.5111 - dense_3_loss: 0.2226 - dense_4_loss: 0.0920 - loss: 0.8256\n",
      "Epoch 472/500\n",
      "\u001b[1m163/163\u001b[0m \u001b[32m━━━━━━━━━━━━━━━━━━━━\u001b[0m\u001b[37m\u001b[0m \u001b[1m1s\u001b[0m 4ms/step - dense_2_loss: 0.5743 - dense_3_loss: 0.2313 - dense_4_loss: 0.0908 - loss: 0.8963\n",
      "Epoch 473/500\n",
      "\u001b[1m163/163\u001b[0m \u001b[32m━━━━━━━━━━━━━━━━━━━━\u001b[0m\u001b[37m\u001b[0m \u001b[1m1s\u001b[0m 4ms/step - dense_2_loss: 0.7275 - dense_3_loss: 0.2542 - dense_4_loss: 0.1025 - loss: 1.0841\n",
      "Epoch 474/500\n",
      "\u001b[1m163/163\u001b[0m \u001b[32m━━━━━━━━━━━━━━━━━━━━\u001b[0m\u001b[37m\u001b[0m \u001b[1m1s\u001b[0m 4ms/step - dense_2_loss: 0.5182 - dense_3_loss: 0.2136 - dense_4_loss: 0.0810 - loss: 0.8129\n",
      "Epoch 475/500\n",
      "\u001b[1m163/163\u001b[0m \u001b[32m━━━━━━━━━━━━━━━━━━━━\u001b[0m\u001b[37m\u001b[0m \u001b[1m1s\u001b[0m 4ms/step - dense_2_loss: 0.5118 - dense_3_loss: 0.2084 - dense_4_loss: 0.0845 - loss: 0.8048\n",
      "Epoch 476/500\n",
      "\u001b[1m163/163\u001b[0m \u001b[32m━━━━━━━━━━━━━━━━━━━━\u001b[0m\u001b[37m\u001b[0m \u001b[1m1s\u001b[0m 4ms/step - dense_2_loss: 0.6826 - dense_3_loss: 0.2687 - dense_4_loss: 0.0918 - loss: 1.0430\n",
      "Epoch 477/500\n",
      "\u001b[1m163/163\u001b[0m \u001b[32m━━━━━━━━━━━━━━━━━━━━\u001b[0m\u001b[37m\u001b[0m \u001b[1m1s\u001b[0m 4ms/step - dense_2_loss: 0.4629 - dense_3_loss: 0.2003 - dense_4_loss: 0.0859 - loss: 0.7491\n",
      "Epoch 478/500\n",
      "\u001b[1m163/163\u001b[0m \u001b[32m━━━━━━━━━━━━━━━━━━━━\u001b[0m\u001b[37m\u001b[0m \u001b[1m1s\u001b[0m 4ms/step - dense_2_loss: 0.9727 - dense_3_loss: 0.4702 - dense_4_loss: 0.0930 - loss: 1.5359\n",
      "Epoch 479/500\n",
      "\u001b[1m163/163\u001b[0m \u001b[32m━━━━━━━━━━━━━━━━━━━━\u001b[0m\u001b[37m\u001b[0m \u001b[1m1s\u001b[0m 4ms/step - dense_2_loss: 0.5290 - dense_3_loss: 0.2427 - dense_4_loss: 0.0885 - loss: 0.8602\n",
      "Epoch 480/500\n",
      "\u001b[1m163/163\u001b[0m \u001b[32m━━━━━━━━━━━━━━━━━━━━\u001b[0m\u001b[37m\u001b[0m \u001b[1m1s\u001b[0m 4ms/step - dense_2_loss: 0.5748 - dense_3_loss: 0.2464 - dense_4_loss: 0.0835 - loss: 0.9048\n",
      "Epoch 481/500\n",
      "\u001b[1m163/163\u001b[0m \u001b[32m━━━━━━━━━━━━━━━━━━━━\u001b[0m\u001b[37m\u001b[0m \u001b[1m1s\u001b[0m 4ms/step - dense_2_loss: 0.5291 - dense_3_loss: 0.2526 - dense_4_loss: 0.0794 - loss: 0.8610\n",
      "Epoch 482/500\n",
      "\u001b[1m163/163\u001b[0m \u001b[32m━━━━━━━━━━━━━━━━━━━━\u001b[0m\u001b[37m\u001b[0m \u001b[1m1s\u001b[0m 5ms/step - dense_2_loss: 0.6335 - dense_3_loss: 0.2800 - dense_4_loss: 0.0839 - loss: 0.9974\n",
      "Epoch 483/500\n",
      "\u001b[1m163/163\u001b[0m \u001b[32m━━━━━━━━━━━━━━━━━━━━\u001b[0m\u001b[37m\u001b[0m \u001b[1m1s\u001b[0m 4ms/step - dense_2_loss: 0.5452 - dense_3_loss: 0.2550 - dense_4_loss: 0.0772 - loss: 0.8774\n",
      "Epoch 484/500\n",
      "\u001b[1m163/163\u001b[0m \u001b[32m━━━━━━━━━━━━━━━━━━━━\u001b[0m\u001b[37m\u001b[0m \u001b[1m1s\u001b[0m 6ms/step - dense_2_loss: 0.4892 - dense_3_loss: 0.1960 - dense_4_loss: 0.0640 - loss: 0.7492\n",
      "Epoch 485/500\n",
      "\u001b[1m163/163\u001b[0m \u001b[32m━━━━━━━━━━━━━━━━━━━━\u001b[0m\u001b[37m\u001b[0m \u001b[1m1s\u001b[0m 6ms/step - dense_2_loss: 0.5057 - dense_3_loss: 0.2325 - dense_4_loss: 0.0900 - loss: 0.8282\n",
      "Epoch 486/500\n",
      "\u001b[1m163/163\u001b[0m \u001b[32m━━━━━━━━━━━━━━━━━━━━\u001b[0m\u001b[37m\u001b[0m \u001b[1m1s\u001b[0m 5ms/step - dense_2_loss: 0.5957 - dense_3_loss: 0.1844 - dense_4_loss: 0.0802 - loss: 0.8603\n",
      "Epoch 487/500\n",
      "\u001b[1m163/163\u001b[0m \u001b[32m━━━━━━━━━━━━━━━━━━━━\u001b[0m\u001b[37m\u001b[0m \u001b[1m1s\u001b[0m 5ms/step - dense_2_loss: 0.5490 - dense_3_loss: 0.2401 - dense_4_loss: 0.0854 - loss: 0.8745\n",
      "Epoch 488/500\n",
      "\u001b[1m163/163\u001b[0m \u001b[32m━━━━━━━━━━━━━━━━━━━━\u001b[0m\u001b[37m\u001b[0m \u001b[1m1s\u001b[0m 5ms/step - dense_2_loss: 0.5937 - dense_3_loss: 0.2143 - dense_4_loss: 0.0868 - loss: 0.8948\n",
      "Epoch 489/500\n",
      "\u001b[1m163/163\u001b[0m \u001b[32m━━━━━━━━━━━━━━━━━━━━\u001b[0m\u001b[37m\u001b[0m \u001b[1m1s\u001b[0m 4ms/step - dense_2_loss: 0.5160 - dense_3_loss: 0.1861 - dense_4_loss: 0.0790 - loss: 0.7811\n",
      "Epoch 490/500\n",
      "\u001b[1m163/163\u001b[0m \u001b[32m━━━━━━━━━━━━━━━━━━━━\u001b[0m\u001b[37m\u001b[0m \u001b[1m1s\u001b[0m 5ms/step - dense_2_loss: 0.5650 - dense_3_loss: 0.2336 - dense_4_loss: 0.0915 - loss: 0.8901\n",
      "Epoch 491/500\n",
      "\u001b[1m163/163\u001b[0m \u001b[32m━━━━━━━━━━━━━━━━━━━━\u001b[0m\u001b[37m\u001b[0m \u001b[1m1s\u001b[0m 4ms/step - dense_2_loss: 0.5007 - dense_3_loss: 0.2196 - dense_4_loss: 0.0795 - loss: 0.7999\n",
      "Epoch 492/500\n",
      "\u001b[1m163/163\u001b[0m \u001b[32m━━━━━━━━━━━━━━━━━━━━\u001b[0m\u001b[37m\u001b[0m \u001b[1m1s\u001b[0m 4ms/step - dense_2_loss: 0.5938 - dense_3_loss: 0.1757 - dense_4_loss: 0.0876 - loss: 0.8570\n",
      "Epoch 493/500\n",
      "\u001b[1m163/163\u001b[0m \u001b[32m━━━━━━━━━━━━━━━━━━━━\u001b[0m\u001b[37m\u001b[0m \u001b[1m1s\u001b[0m 4ms/step - dense_2_loss: 0.5045 - dense_3_loss: 0.2069 - dense_4_loss: 0.0877 - loss: 0.7991\n",
      "Epoch 494/500\n",
      "\u001b[1m163/163\u001b[0m \u001b[32m━━━━━━━━━━━━━━━━━━━━\u001b[0m\u001b[37m\u001b[0m \u001b[1m1s\u001b[0m 5ms/step - dense_2_loss: 0.3915 - dense_3_loss: 0.1749 - dense_4_loss: 0.0832 - loss: 0.6496\n",
      "Epoch 495/500\n",
      "\u001b[1m163/163\u001b[0m \u001b[32m━━━━━━━━━━━━━━━━━━━━\u001b[0m\u001b[37m\u001b[0m \u001b[1m1s\u001b[0m 5ms/step - dense_2_loss: 0.6433 - dense_3_loss: 0.2523 - dense_4_loss: 0.0965 - loss: 0.9922\n",
      "Epoch 496/500\n",
      "\u001b[1m163/163\u001b[0m \u001b[32m━━━━━━━━━━━━━━━━━━━━\u001b[0m\u001b[37m\u001b[0m \u001b[1m1s\u001b[0m 5ms/step - dense_2_loss: 0.6316 - dense_3_loss: 0.2450 - dense_4_loss: 0.0860 - loss: 0.9626\n",
      "Epoch 497/500\n",
      "\u001b[1m163/163\u001b[0m \u001b[32m━━━━━━━━━━━━━━━━━━━━\u001b[0m\u001b[37m\u001b[0m \u001b[1m1s\u001b[0m 5ms/step - dense_2_loss: 0.5488 - dense_3_loss: 0.2194 - dense_4_loss: 0.0908 - loss: 0.8590\n",
      "Epoch 498/500\n",
      "\u001b[1m163/163\u001b[0m \u001b[32m━━━━━━━━━━━━━━━━━━━━\u001b[0m\u001b[37m\u001b[0m \u001b[1m1s\u001b[0m 7ms/step - dense_2_loss: 0.7064 - dense_3_loss: 0.2842 - dense_4_loss: 0.1016 - loss: 1.0923\n",
      "Epoch 499/500\n",
      "\u001b[1m163/163\u001b[0m \u001b[32m━━━━━━━━━━━━━━━━━━━━\u001b[0m\u001b[37m\u001b[0m \u001b[1m1s\u001b[0m 4ms/step - dense_2_loss: 0.7313 - dense_3_loss: 0.3026 - dense_4_loss: 0.0852 - loss: 1.1192\n",
      "Epoch 500/500\n",
      "\u001b[1m163/163\u001b[0m \u001b[32m━━━━━━━━━━━━━━━━━━━━\u001b[0m\u001b[37m\u001b[0m \u001b[1m1s\u001b[0m 4ms/step - dense_2_loss: 0.6165 - dense_3_loss: 0.1982 - dense_4_loss: 0.0789 - loss: 0.8937\n"
     ]
    },
    {
     "data": {
      "text/plain": [
       "<keras.src.callbacks.history.History at 0x726fb4fce210>"
      ]
     },
     "execution_count": 36,
     "metadata": {},
     "output_type": "execute_result"
    }
   ],
   "source": [
    "regressor.fit(X,[y_na,y_ue,y_jp],epochs=500,batch_size=100)"
   ]
  },
  {
   "cell_type": "code",
   "execution_count": 37,
   "id": "12137332-2e9d-4f84-b330-6fb8eba747ef",
   "metadata": {},
   "outputs": [
    {
     "name": "stdout",
     "output_type": "stream",
     "text": [
      "\u001b[1m510/510\u001b[0m \u001b[32m━━━━━━━━━━━━━━━━━━━━\u001b[0m\u001b[37m\u001b[0m \u001b[1m1s\u001b[0m 2ms/step\n"
     ]
    }
   ],
   "source": [
    "previsao_na, previsao_eu, previsao_jp = regressor.predict(X)"
   ]
  },
  {
   "cell_type": "code",
   "execution_count": 38,
   "id": "55e5738e-30c7-4ddb-a511-1cd50bfa7d61",
   "metadata": {},
   "outputs": [
    {
     "data": {
      "text/plain": [
       "(array([[2.0004206 ],\n",
       "        [2.6410708 ],\n",
       "        [2.288507  ],\n",
       "        ...,\n",
       "        [0.5264826 ],\n",
       "        [0.16004458],\n",
       "        [0.19905242]], dtype=float32),\n",
       " 0.32618183)"
      ]
     },
     "execution_count": 38,
     "metadata": {},
     "output_type": "execute_result"
    }
   ],
   "source": [
    "previsao_na, previsao_na.mean()"
   ]
  },
  {
   "cell_type": "code",
   "execution_count": 39,
   "id": "8b86f24a-7503-4dbd-b71e-6f993772b475",
   "metadata": {},
   "outputs": [
    {
     "data": {
      "text/plain": [
       "(array([4.149e+01, 2.908e+01, 1.585e+01, ..., 0.000e+00, 0.000e+00,\n",
       "        1.000e-02]),\n",
       " 0.26564667607881653)"
      ]
     },
     "execution_count": 39,
     "metadata": {},
     "output_type": "execute_result"
    }
   ],
   "source": [
    "y_na, y_na.mean()"
   ]
  },
  {
   "cell_type": "code",
   "execution_count": 40,
   "id": "2ff2ad17-ac39-4ca9-88a5-389300a9d9df",
   "metadata": {},
   "outputs": [],
   "source": [
    "from sklearn.metrics import mean_absolute_error"
   ]
  },
  {
   "cell_type": "code",
   "execution_count": 41,
   "id": "1e0125c1-b6f4-4d96-9ba0-dad9447adcc5",
   "metadata": {},
   "outputs": [
    {
     "data": {
      "text/plain": [
       "0.29275244625418473"
      ]
     },
     "execution_count": 41,
     "metadata": {},
     "output_type": "execute_result"
    }
   ],
   "source": [
    "mean_absolute_error(y_na,previsao_na)"
   ]
  },
  {
   "cell_type": "code",
   "execution_count": 42,
   "id": "80c6a1b6-732a-44c8-85d9-8cc4e04e2c26",
   "metadata": {},
   "outputs": [
    {
     "data": {
      "text/plain": [
       "(array([[0.95681274],\n",
       "        [1.0658588 ],\n",
       "        [1.053056  ],\n",
       "        ...,\n",
       "        [0.30513513],\n",
       "        [0.09754215],\n",
       "        [0.11882943]], dtype=float32),\n",
       " 0.18863016)"
      ]
     },
     "execution_count": 42,
     "metadata": {},
     "output_type": "execute_result"
    }
   ],
   "source": [
    "previsao_eu, previsao_eu.mean()"
   ]
  },
  {
   "cell_type": "code",
   "execution_count": 43,
   "id": "f4cbb386-5626-4e7b-bab5-ce3bf1bffe53",
   "metadata": {},
   "outputs": [
    {
     "data": {
      "text/plain": [
       "(array([2.902e+01, 3.580e+00, 1.288e+01, ..., 0.000e+00, 1.000e-02,\n",
       "        0.000e+00]),\n",
       " 0.14773126266036463)"
      ]
     },
     "execution_count": 43,
     "metadata": {},
     "output_type": "execute_result"
    }
   ],
   "source": [
    "y_ue, y_ue.mean()"
   ]
  },
  {
   "cell_type": "code",
   "execution_count": 44,
   "id": "f8940314-fcc1-449e-b79a-d920f553d700",
   "metadata": {},
   "outputs": [
    {
     "data": {
      "text/plain": [
       "0.19293249122181488"
      ]
     },
     "execution_count": 44,
     "metadata": {},
     "output_type": "execute_result"
    }
   ],
   "source": [
    "mean_absolute_error(y_ue,previsao_eu)"
   ]
  },
  {
   "cell_type": "code",
   "execution_count": 45,
   "id": "8f0e4bb3-cc4d-4b2c-8ba9-5d7e1ea2afc7",
   "metadata": {},
   "outputs": [
    {
     "data": {
      "text/plain": [
       "(array([[0.822733  ],\n",
       "        [1.0148048 ],\n",
       "        [0.91108406],\n",
       "        ...,\n",
       "        [0.06782256],\n",
       "        [0.07005881],\n",
       "        [0.06622669]], dtype=float32),\n",
       " 0.080956064)"
      ]
     },
     "execution_count": 45,
     "metadata": {},
     "output_type": "execute_result"
    }
   ],
   "source": [
    "previsao_jp, previsao_jp.mean()"
   ]
  },
  {
   "cell_type": "code",
   "execution_count": 46,
   "id": "4c8c3419-50c4-43e6-89cb-aba6314da307",
   "metadata": {},
   "outputs": [
    {
     "data": {
      "text/plain": [
       "(array([3.77, 6.81, 3.79, ..., 0.  , 0.  , 0.  ]), 0.0788330980295869)"
      ]
     },
     "execution_count": 46,
     "metadata": {},
     "output_type": "execute_result"
    }
   ],
   "source": [
    "y_jp, y_jp.mean()"
   ]
  },
  {
   "cell_type": "code",
   "execution_count": 47,
   "id": "b36b4035-23ca-4ba1-b89f-680a925eff57",
   "metadata": {},
   "outputs": [
    {
     "data": {
      "text/plain": [
       "0.10707540538171825"
      ]
     },
     "execution_count": 47,
     "metadata": {},
     "output_type": "execute_result"
    }
   ],
   "source": [
    "mean_absolute_error(y_jp,previsao_jp)"
   ]
  },
  {
   "cell_type": "code",
   "execution_count": null,
   "id": "d9986855-323e-48c3-9298-13ff7b541d56",
   "metadata": {},
   "outputs": [],
   "source": []
  }
 ],
 "metadata": {
  "kernelspec": {
   "display_name": "Python 3 (ipykernel)",
   "language": "python",
   "name": "python3"
  },
  "language_info": {
   "codemirror_mode": {
    "name": "ipython",
    "version": 3
   },
   "file_extension": ".py",
   "mimetype": "text/x-python",
   "name": "python",
   "nbconvert_exporter": "python",
   "pygments_lexer": "ipython3",
   "version": "3.12.2"
  }
 },
 "nbformat": 4,
 "nbformat_minor": 5
}
