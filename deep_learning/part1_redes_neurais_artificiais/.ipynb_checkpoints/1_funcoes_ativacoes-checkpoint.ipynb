{
 "cells": [
  {
   "cell_type": "code",
   "execution_count": 5,
   "id": "69823671-3f13-46dc-9a87-8653e908dc6b",
   "metadata": {
    "scrolled": true
   },
   "outputs": [
    {
     "data": {
      "text/plain": [
       "'1.26.4'"
      ]
     },
     "execution_count": 5,
     "metadata": {},
     "output_type": "execute_result"
    }
   ],
   "source": [
    "import numpy as np\n",
    "np.__version__"
   ]
  },
  {
   "cell_type": "markdown",
   "id": "ea52b3ad-07a8-4b17-8a6d-cbe70c203246",
   "metadata": {
    "jp-MarkdownHeadingCollapsed": true
   },
   "source": [
    "## Step Function"
   ]
  },
  {
   "cell_type": "code",
   "execution_count": 6,
   "id": "45cb7e43-6fa8-4b51-876d-84aa554f1015",
   "metadata": {},
   "outputs": [],
   "source": [
    "def step_function(soma):\n",
    "    if soma>=1:\n",
    "        return 1\n",
    "    return 0"
   ]
  },
  {
   "cell_type": "code",
   "execution_count": 7,
   "id": "6d538962-551c-4ad8-ad7f-44e630ba0723",
   "metadata": {},
   "outputs": [
    {
     "data": {
      "text/plain": [
       "0"
      ]
     },
     "execution_count": 7,
     "metadata": {},
     "output_type": "execute_result"
    }
   ],
   "source": [
    "step_function(-10)"
   ]
  },
  {
   "cell_type": "code",
   "execution_count": 8,
   "id": "0c08449b-e973-4679-a950-fb801a5aa015",
   "metadata": {},
   "outputs": [
    {
     "data": {
      "text/plain": [
       "1"
      ]
     },
     "execution_count": 8,
     "metadata": {},
     "output_type": "execute_result"
    }
   ],
   "source": [
    "step_function(10)"
   ]
  },
  {
   "cell_type": "code",
   "execution_count": 9,
   "id": "1bface74-37ff-4cb7-b2ef-827f4139130f",
   "metadata": {},
   "outputs": [
    {
     "data": {
      "text/plain": [
       "1"
      ]
     },
     "execution_count": 9,
     "metadata": {},
     "output_type": "execute_result"
    }
   ],
   "source": [
    "step_function(1)"
   ]
  },
  {
   "cell_type": "markdown",
   "id": "ec3620c6-00a4-457a-9ae5-44c1a1f19410",
   "metadata": {
    "jp-MarkdownHeadingCollapsed": true
   },
   "source": [
    "## Sigmoid"
   ]
  },
  {
   "cell_type": "code",
   "execution_count": 10,
   "id": "9fefcf25-8345-4501-81b1-5c928a7301e2",
   "metadata": {},
   "outputs": [],
   "source": [
    "def sigmoid_function(soma):\n",
    "    return 1 / ( 1 + np.exp(-soma))"
   ]
  },
  {
   "cell_type": "code",
   "execution_count": 11,
   "id": "6cfe83c0-55e3-49f8-be11-eb52c13ff848",
   "metadata": {},
   "outputs": [
    {
     "data": {
      "text/plain": [
       "4.5397868702434395e-05"
      ]
     },
     "execution_count": 11,
     "metadata": {},
     "output_type": "execute_result"
    }
   ],
   "source": [
    "sigmoid_function(-10)"
   ]
  },
  {
   "cell_type": "code",
   "execution_count": 12,
   "id": "8f58fd5e-d99e-4402-b87a-414c0885cd78",
   "metadata": {},
   "outputs": [
    {
     "data": {
      "text/plain": [
       "0.9999546021312976"
      ]
     },
     "execution_count": 12,
     "metadata": {},
     "output_type": "execute_result"
    }
   ],
   "source": [
    "sigmoid_function(10)"
   ]
  },
  {
   "cell_type": "code",
   "execution_count": 13,
   "id": "23e5a1c8-469c-4ec0-a446-5297c1413fd2",
   "metadata": {},
   "outputs": [
    {
     "data": {
      "text/plain": [
       "0.7310585786300049"
      ]
     },
     "execution_count": 13,
     "metadata": {},
     "output_type": "execute_result"
    }
   ],
   "source": [
    "sigmoid_function(1)"
   ]
  },
  {
   "cell_type": "code",
   "execution_count": 32,
   "id": "a0041694-cca1-4f2a-9eea-fcc8c52abf56",
   "metadata": {},
   "outputs": [
    {
     "data": {
      "text/plain": [
       "0.8909031788043871"
      ]
     },
     "execution_count": 32,
     "metadata": {},
     "output_type": "execute_result"
    }
   ],
   "source": [
    "sigmoid_function(2.1)"
   ]
  },
  {
   "cell_type": "markdown",
   "id": "2508f5e5-1f56-4e25-9d61-3a92b3b55fa1",
   "metadata": {
    "jp-MarkdownHeadingCollapsed": true
   },
   "source": [
    "## Hyperbolic"
   ]
  },
  {
   "cell_type": "code",
   "execution_count": 16,
   "id": "ee22d095-3ff1-43b7-8c76-357fcb11510f",
   "metadata": {},
   "outputs": [],
   "source": [
    "def tahn_function(soma):\n",
    "    return (np.exp(soma) - np.exp(-soma)) / (np.exp(soma) + np.exp(-soma))"
   ]
  },
  {
   "cell_type": "code",
   "execution_count": 17,
   "id": "ce15b79f-9fb2-4098-ac4c-8bbc792fcfb9",
   "metadata": {},
   "outputs": [
    {
     "data": {
      "text/plain": [
       "-0.9999999958776926"
      ]
     },
     "execution_count": 17,
     "metadata": {},
     "output_type": "execute_result"
    }
   ],
   "source": [
    "tahn_function(-10)"
   ]
  },
  {
   "cell_type": "code",
   "execution_count": 18,
   "id": "f8fff115-ec8f-40b0-8c6e-61bb1e54507c",
   "metadata": {},
   "outputs": [
    {
     "data": {
      "text/plain": [
       "0.9999999958776926"
      ]
     },
     "execution_count": 18,
     "metadata": {},
     "output_type": "execute_result"
    }
   ],
   "source": [
    "tahn_function(10)"
   ]
  },
  {
   "cell_type": "code",
   "execution_count": 19,
   "id": "454c60bb-d7b9-439a-a564-ae9e4de065b2",
   "metadata": {},
   "outputs": [
    {
     "data": {
      "text/plain": [
       "0.7615941559557649"
      ]
     },
     "execution_count": 19,
     "metadata": {},
     "output_type": "execute_result"
    }
   ],
   "source": [
    "tahn_function(1)"
   ]
  },
  {
   "cell_type": "code",
   "execution_count": 33,
   "id": "4f61b365-fdba-42bc-a045-8eaceabb3eaf",
   "metadata": {},
   "outputs": [
    {
     "data": {
      "text/plain": [
       "0.9704519366134541"
      ]
     },
     "execution_count": 33,
     "metadata": {},
     "output_type": "execute_result"
    }
   ],
   "source": [
    "tahn_function(2.1)"
   ]
  },
  {
   "cell_type": "markdown",
   "id": "ca97eab5-5724-467c-8e81-757c73eed11a",
   "metadata": {},
   "source": [
    "## ReLU"
   ]
  },
  {
   "cell_type": "code",
   "execution_count": 20,
   "id": "4016b72b-9d9d-4cd8-aeaa-2dbb8aeb157c",
   "metadata": {},
   "outputs": [],
   "source": [
    "def relu_function(soma):\n",
    "    if soma >= 0:\n",
    "        return soma\n",
    "    return 0"
   ]
  },
  {
   "cell_type": "code",
   "execution_count": 21,
   "id": "b602a773-607f-47ca-a089-930b80c1ce30",
   "metadata": {},
   "outputs": [
    {
     "data": {
      "text/plain": [
       "0"
      ]
     },
     "execution_count": 21,
     "metadata": {},
     "output_type": "execute_result"
    }
   ],
   "source": [
    "relu_function(-10)"
   ]
  },
  {
   "cell_type": "code",
   "execution_count": 22,
   "id": "1dbdede2-35ed-4a96-b330-ddb984d40a3a",
   "metadata": {},
   "outputs": [
    {
     "data": {
      "text/plain": [
       "10"
      ]
     },
     "execution_count": 22,
     "metadata": {},
     "output_type": "execute_result"
    }
   ],
   "source": [
    "relu_function(10)"
   ]
  },
  {
   "cell_type": "code",
   "execution_count": 23,
   "id": "18f407f9-1810-414c-9816-0210e57d8cd4",
   "metadata": {},
   "outputs": [
    {
     "data": {
      "text/plain": [
       "0"
      ]
     },
     "execution_count": 23,
     "metadata": {},
     "output_type": "execute_result"
    }
   ],
   "source": [
    "relu_function(0)"
   ]
  },
  {
   "cell_type": "code",
   "execution_count": 34,
   "id": "e4242374-57f7-4215-97ea-2cda6f67f13a",
   "metadata": {},
   "outputs": [
    {
     "data": {
      "text/plain": [
       "2.1"
      ]
     },
     "execution_count": 34,
     "metadata": {},
     "output_type": "execute_result"
    }
   ],
   "source": [
    "relu_function(2.1)"
   ]
  },
  {
   "cell_type": "markdown",
   "id": "0419ac0b-a279-4d9a-988d-aa491adfe7b8",
   "metadata": {},
   "source": [
    "## SoftMax"
   ]
  },
  {
   "cell_type": "code",
   "execution_count": 24,
   "id": "a77522e2-6115-47b4-8ec2-7f9a86e8d7ad",
   "metadata": {},
   "outputs": [],
   "source": [
    "def softmax_function(x):\n",
    "    ex = np.exp(x)\n",
    "    return ex / ex.sum()"
   ]
  },
  {
   "cell_type": "code",
   "execution_count": 25,
   "id": "8da5679e-cd22-4755-a73c-44e4c5d498a1",
   "metadata": {},
   "outputs": [
    {
     "data": {
      "text/plain": [
       "array([0.99001676, 0.00667068, 0.00331256])"
      ]
     },
     "execution_count": 25,
     "metadata": {},
     "output_type": "execute_result"
    }
   ],
   "source": [
    "softmax_function([7,2,1.3])"
   ]
  },
  {
   "cell_type": "code",
   "execution_count": 27,
   "id": "082c7a42-a4a0-4191-a200-caaed27af8af",
   "metadata": {},
   "outputs": [
    {
     "data": {
      "text/plain": [
       "array([0.03434934, 0.03434934, 0.93130132])"
      ]
     },
     "execution_count": 27,
     "metadata": {},
     "output_type": "execute_result"
    }
   ],
   "source": [
    "softmax_function([2,2,5.3])"
   ]
  },
  {
   "cell_type": "markdown",
   "id": "0503f143-a101-45e3-9d75-cdeb7a6fba76",
   "metadata": {
    "jp-MarkdownHeadingCollapsed": true
   },
   "source": [
    "## Linear"
   ]
  },
  {
   "cell_type": "code",
   "execution_count": 28,
   "id": "37cda613-3559-4a7b-8162-3516f6d5df42",
   "metadata": {},
   "outputs": [],
   "source": [
    "def linear_function(soma):\n",
    "    return soma"
   ]
  },
  {
   "cell_type": "code",
   "execution_count": 29,
   "id": "85f52959-624a-4ed5-a772-47bb3f93136a",
   "metadata": {},
   "outputs": [
    {
     "data": {
      "text/plain": [
       "-10"
      ]
     },
     "execution_count": 29,
     "metadata": {},
     "output_type": "execute_result"
    }
   ],
   "source": [
    "linear_function(-10)"
   ]
  },
  {
   "cell_type": "code",
   "execution_count": 30,
   "id": "5c35e1b6-74e0-40cf-8e82-7919096a3d71",
   "metadata": {},
   "outputs": [
    {
     "data": {
      "text/plain": [
       "1"
      ]
     },
     "execution_count": 30,
     "metadata": {},
     "output_type": "execute_result"
    }
   ],
   "source": [
    "linear_function(1)"
   ]
  },
  {
   "cell_type": "code",
   "execution_count": 31,
   "id": "98d3ecce-62c2-478c-947f-253ea33d7db9",
   "metadata": {},
   "outputs": [
    {
     "data": {
      "text/plain": [
       "-10"
      ]
     },
     "execution_count": 31,
     "metadata": {},
     "output_type": "execute_result"
    }
   ],
   "source": [
    "linear_function(-10)"
   ]
  },
  {
   "cell_type": "markdown",
   "id": "c908783d-b22d-4ddd-ac05-18f843c4d4fd",
   "metadata": {},
   "source": [
    "## Pergunta 3 "
   ]
  },
  {
   "cell_type": "markdown",
   "id": "4475d379-4059-47a6-8aea-caa584954f24",
   "metadata": {},
   "source": [
    "Pergunta 3:\n",
    "A tabela abaixo apresenta na primeira coluna a classe esperada e na segunda coluna os resultados que foram calculados pela rede neural. Com base nesses dados, indique os valores do mean absolute error , mean squared error , root mean squared error  e a taxa de acerto (%)  da rede neural; respectivamente\n",
    "\n",
    "Classe Calculado\n",
    "1 0.3\n",
    "0 0.02\n",
    "1 0.89\n",
    "0 0.320"
   ]
  },
  {
   "cell_type": "code",
   "execution_count": 36,
   "id": "e09b16d2-c7e4-4f5f-a340-801156d18e92",
   "metadata": {},
   "outputs": [
    {
     "data": {
      "text/plain": [
       "(0.2875, 0.151225, 0.3888765871070152, 75.0)"
      ]
     },
     "execution_count": 36,
     "metadata": {},
     "output_type": "execute_result"
    }
   ],
   "source": [
    "import numpy as np\n",
    "\n",
    "# Dados fornecidos\n",
    "classe_esperada = np.array([1, 0, 1, 0])\n",
    "calculado = np.array([0.3, 0.02, 0.89, 0.32])\n",
    "\n",
    "# Mean Absolute Error (MAE)\n",
    "mae = np.mean(np.abs(classe_esperada - calculado))\n",
    "\n",
    "# Mean Squared Error (MSE)\n",
    "mse = np.mean((classe_esperada - calculado) ** 2)\n",
    "\n",
    "# Root Mean Squared Error (RMSE)\n",
    "rmse = np.sqrt(mse)\n",
    "\n",
    "# Taxa de Acerto (% Accuracy)\n",
    "# Considerando acerto quando: \n",
    "# - valor calculado >= 0.5 para classe esperada 1 \n",
    "# - valor calculado < 0.5 para classe esperada 0\n",
    "acertos = ((classe_esperada == 1) & (calculado >= 0.5)) | ((classe_esperada == 0) & (calculado < 0.5))\n",
    "taxa_acerto = np.mean(acertos) * 100\n",
    "\n",
    "mae, mse, rmse, taxa_acerto\n"
   ]
  },
  {
   "cell_type": "code",
   "execution_count": null,
   "id": "b3d77437-2c9c-40d3-bcb9-c847a2746a84",
   "metadata": {},
   "outputs": [],
   "source": []
  }
 ],
 "metadata": {
  "kernelspec": {
   "display_name": "Python 3 (ipykernel)",
   "language": "python",
   "name": "python3"
  },
  "language_info": {
   "codemirror_mode": {
    "name": "ipython",
    "version": 3
   },
   "file_extension": ".py",
   "mimetype": "text/x-python",
   "name": "python",
   "nbconvert_exporter": "python",
   "pygments_lexer": "ipython3",
   "version": "3.12.2"
  }
 },
 "nbformat": 4,
 "nbformat_minor": 5
}
