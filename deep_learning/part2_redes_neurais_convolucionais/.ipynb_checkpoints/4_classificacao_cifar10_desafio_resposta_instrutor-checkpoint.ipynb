{
 "cells": [
  {
   "cell_type": "markdown",
   "id": "d85a14fd-5031-447e-a739-19a5f9ed18e4",
   "metadata": {},
   "source": [
    "# MNIST Simples\n",
    "\n",
    "Não tem base de dados externa, é importado a base de dados internamento do tensorflow"
   ]
  },
  {
   "cell_type": "markdown",
   "id": "0e5aee0f-a2da-4ae8-bd6f-94fdd1064281",
   "metadata": {},
   "source": [
    "## Importando bibliotecas"
   ]
  },
  {
   "cell_type": "code",
   "execution_count": 15,
   "id": "a3a0ff0d-c9ce-4ad2-bad4-589b6c0901af",
   "metadata": {},
   "outputs": [],
   "source": [
    "!pip install -q tensorflow==2.16.1"
   ]
  },
  {
   "cell_type": "code",
   "execution_count": 16,
   "id": "220a5ecf-2816-4c6c-af16-5653eff133f8",
   "metadata": {},
   "outputs": [],
   "source": [
    "# Importacao desta lib para desativar erro no TensorFlow\n",
    "import os\n",
    "os.environ[\"CUDA_VISIBLE_DEVICES\"] = \"-1\""
   ]
  },
  {
   "cell_type": "code",
   "execution_count": 42,
   "id": "adbd4a8b-e734-486e-af62-a902da952e49",
   "metadata": {},
   "outputs": [],
   "source": [
    "import matplotlib.pyplot as plt\n",
    "import numpy as np\n",
    "from keras.datasets import cifar10\n",
    "from keras.models import Sequential\n",
    "from keras.layers import Dense, Dropout, Activation, Flatten, Conv2D, MaxPooling2D\n",
    "from tensorflow.keras import utils as np_utils\n",
    "from keras.layers import BatchNormalization\n",
    "from tensorflow.keras.utils import to_categorical"
   ]
  },
  {
   "cell_type": "markdown",
   "id": "d021dc6f-a9c2-4dad-b201-ba060a576239",
   "metadata": {},
   "source": [
    "## Importando base de dados"
   ]
  },
  {
   "cell_type": "code",
   "execution_count": 43,
   "id": "be641d4a-14f0-49ce-9541-72a0d4076d1c",
   "metadata": {},
   "outputs": [],
   "source": [
    "# Carregamento da base de dados (na primeira execução será feito o download)\n",
    "(X_treinamento, y_treinamento), (X_teste, y_teste) = cifar10.load_data()"
   ]
  },
  {
   "cell_type": "code",
   "execution_count": 44,
   "id": "34bf13a4-fef7-4cdb-8a29-2e9239849314",
   "metadata": {},
   "outputs": [
    {
     "data": {
      "text/plain": [
       "Text(0.5, 1.0, 'Classe [1]')"
      ]
     },
     "execution_count": 44,
     "metadata": {},
     "output_type": "execute_result"
    },
    {
     "data": {
      "image/png": "[encoded data removed]",
      "text/plain": [
       "<Figure size 640x480 with 1 Axes>"
      ]
     },
     "metadata": {},
     "output_type": "display_data"
    }
   ],
   "source": [
    "# Mostra a imagem e a respectiva classe, de acordo com o índice passado como parâmetro\n",
    "# Você pode testar os seguintes índices para visualizar uma imagem de cada classe\n",
    "# Avião - 650\n",
    "# Pássaro - 6\n",
    "# Gato - 9\n",
    "# Veado - 3\n",
    "# Cachorro - 813\n",
    "# Sapo - 651\n",
    "# Cavalo - 652\n",
    "# Barco - 811\n",
    "# Caminhão - 970\n",
    "# Automóvel - 4\n",
    "plt.imshow(X_treinamento[4])\n",
    "plt.title('Classe '+ str(y_treinamento[4]))"
   ]
  },
  {
   "cell_type": "markdown",
   "id": "7d30795a-83c2-4b06-9502-3a3216ef7f68",
   "metadata": {},
   "source": [
    "## Pré-preparamento"
   ]
  },
  {
   "cell_type": "code",
   "execution_count": 45,
   "id": "204b233b-061f-4e68-ab4e-655e95b441ac",
   "metadata": {},
   "outputs": [],
   "source": [
    "# As dimensões dessas imagens é 32x32 e o número de canails é 3 pois vamos utilizar as imagens coloridas\n",
    "previsores_treinamento = X_treinamento.reshape(X_treinamento.shape[0], 32, 32, 3)\n",
    "previsores_teste = X_teste.reshape(X_teste.shape[0], 32, 32, 3)"
   ]
  },
  {
   "cell_type": "code",
   "execution_count": 46,
   "id": "c28efc5e-4e09-469d-a15c-642c267e4a05",
   "metadata": {},
   "outputs": [],
   "source": [
    "# Conversão para float para podermos aplicar a normalização\n",
    "previsores_treinamento = previsores_treinamento.astype('float32')\n",
    "previsores_teste = previsores_teste.astype('float32')"
   ]
  },
  {
   "cell_type": "code",
   "execution_count": 47,
   "id": "72cc8107-e4be-4606-9231-9bf562c76b1a",
   "metadata": {},
   "outputs": [],
   "source": [
    "# Normalização para os dados ficarem na escala entre 0 e 1 e agilizar o processamento\n",
    "previsores_treinamento /= 255\n",
    "previsores_teste /= 255"
   ]
  },
  {
   "cell_type": "code",
   "execution_count": 52,
   "id": "2e792568-7f21-46e7-b0e2-645f7f828eb7",
   "metadata": {},
   "outputs": [],
   "source": [
    "# Criação de variáveis do tipo dummy, pois teremos 10 saídas\n",
    "classe_treinamento = np_utils.to_categorical(y_treinamento, 10)\n",
    "classe_teste = np_utils.to_categorical(y_teste, 10)"
   ]
  },
  {
   "cell_type": "markdown",
   "id": "c2836d29-e322-4565-bc7d-af7c5965a93c",
   "metadata": {},
   "source": [
    "## Estrutura da Rede Neural"
   ]
  },
  {
   "cell_type": "code",
   "execution_count": 53,
   "id": "2f6264f6-f8fa-4ee3-80ef-1fc729d6622a",
   "metadata": {},
   "outputs": [],
   "source": [
    "# Criação da rede neural com duas camadas de convolução\n",
    "classificador = Sequential()\n",
    "classificador.add(Conv2D(32, (3, 3), input_shape=(32,32,3), activation = 'relu'))\n",
    "classificador.add(BatchNormalization())\n",
    "classificador.add(MaxPooling2D(pool_size=(2,2)))\n",
    "\n",
    "classificador.add(Conv2D(32, (3, 3), activation = 'relu'))\n",
    "classificador.add(BatchNormalization())\n",
    "classificador.add(MaxPooling2D(pool_size=(2,2)))\n",
    "\n",
    "classificador.add(Flatten())"
   ]
  },
  {
   "cell_type": "code",
   "execution_count": 54,
   "id": "e8360e47-267b-4613-94bf-cac96e7f6017",
   "metadata": {
    "scrolled": true
   },
   "outputs": [
    {
     "name": "stdout",
     "output_type": "stream",
     "text": [
      "Epoch 1/5\n",
      "\u001b[1m391/391\u001b[0m \u001b[32m━━━━━━━━━━━━━━━━━━━━\u001b[0m\u001b[37m\u001b[0m \u001b[1m38s\u001b[0m 93ms/step - accuracy: 0.3654 - loss: 1.7792 - val_accuracy: 0.3753 - val_loss: 1.8270\n",
      "Epoch 2/5\n",
      "\u001b[1m391/391\u001b[0m \u001b[32m━━━━━━━━━━━━━━━━━━━━\u001b[0m\u001b[37m\u001b[0m \u001b[1m47s\u001b[0m 119ms/step - accuracy: 0.5718 - loss: 1.2092 - val_accuracy: 0.5145 - val_loss: 1.4395\n",
      "Epoch 3/5\n",
      "\u001b[1m391/391\u001b[0m \u001b[32m━━━━━━━━━━━━━━━━━━━━\u001b[0m\u001b[37m\u001b[0m \u001b[1m36s\u001b[0m 93ms/step - accuracy: 0.6427 - loss: 1.0150 - val_accuracy: 0.5551 - val_loss: 1.2955\n",
      "Epoch 4/5\n",
      "\u001b[1m391/391\u001b[0m \u001b[32m━━━━━━━━━━━━━━━━━━━━\u001b[0m\u001b[37m\u001b[0m \u001b[1m34s\u001b[0m 87ms/step - accuracy: 0.6833 - loss: 0.8992 - val_accuracy: 0.6861 - val_loss: 0.9051\n",
      "Epoch 5/5\n",
      "\u001b[1m391/391\u001b[0m \u001b[32m━━━━━━━━━━━━━━━━━━━━\u001b[0m\u001b[37m\u001b[0m \u001b[1m42s\u001b[0m 107ms/step - accuracy: 0.7148 - loss: 0.8121 - val_accuracy: 0.6652 - val_loss: 0.9748\n"
     ]
    },
    {
     "data": {
      "text/plain": [
       "<keras.src.callbacks.history.History at 0x7af6b5962ff0>"
      ]
     },
     "execution_count": 54,
     "metadata": {},
     "output_type": "execute_result"
    }
   ],
   "source": [
    "# Rede neural densa com duas camadas ocultas\n",
    "classificador.add(Dense(units = 128, activation = 'relu'))\n",
    "classificador.add(Dropout(0.2))\n",
    "classificador.add(Dense(units = 128, activation = 'relu'))\n",
    "classificador.add(Dropout(0.2))\n",
    "classificador.add(Dense(10, activation='softmax'))\n",
    "classificador.compile(loss='categorical_crossentropy', \n",
    "                      optimizer=\"adam\", metrics=['accuracy'])\n",
    "classificador.fit(previsores_treinamento, classe_treinamento, \n",
    "                  batch_size=128, epochs=5, \n",
    "                  validation_data=(previsores_teste, classe_teste))\n"
   ]
  },
  {
   "cell_type": "code",
   "execution_count": 56,
   "id": "55e91ba1-e7a0-4244-ad07-e8045a3b8735",
   "metadata": {},
   "outputs": [
    {
     "name": "stdout",
     "output_type": "stream",
     "text": [
      "\u001b[1m313/313\u001b[0m \u001b[32m━━━━━━━━━━━━━━━━━━━━\u001b[0m\u001b[37m\u001b[0m \u001b[1m1s\u001b[0m 5ms/step - accuracy: 0.6641 - loss: 0.9704\n",
      "Acurácia no conjunto de teste: 0.67\n"
     ]
    }
   ],
   "source": [
    "test_loss, test_accuracy = classificador.evaluate(previsores_teste, classe_teste)\n",
    "print(f\"Acurácia no conjunto de teste: {test_accuracy:.2f}\")"
   ]
  },
  {
   "cell_type": "code",
   "execution_count": null,
   "id": "21ef2ff5-45f7-4dd9-978a-38e4379ea494",
   "metadata": {},
   "outputs": [],
   "source": []
  }
 ],
 "metadata": {
  "kernelspec": {
   "display_name": "Python 3 (ipykernel)",
   "language": "python",
   "name": "python3"
  },
  "language_info": {
   "codemirror_mode": {
    "name": "ipython",
    "version": 3
   },
   "file_extension": ".py",
   "mimetype": "text/x-python",
   "name": "python",
   "nbconvert_exporter": "python",
   "pygments_lexer": "ipython3",
   "version": "3.12.2"
  }
 },
 "nbformat": 4,
 "nbformat_minor": 5
}
