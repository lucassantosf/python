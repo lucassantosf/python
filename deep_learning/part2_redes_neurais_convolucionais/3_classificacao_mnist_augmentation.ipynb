{
 "cells": [
  {
   "cell_type": "markdown",
   "id": "d85a14fd-5031-447e-a739-19a5f9ed18e4",
   "metadata": {},
   "source": [
    "# MNIST Simples\n",
    "\n",
    "Não tem base de dados externa, é importado a base de dados internamento do tensorflow"
   ]
  },
  {
   "cell_type": "markdown",
   "id": "0e5aee0f-a2da-4ae8-bd6f-94fdd1064281",
   "metadata": {
    "jp-MarkdownHeadingCollapsed": true
   },
   "source": [
    "## Importando bibliotecas"
   ]
  },
  {
   "cell_type": "code",
   "execution_count": 1,
   "id": "a3a0ff0d-c9ce-4ad2-bad4-589b6c0901af",
   "metadata": {},
   "outputs": [],
   "source": [
    "!pip install -q tensorflow==2.16.1"
   ]
  },
  {
   "cell_type": "code",
   "execution_count": 2,
   "id": "220a5ecf-2816-4c6c-af16-5653eff133f8",
   "metadata": {},
   "outputs": [],
   "source": [
    "# Importacao desta lib para desativar erro no TensorFlow\n",
    "import os\n",
    "os.environ[\"CUDA_VISIBLE_DEVICES\"] = \"-1\""
   ]
  },
  {
   "cell_type": "code",
   "execution_count": 3,
   "id": "21dad27f-9023-46a9-a7b5-e798c855ff3b",
   "metadata": {},
   "outputs": [
    {
     "name": "stderr",
     "output_type": "stream",
     "text": [
      "2025-01-13 15:52:34.107396: I external/local_tsl/tsl/cuda/cudart_stub.cc:32] Could not find cuda drivers on your machine, GPU will not be used.\n",
      "2025-01-13 15:52:34.114193: I external/local_tsl/tsl/cuda/cudart_stub.cc:32] Could not find cuda drivers on your machine, GPU will not be used.\n",
      "2025-01-13 15:52:34.182594: I tensorflow/core/platform/cpu_feature_guard.cc:210] This TensorFlow binary is optimized to use available CPU instructions in performance-critical operations.\n",
      "To enable the following instructions: AVX2 FMA, in other operations, rebuild TensorFlow with the appropriate compiler flags.\n",
      "2025-01-13 15:52:35.866551: W tensorflow/compiler/tf2tensorrt/utils/py_utils.cc:38] TF-TRT Warning: Could not find TensorRT\n"
     ]
    }
   ],
   "source": [
    "import tensorflow as tf\n",
    "import keras "
   ]
  },
  {
   "cell_type": "code",
   "execution_count": 4,
   "id": "9d2ca945-d3af-47ac-a0d4-bfb57a902bd9",
   "metadata": {},
   "outputs": [
    {
     "data": {
      "text/plain": [
       "('2.16.1', '3.6.0')"
      ]
     },
     "execution_count": 4,
     "metadata": {},
     "output_type": "execute_result"
    }
   ],
   "source": [
    "tf.__version__, keras.__version__"
   ]
  },
  {
   "cell_type": "code",
   "execution_count": 5,
   "id": "adbd4a8b-e734-486e-af62-a902da952e49",
   "metadata": {},
   "outputs": [],
   "source": [
    "from tensorflow.keras.datasets import mnist\n",
    "from tensorflow.keras.models import Sequential\n",
    "from tensorflow.keras.layers import InputLayer, Dense, Flatten, Conv2D, MaxPooling2D\n",
    "from tensorflow.keras.preprocessing.image import ImageDataGenerator \n",
    "from tensorflow.keras import utils as np_utils"
   ]
  },
  {
   "cell_type": "code",
   "execution_count": 6,
   "id": "be641d4a-14f0-49ce-9541-72a0d4076d1c",
   "metadata": {},
   "outputs": [],
   "source": [
    "( X_treinamento, y_treinamento), (X_teste, y_teste) = mnist.load_data()"
   ]
  },
  {
   "cell_type": "markdown",
   "id": "7d30795a-83c2-4b06-9502-3a3216ef7f68",
   "metadata": {
    "jp-MarkdownHeadingCollapsed": true
   },
   "source": [
    "## Pré-preparamento"
   ]
  },
  {
   "cell_type": "code",
   "execution_count": 7,
   "id": "4029b1e2-2cf3-4038-878d-4608cc6f91dc",
   "metadata": {},
   "outputs": [
    {
     "data": {
      "text/plain": [
       "(60000, 28, 28)"
      ]
     },
     "execution_count": 7,
     "metadata": {},
     "output_type": "execute_result"
    }
   ],
   "source": [
    "X_treinamento.shape"
   ]
  },
  {
   "cell_type": "code",
   "execution_count": 8,
   "id": "204b233b-061f-4e68-ab4e-655e95b441ac",
   "metadata": {},
   "outputs": [],
   "source": [
    "X_treinamento = X_treinamento.reshape(X_treinamento.shape[0],28,28,1)"
   ]
  },
  {
   "cell_type": "code",
   "execution_count": 9,
   "id": "c28efc5e-4e09-469d-a15c-642c267e4a05",
   "metadata": {},
   "outputs": [],
   "source": [
    "X_teste = X_teste.reshape(X_teste.shape[0],28,28,1)"
   ]
  },
  {
   "cell_type": "code",
   "execution_count": 10,
   "id": "72cc8107-e4be-4606-9231-9bf562c76b1a",
   "metadata": {},
   "outputs": [
    {
     "data": {
      "text/plain": [
       "((60000, 28, 28, 1), (10000, 28, 28, 1))"
      ]
     },
     "execution_count": 10,
     "metadata": {},
     "output_type": "execute_result"
    }
   ],
   "source": [
    "X_treinamento.shape, X_teste.shape"
   ]
  },
  {
   "cell_type": "code",
   "execution_count": 11,
   "id": "2e792568-7f21-46e7-b0e2-645f7f828eb7",
   "metadata": {},
   "outputs": [],
   "source": [
    "X_treinamento = X_treinamento.astype('float32')"
   ]
  },
  {
   "cell_type": "code",
   "execution_count": 12,
   "id": "94680ff0-3384-4a46-adee-68c5cd51bea7",
   "metadata": {},
   "outputs": [],
   "source": [
    "X_teste = X_teste.astype('float32')"
   ]
  },
  {
   "cell_type": "code",
   "execution_count": 13,
   "id": "5c7e7fd5-4701-473f-bfc6-c5f871390067",
   "metadata": {},
   "outputs": [],
   "source": [
    "X_treinamento /= 255\n",
    "X_teste /= 255"
   ]
  },
  {
   "cell_type": "code",
   "execution_count": 14,
   "id": "c123f1a3-6da3-4463-ae9f-caeed6cc593a",
   "metadata": {},
   "outputs": [
    {
     "data": {
      "text/plain": [
       "(1.0, 0.0)"
      ]
     },
     "execution_count": 14,
     "metadata": {},
     "output_type": "execute_result"
    }
   ],
   "source": [
    "X_treinamento.max(), X_treinamento.min() "
   ]
  },
  {
   "cell_type": "code",
   "execution_count": 15,
   "id": "7b9e0ba0-1959-47f9-b00a-e0602d36d564",
   "metadata": {},
   "outputs": [
    {
     "data": {
      "text/plain": [
       "array([5, 0, 4, ..., 5, 6, 8], dtype=uint8)"
      ]
     },
     "execution_count": 15,
     "metadata": {},
     "output_type": "execute_result"
    }
   ],
   "source": [
    "y_treinamento"
   ]
  },
  {
   "cell_type": "code",
   "execution_count": 16,
   "id": "b759eb53-00ae-45d5-a09a-0c7225ed7c71",
   "metadata": {},
   "outputs": [],
   "source": [
    "y_treinamento = np_utils.to_categorical(y_treinamento, 10)\n",
    "y_teste = np_utils.to_categorical(y_teste, 10)"
   ]
  },
  {
   "cell_type": "code",
   "execution_count": 17,
   "id": "14051cc8-76b0-4e66-80b1-b2535d7cbe0e",
   "metadata": {},
   "outputs": [
    {
     "data": {
      "text/plain": [
       "array([[0., 0., 0., ..., 0., 0., 0.],\n",
       "       [1., 0., 0., ..., 0., 0., 0.],\n",
       "       [0., 0., 0., ..., 0., 0., 0.],\n",
       "       ...,\n",
       "       [0., 0., 0., ..., 0., 0., 0.],\n",
       "       [0., 0., 0., ..., 0., 0., 0.],\n",
       "       [0., 0., 0., ..., 0., 1., 0.]])"
      ]
     },
     "execution_count": 17,
     "metadata": {},
     "output_type": "execute_result"
    }
   ],
   "source": [
    "y_treinamento"
   ]
  },
  {
   "cell_type": "code",
   "execution_count": 18,
   "id": "c44f0d1b-1741-4cf6-9b3f-ebb7eae96221",
   "metadata": {},
   "outputs": [
    {
     "data": {
      "text/plain": [
       "array([0., 0., 0., 0., 0., 1., 0., 0., 0., 0.])"
      ]
     },
     "execution_count": 18,
     "metadata": {},
     "output_type": "execute_result"
    }
   ],
   "source": [
    "y_treinamento[0]"
   ]
  },
  {
   "cell_type": "markdown",
   "id": "c2836d29-e322-4565-bc7d-af7c5965a93c",
   "metadata": {},
   "source": [
    "## Estrutura da Rede Neural"
   ]
  },
  {
   "cell_type": "code",
   "execution_count": 19,
   "id": "2f6264f6-f8fa-4ee3-80ef-1fc729d6622a",
   "metadata": {},
   "outputs": [],
   "source": [
    "rede_neural = Sequential()\n",
    "rede_neural.add(InputLayer(shape=(28,28,1)))\n",
    "rede_neural.add(Conv2D(filters=32,kernel_size=(3,3),activation='relu'))\n",
    "rede_neural.add(MaxPooling2D(pool_size=(2,2)))\n",
    "rede_neural.add(Flatten())\n",
    "rede_neural.add(Dense(units=128,activation='relu'))\n",
    "rede_neural.add(Dense(units=128,activation='relu'))\n",
    "rede_neural.add(Dense(units=10,activation='softmax'))\n",
    "rede_neural.compile(loss='categorical_crossentropy',optimizer = 'adam', metrics=['accuracy'])"
   ]
  },
  {
   "cell_type": "code",
   "execution_count": 20,
   "id": "d69fbbcd-e70f-4602-8e3d-fcc3b8c63162",
   "metadata": {},
   "outputs": [],
   "source": [
    "gerador_treinamento = ImageDataGenerator(rotation_range=7,horizontal_flip=True,shear_range=0.2,height_shift_range=0.07,zoom_range=0.2)"
   ]
  },
  {
   "cell_type": "code",
   "execution_count": 21,
   "id": "58c9fd9c-8c72-4687-8dd3-59c144755c7c",
   "metadata": {},
   "outputs": [],
   "source": [
    "gerador_teste = ImageDataGenerator()"
   ]
  },
  {
   "cell_type": "code",
   "execution_count": 25,
   "id": "092e47e8-7e8e-4b6d-8687-0a916dc0576b",
   "metadata": {},
   "outputs": [],
   "source": [
    "base_treinamento = gerador_treinamento.flow(X_treinamento,y_treinamento, batch_size=128)"
   ]
  },
  {
   "cell_type": "code",
   "execution_count": 26,
   "id": "896dbcfd-ed81-427b-a361-0a446731bbbf",
   "metadata": {},
   "outputs": [],
   "source": [
    "base_teste = gerador_teste.flow(X_teste,y_teste,batch_size=128)"
   ]
  },
  {
   "cell_type": "code",
   "execution_count": 27,
   "id": "0d34b6a8-6123-4ac4-ba74-a6a6708bca09",
   "metadata": {},
   "outputs": [
    {
     "name": "stdout",
     "output_type": "stream",
     "text": [
      "Epoch 1/5\n",
      "\u001b[1m469/469\u001b[0m \u001b[32m━━━━━━━━━━━━━━━━━━━━\u001b[0m\u001b[37m\u001b[0m \u001b[1m28s\u001b[0m 59ms/step - accuracy: 0.9687 - loss: 0.0998 - val_accuracy: 0.9721 - val_loss: 0.0814\n",
      "Epoch 2/5\n",
      "\u001b[1m469/469\u001b[0m \u001b[32m━━━━━━━━━━━━━━━━━━━━\u001b[0m\u001b[37m\u001b[0m \u001b[1m50s\u001b[0m 78ms/step - accuracy: 0.9708 - loss: 0.0937 - val_accuracy: 0.9730 - val_loss: 0.0872\n",
      "Epoch 3/5\n",
      "\u001b[1m469/469\u001b[0m \u001b[32m━━━━━━━━━━━━━━━━━━━━\u001b[0m\u001b[37m\u001b[0m \u001b[1m35s\u001b[0m 75ms/step - accuracy: 0.9727 - loss: 0.0856 - val_accuracy: 0.9763 - val_loss: 0.0701\n",
      "Epoch 4/5\n",
      "\u001b[1m469/469\u001b[0m \u001b[32m━━━━━━━━━━━━━━━━━━━━\u001b[0m\u001b[37m\u001b[0m \u001b[1m23s\u001b[0m 48ms/step - accuracy: 0.9743 - loss: 0.0812 - val_accuracy: 0.9785 - val_loss: 0.0659\n",
      "Epoch 5/5\n",
      "\u001b[1m469/469\u001b[0m \u001b[32m━━━━━━━━━━━━━━━━━━━━\u001b[0m\u001b[37m\u001b[0m \u001b[1m20s\u001b[0m 43ms/step - accuracy: 0.9748 - loss: 0.0774 - val_accuracy: 0.9813 - val_loss: 0.0566\n"
     ]
    },
    {
     "data": {
      "text/plain": [
       "<keras.src.callbacks.history.History at 0x7caf995ff020>"
      ]
     },
     "execution_count": 27,
     "metadata": {},
     "output_type": "execute_result"
    }
   ],
   "source": [
    "rede_neural.fit(base_treinamento,epochs=5,validation_data=base_teste)"
   ]
  },
  {
   "cell_type": "code",
   "execution_count": null,
   "id": "5a84cc7b-ed65-45a3-821d-858df885379b",
   "metadata": {},
   "outputs": [],
   "source": []
  }
 ],
 "metadata": {
  "kernelspec": {
   "display_name": "Python 3 (ipykernel)",
   "language": "python",
   "name": "python3"
  },
  "language_info": {
   "codemirror_mode": {
    "name": "ipython",
    "version": 3
   },
   "file_extension": ".py",
   "mimetype": "text/x-python",
   "name": "python",
   "nbconvert_exporter": "python",
   "pygments_lexer": "ipython3",
   "version": "3.12.2"
  }
 },
 "nbformat": 4,
 "nbformat_minor": 5
}
