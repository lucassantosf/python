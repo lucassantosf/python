{
 "cells": [
  {
   "cell_type": "markdown",
   "id": "ccb6e90a-ae5d-4b14-99d0-3c668cd779da",
   "metadata": {},
   "source": [
    "# Previsão temporal - preços da bolsa de valores"
   ]
  },
  {
   "cell_type": "markdown",
   "id": "2ad8eeeb-bbbb-4fb2-8d17-95cdb23165bd",
   "metadata": {
    "jp-MarkdownHeadingCollapsed": true
   },
   "source": [
    "## Importando bibliotecas"
   ]
  },
  {
   "cell_type": "code",
   "execution_count": 1,
   "id": "4e184b0e-32a4-4805-a47f-4e7e499ca278",
   "metadata": {},
   "outputs": [],
   "source": [
    "# Importacao desta lib para desativar erro no TensorFlow\n",
    "import os\n",
    "os.environ[\"CUDA_VISIBLE_DEVICES\"] = \"-1\""
   ]
  },
  {
   "cell_type": "code",
   "execution_count": 2,
   "id": "b5674851-e883-4e2b-8a46-191012c19f40",
   "metadata": {},
   "outputs": [
    {
     "name": "stderr",
     "output_type": "stream",
     "text": [
      "2025-01-15 14:57:12.433903: I external/local_tsl/tsl/cuda/cudart_stub.cc:32] Could not find cuda drivers on your machine, GPU will not be used.\n",
      "2025-01-15 14:57:12.648744: I external/local_tsl/tsl/cuda/cudart_stub.cc:32] Could not find cuda drivers on your machine, GPU will not be used.\n",
      "2025-01-15 14:57:13.404376: I tensorflow/core/platform/cpu_feature_guard.cc:210] This TensorFlow binary is optimized to use available CPU instructions in performance-critical operations.\n",
      "To enable the following instructions: AVX2 FMA, in other operations, rebuild TensorFlow with the appropriate compiler flags.\n",
      "2025-01-15 14:57:15.584176: W tensorflow/compiler/tf2tensorrt/utils/py_utils.cc:38] TF-TRT Warning: Could not find TensorRT\n"
     ]
    }
   ],
   "source": [
    "import numpy as np\n",
    "import pandas as pd\n",
    "import matplotlib\n",
    "import tensorflow as tf\n",
    "import sklearn"
   ]
  },
  {
   "cell_type": "code",
   "execution_count": 3,
   "id": "2f5ef04c-bb08-4940-abf8-180a2b76d996",
   "metadata": {},
   "outputs": [
    {
     "data": {
      "text/plain": [
       "('1.26.4', '2.2.2', '2.16.1', '3.8.4', '1.4.2')"
      ]
     },
     "execution_count": 3,
     "metadata": {},
     "output_type": "execute_result"
    }
   ],
   "source": [
    "np.__version__, pd.__version__, tf.__version__, matplotlib.__version__, sklearn.__version__"
   ]
  },
  {
   "cell_type": "code",
   "execution_count": 4,
   "id": "8814e86d-2c49-444a-ad93-ed0144a2f56d",
   "metadata": {},
   "outputs": [],
   "source": [
    "from tensorflow.keras.models import Sequential\n",
    "from tensorflow.keras.layers import Dense, Dropout, LSTM\n",
    "from sklearn.preprocessing import MinMaxScaler\n",
    "import matplotlib.pyplot as plt"
   ]
  },
  {
   "cell_type": "markdown",
   "id": "76a5613a-a694-4474-a8b8-53dae35bfe6d",
   "metadata": {
    "jp-MarkdownHeadingCollapsed": true
   },
   "source": [
    "## Carregamento base de dados"
   ]
  },
  {
   "cell_type": "code",
   "execution_count": 6,
   "id": "aae312f5-ada8-4af3-80ac-2b4c83586e27",
   "metadata": {
    "scrolled": true
   },
   "outputs": [
    {
     "data": {
      "text/html": [
       "<div>\n",
       "<style scoped>\n",
       "    .dataframe tbody tr th:only-of-type {\n",
       "        vertical-align: middle;\n",
       "    }\n",
       "\n",
       "    .dataframe tbody tr th {\n",
       "        vertical-align: top;\n",
       "    }\n",
       "\n",
       "    .dataframe thead th {\n",
       "        text-align: right;\n",
       "    }\n",
       "</style>\n",
       "<table border=\"1\" class=\"dataframe\">\n",
       "  <thead>\n",
       "    <tr style=\"text-align: right;\">\n",
       "      <th></th>\n",
       "      <th>Date</th>\n",
       "      <th>Open</th>\n",
       "      <th>High</th>\n",
       "      <th>Low</th>\n",
       "      <th>Close</th>\n",
       "      <th>Adj Close</th>\n",
       "      <th>Volume</th>\n",
       "    </tr>\n",
       "  </thead>\n",
       "  <tbody>\n",
       "    <tr>\n",
       "      <th>0</th>\n",
       "      <td>2013-01-02</td>\n",
       "      <td>19.990000</td>\n",
       "      <td>20.209999</td>\n",
       "      <td>19.690001</td>\n",
       "      <td>19.690001</td>\n",
       "      <td>18.086271</td>\n",
       "      <td>30182600.0</td>\n",
       "    </tr>\n",
       "    <tr>\n",
       "      <th>1</th>\n",
       "      <td>2013-01-03</td>\n",
       "      <td>19.809999</td>\n",
       "      <td>20.400000</td>\n",
       "      <td>19.700001</td>\n",
       "      <td>20.400000</td>\n",
       "      <td>18.738441</td>\n",
       "      <td>30552600.0</td>\n",
       "    </tr>\n",
       "    <tr>\n",
       "      <th>2</th>\n",
       "      <td>2013-01-04</td>\n",
       "      <td>20.330000</td>\n",
       "      <td>20.620001</td>\n",
       "      <td>20.170000</td>\n",
       "      <td>20.430000</td>\n",
       "      <td>18.766001</td>\n",
       "      <td>36141000.0</td>\n",
       "    </tr>\n",
       "    <tr>\n",
       "      <th>3</th>\n",
       "      <td>2013-01-07</td>\n",
       "      <td>20.480000</td>\n",
       "      <td>20.670000</td>\n",
       "      <td>19.950001</td>\n",
       "      <td>20.080000</td>\n",
       "      <td>18.444506</td>\n",
       "      <td>28069600.0</td>\n",
       "    </tr>\n",
       "    <tr>\n",
       "      <th>4</th>\n",
       "      <td>2013-01-08</td>\n",
       "      <td>20.110001</td>\n",
       "      <td>20.230000</td>\n",
       "      <td>19.459999</td>\n",
       "      <td>19.500000</td>\n",
       "      <td>17.911745</td>\n",
       "      <td>29091300.0</td>\n",
       "    </tr>\n",
       "    <tr>\n",
       "      <th>...</th>\n",
       "      <td>...</td>\n",
       "      <td>...</td>\n",
       "      <td>...</td>\n",
       "      <td>...</td>\n",
       "      <td>...</td>\n",
       "      <td>...</td>\n",
       "      <td>...</td>\n",
       "    </tr>\n",
       "    <tr>\n",
       "      <th>1240</th>\n",
       "      <td>2017-12-25</td>\n",
       "      <td>15.750000</td>\n",
       "      <td>15.750000</td>\n",
       "      <td>15.750000</td>\n",
       "      <td>15.750000</td>\n",
       "      <td>15.718563</td>\n",
       "      <td>0.0</td>\n",
       "    </tr>\n",
       "    <tr>\n",
       "      <th>1241</th>\n",
       "      <td>2017-12-26</td>\n",
       "      <td>15.750000</td>\n",
       "      <td>15.990000</td>\n",
       "      <td>15.690000</td>\n",
       "      <td>15.970000</td>\n",
       "      <td>15.938125</td>\n",
       "      <td>22173100.0</td>\n",
       "    </tr>\n",
       "    <tr>\n",
       "      <th>1242</th>\n",
       "      <td>2017-12-27</td>\n",
       "      <td>15.990000</td>\n",
       "      <td>16.139999</td>\n",
       "      <td>15.980000</td>\n",
       "      <td>16.049999</td>\n",
       "      <td>16.017963</td>\n",
       "      <td>23552200.0</td>\n",
       "    </tr>\n",
       "    <tr>\n",
       "      <th>1243</th>\n",
       "      <td>2017-12-28</td>\n",
       "      <td>16.100000</td>\n",
       "      <td>16.129999</td>\n",
       "      <td>16.000000</td>\n",
       "      <td>16.100000</td>\n",
       "      <td>16.067865</td>\n",
       "      <td>19011500.0</td>\n",
       "    </tr>\n",
       "    <tr>\n",
       "      <th>1244</th>\n",
       "      <td>2017-12-29</td>\n",
       "      <td>16.100000</td>\n",
       "      <td>16.100000</td>\n",
       "      <td>16.100000</td>\n",
       "      <td>16.100000</td>\n",
       "      <td>16.067865</td>\n",
       "      <td>0.0</td>\n",
       "    </tr>\n",
       "  </tbody>\n",
       "</table>\n",
       "<p>1245 rows × 7 columns</p>\n",
       "</div>"
      ],
      "text/plain": [
       "            Date       Open       High        Low      Close  Adj Close  \\\n",
       "0     2013-01-02  19.990000  20.209999  19.690001  19.690001  18.086271   \n",
       "1     2013-01-03  19.809999  20.400000  19.700001  20.400000  18.738441   \n",
       "2     2013-01-04  20.330000  20.620001  20.170000  20.430000  18.766001   \n",
       "3     2013-01-07  20.480000  20.670000  19.950001  20.080000  18.444506   \n",
       "4     2013-01-08  20.110001  20.230000  19.459999  19.500000  17.911745   \n",
       "...          ...        ...        ...        ...        ...        ...   \n",
       "1240  2017-12-25  15.750000  15.750000  15.750000  15.750000  15.718563   \n",
       "1241  2017-12-26  15.750000  15.990000  15.690000  15.970000  15.938125   \n",
       "1242  2017-12-27  15.990000  16.139999  15.980000  16.049999  16.017963   \n",
       "1243  2017-12-28  16.100000  16.129999  16.000000  16.100000  16.067865   \n",
       "1244  2017-12-29  16.100000  16.100000  16.100000  16.100000  16.067865   \n",
       "\n",
       "          Volume  \n",
       "0     30182600.0  \n",
       "1     30552600.0  \n",
       "2     36141000.0  \n",
       "3     28069600.0  \n",
       "4     29091300.0  \n",
       "...          ...  \n",
       "1240         0.0  \n",
       "1241  22173100.0  \n",
       "1242  23552200.0  \n",
       "1243  19011500.0  \n",
       "1244         0.0  \n",
       "\n",
       "[1245 rows x 7 columns]"
      ]
     },
     "execution_count": 6,
     "metadata": {},
     "output_type": "execute_result"
    }
   ],
   "source": [
    "base = pd.read_csv('petr4-treinamento.csv')\n",
    "base"
   ]
  },
  {
   "cell_type": "markdown",
   "id": "15301b20-af73-404b-8707-c857c46b2495",
   "metadata": {
    "jp-MarkdownHeadingCollapsed": true
   },
   "source": [
    "## Verificar se há dados faltantes na base de dados"
   ]
  },
  {
   "cell_type": "code",
   "execution_count": 7,
   "id": "e97a554e-a1e9-45c4-b279-f86753f9237b",
   "metadata": {},
   "outputs": [
    {
     "data": {
      "text/plain": [
       "Date         0\n",
       "Open         3\n",
       "High         3\n",
       "Low          3\n",
       "Close        3\n",
       "Adj Close    3\n",
       "Volume       3\n",
       "dtype: int64"
      ]
     },
     "execution_count": 7,
     "metadata": {},
     "output_type": "execute_result"
    }
   ],
   "source": [
    "base.isnull().sum()"
   ]
  },
  {
   "cell_type": "code",
   "execution_count": 8,
   "id": "b27fcaaa-881b-4ced-a111-66d50b7055cd",
   "metadata": {},
   "outputs": [],
   "source": [
    "base = base.dropna()"
   ]
  },
  {
   "cell_type": "code",
   "execution_count": 9,
   "id": "f3b0dbf1-6b31-4f97-8263-a01560afc82c",
   "metadata": {},
   "outputs": [
    {
     "data": {
      "text/plain": [
       "Date         0\n",
       "Open         0\n",
       "High         0\n",
       "Low          0\n",
       "Close        0\n",
       "Adj Close    0\n",
       "Volume       0\n",
       "dtype: int64"
      ]
     },
     "execution_count": 9,
     "metadata": {},
     "output_type": "execute_result"
    }
   ],
   "source": [
    "base.isnull().sum()"
   ]
  },
  {
   "cell_type": "code",
   "execution_count": 10,
   "id": "21367f52-0024-4a89-89e8-89bcbb8889ae",
   "metadata": {},
   "outputs": [
    {
     "data": {
      "text/plain": [
       "(1242, 7)"
      ]
     },
     "execution_count": 10,
     "metadata": {},
     "output_type": "execute_result"
    }
   ],
   "source": [
    "base.shape"
   ]
  },
  {
   "cell_type": "code",
   "execution_count": 11,
   "id": "d7cb5730-f533-482c-9d61-f71849ee81f0",
   "metadata": {},
   "outputs": [],
   "source": [
    "base_treinamento = base.iloc[:,1:2].values"
   ]
  },
  {
   "cell_type": "code",
   "execution_count": 12,
   "id": "b3728f64-fabd-4a2b-a179-ab9680c98282",
   "metadata": {},
   "outputs": [
    {
     "data": {
      "text/plain": [
       "array([[19.99    ],\n",
       "       [19.809999],\n",
       "       [20.33    ],\n",
       "       ...,\n",
       "       [15.99    ],\n",
       "       [16.1     ],\n",
       "       [16.1     ]])"
      ]
     },
     "execution_count": 12,
     "metadata": {},
     "output_type": "execute_result"
    }
   ],
   "source": [
    "base_treinamento"
   ]
  },
  {
   "cell_type": "markdown",
   "id": "2d10896a-fdf6-47a6-86e3-d690ea29614b",
   "metadata": {},
   "source": [
    "## Normalização dos dados - escalonamento"
   ]
  },
  {
   "cell_type": "code",
   "execution_count": 13,
   "id": "98e237a4-5905-4d6f-bec6-4ed4c2a13e2c",
   "metadata": {},
   "outputs": [
    {
     "data": {
      "text/plain": [
       "array([[0.76501938],\n",
       "       [0.7562984 ],\n",
       "       [0.78149225],\n",
       "       ...,\n",
       "       [0.57122093],\n",
       "       [0.57655039],\n",
       "       [0.57655039]])"
      ]
     },
     "execution_count": 13,
     "metadata": {},
     "output_type": "execute_result"
    }
   ],
   "source": [
    "normalizador = MinMaxScaler(feature_range=(0,1))\n",
    "base_treinamento_normalizada = normalizador.fit_transform(base_treinamento)\n",
    "base_treinamento_normalizada"
   ]
  },
  {
   "cell_type": "markdown",
   "id": "f2cee5a9-740a-413c-974d-11c6b39fcf9d",
   "metadata": {},
   "source": [
    "## Separacao base de previsores e alvo com base nos ultimos 90 registros"
   ]
  },
  {
   "cell_type": "code",
   "execution_count": 13,
   "id": "d64bbcb0-4259-453e-834c-227e474663cd",
   "metadata": {},
   "outputs": [
    {
     "data": {
      "text/plain": [
       "(1242, 1)"
      ]
     },
     "execution_count": 13,
     "metadata": {},
     "output_type": "execute_result"
    }
   ],
   "source": [
    "base_treinamento_normalizada.shape"
   ]
  },
  {
   "cell_type": "code",
   "execution_count": 14,
   "id": "b505e6cf-4e37-4410-8c78-5dbde3a612c5",
   "metadata": {},
   "outputs": [],
   "source": [
    "X = [] # previsores\n",
    "y = [] # alvo - preco real\n",
    "\n",
    "for i in range(90,1242): # 90 precos anteriores\n",
    "    X.append(base_treinamento_normalizada[i-90:i,0])\n",
    "    y.append(base_treinamento_normalizada[i,0])\n",
    "    #print(i,i-90)\n",
    "\n",
    "X,y = np.array(X), np.array(y)"
   ]
  },
  {
   "cell_type": "code",
   "execution_count": 15,
   "id": "544c59d4-f5b1-4969-ad9a-4a03f3eb38ef",
   "metadata": {
    "scrolled": true
   },
   "outputs": [
    {
     "data": {
      "text/plain": [
       "(1152, 90)"
      ]
     },
     "execution_count": 15,
     "metadata": {},
     "output_type": "execute_result"
    }
   ],
   "source": [
    "X.shape"
   ]
  },
  {
   "cell_type": "code",
   "execution_count": 17,
   "id": "9db2b67e-a612-4c6b-bdf3-f28a096ce4b2",
   "metadata": {},
   "outputs": [
    {
     "data": {
      "text/plain": [
       "(1152,)"
      ]
     },
     "execution_count": 17,
     "metadata": {},
     "output_type": "execute_result"
    }
   ],
   "source": [
    "y.shape"
   ]
  },
  {
   "cell_type": "markdown",
   "id": "938b32d0-584b-4fb9-a765-e2e0ab0b95c2",
   "metadata": {},
   "source": [
    "## Estrutura da Rede Neural"
   ]
  },
  {
   "cell_type": "code",
   "execution_count": 18,
   "id": "009c8b00-17f3-4723-9f24-19af598d5b78",
   "metadata": {},
   "outputs": [
    {
     "name": "stderr",
     "output_type": "stream",
     "text": [
      "/home/lucas/anaconda3/lib/python3.12/site-packages/keras/src/layers/rnn/rnn.py:204: UserWarning: Do not pass an `input_shape`/`input_dim` argument to a layer. When using Sequential models, prefer using an `Input(shape)` object as the first layer in the model instead.\n",
      "  super().__init__(**kwargs)\n"
     ]
    },
    {
     "data": {
      "text/html": [
       "<pre style=\"white-space:pre;overflow-x:auto;line-height:normal;font-family:Menlo,'DejaVu Sans Mono',consolas,'Courier New',monospace\"><span style=\"font-weight: bold\">Model: \"sequential\"</span>\n",
       "</pre>\n"
      ],
      "text/plain": [
       "\u001b[1mModel: \"sequential\"\u001b[0m\n"
      ]
     },
     "metadata": {},
     "output_type": "display_data"
    },
    {
     "data": {
      "text/html": [
       "<pre style=\"white-space:pre;overflow-x:auto;line-height:normal;font-family:Menlo,'DejaVu Sans Mono',consolas,'Courier New',monospace\">┏━━━━━━━━━━━━━━━━━━━━━━━━━━━━━━━━━┳━━━━━━━━━━━━━━━━━━━━━━━━┳━━━━━━━━━━━━━━━┓\n",
       "┃<span style=\"font-weight: bold\"> Layer (type)                    </span>┃<span style=\"font-weight: bold\"> Output Shape           </span>┃<span style=\"font-weight: bold\">       Param # </span>┃\n",
       "┡━━━━━━━━━━━━━━━━━━━━━━━━━━━━━━━━━╇━━━━━━━━━━━━━━━━━━━━━━━━╇━━━━━━━━━━━━━━━┩\n",
       "│ lstm (<span style=\"color: #0087ff; text-decoration-color: #0087ff\">LSTM</span>)                     │ (<span style=\"color: #00d7ff; text-decoration-color: #00d7ff\">None</span>, <span style=\"color: #00af00; text-decoration-color: #00af00\">90</span>, <span style=\"color: #00af00; text-decoration-color: #00af00\">100</span>)        │        <span style=\"color: #00af00; text-decoration-color: #00af00\">40,800</span> │\n",
       "├─────────────────────────────────┼────────────────────────┼───────────────┤\n",
       "│ dropout (<span style=\"color: #0087ff; text-decoration-color: #0087ff\">Dropout</span>)               │ (<span style=\"color: #00d7ff; text-decoration-color: #00d7ff\">None</span>, <span style=\"color: #00af00; text-decoration-color: #00af00\">90</span>, <span style=\"color: #00af00; text-decoration-color: #00af00\">100</span>)        │             <span style=\"color: #00af00; text-decoration-color: #00af00\">0</span> │\n",
       "├─────────────────────────────────┼────────────────────────┼───────────────┤\n",
       "│ lstm_1 (<span style=\"color: #0087ff; text-decoration-color: #0087ff\">LSTM</span>)                   │ (<span style=\"color: #00d7ff; text-decoration-color: #00d7ff\">None</span>, <span style=\"color: #00af00; text-decoration-color: #00af00\">90</span>, <span style=\"color: #00af00; text-decoration-color: #00af00\">50</span>)         │        <span style=\"color: #00af00; text-decoration-color: #00af00\">30,200</span> │\n",
       "├─────────────────────────────────┼────────────────────────┼───────────────┤\n",
       "│ dropout_1 (<span style=\"color: #0087ff; text-decoration-color: #0087ff\">Dropout</span>)             │ (<span style=\"color: #00d7ff; text-decoration-color: #00d7ff\">None</span>, <span style=\"color: #00af00; text-decoration-color: #00af00\">90</span>, <span style=\"color: #00af00; text-decoration-color: #00af00\">50</span>)         │             <span style=\"color: #00af00; text-decoration-color: #00af00\">0</span> │\n",
       "├─────────────────────────────────┼────────────────────────┼───────────────┤\n",
       "│ lstm_2 (<span style=\"color: #0087ff; text-decoration-color: #0087ff\">LSTM</span>)                   │ (<span style=\"color: #00d7ff; text-decoration-color: #00d7ff\">None</span>, <span style=\"color: #00af00; text-decoration-color: #00af00\">90</span>, <span style=\"color: #00af00; text-decoration-color: #00af00\">50</span>)         │        <span style=\"color: #00af00; text-decoration-color: #00af00\">20,200</span> │\n",
       "├─────────────────────────────────┼────────────────────────┼───────────────┤\n",
       "│ dropout_2 (<span style=\"color: #0087ff; text-decoration-color: #0087ff\">Dropout</span>)             │ (<span style=\"color: #00d7ff; text-decoration-color: #00d7ff\">None</span>, <span style=\"color: #00af00; text-decoration-color: #00af00\">90</span>, <span style=\"color: #00af00; text-decoration-color: #00af00\">50</span>)         │             <span style=\"color: #00af00; text-decoration-color: #00af00\">0</span> │\n",
       "├─────────────────────────────────┼────────────────────────┼───────────────┤\n",
       "│ lstm_3 (<span style=\"color: #0087ff; text-decoration-color: #0087ff\">LSTM</span>)                   │ (<span style=\"color: #00d7ff; text-decoration-color: #00d7ff\">None</span>, <span style=\"color: #00af00; text-decoration-color: #00af00\">50</span>)             │        <span style=\"color: #00af00; text-decoration-color: #00af00\">20,200</span> │\n",
       "├─────────────────────────────────┼────────────────────────┼───────────────┤\n",
       "│ dropout_3 (<span style=\"color: #0087ff; text-decoration-color: #0087ff\">Dropout</span>)             │ (<span style=\"color: #00d7ff; text-decoration-color: #00d7ff\">None</span>, <span style=\"color: #00af00; text-decoration-color: #00af00\">50</span>)             │             <span style=\"color: #00af00; text-decoration-color: #00af00\">0</span> │\n",
       "├─────────────────────────────────┼────────────────────────┼───────────────┤\n",
       "│ dense (<span style=\"color: #0087ff; text-decoration-color: #0087ff\">Dense</span>)                   │ (<span style=\"color: #00d7ff; text-decoration-color: #00d7ff\">None</span>, <span style=\"color: #00af00; text-decoration-color: #00af00\">1</span>)              │            <span style=\"color: #00af00; text-decoration-color: #00af00\">51</span> │\n",
       "└─────────────────────────────────┴────────────────────────┴───────────────┘\n",
       "</pre>\n"
      ],
      "text/plain": [
       "┏━━━━━━━━━━━━━━━━━━━━━━━━━━━━━━━━━┳━━━━━━━━━━━━━━━━━━━━━━━━┳━━━━━━━━━━━━━━━┓\n",
       "┃\u001b[1m \u001b[0m\u001b[1mLayer (type)                   \u001b[0m\u001b[1m \u001b[0m┃\u001b[1m \u001b[0m\u001b[1mOutput Shape          \u001b[0m\u001b[1m \u001b[0m┃\u001b[1m \u001b[0m\u001b[1m      Param #\u001b[0m\u001b[1m \u001b[0m┃\n",
       "┡━━━━━━━━━━━━━━━━━━━━━━━━━━━━━━━━━╇━━━━━━━━━━━━━━━━━━━━━━━━╇━━━━━━━━━━━━━━━┩\n",
       "│ lstm (\u001b[38;5;33mLSTM\u001b[0m)                     │ (\u001b[38;5;45mNone\u001b[0m, \u001b[38;5;34m90\u001b[0m, \u001b[38;5;34m100\u001b[0m)        │        \u001b[38;5;34m40,800\u001b[0m │\n",
       "├─────────────────────────────────┼────────────────────────┼───────────────┤\n",
       "│ dropout (\u001b[38;5;33mDropout\u001b[0m)               │ (\u001b[38;5;45mNone\u001b[0m, \u001b[38;5;34m90\u001b[0m, \u001b[38;5;34m100\u001b[0m)        │             \u001b[38;5;34m0\u001b[0m │\n",
       "├─────────────────────────────────┼────────────────────────┼───────────────┤\n",
       "│ lstm_1 (\u001b[38;5;33mLSTM\u001b[0m)                   │ (\u001b[38;5;45mNone\u001b[0m, \u001b[38;5;34m90\u001b[0m, \u001b[38;5;34m50\u001b[0m)         │        \u001b[38;5;34m30,200\u001b[0m │\n",
       "├─────────────────────────────────┼────────────────────────┼───────────────┤\n",
       "│ dropout_1 (\u001b[38;5;33mDropout\u001b[0m)             │ (\u001b[38;5;45mNone\u001b[0m, \u001b[38;5;34m90\u001b[0m, \u001b[38;5;34m50\u001b[0m)         │             \u001b[38;5;34m0\u001b[0m │\n",
       "├─────────────────────────────────┼────────────────────────┼───────────────┤\n",
       "│ lstm_2 (\u001b[38;5;33mLSTM\u001b[0m)                   │ (\u001b[38;5;45mNone\u001b[0m, \u001b[38;5;34m90\u001b[0m, \u001b[38;5;34m50\u001b[0m)         │        \u001b[38;5;34m20,200\u001b[0m │\n",
       "├─────────────────────────────────┼────────────────────────┼───────────────┤\n",
       "│ dropout_2 (\u001b[38;5;33mDropout\u001b[0m)             │ (\u001b[38;5;45mNone\u001b[0m, \u001b[38;5;34m90\u001b[0m, \u001b[38;5;34m50\u001b[0m)         │             \u001b[38;5;34m0\u001b[0m │\n",
       "├─────────────────────────────────┼────────────────────────┼───────────────┤\n",
       "│ lstm_3 (\u001b[38;5;33mLSTM\u001b[0m)                   │ (\u001b[38;5;45mNone\u001b[0m, \u001b[38;5;34m50\u001b[0m)             │        \u001b[38;5;34m20,200\u001b[0m │\n",
       "├─────────────────────────────────┼────────────────────────┼───────────────┤\n",
       "│ dropout_3 (\u001b[38;5;33mDropout\u001b[0m)             │ (\u001b[38;5;45mNone\u001b[0m, \u001b[38;5;34m50\u001b[0m)             │             \u001b[38;5;34m0\u001b[0m │\n",
       "├─────────────────────────────────┼────────────────────────┼───────────────┤\n",
       "│ dense (\u001b[38;5;33mDense\u001b[0m)                   │ (\u001b[38;5;45mNone\u001b[0m, \u001b[38;5;34m1\u001b[0m)              │            \u001b[38;5;34m51\u001b[0m │\n",
       "└─────────────────────────────────┴────────────────────────┴───────────────┘\n"
      ]
     },
     "metadata": {},
     "output_type": "display_data"
    },
    {
     "data": {
      "text/html": [
       "<pre style=\"white-space:pre;overflow-x:auto;line-height:normal;font-family:Menlo,'DejaVu Sans Mono',consolas,'Courier New',monospace\"><span style=\"font-weight: bold\"> Total params: </span><span style=\"color: #00af00; text-decoration-color: #00af00\">111,451</span> (435.36 KB)\n",
       "</pre>\n"
      ],
      "text/plain": [
       "\u001b[1m Total params: \u001b[0m\u001b[38;5;34m111,451\u001b[0m (435.36 KB)\n"
      ]
     },
     "metadata": {},
     "output_type": "display_data"
    },
    {
     "data": {
      "text/html": [
       "<pre style=\"white-space:pre;overflow-x:auto;line-height:normal;font-family:Menlo,'DejaVu Sans Mono',consolas,'Courier New',monospace\"><span style=\"font-weight: bold\"> Trainable params: </span><span style=\"color: #00af00; text-decoration-color: #00af00\">111,451</span> (435.36 KB)\n",
       "</pre>\n"
      ],
      "text/plain": [
       "\u001b[1m Trainable params: \u001b[0m\u001b[38;5;34m111,451\u001b[0m (435.36 KB)\n"
      ]
     },
     "metadata": {},
     "output_type": "display_data"
    },
    {
     "data": {
      "text/html": [
       "<pre style=\"white-space:pre;overflow-x:auto;line-height:normal;font-family:Menlo,'DejaVu Sans Mono',consolas,'Courier New',monospace\"><span style=\"font-weight: bold\"> Non-trainable params: </span><span style=\"color: #00af00; text-decoration-color: #00af00\">0</span> (0.00 B)\n",
       "</pre>\n"
      ],
      "text/plain": [
       "\u001b[1m Non-trainable params: \u001b[0m\u001b[38;5;34m0\u001b[0m (0.00 B)\n"
      ]
     },
     "metadata": {},
     "output_type": "display_data"
    }
   ],
   "source": [
    "regressor = Sequential()\n",
    "\n",
    "regressor.add(LSTM(units = 100, return_sequences=True, input_shape=(X.shape[1],1)))\n",
    "regressor.add(Dropout(0.3))\n",
    "\n",
    "regressor.add(LSTM(units = 50, return_sequences=True))\n",
    "regressor.add(Dropout(0.3))\n",
    "\n",
    "regressor.add(LSTM(units = 50, return_sequences=True))\n",
    "regressor.add(Dropout(0.3))\n",
    "\n",
    "regressor.add(LSTM(units = 50))\n",
    "regressor.add(Dropout(0.3))\n",
    "\n",
    "regressor.add(Dense(units=1,activation='linear'))\n",
    "\n",
    "regressor.summary()"
   ]
  },
  {
   "cell_type": "code",
   "execution_count": 19,
   "id": "951a8935-bfce-4b61-8259-b66c45964319",
   "metadata": {},
   "outputs": [],
   "source": [
    "regressor.compile(optimizer='rmsprop',loss='mean_squared_error',metrics=['mean_absolute_error'])"
   ]
  },
  {
   "cell_type": "code",
   "execution_count": 20,
   "id": "4bcf9f73-650b-4c7f-a444-e2e340503f56",
   "metadata": {
    "scrolled": true
   },
   "outputs": [
    {
     "name": "stdout",
     "output_type": "stream",
     "text": [
      "Epoch 1/100\n",
      "\u001b[1m36/36\u001b[0m \u001b[32m━━━━━━━━━━━━━━━━━━━━\u001b[0m\u001b[37m\u001b[0m \u001b[1m9s\u001b[0m 122ms/step - loss: 0.0643 - mean_absolute_error: 0.1878\n",
      "Epoch 2/100\n",
      "\u001b[1m36/36\u001b[0m \u001b[32m━━━━━━━━━━━━━━━━━━━━\u001b[0m\u001b[37m\u001b[0m \u001b[1m4s\u001b[0m 100ms/step - loss: 0.0170 - mean_absolute_error: 0.1029\n",
      "Epoch 3/100\n",
      "\u001b[1m36/36\u001b[0m \u001b[32m━━━━━━━━━━━━━━━━━━━━\u001b[0m\u001b[37m\u001b[0m \u001b[1m5s\u001b[0m 135ms/step - loss: 0.0166 - mean_absolute_error: 0.1009\n",
      "Epoch 4/100\n",
      "\u001b[1m36/36\u001b[0m \u001b[32m━━━━━━━━━━━━━━━━━━━━\u001b[0m\u001b[37m\u001b[0m \u001b[1m5s\u001b[0m 136ms/step - loss: 0.0105 - mean_absolute_error: 0.0792\n",
      "Epoch 5/100\n",
      "\u001b[1m36/36\u001b[0m \u001b[32m━━━━━━━━━━━━━━━━━━━━\u001b[0m\u001b[37m\u001b[0m \u001b[1m5s\u001b[0m 132ms/step - loss: 0.0087 - mean_absolute_error: 0.0731\n",
      "Epoch 6/100\n",
      "\u001b[1m36/36\u001b[0m \u001b[32m━━━━━━━━━━━━━━━━━━━━\u001b[0m\u001b[37m\u001b[0m \u001b[1m8s\u001b[0m 232ms/step - loss: 0.0097 - mean_absolute_error: 0.0760\n",
      "Epoch 7/100\n",
      "\u001b[1m36/36\u001b[0m \u001b[32m━━━━━━━━━━━━━━━━━━━━\u001b[0m\u001b[37m\u001b[0m \u001b[1m8s\u001b[0m 151ms/step - loss: 0.0095 - mean_absolute_error: 0.0729\n",
      "Epoch 8/100\n",
      "\u001b[1m36/36\u001b[0m \u001b[32m━━━━━━━━━━━━━━━━━━━━\u001b[0m\u001b[37m\u001b[0m \u001b[1m5s\u001b[0m 131ms/step - loss: 0.0097 - mean_absolute_error: 0.0763\n",
      "Epoch 9/100\n",
      "\u001b[1m36/36\u001b[0m \u001b[32m━━━━━━━━━━━━━━━━━━━━\u001b[0m\u001b[37m\u001b[0m \u001b[1m4s\u001b[0m 121ms/step - loss: 0.0080 - mean_absolute_error: 0.0684\n",
      "Epoch 10/100\n",
      "\u001b[1m36/36\u001b[0m \u001b[32m━━━━━━━━━━━━━━━━━━━━\u001b[0m\u001b[37m\u001b[0m \u001b[1m4s\u001b[0m 116ms/step - loss: 0.0091 - mean_absolute_error: 0.0729\n",
      "Epoch 11/100\n",
      "\u001b[1m36/36\u001b[0m \u001b[32m━━━━━━━━━━━━━━━━━━━━\u001b[0m\u001b[37m\u001b[0m \u001b[1m4s\u001b[0m 117ms/step - loss: 0.0065 - mean_absolute_error: 0.0624\n",
      "Epoch 12/100\n",
      "\u001b[1m36/36\u001b[0m \u001b[32m━━━━━━━━━━━━━━━━━━━━\u001b[0m\u001b[37m\u001b[0m \u001b[1m4s\u001b[0m 124ms/step - loss: 0.0074 - mean_absolute_error: 0.0637\n",
      "Epoch 13/100\n",
      "\u001b[1m36/36\u001b[0m \u001b[32m━━━━━━━━━━━━━━━━━━━━\u001b[0m\u001b[37m\u001b[0m \u001b[1m4s\u001b[0m 103ms/step - loss: 0.0078 - mean_absolute_error: 0.0683\n",
      "Epoch 14/100\n",
      "\u001b[1m36/36\u001b[0m \u001b[32m━━━━━━━━━━━━━━━━━━━━\u001b[0m\u001b[37m\u001b[0m \u001b[1m4s\u001b[0m 105ms/step - loss: 0.0058 - mean_absolute_error: 0.0559\n",
      "Epoch 15/100\n",
      "\u001b[1m36/36\u001b[0m \u001b[32m━━━━━━━━━━━━━━━━━━━━\u001b[0m\u001b[37m\u001b[0m \u001b[1m4s\u001b[0m 104ms/step - loss: 0.0051 - mean_absolute_error: 0.0548\n",
      "Epoch 16/100\n",
      "\u001b[1m36/36\u001b[0m \u001b[32m━━━━━━━━━━━━━━━━━━━━\u001b[0m\u001b[37m\u001b[0m \u001b[1m4s\u001b[0m 103ms/step - loss: 0.0059 - mean_absolute_error: 0.0583\n",
      "Epoch 17/100\n",
      "\u001b[1m36/36\u001b[0m \u001b[32m━━━━━━━━━━━━━━━━━━━━\u001b[0m\u001b[37m\u001b[0m \u001b[1m4s\u001b[0m 118ms/step - loss: 0.0048 - mean_absolute_error: 0.0537\n",
      "Epoch 18/100\n",
      "\u001b[1m36/36\u001b[0m \u001b[32m━━━━━━━━━━━━━━━━━━━━\u001b[0m\u001b[37m\u001b[0m \u001b[1m5s\u001b[0m 115ms/step - loss: 0.0043 - mean_absolute_error: 0.0496\n",
      "Epoch 19/100\n",
      "\u001b[1m36/36\u001b[0m \u001b[32m━━━━━━━━━━━━━━━━━━━━\u001b[0m\u001b[37m\u001b[0m \u001b[1m4s\u001b[0m 111ms/step - loss: 0.0053 - mean_absolute_error: 0.0550\n",
      "Epoch 20/100\n",
      "\u001b[1m36/36\u001b[0m \u001b[32m━━━━━━━━━━━━━━━━━━━━\u001b[0m\u001b[37m\u001b[0m \u001b[1m4s\u001b[0m 86ms/step - loss: 0.0047 - mean_absolute_error: 0.0524\n",
      "Epoch 21/100\n",
      "\u001b[1m36/36\u001b[0m \u001b[32m━━━━━━━━━━━━━━━━━━━━\u001b[0m\u001b[37m\u001b[0m \u001b[1m5s\u001b[0m 78ms/step - loss: 0.0045 - mean_absolute_error: 0.0524\n",
      "Epoch 22/100\n",
      "\u001b[1m36/36\u001b[0m \u001b[32m━━━━━━━━━━━━━━━━━━━━\u001b[0m\u001b[37m\u001b[0m \u001b[1m3s\u001b[0m 78ms/step - loss: 0.0047 - mean_absolute_error: 0.0519\n",
      "Epoch 23/100\n",
      "\u001b[1m36/36\u001b[0m \u001b[32m━━━━━━━━━━━━━━━━━━━━\u001b[0m\u001b[37m\u001b[0m \u001b[1m5s\u001b[0m 81ms/step - loss: 0.0042 - mean_absolute_error: 0.0500\n",
      "Epoch 24/100\n",
      "\u001b[1m36/36\u001b[0m \u001b[32m━━━━━━━━━━━━━━━━━━━━\u001b[0m\u001b[37m\u001b[0m \u001b[1m3s\u001b[0m 74ms/step - loss: 0.0044 - mean_absolute_error: 0.0501\n",
      "Epoch 25/100\n",
      "\u001b[1m36/36\u001b[0m \u001b[32m━━━━━━━━━━━━━━━━━━━━\u001b[0m\u001b[37m\u001b[0m \u001b[1m3s\u001b[0m 80ms/step - loss: 0.0042 - mean_absolute_error: 0.0482\n",
      "Epoch 26/100\n",
      "\u001b[1m36/36\u001b[0m \u001b[32m━━━━━━━━━━━━━━━━━━━━\u001b[0m\u001b[37m\u001b[0m \u001b[1m3s\u001b[0m 75ms/step - loss: 0.0043 - mean_absolute_error: 0.0485\n",
      "Epoch 27/100\n",
      "\u001b[1m36/36\u001b[0m \u001b[32m━━━━━━━━━━━━━━━━━━━━\u001b[0m\u001b[37m\u001b[0m \u001b[1m3s\u001b[0m 74ms/step - loss: 0.0046 - mean_absolute_error: 0.0519\n",
      "Epoch 28/100\n",
      "\u001b[1m36/36\u001b[0m \u001b[32m━━━━━━━━━━━━━━━━━━━━\u001b[0m\u001b[37m\u001b[0m \u001b[1m3s\u001b[0m 75ms/step - loss: 0.0039 - mean_absolute_error: 0.0464\n",
      "Epoch 29/100\n",
      "\u001b[1m36/36\u001b[0m \u001b[32m━━━━━━━━━━━━━━━━━━━━\u001b[0m\u001b[37m\u001b[0m \u001b[1m3s\u001b[0m 74ms/step - loss: 0.0047 - mean_absolute_error: 0.0513\n",
      "Epoch 30/100\n",
      "\u001b[1m36/36\u001b[0m \u001b[32m━━━━━━━━━━━━━━━━━━━━\u001b[0m\u001b[37m\u001b[0m \u001b[1m5s\u001b[0m 75ms/step - loss: 0.0038 - mean_absolute_error: 0.0476\n",
      "Epoch 31/100\n",
      "\u001b[1m36/36\u001b[0m \u001b[32m━━━━━━━━━━━━━━━━━━━━\u001b[0m\u001b[37m\u001b[0m \u001b[1m3s\u001b[0m 80ms/step - loss: 0.0035 - mean_absolute_error: 0.0445\n",
      "Epoch 32/100\n",
      "\u001b[1m36/36\u001b[0m \u001b[32m━━━━━━━━━━━━━━━━━━━━\u001b[0m\u001b[37m\u001b[0m \u001b[1m3s\u001b[0m 75ms/step - loss: 0.0031 - mean_absolute_error: 0.0438\n",
      "Epoch 33/100\n",
      "\u001b[1m36/36\u001b[0m \u001b[32m━━━━━━━━━━━━━━━━━━━━\u001b[0m\u001b[37m\u001b[0m \u001b[1m3s\u001b[0m 76ms/step - loss: 0.0044 - mean_absolute_error: 0.0500\n",
      "Epoch 34/100\n",
      "\u001b[1m36/36\u001b[0m \u001b[32m━━━━━━━━━━━━━━━━━━━━\u001b[0m\u001b[37m\u001b[0m \u001b[1m3s\u001b[0m 75ms/step - loss: 0.0034 - mean_absolute_error: 0.0442\n",
      "Epoch 35/100\n",
      "\u001b[1m36/36\u001b[0m \u001b[32m━━━━━━━━━━━━━━━━━━━━\u001b[0m\u001b[37m\u001b[0m \u001b[1m3s\u001b[0m 75ms/step - loss: 0.0036 - mean_absolute_error: 0.0446\n",
      "Epoch 36/100\n",
      "\u001b[1m36/36\u001b[0m \u001b[32m━━━━━━━━━━━━━━━━━━━━\u001b[0m\u001b[37m\u001b[0m \u001b[1m3s\u001b[0m 75ms/step - loss: 0.0039 - mean_absolute_error: 0.0465\n",
      "Epoch 37/100\n",
      "\u001b[1m36/36\u001b[0m \u001b[32m━━━━━━━━━━━━━━━━━━━━\u001b[0m\u001b[37m\u001b[0m \u001b[1m3s\u001b[0m 76ms/step - loss: 0.0033 - mean_absolute_error: 0.0433\n",
      "Epoch 38/100\n",
      "\u001b[1m36/36\u001b[0m \u001b[32m━━━━━━━━━━━━━━━━━━━━\u001b[0m\u001b[37m\u001b[0m \u001b[1m3s\u001b[0m 75ms/step - loss: 0.0032 - mean_absolute_error: 0.0427\n",
      "Epoch 39/100\n",
      "\u001b[1m36/36\u001b[0m \u001b[32m━━━━━━━━━━━━━━━━━━━━\u001b[0m\u001b[37m\u001b[0m \u001b[1m3s\u001b[0m 76ms/step - loss: 0.0029 - mean_absolute_error: 0.0413\n",
      "Epoch 40/100\n",
      "\u001b[1m36/36\u001b[0m \u001b[32m━━━━━━━━━━━━━━━━━━━━\u001b[0m\u001b[37m\u001b[0m \u001b[1m3s\u001b[0m 76ms/step - loss: 0.0028 - mean_absolute_error: 0.0402\n",
      "Epoch 41/100\n",
      "\u001b[1m36/36\u001b[0m \u001b[32m━━━━━━━━━━━━━━━━━━━━\u001b[0m\u001b[37m\u001b[0m \u001b[1m3s\u001b[0m 76ms/step - loss: 0.0028 - mean_absolute_error: 0.0412\n",
      "Epoch 42/100\n",
      "\u001b[1m36/36\u001b[0m \u001b[32m━━━━━━━━━━━━━━━━━━━━\u001b[0m\u001b[37m\u001b[0m \u001b[1m3s\u001b[0m 86ms/step - loss: 0.0029 - mean_absolute_error: 0.0406\n",
      "Epoch 43/100\n",
      "\u001b[1m36/36\u001b[0m \u001b[32m━━━━━━━━━━━━━━━━━━━━\u001b[0m\u001b[37m\u001b[0m \u001b[1m4s\u001b[0m 104ms/step - loss: 0.0032 - mean_absolute_error: 0.0433\n",
      "Epoch 44/100\n",
      "\u001b[1m36/36\u001b[0m \u001b[32m━━━━━━━━━━━━━━━━━━━━\u001b[0m\u001b[37m\u001b[0m \u001b[1m4s\u001b[0m 120ms/step - loss: 0.0029 - mean_absolute_error: 0.0415\n",
      "Epoch 45/100\n",
      "\u001b[1m36/36\u001b[0m \u001b[32m━━━━━━━━━━━━━━━━━━━━\u001b[0m\u001b[37m\u001b[0m \u001b[1m4s\u001b[0m 113ms/step - loss: 0.0030 - mean_absolute_error: 0.0424\n",
      "Epoch 46/100\n",
      "\u001b[1m36/36\u001b[0m \u001b[32m━━━━━━━━━━━━━━━━━━━━\u001b[0m\u001b[37m\u001b[0m \u001b[1m4s\u001b[0m 114ms/step - loss: 0.0028 - mean_absolute_error: 0.0395\n",
      "Epoch 47/100\n",
      "\u001b[1m36/36\u001b[0m \u001b[32m━━━━━━━━━━━━━━━━━━━━\u001b[0m\u001b[37m\u001b[0m \u001b[1m4s\u001b[0m 111ms/step - loss: 0.0031 - mean_absolute_error: 0.0422\n",
      "Epoch 48/100\n",
      "\u001b[1m36/36\u001b[0m \u001b[32m━━━━━━━━━━━━━━━━━━━━\u001b[0m\u001b[37m\u001b[0m \u001b[1m4s\u001b[0m 116ms/step - loss: 0.0027 - mean_absolute_error: 0.0390\n",
      "Epoch 49/100\n",
      "\u001b[1m36/36\u001b[0m \u001b[32m━━━━━━━━━━━━━━━━━━━━\u001b[0m\u001b[37m\u001b[0m \u001b[1m4s\u001b[0m 112ms/step - loss: 0.0028 - mean_absolute_error: 0.0397\n",
      "Epoch 50/100\n",
      "\u001b[1m36/36\u001b[0m \u001b[32m━━━━━━━━━━━━━━━━━━━━\u001b[0m\u001b[37m\u001b[0m \u001b[1m4s\u001b[0m 105ms/step - loss: 0.0028 - mean_absolute_error: 0.0392\n",
      "Epoch 51/100\n",
      "\u001b[1m36/36\u001b[0m \u001b[32m━━━━━━━━━━━━━━━━━━━━\u001b[0m\u001b[37m\u001b[0m \u001b[1m5s\u001b[0m 108ms/step - loss: 0.0026 - mean_absolute_error: 0.0379\n",
      "Epoch 52/100\n",
      "\u001b[1m36/36\u001b[0m \u001b[32m━━━━━━━━━━━━━━━━━━━━\u001b[0m\u001b[37m\u001b[0m \u001b[1m4s\u001b[0m 105ms/step - loss: 0.0028 - mean_absolute_error: 0.0414\n",
      "Epoch 53/100\n",
      "\u001b[1m36/36\u001b[0m \u001b[32m━━━━━━━━━━━━━━━━━━━━\u001b[0m\u001b[37m\u001b[0m \u001b[1m4s\u001b[0m 110ms/step - loss: 0.0026 - mean_absolute_error: 0.0387\n",
      "Epoch 54/100\n",
      "\u001b[1m36/36\u001b[0m \u001b[32m━━━━━━━━━━━━━━━━━━━━\u001b[0m\u001b[37m\u001b[0m \u001b[1m4s\u001b[0m 105ms/step - loss: 0.0027 - mean_absolute_error: 0.0398\n",
      "Epoch 55/100\n",
      "\u001b[1m36/36\u001b[0m \u001b[32m━━━━━━━━━━━━━━━━━━━━\u001b[0m\u001b[37m\u001b[0m \u001b[1m4s\u001b[0m 102ms/step - loss: 0.0022 - mean_absolute_error: 0.0360\n",
      "Epoch 56/100\n",
      "\u001b[1m36/36\u001b[0m \u001b[32m━━━━━━━━━━━━━━━━━━━━\u001b[0m\u001b[37m\u001b[0m \u001b[1m4s\u001b[0m 102ms/step - loss: 0.0029 - mean_absolute_error: 0.0415\n",
      "Epoch 57/100\n",
      "\u001b[1m36/36\u001b[0m \u001b[32m━━━━━━━━━━━━━━━━━━━━\u001b[0m\u001b[37m\u001b[0m \u001b[1m4s\u001b[0m 102ms/step - loss: 0.0028 - mean_absolute_error: 0.0394\n",
      "Epoch 58/100\n",
      "\u001b[1m36/36\u001b[0m \u001b[32m━━━━━━━━━━━━━━━━━━━━\u001b[0m\u001b[37m\u001b[0m \u001b[1m4s\u001b[0m 110ms/step - loss: 0.0025 - mean_absolute_error: 0.0379\n",
      "Epoch 59/100\n",
      "\u001b[1m36/36\u001b[0m \u001b[32m━━━━━━━━━━━━━━━━━━━━\u001b[0m\u001b[37m\u001b[0m \u001b[1m4s\u001b[0m 102ms/step - loss: 0.0025 - mean_absolute_error: 0.0376\n",
      "Epoch 60/100\n",
      "\u001b[1m36/36\u001b[0m \u001b[32m━━━━━━━━━━━━━━━━━━━━\u001b[0m\u001b[37m\u001b[0m \u001b[1m5s\u001b[0m 104ms/step - loss: 0.0025 - mean_absolute_error: 0.0379\n",
      "Epoch 61/100\n",
      "\u001b[1m36/36\u001b[0m \u001b[32m━━━━━━━━━━━━━━━━━━━━\u001b[0m\u001b[37m\u001b[0m \u001b[1m5s\u001b[0m 104ms/step - loss: 0.0029 - mean_absolute_error: 0.0402\n",
      "Epoch 62/100\n",
      "\u001b[1m36/36\u001b[0m \u001b[32m━━━━━━━━━━━━━━━━━━━━\u001b[0m\u001b[37m\u001b[0m \u001b[1m4s\u001b[0m 103ms/step - loss: 0.0024 - mean_absolute_error: 0.0366\n",
      "Epoch 63/100\n",
      "\u001b[1m36/36\u001b[0m \u001b[32m━━━━━━━━━━━━━━━━━━━━\u001b[0m\u001b[37m\u001b[0m \u001b[1m4s\u001b[0m 102ms/step - loss: 0.0023 - mean_absolute_error: 0.0367\n",
      "Epoch 64/100\n",
      "\u001b[1m36/36\u001b[0m \u001b[32m━━━━━━━━━━━━━━━━━━━━\u001b[0m\u001b[37m\u001b[0m \u001b[1m5s\u001b[0m 102ms/step - loss: 0.0023 - mean_absolute_error: 0.0366\n",
      "Epoch 65/100\n",
      "\u001b[1m36/36\u001b[0m \u001b[32m━━━━━━━━━━━━━━━━━━━━\u001b[0m\u001b[37m\u001b[0m \u001b[1m4s\u001b[0m 101ms/step - loss: 0.0020 - mean_absolute_error: 0.0340\n",
      "Epoch 66/100\n",
      "\u001b[1m36/36\u001b[0m \u001b[32m━━━━━━━━━━━━━━━━━━━━\u001b[0m\u001b[37m\u001b[0m \u001b[1m5s\u001b[0m 106ms/step - loss: 0.0026 - mean_absolute_error: 0.0379\n",
      "Epoch 67/100\n",
      "\u001b[1m36/36\u001b[0m \u001b[32m━━━━━━━━━━━━━━━━━━━━\u001b[0m\u001b[37m\u001b[0m \u001b[1m4s\u001b[0m 102ms/step - loss: 0.0024 - mean_absolute_error: 0.0370\n",
      "Epoch 68/100\n",
      "\u001b[1m36/36\u001b[0m \u001b[32m━━━━━━━━━━━━━━━━━━━━\u001b[0m\u001b[37m\u001b[0m \u001b[1m4s\u001b[0m 103ms/step - loss: 0.0022 - mean_absolute_error: 0.0352\n",
      "Epoch 69/100\n",
      "\u001b[1m36/36\u001b[0m \u001b[32m━━━━━━━━━━━━━━━━━━━━\u001b[0m\u001b[37m\u001b[0m \u001b[1m4s\u001b[0m 102ms/step - loss: 0.0024 - mean_absolute_error: 0.0370\n",
      "Epoch 70/100\n",
      "\u001b[1m36/36\u001b[0m \u001b[32m━━━━━━━━━━━━━━━━━━━━\u001b[0m\u001b[37m\u001b[0m \u001b[1m4s\u001b[0m 104ms/step - loss: 0.0022 - mean_absolute_error: 0.0353\n",
      "Epoch 71/100\n",
      "\u001b[1m36/36\u001b[0m \u001b[32m━━━━━━━━━━━━━━━━━━━━\u001b[0m\u001b[37m\u001b[0m \u001b[1m4s\u001b[0m 105ms/step - loss: 0.0022 - mean_absolute_error: 0.0348\n",
      "Epoch 72/100\n",
      "\u001b[1m36/36\u001b[0m \u001b[32m━━━━━━━━━━━━━━━━━━━━\u001b[0m\u001b[37m\u001b[0m \u001b[1m4s\u001b[0m 101ms/step - loss: 0.0025 - mean_absolute_error: 0.0388\n",
      "Epoch 73/100\n",
      "\u001b[1m36/36\u001b[0m \u001b[32m━━━━━━━━━━━━━━━━━━━━\u001b[0m\u001b[37m\u001b[0m \u001b[1m4s\u001b[0m 102ms/step - loss: 0.0023 - mean_absolute_error: 0.0370\n",
      "Epoch 74/100\n",
      "\u001b[1m36/36\u001b[0m \u001b[32m━━━━━━━━━━━━━━━━━━━━\u001b[0m\u001b[37m\u001b[0m \u001b[1m5s\u001b[0m 101ms/step - loss: 0.0021 - mean_absolute_error: 0.0337\n",
      "Epoch 75/100\n",
      "\u001b[1m36/36\u001b[0m \u001b[32m━━━━━━━━━━━━━━━━━━━━\u001b[0m\u001b[37m\u001b[0m \u001b[1m4s\u001b[0m 102ms/step - loss: 0.0022 - mean_absolute_error: 0.0357\n",
      "Epoch 76/100\n",
      "\u001b[1m36/36\u001b[0m \u001b[32m━━━━━━━━━━━━━━━━━━━━\u001b[0m\u001b[37m\u001b[0m \u001b[1m5s\u001b[0m 104ms/step - loss: 0.0019 - mean_absolute_error: 0.0333\n",
      "Epoch 77/100\n",
      "\u001b[1m36/36\u001b[0m \u001b[32m━━━━━━━━━━━━━━━━━━━━\u001b[0m\u001b[37m\u001b[0m \u001b[1m4s\u001b[0m 103ms/step - loss: 0.0021 - mean_absolute_error: 0.0348\n",
      "Epoch 78/100\n",
      "\u001b[1m36/36\u001b[0m \u001b[32m━━━━━━━━━━━━━━━━━━━━\u001b[0m\u001b[37m\u001b[0m \u001b[1m4s\u001b[0m 103ms/step - loss: 0.0020 - mean_absolute_error: 0.0337\n",
      "Epoch 79/100\n",
      "\u001b[1m36/36\u001b[0m \u001b[32m━━━━━━━━━━━━━━━━━━━━\u001b[0m\u001b[37m\u001b[0m \u001b[1m4s\u001b[0m 102ms/step - loss: 0.0020 - mean_absolute_error: 0.0342\n",
      "Epoch 80/100\n",
      "\u001b[1m36/36\u001b[0m \u001b[32m━━━━━━━━━━━━━━━━━━━━\u001b[0m\u001b[37m\u001b[0m \u001b[1m4s\u001b[0m 105ms/step - loss: 0.0019 - mean_absolute_error: 0.0330\n",
      "Epoch 81/100\n",
      "\u001b[1m36/36\u001b[0m \u001b[32m━━━━━━━━━━━━━━━━━━━━\u001b[0m\u001b[37m\u001b[0m \u001b[1m4s\u001b[0m 105ms/step - loss: 0.0021 - mean_absolute_error: 0.0341\n",
      "Epoch 82/100\n",
      "\u001b[1m36/36\u001b[0m \u001b[32m━━━━━━━━━━━━━━━━━━━━\u001b[0m\u001b[37m\u001b[0m \u001b[1m4s\u001b[0m 105ms/step - loss: 0.0022 - mean_absolute_error: 0.0349\n",
      "Epoch 83/100\n",
      "\u001b[1m36/36\u001b[0m \u001b[32m━━━━━━━━━━━━━━━━━━━━\u001b[0m\u001b[37m\u001b[0m \u001b[1m4s\u001b[0m 107ms/step - loss: 0.0024 - mean_absolute_error: 0.0364\n",
      "Epoch 84/100\n",
      "\u001b[1m36/36\u001b[0m \u001b[32m━━━━━━━━━━━━━━━━━━━━\u001b[0m\u001b[37m\u001b[0m \u001b[1m5s\u001b[0m 105ms/step - loss: 0.0019 - mean_absolute_error: 0.0324\n",
      "Epoch 85/100\n",
      "\u001b[1m36/36\u001b[0m \u001b[32m━━━━━━━━━━━━━━━━━━━━\u001b[0m\u001b[37m\u001b[0m \u001b[1m4s\u001b[0m 105ms/step - loss: 0.0022 - mean_absolute_error: 0.0366\n",
      "Epoch 86/100\n",
      "\u001b[1m36/36\u001b[0m \u001b[32m━━━━━━━━━━━━━━━━━━━━\u001b[0m\u001b[37m\u001b[0m \u001b[1m4s\u001b[0m 104ms/step - loss: 0.0018 - mean_absolute_error: 0.0334\n",
      "Epoch 87/100\n",
      "\u001b[1m36/36\u001b[0m \u001b[32m━━━━━━━━━━━━━━━━━━━━\u001b[0m\u001b[37m\u001b[0m \u001b[1m4s\u001b[0m 103ms/step - loss: 0.0021 - mean_absolute_error: 0.0346\n",
      "Epoch 88/100\n",
      "\u001b[1m36/36\u001b[0m \u001b[32m━━━━━━━━━━━━━━━━━━━━\u001b[0m\u001b[37m\u001b[0m \u001b[1m5s\u001b[0m 104ms/step - loss: 0.0021 - mean_absolute_error: 0.0358\n",
      "Epoch 89/100\n",
      "\u001b[1m36/36\u001b[0m \u001b[32m━━━━━━━━━━━━━━━━━━━━\u001b[0m\u001b[37m\u001b[0m \u001b[1m4s\u001b[0m 120ms/step - loss: 0.0021 - mean_absolute_error: 0.0333\n",
      "Epoch 90/100\n",
      "\u001b[1m36/36\u001b[0m \u001b[32m━━━━━━━━━━━━━━━━━━━━\u001b[0m\u001b[37m\u001b[0m \u001b[1m5s\u001b[0m 133ms/step - loss: 0.0019 - mean_absolute_error: 0.0331\n",
      "Epoch 91/100\n",
      "\u001b[1m36/36\u001b[0m \u001b[32m━━━━━━━━━━━━━━━━━━━━\u001b[0m\u001b[37m\u001b[0m \u001b[1m5s\u001b[0m 138ms/step - loss: 0.0019 - mean_absolute_error: 0.0335\n",
      "Epoch 92/100\n",
      "\u001b[1m36/36\u001b[0m \u001b[32m━━━━━━━━━━━━━━━━━━━━\u001b[0m\u001b[37m\u001b[0m \u001b[1m5s\u001b[0m 133ms/step - loss: 0.0018 - mean_absolute_error: 0.0320\n",
      "Epoch 93/100\n",
      "\u001b[1m36/36\u001b[0m \u001b[32m━━━━━━━━━━━━━━━━━━━━\u001b[0m\u001b[37m\u001b[0m \u001b[1m5s\u001b[0m 133ms/step - loss: 0.0018 - mean_absolute_error: 0.0323\n",
      "Epoch 94/100\n",
      "\u001b[1m36/36\u001b[0m \u001b[32m━━━━━━━━━━━━━━━━━━━━\u001b[0m\u001b[37m\u001b[0m \u001b[1m5s\u001b[0m 139ms/step - loss: 0.0019 - mean_absolute_error: 0.0328\n",
      "Epoch 95/100\n",
      "\u001b[1m36/36\u001b[0m \u001b[32m━━━━━━━━━━━━━━━━━━━━\u001b[0m\u001b[37m\u001b[0m \u001b[1m5s\u001b[0m 135ms/step - loss: 0.0019 - mean_absolute_error: 0.0325\n",
      "Epoch 96/100\n",
      "\u001b[1m36/36\u001b[0m \u001b[32m━━━━━━━━━━━━━━━━━━━━\u001b[0m\u001b[37m\u001b[0m \u001b[1m5s\u001b[0m 142ms/step - loss: 0.0018 - mean_absolute_error: 0.0327\n",
      "Epoch 97/100\n",
      "\u001b[1m36/36\u001b[0m \u001b[32m━━━━━━━━━━━━━━━━━━━━\u001b[0m\u001b[37m\u001b[0m \u001b[1m9s\u001b[0m 118ms/step - loss: 0.0018 - mean_absolute_error: 0.0323\n",
      "Epoch 98/100\n",
      "\u001b[1m36/36\u001b[0m \u001b[32m━━━━━━━━━━━━━━━━━━━━\u001b[0m\u001b[37m\u001b[0m \u001b[1m5s\u001b[0m 105ms/step - loss: 0.0019 - mean_absolute_error: 0.0327\n",
      "Epoch 99/100\n",
      "\u001b[1m36/36\u001b[0m \u001b[32m━━━━━━━━━━━━━━━━━━━━\u001b[0m\u001b[37m\u001b[0m \u001b[1m4s\u001b[0m 109ms/step - loss: 0.0019 - mean_absolute_error: 0.0335\n",
      "Epoch 100/100\n",
      "\u001b[1m36/36\u001b[0m \u001b[32m━━━━━━━━━━━━━━━━━━━━\u001b[0m\u001b[37m\u001b[0m \u001b[1m4s\u001b[0m 105ms/step - loss: 0.0019 - mean_absolute_error: 0.0326\n"
     ]
    },
    {
     "data": {
      "text/plain": [
       "<keras.src.callbacks.history.History at 0x757a2878ccb0>"
      ]
     },
     "execution_count": 20,
     "metadata": {},
     "output_type": "execute_result"
    }
   ],
   "source": [
    "regressor.fit(X,y,epochs=100,batch_size=32)"
   ]
  },
  {
   "cell_type": "markdown",
   "id": "49612d6f-5dfd-48a5-b4a3-17e1b4ac2354",
   "metadata": {},
   "source": [
    "## Previsoes com Base de Teste"
   ]
  },
  {
   "cell_type": "code",
   "execution_count": 21,
   "id": "ac280fde-b4ec-43fd-a270-0de812ef76b0",
   "metadata": {
    "scrolled": true
   },
   "outputs": [
    {
     "data": {
      "text/html": [
       "<div>\n",
       "<style scoped>\n",
       "    .dataframe tbody tr th:only-of-type {\n",
       "        vertical-align: middle;\n",
       "    }\n",
       "\n",
       "    .dataframe tbody tr th {\n",
       "        vertical-align: top;\n",
       "    }\n",
       "\n",
       "    .dataframe thead th {\n",
       "        text-align: right;\n",
       "    }\n",
       "</style>\n",
       "<table border=\"1\" class=\"dataframe\">\n",
       "  <thead>\n",
       "    <tr style=\"text-align: right;\">\n",
       "      <th></th>\n",
       "      <th>Date</th>\n",
       "      <th>Open</th>\n",
       "      <th>High</th>\n",
       "      <th>Low</th>\n",
       "      <th>Close</th>\n",
       "      <th>Adj Close</th>\n",
       "      <th>Volume</th>\n",
       "    </tr>\n",
       "  </thead>\n",
       "  <tbody>\n",
       "    <tr>\n",
       "      <th>0</th>\n",
       "      <td>2018-01-02</td>\n",
       "      <td>16.190001</td>\n",
       "      <td>16.549999</td>\n",
       "      <td>16.190001</td>\n",
       "      <td>16.549999</td>\n",
       "      <td>16.516966</td>\n",
       "      <td>33461800</td>\n",
       "    </tr>\n",
       "    <tr>\n",
       "      <th>1</th>\n",
       "      <td>2018-01-03</td>\n",
       "      <td>16.490000</td>\n",
       "      <td>16.719999</td>\n",
       "      <td>16.370001</td>\n",
       "      <td>16.700001</td>\n",
       "      <td>16.666668</td>\n",
       "      <td>55940900</td>\n",
       "    </tr>\n",
       "    <tr>\n",
       "      <th>2</th>\n",
       "      <td>2018-01-04</td>\n",
       "      <td>16.780001</td>\n",
       "      <td>16.959999</td>\n",
       "      <td>16.620001</td>\n",
       "      <td>16.730000</td>\n",
       "      <td>16.696608</td>\n",
       "      <td>37064900</td>\n",
       "    </tr>\n",
       "    <tr>\n",
       "      <th>3</th>\n",
       "      <td>2018-01-05</td>\n",
       "      <td>16.700001</td>\n",
       "      <td>16.860001</td>\n",
       "      <td>16.570000</td>\n",
       "      <td>16.830000</td>\n",
       "      <td>16.796408</td>\n",
       "      <td>26958200</td>\n",
       "    </tr>\n",
       "    <tr>\n",
       "      <th>4</th>\n",
       "      <td>2018-01-08</td>\n",
       "      <td>16.740000</td>\n",
       "      <td>17.030001</td>\n",
       "      <td>16.709999</td>\n",
       "      <td>17.030001</td>\n",
       "      <td>16.996010</td>\n",
       "      <td>28400000</td>\n",
       "    </tr>\n",
       "    <tr>\n",
       "      <th>5</th>\n",
       "      <td>2018-01-09</td>\n",
       "      <td>17.030001</td>\n",
       "      <td>17.160000</td>\n",
       "      <td>16.959999</td>\n",
       "      <td>17.030001</td>\n",
       "      <td>16.996010</td>\n",
       "      <td>35070900</td>\n",
       "    </tr>\n",
       "    <tr>\n",
       "      <th>6</th>\n",
       "      <td>2018-01-10</td>\n",
       "      <td>16.920000</td>\n",
       "      <td>17.049999</td>\n",
       "      <td>16.770000</td>\n",
       "      <td>16.799999</td>\n",
       "      <td>16.766466</td>\n",
       "      <td>28547700</td>\n",
       "    </tr>\n",
       "    <tr>\n",
       "      <th>7</th>\n",
       "      <td>2018-01-11</td>\n",
       "      <td>16.879999</td>\n",
       "      <td>17.299999</td>\n",
       "      <td>16.840000</td>\n",
       "      <td>17.250000</td>\n",
       "      <td>17.215569</td>\n",
       "      <td>37921500</td>\n",
       "    </tr>\n",
       "    <tr>\n",
       "      <th>8</th>\n",
       "      <td>2018-01-12</td>\n",
       "      <td>17.040001</td>\n",
       "      <td>17.410000</td>\n",
       "      <td>17.020000</td>\n",
       "      <td>17.299999</td>\n",
       "      <td>17.265469</td>\n",
       "      <td>45912100</td>\n",
       "    </tr>\n",
       "    <tr>\n",
       "      <th>9</th>\n",
       "      <td>2018-01-15</td>\n",
       "      <td>17.320000</td>\n",
       "      <td>17.440001</td>\n",
       "      <td>17.150000</td>\n",
       "      <td>17.350000</td>\n",
       "      <td>17.315371</td>\n",
       "      <td>28945400</td>\n",
       "    </tr>\n",
       "    <tr>\n",
       "      <th>10</th>\n",
       "      <td>2018-01-16</td>\n",
       "      <td>17.350000</td>\n",
       "      <td>17.840000</td>\n",
       "      <td>17.299999</td>\n",
       "      <td>17.650000</td>\n",
       "      <td>17.614771</td>\n",
       "      <td>58618300</td>\n",
       "    </tr>\n",
       "    <tr>\n",
       "      <th>11</th>\n",
       "      <td>2018-01-17</td>\n",
       "      <td>17.920000</td>\n",
       "      <td>18.360001</td>\n",
       "      <td>17.809999</td>\n",
       "      <td>18.360001</td>\n",
       "      <td>18.323355</td>\n",
       "      <td>58488900</td>\n",
       "    </tr>\n",
       "    <tr>\n",
       "      <th>12</th>\n",
       "      <td>2018-01-18</td>\n",
       "      <td>18.350000</td>\n",
       "      <td>18.530001</td>\n",
       "      <td>17.930000</td>\n",
       "      <td>18.219999</td>\n",
       "      <td>18.183632</td>\n",
       "      <td>48575800</td>\n",
       "    </tr>\n",
       "    <tr>\n",
       "      <th>13</th>\n",
       "      <td>2018-01-19</td>\n",
       "      <td>18.309999</td>\n",
       "      <td>18.420000</td>\n",
       "      <td>18.030001</td>\n",
       "      <td>18.260000</td>\n",
       "      <td>18.223553</td>\n",
       "      <td>33470200</td>\n",
       "    </tr>\n",
       "    <tr>\n",
       "      <th>14</th>\n",
       "      <td>2018-01-22</td>\n",
       "      <td>18.260000</td>\n",
       "      <td>18.469999</td>\n",
       "      <td>18.090000</td>\n",
       "      <td>18.469999</td>\n",
       "      <td>18.433134</td>\n",
       "      <td>33920000</td>\n",
       "    </tr>\n",
       "    <tr>\n",
       "      <th>15</th>\n",
       "      <td>2018-01-23</td>\n",
       "      <td>18.400000</td>\n",
       "      <td>18.459999</td>\n",
       "      <td>18.000000</td>\n",
       "      <td>18.240000</td>\n",
       "      <td>18.203592</td>\n",
       "      <td>35567700</td>\n",
       "    </tr>\n",
       "    <tr>\n",
       "      <th>16</th>\n",
       "      <td>2018-01-24</td>\n",
       "      <td>18.420000</td>\n",
       "      <td>19.629999</td>\n",
       "      <td>18.420000</td>\n",
       "      <td>19.340000</td>\n",
       "      <td>19.301397</td>\n",
       "      <td>89768200</td>\n",
       "    </tr>\n",
       "    <tr>\n",
       "      <th>17</th>\n",
       "      <td>2018-01-25</td>\n",
       "      <td>19.340000</td>\n",
       "      <td>19.340000</td>\n",
       "      <td>19.340000</td>\n",
       "      <td>19.340000</td>\n",
       "      <td>19.301397</td>\n",
       "      <td>0</td>\n",
       "    </tr>\n",
       "    <tr>\n",
       "      <th>18</th>\n",
       "      <td>2018-01-26</td>\n",
       "      <td>19.620001</td>\n",
       "      <td>19.980000</td>\n",
       "      <td>19.100000</td>\n",
       "      <td>19.930000</td>\n",
       "      <td>19.890221</td>\n",
       "      <td>81989500</td>\n",
       "    </tr>\n",
       "    <tr>\n",
       "      <th>19</th>\n",
       "      <td>2018-01-29</td>\n",
       "      <td>19.670000</td>\n",
       "      <td>20.049999</td>\n",
       "      <td>19.570000</td>\n",
       "      <td>19.850000</td>\n",
       "      <td>19.810381</td>\n",
       "      <td>55726200</td>\n",
       "    </tr>\n",
       "    <tr>\n",
       "      <th>20</th>\n",
       "      <td>2018-01-30</td>\n",
       "      <td>19.770000</td>\n",
       "      <td>19.770000</td>\n",
       "      <td>19.360001</td>\n",
       "      <td>19.490000</td>\n",
       "      <td>19.451097</td>\n",
       "      <td>46203000</td>\n",
       "    </tr>\n",
       "    <tr>\n",
       "      <th>21</th>\n",
       "      <td>2018-01-31</td>\n",
       "      <td>19.740000</td>\n",
       "      <td>19.930000</td>\n",
       "      <td>19.680000</td>\n",
       "      <td>19.700001</td>\n",
       "      <td>19.660681</td>\n",
       "      <td>41576600</td>\n",
       "    </tr>\n",
       "  </tbody>\n",
       "</table>\n",
       "</div>"
      ],
      "text/plain": [
       "          Date       Open       High        Low      Close  Adj Close  \\\n",
       "0   2018-01-02  16.190001  16.549999  16.190001  16.549999  16.516966   \n",
       "1   2018-01-03  16.490000  16.719999  16.370001  16.700001  16.666668   \n",
       "2   2018-01-04  16.780001  16.959999  16.620001  16.730000  16.696608   \n",
       "3   2018-01-05  16.700001  16.860001  16.570000  16.830000  16.796408   \n",
       "4   2018-01-08  16.740000  17.030001  16.709999  17.030001  16.996010   \n",
       "5   2018-01-09  17.030001  17.160000  16.959999  17.030001  16.996010   \n",
       "6   2018-01-10  16.920000  17.049999  16.770000  16.799999  16.766466   \n",
       "7   2018-01-11  16.879999  17.299999  16.840000  17.250000  17.215569   \n",
       "8   2018-01-12  17.040001  17.410000  17.020000  17.299999  17.265469   \n",
       "9   2018-01-15  17.320000  17.440001  17.150000  17.350000  17.315371   \n",
       "10  2018-01-16  17.350000  17.840000  17.299999  17.650000  17.614771   \n",
       "11  2018-01-17  17.920000  18.360001  17.809999  18.360001  18.323355   \n",
       "12  2018-01-18  18.350000  18.530001  17.930000  18.219999  18.183632   \n",
       "13  2018-01-19  18.309999  18.420000  18.030001  18.260000  18.223553   \n",
       "14  2018-01-22  18.260000  18.469999  18.090000  18.469999  18.433134   \n",
       "15  2018-01-23  18.400000  18.459999  18.000000  18.240000  18.203592   \n",
       "16  2018-01-24  18.420000  19.629999  18.420000  19.340000  19.301397   \n",
       "17  2018-01-25  19.340000  19.340000  19.340000  19.340000  19.301397   \n",
       "18  2018-01-26  19.620001  19.980000  19.100000  19.930000  19.890221   \n",
       "19  2018-01-29  19.670000  20.049999  19.570000  19.850000  19.810381   \n",
       "20  2018-01-30  19.770000  19.770000  19.360001  19.490000  19.451097   \n",
       "21  2018-01-31  19.740000  19.930000  19.680000  19.700001  19.660681   \n",
       "\n",
       "      Volume  \n",
       "0   33461800  \n",
       "1   55940900  \n",
       "2   37064900  \n",
       "3   26958200  \n",
       "4   28400000  \n",
       "5   35070900  \n",
       "6   28547700  \n",
       "7   37921500  \n",
       "8   45912100  \n",
       "9   28945400  \n",
       "10  58618300  \n",
       "11  58488900  \n",
       "12  48575800  \n",
       "13  33470200  \n",
       "14  33920000  \n",
       "15  35567700  \n",
       "16  89768200  \n",
       "17         0  \n",
       "18  81989500  \n",
       "19  55726200  \n",
       "20  46203000  \n",
       "21  41576600  "
      ]
     },
     "execution_count": 21,
     "metadata": {},
     "output_type": "execute_result"
    }
   ],
   "source": [
    "base_teste = pd.read_csv('petr4-teste.csv')\n",
    "base_teste"
   ]
  },
  {
   "cell_type": "code",
   "execution_count": 22,
   "id": "87f36855-a8f0-4ed0-88c5-af9bcaaaf644",
   "metadata": {},
   "outputs": [
    {
     "data": {
      "text/plain": [
       "(22, 7)"
      ]
     },
     "execution_count": 22,
     "metadata": {},
     "output_type": "execute_result"
    }
   ],
   "source": [
    "base_teste.shape"
   ]
  },
  {
   "cell_type": "code",
   "execution_count": 23,
   "id": "eda77bd3-e810-4103-83c5-5a0bbd9df998",
   "metadata": {},
   "outputs": [
    {
     "data": {
      "text/plain": [
       "array([[16.190001],\n",
       "       [16.49    ],\n",
       "       [16.780001],\n",
       "       [16.700001],\n",
       "       [16.74    ],\n",
       "       [17.030001],\n",
       "       [16.92    ],\n",
       "       [16.879999],\n",
       "       [17.040001],\n",
       "       [17.32    ],\n",
       "       [17.35    ],\n",
       "       [17.92    ],\n",
       "       [18.35    ],\n",
       "       [18.309999],\n",
       "       [18.26    ],\n",
       "       [18.4     ],\n",
       "       [18.42    ],\n",
       "       [19.34    ],\n",
       "       [19.620001],\n",
       "       [19.67    ],\n",
       "       [19.77    ],\n",
       "       [19.74    ]])"
      ]
     },
     "execution_count": 23,
     "metadata": {},
     "output_type": "execute_result"
    }
   ],
   "source": [
    "y_teste = base_teste.iloc[:,1:2].values\n",
    "y_teste"
   ]
  },
  {
   "cell_type": "code",
   "execution_count": 24,
   "id": "6f332133-34b0-4773-a414-5a0f1290012a",
   "metadata": {},
   "outputs": [],
   "source": [
    "base_completa = pd.concat((base['Open'],base_teste['Open']),axis=0)"
   ]
  },
  {
   "cell_type": "code",
   "execution_count": 26,
   "id": "cc4ca502-79e7-4279-9d2b-f8d36078c456",
   "metadata": {},
   "outputs": [
    {
     "data": {
      "text/plain": [
       "(1264,)"
      ]
     },
     "execution_count": 26,
     "metadata": {},
     "output_type": "execute_result"
    }
   ],
   "source": [
    "base_completa.shape"
   ]
  },
  {
   "cell_type": "code",
   "execution_count": 25,
   "id": "0f429bdf-609f-492e-9007-0fd75afabe0b",
   "metadata": {},
   "outputs": [
    {
     "data": {
      "text/plain": [
       "array([13.93    , 13.76    , 13.79    , 13.53    , 13.85    , 13.96    ,\n",
       "       14.57    , 14.65    , 15.02    , 15.1     , 14.88    , 14.98    ,\n",
       "       14.94    , 15.03    , 15.07    , 15.02    , 15.1     , 15.25    ,\n",
       "       15.85    , 15.6     , 15.79    , 15.86    , 15.7     , 15.37    ,\n",
       "       15.5     , 15.19    , 15.6     , 15.9     , 15.88    , 15.66    ,\n",
       "       15.61    , 16.129999, 16.17    , 16.08    , 16.23    , 16.16    ,\n",
       "       16.139999, 16.219999, 16.      , 16.190001, 16.290001, 16.290001,\n",
       "       16.530001, 16.780001, 16.77    , 16.969999, 16.9     , 16.99    ,\n",
       "       16.9     , 16.959999, 17.049999, 17.309999, 16.690001, 16.889999,\n",
       "       16.709999, 16.690001, 16.639999, 15.35    , 15.62    , 15.92    ,\n",
       "       16.02    , 16.15    , 16.09    , 15.98    , 16.25    , 16.01    ,\n",
       "       15.93    , 15.87    , 15.3     , 15.34    , 15.65    , 15.5     ,\n",
       "       15.22    , 15.3     , 15.51    , 15.48    , 15.36    , 15.65    ,\n",
       "       15.1     , 15.05    , 15.16    , 15.18    , 15.21    , 15.31    ,\n",
       "       15.75    , 15.75    , 15.75    , 15.99    , 16.1     , 16.1     ,\n",
       "       16.190001, 16.49    , 16.780001, 16.700001, 16.74    , 17.030001,\n",
       "       16.92    , 16.879999, 17.040001, 17.32    , 17.35    , 17.92    ,\n",
       "       18.35    , 18.309999, 18.26    , 18.4     , 18.42    , 19.34    ,\n",
       "       19.620001, 19.67    , 19.77    , 19.74    ])"
      ]
     },
     "execution_count": 25,
     "metadata": {},
     "output_type": "execute_result"
    }
   ],
   "source": [
    "entradas = base_completa[len(base_completa) - len(base_teste) - 90:].values\n",
    "entradas"
   ]
  },
  {
   "cell_type": "code",
   "execution_count": 26,
   "id": "19511e9a-f3ba-4c04-a1c3-ccfd7642c98b",
   "metadata": {},
   "outputs": [
    {
     "data": {
      "text/plain": [
       "(112,)"
      ]
     },
     "execution_count": 26,
     "metadata": {},
     "output_type": "execute_result"
    }
   ],
   "source": [
    "entradas.shape"
   ]
  },
  {
   "cell_type": "code",
   "execution_count": 27,
   "id": "a645fa1b-ede3-4edc-9d48-18bdd136924b",
   "metadata": {},
   "outputs": [
    {
     "data": {
      "text/plain": [
       "(112, 1)"
      ]
     },
     "execution_count": 27,
     "metadata": {},
     "output_type": "execute_result"
    }
   ],
   "source": [
    "entradas = entradas.reshape(-1,1)\n",
    "entradas.shape"
   ]
  },
  {
   "cell_type": "code",
   "execution_count": 28,
   "id": "a56eec26-bfe2-4ba6-930d-fe981ae68a87",
   "metadata": {},
   "outputs": [
    {
     "data": {
      "text/plain": [
       "array([[13.93    ],\n",
       "       [13.76    ],\n",
       "       [13.79    ],\n",
       "       [13.53    ],\n",
       "       [13.85    ],\n",
       "       [13.96    ],\n",
       "       [14.57    ],\n",
       "       [14.65    ],\n",
       "       [15.02    ],\n",
       "       [15.1     ],\n",
       "       [14.88    ],\n",
       "       [14.98    ],\n",
       "       [14.94    ],\n",
       "       [15.03    ],\n",
       "       [15.07    ],\n",
       "       [15.02    ],\n",
       "       [15.1     ],\n",
       "       [15.25    ],\n",
       "       [15.85    ],\n",
       "       [15.6     ],\n",
       "       [15.79    ],\n",
       "       [15.86    ],\n",
       "       [15.7     ],\n",
       "       [15.37    ],\n",
       "       [15.5     ],\n",
       "       [15.19    ],\n",
       "       [15.6     ],\n",
       "       [15.9     ],\n",
       "       [15.88    ],\n",
       "       [15.66    ],\n",
       "       [15.61    ],\n",
       "       [16.129999],\n",
       "       [16.17    ],\n",
       "       [16.08    ],\n",
       "       [16.23    ],\n",
       "       [16.16    ],\n",
       "       [16.139999],\n",
       "       [16.219999],\n",
       "       [16.      ],\n",
       "       [16.190001],\n",
       "       [16.290001],\n",
       "       [16.290001],\n",
       "       [16.530001],\n",
       "       [16.780001],\n",
       "       [16.77    ],\n",
       "       [16.969999],\n",
       "       [16.9     ],\n",
       "       [16.99    ],\n",
       "       [16.9     ],\n",
       "       [16.959999],\n",
       "       [17.049999],\n",
       "       [17.309999],\n",
       "       [16.690001],\n",
       "       [16.889999],\n",
       "       [16.709999],\n",
       "       [16.690001],\n",
       "       [16.639999],\n",
       "       [15.35    ],\n",
       "       [15.62    ],\n",
       "       [15.92    ],\n",
       "       [16.02    ],\n",
       "       [16.15    ],\n",
       "       [16.09    ],\n",
       "       [15.98    ],\n",
       "       [16.25    ],\n",
       "       [16.01    ],\n",
       "       [15.93    ],\n",
       "       [15.87    ],\n",
       "       [15.3     ],\n",
       "       [15.34    ],\n",
       "       [15.65    ],\n",
       "       [15.5     ],\n",
       "       [15.22    ],\n",
       "       [15.3     ],\n",
       "       [15.51    ],\n",
       "       [15.48    ],\n",
       "       [15.36    ],\n",
       "       [15.65    ],\n",
       "       [15.1     ],\n",
       "       [15.05    ],\n",
       "       [15.16    ],\n",
       "       [15.18    ],\n",
       "       [15.21    ],\n",
       "       [15.31    ],\n",
       "       [15.75    ],\n",
       "       [15.75    ],\n",
       "       [15.75    ],\n",
       "       [15.99    ],\n",
       "       [16.1     ],\n",
       "       [16.1     ],\n",
       "       [16.190001],\n",
       "       [16.49    ],\n",
       "       [16.780001],\n",
       "       [16.700001],\n",
       "       [16.74    ],\n",
       "       [17.030001],\n",
       "       [16.92    ],\n",
       "       [16.879999],\n",
       "       [17.040001],\n",
       "       [17.32    ],\n",
       "       [17.35    ],\n",
       "       [17.92    ],\n",
       "       [18.35    ],\n",
       "       [18.309999],\n",
       "       [18.26    ],\n",
       "       [18.4     ],\n",
       "       [18.42    ],\n",
       "       [19.34    ],\n",
       "       [19.620001],\n",
       "       [19.67    ],\n",
       "       [19.77    ],\n",
       "       [19.74    ]])"
      ]
     },
     "execution_count": 28,
     "metadata": {},
     "output_type": "execute_result"
    }
   ],
   "source": [
    "entradas"
   ]
  },
  {
   "cell_type": "code",
   "execution_count": 29,
   "id": "c9202499-328a-4604-926c-575464eaebdf",
   "metadata": {},
   "outputs": [],
   "source": [
    "entradas = normalizador.transform(entradas)"
   ]
  },
  {
   "cell_type": "code",
   "execution_count": 30,
   "id": "d5690904-5b0a-4f29-bfd5-72115381adea",
   "metadata": {},
   "outputs": [],
   "source": [
    "X_teste = []\n",
    "for i in range(90,112):\n",
    "    X_teste.append(entradas[i-90:i,0])"
   ]
  },
  {
   "cell_type": "code",
   "execution_count": 31,
   "id": "d91cdad1-6f6d-4f75-a018-c4e14076d418",
   "metadata": {},
   "outputs": [
    {
     "data": {
      "text/plain": [
       "[array([0.47141473, 0.46317829, 0.46463178, 0.45203488, 0.46753876,\n",
       "        0.47286822, 0.50242248, 0.50629845, 0.52422481, 0.52810078,\n",
       "        0.51744186, 0.52228682, 0.52034884, 0.5247093 , 0.52664729,\n",
       "        0.52422481, 0.52810078, 0.53536822, 0.56443798, 0.55232558,\n",
       "        0.56153101, 0.56492248, 0.55717054, 0.54118217, 0.54748062,\n",
       "        0.53246124, 0.55232558, 0.56686047, 0.56589147, 0.55523256,\n",
       "        0.55281008, 0.57800383, 0.57994186, 0.5755814 , 0.58284884,\n",
       "        0.57945736, 0.57848832, 0.58236429, 0.57170543, 0.5809109 ,\n",
       "        0.58575586, 0.58575586, 0.59738377, 0.60949617, 0.60901163,\n",
       "        0.6187015 , 0.61531008, 0.61967054, 0.61531008, 0.61821701,\n",
       "        0.62257747, 0.63517437, 0.60513571, 0.61482553, 0.6061046 ,\n",
       "        0.60513571, 0.60271313, 0.54021318, 0.55329457, 0.56782946,\n",
       "        0.57267442, 0.57897287, 0.57606589, 0.57073643, 0.58381783,\n",
       "        0.57218992, 0.56831395, 0.56540698, 0.5377907 , 0.53972868,\n",
       "        0.55474806, 0.54748062, 0.53391473, 0.5377907 , 0.54796512,\n",
       "        0.54651163, 0.54069767, 0.55474806, 0.52810078, 0.52567829,\n",
       "        0.53100775, 0.53197674, 0.53343023, 0.53827519, 0.55959302,\n",
       "        0.55959302, 0.55959302, 0.57122093, 0.57655039, 0.57655039]),\n",
       " array([0.46317829, 0.46463178, 0.45203488, 0.46753876, 0.47286822,\n",
       "        0.50242248, 0.50629845, 0.52422481, 0.52810078, 0.51744186,\n",
       "        0.52228682, 0.52034884, 0.5247093 , 0.52664729, 0.52422481,\n",
       "        0.52810078, 0.53536822, 0.56443798, 0.55232558, 0.56153101,\n",
       "        0.56492248, 0.55717054, 0.54118217, 0.54748062, 0.53246124,\n",
       "        0.55232558, 0.56686047, 0.56589147, 0.55523256, 0.55281008,\n",
       "        0.57800383, 0.57994186, 0.5755814 , 0.58284884, 0.57945736,\n",
       "        0.57848832, 0.58236429, 0.57170543, 0.5809109 , 0.58575586,\n",
       "        0.58575586, 0.59738377, 0.60949617, 0.60901163, 0.6187015 ,\n",
       "        0.61531008, 0.61967054, 0.61531008, 0.61821701, 0.62257747,\n",
       "        0.63517437, 0.60513571, 0.61482553, 0.6061046 , 0.60513571,\n",
       "        0.60271313, 0.54021318, 0.55329457, 0.56782946, 0.57267442,\n",
       "        0.57897287, 0.57606589, 0.57073643, 0.58381783, 0.57218992,\n",
       "        0.56831395, 0.56540698, 0.5377907 , 0.53972868, 0.55474806,\n",
       "        0.54748062, 0.53391473, 0.5377907 , 0.54796512, 0.54651163,\n",
       "        0.54069767, 0.55474806, 0.52810078, 0.52567829, 0.53100775,\n",
       "        0.53197674, 0.53343023, 0.53827519, 0.55959302, 0.55959302,\n",
       "        0.55959302, 0.57122093, 0.57655039, 0.57655039, 0.5809109 ]),\n",
       " array([0.46463178, 0.45203488, 0.46753876, 0.47286822, 0.50242248,\n",
       "        0.50629845, 0.52422481, 0.52810078, 0.51744186, 0.52228682,\n",
       "        0.52034884, 0.5247093 , 0.52664729, 0.52422481, 0.52810078,\n",
       "        0.53536822, 0.56443798, 0.55232558, 0.56153101, 0.56492248,\n",
       "        0.55717054, 0.54118217, 0.54748062, 0.53246124, 0.55232558,\n",
       "        0.56686047, 0.56589147, 0.55523256, 0.55281008, 0.57800383,\n",
       "        0.57994186, 0.5755814 , 0.58284884, 0.57945736, 0.57848832,\n",
       "        0.58236429, 0.57170543, 0.5809109 , 0.58575586, 0.58575586,\n",
       "        0.59738377, 0.60949617, 0.60901163, 0.6187015 , 0.61531008,\n",
       "        0.61967054, 0.61531008, 0.61821701, 0.62257747, 0.63517437,\n",
       "        0.60513571, 0.61482553, 0.6061046 , 0.60513571, 0.60271313,\n",
       "        0.54021318, 0.55329457, 0.56782946, 0.57267442, 0.57897287,\n",
       "        0.57606589, 0.57073643, 0.58381783, 0.57218992, 0.56831395,\n",
       "        0.56540698, 0.5377907 , 0.53972868, 0.55474806, 0.54748062,\n",
       "        0.53391473, 0.5377907 , 0.54796512, 0.54651163, 0.54069767,\n",
       "        0.55474806, 0.52810078, 0.52567829, 0.53100775, 0.53197674,\n",
       "        0.53343023, 0.53827519, 0.55959302, 0.55959302, 0.55959302,\n",
       "        0.57122093, 0.57655039, 0.57655039, 0.5809109 , 0.59544574]),\n",
       " array([0.45203488, 0.46753876, 0.47286822, 0.50242248, 0.50629845,\n",
       "        0.52422481, 0.52810078, 0.51744186, 0.52228682, 0.52034884,\n",
       "        0.5247093 , 0.52664729, 0.52422481, 0.52810078, 0.53536822,\n",
       "        0.56443798, 0.55232558, 0.56153101, 0.56492248, 0.55717054,\n",
       "        0.54118217, 0.54748062, 0.53246124, 0.55232558, 0.56686047,\n",
       "        0.56589147, 0.55523256, 0.55281008, 0.57800383, 0.57994186,\n",
       "        0.5755814 , 0.58284884, 0.57945736, 0.57848832, 0.58236429,\n",
       "        0.57170543, 0.5809109 , 0.58575586, 0.58575586, 0.59738377,\n",
       "        0.60949617, 0.60901163, 0.6187015 , 0.61531008, 0.61967054,\n",
       "        0.61531008, 0.61821701, 0.62257747, 0.63517437, 0.60513571,\n",
       "        0.61482553, 0.6061046 , 0.60513571, 0.60271313, 0.54021318,\n",
       "        0.55329457, 0.56782946, 0.57267442, 0.57897287, 0.57606589,\n",
       "        0.57073643, 0.58381783, 0.57218992, 0.56831395, 0.56540698,\n",
       "        0.5377907 , 0.53972868, 0.55474806, 0.54748062, 0.53391473,\n",
       "        0.5377907 , 0.54796512, 0.54651163, 0.54069767, 0.55474806,\n",
       "        0.52810078, 0.52567829, 0.53100775, 0.53197674, 0.53343023,\n",
       "        0.53827519, 0.55959302, 0.55959302, 0.55959302, 0.57122093,\n",
       "        0.57655039, 0.57655039, 0.5809109 , 0.59544574, 0.60949617]),\n",
       " array([0.46753876, 0.47286822, 0.50242248, 0.50629845, 0.52422481,\n",
       "        0.52810078, 0.51744186, 0.52228682, 0.52034884, 0.5247093 ,\n",
       "        0.52664729, 0.52422481, 0.52810078, 0.53536822, 0.56443798,\n",
       "        0.55232558, 0.56153101, 0.56492248, 0.55717054, 0.54118217,\n",
       "        0.54748062, 0.53246124, 0.55232558, 0.56686047, 0.56589147,\n",
       "        0.55523256, 0.55281008, 0.57800383, 0.57994186, 0.5755814 ,\n",
       "        0.58284884, 0.57945736, 0.57848832, 0.58236429, 0.57170543,\n",
       "        0.5809109 , 0.58575586, 0.58575586, 0.59738377, 0.60949617,\n",
       "        0.60901163, 0.6187015 , 0.61531008, 0.61967054, 0.61531008,\n",
       "        0.61821701, 0.62257747, 0.63517437, 0.60513571, 0.61482553,\n",
       "        0.6061046 , 0.60513571, 0.60271313, 0.54021318, 0.55329457,\n",
       "        0.56782946, 0.57267442, 0.57897287, 0.57606589, 0.57073643,\n",
       "        0.58381783, 0.57218992, 0.56831395, 0.56540698, 0.5377907 ,\n",
       "        0.53972868, 0.55474806, 0.54748062, 0.53391473, 0.5377907 ,\n",
       "        0.54796512, 0.54651163, 0.54069767, 0.55474806, 0.52810078,\n",
       "        0.52567829, 0.53100775, 0.53197674, 0.53343023, 0.53827519,\n",
       "        0.55959302, 0.55959302, 0.55959302, 0.57122093, 0.57655039,\n",
       "        0.57655039, 0.5809109 , 0.59544574, 0.60949617, 0.6056202 ]),\n",
       " array([0.47286822, 0.50242248, 0.50629845, 0.52422481, 0.52810078,\n",
       "        0.51744186, 0.52228682, 0.52034884, 0.5247093 , 0.52664729,\n",
       "        0.52422481, 0.52810078, 0.53536822, 0.56443798, 0.55232558,\n",
       "        0.56153101, 0.56492248, 0.55717054, 0.54118217, 0.54748062,\n",
       "        0.53246124, 0.55232558, 0.56686047, 0.56589147, 0.55523256,\n",
       "        0.55281008, 0.57800383, 0.57994186, 0.5755814 , 0.58284884,\n",
       "        0.57945736, 0.57848832, 0.58236429, 0.57170543, 0.5809109 ,\n",
       "        0.58575586, 0.58575586, 0.59738377, 0.60949617, 0.60901163,\n",
       "        0.6187015 , 0.61531008, 0.61967054, 0.61531008, 0.61821701,\n",
       "        0.62257747, 0.63517437, 0.60513571, 0.61482553, 0.6061046 ,\n",
       "        0.60513571, 0.60271313, 0.54021318, 0.55329457, 0.56782946,\n",
       "        0.57267442, 0.57897287, 0.57606589, 0.57073643, 0.58381783,\n",
       "        0.57218992, 0.56831395, 0.56540698, 0.5377907 , 0.53972868,\n",
       "        0.55474806, 0.54748062, 0.53391473, 0.5377907 , 0.54796512,\n",
       "        0.54651163, 0.54069767, 0.55474806, 0.52810078, 0.52567829,\n",
       "        0.53100775, 0.53197674, 0.53343023, 0.53827519, 0.55959302,\n",
       "        0.55959302, 0.55959302, 0.57122093, 0.57655039, 0.57655039,\n",
       "        0.5809109 , 0.59544574, 0.60949617, 0.6056202 , 0.60755814]),\n",
       " array([0.50242248, 0.50629845, 0.52422481, 0.52810078, 0.51744186,\n",
       "        0.52228682, 0.52034884, 0.5247093 , 0.52664729, 0.52422481,\n",
       "        0.52810078, 0.53536822, 0.56443798, 0.55232558, 0.56153101,\n",
       "        0.56492248, 0.55717054, 0.54118217, 0.54748062, 0.53246124,\n",
       "        0.55232558, 0.56686047, 0.56589147, 0.55523256, 0.55281008,\n",
       "        0.57800383, 0.57994186, 0.5755814 , 0.58284884, 0.57945736,\n",
       "        0.57848832, 0.58236429, 0.57170543, 0.5809109 , 0.58575586,\n",
       "        0.58575586, 0.59738377, 0.60949617, 0.60901163, 0.6187015 ,\n",
       "        0.61531008, 0.61967054, 0.61531008, 0.61821701, 0.62257747,\n",
       "        0.63517437, 0.60513571, 0.61482553, 0.6061046 , 0.60513571,\n",
       "        0.60271313, 0.54021318, 0.55329457, 0.56782946, 0.57267442,\n",
       "        0.57897287, 0.57606589, 0.57073643, 0.58381783, 0.57218992,\n",
       "        0.56831395, 0.56540698, 0.5377907 , 0.53972868, 0.55474806,\n",
       "        0.54748062, 0.53391473, 0.5377907 , 0.54796512, 0.54651163,\n",
       "        0.54069767, 0.55474806, 0.52810078, 0.52567829, 0.53100775,\n",
       "        0.53197674, 0.53343023, 0.53827519, 0.55959302, 0.55959302,\n",
       "        0.55959302, 0.57122093, 0.57655039, 0.57655039, 0.5809109 ,\n",
       "        0.59544574, 0.60949617, 0.6056202 , 0.60755814, 0.62160858]),\n",
       " array([0.50629845, 0.52422481, 0.52810078, 0.51744186, 0.52228682,\n",
       "        0.52034884, 0.5247093 , 0.52664729, 0.52422481, 0.52810078,\n",
       "        0.53536822, 0.56443798, 0.55232558, 0.56153101, 0.56492248,\n",
       "        0.55717054, 0.54118217, 0.54748062, 0.53246124, 0.55232558,\n",
       "        0.56686047, 0.56589147, 0.55523256, 0.55281008, 0.57800383,\n",
       "        0.57994186, 0.5755814 , 0.58284884, 0.57945736, 0.57848832,\n",
       "        0.58236429, 0.57170543, 0.5809109 , 0.58575586, 0.58575586,\n",
       "        0.59738377, 0.60949617, 0.60901163, 0.6187015 , 0.61531008,\n",
       "        0.61967054, 0.61531008, 0.61821701, 0.62257747, 0.63517437,\n",
       "        0.60513571, 0.61482553, 0.6061046 , 0.60513571, 0.60271313,\n",
       "        0.54021318, 0.55329457, 0.56782946, 0.57267442, 0.57897287,\n",
       "        0.57606589, 0.57073643, 0.58381783, 0.57218992, 0.56831395,\n",
       "        0.56540698, 0.5377907 , 0.53972868, 0.55474806, 0.54748062,\n",
       "        0.53391473, 0.5377907 , 0.54796512, 0.54651163, 0.54069767,\n",
       "        0.55474806, 0.52810078, 0.52567829, 0.53100775, 0.53197674,\n",
       "        0.53343023, 0.53827519, 0.55959302, 0.55959302, 0.55959302,\n",
       "        0.57122093, 0.57655039, 0.57655039, 0.5809109 , 0.59544574,\n",
       "        0.60949617, 0.6056202 , 0.60755814, 0.62160858, 0.61627907]),\n",
       " array([0.52422481, 0.52810078, 0.51744186, 0.52228682, 0.52034884,\n",
       "        0.5247093 , 0.52664729, 0.52422481, 0.52810078, 0.53536822,\n",
       "        0.56443798, 0.55232558, 0.56153101, 0.56492248, 0.55717054,\n",
       "        0.54118217, 0.54748062, 0.53246124, 0.55232558, 0.56686047,\n",
       "        0.56589147, 0.55523256, 0.55281008, 0.57800383, 0.57994186,\n",
       "        0.5755814 , 0.58284884, 0.57945736, 0.57848832, 0.58236429,\n",
       "        0.57170543, 0.5809109 , 0.58575586, 0.58575586, 0.59738377,\n",
       "        0.60949617, 0.60901163, 0.6187015 , 0.61531008, 0.61967054,\n",
       "        0.61531008, 0.61821701, 0.62257747, 0.63517437, 0.60513571,\n",
       "        0.61482553, 0.6061046 , 0.60513571, 0.60271313, 0.54021318,\n",
       "        0.55329457, 0.56782946, 0.57267442, 0.57897287, 0.57606589,\n",
       "        0.57073643, 0.58381783, 0.57218992, 0.56831395, 0.56540698,\n",
       "        0.5377907 , 0.53972868, 0.55474806, 0.54748062, 0.53391473,\n",
       "        0.5377907 , 0.54796512, 0.54651163, 0.54069767, 0.55474806,\n",
       "        0.52810078, 0.52567829, 0.53100775, 0.53197674, 0.53343023,\n",
       "        0.53827519, 0.55959302, 0.55959302, 0.55959302, 0.57122093,\n",
       "        0.57655039, 0.57655039, 0.5809109 , 0.59544574, 0.60949617,\n",
       "        0.6056202 , 0.60755814, 0.62160858, 0.61627907, 0.61434104]),\n",
       " array([0.52810078, 0.51744186, 0.52228682, 0.52034884, 0.5247093 ,\n",
       "        0.52664729, 0.52422481, 0.52810078, 0.53536822, 0.56443798,\n",
       "        0.55232558, 0.56153101, 0.56492248, 0.55717054, 0.54118217,\n",
       "        0.54748062, 0.53246124, 0.55232558, 0.56686047, 0.56589147,\n",
       "        0.55523256, 0.55281008, 0.57800383, 0.57994186, 0.5755814 ,\n",
       "        0.58284884, 0.57945736, 0.57848832, 0.58236429, 0.57170543,\n",
       "        0.5809109 , 0.58575586, 0.58575586, 0.59738377, 0.60949617,\n",
       "        0.60901163, 0.6187015 , 0.61531008, 0.61967054, 0.61531008,\n",
       "        0.61821701, 0.62257747, 0.63517437, 0.60513571, 0.61482553,\n",
       "        0.6061046 , 0.60513571, 0.60271313, 0.54021318, 0.55329457,\n",
       "        0.56782946, 0.57267442, 0.57897287, 0.57606589, 0.57073643,\n",
       "        0.58381783, 0.57218992, 0.56831395, 0.56540698, 0.5377907 ,\n",
       "        0.53972868, 0.55474806, 0.54748062, 0.53391473, 0.5377907 ,\n",
       "        0.54796512, 0.54651163, 0.54069767, 0.55474806, 0.52810078,\n",
       "        0.52567829, 0.53100775, 0.53197674, 0.53343023, 0.53827519,\n",
       "        0.55959302, 0.55959302, 0.55959302, 0.57122093, 0.57655039,\n",
       "        0.57655039, 0.5809109 , 0.59544574, 0.60949617, 0.6056202 ,\n",
       "        0.60755814, 0.62160858, 0.61627907, 0.61434104, 0.62209307]),\n",
       " array([0.51744186, 0.52228682, 0.52034884, 0.5247093 , 0.52664729,\n",
       "        0.52422481, 0.52810078, 0.53536822, 0.56443798, 0.55232558,\n",
       "        0.56153101, 0.56492248, 0.55717054, 0.54118217, 0.54748062,\n",
       "        0.53246124, 0.55232558, 0.56686047, 0.56589147, 0.55523256,\n",
       "        0.55281008, 0.57800383, 0.57994186, 0.5755814 , 0.58284884,\n",
       "        0.57945736, 0.57848832, 0.58236429, 0.57170543, 0.5809109 ,\n",
       "        0.58575586, 0.58575586, 0.59738377, 0.60949617, 0.60901163,\n",
       "        0.6187015 , 0.61531008, 0.61967054, 0.61531008, 0.61821701,\n",
       "        0.62257747, 0.63517437, 0.60513571, 0.61482553, 0.6061046 ,\n",
       "        0.60513571, 0.60271313, 0.54021318, 0.55329457, 0.56782946,\n",
       "        0.57267442, 0.57897287, 0.57606589, 0.57073643, 0.58381783,\n",
       "        0.57218992, 0.56831395, 0.56540698, 0.5377907 , 0.53972868,\n",
       "        0.55474806, 0.54748062, 0.53391473, 0.5377907 , 0.54796512,\n",
       "        0.54651163, 0.54069767, 0.55474806, 0.52810078, 0.52567829,\n",
       "        0.53100775, 0.53197674, 0.53343023, 0.53827519, 0.55959302,\n",
       "        0.55959302, 0.55959302, 0.57122093, 0.57655039, 0.57655039,\n",
       "        0.5809109 , 0.59544574, 0.60949617, 0.6056202 , 0.60755814,\n",
       "        0.62160858, 0.61627907, 0.61434104, 0.62209307, 0.63565891]),\n",
       " array([0.52228682, 0.52034884, 0.5247093 , 0.52664729, 0.52422481,\n",
       "        0.52810078, 0.53536822, 0.56443798, 0.55232558, 0.56153101,\n",
       "        0.56492248, 0.55717054, 0.54118217, 0.54748062, 0.53246124,\n",
       "        0.55232558, 0.56686047, 0.56589147, 0.55523256, 0.55281008,\n",
       "        0.57800383, 0.57994186, 0.5755814 , 0.58284884, 0.57945736,\n",
       "        0.57848832, 0.58236429, 0.57170543, 0.5809109 , 0.58575586,\n",
       "        0.58575586, 0.59738377, 0.60949617, 0.60901163, 0.6187015 ,\n",
       "        0.61531008, 0.61967054, 0.61531008, 0.61821701, 0.62257747,\n",
       "        0.63517437, 0.60513571, 0.61482553, 0.6061046 , 0.60513571,\n",
       "        0.60271313, 0.54021318, 0.55329457, 0.56782946, 0.57267442,\n",
       "        0.57897287, 0.57606589, 0.57073643, 0.58381783, 0.57218992,\n",
       "        0.56831395, 0.56540698, 0.5377907 , 0.53972868, 0.55474806,\n",
       "        0.54748062, 0.53391473, 0.5377907 , 0.54796512, 0.54651163,\n",
       "        0.54069767, 0.55474806, 0.52810078, 0.52567829, 0.53100775,\n",
       "        0.53197674, 0.53343023, 0.53827519, 0.55959302, 0.55959302,\n",
       "        0.55959302, 0.57122093, 0.57655039, 0.57655039, 0.5809109 ,\n",
       "        0.59544574, 0.60949617, 0.6056202 , 0.60755814, 0.62160858,\n",
       "        0.61627907, 0.61434104, 0.62209307, 0.63565891, 0.6371124 ]),\n",
       " array([0.52034884, 0.5247093 , 0.52664729, 0.52422481, 0.52810078,\n",
       "        0.53536822, 0.56443798, 0.55232558, 0.56153101, 0.56492248,\n",
       "        0.55717054, 0.54118217, 0.54748062, 0.53246124, 0.55232558,\n",
       "        0.56686047, 0.56589147, 0.55523256, 0.55281008, 0.57800383,\n",
       "        0.57994186, 0.5755814 , 0.58284884, 0.57945736, 0.57848832,\n",
       "        0.58236429, 0.57170543, 0.5809109 , 0.58575586, 0.58575586,\n",
       "        0.59738377, 0.60949617, 0.60901163, 0.6187015 , 0.61531008,\n",
       "        0.61967054, 0.61531008, 0.61821701, 0.62257747, 0.63517437,\n",
       "        0.60513571, 0.61482553, 0.6061046 , 0.60513571, 0.60271313,\n",
       "        0.54021318, 0.55329457, 0.56782946, 0.57267442, 0.57897287,\n",
       "        0.57606589, 0.57073643, 0.58381783, 0.57218992, 0.56831395,\n",
       "        0.56540698, 0.5377907 , 0.53972868, 0.55474806, 0.54748062,\n",
       "        0.53391473, 0.5377907 , 0.54796512, 0.54651163, 0.54069767,\n",
       "        0.55474806, 0.52810078, 0.52567829, 0.53100775, 0.53197674,\n",
       "        0.53343023, 0.53827519, 0.55959302, 0.55959302, 0.55959302,\n",
       "        0.57122093, 0.57655039, 0.57655039, 0.5809109 , 0.59544574,\n",
       "        0.60949617, 0.6056202 , 0.60755814, 0.62160858, 0.61627907,\n",
       "        0.61434104, 0.62209307, 0.63565891, 0.6371124 , 0.66472868]),\n",
       " array([0.5247093 , 0.52664729, 0.52422481, 0.52810078, 0.53536822,\n",
       "        0.56443798, 0.55232558, 0.56153101, 0.56492248, 0.55717054,\n",
       "        0.54118217, 0.54748062, 0.53246124, 0.55232558, 0.56686047,\n",
       "        0.56589147, 0.55523256, 0.55281008, 0.57800383, 0.57994186,\n",
       "        0.5755814 , 0.58284884, 0.57945736, 0.57848832, 0.58236429,\n",
       "        0.57170543, 0.5809109 , 0.58575586, 0.58575586, 0.59738377,\n",
       "        0.60949617, 0.60901163, 0.6187015 , 0.61531008, 0.61967054,\n",
       "        0.61531008, 0.61821701, 0.62257747, 0.63517437, 0.60513571,\n",
       "        0.61482553, 0.6061046 , 0.60513571, 0.60271313, 0.54021318,\n",
       "        0.55329457, 0.56782946, 0.57267442, 0.57897287, 0.57606589,\n",
       "        0.57073643, 0.58381783, 0.57218992, 0.56831395, 0.56540698,\n",
       "        0.5377907 , 0.53972868, 0.55474806, 0.54748062, 0.53391473,\n",
       "        0.5377907 , 0.54796512, 0.54651163, 0.54069767, 0.55474806,\n",
       "        0.52810078, 0.52567829, 0.53100775, 0.53197674, 0.53343023,\n",
       "        0.53827519, 0.55959302, 0.55959302, 0.55959302, 0.57122093,\n",
       "        0.57655039, 0.57655039, 0.5809109 , 0.59544574, 0.60949617,\n",
       "        0.6056202 , 0.60755814, 0.62160858, 0.61627907, 0.61434104,\n",
       "        0.62209307, 0.63565891, 0.6371124 , 0.66472868, 0.68556202]),\n",
       " array([0.52664729, 0.52422481, 0.52810078, 0.53536822, 0.56443798,\n",
       "        0.55232558, 0.56153101, 0.56492248, 0.55717054, 0.54118217,\n",
       "        0.54748062, 0.53246124, 0.55232558, 0.56686047, 0.56589147,\n",
       "        0.55523256, 0.55281008, 0.57800383, 0.57994186, 0.5755814 ,\n",
       "        0.58284884, 0.57945736, 0.57848832, 0.58236429, 0.57170543,\n",
       "        0.5809109 , 0.58575586, 0.58575586, 0.59738377, 0.60949617,\n",
       "        0.60901163, 0.6187015 , 0.61531008, 0.61967054, 0.61531008,\n",
       "        0.61821701, 0.62257747, 0.63517437, 0.60513571, 0.61482553,\n",
       "        0.6061046 , 0.60513571, 0.60271313, 0.54021318, 0.55329457,\n",
       "        0.56782946, 0.57267442, 0.57897287, 0.57606589, 0.57073643,\n",
       "        0.58381783, 0.57218992, 0.56831395, 0.56540698, 0.5377907 ,\n",
       "        0.53972868, 0.55474806, 0.54748062, 0.53391473, 0.5377907 ,\n",
       "        0.54796512, 0.54651163, 0.54069767, 0.55474806, 0.52810078,\n",
       "        0.52567829, 0.53100775, 0.53197674, 0.53343023, 0.53827519,\n",
       "        0.55959302, 0.55959302, 0.55959302, 0.57122093, 0.57655039,\n",
       "        0.57655039, 0.5809109 , 0.59544574, 0.60949617, 0.6056202 ,\n",
       "        0.60755814, 0.62160858, 0.61627907, 0.61434104, 0.62209307,\n",
       "        0.63565891, 0.6371124 , 0.66472868, 0.68556202, 0.68362398]),\n",
       " array([0.52422481, 0.52810078, 0.53536822, 0.56443798, 0.55232558,\n",
       "        0.56153101, 0.56492248, 0.55717054, 0.54118217, 0.54748062,\n",
       "        0.53246124, 0.55232558, 0.56686047, 0.56589147, 0.55523256,\n",
       "        0.55281008, 0.57800383, 0.57994186, 0.5755814 , 0.58284884,\n",
       "        0.57945736, 0.57848832, 0.58236429, 0.57170543, 0.5809109 ,\n",
       "        0.58575586, 0.58575586, 0.59738377, 0.60949617, 0.60901163,\n",
       "        0.6187015 , 0.61531008, 0.61967054, 0.61531008, 0.61821701,\n",
       "        0.62257747, 0.63517437, 0.60513571, 0.61482553, 0.6061046 ,\n",
       "        0.60513571, 0.60271313, 0.54021318, 0.55329457, 0.56782946,\n",
       "        0.57267442, 0.57897287, 0.57606589, 0.57073643, 0.58381783,\n",
       "        0.57218992, 0.56831395, 0.56540698, 0.5377907 , 0.53972868,\n",
       "        0.55474806, 0.54748062, 0.53391473, 0.5377907 , 0.54796512,\n",
       "        0.54651163, 0.54069767, 0.55474806, 0.52810078, 0.52567829,\n",
       "        0.53100775, 0.53197674, 0.53343023, 0.53827519, 0.55959302,\n",
       "        0.55959302, 0.55959302, 0.57122093, 0.57655039, 0.57655039,\n",
       "        0.5809109 , 0.59544574, 0.60949617, 0.6056202 , 0.60755814,\n",
       "        0.62160858, 0.61627907, 0.61434104, 0.62209307, 0.63565891,\n",
       "        0.6371124 , 0.66472868, 0.68556202, 0.68362398, 0.68120155]),\n",
       " array([0.52810078, 0.53536822, 0.56443798, 0.55232558, 0.56153101,\n",
       "        0.56492248, 0.55717054, 0.54118217, 0.54748062, 0.53246124,\n",
       "        0.55232558, 0.56686047, 0.56589147, 0.55523256, 0.55281008,\n",
       "        0.57800383, 0.57994186, 0.5755814 , 0.58284884, 0.57945736,\n",
       "        0.57848832, 0.58236429, 0.57170543, 0.5809109 , 0.58575586,\n",
       "        0.58575586, 0.59738377, 0.60949617, 0.60901163, 0.6187015 ,\n",
       "        0.61531008, 0.61967054, 0.61531008, 0.61821701, 0.62257747,\n",
       "        0.63517437, 0.60513571, 0.61482553, 0.6061046 , 0.60513571,\n",
       "        0.60271313, 0.54021318, 0.55329457, 0.56782946, 0.57267442,\n",
       "        0.57897287, 0.57606589, 0.57073643, 0.58381783, 0.57218992,\n",
       "        0.56831395, 0.56540698, 0.5377907 , 0.53972868, 0.55474806,\n",
       "        0.54748062, 0.53391473, 0.5377907 , 0.54796512, 0.54651163,\n",
       "        0.54069767, 0.55474806, 0.52810078, 0.52567829, 0.53100775,\n",
       "        0.53197674, 0.53343023, 0.53827519, 0.55959302, 0.55959302,\n",
       "        0.55959302, 0.57122093, 0.57655039, 0.57655039, 0.5809109 ,\n",
       "        0.59544574, 0.60949617, 0.6056202 , 0.60755814, 0.62160858,\n",
       "        0.61627907, 0.61434104, 0.62209307, 0.63565891, 0.6371124 ,\n",
       "        0.66472868, 0.68556202, 0.68362398, 0.68120155, 0.6879845 ]),\n",
       " array([0.53536822, 0.56443798, 0.55232558, 0.56153101, 0.56492248,\n",
       "        0.55717054, 0.54118217, 0.54748062, 0.53246124, 0.55232558,\n",
       "        0.56686047, 0.56589147, 0.55523256, 0.55281008, 0.57800383,\n",
       "        0.57994186, 0.5755814 , 0.58284884, 0.57945736, 0.57848832,\n",
       "        0.58236429, 0.57170543, 0.5809109 , 0.58575586, 0.58575586,\n",
       "        0.59738377, 0.60949617, 0.60901163, 0.6187015 , 0.61531008,\n",
       "        0.61967054, 0.61531008, 0.61821701, 0.62257747, 0.63517437,\n",
       "        0.60513571, 0.61482553, 0.6061046 , 0.60513571, 0.60271313,\n",
       "        0.54021318, 0.55329457, 0.56782946, 0.57267442, 0.57897287,\n",
       "        0.57606589, 0.57073643, 0.58381783, 0.57218992, 0.56831395,\n",
       "        0.56540698, 0.5377907 , 0.53972868, 0.55474806, 0.54748062,\n",
       "        0.53391473, 0.5377907 , 0.54796512, 0.54651163, 0.54069767,\n",
       "        0.55474806, 0.52810078, 0.52567829, 0.53100775, 0.53197674,\n",
       "        0.53343023, 0.53827519, 0.55959302, 0.55959302, 0.55959302,\n",
       "        0.57122093, 0.57655039, 0.57655039, 0.5809109 , 0.59544574,\n",
       "        0.60949617, 0.6056202 , 0.60755814, 0.62160858, 0.61627907,\n",
       "        0.61434104, 0.62209307, 0.63565891, 0.6371124 , 0.66472868,\n",
       "        0.68556202, 0.68362398, 0.68120155, 0.6879845 , 0.68895349]),\n",
       " array([0.56443798, 0.55232558, 0.56153101, 0.56492248, 0.55717054,\n",
       "        0.54118217, 0.54748062, 0.53246124, 0.55232558, 0.56686047,\n",
       "        0.56589147, 0.55523256, 0.55281008, 0.57800383, 0.57994186,\n",
       "        0.5755814 , 0.58284884, 0.57945736, 0.57848832, 0.58236429,\n",
       "        0.57170543, 0.5809109 , 0.58575586, 0.58575586, 0.59738377,\n",
       "        0.60949617, 0.60901163, 0.6187015 , 0.61531008, 0.61967054,\n",
       "        0.61531008, 0.61821701, 0.62257747, 0.63517437, 0.60513571,\n",
       "        0.61482553, 0.6061046 , 0.60513571, 0.60271313, 0.54021318,\n",
       "        0.55329457, 0.56782946, 0.57267442, 0.57897287, 0.57606589,\n",
       "        0.57073643, 0.58381783, 0.57218992, 0.56831395, 0.56540698,\n",
       "        0.5377907 , 0.53972868, 0.55474806, 0.54748062, 0.53391473,\n",
       "        0.5377907 , 0.54796512, 0.54651163, 0.54069767, 0.55474806,\n",
       "        0.52810078, 0.52567829, 0.53100775, 0.53197674, 0.53343023,\n",
       "        0.53827519, 0.55959302, 0.55959302, 0.55959302, 0.57122093,\n",
       "        0.57655039, 0.57655039, 0.5809109 , 0.59544574, 0.60949617,\n",
       "        0.6056202 , 0.60755814, 0.62160858, 0.61627907, 0.61434104,\n",
       "        0.62209307, 0.63565891, 0.6371124 , 0.66472868, 0.68556202,\n",
       "        0.68362398, 0.68120155, 0.6879845 , 0.68895349, 0.73352713]),\n",
       " array([0.55232558, 0.56153101, 0.56492248, 0.55717054, 0.54118217,\n",
       "        0.54748062, 0.53246124, 0.55232558, 0.56686047, 0.56589147,\n",
       "        0.55523256, 0.55281008, 0.57800383, 0.57994186, 0.5755814 ,\n",
       "        0.58284884, 0.57945736, 0.57848832, 0.58236429, 0.57170543,\n",
       "        0.5809109 , 0.58575586, 0.58575586, 0.59738377, 0.60949617,\n",
       "        0.60901163, 0.6187015 , 0.61531008, 0.61967054, 0.61531008,\n",
       "        0.61821701, 0.62257747, 0.63517437, 0.60513571, 0.61482553,\n",
       "        0.6061046 , 0.60513571, 0.60271313, 0.54021318, 0.55329457,\n",
       "        0.56782946, 0.57267442, 0.57897287, 0.57606589, 0.57073643,\n",
       "        0.58381783, 0.57218992, 0.56831395, 0.56540698, 0.5377907 ,\n",
       "        0.53972868, 0.55474806, 0.54748062, 0.53391473, 0.5377907 ,\n",
       "        0.54796512, 0.54651163, 0.54069767, 0.55474806, 0.52810078,\n",
       "        0.52567829, 0.53100775, 0.53197674, 0.53343023, 0.53827519,\n",
       "        0.55959302, 0.55959302, 0.55959302, 0.57122093, 0.57655039,\n",
       "        0.57655039, 0.5809109 , 0.59544574, 0.60949617, 0.6056202 ,\n",
       "        0.60755814, 0.62160858, 0.61627907, 0.61434104, 0.62209307,\n",
       "        0.63565891, 0.6371124 , 0.66472868, 0.68556202, 0.68362398,\n",
       "        0.68120155, 0.6879845 , 0.68895349, 0.73352713, 0.74709307]),\n",
       " array([0.56153101, 0.56492248, 0.55717054, 0.54118217, 0.54748062,\n",
       "        0.53246124, 0.55232558, 0.56686047, 0.56589147, 0.55523256,\n",
       "        0.55281008, 0.57800383, 0.57994186, 0.5755814 , 0.58284884,\n",
       "        0.57945736, 0.57848832, 0.58236429, 0.57170543, 0.5809109 ,\n",
       "        0.58575586, 0.58575586, 0.59738377, 0.60949617, 0.60901163,\n",
       "        0.6187015 , 0.61531008, 0.61967054, 0.61531008, 0.61821701,\n",
       "        0.62257747, 0.63517437, 0.60513571, 0.61482553, 0.6061046 ,\n",
       "        0.60513571, 0.60271313, 0.54021318, 0.55329457, 0.56782946,\n",
       "        0.57267442, 0.57897287, 0.57606589, 0.57073643, 0.58381783,\n",
       "        0.57218992, 0.56831395, 0.56540698, 0.5377907 , 0.53972868,\n",
       "        0.55474806, 0.54748062, 0.53391473, 0.5377907 , 0.54796512,\n",
       "        0.54651163, 0.54069767, 0.55474806, 0.52810078, 0.52567829,\n",
       "        0.53100775, 0.53197674, 0.53343023, 0.53827519, 0.55959302,\n",
       "        0.55959302, 0.55959302, 0.57122093, 0.57655039, 0.57655039,\n",
       "        0.5809109 , 0.59544574, 0.60949617, 0.6056202 , 0.60755814,\n",
       "        0.62160858, 0.61627907, 0.61434104, 0.62209307, 0.63565891,\n",
       "        0.6371124 , 0.66472868, 0.68556202, 0.68362398, 0.68120155,\n",
       "        0.6879845 , 0.68895349, 0.73352713, 0.74709307, 0.7495155 ]),\n",
       " array([0.56492248, 0.55717054, 0.54118217, 0.54748062, 0.53246124,\n",
       "        0.55232558, 0.56686047, 0.56589147, 0.55523256, 0.55281008,\n",
       "        0.57800383, 0.57994186, 0.5755814 , 0.58284884, 0.57945736,\n",
       "        0.57848832, 0.58236429, 0.57170543, 0.5809109 , 0.58575586,\n",
       "        0.58575586, 0.59738377, 0.60949617, 0.60901163, 0.6187015 ,\n",
       "        0.61531008, 0.61967054, 0.61531008, 0.61821701, 0.62257747,\n",
       "        0.63517437, 0.60513571, 0.61482553, 0.6061046 , 0.60513571,\n",
       "        0.60271313, 0.54021318, 0.55329457, 0.56782946, 0.57267442,\n",
       "        0.57897287, 0.57606589, 0.57073643, 0.58381783, 0.57218992,\n",
       "        0.56831395, 0.56540698, 0.5377907 , 0.53972868, 0.55474806,\n",
       "        0.54748062, 0.53391473, 0.5377907 , 0.54796512, 0.54651163,\n",
       "        0.54069767, 0.55474806, 0.52810078, 0.52567829, 0.53100775,\n",
       "        0.53197674, 0.53343023, 0.53827519, 0.55959302, 0.55959302,\n",
       "        0.55959302, 0.57122093, 0.57655039, 0.57655039, 0.5809109 ,\n",
       "        0.59544574, 0.60949617, 0.6056202 , 0.60755814, 0.62160858,\n",
       "        0.61627907, 0.61434104, 0.62209307, 0.63565891, 0.6371124 ,\n",
       "        0.66472868, 0.68556202, 0.68362398, 0.68120155, 0.6879845 ,\n",
       "        0.68895349, 0.73352713, 0.74709307, 0.7495155 , 0.75436047])]"
      ]
     },
     "execution_count": 31,
     "metadata": {},
     "output_type": "execute_result"
    }
   ],
   "source": [
    "X_teste"
   ]
  },
  {
   "cell_type": "code",
   "execution_count": 32,
   "id": "dea955c4-3ca8-4a86-ad16-d33d03e5e378",
   "metadata": {},
   "outputs": [],
   "source": [
    "X_teste = np.array(X_teste)\n",
    "X_teste = np.reshape(X_teste,(X_teste.shape[0],X_teste.shape[1],1))"
   ]
  },
  {
   "cell_type": "code",
   "execution_count": 33,
   "id": "e3e5ee93-13b0-4f30-acf9-a7b4132b40e1",
   "metadata": {},
   "outputs": [
    {
     "data": {
      "text/plain": [
       "(22, 90, 1)"
      ]
     },
     "execution_count": 33,
     "metadata": {},
     "output_type": "execute_result"
    }
   ],
   "source": [
    "X_teste.shape"
   ]
  },
  {
   "cell_type": "code",
   "execution_count": 34,
   "id": "53311a39-ee7c-413c-8faf-7bf69eb29972",
   "metadata": {},
   "outputs": [
    {
     "name": "stdout",
     "output_type": "stream",
     "text": [
      "\u001b[1m1/1\u001b[0m \u001b[32m━━━━━━━━━━━━━━━━━━━━\u001b[0m\u001b[37m\u001b[0m \u001b[1m1s\u001b[0m 604ms/step\n"
     ]
    }
   ],
   "source": [
    "previsoes = regressor.predict(X_teste)"
   ]
  },
  {
   "cell_type": "code",
   "execution_count": 35,
   "id": "da5ae82a-cda0-475a-bcd6-b7005a326a79",
   "metadata": {},
   "outputs": [
    {
     "data": {
      "text/plain": [
       "array([[0.5705024 ],\n",
       "       [0.57416606],\n",
       "       [0.5781421 ],\n",
       "       [0.5842427 ],\n",
       "       [0.59092385],\n",
       "       [0.59652597],\n",
       "       [0.6018688 ],\n",
       "       [0.60604227],\n",
       "       [0.6081744 ],\n",
       "       [0.60935646],\n",
       "       [0.6119578 ],\n",
       "       [0.6161617 ],\n",
       "       [0.6242561 ],\n",
       "       [0.6373332 ],\n",
       "       [0.6518716 ],\n",
       "       [0.66356456],\n",
       "       [0.67116404],\n",
       "       [0.6749017 ],\n",
       "       [0.68134606],\n",
       "       [0.69284403],\n",
       "       [0.70671046],\n",
       "       [0.7195333 ]], dtype=float32)"
      ]
     },
     "execution_count": 35,
     "metadata": {},
     "output_type": "execute_result"
    }
   ],
   "source": [
    "previsoes"
   ]
  },
  {
   "cell_type": "code",
   "execution_count": 36,
   "id": "e66d5b28-c83e-478c-a9a4-57faee0d90d5",
   "metadata": {},
   "outputs": [],
   "source": [
    "previsores = normalizador.inverse_transform(previsoes)"
   ]
  },
  {
   "cell_type": "code",
   "execution_count": 37,
   "id": "1f241a84-95ca-4c29-bd77-e39b4dbbd1f2",
   "metadata": {},
   "outputs": [
    {
     "data": {
      "text/plain": [
       "array([[15.975169],\n",
       "       [16.050787],\n",
       "       [16.132853],\n",
       "       [16.258768],\n",
       "       [16.396667],\n",
       "       [16.512295],\n",
       "       [16.622572],\n",
       "       [16.708712],\n",
       "       [16.752718],\n",
       "       [16.777117],\n",
       "       [16.830809],\n",
       "       [16.917578],\n",
       "       [17.084644],\n",
       "       [17.354557],\n",
       "       [17.65463 ],\n",
       "       [17.895971],\n",
       "       [18.052826],\n",
       "       [18.12997 ],\n",
       "       [18.262981],\n",
       "       [18.5003  ],\n",
       "       [18.786503],\n",
       "       [19.051167]], dtype=float32)"
      ]
     },
     "execution_count": 37,
     "metadata": {},
     "output_type": "execute_result"
    }
   ],
   "source": [
    "previsores"
   ]
  },
  {
   "cell_type": "code",
   "execution_count": 38,
   "id": "8a25b7b1-0f8f-428a-b8e8-ba3567b7832b",
   "metadata": {},
   "outputs": [
    {
     "data": {
      "text/plain": [
       "array([[16.190001],\n",
       "       [16.49    ],\n",
       "       [16.780001],\n",
       "       [16.700001],\n",
       "       [16.74    ],\n",
       "       [17.030001],\n",
       "       [16.92    ],\n",
       "       [16.879999],\n",
       "       [17.040001],\n",
       "       [17.32    ],\n",
       "       [17.35    ],\n",
       "       [17.92    ],\n",
       "       [18.35    ],\n",
       "       [18.309999],\n",
       "       [18.26    ],\n",
       "       [18.4     ],\n",
       "       [18.42    ],\n",
       "       [19.34    ],\n",
       "       [19.620001],\n",
       "       [19.67    ],\n",
       "       [19.77    ],\n",
       "       [19.74    ]])"
      ]
     },
     "execution_count": 38,
     "metadata": {},
     "output_type": "execute_result"
    }
   ],
   "source": [
    "y_teste"
   ]
  },
  {
   "cell_type": "code",
   "execution_count": 39,
   "id": "10e175cd-9aef-44fb-b756-87f2849e02dd",
   "metadata": {},
   "outputs": [
    {
     "data": {
      "text/plain": [
       "17.214073"
      ]
     },
     "execution_count": 39,
     "metadata": {},
     "output_type": "execute_result"
    }
   ],
   "source": [
    "previsores.mean()"
   ]
  },
  {
   "cell_type": "code",
   "execution_count": 40,
   "id": "fc7bf421-d853-4c78-bcdf-6bf7e469fff0",
   "metadata": {},
   "outputs": [
    {
     "data": {
      "text/plain": [
       "17.87454563636364"
      ]
     },
     "execution_count": 40,
     "metadata": {},
     "output_type": "execute_result"
    }
   ],
   "source": [
    "y_teste.mean()"
   ]
  },
  {
   "cell_type": "code",
   "execution_count": 41,
   "id": "ed428442-aca8-403a-8c4e-7bfb733c77b7",
   "metadata": {},
   "outputs": [
    {
     "data": {
      "text/plain": [
       "0.6604731921414463"
      ]
     },
     "execution_count": 41,
     "metadata": {},
     "output_type": "execute_result"
    }
   ],
   "source": [
    "from sklearn.metrics import mean_absolute_error\n",
    "mean_absolute_error(y_teste,previsores)"
   ]
  },
  {
   "cell_type": "code",
   "execution_count": 42,
   "id": "6e246ced-862f-4294-8231-319cd159b33f",
   "metadata": {},
   "outputs": [
    {
     "data": {
      "text/plain": [
       "<matplotlib.legend.Legend at 0x757a286514f0>"
      ]
     },
     "execution_count": 42,
     "metadata": {},
     "output_type": "execute_result"
    },
    {
     "data": {
      "image/png": "[encoded data removed]",
      "text/plain": [
       "<Figure size 640x480 with 1 Axes>"
      ]
     },
     "metadata": {},
     "output_type": "display_data"
    }
   ],
   "source": [
    "plt.plot(y_teste,color=\"red\",label=\"Preço real\")\n",
    "plt.plot(previsores,color=\"blue\",label=\"Previsores\")\n",
    "plt.title(\"Previsão do preço das ações\")\n",
    "plt.xlabel(\"Tempo\")\n",
    "plt.ylabel(\"Valor\")\n",
    "plt.legend()"
   ]
  }
 ],
 "metadata": {
  "kernelspec": {
   "display_name": "Python 3 (ipykernel)",
   "language": "python",
   "name": "python3"
  },
  "language_info": {
   "codemirror_mode": {
    "name": "ipython",
    "version": 3
   },
   "file_extension": ".py",
   "mimetype": "text/x-python",
   "name": "python",
   "nbconvert_exporter": "python",
   "pygments_lexer": "ipython3",
   "version": "3.12.2"
  }
 },
 "nbformat": 4,
 "nbformat_minor": 5
}
