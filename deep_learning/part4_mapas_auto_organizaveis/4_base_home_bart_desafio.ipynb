{
 "cells": [
  {
   "cell_type": "markdown",
   "id": "ccb6e90a-ae5d-4b14-99d0-3c668cd779da",
   "metadata": {},
   "source": [
    "# Mapa autoorganizável - Base Bart e Homer "
   ]
  },
  {
   "cell_type": "markdown",
   "id": "2ad8eeeb-bbbb-4fb2-8d17-95cdb23165bd",
   "metadata": {},
   "source": [
    "## Importando bibliotecas"
   ]
  },
  {
   "cell_type": "code",
   "execution_count": 17,
   "id": "75e6f543-c182-41c9-8ecb-99c4a02b9eba",
   "metadata": {
    "scrolled": true
   },
   "outputs": [],
   "source": [
    "!pip install -q minisom"
   ]
  },
  {
   "cell_type": "code",
   "execution_count": 18,
   "id": "4e184b0e-32a4-4805-a47f-4e7e499ca278",
   "metadata": {},
   "outputs": [],
   "source": [
    "# Importacao desta lib para desativar erro no TensorFlow\n",
    "import os\n",
    "os.environ[\"CUDA_VISIBLE_DEVICES\"] = \"-1\""
   ]
  },
  {
   "cell_type": "code",
   "execution_count": 19,
   "id": "b5674851-e883-4e2b-8a46-191012c19f40",
   "metadata": {},
   "outputs": [],
   "source": [
    "from minisom import MiniSom\n",
    "import pandas as pd\n",
    "import numpy as np"
   ]
  },
  {
   "cell_type": "markdown",
   "id": "76a5613a-a694-4474-a8b8-53dae35bfe6d",
   "metadata": {},
   "source": [
    "## Carregamento base de dados"
   ]
  },
  {
   "cell_type": "code",
   "execution_count": 20,
   "id": "28915597-5621-4398-b72a-da587e0b5b6a",
   "metadata": {},
   "outputs": [
    {
     "data": {
      "text/html": [
       "<div>\n",
       "<style scoped>\n",
       "    .dataframe tbody tr th:only-of-type {\n",
       "        vertical-align: middle;\n",
       "    }\n",
       "\n",
       "    .dataframe tbody tr th {\n",
       "        vertical-align: top;\n",
       "    }\n",
       "\n",
       "    .dataframe thead th {\n",
       "        text-align: right;\n",
       "    }\n",
       "</style>\n",
       "<table border=\"1\" class=\"dataframe\">\n",
       "  <thead>\n",
       "    <tr style=\"text-align: right;\">\n",
       "      <th></th>\n",
       "      <th>laranja_camisa_bart</th>\n",
       "      <th>azul_calcao_bart</th>\n",
       "      <th>azul_sapato_bart</th>\n",
       "      <th>marrom_boca_homer</th>\n",
       "      <th>azul_calca_homer</th>\n",
       "      <th>cinza_sapato_homer</th>\n",
       "      <th>classe</th>\n",
       "    </tr>\n",
       "  </thead>\n",
       "  <tbody>\n",
       "    <tr>\n",
       "      <th>0</th>\n",
       "      <td>6.886102</td>\n",
       "      <td>3.495204</td>\n",
       "      <td>1.484984</td>\n",
       "      <td>0.000000</td>\n",
       "      <td>0.000000</td>\n",
       "      <td>0.062954</td>\n",
       "      <td>Bart</td>\n",
       "    </tr>\n",
       "    <tr>\n",
       "      <th>1</th>\n",
       "      <td>5.004901</td>\n",
       "      <td>3.183889</td>\n",
       "      <td>1.000142</td>\n",
       "      <td>0.000000</td>\n",
       "      <td>0.000000</td>\n",
       "      <td>0.033024</td>\n",
       "      <td>Bart</td>\n",
       "    </tr>\n",
       "    <tr>\n",
       "      <th>2</th>\n",
       "      <td>5.264620</td>\n",
       "      <td>5.029683</td>\n",
       "      <td>0.283567</td>\n",
       "      <td>0.000000</td>\n",
       "      <td>0.000000</td>\n",
       "      <td>0.151573</td>\n",
       "      <td>Bart</td>\n",
       "    </tr>\n",
       "    <tr>\n",
       "      <th>3</th>\n",
       "      <td>0.000000</td>\n",
       "      <td>0.000000</td>\n",
       "      <td>0.000000</td>\n",
       "      <td>0.480168</td>\n",
       "      <td>0.000000</td>\n",
       "      <td>0.021164</td>\n",
       "      <td>Bart</td>\n",
       "    </tr>\n",
       "    <tr>\n",
       "      <th>4</th>\n",
       "      <td>8.978929</td>\n",
       "      <td>3.459119</td>\n",
       "      <td>0.000000</td>\n",
       "      <td>0.000000</td>\n",
       "      <td>0.000000</td>\n",
       "      <td>0.011593</td>\n",
       "      <td>Bart</td>\n",
       "    </tr>\n",
       "    <tr>\n",
       "      <th>...</th>\n",
       "      <td>...</td>\n",
       "      <td>...</td>\n",
       "      <td>...</td>\n",
       "      <td>...</td>\n",
       "      <td>...</td>\n",
       "      <td>...</td>\n",
       "      <td>...</td>\n",
       "    </tr>\n",
       "    <tr>\n",
       "      <th>288</th>\n",
       "      <td>0.000000</td>\n",
       "      <td>0.000000</td>\n",
       "      <td>0.000000</td>\n",
       "      <td>0.000000</td>\n",
       "      <td>6.485412</td>\n",
       "      <td>0.093921</td>\n",
       "      <td>Homer</td>\n",
       "    </tr>\n",
       "    <tr>\n",
       "      <th>289</th>\n",
       "      <td>0.000000</td>\n",
       "      <td>0.000000</td>\n",
       "      <td>0.000000</td>\n",
       "      <td>0.000000</td>\n",
       "      <td>0.000000</td>\n",
       "      <td>0.042194</td>\n",
       "      <td>Homer</td>\n",
       "    </tr>\n",
       "    <tr>\n",
       "      <th>290</th>\n",
       "      <td>0.000000</td>\n",
       "      <td>0.000000</td>\n",
       "      <td>0.000000</td>\n",
       "      <td>0.000000</td>\n",
       "      <td>4.263629</td>\n",
       "      <td>0.076761</td>\n",
       "      <td>Homer</td>\n",
       "    </tr>\n",
       "    <tr>\n",
       "      <th>291</th>\n",
       "      <td>0.000000</td>\n",
       "      <td>0.000000</td>\n",
       "      <td>0.000000</td>\n",
       "      <td>0.000000</td>\n",
       "      <td>1.429134</td>\n",
       "      <td>0.017013</td>\n",
       "      <td>Homer</td>\n",
       "    </tr>\n",
       "    <tr>\n",
       "      <th>292</th>\n",
       "      <td>0.000000</td>\n",
       "      <td>0.000000</td>\n",
       "      <td>0.000000</td>\n",
       "      <td>13.744248</td>\n",
       "      <td>0.853902</td>\n",
       "      <td>0.063546</td>\n",
       "      <td>Homer</td>\n",
       "    </tr>\n",
       "  </tbody>\n",
       "</table>\n",
       "<p>293 rows × 7 columns</p>\n",
       "</div>"
      ],
      "text/plain": [
       "     laranja_camisa_bart  azul_calcao_bart  azul_sapato_bart  \\\n",
       "0               6.886102          3.495204          1.484984   \n",
       "1               5.004901          3.183889          1.000142   \n",
       "2               5.264620          5.029683          0.283567   \n",
       "3               0.000000          0.000000          0.000000   \n",
       "4               8.978929          3.459119          0.000000   \n",
       "..                   ...               ...               ...   \n",
       "288             0.000000          0.000000          0.000000   \n",
       "289             0.000000          0.000000          0.000000   \n",
       "290             0.000000          0.000000          0.000000   \n",
       "291             0.000000          0.000000          0.000000   \n",
       "292             0.000000          0.000000          0.000000   \n",
       "\n",
       "     marrom_boca_homer  azul_calca_homer  cinza_sapato_homer classe  \n",
       "0             0.000000          0.000000            0.062954   Bart  \n",
       "1             0.000000          0.000000            0.033024   Bart  \n",
       "2             0.000000          0.000000            0.151573   Bart  \n",
       "3             0.480168          0.000000            0.021164   Bart  \n",
       "4             0.000000          0.000000            0.011593   Bart  \n",
       "..                 ...               ...                 ...    ...  \n",
       "288           0.000000          6.485412            0.093921  Homer  \n",
       "289           0.000000          0.000000            0.042194  Homer  \n",
       "290           0.000000          4.263629            0.076761  Homer  \n",
       "291           0.000000          1.429134            0.017013  Homer  \n",
       "292          13.744248          0.853902            0.063546  Homer  \n",
       "\n",
       "[293 rows x 7 columns]"
      ]
     },
     "execution_count": 20,
     "metadata": {},
     "output_type": "execute_result"
    }
   ],
   "source": [
    "base = pd.read_csv('personagens.csv')\n",
    "base"
   ]
  },
  {
   "cell_type": "code",
   "execution_count": 21,
   "id": "aae312f5-ada8-4af3-80ac-2b4c83586e27",
   "metadata": {
    "scrolled": true
   },
   "outputs": [],
   "source": [
    "X = base.iloc[:, 0:6].values\n",
    "y = base.iloc[:,6].values"
   ]
  },
  {
   "cell_type": "markdown",
   "id": "2d10896a-fdf6-47a6-86e3-d690ea29614b",
   "metadata": {},
   "source": [
    "## Normalização dos dados - escalonamento"
   ]
  },
  {
   "cell_type": "code",
   "execution_count": 22,
   "id": "98e237a4-5905-4d6f-bec6-4ed4c2a13e2c",
   "metadata": {},
   "outputs": [],
   "source": [
    "from sklearn.preprocessing import MinMaxScaler\n",
    "normalizador = MinMaxScaler(feature_range = (0,1))\n",
    "X = normalizador.fit_transform(X)"
   ]
  },
  {
   "cell_type": "markdown",
   "id": "a35e7622-6f7d-4591-ac84-b48a3528b637",
   "metadata": {},
   "source": [
    "## Criação do mapa auto organizável"
   ]
  },
  {
   "cell_type": "code",
   "execution_count": 23,
   "id": "45025593-dd3d-4f94-baf6-e695c990ba92",
   "metadata": {},
   "outputs": [],
   "source": [
    "# Aplicando a fórmula abordada no slide teórico, primeiro tiramos a raíz quadrada\n",
    "# da quantidade de registros (293), que é igual a 17,11\n",
    "# Multiplicamos 17,11 por 5 = 85,58\n",
    "# Vamos definir o mapa auto organizável com as dimensões 9 x 9\n",
    "# que equivale a 81 neurônios no total\n",
    "# O input_len possui o valor 6 porque temos 6 entradas\n",
    "som = MiniSom(x = 9, y = 9, input_len = 6, random_seed = 0,\n",
    "              learning_rate = 0.5, sigma = 1.0)\n",
    "som.random_weights_init(X)\n",
    "som.train_random(data = X, num_iteration = 500)"
   ]
  },
  {
   "cell_type": "markdown",
   "id": "956fb0c4-bcdb-4798-a147-378806dd0fbc",
   "metadata": {},
   "source": [
    "## Visualização dos resultados"
   ]
  },
  {
   "cell_type": "code",
   "execution_count": 24,
   "id": "4cc1ecae-2399-40c0-8d10-acf6d0c870f2",
   "metadata": {},
   "outputs": [],
   "source": [
    "# Transformação das classes em números para associarmos com os markers e colors abaixo\n",
    "y[y == 'Bart'] = 0\n",
    "y[y == 'Homer'] = 1\n"
   ]
  },
  {
   "cell_type": "code",
   "execution_count": 25,
   "id": "0dc4d715-c500-49c6-841b-bab259fcfd00",
   "metadata": {},
   "outputs": [
    {
     "data": {
      "image/png": "[encoded data removed]",
      "text/plain": [
       "<Figure size 640x480 with 2 Axes>"
      ]
     },
     "metadata": {},
     "output_type": "display_data"
    }
   ],
   "source": [
    "# O código abaixo gera o mapa auto organizável e imprime os símbolos de acordo\n",
    "# com os valores das classes\n",
    "from pylab import pcolor, colorbar, plot\n",
    "pcolor(som.distance_map().T)\n",
    "colorbar()\n",
    "markers = ['o', 's']\n",
    "colors = ['r', 'g']\n",
    "for i, x in enumerate(X):\n",
    "    w = som.winner(x)\n",
    "    plot(w[0] + 0.5, w[1] + 0.5, markers[y[i]],\n",
    "         markerfacecolor = 'None', markersize = 10,\n",
    "         markeredgecolor = colors[y[i]], markeredgewidth = 2)"
   ]
  },
  {
   "cell_type": "markdown",
   "id": "e55272a1-7dbe-40c5-86da-33bf52a49500",
   "metadata": {},
   "source": [
    "## Detecção de registros que podem ser outliers"
   ]
  },
  {
   "cell_type": "code",
   "execution_count": 26,
   "id": "96d7742b-c5b8-4351-a715-33520e0a9ae8",
   "metadata": {},
   "outputs": [],
   "source": [
    "# Visualizando o mapa acima, detectamos a coordenada (6,2) como a única com \n",
    "# possíveis outliers (cor amarela)\n",
    "mapeamento = som.win_map(X)\n",
    "suspeitos = mapeamento[(6,2)]\n",
    "suspeitos = normalizador.inverse_transform(suspeitos)"
   ]
  },
  {
   "cell_type": "code",
   "execution_count": 30,
   "id": "906aa877-e07c-48f3-8ea6-202195819508",
   "metadata": {},
   "outputs": [],
   "source": [
    "# Precisamos agora buscar os possíveis outliers e para isso é necessário\n",
    "# comparar cada uma das características da base original com a base de suspeitos\n",
    "# Caso tivéssemos um atributo identificador para cada registro bastaria comparar\n",
    "# o identificador\n",
    "# Comparação com uma tolerância para evitar problemas de arredondamento\n",
    "tolerancia = 1e-5  # Tolerância pequena\n",
    "\n",
    "classe = []\n",
    "for i in range(len(base)):\n",
    "    for j in range(len(suspeitos)):\n",
    "        if (abs(base.iloc[i, 0] - suspeitos[j, 0]) < tolerancia and\n",
    "            abs(base.iloc[i, 1] - suspeitos[j, 1]) < tolerancia and\n",
    "            abs(base.iloc[i, 2] - suspeitos[j, 2]) < tolerancia and\n",
    "            abs(base.iloc[i, 3] - suspeitos[j, 3]) < tolerancia and\n",
    "            abs(base.iloc[i, 4] - suspeitos[j, 4]) < tolerancia and\n",
    "            abs(base.iloc[i, 5] - suspeitos[j, 5]) < tolerancia):\n",
    "            classe.append(base.iloc[i, 6])\n",
    "classe = np.asarray(classe)"
   ]
  },
  {
   "cell_type": "code",
   "execution_count": 31,
   "id": "0df89814-ba53-4a2a-ae8e-b8ebef07b262",
   "metadata": {},
   "outputs": [],
   "source": [
    "# Caso o tamanho da variável suspeitos seja maior que o tamanho da variável\n",
    "# classe, verifique o arredondamento dos valores por causa da normalização\n",
    "\n",
    "# Criação da lista final de suspeitos\n",
    "# Podemos perceber que de fato todos esses registros saem fora do padrão, pois\n",
    "# são todas imagens do Homer que não apresentam as características do Homer\n",
    "suspeitos_final = np.column_stack((suspeitos, classe))\n",
    "suspeitos_final = suspeitos_final[suspeitos_final[:, 4].argsort()]"
   ]
  },
  {
   "cell_type": "code",
   "execution_count": 32,
   "id": "51df1128-d2aa-4800-95da-1c4452c1d938",
   "metadata": {},
   "outputs": [
    {
     "data": {
      "text/plain": [
       "array([[0.        , 0.        , 0.        , 2.3117392 , 1.3994405 ,\n",
       "        0.04052894, 1.        ],\n",
       "       [0.        , 0.        , 0.        , 3.5661027 , 1.448672  ,\n",
       "        0.00914854, 1.        ]])"
      ]
     },
     "execution_count": 32,
     "metadata": {},
     "output_type": "execute_result"
    }
   ],
   "source": [
    "suspeitos_final"
   ]
  },
  {
   "cell_type": "code",
   "execution_count": null,
   "id": "2e4f319d-436c-401d-832d-f7ba93ee5cdb",
   "metadata": {},
   "outputs": [],
   "source": []
  }
 ],
 "metadata": {
  "kernelspec": {
   "display_name": "Python 3 (ipykernel)",
   "language": "python",
   "name": "python3"
  },
  "language_info": {
   "codemirror_mode": {
    "name": "ipython",
    "version": 3
   },
   "file_extension": ".py",
   "mimetype": "text/x-python",
   "name": "python",
   "nbconvert_exporter": "python",
   "pygments_lexer": "ipython3",
   "version": "3.12.2"
  }
 },
 "nbformat": 4,
 "nbformat_minor": 5
}
