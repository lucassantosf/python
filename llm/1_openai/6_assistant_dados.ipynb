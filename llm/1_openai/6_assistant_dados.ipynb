{
 "cells": [
  {
   "cell_type": "code",
   "execution_count": 2,
   "metadata": {},
   "outputs": [],
   "source": [
    "from dotenv import load_dotenv\n",
    "import os\n",
    "import openai \n",
    "import pandas as pd \n",
    "\n",
    "# Carregar variáveis do arquivo .env\n",
    "load_dotenv()\n",
    "\n",
    "# Verificar se a chave foi carregada\n",
    "api_key = os.getenv(\"OPENAI_API_KEY\")\n",
    "if not api_key:\n",
    "    raise ValueError(\"OPENAI_API_KEY não encontrada no arquivo .env\")\n",
    "\n",
    "# Configurar o cliente OpenAI com a chave carregada\n",
    "openai.api_key = api_key"
   ]
  },
  {
   "cell_type": "code",
   "execution_count": 3,
   "metadata": {},
   "outputs": [],
   "source": [
    "client = openai.Client()"
   ]
  },
  {
   "cell_type": "code",
   "execution_count": 5,
   "metadata": {},
   "outputs": [],
   "source": [
    "file = client.files.create(\n",
    "    file=open(\"sales_data.csv\",\"rb\"),\n",
    "    purpose=\"assistants\"\n",
    ")"
   ]
  },
  {
   "cell_type": "code",
   "execution_count": 6,
   "metadata": {},
   "outputs": [
    {
     "name": "stdout",
     "output_type": "stream",
     "text": [
      "file-6uRC9wHJRm8vY9EAoJ5Jdc\n"
     ]
    }
   ],
   "source": [
    "print(file.id)"
   ]
  },
  {
   "cell_type": "code",
   "execution_count": 11,
   "metadata": {},
   "outputs": [],
   "source": [
    "assistant = client.beta.assistants.create(\n",
    "    name=\"Analista de dados\",\n",
    "    instructions=\"Voce é um analsita que analisa dados sobre vendas\",\n",
    "    tools=[{\"type\":\"code_interpreter\"}],\n",
    "    tool_resources={\"code_interpreter\":{\"file_ids\":[file.id]}},\n",
    "    model=\"gpt-4o\"\n",
    ")"
   ]
  },
  {
   "cell_type": "code",
   "execution_count": 20,
   "metadata": {},
   "outputs": [],
   "source": [
    "# pergunta = \"Qual o rating médio das vendas do supermercado\"\n",
    "pergunta = \"Gere um gráfico de pizza com o percentual de vendas por linha de produto\""
   ]
  },
  {
   "cell_type": "code",
   "execution_count": 21,
   "metadata": {},
   "outputs": [],
   "source": [
    "# Criação da Thread\n",
    "thread = client.beta.threads.create()\n",
    "message = client.beta.threads.messages.create(\n",
    "    thread_id=thread.id,\n",
    "    role=\"user\",\n",
    "    content=pergunta\n",
    ")"
   ]
  },
  {
   "cell_type": "code",
   "execution_count": 22,
   "metadata": {},
   "outputs": [],
   "source": [
    "# Executa a Thread\n",
    "run = client.beta.threads.runs.create(\n",
    "    thread_id=thread.id,\n",
    "    assistant_id=assistant.id,\n",
    "    instructions=\"Nome do usuário premium\"\n",
    ")"
   ]
  },
  {
   "cell_type": "code",
   "execution_count": 23,
   "metadata": {},
   "outputs": [],
   "source": [
    "# Aguarda a thread rodar\n",
    "import time \n",
    "while run.status in [\"queued\",\"in_progress\",\"cancelling\"]:\n",
    "    time.sleep(1)\n",
    "    run = client.beta.threads.runs.retrieve(\n",
    "        thread_id=thread.id,\n",
    "        run_id=run.id\n",
    "    )"
   ]
  },
  {
   "cell_type": "code",
   "execution_count": 24,
   "metadata": {},
   "outputs": [
    {
     "name": "stdout",
     "output_type": "stream",
     "text": [
      "SyncCursorPage[Message](data=[Message(id='msg_DhGTQOwBTjaIXhmUPuAEzaM0', assistant_id='asst_DgtnZka7CfxNqwT2zDKL7DwH', attachments=[], completed_at=None, content=[ImageFileContentBlock(image_file=ImageFile(file_id='file-UB3rKzh9QtSa5MMWFBtX2B', detail=None), type='image_file'), TextContentBlock(text=Text(annotations=[], value='Aqui está o gráfico de pizza que mostra o percentual de vendas por linha de produto. Cada segmento representa a proporção das vendas totais correspondentes a cada linha de produto. Se você precisar de mais alguma ajuda ou de outra visualização, é só avisar!'), type='text')], created_at=1737750392, incomplete_at=None, incomplete_details=None, metadata={}, object='thread.message', role='assistant', run_id='run_qNRYBdfEsA9wIoUw3MklDqvd', status=None, thread_id='thread_G7KV1hshR0Lg6xXYWHwUksmY'), Message(id='msg_MFbCaNyBTFeAxp7GEY06lf6U', assistant_id='asst_DgtnZka7CfxNqwT2zDKL7DwH', attachments=[], completed_at=None, content=[TextContentBlock(text=Text(annotations=[], value='O dataframe contém várias colunas, e podemos observar que a coluna relevante para nossa análise é a `\"Product line\"`, que representa as linhas de produtos das vendas, e a coluna `\"Total\"`, que indica o valor total das vendas. Vamos agora somar os valores das vendas por linha de produto e, em seguida, criar um gráfico de pizza para exibir o percentual de vendas por cada linha de produto.'), type='text')], created_at=1737750380, incomplete_at=None, incomplete_details=None, metadata={}, object='thread.message', role='assistant', run_id='run_qNRYBdfEsA9wIoUw3MklDqvd', status=None, thread_id='thread_G7KV1hshR0Lg6xXYWHwUksmY'), Message(id='msg_F17sWT9Oh9wYBerV9NXikpHg', assistant_id='asst_DgtnZka7CfxNqwT2zDKL7DwH', attachments=[], completed_at=None, content=[TextContentBlock(text=Text(annotations=[], value='Vamos começar carregando o arquivo enviado para verificar os dados que ele contém. Isso nos ajudará a identificar as colunas relevantes para gerar o gráfico de pizza com o percentual de vendas por linha de produto.'), type='text')], created_at=1737750374, incomplete_at=None, incomplete_details=None, metadata={}, object='thread.message', role='assistant', run_id='run_qNRYBdfEsA9wIoUw3MklDqvd', status=None, thread_id='thread_G7KV1hshR0Lg6xXYWHwUksmY'), Message(id='msg_7hjUj4bGzc3g32IhtO5jXFLZ', assistant_id=None, attachments=[], completed_at=None, content=[TextContentBlock(text=Text(annotations=[], value='Gere um gráfico de pizza com o percentual de vendas por linha de produto'), type='text')], created_at=1737750369, incomplete_at=None, incomplete_details=None, metadata={}, object='thread.message', role='user', run_id=None, status=None, thread_id='thread_G7KV1hshR0Lg6xXYWHwUksmY')], object='list', first_id='msg_DhGTQOwBTjaIXhmUPuAEzaM0', last_id='msg_7hjUj4bGzc3g32IhtO5jXFLZ', has_more=False)\n"
     ]
    }
   ],
   "source": [
    "# Verificar a resposta\n",
    "if run.status == \"completed\":\n",
    "    mensagens = client.beta.threads.messages.list(\n",
    "        thread_id=thread.id\n",
    "    )\n",
    "    print(mensagens)\n",
    "else:\n",
    "    print(f\"Erro {run.status}\")"
   ]
  },
  {
   "cell_type": "code",
   "execution_count": 32,
   "metadata": {},
   "outputs": [],
   "source": [
    "#mensagens.data[0].content[0].text.value"
   ]
  },
  {
   "cell_type": "code",
   "execution_count": 26,
   "metadata": {},
   "outputs": [],
   "source": [
    "# Analisando os passos do modelo\n",
    "\n",
    "run_steps = client.beta.threads.runs.steps.list(\n",
    "    thread_id=thread.id,\n",
    "    run_id=run.id\n",
    ")"
   ]
  },
  {
   "cell_type": "code",
   "execution_count": 31,
   "metadata": {},
   "outputs": [
    {
     "name": "stdout",
     "output_type": "stream",
     "text": [
      "\n",
      "====Step message_creation\n",
      "Vamos começar carregando o arquivo enviado para verificar os dados que ele contém. Isso nos ajudará a identificar as colunas relevantes para gerar o gráfico de pizza com o percentual de vendas por linha de produto.\n",
      "\n",
      "====Step tool_calls\n",
      "==========\n",
      "import pandas as pd\n",
      "\n",
      "# Carregar o arquivo para inspeção\n",
      "file_path = '/mnt/data/file-6uRC9wHJRm8vY9EAoJ5Jdc'\n",
      "data = pd.read_csv(file_path)\n",
      "\n",
      "# Exibir as primeiras linhas do dataframe para entender sua estrutura\n",
      "data.head()\n",
      "==========\n",
      "\n",
      "====Step message_creation\n",
      "O dataframe contém várias colunas, e podemos observar que a coluna relevante para nossa análise é a `\"Product line\"`, que representa as linhas de produtos das vendas, e a coluna `\"Total\"`, que indica o valor total das vendas. Vamos agora somar os valores das vendas por linha de produto e, em seguida, criar um gráfico de pizza para exibir o percentual de vendas por cada linha de produto.\n",
      "\n",
      "====Step tool_calls\n",
      "==========\n",
      "import matplotlib.pyplot as plt\n",
      "\n",
      "# Calcular a soma das vendas por linha de produto\n",
      "sales_by_product_line = data.groupby('Product line')['Total'].sum()\n",
      "\n",
      "# Calcular o percentual de vendas para cada linha de produto\n",
      "sales_percent = (sales_by_product_line / sales_by_product_line.sum()) * 100\n",
      "\n",
      "# Criar o gráfico de pizza\n",
      "plt.figure(figsize=(10, 8))\n",
      "plt.pie(sales_percent, labels=sales_by_product_line.index, autopct='%1.1f%%', startangle=140)\n",
      "plt.title('Percentual de Vendas por Linha de Produto')\n",
      "plt.axis('equal')  # Assegura que o gráfico de pizza seja desenhado como um círculo\n",
      "plt.show()\n",
      "==========\n",
      "\n",
      "====Step message_creation\n",
      "Imagem file-UB3rKzh9QtSa5MMWFBtX2B salva\n"
     ]
    }
   ],
   "source": [
    "for step in run_steps.data[::-1]:\n",
    "    print(f\"\\n====Step {step.step_details.type}\")\n",
    "    if step.step_details.type == \"tool_calls\":\n",
    "        for tool_call in step.step_details.tool_calls:\n",
    "            print(\"=\" *10)\n",
    "            print(tool_call.code_interpreter.input)\n",
    "            print(\"=\"*10)\n",
    "    if step.step_details.type == \"message_creation\":\n",
    "        message = client.beta.threads.messages.retrieve(\n",
    "            thread_id=thread.id,\n",
    "            message_id=step.step_details.message_creation.message_id\n",
    "        )\n",
    "        if message.content[0].type == \"text\":\n",
    "            print(message.content[0].text.value)\n",
    "        if message.content[0].type == \"image_file\":\n",
    "            file_id = message.content[0].image_file.file_id\n",
    "            image_data = client.files.content(file_id)\n",
    "            with open(f\"files/{file.id}.png\", \"wb\") as f:\n",
    "                f.write(image_data.read())\n",
    "                print(f\"Imagem {file_id} salva\")\n",
    "        \n",
    "        # print(message.content[0].text.value)"
   ]
  }
 ],
 "metadata": {
  "kernelspec": {
   "display_name": "Python 3",
   "language": "python",
   "name": "python3"
  },
  "language_info": {
   "codemirror_mode": {
    "name": "ipython",
    "version": 3
   },
   "file_extension": ".py",
   "mimetype": "text/x-python",
   "name": "python",
   "nbconvert_exporter": "python",
   "pygments_lexer": "ipython3",
   "version": "3.10.12"
  }
 },
 "nbformat": 4,
 "nbformat_minor": 2
}
