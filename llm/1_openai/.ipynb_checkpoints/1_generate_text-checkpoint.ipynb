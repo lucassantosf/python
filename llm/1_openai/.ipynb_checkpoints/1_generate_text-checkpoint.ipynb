{
 "cells": [
  {
   "cell_type": "code",
   "execution_count": 1,
   "metadata": {},
   "outputs": [
    {
     "name": "stdout",
     "output_type": "stream",
     "text": [
      "Requirement already satisfied: ipykernel in /home/lucas/anaconda3/lib/python3.12/site-packages (from -r requirements.txt (line 1)) (6.28.0)\n",
      "Collecting openai (from -r requirements.txt (line 2))\n",
      "  Using cached openai-1.59.9-py3-none-any.whl.metadata (27 kB)\n",
      "Requirement already satisfied: python-dotenv in /home/lucas/anaconda3/lib/python3.12/site-packages (from -r requirements.txt (line 3)) (0.21.0)\n",
      "Collecting yfinance (from -r requirements.txt (line 4))\n",
      "  Using cached yfinance-0.2.52-py2.py3-none-any.whl.metadata (5.8 kB)\n",
      "Requirement already satisfied: pandas in /home/lucas/anaconda3/lib/python3.12/site-packages (from -r requirements.txt (line 5)) (2.2.2)\n",
      "Requirement already satisfied: matplotlib in /home/lucas/anaconda3/lib/python3.12/site-packages (from -r requirements.txt (line 6)) (3.8.4)\n",
      "Requirement already satisfied: comm>=0.1.1 in /home/lucas/anaconda3/lib/python3.12/site-packages (from ipykernel->-r requirements.txt (line 1)) (0.2.1)\n",
      "Requirement already satisfied: debugpy>=1.6.5 in /home/lucas/anaconda3/lib/python3.12/site-packages (from ipykernel->-r requirements.txt (line 1)) (1.6.7)\n",
      "Requirement already satisfied: ipython>=7.23.1 in /home/lucas/anaconda3/lib/python3.12/site-packages (from ipykernel->-r requirements.txt (line 1)) (8.25.0)\n",
      "Requirement already satisfied: jupyter-client>=6.1.12 in /home/lucas/anaconda3/lib/python3.12/site-packages (from ipykernel->-r requirements.txt (line 1)) (8.6.0)\n",
      "Requirement already satisfied: jupyter-core!=5.0.*,>=4.12 in /home/lucas/anaconda3/lib/python3.12/site-packages (from ipykernel->-r requirements.txt (line 1)) (5.7.2)\n",
      "Requirement already satisfied: matplotlib-inline>=0.1 in /home/lucas/anaconda3/lib/python3.12/site-packages (from ipykernel->-r requirements.txt (line 1)) (0.1.6)\n",
      "Requirement already satisfied: nest-asyncio in /home/lucas/anaconda3/lib/python3.12/site-packages (from ipykernel->-r requirements.txt (line 1)) (1.6.0)\n",
      "Requirement already satisfied: packaging in /home/lucas/anaconda3/lib/python3.12/site-packages (from ipykernel->-r requirements.txt (line 1)) (23.2)\n",
      "Requirement already satisfied: psutil in /home/lucas/anaconda3/lib/python3.12/site-packages (from ipykernel->-r requirements.txt (line 1)) (5.9.0)\n",
      "Requirement already satisfied: pyzmq>=24 in /home/lucas/anaconda3/lib/python3.12/site-packages (from ipykernel->-r requirements.txt (line 1)) (25.1.2)\n",
      "Requirement already satisfied: tornado>=6.1 in /home/lucas/anaconda3/lib/python3.12/site-packages (from ipykernel->-r requirements.txt (line 1)) (6.4.1)\n",
      "Requirement already satisfied: traitlets>=5.4.0 in /home/lucas/anaconda3/lib/python3.12/site-packages (from ipykernel->-r requirements.txt (line 1)) (5.14.3)\n",
      "Requirement already satisfied: anyio<5,>=3.5.0 in /home/lucas/anaconda3/lib/python3.12/site-packages (from openai->-r requirements.txt (line 2)) (4.2.0)\n",
      "Requirement already satisfied: distro<2,>=1.7.0 in /home/lucas/anaconda3/lib/python3.12/site-packages (from openai->-r requirements.txt (line 2)) (1.9.0)\n",
      "Collecting httpx<1,>=0.23.0 (from openai->-r requirements.txt (line 2))\n",
      "  Using cached httpx-0.28.1-py3-none-any.whl.metadata (7.1 kB)\n",
      "Collecting jiter<1,>=0.4.0 (from openai->-r requirements.txt (line 2))\n",
      "  Using cached jiter-0.8.2-cp312-cp312-manylinux_2_17_x86_64.manylinux2014_x86_64.whl.metadata (5.2 kB)\n",
      "Requirement already satisfied: pydantic<3,>=1.9.0 in /home/lucas/anaconda3/lib/python3.12/site-packages (from openai->-r requirements.txt (line 2)) (2.5.3)\n",
      "Requirement already satisfied: sniffio in /home/lucas/anaconda3/lib/python3.12/site-packages (from openai->-r requirements.txt (line 2)) (1.3.0)\n",
      "Requirement already satisfied: tqdm>4 in /home/lucas/anaconda3/lib/python3.12/site-packages (from openai->-r requirements.txt (line 2)) (4.66.4)\n",
      "Requirement already satisfied: typing-extensions<5,>=4.11 in /home/lucas/anaconda3/lib/python3.12/site-packages (from openai->-r requirements.txt (line 2)) (4.11.0)\n",
      "Requirement already satisfied: numpy>=1.16.5 in /home/lucas/anaconda3/lib/python3.12/site-packages (from yfinance->-r requirements.txt (line 4)) (1.26.4)\n",
      "Requirement already satisfied: requests>=2.31 in /home/lucas/anaconda3/lib/python3.12/site-packages (from yfinance->-r requirements.txt (line 4)) (2.32.2)\n",
      "Collecting multitasking>=0.0.7 (from yfinance->-r requirements.txt (line 4))\n",
      "  Using cached multitasking-0.0.11-py3-none-any.whl.metadata (5.5 kB)\n",
      "Requirement already satisfied: lxml>=4.9.1 in /home/lucas/anaconda3/lib/python3.12/site-packages (from yfinance->-r requirements.txt (line 4)) (5.2.1)\n",
      "Requirement already satisfied: platformdirs>=2.0.0 in /home/lucas/anaconda3/lib/python3.12/site-packages (from yfinance->-r requirements.txt (line 4)) (3.10.0)\n",
      "Requirement already satisfied: pytz>=2022.5 in /home/lucas/anaconda3/lib/python3.12/site-packages (from yfinance->-r requirements.txt (line 4)) (2024.1)\n",
      "Requirement already satisfied: frozendict>=2.3.4 in /home/lucas/anaconda3/lib/python3.12/site-packages (from yfinance->-r requirements.txt (line 4)) (2.4.2)\n",
      "Collecting peewee>=3.16.2 (from yfinance->-r requirements.txt (line 4))\n",
      "  Using cached peewee-3.17.8-cp312-cp312-linux_x86_64.whl\n",
      "Requirement already satisfied: beautifulsoup4>=4.11.1 in /home/lucas/anaconda3/lib/python3.12/site-packages (from yfinance->-r requirements.txt (line 4)) (4.12.3)\n",
      "Collecting html5lib>=1.1 (from yfinance->-r requirements.txt (line 4))\n",
      "  Using cached html5lib-1.1-py2.py3-none-any.whl.metadata (16 kB)\n",
      "Requirement already satisfied: python-dateutil>=2.8.2 in /home/lucas/anaconda3/lib/python3.12/site-packages (from pandas->-r requirements.txt (line 5)) (2.9.0.post0)\n",
      "Requirement already satisfied: tzdata>=2022.7 in /home/lucas/anaconda3/lib/python3.12/site-packages (from pandas->-r requirements.txt (line 5)) (2023.3)\n",
      "Requirement already satisfied: contourpy>=1.0.1 in /home/lucas/anaconda3/lib/python3.12/site-packages (from matplotlib->-r requirements.txt (line 6)) (1.2.0)\n",
      "Requirement already satisfied: cycler>=0.10 in /home/lucas/anaconda3/lib/python3.12/site-packages (from matplotlib->-r requirements.txt (line 6)) (0.11.0)\n",
      "Requirement already satisfied: fonttools>=4.22.0 in /home/lucas/anaconda3/lib/python3.12/site-packages (from matplotlib->-r requirements.txt (line 6)) (4.51.0)\n",
      "Requirement already satisfied: kiwisolver>=1.3.1 in /home/lucas/anaconda3/lib/python3.12/site-packages (from matplotlib->-r requirements.txt (line 6)) (1.4.4)\n",
      "Requirement already satisfied: pillow>=8 in /home/lucas/anaconda3/lib/python3.12/site-packages (from matplotlib->-r requirements.txt (line 6)) (10.3.0)\n",
      "Requirement already satisfied: pyparsing>=2.3.1 in /home/lucas/anaconda3/lib/python3.12/site-packages (from matplotlib->-r requirements.txt (line 6)) (3.0.9)\n",
      "Requirement already satisfied: idna>=2.8 in /home/lucas/anaconda3/lib/python3.12/site-packages (from anyio<5,>=3.5.0->openai->-r requirements.txt (line 2)) (3.7)\n",
      "Requirement already satisfied: soupsieve>1.2 in /home/lucas/anaconda3/lib/python3.12/site-packages (from beautifulsoup4>=4.11.1->yfinance->-r requirements.txt (line 4)) (2.5)\n",
      "Requirement already satisfied: six>=1.9 in /home/lucas/anaconda3/lib/python3.12/site-packages (from html5lib>=1.1->yfinance->-r requirements.txt (line 4)) (1.16.0)\n",
      "Requirement already satisfied: webencodings in /home/lucas/anaconda3/lib/python3.12/site-packages (from html5lib>=1.1->yfinance->-r requirements.txt (line 4)) (0.5.1)\n",
      "Requirement already satisfied: certifi in /home/lucas/anaconda3/lib/python3.12/site-packages (from httpx<1,>=0.23.0->openai->-r requirements.txt (line 2)) (2024.7.4)\n",
      "Collecting httpcore==1.* (from httpx<1,>=0.23.0->openai->-r requirements.txt (line 2))\n",
      "  Using cached httpcore-1.0.7-py3-none-any.whl.metadata (21 kB)\n",
      "Collecting h11<0.15,>=0.13 (from httpcore==1.*->httpx<1,>=0.23.0->openai->-r requirements.txt (line 2))\n",
      "  Using cached h11-0.14.0-py3-none-any.whl.metadata (8.2 kB)\n",
      "Requirement already satisfied: decorator in /home/lucas/anaconda3/lib/python3.12/site-packages (from ipython>=7.23.1->ipykernel->-r requirements.txt (line 1)) (5.1.1)\n",
      "Requirement already satisfied: jedi>=0.16 in /home/lucas/anaconda3/lib/python3.12/site-packages (from ipython>=7.23.1->ipykernel->-r requirements.txt (line 1)) (0.18.1)\n",
      "Requirement already satisfied: prompt-toolkit<3.1.0,>=3.0.41 in /home/lucas/anaconda3/lib/python3.12/site-packages (from ipython>=7.23.1->ipykernel->-r requirements.txt (line 1)) (3.0.43)\n",
      "Requirement already satisfied: pygments>=2.4.0 in /home/lucas/anaconda3/lib/python3.12/site-packages (from ipython>=7.23.1->ipykernel->-r requirements.txt (line 1)) (2.15.1)\n",
      "Requirement already satisfied: stack-data in /home/lucas/anaconda3/lib/python3.12/site-packages (from ipython>=7.23.1->ipykernel->-r requirements.txt (line 1)) (0.2.0)\n",
      "Requirement already satisfied: pexpect>4.3 in /home/lucas/anaconda3/lib/python3.12/site-packages (from ipython>=7.23.1->ipykernel->-r requirements.txt (line 1)) (4.8.0)\n",
      "Requirement already satisfied: annotated-types>=0.4.0 in /home/lucas/anaconda3/lib/python3.12/site-packages (from pydantic<3,>=1.9.0->openai->-r requirements.txt (line 2)) (0.6.0)\n",
      "Requirement already satisfied: pydantic-core==2.14.6 in /home/lucas/anaconda3/lib/python3.12/site-packages (from pydantic<3,>=1.9.0->openai->-r requirements.txt (line 2)) (2.14.6)\n",
      "Requirement already satisfied: charset-normalizer<4,>=2 in /home/lucas/anaconda3/lib/python3.12/site-packages (from requests>=2.31->yfinance->-r requirements.txt (line 4)) (2.0.4)\n",
      "Requirement already satisfied: urllib3<3,>=1.21.1 in /home/lucas/anaconda3/lib/python3.12/site-packages (from requests>=2.31->yfinance->-r requirements.txt (line 4)) (2.2.2)\n",
      "Requirement already satisfied: parso<0.9.0,>=0.8.0 in /home/lucas/anaconda3/lib/python3.12/site-packages (from jedi>=0.16->ipython>=7.23.1->ipykernel->-r requirements.txt (line 1)) (0.8.3)\n",
      "Requirement already satisfied: ptyprocess>=0.5 in /home/lucas/anaconda3/lib/python3.12/site-packages (from pexpect>4.3->ipython>=7.23.1->ipykernel->-r requirements.txt (line 1)) (0.7.0)\n",
      "Requirement already satisfied: wcwidth in /home/lucas/anaconda3/lib/python3.12/site-packages (from prompt-toolkit<3.1.0,>=3.0.41->ipython>=7.23.1->ipykernel->-r requirements.txt (line 1)) (0.2.5)\n",
      "Requirement already satisfied: executing in /home/lucas/anaconda3/lib/python3.12/site-packages (from stack-data->ipython>=7.23.1->ipykernel->-r requirements.txt (line 1)) (0.8.3)\n",
      "Requirement already satisfied: asttokens in /home/lucas/anaconda3/lib/python3.12/site-packages (from stack-data->ipython>=7.23.1->ipykernel->-r requirements.txt (line 1)) (2.0.5)\n",
      "Requirement already satisfied: pure-eval in /home/lucas/anaconda3/lib/python3.12/site-packages (from stack-data->ipython>=7.23.1->ipykernel->-r requirements.txt (line 1)) (0.2.2)\n",
      "Using cached openai-1.59.9-py3-none-any.whl (455 kB)\n",
      "Using cached yfinance-0.2.52-py2.py3-none-any.whl (108 kB)\n",
      "Using cached html5lib-1.1-py2.py3-none-any.whl (112 kB)\n",
      "Using cached httpx-0.28.1-py3-none-any.whl (73 kB)\n",
      "Using cached httpcore-1.0.7-py3-none-any.whl (78 kB)\n",
      "Using cached jiter-0.8.2-cp312-cp312-manylinux_2_17_x86_64.manylinux2014_x86_64.whl (345 kB)\n",
      "Using cached multitasking-0.0.11-py3-none-any.whl (8.5 kB)\n",
      "Using cached h11-0.14.0-py3-none-any.whl (58 kB)\n",
      "Installing collected packages: peewee, multitasking, jiter, html5lib, h11, httpcore, yfinance, httpx, openai\n",
      "Successfully installed h11-0.14.0 html5lib-1.1 httpcore-1.0.7 httpx-0.28.1 jiter-0.8.2 multitasking-0.0.11 openai-1.59.9 peewee-3.17.8 yfinance-0.2.52\n",
      "Note: you may need to restart the kernel to use updated packages.\n"
     ]
    }
   ],
   "source": [
    "pip install -r requirements.txt"
   ]
  },
  {
   "cell_type": "code",
   "execution_count": 2,
   "metadata": {},
   "outputs": [],
   "source": [
    "import openai"
   ]
  },
  {
   "cell_type": "code",
   "execution_count": 3,
   "metadata": {},
   "outputs": [
    {
     "ename": "OpenAIError",
     "evalue": "The api_key client option must be set either by passing api_key to the client or by setting the OPENAI_API_KEY environment variable",
     "output_type": "error",
     "traceback": [
      "\u001b[0;31m---------------------------------------------------------------------------\u001b[0m",
      "\u001b[0;31mOpenAIError\u001b[0m                               Traceback (most recent call last)",
      "Cell \u001b[0;32mIn[3], line 1\u001b[0m\n\u001b[0;32m----> 1\u001b[0m client \u001b[38;5;241m=\u001b[39m openai\u001b[38;5;241m.\u001b[39mClient()\n",
      "File \u001b[0;32m~/anaconda3/lib/python3.12/site-packages/openai/_client.py:110\u001b[0m, in \u001b[0;36mOpenAI.__init__\u001b[0;34m(self, api_key, organization, project, base_url, websocket_base_url, timeout, max_retries, default_headers, default_query, http_client, _strict_response_validation)\u001b[0m\n\u001b[1;32m    108\u001b[0m     api_key \u001b[38;5;241m=\u001b[39m os\u001b[38;5;241m.\u001b[39menviron\u001b[38;5;241m.\u001b[39mget(\u001b[38;5;124m\"\u001b[39m\u001b[38;5;124mOPENAI_API_KEY\u001b[39m\u001b[38;5;124m\"\u001b[39m)\n\u001b[1;32m    109\u001b[0m \u001b[38;5;28;01mif\u001b[39;00m api_key \u001b[38;5;129;01mis\u001b[39;00m \u001b[38;5;28;01mNone\u001b[39;00m:\n\u001b[0;32m--> 110\u001b[0m     \u001b[38;5;28;01mraise\u001b[39;00m OpenAIError(\n\u001b[1;32m    111\u001b[0m         \u001b[38;5;124m\"\u001b[39m\u001b[38;5;124mThe api_key client option must be set either by passing api_key to the client or by setting the OPENAI_API_KEY environment variable\u001b[39m\u001b[38;5;124m\"\u001b[39m\n\u001b[1;32m    112\u001b[0m     )\n\u001b[1;32m    113\u001b[0m \u001b[38;5;28mself\u001b[39m\u001b[38;5;241m.\u001b[39mapi_key \u001b[38;5;241m=\u001b[39m api_key\n\u001b[1;32m    115\u001b[0m \u001b[38;5;28;01mif\u001b[39;00m organization \u001b[38;5;129;01mis\u001b[39;00m \u001b[38;5;28;01mNone\u001b[39;00m:\n",
      "\u001b[0;31mOpenAIError\u001b[0m: The api_key client option must be set either by passing api_key to the client or by setting the OPENAI_API_KEY environment variable"
     ]
    }
   ],
   "source": [
    "client = openai.Client()"
   ]
  },
  {
   "cell_type": "markdown",
   "metadata": {},
   "source": [
    "### Fluxo de Conversa\n",
    "\n",
    "-user\n",
    "\n",
    "-assistant"
   ]
  },
  {
   "cell_type": "code",
   "execution_count": 4,
   "metadata": {},
   "outputs": [],
   "source": [
    "mensagens = [{\"role\":\"user\",\"content\":\"Defina uma laranja em 5 palavras\"}]"
   ]
  },
  {
   "cell_type": "code",
   "execution_count": 5,
   "metadata": {},
   "outputs": [
    {
     "ename": "NameError",
     "evalue": "name 'client' is not defined",
     "output_type": "error",
     "traceback": [
      "\u001b[0;31m---------------------------------------------------------------------------\u001b[0m",
      "\u001b[0;31mNameError\u001b[0m                                 Traceback (most recent call last)",
      "Cell \u001b[0;32mIn[5], line 1\u001b[0m\n\u001b[0;32m----> 1\u001b[0m resposta \u001b[38;5;241m=\u001b[39m client\u001b[38;5;241m.\u001b[39mchat\u001b[38;5;241m.\u001b[39mcompletions\u001b[38;5;241m.\u001b[39mcreate(\n\u001b[1;32m      2\u001b[0m     messages\u001b[38;5;241m=\u001b[39mmensagens,\n\u001b[1;32m      3\u001b[0m     model\u001b[38;5;241m=\u001b[39m\u001b[38;5;124m\"\u001b[39m\u001b[38;5;124mgpt-3.5-turbo-0125\u001b[39m\u001b[38;5;124m\"\u001b[39m,\n\u001b[1;32m      4\u001b[0m     max_tokens\u001b[38;5;241m=\u001b[39m\u001b[38;5;241m100\u001b[39m,\n\u001b[1;32m      5\u001b[0m     temperatur\u001b[38;5;241m=\u001b[39m\u001b[38;5;241m0\u001b[39m\n\u001b[1;32m      6\u001b[0m )\n",
      "\u001b[0;31mNameError\u001b[0m: name 'client' is not defined"
     ]
    }
   ],
   "source": [
    "resposta = client.chat.completions.create(\n",
    "    messages=mensagens,\n",
    "    model=\"gpt-3.5-turbo-0125\",\n",
    "    max_tokens=100,\n",
    "    temperatur=0\n",
    ")"
   ]
  },
  {
   "cell_type": "code",
   "execution_count": 6,
   "metadata": {},
   "outputs": [
    {
     "ename": "NameError",
     "evalue": "name 'resposta' is not defined",
     "output_type": "error",
     "traceback": [
      "\u001b[0;31m---------------------------------------------------------------------------\u001b[0m",
      "\u001b[0;31mNameError\u001b[0m                                 Traceback (most recent call last)",
      "Cell \u001b[0;32mIn[6], line 1\u001b[0m\n\u001b[0;32m----> 1\u001b[0m resposta\n",
      "\u001b[0;31mNameError\u001b[0m: name 'resposta' is not defined"
     ]
    }
   ],
   "source": [
    "resposta"
   ]
  },
  {
   "cell_type": "code",
   "execution_count": 7,
   "metadata": {},
   "outputs": [
    {
     "ename": "NameError",
     "evalue": "name 'resposta' is not defined",
     "output_type": "error",
     "traceback": [
      "\u001b[0;31m---------------------------------------------------------------------------\u001b[0m",
      "\u001b[0;31mNameError\u001b[0m                                 Traceback (most recent call last)",
      "Cell \u001b[0;32mIn[7], line 1\u001b[0m\n\u001b[0;32m----> 1\u001b[0m resposta\u001b[38;5;241m.\u001b[39mchoices[\u001b[38;5;241m0\u001b[39m]\u001b[38;5;241m.\u001b[39mmessage\u001b[38;5;241m.\u001b[39mcontent\n",
      "\u001b[0;31mNameError\u001b[0m: name 'resposta' is not defined"
     ]
    }
   ],
   "source": [
    "resposta.choices[0].message.content"
   ]
  },
  {
   "cell_type": "code",
   "execution_count": 8,
   "metadata": {},
   "outputs": [
    {
     "ename": "NameError",
     "evalue": "name 'resposta' is not defined",
     "output_type": "error",
     "traceback": [
      "\u001b[0;31m---------------------------------------------------------------------------\u001b[0m",
      "\u001b[0;31mNameError\u001b[0m                                 Traceback (most recent call last)",
      "Cell \u001b[0;32mIn[8], line 1\u001b[0m\n\u001b[0;32m----> 1\u001b[0m mensagens\u001b[38;5;241m.\u001b[39mappend({\u001b[38;5;124m\"\u001b[39m\u001b[38;5;124mrole\u001b[39m\u001b[38;5;124m\"\u001b[39m:\u001b[38;5;124m\"\u001b[39m\u001b[38;5;124massistant\u001b[39m\u001b[38;5;124m\"\u001b[39m, \u001b[38;5;124m\"\u001b[39m\u001b[38;5;124mcontent\u001b[39m\u001b[38;5;124m\"\u001b[39m:resposta\u001b[38;5;241m.\u001b[39mchoices[\u001b[38;5;241m0\u001b[39m]\u001b[38;5;241m.\u001b[39mmessage\u001b[38;5;241m.\u001b[39mcontent})\n",
      "\u001b[0;31mNameError\u001b[0m: name 'resposta' is not defined"
     ]
    }
   ],
   "source": [
    "mensagens.append({\"role\":\"assistant\", \"content\":resposta.choices[0].message.content})"
   ]
  },
  {
   "cell_type": "code",
   "execution_count": 9,
   "metadata": {},
   "outputs": [],
   "source": [
    "mensagens.append({\"role\":\"user\", \"content\":\"E qual a sua cor?\"})"
   ]
  },
  {
   "cell_type": "code",
   "execution_count": 10,
   "metadata": {},
   "outputs": [
    {
     "ename": "NameError",
     "evalue": "name 'client' is not defined",
     "output_type": "error",
     "traceback": [
      "\u001b[0;31m---------------------------------------------------------------------------\u001b[0m",
      "\u001b[0;31mNameError\u001b[0m                                 Traceback (most recent call last)",
      "Cell \u001b[0;32mIn[10], line 1\u001b[0m\n\u001b[0;32m----> 1\u001b[0m resposta \u001b[38;5;241m=\u001b[39m client\u001b[38;5;241m.\u001b[39mchat\u001b[38;5;241m.\u001b[39mcompletions\u001b[38;5;241m.\u001b[39mcreate(\n\u001b[1;32m      2\u001b[0m     messages\u001b[38;5;241m=\u001b[39mmensagens,\n\u001b[1;32m      3\u001b[0m     model\u001b[38;5;241m=\u001b[39m\u001b[38;5;124m\"\u001b[39m\u001b[38;5;124mgpt-3.5-turbo-0125\u001b[39m\u001b[38;5;124m\"\u001b[39m,\n\u001b[1;32m      4\u001b[0m     max_tokens\u001b[38;5;241m=\u001b[39m\u001b[38;5;241m100\u001b[39m,\n\u001b[1;32m      5\u001b[0m     temperatur\u001b[38;5;241m=\u001b[39m\u001b[38;5;241m0\u001b[39m\n\u001b[1;32m      6\u001b[0m )\n",
      "\u001b[0;31mNameError\u001b[0m: name 'client' is not defined"
     ]
    }
   ],
   "source": [
    "resposta = client.chat.completions.create(\n",
    "    messages=mensagens,\n",
    "    model=\"gpt-3.5-turbo-0125\",\n",
    "    max_tokens=100,\n",
    "    temperature=0\n",
    ")"
   ]
  },
  {
   "cell_type": "code",
   "execution_count": 11,
   "metadata": {},
   "outputs": [
    {
     "ename": "NameError",
     "evalue": "name 'resposta' is not defined",
     "output_type": "error",
     "traceback": [
      "\u001b[0;31m---------------------------------------------------------------------------\u001b[0m",
      "\u001b[0;31mNameError\u001b[0m                                 Traceback (most recent call last)",
      "Cell \u001b[0;32mIn[11], line 1\u001b[0m\n\u001b[0;32m----> 1\u001b[0m resposta\u001b[38;5;241m.\u001b[39mchoices[\u001b[38;5;241m0\u001b[39m]\u001b[38;5;241m.\u001b[39mmessage\u001b[38;5;241m.\u001b[39mcontent\n",
      "\u001b[0;31mNameError\u001b[0m: name 'resposta' is not defined"
     ]
    }
   ],
   "source": [
    "resposta.choices[0].message.content"
   ]
  },
  {
   "cell_type": "code",
   "execution_count": null,
   "metadata": {},
   "outputs": [],
   "source": [
    "mensagens.append({\"role\":\"assistant\", \"content\":resposta.choices[0].message.content})"
   ]
  },
  {
   "cell_type": "markdown",
   "metadata": {},
   "source": [
    "## Utilizando Funcao"
   ]
  },
  {
   "cell_type": "code",
   "execution_count": 12,
   "metadata": {},
   "outputs": [],
   "source": [
    "def geracao_texto(mensagens,model=\"gpt-3.5-turbo-0125\",max_tokens=100,temperature=0):\n",
    "    resposta = client.chat.completions.create(\n",
    "    messages=mensagens,\n",
    "    model=model,\n",
    "    max_tokens=max_tokens,\n",
    "    temperature=temperature)\n",
    "    mensagens.append({\"role\":\"assistant\",\"content\":resposta.choices[0].message.content})\n",
    "    return mensagens"
   ]
  },
  {
   "cell_type": "code",
   "execution_count": 13,
   "metadata": {},
   "outputs": [
    {
     "ename": "NameError",
     "evalue": "name 'client' is not defined",
     "output_type": "error",
     "traceback": [
      "\u001b[0;31m---------------------------------------------------------------------------\u001b[0m",
      "\u001b[0;31mNameError\u001b[0m                                 Traceback (most recent call last)",
      "Cell \u001b[0;32mIn[13], line 2\u001b[0m\n\u001b[1;32m      1\u001b[0m msg1 \u001b[38;5;241m=\u001b[39m [{\u001b[38;5;124m\"\u001b[39m\u001b[38;5;124mrole\u001b[39m\u001b[38;5;124m\"\u001b[39m:\u001b[38;5;124m\"\u001b[39m\u001b[38;5;124muser\u001b[39m\u001b[38;5;124m\"\u001b[39m, \u001b[38;5;124m\"\u001b[39m\u001b[38;5;124mcontent\u001b[39m\u001b[38;5;124m\"\u001b[39m:\u001b[38;5;124m\"\u001b[39m\u001b[38;5;124mDefina o que é API em 5 palavras\u001b[39m\u001b[38;5;124m\"\u001b[39m}]\n\u001b[0;32m----> 2\u001b[0m mensagens \u001b[38;5;241m=\u001b[39m geracao_texto(msg1)\n\u001b[1;32m      3\u001b[0m mensagens\n",
      "Cell \u001b[0;32mIn[12], line 2\u001b[0m, in \u001b[0;36mgeracao_texto\u001b[0;34m(mensagens, model, max_tokens, temperature)\u001b[0m\n\u001b[1;32m      1\u001b[0m \u001b[38;5;28;01mdef\u001b[39;00m \u001b[38;5;21mgeracao_texto\u001b[39m(mensagens,model\u001b[38;5;241m=\u001b[39m\u001b[38;5;124m\"\u001b[39m\u001b[38;5;124mgpt-3.5-turbo-0125\u001b[39m\u001b[38;5;124m\"\u001b[39m,max_tokens\u001b[38;5;241m=\u001b[39m\u001b[38;5;241m100\u001b[39m,temperature\u001b[38;5;241m=\u001b[39m\u001b[38;5;241m0\u001b[39m):\n\u001b[0;32m----> 2\u001b[0m     resposta \u001b[38;5;241m=\u001b[39m client\u001b[38;5;241m.\u001b[39mchat\u001b[38;5;241m.\u001b[39mcompletions\u001b[38;5;241m.\u001b[39mcreate(\n\u001b[1;32m      3\u001b[0m     messages\u001b[38;5;241m=\u001b[39mmensagens,\n\u001b[1;32m      4\u001b[0m     model\u001b[38;5;241m=\u001b[39mmodel,\n\u001b[1;32m      5\u001b[0m     max_tokens\u001b[38;5;241m=\u001b[39mmax_tokens,\n\u001b[1;32m      6\u001b[0m     temperature\u001b[38;5;241m=\u001b[39mtemperature)\n\u001b[1;32m      7\u001b[0m     mensagens\u001b[38;5;241m.\u001b[39mappend({\u001b[38;5;124m\"\u001b[39m\u001b[38;5;124mrole\u001b[39m\u001b[38;5;124m\"\u001b[39m:\u001b[38;5;124m\"\u001b[39m\u001b[38;5;124massistant\u001b[39m\u001b[38;5;124m\"\u001b[39m,\u001b[38;5;124m\"\u001b[39m\u001b[38;5;124mcontent\u001b[39m\u001b[38;5;124m\"\u001b[39m:resposta\u001b[38;5;241m.\u001b[39mchoices[\u001b[38;5;241m0\u001b[39m]\u001b[38;5;241m.\u001b[39mmessage\u001b[38;5;241m.\u001b[39mcontent})\n\u001b[1;32m      8\u001b[0m     \u001b[38;5;28;01mreturn\u001b[39;00m mensagens\n",
      "\u001b[0;31mNameError\u001b[0m: name 'client' is not defined"
     ]
    }
   ],
   "source": [
    "msg1 = [{\"role\":\"user\", \"content\":\"Defina o que é API em 5 palavras\"}]\n",
    "mensagens = geracao_texto(msg1)\n",
    "mensagens"
   ]
  },
  {
   "cell_type": "markdown",
   "metadata": {},
   "source": [
    "## Utilizando Stream"
   ]
  },
  {
   "cell_type": "code",
   "execution_count": null,
   "metadata": {},
   "outputs": [],
   "source": [
    "mensagens = [{\"role\":\"user\", \"content\":\"Conte uma história simples e objetiva sobre LLM\"}]\n",
    "resposta = client.chat.completions.create(\n",
    "    messages=mensagens,\n",
    "    model=\"gpt-3.5-turbo-0125\",\n",
    "    max_tokens=100,\n",
    "    temperature=0,\n",
    "    stream=True\n",
    ")"
   ]
  },
  {
   "cell_type": "code",
   "execution_count": 14,
   "metadata": {},
   "outputs": [
    {
     "ename": "NameError",
     "evalue": "name 'resposta' is not defined",
     "output_type": "error",
     "traceback": [
      "\u001b[0;31m---------------------------------------------------------------------------\u001b[0m",
      "\u001b[0;31mNameError\u001b[0m                                 Traceback (most recent call last)",
      "Cell \u001b[0;32mIn[14], line 1\u001b[0m\n\u001b[0;32m----> 1\u001b[0m resposta\n",
      "\u001b[0;31mNameError\u001b[0m: name 'resposta' is not defined"
     ]
    }
   ],
   "source": [
    "resposta"
   ]
  },
  {
   "cell_type": "code",
   "execution_count": null,
   "metadata": {},
   "outputs": [],
   "source": [
    "for resposta_stream in resposta:\n",
    "    texto = resposta_stream.choices[0].delta.content\n",
    "    if texto:\n",
    "        print(texto, end=\"\")"
   ]
  }
 ],
 "metadata": {
  "kernelspec": {
   "display_name": "Python 3 (ipykernel)",
   "language": "python",
   "name": "python3"
  },
  "language_info": {
   "codemirror_mode": {
    "name": "ipython",
    "version": 3
   },
   "file_extension": ".py",
   "mimetype": "text/x-python",
   "name": "python",
   "nbconvert_exporter": "python",
   "pygments_lexer": "ipython3",
   "version": "3.12.2"
  }
 },
 "nbformat": 4,
 "nbformat_minor": 4
}
