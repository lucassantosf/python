{
 "cells": [
  {
   "cell_type": "code",
   "execution_count": 1,
   "metadata": {},
   "outputs": [],
   "source": [
    "from dotenv import load_dotenv\n",
    "import os\n",
    "import openai  \n",
    "\n",
    "# Carregar variáveis do arquivo .env\n",
    "load_dotenv()\n",
    "\n",
    "# Verificar se a chave foi carregada\n",
    "api_key = os.getenv(\"OPENAI_API_KEY\")\n",
    "if not api_key:\n",
    "    raise ValueError(\"OPENAI_API_KEY não encontrada no arquivo .env\")\n",
    "\n",
    "# Configurar o cliente OpenAI com a chave carregada\n",
    "openai.api_key = api_key"
   ]
  },
  {
   "cell_type": "code",
   "execution_count": 2,
   "metadata": {},
   "outputs": [],
   "source": [
    "client = openai.Client()"
   ]
  },
  {
   "cell_type": "code",
   "execution_count": 3,
   "metadata": {},
   "outputs": [],
   "source": [
    "assistant = client.beta.assistants.create(\n",
    "    name=\"Tutor de tecnologia\",\n",
    "    instructions=\"Voce é um tutor sobre assuntos relacionados a tecnologia\",\n",
    "    tools=[{\"type\":\"code_interpreter\"}],\n",
    "    model=\"gpt-3.5-turbo-0125\"\n",
    ")"
   ]
  },
  {
   "cell_type": "code",
   "execution_count": 4,
   "metadata": {},
   "outputs": [],
   "source": [
    "pergunta = \"\"\" \n",
    "    Em um sistema de cache com mapeamento direto, dado uma memoria principal de um cache de 256 KB e blocos de 64 bytes: \n",
    "    - Quantas linhas existem no cache?\n",
    "    - Onde o bloco de endereco 0x1A2B3C será mapeado no cache?\n",
    "    \"\"\""
   ]
  },
  {
   "cell_type": "code",
   "execution_count": 5,
   "metadata": {},
   "outputs": [],
   "source": [
    "# Criação da Thread\n",
    "thread = client.beta.threads.create()\n",
    "message = client.beta.threads.messages.create(\n",
    "    thread_id=thread.id,\n",
    "    role=\"user\",\n",
    "    content=pergunta\n",
    ")"
   ]
  },
  {
   "cell_type": "code",
   "execution_count": 6,
   "metadata": {},
   "outputs": [],
   "source": [
    "# Executa a Thread\n",
    "run = client.beta.threads.runs.create(\n",
    "    thread_id=thread.id,\n",
    "    assistant_id=assistant.id,\n",
    "    instructions=\"Nome do usuário premium\"\n",
    ")"
   ]
  },
  {
   "cell_type": "code",
   "execution_count": 7,
   "metadata": {},
   "outputs": [],
   "source": [
    "# Aguarda a thread rodar\n",
    "import time \n",
    "while run.status in [\"queued\",\"in_progress\",\"cancelling\"]:\n",
    "    time.sleep(1)\n",
    "    run = client.beta.threads.runs.retrieve(\n",
    "        thread_id=thread.id,\n",
    "        run_id=run.id\n",
    "    )"
   ]
  },
  {
   "cell_type": "code",
   "execution_count": 8,
   "metadata": {},
   "outputs": [
    {
     "name": "stdout",
     "output_type": "stream",
     "text": [
      "SyncCursorPage[Message](data=[Message(id='msg_oBfAhdVl3gm6B4uhiJEOEUv7', assistant_id='asst_3tXAAfWIrMegv93XOyBGulyq', attachments=[], completed_at=None, content=[TextContentBlock(text=Text(annotations=[], value='O índice do bloco de endereço 0x1A2B3C é 2220.\\n\\nPortanto, o bloco de endereço 0x1A2B3C será mapeado na linha 2220 do cache. Isso ocorre porque, no mapeamento direto, o índice é usado para determinar a linha específica no cache onde o bloco será armazenado.\\n\\nSe precisar de mais alguma ajuda ou tiver outras perguntas, fique à vontade para me perguntar!'), type='text')], created_at=1737749045, incomplete_at=None, incomplete_details=None, metadata={}, object='thread.message', role='assistant', run_id='run_z0xKoMWOxNpYUBbf6UPXMoZE', status=None, thread_id='thread_c88fezvfU99aXHzupTO5mFms'), Message(id='msg_SRLFZr0GxQSD9QhY2p11eGXa', assistant_id='asst_3tXAAfWIrMegv93XOyBGulyq', attachments=[], completed_at=None, content=[TextContentBlock(text=Text(annotations=[], value='Parece que houve um erro na determinação do índice do bloco. Vamos corrigir e tentar novamente.'), type='text')], created_at=1737749042, incomplete_at=None, incomplete_details=None, metadata={}, object='thread.message', role='assistant', run_id='run_z0xKoMWOxNpYUBbf6UPXMoZE', status=None, thread_id='thread_c88fezvfU99aXHzupTO5mFms'), Message(id='msg_G3Nb22Wd6wqoIyo8LTPSb1PI', assistant_id='asst_3tXAAfWIrMegv93XOyBGulyq', attachments=[], completed_at=None, content=[TextContentBlock(text=Text(annotations=[], value='Portanto, temos que o cache possui 4096 blocos e 4096 linhas.\\n\\nAgora, para determinar onde o bloco de endereço 0x1A2B3C será mapeado no cache, precisamos converter o endereço para binário, identificar o índice da linha correspondente e, assim, determinar a linha no cache. Vamos fazer isso agora.'), type='text')], created_at=1737749037, incomplete_at=None, incomplete_details=None, metadata={}, object='thread.message', role='assistant', run_id='run_z0xKoMWOxNpYUBbf6UPXMoZE', status=None, thread_id='thread_c88fezvfU99aXHzupTO5mFms'), Message(id='msg_Ztj6f21ObhXSuVPEzxDMYZkT', assistant_id='asst_3tXAAfWIrMegv93XOyBGulyq', attachments=[], completed_at=None, content=[TextContentBlock(text=Text(annotations=[], value='Para calcular o número de linhas no cache e determinar onde o bloco de endereço 0x1A2B3C será mapeado, precisamos seguir os seguintes passos:\\n\\n1. Calcular o número de blocos no cache:\\n   - Tamanho do cache = 256 KB = 256 * 1024 bytes\\n   - Tamanho do bloco = 64 bytes\\n   - Número de blocos no cache = Tamanho do cache / Tamanho do bloco\\n\\n2. Calcular o número de linhas no cache:\\n   - Número de linhas = Número de blocos no cache (no caso de mapeamento direto, cada bloco mapeia em uma linha específica do cache)\\n\\n3. Determinar onde o bloco de endereço 0x1A2B3C será mapeado:\\n   - Usaremos a técnica de indexação direta para mapear o bloco na linha correspondente.\\n   - O endereço de memória é dividido em tag, índice e offset. No caso do mapeamento direto, o índice é usado para determinar a linha do cache para mapeamento.\\n   \\nVamos calcular isso agora.'), type='text')], created_at=1737749032, incomplete_at=None, incomplete_details=None, metadata={}, object='thread.message', role='assistant', run_id='run_z0xKoMWOxNpYUBbf6UPXMoZE', status=None, thread_id='thread_c88fezvfU99aXHzupTO5mFms'), Message(id='msg_ePNnz2fbK3Sp6MTbjA3sfV9q', assistant_id=None, attachments=[], completed_at=None, content=[TextContentBlock(text=Text(annotations=[], value=' \\n    Em um sistema de cache com mapeamento direto, dado uma memoria principal de um cache de 256 KB e blocos de 64 bytes: \\n    - Quantas linhas existem no cache?\\n    - Onde o bloco de endereco 0x1A2B3C será mapeado no cache?\\n    '), type='text')], created_at=1737748967, incomplete_at=None, incomplete_details=None, metadata={}, object='thread.message', role='user', run_id=None, status=None, thread_id='thread_c88fezvfU99aXHzupTO5mFms')], object='list', first_id='msg_oBfAhdVl3gm6B4uhiJEOEUv7', last_id='msg_ePNnz2fbK3Sp6MTbjA3sfV9q', has_more=False)\n"
     ]
    }
   ],
   "source": [
    "# Verificar a resposta\n",
    "if run.status == \"completed\":\n",
    "    mensagens = client.beta.threads.messages.list(\n",
    "        thread_id=thread.id\n",
    "    )\n",
    "    print(mensagens)\n",
    "else:\n",
    "    print(f\"Erro {run.status}\")"
   ]
  },
  {
   "cell_type": "code",
   "execution_count": 9,
   "metadata": {},
   "outputs": [
    {
     "name": "stdout",
     "output_type": "stream",
     "text": [
      "O índice do bloco de endereço 0x1A2B3C é 2220.\n",
      "\n",
      "Portanto, o bloco de endereço 0x1A2B3C será mapeado na linha 2220 do cache. Isso ocorre porque, no mapeamento direto, o índice é usado para determinar a linha específica no cache onde o bloco será armazenado.\n",
      "\n",
      "Se precisar de mais alguma ajuda ou tiver outras perguntas, fique à vontade para me perguntar!\n"
     ]
    }
   ],
   "source": [
    "print(mensagens.data[0].content[0].text.value)"
   ]
  },
  {
   "cell_type": "code",
   "execution_count": 10,
   "metadata": {},
   "outputs": [],
   "source": [
    "# Analisando os passos do modelo\n",
    "\n",
    "run_steps = client.beta.threads.runs.steps.list(\n",
    "    thread_id=thread.id,\n",
    "    run_id=run.id\n",
    ")"
   ]
  },
  {
   "cell_type": "code",
   "execution_count": 11,
   "metadata": {},
   "outputs": [
    {
     "name": "stdout",
     "output_type": "stream",
     "text": [
      "\n",
      "====Step message_creation\n",
      "Para calcular o número de linhas no cache e determinar onde o bloco de endereço 0x1A2B3C será mapeado, precisamos seguir os seguintes passos:\n",
      "\n",
      "1. Calcular o número de blocos no cache:\n",
      "   - Tamanho do cache = 256 KB = 256 * 1024 bytes\n",
      "   - Tamanho do bloco = 64 bytes\n",
      "   - Número de blocos no cache = Tamanho do cache / Tamanho do bloco\n",
      "\n",
      "2. Calcular o número de linhas no cache:\n",
      "   - Número de linhas = Número de blocos no cache (no caso de mapeamento direto, cada bloco mapeia em uma linha específica do cache)\n",
      "\n",
      "3. Determinar onde o bloco de endereço 0x1A2B3C será mapeado:\n",
      "   - Usaremos a técnica de indexação direta para mapear o bloco na linha correspondente.\n",
      "   - O endereço de memória é dividido em tag, índice e offset. No caso do mapeamento direto, o índice é usado para determinar a linha do cache para mapeamento.\n",
      "   \n",
      "Vamos calcular isso agora.\n",
      "\n",
      "====Step tool_calls\n",
      "==========\n",
      "# Tamanho do cache em bytes\n",
      "tamanho_cache_bytes = 256 * 1024\n",
      "\n",
      "# Tamanho do bloco em bytes\n",
      "tamanho_bloco_bytes = 64\n",
      "\n",
      "# Número de blocos no cache\n",
      "num_blocos_cache = tamanho_cache_bytes / tamanho_bloco_bytes\n",
      "\n",
      "# Número de linhas no cache (no mapeamento direto, cada bloco mapeia em uma linha específica)\n",
      "num_linhas_cache = num_blocos_cache\n",
      "\n",
      "num_blocos_cache, num_linhas_cache\n",
      "==========\n",
      "\n",
      "====Step message_creation\n",
      "Portanto, temos que o cache possui 4096 blocos e 4096 linhas.\n",
      "\n",
      "Agora, para determinar onde o bloco de endereço 0x1A2B3C será mapeado no cache, precisamos converter o endereço para binário, identificar o índice da linha correspondente e, assim, determinar a linha no cache. Vamos fazer isso agora.\n",
      "\n",
      "====Step tool_calls\n",
      "==========\n",
      "# Endereço de memória em hexadecimal\n",
      "endereco_memoria_hex = 0x1A2B3C\n",
      "\n",
      "# Converte o endereço de memória para binário\n",
      "endereco_memoria_bin = bin(endereco_memoria_hex)[2:].zfill(32)\n",
      "\n",
      "# Tamanho do bloco em bytes (é necessário para calcular o offset)\n",
      "tamanho_bloco_bits = tamanho_bloco_bytes * 8\n",
      "\n",
      "# Número de bits para o índice (log2 do número de linhas no cache)\n",
      "num_bits_indice = int(num_linhas_cache).bit_length() - 1\n",
      "\n",
      "# Calcula o índice do bloco\n",
      "indice_bloco = int(endereco_memoria_bin[-(num_bits_indice + tamanho_bloco_bits):-tamanho_bloco_bits], 2)\n",
      "\n",
      "indice_bloco\n",
      "==========\n",
      "\n",
      "====Step message_creation\n",
      "Parece que houve um erro na determinação do índice do bloco. Vamos corrigir e tentar novamente.\n",
      "\n",
      "====Step tool_calls\n",
      "==========\n",
      "import math\n",
      "\n",
      "# Tamanho do bloco em bits (é necessário para calcular o offset)\n",
      "tamanho_bloco_bits = int(math.log2(tamanho_bloco_bytes))\n",
      "\n",
      "# Número de bits para o índice (log2 do número de linhas no cache)\n",
      "num_bits_indice = int(math.log2(num_linhas_cache))\n",
      "\n",
      "# Calcula o índice do bloco\n",
      "indice_bloco = int(endereco_memoria_bin[-(num_bits_indice + tamanho_bloco_bits):-tamanho_bloco_bits], 2)\n",
      "\n",
      "indice_bloco\n",
      "==========\n",
      "\n",
      "====Step message_creation\n",
      "O índice do bloco de endereço 0x1A2B3C é 2220.\n",
      "\n",
      "Portanto, o bloco de endereço 0x1A2B3C será mapeado na linha 2220 do cache. Isso ocorre porque, no mapeamento direto, o índice é usado para determinar a linha específica no cache onde o bloco será armazenado.\n",
      "\n",
      "Se precisar de mais alguma ajuda ou tiver outras perguntas, fique à vontade para me perguntar!\n"
     ]
    }
   ],
   "source": [
    "for step in run_steps.data[::-1]:\n",
    "    print(F\"\\n====Step {step.step_details.type}\")\n",
    "    if step.step_details.type == \"tool_calls\":\n",
    "        for tool_call in step.step_details.tool_calls:\n",
    "            print(\"=\" * 10)\n",
    "            print(tool_call.code_interpreter.input)\n",
    "            print(\"=\" * 10)\n",
    "    if step.step_details.type == \"message_creation\":\n",
    "        message = client.beta.threads.messages.retrieve(\n",
    "            thread_id=thread.id,\n",
    "            message_id=step.step_details.message_creation.message_id\n",
    "        )\n",
    "        print(message.content[0].text.value)"
   ]
  }
 ],
 "metadata": {
  "kernelspec": {
   "display_name": "Python 3",
   "language": "python",
   "name": "python3"
  },
  "language_info": {
   "codemirror_mode": {
    "name": "ipython",
    "version": 3
   },
   "file_extension": ".py",
   "mimetype": "text/x-python",
   "name": "python",
   "nbconvert_exporter": "python",
   "pygments_lexer": "ipython3",
   "version": "3.10.12"
  }
 },
 "nbformat": 4,
 "nbformat_minor": 2
}
