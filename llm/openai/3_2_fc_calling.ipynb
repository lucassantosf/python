{
 "cells": [
  {
   "cell_type": "code",
   "execution_count": 12,
   "metadata": {},
   "outputs": [],
   "source": [
    "from dotenv import load_dotenv\n",
    "import os\n",
    "import openai \n",
    "import json \n",
    "\n",
    "# Carregar variáveis do arquivo .env\n",
    "load_dotenv()\n",
    "\n",
    "# Verificar se a chave foi carregada\n",
    "api_key = os.getenv(\"OPENAI_API_KEY\")\n",
    "if not api_key:\n",
    "    raise ValueError(\"OPENAI_API_KEY não encontrada no arquivo .env\")\n",
    "\n",
    "# Configurar o cliente OpenAI com a chave carregada\n",
    "openai.api_key = api_key"
   ]
  },
  {
   "cell_type": "code",
   "execution_count": 13,
   "metadata": {},
   "outputs": [],
   "source": [
    "client = openai.Client()"
   ]
  },
  {
   "cell_type": "code",
   "execution_count": 14,
   "metadata": {},
   "outputs": [],
   "source": [
    "def calcular_imc(peso,altura):\n",
    "    imc = peso/ (altura ** 2)\n",
    "    if imc < 18.5:\n",
    "        estado = \"abaixo do peso\"\n",
    "        recomendacao = \"É importante que voce consulte um médico para ajustar sua alimentacao\" \n",
    "    elif 18.5 <= imc < 24.9:\n",
    "        estado = \"peso normal\"\n",
    "        recomendacao = \"Continuar habitos saudaveis\" \n",
    "    elif 25 <= imc < 29.9:\n",
    "        estado = \"sobrepeso\"\n",
    "        recomendacao = \"Voce pode considerar uma reavaliacao de sua dieta e fazer exercicios fisicos\" \n",
    "    else:\n",
    "        estado = \"obesidade\"\n",
    "        recomendacao = \"Altamente recomendado buscar um médido para orientacoes\" \n",
    "    return json.dumps({\n",
    "        \"imc\":imc,\n",
    "        \"estado\":estado,\n",
    "        \"recomendacao\":recomendacao\n",
    "    })"
   ]
  },
  {
   "cell_type": "code",
   "execution_count": 15,
   "metadata": {},
   "outputs": [],
   "source": [
    "tools = [\n",
    "    {\n",
    "        \"type\":\"function\",\n",
    "        \"function\":{\n",
    "            \"name\":\"calcular_imc\",\n",
    "            \"description\":\"Calcular o IMC de uma pessoa e fornecer uma recomendacao\",\n",
    "            \"parameters\":{\n",
    "                \"type\":\"object\",\n",
    "                \"properties\":{\n",
    "                    \"peso\":{\n",
    "                        \"type\":\"number\",\n",
    "                        \"description\":\"Peso da pessoa em kg\"\n",
    "                    },\n",
    "                    \"altura\":{\n",
    "                        \"type\":\"number\",\n",
    "                        \"description\":\"Altura da pessoa em metros\"\n",
    "                    }\n",
    "                },\n",
    "                \"required\":[\"peso\",\"altura\"]\n",
    "            }\n",
    "        }\n",
    "    }\n",
    "]"
   ]
  },
  {
   "cell_type": "code",
   "execution_count": 16,
   "metadata": {},
   "outputs": [],
   "source": [
    "funcao_disponivel = {\n",
    "    \"calcular_imc\": calcular_imc\n",
    "}"
   ]
  },
  {
   "cell_type": "code",
   "execution_count": 17,
   "metadata": {},
   "outputs": [],
   "source": [
    "mensagens = [{\"role\":\"user\",\"content\":\"Qual é o IMC de uma pessoa que pesa 91 kg e tem 1.75 m de altura?\"}]"
   ]
  },
  {
   "cell_type": "code",
   "execution_count": 18,
   "metadata": {},
   "outputs": [],
   "source": [
    "resposta = client.chat.completions.create(\n",
    "    messages=mensagens,\n",
    "    model=\"gpt-3.5-turbo-0125\",\n",
    "    tools=tools,\n",
    "    tool_choice=\"auto\"\n",
    ")"
   ]
  },
  {
   "cell_type": "code",
   "execution_count": 19,
   "metadata": {},
   "outputs": [
    {
     "data": {
      "text/plain": [
       "ChatCompletionMessage(content=None, refusal=None, role='assistant', audio=None, function_call=None, tool_calls=[ChatCompletionMessageToolCall(id='call_p9SlADUfbALHXJNE6fTE4WfL', function=Function(arguments='{\"peso\":91,\"altura\":1.75}', name='calcular_imc'), type='function')])"
      ]
     },
     "execution_count": 19,
     "metadata": {},
     "output_type": "execute_result"
    }
   ],
   "source": [
    "mensagem_respo = resposta.choices[0].message\n",
    "mensagem_respo"
   ]
  },
  {
   "cell_type": "code",
   "execution_count": 20,
   "metadata": {},
   "outputs": [
    {
     "data": {
      "text/plain": [
       "[ChatCompletionMessageToolCall(id='call_p9SlADUfbALHXJNE6fTE4WfL', function=Function(arguments='{\"peso\":91,\"altura\":1.75}', name='calcular_imc'), type='function')]"
      ]
     },
     "execution_count": 20,
     "metadata": {},
     "output_type": "execute_result"
    }
   ],
   "source": [
    "tools_calls = mensagem_respo.tool_calls\n",
    "tools_calls"
   ]
  },
  {
   "cell_type": "code",
   "execution_count": 21,
   "metadata": {},
   "outputs": [],
   "source": [
    "if tools_calls:\n",
    "    mensagens.append(mensagem_respo)\n",
    "    for tool_call in tools_calls:\n",
    "        function_name = tool_call.function.name \n",
    "        function_to_call = funcao_disponivel[function_name]\n",
    "        function_args = json.loads(tool_call.function.arguments)\n",
    "        function_response = function_to_call(\n",
    "            peso = function_args.get(\"peso\"),\n",
    "            altura = function_args.get(\"altura\"),\n",
    "        )\n",
    "\n",
    "        mensagens.append(\n",
    "            {\n",
    "                \"tool_call_id\":tool_call.id,\n",
    "                \"role\":\"tool\",\n",
    "                \"name\": function_name,\n",
    "                \"content\":function_response\n",
    "            }\n",
    "        )\n",
    "    \n",
    "    segunda_resposta = client.chat.completions.create(\n",
    "        model=\"gpt-3.5-turbo-0125\",\n",
    "        messages=mensagens\n",
    "    )\n"
   ]
  },
  {
   "cell_type": "code",
   "execution_count": 22,
   "metadata": {},
   "outputs": [
    {
     "data": {
      "text/plain": [
       "ChatCompletionMessage(content='O IMC (Índice de Massa Corporal) dessa pessoa é de aproximadamente 29.71, o que indica que ela está com sobrepeso. Recomenda-se uma reavaliação da dieta e a prática de exercícios físicos.', refusal=None, role='assistant', audio=None, function_call=None, tool_calls=None)"
      ]
     },
     "execution_count": 22,
     "metadata": {},
     "output_type": "execute_result"
    }
   ],
   "source": [
    "mensagem_resposta = segunda_resposta.choices[0].message\n",
    "mensagem_resposta"
   ]
  },
  {
   "cell_type": "code",
   "execution_count": null,
   "metadata": {},
   "outputs": [],
   "source": []
  }
 ],
 "metadata": {
  "kernelspec": {
   "display_name": "Python 3",
   "language": "python",
   "name": "python3"
  },
  "language_info": {
   "codemirror_mode": {
    "name": "ipython",
    "version": 3
   },
   "file_extension": ".py",
   "mimetype": "text/x-python",
   "name": "python",
   "nbconvert_exporter": "python",
   "pygments_lexer": "ipython3",
   "version": "3.10.12"
  }
 },
 "nbformat": 4,
 "nbformat_minor": 2
}
