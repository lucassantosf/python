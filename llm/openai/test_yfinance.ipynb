{
 "cells": [
  {
   "cell_type": "code",
   "execution_count": 3,
   "metadata": {},
   "outputs": [],
   "source": [
    "import yfinance as yf"
   ]
  },
  {
   "cell_type": "code",
   "execution_count": 4,
   "metadata": {},
   "outputs": [],
   "source": [
    "ticker = \"BBAS3\"\n",
    "period = \"5d\"\n",
    "ticker_obj = yf.Ticker(f\"{ticker}.SA\")"
   ]
  },
  {
   "cell_type": "code",
   "execution_count": 5,
   "metadata": {},
   "outputs": [
    {
     "data": {
      "text/plain": [
       "yfinance.Ticker object <BBAS3.SA>"
      ]
     },
     "execution_count": 5,
     "metadata": {},
     "output_type": "execute_result"
    }
   ],
   "source": [
    "ticker_obj"
   ]
  },
  {
   "cell_type": "code",
   "execution_count": 7,
   "metadata": {},
   "outputs": [
    {
     "data": {
      "text/html": [
       "<div>\n",
       "<style scoped>\n",
       "    .dataframe tbody tr th:only-of-type {\n",
       "        vertical-align: middle;\n",
       "    }\n",
       "\n",
       "    .dataframe tbody tr th {\n",
       "        vertical-align: top;\n",
       "    }\n",
       "\n",
       "    .dataframe thead th {\n",
       "        text-align: right;\n",
       "    }\n",
       "</style>\n",
       "<table border=\"1\" class=\"dataframe\">\n",
       "  <thead>\n",
       "    <tr style=\"text-align: right;\">\n",
       "      <th></th>\n",
       "      <th>Open</th>\n",
       "      <th>High</th>\n",
       "      <th>Low</th>\n",
       "      <th>Close</th>\n",
       "      <th>Volume</th>\n",
       "      <th>Dividends</th>\n",
       "      <th>Stock Splits</th>\n",
       "    </tr>\n",
       "    <tr>\n",
       "      <th>Date</th>\n",
       "      <th></th>\n",
       "      <th></th>\n",
       "      <th></th>\n",
       "      <th></th>\n",
       "      <th></th>\n",
       "      <th></th>\n",
       "      <th></th>\n",
       "    </tr>\n",
       "  </thead>\n",
       "  <tbody>\n",
       "    <tr>\n",
       "      <th>2025-01-17 00:00:00-03:00</th>\n",
       "      <td>25.440001</td>\n",
       "      <td>25.490000</td>\n",
       "      <td>25.190001</td>\n",
       "      <td>25.350000</td>\n",
       "      <td>13271300</td>\n",
       "      <td>0.0</td>\n",
       "      <td>0.0</td>\n",
       "    </tr>\n",
       "    <tr>\n",
       "      <th>2025-01-20 00:00:00-03:00</th>\n",
       "      <td>25.350000</td>\n",
       "      <td>25.600000</td>\n",
       "      <td>25.260000</td>\n",
       "      <td>25.430000</td>\n",
       "      <td>10499700</td>\n",
       "      <td>0.0</td>\n",
       "      <td>0.0</td>\n",
       "    </tr>\n",
       "    <tr>\n",
       "      <th>2025-01-21 00:00:00-03:00</th>\n",
       "      <td>25.450001</td>\n",
       "      <td>25.750000</td>\n",
       "      <td>25.450001</td>\n",
       "      <td>25.660000</td>\n",
       "      <td>10675500</td>\n",
       "      <td>0.0</td>\n",
       "      <td>0.0</td>\n",
       "    </tr>\n",
       "    <tr>\n",
       "      <th>2025-01-22 00:00:00-03:00</th>\n",
       "      <td>25.580000</td>\n",
       "      <td>26.280001</td>\n",
       "      <td>25.570000</td>\n",
       "      <td>26.129999</td>\n",
       "      <td>19236600</td>\n",
       "      <td>0.0</td>\n",
       "      <td>0.0</td>\n",
       "    </tr>\n",
       "    <tr>\n",
       "      <th>2025-01-23 00:00:00-03:00</th>\n",
       "      <td>26.240000</td>\n",
       "      <td>27.070000</td>\n",
       "      <td>26.240000</td>\n",
       "      <td>26.719999</td>\n",
       "      <td>30067700</td>\n",
       "      <td>0.0</td>\n",
       "      <td>0.0</td>\n",
       "    </tr>\n",
       "  </tbody>\n",
       "</table>\n",
       "</div>"
      ],
      "text/plain": [
       "                                Open       High        Low      Close  \\\n",
       "Date                                                                    \n",
       "2025-01-17 00:00:00-03:00  25.440001  25.490000  25.190001  25.350000   \n",
       "2025-01-20 00:00:00-03:00  25.350000  25.600000  25.260000  25.430000   \n",
       "2025-01-21 00:00:00-03:00  25.450001  25.750000  25.450001  25.660000   \n",
       "2025-01-22 00:00:00-03:00  25.580000  26.280001  25.570000  26.129999   \n",
       "2025-01-23 00:00:00-03:00  26.240000  27.070000  26.240000  26.719999   \n",
       "\n",
       "                             Volume  Dividends  Stock Splits  \n",
       "Date                                                          \n",
       "2025-01-17 00:00:00-03:00  13271300        0.0           0.0  \n",
       "2025-01-20 00:00:00-03:00  10499700        0.0           0.0  \n",
       "2025-01-21 00:00:00-03:00  10675500        0.0           0.0  \n",
       "2025-01-22 00:00:00-03:00  19236600        0.0           0.0  \n",
       "2025-01-23 00:00:00-03:00  30067700        0.0           0.0  "
      ]
     },
     "execution_count": 7,
     "metadata": {},
     "output_type": "execute_result"
    }
   ],
   "source": [
    "ticker_obj.history(period=period)"
   ]
  },
  {
   "cell_type": "code",
   "execution_count": 15,
   "metadata": {},
   "outputs": [],
   "source": [
    "def retorna_cotacao(ticker,periodo=\"1mo\"):\n",
    "    ticker_obj = yf.Ticker(f\"{ticker}.SA\")\n",
    "    hist = ticker_obj.history(period=periodo)[\"Close\"]\n",
    "    hist.index = hist.index.strftime(\"%Y-%m-%d\")\n",
    "    hist = round(hist,2)\n",
    "\n",
    "    # limitando em 30 resultados\n",
    "    if len(hist) > 30:\n",
    "        slice_size = int(len(hist) / 30)\n",
    "        hist = hist.iloc[::-slice_size][::-1]\n",
    "\n",
    "    return hist.to_json()"
   ]
  },
  {
   "cell_type": "code",
   "execution_count": 16,
   "metadata": {},
   "outputs": [
    {
     "data": {
      "text/plain": [
       "'{\"2024-01-26\":26.28,\"2024-02-07\":27.42,\"2024-02-21\":27.42,\"2024-03-04\":26.61,\"2024-03-14\":26.35,\"2024-03-26\":25.99,\"2024-04-08\":26.9,\"2024-04-18\":25.96,\"2024-04-30\":25.48,\"2024-05-13\":25.86,\"2024-05-23\":25.04,\"2024-06-05\":25.36,\"2024-06-17\":25.19,\"2024-06-27\":25.43,\"2024-07-09\":24.95,\"2024-07-19\":25.82,\"2024-07-31\":25.28,\"2024-08-12\":25.83,\"2024-08-22\":27.12,\"2024-09-03\":27.76,\"2024-09-13\":27.69,\"2024-09-25\":26.6,\"2024-10-07\":26.3,\"2024-10-17\":26.04,\"2024-10-29\":25.5,\"2024-11-08\":25.32,\"2024-11-22\":24.94,\"2024-12-04\":24.99,\"2024-12-16\":24.16,\"2024-12-30\":24.17,\"2025-01-13\":24.21,\"2025-01-23\":26.72}'"
      ]
     },
     "execution_count": 16,
     "metadata": {},
     "output_type": "execute_result"
    }
   ],
   "source": [
    "hist = retorna_cotacao(\"BBAS3\",\"1y\")\n",
    "hist"
   ]
  }
 ],
 "metadata": {
  "kernelspec": {
   "display_name": "Python 3",
   "language": "python",
   "name": "python3"
  },
  "language_info": {
   "codemirror_mode": {
    "name": "ipython",
    "version": 3
   },
   "file_extension": ".py",
   "mimetype": "text/x-python",
   "name": "python",
   "nbconvert_exporter": "python",
   "pygments_lexer": "ipython3",
   "version": "3.10.12"
  }
 },
 "nbformat": 4,
 "nbformat_minor": 2
}
