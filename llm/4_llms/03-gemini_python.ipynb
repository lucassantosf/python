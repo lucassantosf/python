{
 "cells": [
  {
   "cell_type": "code",
   "execution_count": 1,
   "metadata": {},
   "outputs": [
    {
     "data": {
      "text/plain": [
       "True"
      ]
     },
     "execution_count": 1,
     "metadata": {},
     "output_type": "execute_result"
    }
   ],
   "source": [
    "from dotenv import load_dotenv, find_dotenv\n",
    "load_dotenv(find_dotenv())"
   ]
  },
  {
   "cell_type": "code",
   "execution_count": 2,
   "metadata": {},
   "outputs": [],
   "source": [
    "import os\n",
    "api_key = os.environ.get(\"GEMINI_API_KEY\")"
   ]
  },
  {
   "cell_type": "code",
   "execution_count": 3,
   "metadata": {},
   "outputs": [],
   "source": [
    "import google.generativeai as genai\n",
    "genai.configure(api_key=api_key)"
   ]
  },
  {
   "cell_type": "code",
   "execution_count": 4,
   "metadata": {},
   "outputs": [],
   "source": [
    "model = genai.GenerativeModel(\"gemini-1.5-flash\")\n",
    "response = model.generate_content(\"Qual dica você recomenda para ter uma vida boa?\")"
   ]
  },
  {
   "cell_type": "code",
   "execution_count": 5,
   "metadata": {},
   "outputs": [
    {
     "data": {
      "text/plain": [
       "response:\n",
       "GenerateContentResponse(\n",
       "    done=True,\n",
       "    iterator=None,\n",
       "    result=glm.GenerateContentResponse({\n",
       "      \"candidates\": [\n",
       "        {\n",
       "          \"content\": {\n",
       "            \"parts\": [\n",
       "              {\n",
       "                \"text\": \"A melhor dica para ter uma vida boa \\u00e9 **cultivar relacionamentos significativos e investir em seu crescimento pessoal.**\\n\\nIsso abrange diversos aspectos, mas se resume a focar em:\\n\\n* **Conex\\u00f5es genu\\u00ednas:**  Construir e manter rela\\u00e7\\u00f5es fortes com amigos, familiares e parceiros.  Isso envolve comunica\\u00e7\\u00e3o aberta, empatia, apoio m\\u00fatuo e tempo de qualidade.  A solid\\u00e3o \\u00e9 prejudicial \\u00e0 sa\\u00fade mental e f\\u00edsica.\\n\\n* **Autoconhecimento:**  Entender seus valores, suas paix\\u00f5es, suas for\\u00e7as e fraquezas.  Isso permite que voc\\u00ea tome decis\\u00f5es alinhadas com quem voc\\u00ea \\u00e9 e o que te faz feliz.  Terapia, medita\\u00e7\\u00e3o ou journaling podem ajudar neste processo.\\n\\n* **Desenvolvimento cont\\u00ednuo:**  Buscar aprender coisas novas, desenvolver habilidades e crescer pessoal e profissionalmente.  Isso pode ser atrav\\u00e9s de cursos, leituras, novas experi\\u00eancias ou simplesmente a disposi\\u00e7\\u00e3o para aprender com os erros.\\n\\n* **Cuidar da sa\\u00fade f\\u00edsica e mental:**  Priorizar o sono, a alimenta\\u00e7\\u00e3o equilibrada, o exerc\\u00edcio f\\u00edsico e a gest\\u00e3o do estresse.  Isso forma a base para uma vida plena e produtiva.\\n\\n* **Contribuir para algo maior:**  Encontrar um prop\\u00f3sito e contribuir para algo que te d\\u00ea significado, seja atrav\\u00e9s do voluntariado, do trabalho ou de qualquer outra atividade que te fa\\u00e7a sentir conectado a algo maior que voc\\u00ea.\\n\\nN\\u00e3o existe uma f\\u00f3rmula m\\u00e1gica, mas focar nesses pontos te dar\\u00e1 um forte alicerce para construir uma vida que voc\\u00ea considera boa, com base em seus pr\\u00f3prios valores e defini\\u00e7\\u00f5es de felicidade.\\n\"\n",
       "              }\n",
       "            ],\n",
       "            \"role\": \"model\"\n",
       "          },\n",
       "          \"finish_reason\": 1,\n",
       "          \"safety_ratings\": [],\n",
       "          \"token_count\": 0,\n",
       "          \"grounding_attributions\": []\n",
       "        }\n",
       "      ],\n",
       "      \"usage_metadata\": {\n",
       "        \"prompt_token_count\": 10,\n",
       "        \"candidates_token_count\": 329,\n",
       "        \"total_token_count\": 339\n",
       "      }\n",
       "    }),\n",
       ")"
      ]
     },
     "execution_count": 5,
     "metadata": {},
     "output_type": "execute_result"
    }
   ],
   "source": [
    "response"
   ]
  },
  {
   "cell_type": "code",
   "execution_count": 6,
   "metadata": {},
   "outputs": [],
   "source": [
    "import textwrap\n",
    "\n",
    "def format_text(response):\n",
    "    text = response\n",
    "    text_formatted = textwrap.fill(text, width=100)\n",
    "    print(text_formatted)"
   ]
  },
  {
   "cell_type": "code",
   "execution_count": 7,
   "metadata": {},
   "outputs": [
    {
     "name": "stdout",
     "output_type": "stream",
     "text": [
      "A melhor dica para ter uma vida boa é **cultivar relacionamentos significativos e investir em seu\n",
      "crescimento pessoal.**  Isso abrange diversos aspectos, mas se resume a focar em:  * **Conexões\n",
      "genuínas:**  Construir e manter relações fortes com amigos, familiares e parceiros.  Isso envolve\n",
      "comunicação aberta, empatia, apoio mútuo e tempo de qualidade.  A solidão é prejudicial à saúde\n",
      "mental e física.  * **Autoconhecimento:**  Entender seus valores, suas paixões, suas forças e\n",
      "fraquezas.  Isso permite que você tome decisões alinhadas com quem você é e o que te faz feliz.\n",
      "Terapia, meditação ou journaling podem ajudar neste processo.  * **Desenvolvimento contínuo:**\n",
      "Buscar aprender coisas novas, desenvolver habilidades e crescer pessoal e profissionalmente.  Isso\n",
      "pode ser através de cursos, leituras, novas experiências ou simplesmente a disposição para aprender\n",
      "com os erros.  * **Cuidar da saúde física e mental:**  Priorizar o sono, a alimentação equilibrada,\n",
      "o exercício físico e a gestão do estresse.  Isso forma a base para uma vida plena e produtiva.  *\n",
      "**Contribuir para algo maior:**  Encontrar um propósito e contribuir para algo que te dê\n",
      "significado, seja através do voluntariado, do trabalho ou de qualquer outra atividade que te faça\n",
      "sentir conectado a algo maior que você.  Não existe uma fórmula mágica, mas focar nesses pontos te\n",
      "dará um forte alicerce para construir uma vida que você considera boa, com base em seus próprios\n",
      "valores e definições de felicidade.\n"
     ]
    }
   ],
   "source": [
    "format_text(response.text)"
   ]
  },
  {
   "cell_type": "markdown",
   "metadata": {},
   "source": [
    "### Stream"
   ]
  },
  {
   "cell_type": "code",
   "execution_count": 8,
   "metadata": {},
   "outputs": [
    {
     "name": "stdout",
     "output_type": "stream",
     "text": [
      "Não há uma resposta única e universal para a pergunta \"Qual o sentido da vida?\".  A busca pelo sentido da vida é uma questão profundamente pessoal e filosófica, e a resposta varia de pessoa para pessoa, dependendo de suas crenças, valores, experiências e perspectivas.\n",
      "\n",
      "Algumas pessoas encontram sentido na:\n",
      "\n",
      "* **Contribuição para a sociedade:**  Através do trabalho, da filantropia, do ativismo ou simplesmente ajudando os outros.\n",
      "* **Criação e expressão:**  Através da arte, da música, da escrita, da ciência ou de qualquer outra forma de expressão criativa.\n",
      "* **Conexão com os outros:**  Através de relacionamentos amorosos, amizades, família e comunidade.\n",
      "* **Autoconhecimento e crescimento pessoal:**  Através da meditação, da terapia, da aprendizagem contínua e do desenvolvimento de habilidades.\n",
      "* **Experiência e aventura:**  Através de viagens, esportes, desafios e exploração.\n",
      "* **Espiritualidade e fé:**  Através da conexão com algo maior do que si mesmo, seja uma divindade, a natureza ou um propósito cósmico.\n",
      "\n",
      "\n",
      "Em suma, o sentido da vida não é algo que se descobre, mas sim algo que se **cria**.  É uma jornada individual de autodescoberta e construção de significado, que pode evoluir e mudar ao longo da vida.  Não existe uma resposta certa ou errada; a única resposta válida é a que faz sentido para você.\n"
     ]
    }
   ],
   "source": [
    "stream = model.generate_content(\"QUal o sentido da vida?\", stream=True)\n",
    "\n",
    "complete_response = \"\"\n",
    "for chunck in stream:\n",
    "    print(chunck.text, end=\"\", flush=True)\n",
    "    complete_response += chunck.text"
   ]
  },
  {
   "cell_type": "markdown",
   "metadata": {},
   "source": [
    "### Imagens"
   ]
  },
  {
   "cell_type": "code",
   "execution_count": 11,
   "metadata": {},
   "outputs": [
    {
     "name": "stdout",
     "output_type": "stream",
     "text": [
      "Esta imagem apresenta um panorama abrangente do horizonte de Londres em um dia nublado.\n",
      "\n",
      "O primeiro plano consiste em uma série de prédios baixos com telhados variados, alguns planos de metal e outros de telhas angulares tradicionais. Árvores verdes exuberantes pontilham esta área, adicionando um toque de natureza ao cenário urbano. Uma rua serpenteia entre os edifícios, com ônibus vermelhos de dois andares que são um símbolo de Londres, visíveis em meio ao tráfego que se move ao longo dela.\n",
      "\n",
      "No plano intermediário, marcos icônicos assumem o palco. O Palácio de Westminster, com a icônica Torre do Relógio (comumente chamada de Big Ben), destaca-se pela arquitetura dourada ornamentada. À sua esquerda, o London Eye, uma grande roda-gigante, ergue-se contra o céu nublado, proporcionando um contraste moderno com a grandeza histórica do Parlamento. Entre essas duas estruturas, uma variedade de edifícios preenche o horizonte, exibindo uma mistura de estilos arquitetônicos. À direita do Parlamento, outras estruturas governamentais e edifícios históricos contribuem para o denso cenário urbano.\n",
      "\n",
      "Ao fundo, o horizonte de Londres se estende para a distância. Edifícios altos modernos, como o Shard, são visíveis, pontuando o perfil da cidade. Guindastes são avistados no horizonte, indicando construção e desenvolvimento contínuos. A cobertura de nuvens predominantemente escura e temperamental adiciona uma aura dramática à cena, com a luz quebrando em certos pontos, criando jogo de luz e sombra na paisagem urbana.\n",
      "\n",
      "A imagem parece ter sido tirada de um ponto de vista elevado, oferecendo uma visão panorâmica desta metrópole movimentada.\n"
     ]
    }
   ],
   "source": [
    "import httpx\n",
    "import os\n",
    "import base64\n",
    "\n",
    "model = genai.GenerativeModel(model_name=\"gemini-1.5-pro\")\n",
    "image_path = \"https://upload.wikimedia.org/wikipedia/commons/thumb/8/87/Palace_of_Westminster_from_the_dome_on_Methodist_Central_Hall.jpg/2560px-Palace_of_Westminster_from_the_dome_on_Methodist_Central_Hall.jpg\"\n",
    "image = httpx.get(image_path)\n",
    "\n",
    "prompt = \"Descreva a imagem para mim\"\n",
    "response = model.generate_content([\n",
    "    {\"mime_type\": \"image/jpeg\",\n",
    "     \"data\": base64.b64encode(image.content).decode(\"utf-8\")},\n",
    "    prompt\n",
    "])\n",
    "print(response.text)"
   ]
  },
  {
   "cell_type": "markdown",
   "metadata": {},
   "source": [
    "### Histórico da Conversa"
   ]
  },
  {
   "cell_type": "code",
   "execution_count": 12,
   "metadata": {},
   "outputs": [
    {
     "name": "stdout",
     "output_type": "stream",
     "text": [
      "Imagine que você tem um monte de livros, mas precisa encontrar a resposta para uma pergunta\n",
      "específica.  Seria muito demorado ler todos os livros, certo?  LangChain é como um ajudante super\n",
      "inteligente que pode ler todos esses livros (ou websites, ou qualquer texto!) muito rápido e te dar\n",
      "a resposta que você precisa.  Ele é bom em:  * **Ler e entender muitas coisas de uma vez:** Ele pode\n",
      "ler muitos livros diferentes ao mesmo tempo e lembrar o que cada um diz. * **Responder suas\n",
      "perguntas usando o que ele leu:** Se você perguntar \"Quem escreveu a história de Chapeuzinho\n",
      "Vermelho?\", ele pode procurar em seus \"livros\" e te dizer. * **Juntar informações de lugares\n",
      "diferentes:** Ele pode ler um livro sobre lobos e outro sobre meninas e, se você perguntar sobre\n",
      "Chapeuzinho Vermelho, ele consegue juntar as informações dos dois livros para te dar uma resposta\n",
      "completa.  Então, LangChain é como uma biblioteca mágica que não só guarda muitos livros, mas também\n",
      "consegue ler, entender e responder suas perguntas sobre o conteúdo deles de forma rápida e\n",
      "inteligente!  Ele é uma ferramenta poderosa que ajuda os computadores a entender e usar informações\n",
      "de texto.\n"
     ]
    }
   ],
   "source": [
    "model = genai.GenerativeModel(\"gemini-1.5-flash\")\n",
    "chat = model.start_chat(history=[])\n",
    "response = chat.send_message(\"Explique o que é LangChain para uma criança\")\n",
    "format_text(response.text)"
   ]
  },
  {
   "cell_type": "code",
   "execution_count": 13,
   "metadata": {},
   "outputs": [
    {
     "data": {
      "text/plain": [
       "[parts {\n",
       "   text: \"Explique o que \\303\\251 LangChain para uma crian\\303\\247a\"\n",
       " }\n",
       " role: \"user\",\n",
       " parts {\n",
       "   text: \"Imagine que voc\\303\\252 tem um monte de livros, mas precisa encontrar a resposta para uma pergunta espec\\303\\255fica.  Seria muito demorado ler todos os livros, certo?\\n\\nLangChain \\303\\251 como um ajudante super inteligente que pode ler todos esses livros (ou websites, ou qualquer texto!) muito r\\303\\241pido e te dar a resposta que voc\\303\\252 precisa.  Ele \\303\\251 bom em:\\n\\n* **Ler e entender muitas coisas de uma vez:** Ele pode ler muitos livros diferentes ao mesmo tempo e lembrar o que cada um diz.\\n* **Responder suas perguntas usando o que ele leu:** Se voc\\303\\252 perguntar \\\"Quem escreveu a hist\\303\\263ria de Chapeuzinho Vermelho?\\\", ele pode procurar em seus \\\"livros\\\" e te dizer.\\n* **Juntar informa\\303\\247\\303\\265es de lugares diferentes:** Ele pode ler um livro sobre lobos e outro sobre meninas e, se voc\\303\\252 perguntar sobre Chapeuzinho Vermelho, ele consegue juntar as informa\\303\\247\\303\\265es dos dois livros para te dar uma resposta completa.\\n\\nEnt\\303\\243o, LangChain \\303\\251 como uma biblioteca m\\303\\241gica que n\\303\\243o s\\303\\263 guarda muitos livros, mas tamb\\303\\251m consegue ler, entender e responder suas perguntas sobre o conte\\303\\272do deles de forma r\\303\\241pida e inteligente!  Ele \\303\\251 uma ferramenta poderosa que ajuda os computadores a entender e usar informa\\303\\247\\303\\265es de texto.\\n\"\n",
       " }\n",
       " role: \"model\"]"
      ]
     },
     "execution_count": 13,
     "metadata": {},
     "output_type": "execute_result"
    }
   ],
   "source": [
    "chat.history"
   ]
  },
  {
   "cell_type": "code",
   "execution_count": 14,
   "metadata": {},
   "outputs": [
    {
     "name": "stdout",
     "output_type": "stream",
     "text": [
      "LangChain é um framework para o desenvolvimento de aplicações baseadas em modelos de linguagem\n",
      "grandes (LLMs).  Em vez de simplesmente usar um LLM como um chatbot independente, LangChain permite\n",
      "conectar o LLM a outras fontes de dados e funcionalidades, criando aplicações mais complexas e\n",
      "úteis.  Ele atua como uma estrutura modular, permitindo a criação de pipelines de processamento de\n",
      "informação que vão além das capacidades de um único LLM.  Suas principais funcionalidades incluem:\n",
      "* **Cadeias de pensamento (Chains):**  Permitem sequenciar múltiplos LLMs ou outras ferramentas,\n",
      "criando um fluxo de trabalho para resolver tarefas mais complexas que exigem múltiplas etapas.  Por\n",
      "exemplo, uma chain pode primeiro resumir um documento, depois extrair informações relevantes e\n",
      "finalmente gerar uma resposta concisa.  * **Memória (Memory):** Permite que as aplicações mantenham\n",
      "o contexto de uma conversa ou interação ao longo do tempo, evitando a necessidade de repetir\n",
      "informações repetidamente.  Diferentes tipos de memória permitem o gerenciamento de histórico de\n",
      "conversas de maneiras variadas.  * **Indexação de documentos (Indexes):**  Facilita a integração de\n",
      "LLMs com grandes bases de dados de texto, permitindo que o LLM busque e processe informações\n",
      "relevantes para responder perguntas ou gerar texto contextualmente apropriado.  Isso permite criar\n",
      "aplicações de Q&A baseadas em documentos internos.  * **Agents:**  Possibilitam que o LLM escolha\n",
      "quais ferramentas usar (ex: calculadora, busca na web) para responder a uma pergunta.  Isso amplia\n",
      "significativamente as capacidades do LLM, permitindo-lhe ir além de suas capacidades internas.  *\n",
      "**Modularidade:** O design modular de LangChain permite que desenvolvedores facilmente troquem\n",
      "componentes, experimentando com diferentes LLMs, modelos de memória e ferramentas, para otimizar o\n",
      "desempenho de suas aplicações.  Em resumo, LangChain é uma ferramenta poderosa que simplifica o\n",
      "processo de construção de aplicações complexas e inteligentes baseadas em LLMs, expandindo suas\n",
      "capacidades para além da geração de texto simples e possibilitando a criação de sistemas mais\n",
      "robustos e adaptáveis.  Ele é especialmente útil para aplicações que necessitam de acesso e\n",
      "processamento de informações externas ao próprio LLM.\n"
     ]
    }
   ],
   "source": [
    "response = chat.send_message(\"Agora explique para um adulto\")\n",
    "format_text(response.text)"
   ]
  },
  {
   "cell_type": "code",
   "execution_count": 15,
   "metadata": {},
   "outputs": [
    {
     "data": {
      "text/plain": [
       "[parts {\n",
       "   text: \"Explique o que \\303\\251 LangChain para uma crian\\303\\247a\"\n",
       " }\n",
       " role: \"user\",\n",
       " parts {\n",
       "   text: \"Imagine que voc\\303\\252 tem um monte de livros, mas precisa encontrar a resposta para uma pergunta espec\\303\\255fica.  Seria muito demorado ler todos os livros, certo?\\n\\nLangChain \\303\\251 como um ajudante super inteligente que pode ler todos esses livros (ou websites, ou qualquer texto!) muito r\\303\\241pido e te dar a resposta que voc\\303\\252 precisa.  Ele \\303\\251 bom em:\\n\\n* **Ler e entender muitas coisas de uma vez:** Ele pode ler muitos livros diferentes ao mesmo tempo e lembrar o que cada um diz.\\n* **Responder suas perguntas usando o que ele leu:** Se voc\\303\\252 perguntar \\\"Quem escreveu a hist\\303\\263ria de Chapeuzinho Vermelho?\\\", ele pode procurar em seus \\\"livros\\\" e te dizer.\\n* **Juntar informa\\303\\247\\303\\265es de lugares diferentes:** Ele pode ler um livro sobre lobos e outro sobre meninas e, se voc\\303\\252 perguntar sobre Chapeuzinho Vermelho, ele consegue juntar as informa\\303\\247\\303\\265es dos dois livros para te dar uma resposta completa.\\n\\nEnt\\303\\243o, LangChain \\303\\251 como uma biblioteca m\\303\\241gica que n\\303\\243o s\\303\\263 guarda muitos livros, mas tamb\\303\\251m consegue ler, entender e responder suas perguntas sobre o conte\\303\\272do deles de forma r\\303\\241pida e inteligente!  Ele \\303\\251 uma ferramenta poderosa que ajuda os computadores a entender e usar informa\\303\\247\\303\\265es de texto.\\n\"\n",
       " }\n",
       " role: \"model\",\n",
       " parts {\n",
       "   text: \"Agora explique para um adulto\"\n",
       " }\n",
       " role: \"user\",\n",
       " parts {\n",
       "   text: \"LangChain \\303\\251 um framework para o desenvolvimento de aplica\\303\\247\\303\\265es baseadas em modelos de linguagem grandes (LLMs).  Em vez de simplesmente usar um LLM como um chatbot independente, LangChain permite conectar o LLM a outras fontes de dados e funcionalidades, criando aplica\\303\\247\\303\\265es mais complexas e \\303\\272teis.  Ele atua como uma estrutura modular, permitindo a cria\\303\\247\\303\\243o de pipelines de processamento de informa\\303\\247\\303\\243o que v\\303\\243o al\\303\\251m das capacidades de um \\303\\272nico LLM.\\n\\nSuas principais funcionalidades incluem:\\n\\n* **Cadeias de pensamento (Chains):**  Permitem sequenciar m\\303\\272ltiplos LLMs ou outras ferramentas, criando um fluxo de trabalho para resolver tarefas mais complexas que exigem m\\303\\272ltiplas etapas.  Por exemplo, uma chain pode primeiro resumir um documento, depois extrair informa\\303\\247\\303\\265es relevantes e finalmente gerar uma resposta concisa.\\n\\n* **Mem\\303\\263ria (Memory):** Permite que as aplica\\303\\247\\303\\265es mantenham o contexto de uma conversa ou intera\\303\\247\\303\\243o ao longo do tempo, evitando a necessidade de repetir informa\\303\\247\\303\\265es repetidamente.  Diferentes tipos de mem\\303\\263ria permitem o gerenciamento de hist\\303\\263rico de conversas de maneiras variadas.\\n\\n* **Indexa\\303\\247\\303\\243o de documentos (Indexes):**  Facilita a integra\\303\\247\\303\\243o de LLMs com grandes bases de dados de texto, permitindo que o LLM busque e processe informa\\303\\247\\303\\265es relevantes para responder perguntas ou gerar texto contextualmente apropriado.  Isso permite criar aplica\\303\\247\\303\\265es de Q&A baseadas em documentos internos.\\n\\n* **Agents:**  Possibilitam que o LLM escolha quais ferramentas usar (ex: calculadora, busca na web) para responder a uma pergunta.  Isso amplia significativamente as capacidades do LLM, permitindo-lhe ir al\\303\\251m de suas capacidades internas.\\n\\n* **Modularidade:** O design modular de LangChain permite que desenvolvedores facilmente troquem componentes, experimentando com diferentes LLMs, modelos de mem\\303\\263ria e ferramentas, para otimizar o desempenho de suas aplica\\303\\247\\303\\265es.\\n\\nEm resumo, LangChain \\303\\251 uma ferramenta poderosa que simplifica o processo de constru\\303\\247\\303\\243o de aplica\\303\\247\\303\\265es complexas e inteligentes baseadas em LLMs, expandindo suas capacidades para al\\303\\251m da gera\\303\\247\\303\\243o de texto simples e possibilitando a cria\\303\\247\\303\\243o de sistemas mais robustos e adapt\\303\\241veis.  Ele \\303\\251 especialmente \\303\\272til para aplica\\303\\247\\303\\265es que necessitam de acesso e processamento de informa\\303\\247\\303\\265es externas ao pr\\303\\263prio LLM.\\n\"\n",
       " }\n",
       " role: \"model\"]"
      ]
     },
     "execution_count": 15,
     "metadata": {},
     "output_type": "execute_result"
    }
   ],
   "source": [
    "chat.history"
   ]
  }
 ],
 "metadata": {
  "kernelspec": {
   "display_name": "base",
   "language": "python",
   "name": "python3"
  },
  "language_info": {
   "codemirror_mode": {
    "name": "ipython",
    "version": 3
   },
   "file_extension": ".py",
   "mimetype": "text/x-python",
   "name": "python",
   "nbconvert_exporter": "python",
   "pygments_lexer": "ipython3",
   "version": "3.12.2"
  }
 },
 "nbformat": 4,
 "nbformat_minor": 2
}
