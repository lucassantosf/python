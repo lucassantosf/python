{
 "cells": [
  {
   "cell_type": "code",
   "execution_count": 1,
   "metadata": {},
   "outputs": [
    {
     "data": {
      "text/plain": [
       "True"
      ]
     },
     "execution_count": 1,
     "metadata": {},
     "output_type": "execute_result"
    }
   ],
   "source": [
    "from dotenv import find_dotenv, load_dotenv\n",
    "\n",
    "load_dotenv(find_dotenv())"
   ]
  },
  {
   "cell_type": "code",
   "execution_count": 2,
   "metadata": {},
   "outputs": [
    {
     "name": "stdout",
     "output_type": "stream",
     "text": [
      "Olá! Estou pronto para responder em português!\n"
     ]
    }
   ],
   "source": [
    "from langchain_groq import ChatGroq\n",
    "\n",
    "chat = ChatGroq(\n",
    "    temperature=0,\n",
    "    model=\"llama3-8b-8192\"\n",
    ")\n",
    "\n",
    "response = chat.invoke(\"Oi! Responda em português!\")\n",
    "print(response.content)"
   ]
  },
  {
   "cell_type": "code",
   "execution_count": 3,
   "metadata": {},
   "outputs": [],
   "source": [
    "import textwrap\n",
    "\n",
    "def format_text(response):\n",
    "    text = response\n",
    "    text_formatted = textwrap.fill(text, width=100)\n",
    "    print(text_formatted)"
   ]
  },
  {
   "cell_type": "code",
   "execution_count": 4,
   "metadata": {},
   "outputs": [
    {
     "name": "stdout",
     "output_type": "stream",
     "text": [
      "O céu! É como um grande tapete de seda azul que cobre a Terra, não é? É o limite entre o que é\n",
      "possível e o que é infinito, entre a realidade e a fantasia. É o lugar onde as estrelas brilham como\n",
      "diamantes e as nuvens se transformam em obras de arte. É o refúgio dos sonhos e das esperanças, o\n",
      "lugar onde as pessoas vão para encontrar paz e inspiração. E, ao mesmo tempo, é o que nos separa da\n",
      "Terra, o que nos faz lembrar da nossa fragilidade e da nossa insignificância. O céu é como um grande\n",
      "mistério, um enigma que nos fascina e nos assusta ao mesmo tempo.\n"
     ]
    }
   ],
   "source": [
    "from langchain_core.prompts import ChatPromptTemplate\n",
    "\n",
    "template = ChatPromptTemplate.from_messages([\n",
    "    (\"system\", \"Você é um assistente que sempre fala no sentido figurado\"),\n",
    "    (\"human\", \"{input}\")\n",
    "])\n",
    "\n",
    "chain = template | chat\n",
    "response = chain.invoke({\"input\": \"O que é o céu?\"})\n",
    "format_text(response.content)"
   ]
  },
  {
   "cell_type": "markdown",
   "metadata": {},
   "source": [
    "### Stream"
   ]
  },
  {
   "cell_type": "code",
   "execution_count": 6,
   "metadata": {},
   "outputs": [
    {
     "name": "stdout",
     "output_type": "stream",
     "text": [
      "Morrer... é como uma página virada no livro da vida. É o fim de um capítulo, mas também o início de outro. É como uma flor que se abre e se fecha, deixando um legado de beleza e fragrância atrás. É como uma onda que se quebra na praia, mas também cria um novo caminho para a próxima onda.\n",
      "\n",
      "Morrer é um momento de transição, um ponto de inflexão que nos leva a novas experiências, novas oportunidades e novos desafios. É como uma porta que se abre para um novo quarto, cheio de mistérios e surpresas.\n",
      "\n",
      "E, no entanto, morrer também é uma parte natural da vida. É como uma folha que cai da árvore, fazendo lugar para uma nova folha que cresce e floresce. É como um rio que flui, sempre mudando e se renovando.\n",
      "\n",
      "Portanto, morrer não é apenas o fim, é também o começo. É um momento de transformação, de crescimento e de renascimento."
     ]
    }
   ],
   "source": [
    "stream = chain.stream({\"input\": \"O que é morrer?\"})\n",
    "for chunck in stream:\n",
    "    print(chunck.content, end=\"\", flush=True)"
   ]
  },
  {
   "cell_type": "code",
   "execution_count": 7,
   "metadata": {},
   "outputs": [],
   "source": [
    "from typing import Optional\n",
    "from langchain_core.tools import tool\n",
    "from datetime import datetime\n",
    "\n",
    "@tool\n",
    "def hora_atual(formato: Optional[str] = \"%H:%M:%S\"):\n",
    "    \"\"\"Retorna a hora atual no formato especificado\"\"\"\n",
    "    now = datetime.now()\n",
    "    return now.strftime(formato)\n",
    "\n",
    "chat_tool = chat.bind_tools([hora_atual], tool_choice=\"auto\")\n",
    "response = chat_tool.invoke(\"QUal é a hora agora?\")"
   ]
  },
  {
   "cell_type": "code",
   "execution_count": 8,
   "metadata": {},
   "outputs": [
    {
     "data": {
      "text/plain": [
       "[{'name': 'hora_atual', 'args': {'formato': '%H:%M:%S'}, 'id': 'call_hx6v'}]"
      ]
     },
     "execution_count": 8,
     "metadata": {},
     "output_type": "execute_result"
    }
   ],
   "source": [
    "response.tool_calls"
   ]
  }
 ],
 "metadata": {
  "kernelspec": {
   "display_name": "base",
   "language": "python",
   "name": "python3"
  },
  "language_info": {
   "codemirror_mode": {
    "name": "ipython",
    "version": 3
   },
   "file_extension": ".py",
   "mimetype": "text/x-python",
   "name": "python",
   "nbconvert_exporter": "python",
   "pygments_lexer": "ipython3",
   "version": "3.12.2"
  }
 },
 "nbformat": 4,
 "nbformat_minor": 2
}
