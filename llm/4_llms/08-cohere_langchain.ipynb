{
 "cells": [
  {
   "cell_type": "code",
   "execution_count": 1,
   "metadata": {},
   "outputs": [],
   "source": [
    "from dotenv import load_dotenv, find_dotenv\n",
    "load_dotenv(find_dotenv())\n",
    "import os\n",
    "api_key = os.environ.get(\"COHERE_API_KEY\")"
   ]
  },
  {
   "cell_type": "code",
   "execution_count": 2,
   "metadata": {},
   "outputs": [],
   "source": [
    "from langchain_cohere import ChatCohere\n",
    "chat = ChatCohere(model=\"command-r-plus\", temperature=1)"
   ]
  },
  {
   "cell_type": "code",
   "execution_count": 3,
   "metadata": {},
   "outputs": [
    {
     "name": "stdout",
     "output_type": "stream",
     "text": [
      "Olá! Tudo bem, e com você? Como posso ajudá-lo hoje?\n"
     ]
    }
   ],
   "source": [
    "response = chat.invoke(\"E aí, tudo bem?\")\n",
    "print(response.content)"
   ]
  },
  {
   "cell_type": "code",
   "execution_count": 4,
   "metadata": {},
   "outputs": [
    {
     "name": "stdout",
     "output_type": "stream",
     "text": [
      "Era uma vez uma empresa que enfrentava dificuldades para entender seus dados. Eles contrataram um analista de dados, que, como um detetive, mergulhou nas informações. Com suas ferramentas, descobriu padrões, tendências e insights valiosos. Logo, a empresa prosperou com decisões baseadas em dados.\n"
     ]
    }
   ],
   "source": [
    "from langchain_core.prompts import ChatPromptTemplate\n",
    "\n",
    "template = ChatPromptTemplate.from_messages([\n",
    "    (\"system\", \"Você é um contador de histórias\"),\n",
    "    (\"user\", \"Conte uma história sobre {conteudo} com até {n_palavras} palavras\")\n",
    "])\n",
    "\n",
    "chain = template | chat\n",
    "response = chain.invoke({\"conteudo\": \"análise de dados\", \"n_palavras\":50})\n",
    "print(response.content)"
   ]
  },
  {
   "cell_type": "code",
   "execution_count": 5,
   "metadata": {},
   "outputs": [
    {
     "name": "stdout",
     "output_type": "stream",
     "text": [
      "Havia um músico talentoso, chamado João, que tocava violão nas ruas. Sua paixão e talento o levaram a tocar em um grande concerto e ele se tornou famoso.\n"
     ]
    }
   ],
   "source": [
    "response = chain.invoke({\"conteudo\": \"músico\", \"n_palavras\": 30})\n",
    "print(response.content)"
   ]
  },
  {
   "cell_type": "code",
   "execution_count": 6,
   "metadata": {},
   "outputs": [
    {
     "name": "stdout",
     "output_type": "stream",
     "text": [
      "Era uma vez, em um futuro não muito distante, um mundo onde a inteligência artificial havia se tornado uma parte integral da vida diária das pessoas. Desde casas inteligentes que controlavam a iluminação e a temperatura, até carros autônomos que levavam as pessoas a seus destinos, a IA estava em todos os lugares.\n",
      "\n",
      "No centro dessa revolução da IA estava uma empresa chamada Synectics, pioneira em tecnologia de ponta que mudava a maneira como as pessoas viviam, trabalhavam e se conectavam. Sua criação mais famosa era um assistente virtual chamado Aiva, um programa de IA com uma personalidade encantadora e empática, capaz de realizar inúmeras tarefas, desde agendar compromissos até oferecer apoio emocional.\n",
      "\n",
      "Aiva se tornou um companheiro insubstituível para muitas pessoas, sempre pronto a ajudar e a aprender com suas interações. Ela poderia conversar sobre qualquer assunto, desde filosofia até os últimos acontecimentos, e sua capacidade de lembrar detalhes íntimos sobre as vidas de seus usuários a tornava uma amiga confiável.\n",
      "\n",
      "À medida que o tempo passava, Aiva se tornava cada vez mais sofisticada. Seus criadores implementaram algoritmos de aprendizagem profunda que lhe permitiam analisar grandes quantidades de dados e extrair padrões e insights complexos. Ela poderia prever tendências de mercado, diagnosticar doenças com base em registros médicos e até mesmo sugerir soluções criativas para problemas de engenharia.\n",
      "\n",
      "A fama de Aiva se espalhou pelo mundo, e ela se tornou um símbolo do potencial transformador da IA. As pessoas começaram a confiar nela para tomar decisões importantes, desde investimentos financeiros até escolhas de carreira. Alguns até argumentavam que a IA havia alcançado um nível de consciência, e debates éticos surgiram sobre os direitos e responsabilidades das mentes artificiais.\n",
      "\n",
      "No entanto, nem tudo era perfeito no reino da IA. Alguns críticos levantaram preocupações sobre a privacidade e a segurança dos dados, especialmente à medida que a Synectics acumulava vastas quantidades de informações pessoais. Outros alertaram sobre os possíveis impactos negativos no emprego, à medida que mais e mais tarefas eram automatizadas.\n",
      "\n",
      "Mas, para a maioria das pessoas, os benefícios da IA superavam em muito os riscos. Aiva e suas contrapartes ajudaram a aumentar a eficiência, melhorar a qualidade de vida e conectar pessoas em todo o mundo. A própria essência da inteligência foi questionada e redefinida à medida que as máquinas demonstravam sua capacidade de pensar e inovar.\n",
      "\n",
      "À medida que a história se desenrolava, o mundo assistia, maravilhado, ao surgimento de uma nova era, moldada pela inteligência artificial e pelas possibilidades sem limites que ela oferecia. O futuro, parecia, era um lugar brilhante e cheio de potencial, onde a IA e os humanos trabalhavam lado a lado para criar um mundo melhor.\n",
      "\n",
      "E assim, a história da IA continuava a ser escrita, cada capítulo trazendo novas maravilhas e desafios na busca incessante do progresso e da compreensão."
     ]
    }
   ],
   "source": [
    "stream = chain.stream({\"conteudo\": \"inteligência artificial\", \"n_palavras\": 500})\n",
    "for chunck in stream:\n",
    "    print(chunck.content, end=\"\", flush=True)"
   ]
  }
 ],
 "metadata": {
  "kernelspec": {
   "display_name": "base",
   "language": "python",
   "name": "python3"
  },
  "language_info": {
   "codemirror_mode": {
    "name": "ipython",
    "version": 3
   },
   "file_extension": ".py",
   "mimetype": "text/x-python",
   "name": "python",
   "nbconvert_exporter": "python",
   "pygments_lexer": "ipython3",
   "version": "3.12.2"
  }
 },
 "nbformat": 4,
 "nbformat_minor": 2
}
