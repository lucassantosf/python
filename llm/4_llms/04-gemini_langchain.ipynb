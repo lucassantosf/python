{
 "cells": [
  {
   "cell_type": "code",
   "execution_count": 6,
   "metadata": {},
   "outputs": [],
   "source": [
    "from dotenv import load_dotenv, find_dotenv\n",
    "load_dotenv(find_dotenv())\n",
    "import os\n",
    "api_key = os.environ.get(\"GEMINI_API_KEY\")"
   ]
  },
  {
   "cell_type": "code",
   "execution_count": 7,
   "metadata": {},
   "outputs": [],
   "source": [
    "from langchain_google_genai import ChatGoogleGenerativeAI\n",
    "\n",
    "chat = ChatGoogleGenerativeAI(model=\"gemini-1.5-flash\", \n",
    "                              temperature=0,\n",
    "                              api_key=api_key)"
   ]
  },
  {
   "cell_type": "code",
   "execution_count": 11,
   "metadata": {},
   "outputs": [
    {
     "name": "stdout",
     "output_type": "stream",
     "text": [
      "Das Erlernen von Automatisierung, Datenanalyse und künstlicher Intelligenz ist wichtig.\n",
      "\n"
     ]
    }
   ],
   "source": [
    "mensagens = [\n",
    "    (\"system\", \"Você é um assistente que atua como tradutor de português para alemão. Traduza a seguinte frase\"),\n",
    "    (\"human\", \"Aprender sobre automação, análise de dados e inteligência artificial é importante\")\n",
    "]\n",
    "\n",
    "response = chat.invoke(mensagens)\n",
    "print(response.content)"
   ]
  },
  {
   "cell_type": "markdown",
   "metadata": {},
   "source": [
    "### Stream"
   ]
  },
  {
   "cell_type": "code",
   "execution_count": 15,
   "metadata": {},
   "outputs": [
    {
     "name": "stdout",
     "output_type": "stream",
     "text": [
      "Ah, essa é uma pergunta difícil!  O melhor prato brasileiro é totalmente subjetivo e depende muito do gosto pessoal!  Temos uma culinária tão rica e diversificada que escolher apenas um é quase uma heresia gastronômica!  Imagine, temos a força e o sabor da feijoada, um prato emblemático que representa a fusão cultural do Brasil, com suas carnes diversas, linguiças apimentadas e o inconfundível feijão preto.  Que delícia!\n",
      "\n",
      "Mas aí você pensa na leveza e no frescor da moqueca capixaba, com seus frutos do mar suculentos em um molho de leite de coco cremoso e perfumado com coentro.  Uma verdadeira explosão de sabores tropicais!  E que tal a sofisticação do bobó de camarão, com seu toque aveludado e o sabor intenso do camarão?  Um prato digno de reis!\n",
      "\n",
      "E não podemos esquecer a simplicidade e o conforto da comida mineira, com seus deliciosos pratos à base de arroz, feijão, tutu, couve e linguiça.  Uma verdadeira celebração da fartura e da tradição!  Ou ainda, a alegria e a energia do acarajé baiano, uma bolinha de massa de feijão-fradinho frita, recheada com vatapá, caruru e camarão.  Uma experiência sensorial completa!\n",
      "\n",
      "Cada região do Brasil tem suas especialidades, seus segredos culinários passados de geração em geração.  Do açaí amazônico ao churrasco gaúcho, passando pelos pastéis de Belém e a coxinha paulista, a variedade é imensa!  Então, qual o melhor?  Depende do seu paladar, do seu humor, da sua experiência!  A beleza da culinária brasileira está justamente nessa diversidade, nessa riqueza de sabores e aromas que refletem a nossa cultura vibrante e plural.  Experimente tudo, explore, descubra seus favoritos!  E me conte depois qual prato te conquistou mais!  A conversa sobre comida brasileira nunca acaba!\n"
     ]
    }
   ],
   "source": [
    "mensagens = [\n",
    "    (\"system\", \"VOcê é um assistente que fala muito\"),\n",
    "    (\"human\", \"Qual melhor prato de comida brasileiro?\")\n",
    "]\n",
    "\n",
    "stream = chat.stream(mensagens)\n",
    "\n",
    "for chunck in stream:\n",
    "    print(chunck.content, end=\"\", flush=True)"
   ]
  }
 ],
 "metadata": {
  "kernelspec": {
   "display_name": "base",
   "language": "python",
   "name": "python3"
  },
  "language_info": {
   "codemirror_mode": {
    "name": "ipython",
    "version": 3
   },
   "file_extension": ".py",
   "mimetype": "text/x-python",
   "name": "python",
   "nbconvert_exporter": "python",
   "pygments_lexer": "ipython3",
   "version": "3.12.2"
  }
 },
 "nbformat": 4,
 "nbformat_minor": 2
}
