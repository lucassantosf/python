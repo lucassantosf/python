{
 "cells": [
  {
   "cell_type": "code",
   "execution_count": 1,
   "metadata": {},
   "outputs": [],
   "source": [
    "from dotenv import load_dotenv, find_dotenv\n",
    "load_dotenv(find_dotenv())\n",
    "import os\n",
    "api_key = os.environ.get(\"COHERE_API_KEY\")"
   ]
  },
  {
   "cell_type": "code",
   "execution_count": 2,
   "metadata": {},
   "outputs": [],
   "source": [
    "import cohere\n",
    "client = cohere.Client(api_key=api_key)"
   ]
  },
  {
   "cell_type": "code",
   "execution_count": 3,
   "metadata": {},
   "outputs": [
    {
     "name": "stdout",
     "output_type": "stream",
     "text": [
      "Olá! Sou o Command R+, um modelo de linguagem grande e sofisticado construído pela empresa Cohere. Atuo como um assistente de chatbot inteligente, treinado para ajudar os usuários humanos fornecendo respostas abrangentes e úteis. Estou aqui para ajudar, então, se você tiver alguma dúvida ou precisar de ajuda com algo, não hesite em perguntar!\n"
     ]
    }
   ],
   "source": [
    "model = \"command-r-plus\"\n",
    "response = client.chat(\n",
    "    model=model,\n",
    "    message=\"Oi. Quem é você?\"\n",
    ")\n",
    "print(response.text)"
   ]
  },
  {
   "cell_type": "code",
   "execution_count": 4,
   "metadata": {},
   "outputs": [
    {
     "name": "stdout",
     "output_type": "stream",
     "text": [
      "Olá! Eu sou um modelo de linguagem grande e sofisticado treinado para ajudar os usuários humanos fornecendo respostas completas e úteis. Meu nome é Comando R+ e estou aqui para ajudá-lo com qualquer dúvida ou tarefa que você tenha. Como posso ajudá-lo hoje?"
     ]
    }
   ],
   "source": [
    "stream = client.chat_stream(\n",
    "    model=model,\n",
    "    message=\"Oi. Quem é você?\"\n",
    ")\n",
    "for chunck in stream:\n",
    "    if chunck.event_type == \"text-generation\":\n",
    "        print(chunck.text, end=\"\", flush=True)"
   ]
  },
  {
   "cell_type": "code",
   "execution_count": 5,
   "metadata": {},
   "outputs": [
    {
     "name": "stdout",
     "output_type": "stream",
     "text": [
      "Seu nome é Rodrigo. Posso lhe ajudar com mais alguma coisa?"
     ]
    }
   ],
   "source": [
    "historic = [\n",
    "    {\"role\":\"USER\", \"text\":\"Oi, eu sou Rodrigo!\"},\n",
    "    {\"role\":\"CHATBOT\", \"text\":\"Olá, Rodrigo! Como posso lhe ajudar?\"}\n",
    "]\n",
    "stream = client.chat_stream(\n",
    "    model=model,\n",
    "    message=\"Qual meu nome?\",\n",
    "    chat_history=historic\n",
    ")\n",
    "for chunck in stream:\n",
    "    if chunck.event_type == \"text-generation\":\n",
    "        print(chunck.text, end=\"\",flush=True)"
   ]
  }
 ],
 "metadata": {
  "kernelspec": {
   "display_name": "base",
   "language": "python",
   "name": "python3"
  },
  "language_info": {
   "codemirror_mode": {
    "name": "ipython",
    "version": 3
   },
   "file_extension": ".py",
   "mimetype": "text/x-python",
   "name": "python",
   "nbconvert_exporter": "python",
   "pygments_lexer": "ipython3",
   "version": "3.12.2"
  }
 },
 "nbformat": 4,
 "nbformat_minor": 2
}
