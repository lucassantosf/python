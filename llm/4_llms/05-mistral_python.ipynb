{
 "cells": [
  {
   "cell_type": "code",
   "execution_count": 1,
   "metadata": {},
   "outputs": [],
   "source": [
    "from dotenv import load_dotenv, find_dotenv\n",
    "load_dotenv(find_dotenv())\n",
    "import os\n",
    "api_key = os.environ.get(\"MISTRAL_API_KEY\")"
   ]
  },
  {
   "cell_type": "code",
   "execution_count": 2,
   "metadata": {},
   "outputs": [],
   "source": [
    "from mistralai import Mistral\n",
    "client = Mistral(api_key=api_key)"
   ]
  },
  {
   "cell_type": "code",
   "execution_count": 4,
   "metadata": {},
   "outputs": [
    {
     "name": "stdout",
     "output_type": "stream",
     "text": [
      "Determinar o \"melhor\" jogador da história da Premier League é subjetivo e depende dos critérios que você valoriza, como habilidade técnica, impacto no jogo, títulos conquistados, consistência ao longo da carreira, entre outros. No entanto, alguns nomes frequentemente mencionados em discussões sobre os melhores jogadores da Premier League incluem:\n",
      "\n",
      "1. **Thierry Henry** - O atacante francês é amplamente considerado um dos maiores jogadores da história da Premier League. Ele jogou pelo Arsenal e marcou 175 gols na liga, além de ser conhecido por sua velocidade, habilidade e capacidade de marcar gols espetaculares.\n",
      "\n",
      "2. **Cristiano Ronaldo** - Embora tenha passado apenas uma parte de sua carreira na Premier League com o Manchester United, Ronaldo teve um impacto significativo, ganhando três títulos da Premier League e um prêmio de Jogador do Ano da PFA.\n",
      "\n",
      "3. **Alan Shearer** - O maior artilheiro da história da Premier League com 260 gols, Shearer é uma lenda do futebol inglês. Ele jogou pelo Blackburn Rovers e Newcastle United e é conhecido por sua capacidade de marcar gols e liderança em campo.\n",
      "\n",
      "4. **Wayne Rooney** - O atacante inglês é o segundo maior artilheiro da Premier League com 208 gols. Ele jogou pelo Manchester United e Everton e é conhecido por sua versatilidade, força e habilidade para marcar gols decisivos.\n",
      "\n",
      "5. **Roy Keane** - O capitão do Manchester United por muitos anos, Keane é conhecido por sua liderança, determinação e habilidade para controlar o meio-campo. Ele foi fundamental nas múltiplas conquistas do United durante sua carreira.\n",
      "\n",
      "6. **Ryan Giggs** - O jogador galês é o mais condecorado da história da Premier League, tendo ganhado 13 títulos da liga com o Manchester United. Conhecido por sua velocidade, habilidade e longevidade, Giggs jogou por mais de duas décadas no mais alto nível.\n",
      "\n",
      "7. **Eric Cantona** - O jogador francês teve um impacto enorme no Manchester United, ajudando o clube a ganhar quatro títulos da Premier League em cinco anos. Conhecido por sua classe, habilidade e personalidade carismática.\n",
      "\n",
      "8. **Frank Lampard** - O meio-campista inglês é um dos maiores artilheiros da Premier League para um jogador de sua posição, com 177 gols. Ele jogou principalmente pelo Chelsea e West Ham United e é conhecido por sua habilidade de marcar gols de longa distância e sua consistência.\n",
      "\n",
      "Cada um desses jogadores teve um impacto significativo na Premier League e é difícil escolher um único \"melhor\" jogador. A escolha pode variar dependendo das preferências pessoais e dos critérios utilizados para a avaliação.\n"
     ]
    }
   ],
   "source": [
    "model = \"mistral-large-latest\"\n",
    "chat_response = client.chat.complete(\n",
    "    model = model,\n",
    "    messages = [\n",
    "        {\n",
    "            \"role\": \"user\",\n",
    "            \"content\": \"Qual melhor jogador da história da Premier League?\"\n",
    "        }\n",
    "    ]\n",
    ")\n",
    "print(chat_response.choices[0].message.content)"
   ]
  },
  {
   "cell_type": "markdown",
   "metadata": {},
   "source": [
    "### Vision"
   ]
  },
  {
   "cell_type": "code",
   "execution_count": 5,
   "metadata": {},
   "outputs": [
    {
     "name": "stdout",
     "output_type": "stream",
     "text": [
      "A imagem captura uma cena de inverno serena na Torre Eiffel em Paris, França. A Torre Eiffel, um marco icônico, está alta no centro da imagem, sua estrutura de metal escuro contrastando com a neve branca que cobre o chão e os galhos das árvores. A torre está cercada por árvores, cujos galhos estão pesados de neve, adicionando um senso de tranquilidade à cena.\n",
      "\n",
      "No primeiro plano, um poste de luz preto se destaca, sua presença adicionando um toque de charme urbano à paisagem natural. O céu acima está nublado, lançando uma luz suave sobre a cena e realçando a atmosfera geral de inverno. Apesar do clima frio, a imagem exala um senso de calma e beleza, capturando a essência de um inverno parisiense.\n"
     ]
    }
   ],
   "source": [
    "model = \"pixtral-12b-2409\"\n",
    "messages = [\n",
    "    {\n",
    "        \"role\": \"user\",\n",
    "        \"content\":[\n",
    "            {\n",
    "                \"type\": \"text\",\n",
    "                \"text\": \"Descreva para mim essa imagem\"\n",
    "            },\n",
    "            {\n",
    "                \"type\": \"image_url\",\n",
    "                \"image_url\": \"https://tripfixers.com/wp-content/uploads/2019/11/eiffel-tower-with-snow.jpeg\"\n",
    "            }\n",
    "        ]\n",
    "    }\n",
    "]\n",
    "\n",
    "chat_response = client.chat.complete(\n",
    "    model=model,\n",
    "    messages=messages\n",
    ")\n",
    "\n",
    "print(chat_response.choices[0].message.content)"
   ]
  },
  {
   "cell_type": "markdown",
   "metadata": {},
   "source": [
    "### Code Generation"
   ]
  },
  {
   "cell_type": "code",
   "execution_count": 6,
   "metadata": {},
   "outputs": [
    {
     "name": "stdout",
     "output_type": "stream",
     "text": [
      "Aqui está uma função em PHP que gera uma sequência de Fibonacci até um número especificado:\n",
      "\n",
      "```php\n",
      "function fibonacci($n) {\n",
      "    $seq = array();\n",
      "    $seq[0] = 0;\n",
      "    $seq[1] = 1;\n",
      "\n",
      "    for ($i = 2; $i <= $n; $i++) {\n",
      "        $seq[$i] = $seq[$i-1] + $seq[$i-2];\n",
      "    }\n",
      "\n",
      "    return $seq;\n",
      "}\n",
      "```\n",
      "\n",
      "Esta função começa com um array vazio `$seq` e inicializa os dois primeiros números da sequência (0 e 1). Em seguida, usa um loop `for` para gerar o restante da sequência até o número especificado. O loop usa o índice `$i` para acompanhar a posição atual na sequência, e acessa os valores anteriores na sequência usando os índices `$i - 1` e `$i - 2`. Os valores são somados e armazenados no próximo índice do array. A função retorna o array completo.\n"
     ]
    }
   ],
   "source": [
    "model = \"codestral-mamba-latest\"\n",
    "\n",
    "message = [\n",
    "    {\n",
    "        \"role\": \"user\",\n",
    "        \"content\": \"Escreva uma função para mim de fibonacci em PHP\"\n",
    "    }\n",
    "]\n",
    "\n",
    "chat_response = client.chat.complete(\n",
    "    model=model,\n",
    "    messages=message\n",
    ")\n",
    "\n",
    "print(chat_response.choices[0].message.content)"
   ]
  }
 ],
 "metadata": {
  "kernelspec": {
   "display_name": "base",
   "language": "python",
   "name": "python3"
  },
  "language_info": {
   "codemirror_mode": {
    "name": "ipython",
    "version": 3
   },
   "file_extension": ".py",
   "mimetype": "text/x-python",
   "name": "python",
   "nbconvert_exporter": "python",
   "pygments_lexer": "ipython3",
   "version": "3.12.2"
  }
 },
 "nbformat": 4,
 "nbformat_minor": 2
}
