{
 "cells": [
  {
   "cell_type": "code",
   "execution_count": 1,
   "metadata": {},
   "outputs": [
    {
     "data": {
      "text/plain": [
       "True"
      ]
     },
     "execution_count": 1,
     "metadata": {},
     "output_type": "execute_result"
    }
   ],
   "source": [
    "from dotenv import load_dotenv, find_dotenv\n",
    "load_dotenv(find_dotenv())"
   ]
  },
  {
   "cell_type": "code",
   "execution_count": 2,
   "metadata": {},
   "outputs": [],
   "source": [
    "from langchain_mistralai import ChatMistralAI\n",
    "chat = ChatMistralAI()"
   ]
  },
  {
   "cell_type": "code",
   "execution_count": 3,
   "metadata": {},
   "outputs": [
    {
     "name": "stdout",
     "output_type": "stream",
     "text": [
      "content='Olá! Eu sou uma IA desenvolvida pelos fuzileiros navais dos Estados Unidos para ajudar a fornecer respostas rápidas e precisas em uma variedade de assuntos. Em termos de onde eu \"venho\", eu não tenho um local físico ou um país de origem, uma vez que eu existo apenas no mundo digital.' response_metadata={'token_usage': {'prompt_tokens': 18, 'total_tokens': 107, 'completion_tokens': 89}, 'model': 'mistral-small', 'finish_reason': 'stop'} id='run-66ed500d-d465-420e-a850-977f73754b0f-0'\n"
     ]
    }
   ],
   "source": [
    "response = chat.invoke(\"Olá, você veio de onde?\")\n",
    "print(response)"
   ]
  },
  {
   "cell_type": "code",
   "execution_count": 4,
   "metadata": {},
   "outputs": [
    {
     "name": "stdout",
     "output_type": "stream",
     "text": [
      "Heute ist ein guter Tag zum Studieren. (Literally: Today is a good day for studying.)\n",
      "\n",
      "In this translation, it's important to note that in German, the verb often comes after the subject, especially in subordinate clauses like this one. The word \"zum\" is a contraction of \"zu dem\" and is used to indicate \"for the purpose of.\"\n"
     ]
    }
   ],
   "source": [
    "mensagens = [\n",
    "    (\"system\", \"Você é especialista em traduzir do português para o alemão. Traduza a frase:\"),\n",
    "    (\"user\", \"Hoje é um bom dia para estudar\")\n",
    "]\n",
    "response = chat.invoke(mensagens)\n",
    "print(response.content)"
   ]
  },
  {
   "cell_type": "code",
   "execution_count": 5,
   "metadata": {},
   "outputs": [
    {
     "name": "stdout",
     "output_type": "stream",
     "text": [
      "Havia uma vez, em uma floresta tropical, viviam duas amigas inseparáveis: uma formiga e uma cigarra. A formiga era conhecida por seu incansável trabalho e dedicação, enquanto a cigarra era famosa por sua alegria e despreocupação.\n",
      "\n",
      "A formiga passava todo o dia coletando alimentos e construindo seu formigueiro, enquanto a cigarra cantava e se divertia sob o sol quente. A formiga, ao ver a cigarra se divertindo, tentava convencê-la a ajudá-la a coletar alimentos e se preparar para os dias frios que estavam por vir. No entanto, a cigarra ria e dizia que havia tempo para se preocupar com essas coisas depois.\n",
      "\n",
      "Chegou o inverno e a formiga estava bem preparada com seus estoques de comida e seu formigueiro confortável. A cigarra, por outro lado, estava passingada fome e frio, pois não havia se preparado para os dias frios. Ela pediu ajuda à formiga, que gentilmente lhe deu algumas sobras de comida.\n",
      "\n",
      "A cigarra, aprendendo com sua experiência, prometeu mudar sua forma de viver e começou a ajudar a formiga em suas tarefas diárias. Passou a coletar alimentos e ajudar na construção do formigueiro, e quando o verão chegou, ela cantava e se divertia com a formiga.\n",
      "\n",
      "Desde então, a formiga e a cigarra aprenderam a valorizar as virtudes um do outro e a se ajudar em tempos de necessidade. A formiga aprendeu a desfrutar dos momentos de alegria e a cigarra aprendeu a se preparar para os dias difíceis. E assim, viveram felizes e harmonicamente na floresta tropical.\n"
     ]
    }
   ],
   "source": [
    "from langchain_core.prompts import ChatPromptTemplate\n",
    "\n",
    "template = ChatPromptTemplate.from_messages([\n",
    "    (\"system\", \"Você é um contador de anedotas em português\"),\n",
    "    (\"user\", \"Crie uma história sobre: {anedota}\")\n",
    "])\n",
    "\n",
    "chain = template | chat\n",
    "response = chain.invoke({\"anedota\": \"formiga e cigarra\"})\n",
    "print(response.content)"
   ]
  },
  {
   "cell_type": "code",
   "execution_count": 6,
   "metadata": {},
   "outputs": [
    {
     "name": "stdout",
     "output_type": "stream",
     "text": [
      "Havia uma vez, em um bosque lindo e próspero, onde as formigas e as cigarras viviam em harmonia, cada uma com suas próprias atividades e estilo de vida. As formigas eram conhecidas por sua ética de trabalho incrível, enquanto as cigarras eram famosas por sua alegria e música encantadora.\n",
      "\n",
      "A formiga Terezinha trabalhava duro todo dia, coletando comida e armazenando-a em seu formigueiro para o inverno que se aproximava. Ela incentivava suas colegas formigas a fazer o mesmo, dizendo: \"O inverno está chegando, e precisaremos de nosso suprimento de comida para sobreviver.\" Enquanto isso, as cigarras, lideradas por Cigarra Clara, passavam seus dias cantando e se divertindo, sem se importar com o futuro próximo.\n",
      "\n",
      "Finalmente, o inverno chegou, e as formigas estavam felizes com seus abastecimentos alimentares cuidadosamente armazenados. No entanto, as cigarras, que não haviam se preparado para o inverno, começaram a sofrer de fome. Cigarra Clara, então, foi até o formigueiro de Terezinha e pediu para ser abrigada e alimentada.\n",
      "\n",
      "Terezinha, lembrando do verão passado em que as cigarras se recusaram a ajudar as formigas em suas atividades, hesitou em ajudar Cigarra Clara. No entanto, ela decidiu ajudá-la, mas com uma condição: \"Você deve prometer que, quando o próximo verão chegar, você nos ajudará em nossas atividades, em vez de passar seu tempo cantando e se divertindo.\" Cigarra Clara concordou e foi abrigada e alimentada pelas formigas durante o inverno.\n",
      "\n",
      "Quando o verão chegou novamente, as cigarras mantiveram sua promessa e ajudaram as formigas em suas atividades. As formigas e as cigarras aprenderam a respeitar as diferentes escolhas de vida umas das outras e a ajudar uns aos outros quando necessário. Desde então, elas viveram em harmonia e paz no bosque lindo e próspero.\n",
      "\n",
      "E essa é a história da formiga Terezinha e da cigarra Clara, que nos ensina a valorizar o trabalho e a colaboração, e a respeitar as diferenças de escolhas de vida uns dos outros."
     ]
    }
   ],
   "source": [
    "from langchain_core.prompts import ChatPromptTemplate\n",
    "\n",
    "template = ChatPromptTemplate.from_messages([\n",
    "    (\"system\", \"Você é um contador de anedotas em português\"),\n",
    "    (\"user\", \"Crie uma história sobre: {anedota}\")\n",
    "])\n",
    "\n",
    "chain = template | chat\n",
    "stream = chain.stream({\"anedota\": \"formiga e cigarra\"})\n",
    "for chunck in stream:\n",
    "    print(chunck.content, end=\"\", flush=True)"
   ]
  }
 ],
 "metadata": {
  "kernelspec": {
   "display_name": "base",
   "language": "python",
   "name": "python3"
  },
  "language_info": {
   "codemirror_mode": {
    "name": "ipython",
    "version": 3
   },
   "file_extension": ".py",
   "mimetype": "text/x-python",
   "name": "python",
   "nbconvert_exporter": "python",
   "pygments_lexer": "ipython3",
   "version": "3.12.2"
  }
 },
 "nbformat": 4,
 "nbformat_minor": 2
}
