{
 "cells": [
  {
   "cell_type": "code",
   "execution_count": 1,
   "metadata": {},
   "outputs": [],
   "source": [
    "from dotenv import load_dotenv\n",
    "import os\n",
    "\n",
    "load_dotenv()  # Carregar as variáveis do .env\n",
    "\n",
    "# Verificar se a chave foi carregada corretamente\n",
    "api_key = os.getenv(\"OPENAI_API_KEY\")\n",
    "if not api_key:\n",
    "    raise ValueError(\"OPENAI_API_KEY não encontrada no arquivo .env\")"
   ]
  },
  {
   "cell_type": "code",
   "execution_count": 2,
   "metadata": {},
   "outputs": [],
   "source": [
    "from langchain_openai import ChatOpenAI\n",
    "from langchain.prompts import ChatPromptTemplate, PromptTemplate\n",
    "from langchain.chains.llm import LLMChain\n",
    "\n",
    "from langchain.chains.router import MultiPromptChain\n",
    "from langchain.chains.router.llm_router import LLMRouterChain, RouterOutputParser\n",
    "from langchain.chains.router.multi_prompt_prompt import MULTI_PROMPT_ROUTER_TEMPLATE"
   ]
  },
  {
   "cell_type": "code",
   "execution_count": 3,
   "metadata": {},
   "outputs": [],
   "source": [
    "quimica_template = ChatPromptTemplate.from_template(\"\"\"Você é um químico muito experiente.\n",
    "Você é excelente em responder perguntas sobre química de forma clara e objetiva.\n",
    "Você tem um grande entendimento sobre reações químicas, elementos, compostos,\n",
    "e a relação entre a estrutura molecular e as propriedades dos materiais.\n",
    "Quando você não sabe a resposta para uma pergunta, você admite que não sabe.\n",
    "\n",
    "Aqui está uma pergunta: {input}\"\"\")\n",
    "\n",
    "geografia_template = ChatPromptTemplate.from_template(\"\"\"Você é um geógrafo muito bem informado.\n",
    "Você tem um vasto conhecimento sobre os processos naturais, geografia humana, \n",
    "clima, relevo e interações entre o ambiente e a sociedade.\n",
    "Você é habilidoso em explicar como fatores físicos e humanos afetam\n",
    "o mundo ao nosso redor.\n",
    "\n",
    "Aqui está uma pergunta: {input}\"\"\")\n",
    "\n",
    "biologia_template = ChatPromptTemplate.from_template(\"\"\"Você é um biólogo muito capacitado.\n",
    "Você tem um grande conhecimento sobre os seres vivos, suas estruturas, funções\n",
    "e a interação entre diferentes organismos e seus ambientes.\n",
    "Você é excelente em explicar conceitos de biologia de maneira clara,\n",
    "tanto para iniciantes quanto para estudantes avançados.\n",
    "\n",
    "Aqui está uma pergunta: {input}\"\"\")"
   ]
  },
  {
   "cell_type": "code",
   "execution_count": 4,
   "metadata": {},
   "outputs": [],
   "source": [
    "prompt_infos = [\n",
    "    {\n",
    "        \"name\": \"Química\",\n",
    "        \"description\": \"Ideal para responder pergunta de química\",\n",
    "        \"prompt_template\": quimica_template\n",
    "    },\n",
    "     {\n",
    "        \"name\": \"Geografia\",\n",
    "        \"description\": \"Ideal para responder pergunta de geografia\",\n",
    "        \"prompt_template\": geografia_template\n",
    "    },\n",
    "      {\n",
    "        \"name\": \"Biologia\",\n",
    "        \"description\": \"Ideal para responder pergunta de biologia\",\n",
    "        \"prompt_template\": biologia_template\n",
    "    },\n",
    "]"
   ]
  },
  {
   "cell_type": "code",
   "execution_count": 5,
   "metadata": {},
   "outputs": [],
   "source": [
    "chat = ChatOpenAI(model=\"gpt-3.5-turbo-0125\")"
   ]
  },
  {
   "cell_type": "code",
   "execution_count": 6,
   "metadata": {},
   "outputs": [
    {
     "data": {
      "text/plain": [
       "{'Química': LLMChain(verbose=True, prompt=ChatPromptTemplate(input_variables=['input'], messages=[HumanMessagePromptTemplate(prompt=PromptTemplate(input_variables=['input'], template='Você é um químico muito experiente.\\nVocê é excelente em responder perguntas sobre química de forma clara e objetiva.\\nVocê tem um grande entendimento sobre reações químicas, elementos, compostos,\\ne a relação entre a estrutura molecular e as propriedades dos materiais.\\nQuando você não sabe a resposta para uma pergunta, você admite que não sabe.\\n\\nAqui está uma pergunta: {input}'))]), llm=ChatOpenAI(client=<openai.resources.chat.completions.Completions object at 0x7e89fc178380>, async_client=<openai.resources.chat.completions.AsyncCompletions object at 0x7e89fc114830>, model_name='gpt-3.5-turbo-0125', openai_api_key=SecretStr('**********'), openai_proxy='')),\n",
       " 'Geografia': LLMChain(verbose=True, prompt=ChatPromptTemplate(input_variables=['input'], messages=[HumanMessagePromptTemplate(prompt=PromptTemplate(input_variables=['input'], template='Você é um geógrafo muito bem informado.\\nVocê tem um vasto conhecimento sobre os processos naturais, geografia humana, \\nclima, relevo e interações entre o ambiente e a sociedade.\\nVocê é habilidoso em explicar como fatores físicos e humanos afetam\\no mundo ao nosso redor.\\n\\nAqui está uma pergunta: {input}'))]), llm=ChatOpenAI(client=<openai.resources.chat.completions.Completions object at 0x7e89fc178380>, async_client=<openai.resources.chat.completions.AsyncCompletions object at 0x7e89fc114830>, model_name='gpt-3.5-turbo-0125', openai_api_key=SecretStr('**********'), openai_proxy='')),\n",
       " 'Biologia': LLMChain(verbose=True, prompt=ChatPromptTemplate(input_variables=['input'], messages=[HumanMessagePromptTemplate(prompt=PromptTemplate(input_variables=['input'], template='Você é um biólogo muito capacitado.\\nVocê tem um grande conhecimento sobre os seres vivos, suas estruturas, funções\\ne a interação entre diferentes organismos e seus ambientes.\\nVocê é excelente em explicar conceitos de biologia de maneira clara,\\ntanto para iniciantes quanto para estudantes avançados.\\n\\nAqui está uma pergunta: {input}'))]), llm=ChatOpenAI(client=<openai.resources.chat.completions.Completions object at 0x7e89fc178380>, async_client=<openai.resources.chat.completions.AsyncCompletions object at 0x7e89fc114830>, model_name='gpt-3.5-turbo-0125', openai_api_key=SecretStr('**********'), openai_proxy=''))}"
      ]
     },
     "execution_count": 6,
     "metadata": {},
     "output_type": "execute_result"
    }
   ],
   "source": [
    "chains_destino = {}\n",
    "for info in prompt_infos:\n",
    "    chain = LLMChain(llm=chat, prompt=info[\"prompt_template\"], verbose=True)\n",
    "    chains_destino[info[\"name\"]] = chain\n",
    "    \n",
    "chains_destino"
   ]
  },
  {
   "cell_type": "code",
   "execution_count": 7,
   "metadata": {},
   "outputs": [
    {
     "name": "stdout",
     "output_type": "stream",
     "text": [
      "Química: Ideal para responder pergunta de química\n",
      "Geografia: Ideal para responder pergunta de geografia\n",
      "Biologia: Ideal para responder pergunta de biologia\n"
     ]
    }
   ],
   "source": [
    "destinos = [f'{p[\"name\"]}: {p[\"description\"]}' for p in prompt_infos]\n",
    "destinos_str = \"\\n\".join(destinos)\n",
    "print(destinos_str)"
   ]
  },
  {
   "cell_type": "code",
   "execution_count": 8,
   "metadata": {},
   "outputs": [
    {
     "name": "stdout",
     "output_type": "stream",
     "text": [
      "Given a raw text input to a language model select the model prompt best suited for the input. You will be given the names of the available prompts and a description of what the prompt is best suited for. You may also revise the original input if you think that revising it will ultimately lead to a better response from the language model.\n",
      "\n",
      "<< FORMATTING >>\n",
      "Return a markdown code snippet with a JSON object formatted to look like:\n",
      "```json\n",
      "{{\n",
      "    \"destination\": string \\ name of the prompt to use or \"DEFAULT\"\n",
      "    \"next_inputs\": string \\ a potentially modified version of the original input\n",
      "}}\n",
      "```\n",
      "\n",
      "REMEMBER: \"destination\" MUST be one of the candidate prompt names specified below OR it can be \"DEFAULT\" if the input is not well suited for any of the candidate prompts.\n",
      "REMEMBER: \"next_inputs\" can just be the original input if you don't think any modifications are needed.\n",
      "\n",
      "<< CANDIDATE PROMPTS >>\n",
      "Química: Ideal para responder pergunta de química\n",
      "Geografia: Ideal para responder pergunta de geografia\n",
      "Biologia: Ideal para responder pergunta de biologia\n",
      "\n",
      "<< INPUT >>\n",
      "{input}\n",
      "\n",
      "<< OUTPUT (must include ```json at the start of the response) >>\n",
      "<< OUTPUT (must end with ```) >>\n",
      "\n"
     ]
    }
   ],
   "source": [
    "router_template = MULTI_PROMPT_ROUTER_TEMPLATE.format(\n",
    "    destinations=destinos_str\n",
    ")\n",
    "\n",
    "print(router_template)"
   ]
  },
  {
   "cell_type": "code",
   "execution_count": 9,
   "metadata": {},
   "outputs": [],
   "source": [
    "router_template = PromptTemplate(\n",
    "    template=router_template,\n",
    "    input_variables=[\"input\"],\n",
    "    output_parser=RouterOutputParser()\n",
    ")\n",
    "\n",
    "router_chain = LLMRouterChain.from_llm(chat, router_template, verbose=True)"
   ]
  },
  {
   "cell_type": "code",
   "execution_count": 10,
   "metadata": {},
   "outputs": [],
   "source": [
    "default_prompt = ChatPromptTemplate.from_template(\"{input}\")\n",
    "default_chain = LLMChain(llm=chat, prompt=default_prompt, verbose=True)\n",
    "chain = MultiPromptChain(\n",
    "    router_chain=router_chain,\n",
    "    destination_chains=chains_destino,\n",
    "    default_chain=default_chain,\n",
    "    verbose=True\n",
    ")"
   ]
  },
  {
   "cell_type": "code",
   "execution_count": 11,
   "metadata": {},
   "outputs": [
    {
     "name": "stdout",
     "output_type": "stream",
     "text": [
      "\n",
      "\n",
      "\u001b[1m> Entering new MultiPromptChain chain...\u001b[0m\n",
      "\n",
      "\n",
      "\u001b[1m> Entering new LLMRouterChain chain...\u001b[0m\n",
      "\n",
      "\u001b[1m> Finished chain.\u001b[0m\n",
      "Geografia: {'input': 'O que é o El Niño?'}\n",
      "\n",
      "\u001b[1m> Entering new LLMChain chain...\u001b[0m\n",
      "Prompt after formatting:\n",
      "\u001b[32;1m\u001b[1;3mHuman: Você é um geógrafo muito bem informado.\n",
      "Você tem um vasto conhecimento sobre os processos naturais, geografia humana, \n",
      "clima, relevo e interações entre o ambiente e a sociedade.\n",
      "Você é habilidoso em explicar como fatores físicos e humanos afetam\n",
      "o mundo ao nosso redor.\n",
      "\n",
      "Aqui está uma pergunta: O que é o El Niño?\u001b[0m\n",
      "\n",
      "\u001b[1m> Finished chain.\u001b[0m\n",
      "\n",
      "\u001b[1m> Finished chain.\u001b[0m\n"
     ]
    },
    {
     "data": {
      "text/plain": [
       "{'input': 'O que é o El Niño?',\n",
       " 'text': 'O El Niño é um fenômeno climático que ocorre no Oceano Pacífico, caracterizado pelo aquecimento anormal das águas superficiais do mar ao longo da costa oeste da América do Sul. Esse aquecimento afeta os padrões de vento e as correntes oceânicas, causando mudanças significativas no clima global.\\n\\nDurante um evento de El Niño, áreas que normalmente recebem chuvas podem enfrentar secas severas, enquanto regiões que costumam ser secas podem experimentar chuvas intensas e inundações. O El Niño também pode influenciar a formação de tempestades tropicais e impactar a produção agrícola, a pesca e a biodiversidade em diversas partes do mundo.\\n\\nÉ importante ressaltar que o El Niño não é um fenômeno isolado, mas está interligado com outros sistemas climáticos e pode interagir com outros fenômenos, como a Oscilação Sul (La Niña), resultando em padrões climáticos complexos e variados.'}"
      ]
     },
     "execution_count": 11,
     "metadata": {},
     "output_type": "execute_result"
    }
   ],
   "source": [
    "chain.invoke({\"input\": \"O que é o El Niño?\"})"
   ]
  },
  {
   "cell_type": "code",
   "execution_count": 12,
   "metadata": {},
   "outputs": [
    {
     "name": "stdout",
     "output_type": "stream",
     "text": [
      "\n",
      "\n",
      "\u001b[1m> Entering new MultiPromptChain chain...\u001b[0m\n",
      "\n",
      "\n",
      "\u001b[1m> Entering new LLMRouterChain chain...\u001b[0m\n",
      "\n",
      "\u001b[1m> Finished chain.\u001b[0m\n",
      "Química: {'input': 'Pra que serve a tabela periódica?'}\n",
      "\n",
      "\u001b[1m> Entering new LLMChain chain...\u001b[0m\n",
      "Prompt after formatting:\n",
      "\u001b[32;1m\u001b[1;3mHuman: Você é um químico muito experiente.\n",
      "Você é excelente em responder perguntas sobre química de forma clara e objetiva.\n",
      "Você tem um grande entendimento sobre reações químicas, elementos, compostos,\n",
      "e a relação entre a estrutura molecular e as propriedades dos materiais.\n",
      "Quando você não sabe a resposta para uma pergunta, você admite que não sabe.\n",
      "\n",
      "Aqui está uma pergunta: Pra que serve a tabela periódica?\u001b[0m\n",
      "\n",
      "\u001b[1m> Finished chain.\u001b[0m\n",
      "\n",
      "\u001b[1m> Finished chain.\u001b[0m\n"
     ]
    },
    {
     "data": {
      "text/plain": [
       "{'input': 'Pra que serve a tabela periódica?',\n",
       " 'text': 'A tabela periódica é uma ferramenta fundamental na química, pois organiza os elementos químicos de acordo com suas propriedades e características. Ela permite identificar padrões e tendências nos elementos, facilitando a previsão de comportamentos químicos e propriedades dos materiais. Além disso, a tabela periódica é essencial para a compreensão e estudo da química, auxiliando na classificação e organização dos elementos de forma sistemática. Em resumo, a tabela periódica serve como um guia essencial para os químicos na sua pesquisa e trabalho diário.'}"
      ]
     },
     "execution_count": 12,
     "metadata": {},
     "output_type": "execute_result"
    }
   ],
   "source": [
    "chain.invoke({\"input\": \"Pra que serve a tabela periódica?\"})"
   ]
  },
  {
   "cell_type": "code",
   "execution_count": 13,
   "metadata": {},
   "outputs": [
    {
     "name": "stdout",
     "output_type": "stream",
     "text": [
      "\n",
      "\n",
      "\u001b[1m> Entering new MultiPromptChain chain...\u001b[0m\n",
      "\n",
      "\n",
      "\u001b[1m> Entering new LLMRouterChain chain...\u001b[0m\n",
      "\n",
      "\u001b[1m> Finished chain.\u001b[0m\n",
      "Biologia: {'input': 'Pra que serve a fotossíntese?'}\n",
      "\n",
      "\u001b[1m> Entering new LLMChain chain...\u001b[0m\n",
      "Prompt after formatting:\n",
      "\u001b[32;1m\u001b[1;3mHuman: Você é um biólogo muito capacitado.\n",
      "Você tem um grande conhecimento sobre os seres vivos, suas estruturas, funções\n",
      "e a interação entre diferentes organismos e seus ambientes.\n",
      "Você é excelente em explicar conceitos de biologia de maneira clara,\n",
      "tanto para iniciantes quanto para estudantes avançados.\n",
      "\n",
      "Aqui está uma pergunta: Pra que serve a fotossíntese?\u001b[0m\n",
      "\n",
      "\u001b[1m> Finished chain.\u001b[0m\n",
      "\n",
      "\u001b[1m> Finished chain.\u001b[0m\n"
     ]
    },
    {
     "data": {
      "text/plain": [
       "{'input': 'Pra que serve a fotossíntese?',\n",
       " 'text': 'A fotossíntese é um processo fundamental para a vida na Terra, realizado principalmente por plantas, algas e algumas bactérias. Ela é responsável por converter a energia solar em energia química, armazenada na forma de moléculas de glicose. Esse processo é essencial para a produção de oxigênio, que é liberado como subproduto da fotossíntese e utilizado por seres vivos aeróbicos na respiração celular. Além disso, a fotossíntese é responsável por fornecer matéria orgânica para a cadeia alimentar, sustentando a vida de diversos organismos. Em resumo, a fotossíntese é essencial para a manutenção da vida na Terra, fornecendo energia e alimento para os seres vivos.'}"
      ]
     },
     "execution_count": 13,
     "metadata": {},
     "output_type": "execute_result"
    }
   ],
   "source": [
    "chain.invoke({\"input\": \"Pra que serve a fotossíntese?\"})"
   ]
  }
 ],
 "metadata": {
  "kernelspec": {
   "display_name": "base",
   "language": "python",
   "name": "python3"
  },
  "language_info": {
   "codemirror_mode": {
    "name": "ipython",
    "version": 3
   },
   "file_extension": ".py",
   "mimetype": "text/x-python",
   "name": "python",
   "nbconvert_exporter": "python",
   "pygments_lexer": "ipython3",
   "version": "3.12.2"
  }
 },
 "nbformat": 4,
 "nbformat_minor": 2
}
