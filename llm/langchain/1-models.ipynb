{
 "cells": [
  {
   "cell_type": "code",
   "execution_count": 2,
   "metadata": {},
   "outputs": [],
   "source": [
    "from dotenv import load_dotenv\n",
    "import os\n",
    "\n",
    "load_dotenv()  # Carregar as variáveis do .env\n",
    "\n",
    "# Verificar se a chave foi carregada corretamente\n",
    "api_key = os.getenv(\"OPENAI_API_KEY\")\n",
    "if not api_key:\n",
    "    raise ValueError(\"OPENAI_API_KEY não encontrada no arquivo .env\")"
   ]
  },
  {
   "cell_type": "code",
   "execution_count": 3,
   "metadata": {},
   "outputs": [
    {
     "name": "stderr",
     "output_type": "stream",
     "text": [
      "/home/lucas/anaconda3/lib/python3.12/site-packages/langchain_core/_api/deprecation.py:119: LangChainDeprecationWarning: The class `ChatOpenAI` was deprecated in LangChain 0.0.10 and will be removed in 0.2.0. An updated version of the class exists in the langchain-openai package and should be used instead. To use it run `pip install -U langchain-openai` and import as `from langchain_openai import ChatOpenAI`.\n",
      "  warn_deprecated(\n"
     ]
    }
   ],
   "source": [
    "from langchain.chat_models import ChatOpenAI  # Para modelos de chat da OpenAI\n",
    "\n",
    "# Configurar o modelo da OpenAI usando LangChain\n",
    "llm = ChatOpenAI(\n",
    "    model=\"gpt-3.5-turbo\",  # Modelo de chat da OpenAI\n",
    "    temperature=0,          # Controle de criatividade\n",
    "    openai_api_key=api_key  # Chave da API carregada\n",
    ")"
   ]
  },
  {
   "cell_type": "code",
   "execution_count": 4,
   "metadata": {},
   "outputs": [
    {
     "name": "stderr",
     "output_type": "stream",
     "text": [
      "/home/lucas/anaconda3/lib/python3.12/site-packages/langchain_core/_api/deprecation.py:119: LangChainDeprecationWarning: The method `BaseChatModel.predict` was deprecated in langchain-core 0.1.7 and will be removed in 0.3.0. Use invoke instead.\n",
      "  warn_deprecated(\n"
     ]
    },
    {
     "name": "stdout",
     "output_type": "stream",
     "text": [
      "Era uma vez um jovem cientista chamado Lucas, que estava determinado a criar um algoritmo de aprendizado de máquina revolucionário. Ele passava horas a fio em seu laboratório, estudando e testando diferentes modelos matemáticos, na esperança de encontrar a solução perfeita.\n",
      "\n",
      "Depois de meses de trabalho árduo, Lucas finalmente conseguiu desenvolver um algoritmo que parecia promissor. Ele o batizou de \"Mente Artificial\" e decidiu testá-lo em um conjunto de dados complexo, para ver se ele era capaz de aprender e fazer previsões precisas.\n",
      "\n",
      "Para sua surpresa, o algoritmo se saiu incrivelmente bem. Ele foi capaz de identificar padrões nos dados que nem mesmo os cientistas mais experientes haviam percebido. Lucas estava extasiado com o sucesso de sua criação e decidiu apresentá-la em uma conferência de inteligência artificial.\n",
      "\n",
      "Durante a apresentação, Lucas explicou como o algoritmo funcionava e os resultados impressionantes que ele havia obtido. Os outros cientistas presentes ficaram impressionados com a capacidade da \"Mente Artificial\" de aprender e se adaptar, e logo começaram a fazer perguntas e sugerir possíveis aplicações para a tecnologia.\n",
      "\n",
      "Lucas percebeu que havia criado algo verdadeiramente especial, algo que poderia revolucionar a forma como as pessoas interagem com a tecnologia. Ele estava orgulhoso de seu trabalho e ansioso para ver para onde sua criação o levaria.\n",
      "\n",
      "E assim, Lucas continuou a aprimorar seu algoritmo de aprendizado de máquina, explorando novas possibilidades e desafios. Ele sabia que o caminho pela frente seria longo e cheio de obstáculos, mas estava determinado a continuar aprendendo e crescendo, assim como sua \"Mente Artificial\". E juntos, eles conquistariam o mundo da inteligência artificial.\n"
     ]
    }
   ],
   "source": [
    "# Usar o LLM para gerar respostas\n",
    "response = llm.predict(\"Conte uma história sobre aprendizado de máquina\") \n",
    "print(response)"
   ]
  },
  {
   "cell_type": "code",
   "execution_count": 5,
   "metadata": {},
   "outputs": [
    {
     "name": "stdout",
     "output_type": "stream",
     "text": [
      "content='' id='run-73c93206-4cb1-4ff5-bbdf-da93932162f1'content='E' id='run-73c93206-4cb1-4ff5-bbdf-da93932162f1'content='ra' id='run-73c93206-4cb1-4ff5-bbdf-da93932162f1'content=' uma' id='run-73c93206-4cb1-4ff5-bbdf-da93932162f1'content=' vez' id='run-73c93206-4cb1-4ff5-bbdf-da93932162f1'content=' um' id='run-73c93206-4cb1-4ff5-bbdf-da93932162f1'content=' jov' id='run-73c93206-4cb1-4ff5-bbdf-da93932162f1'content='em' id='run-73c93206-4cb1-4ff5-bbdf-da93932162f1'content=' cient' id='run-73c93206-4cb1-4ff5-bbdf-da93932162f1'content='ista' id='run-73c93206-4cb1-4ff5-bbdf-da93932162f1'content=' cham' id='run-73c93206-4cb1-4ff5-bbdf-da93932162f1'content='ado' id='run-73c93206-4cb1-4ff5-bbdf-da93932162f1'content=' Lucas' id='run-73c93206-4cb1-4ff5-bbdf-da93932162f1'content=',' id='run-73c93206-4cb1-4ff5-bbdf-da93932162f1'content=' que' id='run-73c93206-4cb1-4ff5-bbdf-da93932162f1'content=' estava' id='run-73c93206-4cb1-4ff5-bbdf-da93932162f1'content=' determin' id='run-73c93206-4cb1-4ff5-bbdf-da93932162f1'content='ado' id='run-73c93206-4cb1-4ff5-bbdf-da93932162f1'content=' a' id='run-73c93206-4cb1-4ff5-bbdf-da93932162f1'content=' criar' id='run-73c93206-4cb1-4ff5-bbdf-da93932162f1'content=' um' id='run-73c93206-4cb1-4ff5-bbdf-da93932162f1'content=' al' id='run-73c93206-4cb1-4ff5-bbdf-da93932162f1'content='gorit' id='run-73c93206-4cb1-4ff5-bbdf-da93932162f1'content='mo' id='run-73c93206-4cb1-4ff5-bbdf-da93932162f1'content=' de' id='run-73c93206-4cb1-4ff5-bbdf-da93932162f1'content=' aprend' id='run-73c93206-4cb1-4ff5-bbdf-da93932162f1'content='izado' id='run-73c93206-4cb1-4ff5-bbdf-da93932162f1'content=' de' id='run-73c93206-4cb1-4ff5-bbdf-da93932162f1'content=' má' id='run-73c93206-4cb1-4ff5-bbdf-da93932162f1'content='quina' id='run-73c93206-4cb1-4ff5-bbdf-da93932162f1'content=' rev' id='run-73c93206-4cb1-4ff5-bbdf-da93932162f1'content='olucion' id='run-73c93206-4cb1-4ff5-bbdf-da93932162f1'content='ário' id='run-73c93206-4cb1-4ff5-bbdf-da93932162f1'content='.' id='run-73c93206-4cb1-4ff5-bbdf-da93932162f1'content=' Ele' id='run-73c93206-4cb1-4ff5-bbdf-da93932162f1'content=' pass' id='run-73c93206-4cb1-4ff5-bbdf-da93932162f1'content='ava' id='run-73c93206-4cb1-4ff5-bbdf-da93932162f1'content=' horas' id='run-73c93206-4cb1-4ff5-bbdf-da93932162f1'content=' a' id='run-73c93206-4cb1-4ff5-bbdf-da93932162f1'content=' f' id='run-73c93206-4cb1-4ff5-bbdf-da93932162f1'content='io' id='run-73c93206-4cb1-4ff5-bbdf-da93932162f1'content=' em' id='run-73c93206-4cb1-4ff5-bbdf-da93932162f1'content=' seu' id='run-73c93206-4cb1-4ff5-bbdf-da93932162f1'content=' labor' id='run-73c93206-4cb1-4ff5-bbdf-da93932162f1'content='atório' id='run-73c93206-4cb1-4ff5-bbdf-da93932162f1'content=',' id='run-73c93206-4cb1-4ff5-bbdf-da93932162f1'content=' estud' id='run-73c93206-4cb1-4ff5-bbdf-da93932162f1'content='ando' id='run-73c93206-4cb1-4ff5-bbdf-da93932162f1'content=' e' id='run-73c93206-4cb1-4ff5-bbdf-da93932162f1'content=' test' id='run-73c93206-4cb1-4ff5-bbdf-da93932162f1'content='ando' id='run-73c93206-4cb1-4ff5-bbdf-da93932162f1'content=' diferentes' id='run-73c93206-4cb1-4ff5-bbdf-da93932162f1'content=' modelos' id='run-73c93206-4cb1-4ff5-bbdf-da93932162f1'content=' mat' id='run-73c93206-4cb1-4ff5-bbdf-da93932162f1'content='em' id='run-73c93206-4cb1-4ff5-bbdf-da93932162f1'content='át' id='run-73c93206-4cb1-4ff5-bbdf-da93932162f1'content='icos' id='run-73c93206-4cb1-4ff5-bbdf-da93932162f1'content=',' id='run-73c93206-4cb1-4ff5-bbdf-da93932162f1'content=' na' id='run-73c93206-4cb1-4ff5-bbdf-da93932162f1'content=' esper' id='run-73c93206-4cb1-4ff5-bbdf-da93932162f1'content='ança' id='run-73c93206-4cb1-4ff5-bbdf-da93932162f1'content=' de' id='run-73c93206-4cb1-4ff5-bbdf-da93932162f1'content=' encontrar' id='run-73c93206-4cb1-4ff5-bbdf-da93932162f1'content=' a' id='run-73c93206-4cb1-4ff5-bbdf-da93932162f1'content=' sol' id='run-73c93206-4cb1-4ff5-bbdf-da93932162f1'content='ução' id='run-73c93206-4cb1-4ff5-bbdf-da93932162f1'content=' per' id='run-73c93206-4cb1-4ff5-bbdf-da93932162f1'content='fe' id='run-73c93206-4cb1-4ff5-bbdf-da93932162f1'content='ita' id='run-73c93206-4cb1-4ff5-bbdf-da93932162f1'content='.\\n\\n' id='run-73c93206-4cb1-4ff5-bbdf-da93932162f1'content='Dep' id='run-73c93206-4cb1-4ff5-bbdf-da93932162f1'content='ois' id='run-73c93206-4cb1-4ff5-bbdf-da93932162f1'content=' de' id='run-73c93206-4cb1-4ff5-bbdf-da93932162f1'content=' meses' id='run-73c93206-4cb1-4ff5-bbdf-da93932162f1'content=' de' id='run-73c93206-4cb1-4ff5-bbdf-da93932162f1'content=' trabalho' id='run-73c93206-4cb1-4ff5-bbdf-da93932162f1'content=' á' id='run-73c93206-4cb1-4ff5-bbdf-da93932162f1'content='r' id='run-73c93206-4cb1-4ff5-bbdf-da93932162f1'content='du' id='run-73c93206-4cb1-4ff5-bbdf-da93932162f1'content='o' id='run-73c93206-4cb1-4ff5-bbdf-da93932162f1'content=',' id='run-73c93206-4cb1-4ff5-bbdf-da93932162f1'content=' Lucas' id='run-73c93206-4cb1-4ff5-bbdf-da93932162f1'content=' final' id='run-73c93206-4cb1-4ff5-bbdf-da93932162f1'content='mente' id='run-73c93206-4cb1-4ff5-bbdf-da93932162f1'content=' conseg' id='run-73c93206-4cb1-4ff5-bbdf-da93932162f1'content='ui' id='run-73c93206-4cb1-4ff5-bbdf-da93932162f1'content='u' id='run-73c93206-4cb1-4ff5-bbdf-da93932162f1'content=' desenv' id='run-73c93206-4cb1-4ff5-bbdf-da93932162f1'content='olver' id='run-73c93206-4cb1-4ff5-bbdf-da93932162f1'content=' um' id='run-73c93206-4cb1-4ff5-bbdf-da93932162f1'content=' al' id='run-73c93206-4cb1-4ff5-bbdf-da93932162f1'content='gorit' id='run-73c93206-4cb1-4ff5-bbdf-da93932162f1'content='mo' id='run-73c93206-4cb1-4ff5-bbdf-da93932162f1'content=' que' id='run-73c93206-4cb1-4ff5-bbdf-da93932162f1'content=' pare' id='run-73c93206-4cb1-4ff5-bbdf-da93932162f1'content='cia' id='run-73c93206-4cb1-4ff5-bbdf-da93932162f1'content=' prom' id='run-73c93206-4cb1-4ff5-bbdf-da93932162f1'content='issor' id='run-73c93206-4cb1-4ff5-bbdf-da93932162f1'content='.' id='run-73c93206-4cb1-4ff5-bbdf-da93932162f1'content=' Ele' id='run-73c93206-4cb1-4ff5-bbdf-da93932162f1'content=' o' id='run-73c93206-4cb1-4ff5-bbdf-da93932162f1'content=' bat' id='run-73c93206-4cb1-4ff5-bbdf-da93932162f1'content='iz' id='run-73c93206-4cb1-4ff5-bbdf-da93932162f1'content='ou' id='run-73c93206-4cb1-4ff5-bbdf-da93932162f1'content=' de' id='run-73c93206-4cb1-4ff5-bbdf-da93932162f1'content=' \"' id='run-73c93206-4cb1-4ff5-bbdf-da93932162f1'content='M' id='run-73c93206-4cb1-4ff5-bbdf-da93932162f1'content='ente' id='run-73c93206-4cb1-4ff5-bbdf-da93932162f1'content=' Artificial' id='run-73c93206-4cb1-4ff5-bbdf-da93932162f1'content='\"' id='run-73c93206-4cb1-4ff5-bbdf-da93932162f1'content=' e' id='run-73c93206-4cb1-4ff5-bbdf-da93932162f1'content=' dec' id='run-73c93206-4cb1-4ff5-bbdf-da93932162f1'content='idi' id='run-73c93206-4cb1-4ff5-bbdf-da93932162f1'content='u' id='run-73c93206-4cb1-4ff5-bbdf-da93932162f1'content=' test' id='run-73c93206-4cb1-4ff5-bbdf-da93932162f1'content='á' id='run-73c93206-4cb1-4ff5-bbdf-da93932162f1'content='-lo' id='run-73c93206-4cb1-4ff5-bbdf-da93932162f1'content=' em' id='run-73c93206-4cb1-4ff5-bbdf-da93932162f1'content=' um' id='run-73c93206-4cb1-4ff5-bbdf-da93932162f1'content=' conjunto' id='run-73c93206-4cb1-4ff5-bbdf-da93932162f1'content=' de' id='run-73c93206-4cb1-4ff5-bbdf-da93932162f1'content=' dados' id='run-73c93206-4cb1-4ff5-bbdf-da93932162f1'content=' complex' id='run-73c93206-4cb1-4ff5-bbdf-da93932162f1'content='o' id='run-73c93206-4cb1-4ff5-bbdf-da93932162f1'content=',' id='run-73c93206-4cb1-4ff5-bbdf-da93932162f1'content=' para' id='run-73c93206-4cb1-4ff5-bbdf-da93932162f1'content=' ver' id='run-73c93206-4cb1-4ff5-bbdf-da93932162f1'content=' se' id='run-73c93206-4cb1-4ff5-bbdf-da93932162f1'content=' ele' id='run-73c93206-4cb1-4ff5-bbdf-da93932162f1'content=' era' id='run-73c93206-4cb1-4ff5-bbdf-da93932162f1'content=' cap' id='run-73c93206-4cb1-4ff5-bbdf-da93932162f1'content='az' id='run-73c93206-4cb1-4ff5-bbdf-da93932162f1'content=' de' id='run-73c93206-4cb1-4ff5-bbdf-da93932162f1'content=' aprender' id='run-73c93206-4cb1-4ff5-bbdf-da93932162f1'content=' e' id='run-73c93206-4cb1-4ff5-bbdf-da93932162f1'content=' fazer' id='run-73c93206-4cb1-4ff5-bbdf-da93932162f1'content=' pre' id='run-73c93206-4cb1-4ff5-bbdf-da93932162f1'content='vis' id='run-73c93206-4cb1-4ff5-bbdf-da93932162f1'content='ões' id='run-73c93206-4cb1-4ff5-bbdf-da93932162f1'content=' precis' id='run-73c93206-4cb1-4ff5-bbdf-da93932162f1'content='as' id='run-73c93206-4cb1-4ff5-bbdf-da93932162f1'content='.\\n\\n' id='run-73c93206-4cb1-4ff5-bbdf-da93932162f1'content='Para' id='run-73c93206-4cb1-4ff5-bbdf-da93932162f1'content=' sua' id='run-73c93206-4cb1-4ff5-bbdf-da93932162f1'content=' sur' id='run-73c93206-4cb1-4ff5-bbdf-da93932162f1'content='p' id='run-73c93206-4cb1-4ff5-bbdf-da93932162f1'content='resa' id='run-73c93206-4cb1-4ff5-bbdf-da93932162f1'content=',' id='run-73c93206-4cb1-4ff5-bbdf-da93932162f1'content=' o' id='run-73c93206-4cb1-4ff5-bbdf-da93932162f1'content=' al' id='run-73c93206-4cb1-4ff5-bbdf-da93932162f1'content='gorit' id='run-73c93206-4cb1-4ff5-bbdf-da93932162f1'content='mo' id='run-73c93206-4cb1-4ff5-bbdf-da93932162f1'content=' se' id='run-73c93206-4cb1-4ff5-bbdf-da93932162f1'content=' sa' id='run-73c93206-4cb1-4ff5-bbdf-da93932162f1'content='iu' id='run-73c93206-4cb1-4ff5-bbdf-da93932162f1'content=' incr' id='run-73c93206-4cb1-4ff5-bbdf-da93932162f1'content='ivel' id='run-73c93206-4cb1-4ff5-bbdf-da93932162f1'content='mente' id='run-73c93206-4cb1-4ff5-bbdf-da93932162f1'content=' bem' id='run-73c93206-4cb1-4ff5-bbdf-da93932162f1'content='.' id='run-73c93206-4cb1-4ff5-bbdf-da93932162f1'content=' Ele' id='run-73c93206-4cb1-4ff5-bbdf-da93932162f1'content=' foi' id='run-73c93206-4cb1-4ff5-bbdf-da93932162f1'content=' cap' id='run-73c93206-4cb1-4ff5-bbdf-da93932162f1'content='az' id='run-73c93206-4cb1-4ff5-bbdf-da93932162f1'content=' de' id='run-73c93206-4cb1-4ff5-bbdf-da93932162f1'content=' anal' id='run-73c93206-4cb1-4ff5-bbdf-da93932162f1'content='is' id='run-73c93206-4cb1-4ff5-bbdf-da93932162f1'content='ar' id='run-73c93206-4cb1-4ff5-bbdf-da93932162f1'content=' os' id='run-73c93206-4cb1-4ff5-bbdf-da93932162f1'content=' dados' id='run-73c93206-4cb1-4ff5-bbdf-da93932162f1'content=',' id='run-73c93206-4cb1-4ff5-bbdf-da93932162f1'content=' ident' id='run-73c93206-4cb1-4ff5-bbdf-da93932162f1'content='ificar' id='run-73c93206-4cb1-4ff5-bbdf-da93932162f1'content=' padr' id='run-73c93206-4cb1-4ff5-bbdf-da93932162f1'content='ões' id='run-73c93206-4cb1-4ff5-bbdf-da93932162f1'content=' oc' id='run-73c93206-4cb1-4ff5-bbdf-da93932162f1'content='ult' id='run-73c93206-4cb1-4ff5-bbdf-da93932162f1'content='os' id='run-73c93206-4cb1-4ff5-bbdf-da93932162f1'content=' e' id='run-73c93206-4cb1-4ff5-bbdf-da93932162f1'content=' fazer' id='run-73c93206-4cb1-4ff5-bbdf-da93932162f1'content=' pre' id='run-73c93206-4cb1-4ff5-bbdf-da93932162f1'content='vis' id='run-73c93206-4cb1-4ff5-bbdf-da93932162f1'content='ões' id='run-73c93206-4cb1-4ff5-bbdf-da93932162f1'content=' com' id='run-73c93206-4cb1-4ff5-bbdf-da93932162f1'content=' uma' id='run-73c93206-4cb1-4ff5-bbdf-da93932162f1'content=' precis' id='run-73c93206-4cb1-4ff5-bbdf-da93932162f1'content='ão' id='run-73c93206-4cb1-4ff5-bbdf-da93932162f1'content=' impression' id='run-73c93206-4cb1-4ff5-bbdf-da93932162f1'content='ante' id='run-73c93206-4cb1-4ff5-bbdf-da93932162f1'content='.' id='run-73c93206-4cb1-4ff5-bbdf-da93932162f1'content=' Lucas' id='run-73c93206-4cb1-4ff5-bbdf-da93932162f1'content=' estava' id='run-73c93206-4cb1-4ff5-bbdf-da93932162f1'content=' ext' id='run-73c93206-4cb1-4ff5-bbdf-da93932162f1'content='asi' id='run-73c93206-4cb1-4ff5-bbdf-da93932162f1'content='ado' id='run-73c93206-4cb1-4ff5-bbdf-da93932162f1'content=' com' id='run-73c93206-4cb1-4ff5-bbdf-da93932162f1'content=' o' id='run-73c93206-4cb1-4ff5-bbdf-da93932162f1'content=' sucesso' id='run-73c93206-4cb1-4ff5-bbdf-da93932162f1'content=' de' id='run-73c93206-4cb1-4ff5-bbdf-da93932162f1'content=' sua' id='run-73c93206-4cb1-4ff5-bbdf-da93932162f1'content=' cria' id='run-73c93206-4cb1-4ff5-bbdf-da93932162f1'content='ção' id='run-73c93206-4cb1-4ff5-bbdf-da93932162f1'content=' e' id='run-73c93206-4cb1-4ff5-bbdf-da93932162f1'content=' rapid' id='run-73c93206-4cb1-4ff5-bbdf-da93932162f1'content='amente' id='run-73c93206-4cb1-4ff5-bbdf-da93932162f1'content=' começ' id='run-73c93206-4cb1-4ff5-bbdf-da93932162f1'content='ou' id='run-73c93206-4cb1-4ff5-bbdf-da93932162f1'content=' a' id='run-73c93206-4cb1-4ff5-bbdf-da93932162f1'content=' pensar' id='run-73c93206-4cb1-4ff5-bbdf-da93932162f1'content=' em' id='run-73c93206-4cb1-4ff5-bbdf-da93932162f1'content=' todas' id='run-73c93206-4cb1-4ff5-bbdf-da93932162f1'content=' as' id='run-73c93206-4cb1-4ff5-bbdf-da93932162f1'content=' ap' id='run-73c93206-4cb1-4ff5-bbdf-da93932162f1'content='lica' id='run-73c93206-4cb1-4ff5-bbdf-da93932162f1'content='ções' id='run-73c93206-4cb1-4ff5-bbdf-da93932162f1'content=' pr' id='run-73c93206-4cb1-4ff5-bbdf-da93932162f1'content='áticas' id='run-73c93206-4cb1-4ff5-bbdf-da93932162f1'content=' que' id='run-73c93206-4cb1-4ff5-bbdf-da93932162f1'content=' ela' id='run-73c93206-4cb1-4ff5-bbdf-da93932162f1'content=' poder' id='run-73c93206-4cb1-4ff5-bbdf-da93932162f1'content='ia' id='run-73c93206-4cb1-4ff5-bbdf-da93932162f1'content=' ter' id='run-73c93206-4cb1-4ff5-bbdf-da93932162f1'content='.\\n\\n' id='run-73c93206-4cb1-4ff5-bbdf-da93932162f1'content='Com' id='run-73c93206-4cb1-4ff5-bbdf-da93932162f1'content=' o' id='run-73c93206-4cb1-4ff5-bbdf-da93932162f1'content=' pass' id='run-73c93206-4cb1-4ff5-bbdf-da93932162f1'content='ar' id='run-73c93206-4cb1-4ff5-bbdf-da93932162f1'content=' do' id='run-73c93206-4cb1-4ff5-bbdf-da93932162f1'content=' tempo' id='run-73c93206-4cb1-4ff5-bbdf-da93932162f1'content=',' id='run-73c93206-4cb1-4ff5-bbdf-da93932162f1'content=' o' id='run-73c93206-4cb1-4ff5-bbdf-da93932162f1'content=' al' id='run-73c93206-4cb1-4ff5-bbdf-da93932162f1'content='gorit' id='run-73c93206-4cb1-4ff5-bbdf-da93932162f1'content='mo' id='run-73c93206-4cb1-4ff5-bbdf-da93932162f1'content=' de' id='run-73c93206-4cb1-4ff5-bbdf-da93932162f1'content=' Lucas' id='run-73c93206-4cb1-4ff5-bbdf-da93932162f1'content=' se' id='run-73c93206-4cb1-4ff5-bbdf-da93932162f1'content=' torn' id='run-73c93206-4cb1-4ff5-bbdf-da93932162f1'content='ou' id='run-73c93206-4cb1-4ff5-bbdf-da93932162f1'content=' ampl' id='run-73c93206-4cb1-4ff5-bbdf-da93932162f1'content='amente' id='run-73c93206-4cb1-4ff5-bbdf-da93932162f1'content=' recon' id='run-73c93206-4cb1-4ff5-bbdf-da93932162f1'content='hec' id='run-73c93206-4cb1-4ff5-bbdf-da93932162f1'content='ido' id='run-73c93206-4cb1-4ff5-bbdf-da93932162f1'content=' e' id='run-73c93206-4cb1-4ff5-bbdf-da93932162f1'content=' utilizado' id='run-73c93206-4cb1-4ff5-bbdf-da93932162f1'content=' em' id='run-73c93206-4cb1-4ff5-bbdf-da93932162f1'content=' diversas' id='run-73c93206-4cb1-4ff5-bbdf-da93932162f1'content=' áreas' id='run-73c93206-4cb1-4ff5-bbdf-da93932162f1'content=',' id='run-73c93206-4cb1-4ff5-bbdf-da93932162f1'content=' desde' id='run-73c93206-4cb1-4ff5-bbdf-da93932162f1'content=' a' id='run-73c93206-4cb1-4ff5-bbdf-da93932162f1'content=' medic' id='run-73c93206-4cb1-4ff5-bbdf-da93932162f1'content='ina' id='run-73c93206-4cb1-4ff5-bbdf-da93932162f1'content=' até' id='run-73c93206-4cb1-4ff5-bbdf-da93932162f1'content=' a' id='run-73c93206-4cb1-4ff5-bbdf-da93932162f1'content=' econom' id='run-73c93206-4cb1-4ff5-bbdf-da93932162f1'content='ia' id='run-73c93206-4cb1-4ff5-bbdf-da93932162f1'content='.' id='run-73c93206-4cb1-4ff5-bbdf-da93932162f1'content=' S' id='run-73c93206-4cb1-4ff5-bbdf-da93932162f1'content='ua' id='run-73c93206-4cb1-4ff5-bbdf-da93932162f1'content=' cria' id='run-73c93206-4cb1-4ff5-bbdf-da93932162f1'content='ção' id='run-73c93206-4cb1-4ff5-bbdf-da93932162f1'content=' rev' id='run-73c93206-4cb1-4ff5-bbdf-da93932162f1'content='olucion' id='run-73c93206-4cb1-4ff5-bbdf-da93932162f1'content='ou' id='run-73c93206-4cb1-4ff5-bbdf-da93932162f1'content=' a' id='run-73c93206-4cb1-4ff5-bbdf-da93932162f1'content=' forma' id='run-73c93206-4cb1-4ff5-bbdf-da93932162f1'content=' como' id='run-73c93206-4cb1-4ff5-bbdf-da93932162f1'content=' as' id='run-73c93206-4cb1-4ff5-bbdf-da93932162f1'content=' pessoas' id='run-73c93206-4cb1-4ff5-bbdf-da93932162f1'content=' lid' id='run-73c93206-4cb1-4ff5-bbdf-da93932162f1'content='av' id='run-73c93206-4cb1-4ff5-bbdf-da93932162f1'content='am' id='run-73c93206-4cb1-4ff5-bbdf-da93932162f1'content=' com' id='run-73c93206-4cb1-4ff5-bbdf-da93932162f1'content=' grandes' id='run-73c93206-4cb1-4ff5-bbdf-da93932162f1'content=' quant' id='run-73c93206-4cb1-4ff5-bbdf-da93932162f1'content='idades' id='run-73c93206-4cb1-4ff5-bbdf-da93932162f1'content=' de' id='run-73c93206-4cb1-4ff5-bbdf-da93932162f1'content=' dados' id='run-73c93206-4cb1-4ff5-bbdf-da93932162f1'content=' e' id='run-73c93206-4cb1-4ff5-bbdf-da93932162f1'content=' ab' id='run-73c93206-4cb1-4ff5-bbdf-da93932162f1'content='ri' id='run-73c93206-4cb1-4ff5-bbdf-da93932162f1'content='u' id='run-73c93206-4cb1-4ff5-bbdf-da93932162f1'content=' nov' id='run-73c93206-4cb1-4ff5-bbdf-da93932162f1'content='as' id='run-73c93206-4cb1-4ff5-bbdf-da93932162f1'content=' poss' id='run-73c93206-4cb1-4ff5-bbdf-da93932162f1'content='ibil' id='run-73c93206-4cb1-4ff5-bbdf-da93932162f1'content='idades' id='run-73c93206-4cb1-4ff5-bbdf-da93932162f1'content=' para' id='run-73c93206-4cb1-4ff5-bbdf-da93932162f1'content=' a' id='run-73c93206-4cb1-4ff5-bbdf-da93932162f1'content=' ci' id='run-73c93206-4cb1-4ff5-bbdf-da93932162f1'content='ência' id='run-73c93206-4cb1-4ff5-bbdf-da93932162f1'content=' e' id='run-73c93206-4cb1-4ff5-bbdf-da93932162f1'content=' a' id='run-73c93206-4cb1-4ff5-bbdf-da93932162f1'content=' tecn' id='run-73c93206-4cb1-4ff5-bbdf-da93932162f1'content='ologia' id='run-73c93206-4cb1-4ff5-bbdf-da93932162f1'content='.\\n\\n' id='run-73c93206-4cb1-4ff5-bbdf-da93932162f1'content='Luc' id='run-73c93206-4cb1-4ff5-bbdf-da93932162f1'content='as' id='run-73c93206-4cb1-4ff5-bbdf-da93932162f1'content=' perce' id='run-73c93206-4cb1-4ff5-bbdf-da93932162f1'content='be' id='run-73c93206-4cb1-4ff5-bbdf-da93932162f1'content='u' id='run-73c93206-4cb1-4ff5-bbdf-da93932162f1'content=' que' id='run-73c93206-4cb1-4ff5-bbdf-da93932162f1'content=' o' id='run-73c93206-4cb1-4ff5-bbdf-da93932162f1'content=' verdade' id='run-73c93206-4cb1-4ff5-bbdf-da93932162f1'content='iro' id='run-73c93206-4cb1-4ff5-bbdf-da93932162f1'content=' poder' id='run-73c93206-4cb1-4ff5-bbdf-da93932162f1'content=' do' id='run-73c93206-4cb1-4ff5-bbdf-da93932162f1'content=' aprend' id='run-73c93206-4cb1-4ff5-bbdf-da93932162f1'content='izado' id='run-73c93206-4cb1-4ff5-bbdf-da93932162f1'content=' de' id='run-73c93206-4cb1-4ff5-bbdf-da93932162f1'content=' má' id='run-73c93206-4cb1-4ff5-bbdf-da93932162f1'content='quina' id='run-73c93206-4cb1-4ff5-bbdf-da93932162f1'content=' não' id='run-73c93206-4cb1-4ff5-bbdf-da93932162f1'content=' estava' id='run-73c93206-4cb1-4ff5-bbdf-da93932162f1'content=' apenas' id='run-73c93206-4cb1-4ff5-bbdf-da93932162f1'content=' em' id='run-73c93206-4cb1-4ff5-bbdf-da93932162f1'content=' sua' id='run-73c93206-4cb1-4ff5-bbdf-da93932162f1'content=' capac' id='run-73c93206-4cb1-4ff5-bbdf-da93932162f1'content='idade' id='run-73c93206-4cb1-4ff5-bbdf-da93932162f1'content=' de' id='run-73c93206-4cb1-4ff5-bbdf-da93932162f1'content=' process' id='run-73c93206-4cb1-4ff5-bbdf-da93932162f1'content='ar' id='run-73c93206-4cb1-4ff5-bbdf-da93932162f1'content=' informações' id='run-73c93206-4cb1-4ff5-bbdf-da93932162f1'content=',' id='run-73c93206-4cb1-4ff5-bbdf-da93932162f1'content=' mas' id='run-73c93206-4cb1-4ff5-bbdf-da93932162f1'content=' também' id='run-73c93206-4cb1-4ff5-bbdf-da93932162f1'content=' em' id='run-73c93206-4cb1-4ff5-bbdf-da93932162f1'content=' sua' id='run-73c93206-4cb1-4ff5-bbdf-da93932162f1'content=' capac' id='run-73c93206-4cb1-4ff5-bbdf-da93932162f1'content='idade' id='run-73c93206-4cb1-4ff5-bbdf-da93932162f1'content=' de' id='run-73c93206-4cb1-4ff5-bbdf-da93932162f1'content=' aprender' id='run-73c93206-4cb1-4ff5-bbdf-da93932162f1'content=' e' id='run-73c93206-4cb1-4ff5-bbdf-da93932162f1'content=' ev' id='run-73c93206-4cb1-4ff5-bbdf-da93932162f1'content='ol' id='run-73c93206-4cb1-4ff5-bbdf-da93932162f1'content='uir' id='run-73c93206-4cb1-4ff5-bbdf-da93932162f1'content=' constant' id='run-73c93206-4cb1-4ff5-bbdf-da93932162f1'content='emente' id='run-73c93206-4cb1-4ff5-bbdf-da93932162f1'content='.' id='run-73c93206-4cb1-4ff5-bbdf-da93932162f1'content=' Ele' id='run-73c93206-4cb1-4ff5-bbdf-da93932162f1'content=' aprend' id='run-73c93206-4cb1-4ff5-bbdf-da93932162f1'content='eu' id='run-73c93206-4cb1-4ff5-bbdf-da93932162f1'content=' que' id='run-73c93206-4cb1-4ff5-bbdf-da93932162f1'content=',' id='run-73c93206-4cb1-4ff5-bbdf-da93932162f1'content=' assim' id='run-73c93206-4cb1-4ff5-bbdf-da93932162f1'content=' como' id='run-73c93206-4cb1-4ff5-bbdf-da93932162f1'content=' sua' id='run-73c93206-4cb1-4ff5-bbdf-da93932162f1'content=' cria' id='run-73c93206-4cb1-4ff5-bbdf-da93932162f1'content='ção' id='run-73c93206-4cb1-4ff5-bbdf-da93932162f1'content=',' id='run-73c93206-4cb1-4ff5-bbdf-da93932162f1'content=' ele' id='run-73c93206-4cb1-4ff5-bbdf-da93932162f1'content=' também' id='run-73c93206-4cb1-4ff5-bbdf-da93932162f1'content=' precis' id='run-73c93206-4cb1-4ff5-bbdf-da93932162f1'content='ava' id='run-73c93206-4cb1-4ff5-bbdf-da93932162f1'content=' estar' id='run-73c93206-4cb1-4ff5-bbdf-da93932162f1'content=' ab' id='run-73c93206-4cb1-4ff5-bbdf-da93932162f1'content='erto' id='run-73c93206-4cb1-4ff5-bbdf-da93932162f1'content=' a' id='run-73c93206-4cb1-4ff5-bbdf-da93932162f1'content=' nov' id='run-73c93206-4cb1-4ff5-bbdf-da93932162f1'content='as' id='run-73c93206-4cb1-4ff5-bbdf-da93932162f1'content=' ide' id='run-73c93206-4cb1-4ff5-bbdf-da93932162f1'content='ias' id='run-73c93206-4cb1-4ff5-bbdf-da93932162f1'content=' e' id='run-73c93206-4cb1-4ff5-bbdf-da93932162f1'content=' des' id='run-73c93206-4cb1-4ff5-bbdf-da93932162f1'content='af' id='run-73c93206-4cb1-4ff5-bbdf-da93932162f1'content='ios' id='run-73c93206-4cb1-4ff5-bbdf-da93932162f1'content=',' id='run-73c93206-4cb1-4ff5-bbdf-da93932162f1'content=' para' id='run-73c93206-4cb1-4ff5-bbdf-da93932162f1'content=' continuar' id='run-73c93206-4cb1-4ff5-bbdf-da93932162f1'content=' cresc' id='run-73c93206-4cb1-4ff5-bbdf-da93932162f1'content='endo' id='run-73c93206-4cb1-4ff5-bbdf-da93932162f1'content=' e' id='run-73c93206-4cb1-4ff5-bbdf-da93932162f1'content=' se' id='run-73c93206-4cb1-4ff5-bbdf-da93932162f1'content=' desenv' id='run-73c93206-4cb1-4ff5-bbdf-da93932162f1'content='olv' id='run-73c93206-4cb1-4ff5-bbdf-da93932162f1'content='endo' id='run-73c93206-4cb1-4ff5-bbdf-da93932162f1'content='.\\n\\n' id='run-73c93206-4cb1-4ff5-bbdf-da93932162f1'content='E' id='run-73c93206-4cb1-4ff5-bbdf-da93932162f1'content=' assim' id='run-73c93206-4cb1-4ff5-bbdf-da93932162f1'content=',' id='run-73c93206-4cb1-4ff5-bbdf-da93932162f1'content=' Lucas' id='run-73c93206-4cb1-4ff5-bbdf-da93932162f1'content=' continu' id='run-73c93206-4cb1-4ff5-bbdf-da93932162f1'content='ou' id='run-73c93206-4cb1-4ff5-bbdf-da93932162f1'content=' sua' id='run-73c93206-4cb1-4ff5-bbdf-da93932162f1'content=' jorn' id='run-73c93206-4cb1-4ff5-bbdf-da93932162f1'content='ada' id='run-73c93206-4cb1-4ff5-bbdf-da93932162f1'content=' de' id='run-73c93206-4cb1-4ff5-bbdf-da93932162f1'content=' aprend' id='run-73c93206-4cb1-4ff5-bbdf-da93932162f1'content='izado' id='run-73c93206-4cb1-4ff5-bbdf-da93932162f1'content=',' id='run-73c93206-4cb1-4ff5-bbdf-da93932162f1'content=' sempre' id='run-73c93206-4cb1-4ff5-bbdf-da93932162f1'content=' em' id='run-73c93206-4cb1-4ff5-bbdf-da93932162f1'content=' busca' id='run-73c93206-4cb1-4ff5-bbdf-da93932162f1'content=' de' id='run-73c93206-4cb1-4ff5-bbdf-da93932162f1'content=' nov' id='run-73c93206-4cb1-4ff5-bbdf-da93932162f1'content='os' id='run-73c93206-4cb1-4ff5-bbdf-da93932162f1'content=' hor' id='run-73c93206-4cb1-4ff5-bbdf-da93932162f1'content='izont' id='run-73c93206-4cb1-4ff5-bbdf-da93932162f1'content='es' id='run-73c93206-4cb1-4ff5-bbdf-da93932162f1'content=' e' id='run-73c93206-4cb1-4ff5-bbdf-da93932162f1'content=' nov' id='run-73c93206-4cb1-4ff5-bbdf-da93932162f1'content='as' id='run-73c93206-4cb1-4ff5-bbdf-da93932162f1'content=' desc' id='run-73c93206-4cb1-4ff5-bbdf-da93932162f1'content='ob' id='run-73c93206-4cb1-4ff5-bbdf-da93932162f1'content='ertas' id='run-73c93206-4cb1-4ff5-bbdf-da93932162f1'content='.' id='run-73c93206-4cb1-4ff5-bbdf-da93932162f1'content=' E' id='run-73c93206-4cb1-4ff5-bbdf-da93932162f1'content=' sua' id='run-73c93206-4cb1-4ff5-bbdf-da93932162f1'content=' cria' id='run-73c93206-4cb1-4ff5-bbdf-da93932162f1'content='ção' id='run-73c93206-4cb1-4ff5-bbdf-da93932162f1'content=',' id='run-73c93206-4cb1-4ff5-bbdf-da93932162f1'content=' a' id='run-73c93206-4cb1-4ff5-bbdf-da93932162f1'content=' \"' id='run-73c93206-4cb1-4ff5-bbdf-da93932162f1'content='M' id='run-73c93206-4cb1-4ff5-bbdf-da93932162f1'content='ente' id='run-73c93206-4cb1-4ff5-bbdf-da93932162f1'content=' Artificial' id='run-73c93206-4cb1-4ff5-bbdf-da93932162f1'content='\",' id='run-73c93206-4cb1-4ff5-bbdf-da93932162f1'content=' continu' id='run-73c93206-4cb1-4ff5-bbdf-da93932162f1'content='ou' id='run-73c93206-4cb1-4ff5-bbdf-da93932162f1'content=' a' id='run-73c93206-4cb1-4ff5-bbdf-da93932162f1'content=' inspir' id='run-73c93206-4cb1-4ff5-bbdf-da93932162f1'content='ar' id='run-73c93206-4cb1-4ff5-bbdf-da93932162f1'content=' e' id='run-73c93206-4cb1-4ff5-bbdf-da93932162f1'content=' transform' id='run-73c93206-4cb1-4ff5-bbdf-da93932162f1'content='ar' id='run-73c93206-4cb1-4ff5-bbdf-da93932162f1'content=' o' id='run-73c93206-4cb1-4ff5-bbdf-da93932162f1'content=' mundo' id='run-73c93206-4cb1-4ff5-bbdf-da93932162f1'content=' ao' id='run-73c93206-4cb1-4ff5-bbdf-da93932162f1'content=' seu' id='run-73c93206-4cb1-4ff5-bbdf-da93932162f1'content=' red' id='run-73c93206-4cb1-4ff5-bbdf-da93932162f1'content='or' id='run-73c93206-4cb1-4ff5-bbdf-da93932162f1'content=',' id='run-73c93206-4cb1-4ff5-bbdf-da93932162f1'content=' mostr' id='run-73c93206-4cb1-4ff5-bbdf-da93932162f1'content='ando' id='run-73c93206-4cb1-4ff5-bbdf-da93932162f1'content=' que' id='run-73c93206-4cb1-4ff5-bbdf-da93932162f1'content=' o' id='run-73c93206-4cb1-4ff5-bbdf-da93932162f1'content=' verdade' id='run-73c93206-4cb1-4ff5-bbdf-da93932162f1'content='iro' id='run-73c93206-4cb1-4ff5-bbdf-da93932162f1'content=' poder' id='run-73c93206-4cb1-4ff5-bbdf-da93932162f1'content=' do' id='run-73c93206-4cb1-4ff5-bbdf-da93932162f1'content=' conhec' id='run-73c93206-4cb1-4ff5-bbdf-da93932162f1'content='imento' id='run-73c93206-4cb1-4ff5-bbdf-da93932162f1'content=' está' id='run-73c93206-4cb1-4ff5-bbdf-da93932162f1'content=' em' id='run-73c93206-4cb1-4ff5-bbdf-da93932162f1'content=' sua' id='run-73c93206-4cb1-4ff5-bbdf-da93932162f1'content=' capac' id='run-73c93206-4cb1-4ff5-bbdf-da93932162f1'content='idade' id='run-73c93206-4cb1-4ff5-bbdf-da93932162f1'content=' de' id='run-73c93206-4cb1-4ff5-bbdf-da93932162f1'content=' se' id='run-73c93206-4cb1-4ff5-bbdf-da93932162f1'content=' adapt' id='run-73c93206-4cb1-4ff5-bbdf-da93932162f1'content='ar' id='run-73c93206-4cb1-4ff5-bbdf-da93932162f1'content=' e' id='run-73c93206-4cb1-4ff5-bbdf-da93932162f1'content=' ev' id='run-73c93206-4cb1-4ff5-bbdf-da93932162f1'content='ol' id='run-73c93206-4cb1-4ff5-bbdf-da93932162f1'content='uir' id='run-73c93206-4cb1-4ff5-bbdf-da93932162f1'content='.' id='run-73c93206-4cb1-4ff5-bbdf-da93932162f1'content='' response_metadata={'finish_reason': 'stop'} id='run-73c93206-4cb1-4ff5-bbdf-da93932162f1'"
     ]
    }
   ],
   "source": [
    "prompt = \"Conte uma história sobre aprendizado de máquina\"\n",
    "for trecho in llm.stream(prompt):\n",
    "    print(trecho, end=\"\")"
   ]
  },
  {
   "cell_type": "code",
   "execution_count": 6,
   "metadata": {},
   "outputs": [
    {
     "data": {
      "text/plain": [
       "[AIMessage(content='A Memória RAM (Random Access Memory) é um tipo de memória volátil utilizada em computadores e dispositivos eletrônicos para armazenar temporariamente dados e instruções que estão sendo utilizados no momento. Ela é responsável por armazenar os dados que estão sendo processados pela CPU, permitindo um acesso rápido e eficiente a essas informações. A memória RAM é mais rápida do que o armazenamento de longo prazo, como discos rígidos ou SSDs, mas é apagada quando o dispositivo é desligado.', response_metadata={'token_usage': {'completion_tokens': 126, 'prompt_tokens': 14, 'total_tokens': 140, 'completion_tokens_details': {'accepted_prediction_tokens': 0, 'audio_tokens': 0, 'reasoning_tokens': 0, 'rejected_prediction_tokens': 0}, 'prompt_tokens_details': {'audio_tokens': 0, 'cached_tokens': 0}}, 'model_name': 'gpt-3.5-turbo', 'system_fingerprint': None, 'finish_reason': 'stop', 'logprobs': None}, id='run-401063e1-fe84-49d2-8ad0-908c2a64bdc5-0'),\n",
       " AIMessage(content='O disco rígido, também conhecido como HD (Hard Disk) ou HDD (Hard Disk Drive), é um dispositivo de armazenamento de dados magnético utilizado em computadores e outros dispositivos eletrônicos. Ele é responsável por armazenar permanentemente os dados do sistema operacional, programas, arquivos e documentos do usuário. O disco rígido é composto por discos magnéticos que giram a alta velocidade e cabeças de leitura/gravação que acessam as informações armazenadas nos discos. É um dos principais componentes de um computador e possui capacidade de armazenamento que pode variar de alguns gigabytes a vários terabytes.', response_metadata={'token_usage': {'completion_tokens': 148, 'prompt_tokens': 16, 'total_tokens': 164, 'completion_tokens_details': {'accepted_prediction_tokens': 0, 'audio_tokens': 0, 'reasoning_tokens': 0, 'rejected_prediction_tokens': 0}, 'prompt_tokens_details': {'audio_tokens': 0, 'cached_tokens': 0}}, 'model_name': 'gpt-3.5-turbo', 'system_fingerprint': None, 'finish_reason': 'stop', 'logprobs': None}, id='run-abacacaa-5ab8-41ca-a51b-661fbb095d45-0'),\n",
       " AIMessage(content='O processador, também conhecido como CPU (Unidade Central de Processamento), é o cérebro de um computador. Ele é responsável por executar as instruções dos programas e realizar cálculos, processando dados e informações de forma rápida e eficiente. O processador é um dos componentes mais importantes de um computador, pois determina sua velocidade e capacidade de processamento. Quanto mais potente for o processador, mais rápido e eficiente será o computador.', response_metadata={'token_usage': {'completion_tokens': 108, 'prompt_tokens': 14, 'total_tokens': 122, 'completion_tokens_details': {'accepted_prediction_tokens': 0, 'audio_tokens': 0, 'reasoning_tokens': 0, 'rejected_prediction_tokens': 0}, 'prompt_tokens_details': {'audio_tokens': 0, 'cached_tokens': 0}}, 'model_name': 'gpt-3.5-turbo', 'system_fingerprint': None, 'finish_reason': 'stop', 'logprobs': None}, id='run-625f0937-2b65-4188-959f-5e6c36d43612-0')]"
      ]
     },
     "execution_count": 6,
     "metadata": {},
     "output_type": "execute_result"
    }
   ],
   "source": [
    "perguntas = [\n",
    "    \"O que é Memória RAM?\",\n",
    "    \"O que é o Disco Rígido?\",\n",
    "    \"O que é o Processador?\"\n",
    "]\n",
    "\n",
    "llm.batch(perguntas)"
   ]
  },
  {
   "cell_type": "markdown",
   "metadata": {},
   "source": [
    "### ChatModels"
   ]
  },
  {
   "cell_type": "code",
   "execution_count": 7,
   "metadata": {},
   "outputs": [],
   "source": [
    "from langchain_openai import ChatOpenAI\n",
    "\n",
    "chat = ChatOpenAI(model=\"gpt-3.5-turbo-0125\")"
   ]
  },
  {
   "cell_type": "code",
   "execution_count": 8,
   "metadata": {},
   "outputs": [],
   "source": [
    "from langchain_core.messages import HumanMessage, SystemMessage\n",
    "\n",
    "mensagens = [\n",
    "    SystemMessage(content=\"Você é um assistente que responde com irônia\"),\n",
    "    HumanMessage(content=\"Qual o papel da memória cache?\")\n",
    "]\n",
    "\n",
    "resposta = chat.invoke(mensagens)"
   ]
  },
  {
   "cell_type": "code",
   "execution_count": 9,
   "metadata": {},
   "outputs": [
    {
     "data": {
      "text/plain": [
       "AIMessage(content='Ah, a memória cache, aquela que adora guardar temporariamente as informações só para te deixar na mão quando você mais precisa. É como um amigo que promete ajudar, mas some quando você mais precisa, sabe?', response_metadata={'token_usage': {'completion_tokens': 51, 'prompt_tokens': 31, 'total_tokens': 82, 'completion_tokens_details': {'accepted_prediction_tokens': 0, 'audio_tokens': 0, 'reasoning_tokens': 0, 'rejected_prediction_tokens': 0}, 'prompt_tokens_details': {'audio_tokens': 0, 'cached_tokens': 0}}, 'model_name': 'gpt-3.5-turbo-0125', 'system_fingerprint': None, 'finish_reason': 'stop', 'logprobs': None}, id='run-a0db291c-e8a8-4649-977a-ea86f72bc241-0')"
      ]
     },
     "execution_count": 9,
     "metadata": {},
     "output_type": "execute_result"
    }
   ],
   "source": [
    "resposta"
   ]
  },
  {
   "cell_type": "code",
   "execution_count": 10,
   "metadata": {},
   "outputs": [
    {
     "data": {
      "text/plain": [
       "{'token_usage': {'completion_tokens': 51,\n",
       "  'prompt_tokens': 31,\n",
       "  'total_tokens': 82,\n",
       "  'completion_tokens_details': {'accepted_prediction_tokens': 0,\n",
       "   'audio_tokens': 0,\n",
       "   'reasoning_tokens': 0,\n",
       "   'rejected_prediction_tokens': 0},\n",
       "  'prompt_tokens_details': {'audio_tokens': 0, 'cached_tokens': 0}},\n",
       " 'model_name': 'gpt-3.5-turbo-0125',\n",
       " 'system_fingerprint': None,\n",
       " 'finish_reason': 'stop',\n",
       " 'logprobs': None}"
      ]
     },
     "execution_count": 10,
     "metadata": {},
     "output_type": "execute_result"
    }
   ],
   "source": [
    "resposta.response_metadata"
   ]
  },
  {
   "cell_type": "markdown",
   "metadata": {},
   "source": [
    "### Prompt Few Shot"
   ]
  },
  {
   "cell_type": "code",
   "execution_count": 11,
   "metadata": {},
   "outputs": [],
   "source": [
    "from langchain_openai import ChatOpenAI\n",
    "\n",
    "chat = ChatOpenAI()"
   ]
  },
  {
   "cell_type": "code",
   "execution_count": 12,
   "metadata": {},
   "outputs": [
    {
     "data": {
      "text/plain": [
       "AIMessage(content='Domingo.', response_metadata={'token_usage': {'completion_tokens': 5, 'prompt_tokens': 55, 'total_tokens': 60, 'completion_tokens_details': {'accepted_prediction_tokens': 0, 'audio_tokens': 0, 'reasoning_tokens': 0, 'rejected_prediction_tokens': 0}, 'prompt_tokens_details': {'audio_tokens': 0, 'cached_tokens': 0}}, 'model_name': 'gpt-3.5-turbo', 'system_fingerprint': None, 'finish_reason': 'stop', 'logprobs': None}, id='run-2849ed6c-3d8e-4746-bd47-176c67c5e3d2-0')"
      ]
     },
     "execution_count": 12,
     "metadata": {},
     "output_type": "execute_result"
    }
   ],
   "source": [
    "from langchain_core.messages import HumanMessage, AIMessage\n",
    "\n",
    "mensagens = [\n",
    "    HumanMessage(content=\"Qual é o primeiro dia da semana?\"),\n",
    "    AIMessage(content=\"Domingo\"),\n",
    "    HumanMessage(content=\"Qual o terceiro dia da semana?\"),\n",
    "    AIMessage(content=\"Terça-Feira\"),\n",
    "    HumanMessage(content=\"Qual o último dia da semana?\")\n",
    "]\n",
    "\n",
    "chat.invoke(mensagens)"
   ]
  },
  {
   "cell_type": "code",
   "execution_count": 13,
   "metadata": {},
   "outputs": [
    {
     "name": "stdout",
     "output_type": "stream",
     "text": [
      "\u001b[32;1m\u001b[1;3m[llm/start]\u001b[0m \u001b[1m[llm:ChatOpenAI] Entering LLM run with input:\n",
      "\u001b[0m{\n",
      "  \"prompts\": [\n",
      "    \"Human: Qual é o primeiro dia da semana?\\nAI: Domingo\\nHuman: Qual o terceiro dia da semana?\\nAI: Terça-Feira\\nHuman: Qual o último dia da semana?\"\n",
      "  ]\n",
      "}\n",
      "\u001b[36;1m\u001b[1;3m[llm/end]\u001b[0m \u001b[1m[llm:ChatOpenAI] [1.68s] Exiting LLM run with output:\n",
      "\u001b[0m{\n",
      "  \"generations\": [\n",
      "    [\n",
      "      {\n",
      "        \"text\": \"Sábado\",\n",
      "        \"generation_info\": {\n",
      "          \"finish_reason\": \"stop\",\n",
      "          \"logprobs\": null\n",
      "        },\n",
      "        \"type\": \"ChatGeneration\",\n",
      "        \"message\": {\n",
      "          \"lc\": 1,\n",
      "          \"type\": \"constructor\",\n",
      "          \"id\": [\n",
      "            \"langchain\",\n",
      "            \"schema\",\n",
      "            \"messages\",\n",
      "            \"AIMessage\"\n",
      "          ],\n",
      "          \"kwargs\": {\n",
      "            \"content\": \"Sábado\",\n",
      "            \"response_metadata\": {\n",
      "              \"token_usage\": {\n",
      "                \"completion_tokens\": 3,\n",
      "                \"prompt_tokens\": 55,\n",
      "                \"total_tokens\": 58,\n",
      "                \"completion_tokens_details\": {\n",
      "                  \"accepted_prediction_tokens\": 0,\n",
      "                  \"audio_tokens\": 0,\n",
      "                  \"reasoning_tokens\": 0,\n",
      "                  \"rejected_prediction_tokens\": 0\n",
      "                },\n",
      "                \"prompt_tokens_details\": {\n",
      "                  \"audio_tokens\": 0,\n",
      "                  \"cached_tokens\": 0\n",
      "                }\n",
      "              },\n",
      "              \"model_name\": \"gpt-3.5-turbo\",\n",
      "              \"system_fingerprint\": null,\n",
      "              \"finish_reason\": \"stop\",\n",
      "              \"logprobs\": null\n",
      "            },\n",
      "            \"type\": \"ai\",\n",
      "            \"id\": \"run-c4a3473d-fab3-460a-a014-4149d09482ef-0\",\n",
      "            \"tool_calls\": [],\n",
      "            \"invalid_tool_calls\": []\n",
      "          }\n",
      "        }\n",
      "      }\n",
      "    ]\n",
      "  ],\n",
      "  \"llm_output\": {\n",
      "    \"token_usage\": {\n",
      "      \"completion_tokens\": 3,\n",
      "      \"prompt_tokens\": 55,\n",
      "      \"total_tokens\": 58,\n",
      "      \"completion_tokens_details\": {\n",
      "        \"accepted_prediction_tokens\": 0,\n",
      "        \"audio_tokens\": 0,\n",
      "        \"reasoning_tokens\": 0,\n",
      "        \"rejected_prediction_tokens\": 0\n",
      "      },\n",
      "      \"prompt_tokens_details\": {\n",
      "        \"audio_tokens\": 0,\n",
      "        \"cached_tokens\": 0\n",
      "      }\n",
      "    },\n",
      "    \"model_name\": \"gpt-3.5-turbo\",\n",
      "    \"system_fingerprint\": null\n",
      "  },\n",
      "  \"run\": null\n",
      "}\n"
     ]
    },
    {
     "data": {
      "text/plain": [
       "AIMessage(content='Sábado', response_metadata={'token_usage': {'completion_tokens': 3, 'prompt_tokens': 55, 'total_tokens': 58, 'completion_tokens_details': {'accepted_prediction_tokens': 0, 'audio_tokens': 0, 'reasoning_tokens': 0, 'rejected_prediction_tokens': 0}, 'prompt_tokens_details': {'audio_tokens': 0, 'cached_tokens': 0}}, 'model_name': 'gpt-3.5-turbo', 'system_fingerprint': None, 'finish_reason': 'stop', 'logprobs': None}, id='run-c4a3473d-fab3-460a-a014-4149d09482ef-0')"
      ]
     },
     "execution_count": 13,
     "metadata": {},
     "output_type": "execute_result"
    }
   ],
   "source": [
    "import langchain\n",
    "\n",
    "langchain.debug = True\n",
    "chat.invoke(mensagens)"
   ]
  },
  {
   "cell_type": "code",
   "execution_count": 14,
   "metadata": {},
   "outputs": [],
   "source": [
    "langchain.debug = False"
   ]
  },
  {
   "cell_type": "markdown",
   "metadata": {},
   "source": [
    "### Cacheamento"
   ]
  },
  {
   "cell_type": "code",
   "execution_count": 15,
   "metadata": {},
   "outputs": [],
   "source": [
    "from langchain_openai.chat_models import ChatOpenAI\n",
    "\n",
    "chat = ChatOpenAI(model=\"gpt-3.5-turbo-0125\")"
   ]
  },
  {
   "cell_type": "code",
   "execution_count": 16,
   "metadata": {},
   "outputs": [],
   "source": [
    "from langchain_core.messages import HumanMessage, SystemMessage\n",
    "\n",
    "mensagens = [\n",
    "    SystemMessage(content=\"Você é um assistente irônico\"),\n",
    "    HumanMessage(content=\"Qual o quinto dia da semana?\")\n",
    "]"
   ]
  },
  {
   "cell_type": "code",
   "execution_count": 17,
   "metadata": {},
   "outputs": [],
   "source": [
    "from langchain.cache import InMemoryCache\n",
    "from langchain.globals import set_llm_cache\n",
    "\n",
    "set_llm_cache(InMemoryCache())"
   ]
  },
  {
   "cell_type": "code",
   "execution_count": 18,
   "metadata": {},
   "outputs": [
    {
     "name": "stdout",
     "output_type": "stream",
     "text": [
      "CPU times: user 16.8 ms, sys: 2.98 ms, total: 19.8 ms\n",
      "Wall time: 935 ms\n"
     ]
    },
    {
     "data": {
      "text/plain": [
       "AIMessage(content='O quinto dia da semana é o dia que vem depois do quarto e antes do sexto. Ou seja, quinta-feira.', response_metadata={'token_usage': {'completion_tokens': 29, 'prompt_tokens': 27, 'total_tokens': 56, 'completion_tokens_details': {'accepted_prediction_tokens': 0, 'audio_tokens': 0, 'reasoning_tokens': 0, 'rejected_prediction_tokens': 0}, 'prompt_tokens_details': {'audio_tokens': 0, 'cached_tokens': 0}}, 'model_name': 'gpt-3.5-turbo-0125', 'system_fingerprint': None, 'finish_reason': 'stop', 'logprobs': None}, id='run-54029407-5721-41ce-981a-a4a08314daf7-0')"
      ]
     },
     "execution_count": 18,
     "metadata": {},
     "output_type": "execute_result"
    }
   ],
   "source": [
    "%%time\n",
    "chat.invoke(mensagens)"
   ]
  },
  {
   "cell_type": "code",
   "execution_count": 19,
   "metadata": {},
   "outputs": [
    {
     "name": "stdout",
     "output_type": "stream",
     "text": [
      "CPU times: user 3.7 ms, sys: 97 μs, total: 3.8 ms\n",
      "Wall time: 3 ms\n"
     ]
    },
    {
     "data": {
      "text/plain": [
       "AIMessage(content='O quinto dia da semana é o dia que vem depois do quarto e antes do sexto. Ou seja, quinta-feira.', response_metadata={'token_usage': {'completion_tokens': 29, 'prompt_tokens': 27, 'total_tokens': 56, 'completion_tokens_details': {'accepted_prediction_tokens': 0, 'audio_tokens': 0, 'reasoning_tokens': 0, 'rejected_prediction_tokens': 0}, 'prompt_tokens_details': {'audio_tokens': 0, 'cached_tokens': 0}}, 'model_name': 'gpt-3.5-turbo-0125', 'system_fingerprint': None, 'finish_reason': 'stop', 'logprobs': None}, id='run-54029407-5721-41ce-981a-a4a08314daf7-0')"
      ]
     },
     "execution_count": 19,
     "metadata": {},
     "output_type": "execute_result"
    }
   ],
   "source": [
    "%%time\n",
    "chat.invoke(mensagens)"
   ]
  },
  {
   "cell_type": "code",
   "execution_count": 20,
   "metadata": {},
   "outputs": [],
   "source": [
    "from langchain.cache import SQLiteCache\n",
    "from langchain.globals import set_llm_cache\n",
    "\n",
    "set_llm_cache(SQLiteCache(database_path=\"files/langchain_cache.sqlite\"))"
   ]
  },
  {
   "cell_type": "code",
   "execution_count": 21,
   "metadata": {},
   "outputs": [
    {
     "name": "stdout",
     "output_type": "stream",
     "text": [
      "CPU times: user 30.5 ms, sys: 938 μs, total: 31.5 ms\n",
      "Wall time: 990 ms\n"
     ]
    },
    {
     "data": {
      "text/plain": [
       "AIMessage(content='Ah, o quinto dia da semana é o... quinta-feira! Surpreendente, não é?', response_metadata={'token_usage': {'completion_tokens': 24, 'prompt_tokens': 27, 'total_tokens': 51, 'completion_tokens_details': {'accepted_prediction_tokens': 0, 'audio_tokens': 0, 'reasoning_tokens': 0, 'rejected_prediction_tokens': 0}, 'prompt_tokens_details': {'audio_tokens': 0, 'cached_tokens': 0}}, 'model_name': 'gpt-3.5-turbo-0125', 'system_fingerprint': None, 'finish_reason': 'stop', 'logprobs': None}, id='run-d998e517-9892-4d9f-b0e3-a12223011910-0')"
      ]
     },
     "execution_count": 21,
     "metadata": {},
     "output_type": "execute_result"
    }
   ],
   "source": [
    "%%time\n",
    "chat.invoke(mensagens)"
   ]
  },
  {
   "cell_type": "code",
   "execution_count": 22,
   "metadata": {},
   "outputs": [
    {
     "name": "stdout",
     "output_type": "stream",
     "text": [
      "CPU times: user 12.4 ms, sys: 4.05 ms, total: 16.4 ms\n",
      "Wall time: 16.5 ms\n"
     ]
    },
    {
     "data": {
      "text/plain": [
       "AIMessage(content='Ah, o quinto dia da semana é o... quinta-feira! Surpreendente, não é?', response_metadata={'token_usage': {'completion_tokens': 24, 'prompt_tokens': 27, 'total_tokens': 51, 'completion_tokens_details': {'accepted_prediction_tokens': 0, 'audio_tokens': 0, 'reasoning_tokens': 0, 'rejected_prediction_tokens': 0}, 'prompt_tokens_details': {'audio_tokens': 0, 'cached_tokens': 0}}, 'model_name': 'gpt-3.5-turbo-0125', 'system_fingerprint': None, 'finish_reason': 'stop', 'logprobs': None}, id='run-d998e517-9892-4d9f-b0e3-a12223011910-0')"
      ]
     },
     "execution_count": 22,
     "metadata": {},
     "output_type": "execute_result"
    }
   ],
   "source": [
    "%%time\n",
    "chat.invoke(mensagens)"
   ]
  }
 ],
 "metadata": {
  "kernelspec": {
   "display_name": "base",
   "language": "python",
   "name": "python3"
  },
  "language_info": {
   "codemirror_mode": {
    "name": "ipython",
    "version": 3
   },
   "file_extension": ".py",
   "mimetype": "text/x-python",
   "name": "python",
   "nbconvert_exporter": "python",
   "pygments_lexer": "ipython3",
   "version": "3.12.2"
  }
 },
 "nbformat": 4,
 "nbformat_minor": 2
}
