{
 "cells": [
  {
   "cell_type": "code",
   "execution_count": 1,
   "metadata": {},
   "outputs": [],
   "source": [
    "import wikipedia\n",
    "from langchain.agents import tool\n",
    "\n",
    "wikipedia.set_lang(\"pt\")"
   ]
  },
  {
   "cell_type": "code",
   "execution_count": 2,
   "metadata": {},
   "outputs": [],
   "source": [
    "@tool\n",
    "def busca_wikipedia(query: str):\n",
    "    \"\"\"Busca dados no wikipedia e retorna resumos de páginas para a query\"\"\"\n",
    "    titulo_paginas = wikipedia.search(query)\n",
    "    resumos = []\n",
    "    for titulo in titulo_paginas[:3]:\n",
    "        try:\n",
    "            wiki_page = wikipedia.page(title=titulo, auto_suggest=True)\n",
    "            resumos.append(f\"Título: {titulo}\\nResumo: {wiki_page.summary}\")\n",
    "        except:\n",
    "            pass\n",
    "    if not resumos:\n",
    "        return \"Busca não teve retorno\"\n",
    "    else:\n",
    "        return \"\\n\\n\".join(resumos)"
   ]
  },
  {
   "cell_type": "code",
   "execution_count": 4,
   "metadata": {},
   "outputs": [
    {
     "data": {
      "text/plain": [
       "'Título: Mestrado em Direito\\nResumo: O Mestrado em Direito é um nível acadêmico avançado, comumente abreviado como LL.M. (também LLM), sendo um acrônimo para legum magister.\\n\\nTítulo: Modelos de linguagem de grande escala\\nResumo: Modelos de linguagem de grande escala (em inglês:  Large Language Model ou LLM) são modelos de linguagem compostos por uma rede neural com muitos parâmetros (tipicamente bilhões ou possivelmente mais). São treinados com grandes quantidades de textos não rotulado usando aprendizado de máquina não-supervisionado. Os LLM surgiram por volta de 2018, com o modelo BERT. Estes têm bom desempenho em uma ampla variedade de tarefas. Isso mudou o foco da pesquisa em processamento de linguagem natural, afastando-se do paradigma anterior de treinar modelos supervisionados especializados para tarefas específicas.\\n\\nTítulo: ChatGPT\\nResumo: ChatGPT (do inglês: Chat Generative Pre-trained Transformer) é um chatbot desenvolvido pela OpenAI e lançado em 30 de novembro de 2022. O nome \"ChatGPT\" combina \"Chat\", referindo-se à sua funcionalidade de chatbot, e \"GPT\", que significa Generative Pre-trained Transformer (Transformador Pré-treinado Generativo, em tradução livre), um tipo de modelo de linguagem grande (Large Language Model, LLM, na sigla em inglês). Com base em um LLM, ele usa como contexto, prompts e respostas sucessivas para prever as palavras que seriam mais adequadas, de acordo com as ideias da empresa, para compor a nova resposta; o algoritmo para essa previsão resulta do seu treinamento. Assim, o ChatGPT também permite que utilizadores refinem e direcionem uma conversa para a duração, formato, estilo, nível de detalhe e linguagem desejados.\\nEm janeiro de 2023, o ChatGPT havia tornado-se a aplicação de software de consumo de crescimento mais rápido da história, conquistando mais de 100 milhões de utilizadores e contribuindo para o crescimento da avaliação da OpenAI para 29 bilhões de dólares. O lançamento do ChatGPT estimulou o desenvolvimento de produtos concorrentes, incluindo Gemini, Ernie Bot, LLaMA, Claude e Grok. A Microsoft lançou o Copilot, baseado no GPT-4 da OpenAI. Alguns observadores manifestaram preocupação sobre o potencial do ChatGPT e de programas semelhantes para substituir ou atrofiar a inteligência humana, permitir o plágio ou alimentar a desinformação.\\nO ChatGPT está disponível para uso online em três versões, uma construída em GPT-4, outra em GPT-4o e outra em GPT-o mini, todas membros da série proprietária de modelos transformadores generativos pré-treinados (GPT) da OpenAI, com base na arquitetura de transformador desenvolvida do Google - e é ajustada para aplicações de conversação usando uma combinação de aprendizagem supervisionada e aprendizagem por reforço. O ChatGPT foi lançado como uma previsualização de investigação disponível gratuitamente, mas devido à sua popularidade, a OpenAI agora opera o serviço num modelo freemium. Ele permite que os utilizadores no seu nível gratuito acessem a versão baseada em GPT-4o mini, enquanto que as versões mais avançadas baseadas em GPT-4 e GPT-4o e o acesso prioritário aos recursos mais recentes são fornecidos aos assinantes pagos sob o nome comercial \"ChatGPT Plus\".\\nO ChatGPT é creditado por iniciar o boom da IA, que levou a um investimento rápido e sem precedentes e à atenção do público no campo da inteligência artificial.\\n\\n'"
      ]
     },
     "execution_count": 4,
     "metadata": {},
     "output_type": "execute_result"
    }
   ],
   "source": [
    "busca_wikipedia.invoke({\"query\": \"llm\"})"
   ]
  },
  {
   "cell_type": "code",
   "execution_count": 6,
   "metadata": {},
   "outputs": [],
   "source": [
    "from dotenv import load_dotenv\n",
    "import os\n",
    "\n",
    "load_dotenv()  # Carregar as variáveis do .env\n",
    "\n",
    "# Verificar se a chave foi carregada corretamente\n",
    "api_key = os.getenv(\"OPENAI_API_KEY\")\n",
    "if not api_key:\n",
    "    raise ValueError(\"OPENAI_API_KEY não encontrada no arquivo .env\")"
   ]
  },
  {
   "cell_type": "code",
   "execution_count": 12,
   "metadata": {},
   "outputs": [],
   "source": [
    "from langchain.prompts import ChatPromptTemplate\n",
    "from langchain_openai import ChatOpenAI\n",
    "from langchain_core.utils.function_calling import convert_to_openai_function\n",
    "\n",
    "prompt = ChatPromptTemplate.from_messages([\n",
    "    (\"system\", \"Você é um assistente que sabe sobre futebol\"),\n",
    "    (\"user\", \"{input}\")\n",
    "])\n",
    "\n",
    "chat = ChatOpenAI()\n",
    "\n",
    "tools = [convert_to_openai_function(busca_wikipedia)]\n",
    "\n",
    "chain = prompt | chat.bind(functions=tools)"
   ]
  },
  {
   "cell_type": "code",
   "execution_count": 13,
   "metadata": {},
   "outputs": [
    {
     "data": {
      "text/plain": [
       "AIMessage(content='Olá! Como posso te ajudar hoje?', response_metadata={'token_usage': {'completion_tokens': 13, 'prompt_tokens': 78, 'total_tokens': 91, 'completion_tokens_details': {'accepted_prediction_tokens': 0, 'audio_tokens': 0, 'reasoning_tokens': 0, 'rejected_prediction_tokens': 0}, 'prompt_tokens_details': {'audio_tokens': 0, 'cached_tokens': 0}}, 'model_name': 'gpt-3.5-turbo', 'system_fingerprint': None, 'finish_reason': 'stop', 'logprobs': None}, id='run-bf710ccc-d69e-44b6-a244-19f8a49b2d71-0')"
      ]
     },
     "execution_count": 13,
     "metadata": {},
     "output_type": "execute_result"
    }
   ],
   "source": [
    "chain.invoke({\"input\": \"olá\"})"
   ]
  },
  {
   "cell_type": "code",
   "execution_count": 15,
   "metadata": {},
   "outputs": [
    {
     "data": {
      "text/plain": [
       "AIMessage(content='Tanto Ronaldinho Gaúcho quanto Messi são considerados dois dos maiores jogadores de futebol da história. Cada um tem suas próprias habilidades e conquistas que os destacam. Ronaldinho Gaúcho era conhecido por sua criatividade, habilidade técnica e dribles incríveis, enquanto Messi é conhecido por sua consistência, habilidade de marcar gols e visão de jogo excepcionais.\\n\\nRonaldinho Gaúcho teve um impacto significativo no Barcelona durante sua passagem pelo clube, conquistando títulos importantes, como a Liga dos Campeões da UEFA e o Campeonato Espanhol. Messi, por sua vez, é considerado por muitos como um dos maiores jogadores de todos os tempos, tendo conquistado inúmeros títulos com o Barcelona, incluindo várias Bolas de Ouro.\\n\\nEm termos de comparação direta, pode ser difícil determinar quem foi melhor, pois são jogadores diferentes em estilos e épocas diferentes. No entanto, ambos deixaram um legado duradouro no mundo do futebol e são admirados por milhões de fãs em todo o mundo.', response_metadata={'token_usage': {'completion_tokens': 261, 'prompt_tokens': 88, 'total_tokens': 349, 'completion_tokens_details': {'accepted_prediction_tokens': 0, 'audio_tokens': 0, 'reasoning_tokens': 0, 'rejected_prediction_tokens': 0}, 'prompt_tokens_details': {'audio_tokens': 0, 'cached_tokens': 0}}, 'model_name': 'gpt-3.5-turbo', 'system_fingerprint': None, 'finish_reason': 'stop', 'logprobs': None}, id='run-b9ee5182-41a2-406f-a435-2ccbbe993ff9-0')"
      ]
     },
     "execution_count": 15,
     "metadata": {},
     "output_type": "execute_result"
    }
   ],
   "source": [
    "chain.invoke({\"input\": \"Quem foi melhor Ronaldinho Gaúcho ou Messi?\"})"
   ]
  }
 ],
 "metadata": {
  "kernelspec": {
   "display_name": "base",
   "language": "python",
   "name": "python3"
  },
  "language_info": {
   "codemirror_mode": {
    "name": "ipython",
    "version": 3
   },
   "file_extension": ".py",
   "mimetype": "text/x-python",
   "name": "python",
   "nbconvert_exporter": "python",
   "pygments_lexer": "ipython3",
   "version": "3.12.2"
  }
 },
 "nbformat": 4,
 "nbformat_minor": 2
}
