{
 "cells": [
  {
   "cell_type": "code",
   "execution_count": 2,
   "metadata": {},
   "outputs": [],
   "source": [
    "from dotenv import load_dotenv\n",
    "import os\n",
    "\n",
    "load_dotenv()  # Carregar as variáveis do .env\n",
    "\n",
    "# Verificar se a chave foi carregada corretamente\n",
    "api_key = os.getenv(\"OPENAI_API_KEY\")\n",
    "if not api_key:\n",
    "    raise ValueError(\"OPENAI_API_KEY não encontrada no arquivo .env\")"
   ]
  },
  {
   "cell_type": "code",
   "execution_count": 3,
   "metadata": {},
   "outputs": [],
   "source": [
    "texto = \"\"\"\n",
    "A Microsoft foi fundada em 4 de abril de 1975 por Bill Gates e Paul Allen, em Albuquerque, \n",
    "no estado do Novo México. O nome \"Microsoft\" é uma combinação das palavras \"microcomputador\" \n",
    "e \"software\", refletindo o foco da empresa em software para computadores pessoais.\n",
    "O primeiro grande projeto da Microsoft foi a criação de um sistema operacional para o \n",
    "computador Altair 8800, um dos primeiros microcomputadores disponíveis comercialmente. \n",
    "O sistema, denominado Altair BASIC, foi desenvolvido em parceria com a MITS \n",
    "(Micro Instrumentation and Telemetry Systems) e foi um marco inicial para a Microsoft.\n",
    "Em 1980, a empresa firmou um contrato significativo com a IBM para fornecer o sistema \n",
    "operacional para o novo PC da IBM, o que levou à criação do MS-DOS. Esse contrato foi um \n",
    "ponto de virada para a Microsoft, impulsionando sua expansão e dominando o mercado de \n",
    "sistemas operacionais para PCs nos anos seguintes.\n",
    "Com o sucesso do MS-DOS, a Microsoft se consolidou como líder no setor de software e, \n",
    "em 1985, lançou o Windows, um sistema operacional gráfico que viria a se tornar a base \n",
    "de sua supremacia no mercado de sistemas operacionais para desktop.\n",
    "\"\"\""
   ]
  },
  {
   "cell_type": "code",
   "execution_count": 4,
   "metadata": {},
   "outputs": [],
   "source": [
    "from langchain.pydantic_v1 import BaseModel, Field\n",
    "from typing import List\n",
    "from langchain_core.utils.function_calling import convert_to_openai_function"
   ]
  },
  {
   "cell_type": "code",
   "execution_count": 5,
   "metadata": {},
   "outputs": [
    {
     "data": {
      "text/plain": [
       "{'name': 'EventsList',\n",
       " 'description': 'Lista de Eventos para Extração',\n",
       " 'parameters': {'type': 'object',\n",
       "  'properties': {'events': {'description': 'Conjunto de eventos encontrados no texto fornecido',\n",
       "    'type': 'array',\n",
       "    'items': {'description': 'Informações sobre um evento ocorrido',\n",
       "     'type': 'object',\n",
       "     'properties': {'date': {'description': 'Data do evento no formato YYYY-MM-DD',\n",
       "       'type': 'string'},\n",
       "      'event': {'description': 'Descrição do evento extraído do texto',\n",
       "       'type': 'string'}},\n",
       "     'required': ['date', 'event']}}},\n",
       "  'required': ['events']}}"
      ]
     },
     "execution_count": 5,
     "metadata": {},
     "output_type": "execute_result"
    }
   ],
   "source": [
    "class Event(BaseModel):\n",
    "    \"\"\"Informações sobre um evento ocorrido\"\"\"\n",
    "    date: str = Field(description=\"Data do evento no formato YYYY-MM-DD\")\n",
    "    event: str = Field(description=\"Descrição do evento extraído do texto\")\n",
    "    \n",
    "class EventsList(BaseModel):\n",
    "    \"\"\"Lista de Eventos para Extração\"\"\"\n",
    "    events: List[Event] = Field(description=\"Conjunto de eventos encontrados no texto fornecido\")\n",
    "    \n",
    "tool_events = convert_to_openai_function(EventsList)\n",
    "tool_events"
   ]
  },
  {
   "cell_type": "code",
   "execution_count": 6,
   "metadata": {},
   "outputs": [],
   "source": [
    "from langchain.prompts import ChatPromptTemplate\n",
    "from langchain_openai import ChatOpenAI\n",
    "\n",
    "prompt = ChatPromptTemplate.from_messages([\n",
    "    (\"system\", \"Extraia as frases de acontecimentos e as extraia integralmente\"),\n",
    "    (\"user\", \"{input}\")\n",
    "])\n",
    "\n",
    "chat = ChatOpenAI()\n",
    "\n",
    "chain = (prompt | chat.bind(functions=[tool_events],\n",
    "                            function_call={\"name\":\"EventsList\"}))"
   ]
  },
  {
   "cell_type": "code",
   "execution_count": 7,
   "metadata": {},
   "outputs": [
    {
     "data": {
      "text/plain": [
       "AIMessage(content='', additional_kwargs={'function_call': {'arguments': '{\"events\":[{\"date\":\"1975-04-04\",\"event\":\"A Microsoft foi fundada por Bill Gates e Paul Allen em Albuquerque, Novo México.\"},{\"date\":\"1980\",\"event\":\"A Microsoft firmou contrato com a IBM para fornecer o sistema operacional para o novo PC, resultando no desenvolvimento do MS-DOS.\"},{\"date\":\"1985\",\"event\":\"A Microsoft lançou o Windows, um sistema operacional gráfico que se tornou a base de sua supremacia no mercado de sistemas operacionais para desktop.\"}]}', 'name': 'EventsList'}}, response_metadata={'token_usage': {'completion_tokens': 114, 'prompt_tokens': 426, 'total_tokens': 540, 'completion_tokens_details': {'accepted_prediction_tokens': 0, 'audio_tokens': 0, 'reasoning_tokens': 0, 'rejected_prediction_tokens': 0}, 'prompt_tokens_details': {'audio_tokens': 0, 'cached_tokens': 0}}, 'model_name': 'gpt-3.5-turbo', 'system_fingerprint': None, 'finish_reason': 'stop', 'logprobs': None}, id='run-2cd97d97-5c49-4806-8402-dcfa5f5780bb-0')"
      ]
     },
     "execution_count": 7,
     "metadata": {},
     "output_type": "execute_result"
    }
   ],
   "source": [
    "chain.invoke({\"input\": texto})"
   ]
  },
  {
   "cell_type": "code",
   "execution_count": 8,
   "metadata": {},
   "outputs": [
    {
     "data": {
      "text/plain": [
       "{'events': [{'date': '1975-04-04',\n",
       "   'event': 'A Microsoft foi fundada por Bill Gates e Paul Allen em Albuquerque, Novo México.'},\n",
       "  {'date': '1980',\n",
       "   'event': 'A Microsoft firmou um contrato com a IBM para fornecer o sistema operacional para o novo PC, levando à criação do MS-DOS.'},\n",
       "  {'date': '1985',\n",
       "   'event': 'A Microsoft lançou o Windows, um sistema operacional gráfico que se tornou a base de sua supremacia no mercado de sistemas operacionais para desktop.'}]}"
      ]
     },
     "execution_count": 8,
     "metadata": {},
     "output_type": "execute_result"
    }
   ],
   "source": [
    "from langchain.output_parsers.openai_functions import JsonOutputFunctionsParser\n",
    "\n",
    "chain = (prompt \n",
    "         | chat.bind(functions=[tool_events], function_call={'name': 'EventsList'})\n",
    "         | JsonOutputFunctionsParser())\n",
    "\n",
    "chain.invoke({'input': texto})"
   ]
  },
  {
   "cell_type": "markdown",
   "metadata": {},
   "source": [
    "### Dados da Web"
   ]
  },
  {
   "cell_type": "code",
   "execution_count": 10,
   "metadata": {},
   "outputs": [
    {
     "data": {
      "text/plain": [
       "[Document(page_content=' ge.globo - É esporte sempre                                                                                                                                                                 TIMES      Série A                                                                                                          Série B                                                                                                          Europa                                                                                                                         \\xa0é o seu time do coração?   Sim Não    Obrigado pela participação.  Nós usaremos esta informação para trazer mais novidades para você.     Notícias de esportes personalizadas De 0 a 10, qual a sua satisfação com o conteúdo especialmente selecionado para você? Em uma escala, considere 0: insatisfeito e 10: muito satisfeito.  012345 678910  Concluir     Como podemos tornar sua experiência de consumo de notícias de esportes mais personalizada?  Enviar comentário   Obrigado por participar      Queremos saber a sua opinião   \\n\\n          \\n\\nFique por dentro das negociações; clique aquiOntemsantosAO VIVO: assista à apresentação de Tiquinho SoaresHá 32 minutos santos Presidente diz que Zé Rafael vai passar por cirurgia na colunaHá 32 minutosmercado da bolaFluminense acerta venda de Kauã Elias para o Shakhtar DonetskHá 1 hora fluminense Vitória anuncia chegada do atacante CarlinhosHá 1 horaGrêmio fica perto de atacante belgaHá 1 horafutebol internacionalCristiano Ronaldo defende Vini Jr. como melhor e critica Bola de Ouro: \"Não há credibilidade\"CR7 compara derrota de Vini Jr. na premiação com as suas: \"Me senti da mesma forma\"Há 7 horas futebol internacional flamengoArrascaeta e Bruno Henrique recebem homenagem por recorde de títulos pelo FlamengoHá 9 horas flamengo Flamengo preserva titulares para jogo contra a PortuguesaHá 9 horasFlamengo libera Varela para ir ao velório da mãe no UruguaiHá 9 horasApós 1º título em 36 dias, José Boto tem desafio de quebrar \"sina\"Há 9 horasanálise\"Cristiano Ronaldo não é nem o mais completo da história\", diz André RizekHá 3 horas André Rizek analisa são pauloVaza imagem de suposta terceira camisa do São Paulo em homenagem a Rogério CeniFotografia rodou as redes sociais nesta terça-feira; clube e fornecedora não confirmam veracidadeHá 1 hora são paulo Veja mais\\n               \\n\\n\\n\\n\\n\\n\\n\\n\\n\\n\\nagenda\\ntabelas\\n\\n\\n\\n\\n\\n\\n© Copyright 2000-2025 Globo Comunicação e Participações S.A.\\n\\nprincípios editoriais\\npolítica de privacidade\\nminha conta\\nanuncie conosco\\n\\n\\n\\n\\n           \\n\\n\\n\\n\\n\\n\\n\\nvai e vem do mercado\\n\\n\\n\\n\\nagenda\\n\\n\\n\\n\\ntimes\\n\\n\\n\\n\\n\\nmenu ge\\n\\n\\n\\ntimes\\n\\n\\n\\n--\\n\\n\\n \\n\\n\\ntabelas\\n\\n\\n\\n\\n\\nmenu ge\\n\\n\\n\\ntabelas\\n\\n\\n\\nnacionais\\n\\n\\n\\n\\n\\ntabelas\\n\\n\\n\\nnacionais\\n\\n\\n\\ncopa sp de futebol jr\\n\\n\\n\\n\\nsupercopa rei do brasil\\n\\n\\n\\n\\nbrasileirão série a\\n\\n\\n\\n\\ncopa do brasil\\n\\n\\n\\n\\nbrasileirão série b\\n\\n\\n\\n\\nbrasileirão série c\\n\\n\\n\\n\\nbrasileirão série d\\n\\n\\n\\n\\nbrasileirão feminino\\n\\n\\n\\n\\nbrasileirão feminino a2\\n\\n\\n\\n\\nbrasileirão feminino a3\\n\\n\\n\\n\\nsupercopa feminina\\n\\n\\n\\n\\nbrasileirão sub-20\\n\\n\\n\\n\\ncopa do brasil sub-20\\n\\n\\n\\n\\nbrasileirão sub-17\\n\\n\\n\\n\\ncopa do brasil sub-17\\n\\n\\n \\n\\n\\ninternacionais\\n\\n\\n\\n\\n\\ntabelas\\n\\n\\n\\ninternacionais\\n\\n\\n\\nsul-americano sub-20\\n\\n\\n\\n\\nchampions league\\n\\n\\n\\n\\nliga europa\\n\\n\\n\\n\\nliga conferência\\n\\n\\n\\n\\npremier league\\n\\n\\n\\n\\ncopa da liga inglesa\\n\\n\\n\\n\\ncopa da inglaterra\\n\\n\\n\\n\\nla liga\\n\\n\\n\\n\\ncopa do rei\\n\\n\\n\\n\\nfutebol italiano\\n\\n\\n\\n\\ncopa da itália\\n\\n\\n\\n\\nbundesliga\\n\\n\\n\\n\\ncopa da alemanha\\n\\n\\n\\n\\nfutebol francês\\n\\n\\n\\n\\ncopa da frança\\n\\n\\n\\n\\nfutebol saudita\\n\\n\\n\\n\\nliga dos campeões da ásia\\n\\n\\n\\n\\nlibertadores\\n\\n\\n\\n\\ncopa sul-americana\\n\\n\\n\\n\\ncopa intercontinental\\n\\n\\n\\n\\neliminatórias - américa do sul\\n\\n\\n\\n\\nliga das nações\\n\\n\\n\\n\\neliminatórias - europa\\n\\n\\n\\n\\neliminatórias - ásia\\n\\n\\n\\n\\neliminatórias - concacaf\\n\\n\\n\\n\\neliminatórias - oceania\\n\\n\\n\\n\\neliminatórias - áfrica\\n\\n\\n\\n\\neliminatórias - repescagem mundial\\n\\n\\n\\n\\nmundial de clubes\\n\\n\\n\\n\\nlibertadores sub-20\\n\\n\\n\\n\\nmundial sub-20\\n\\n\\n\\n\\nmundial sub-17\\n\\n\\n\\n\\nsul-americano sub-17\\n\\n\\n\\n\\ncopa do mundo feminina\\n\\n\\n\\n\\ncopa do mundo fem sub-20\\n\\n\\n\\n\\ncopa do mundo fem sub-17\\n\\n\\n\\n\\nlibertadores feminina\\n\\n\\n\\n\\nbrasil ladies cup\\n\\n\\n\\n\\ncopa ouro feminina\\n\\n\\n\\n\\ncopa américa\\n\\n\\n\\n\\neurocopa\\n\\n\\n\\n\\neliminatórias euro\\n\\n\\n\\n\\ncopa africana de nações\\n\\n\\n\\n\\ncopa da ásia\\n\\n\\n \\n\\n\\nregionais e estaduais\\n\\n\\n\\n\\n\\ntabelas\\n\\n\\n\\nregionais e estaduais\\n\\n\\n\\npré-copa do nordeste\\n\\n\\n\\n\\ncopa do nordeste\\n\\n\\n\\n\\ncopa verde\\n\\n\\n\\n\\nacreano\\n\\n\\n\\n\\nalagoano\\n\\n\\n\\n\\ncopa alagoas\\n\\n\\n\\n\\namapaense\\n\\n\\n\\n\\namazonense\\n\\n\\n\\n\\nbaiano\\n\\n\\n\\n\\nbrasiliense\\n\\n\\n\\n\\ncapixaba\\n\\n\\n\\n\\ncarioca\\n\\n\\n\\n\\ncarioca a2\\n\\n\\n\\n\\ncatarinense\\n\\n\\n\\n\\ncatarinense 2ª divisão\\n\\n\\n\\n\\ncearense\\n\\n\\n\\n\\ngaúcho\\n\\n\\n\\n\\ngoiano\\n\\n\\n\\n\\nmaranhense\\n\\n\\n\\n\\nmato-grossense\\n\\n\\n\\n\\nmineiro\\n\\n\\n\\n\\nmineiro módulo 2\\n\\n\\n\\n\\nmineiro 2ª divisão\\n\\n\\n\\n\\nparaense\\n\\n\\n\\n\\nparaibano\\n\\n\\n\\n\\nparanaense\\n\\n\\n\\n\\nparanaense 2ª divisão\\n\\n\\n\\n\\npaulista\\n\\n\\n\\n\\npaulista a2\\n\\n\\n\\n\\npaulista a3\\n\\n\\n\\n\\npaulista a4\\n\\n\\n\\n\\npaulista feminino\\n\\n\\n\\n\\npaulista 2ª divisão\\n\\n\\n\\n\\ncopa paulista\\n\\n\\n\\n\\npernambucano\\n\\n\\n\\n\\npernambucano a2\\n\\n\\n\\n\\npernambucano a3\\n\\n\\n\\n\\npiauiense\\n\\n\\n\\n\\npotiguar\\n\\n\\n\\n\\nrondoniense\\n\\n\\n\\n\\nroraimense\\n\\n\\n\\n\\nsergipano\\n\\n\\n\\n\\nsul-mato-grossense\\n\\n\\n\\n\\ntocantinense\\n\\n\\n \\n\\n\\nrotatividade dos técnicos\\n\\n\\n\\n\\n--\\n\\n\\n\\n\\ntodas as tabelas\\n\\n\\n \\n\\n\\njogos de hoje \\n\\n\\n\\n\\nfutebol internacional\\n\\n\\n\\n\\n\\nmenu ge\\n\\n\\n\\nfutebol internacional\\n\\n\\n\\npágina principal\\n\\n\\n\\n\\nseleção brasileira\\n\\n\\n \\n\\n\\nvídeos\\n\\n\\n\\n\\nolimpiadas\\n\\n\\n\\n\\n\\nmenu ge\\n\\n\\n\\nolimpiadas\\n\\n\\n\\npágina principal\\n\\n\\n\\n\\nquadro de medalhas\\n\\n\\n\\n\\nagenda olímpica\\n\\n\\n\\n\\nfutebol feminino\\n\\n\\n\\n\\nfutebol masculino\\n\\n\\n\\n\\nvôlei feminino\\n\\n\\n\\n\\nvôlei masculino\\n\\n\\n\\n\\nbasquete masculino\\n\\n\\n\\n\\nbasquete feminino\\n\\n\\n\\n\\nhandebol feminino\\n\\n\\n\\n\\nhandebol masculino\\n\\n\\n\\n\\nclassificação Paris 2024\\n\\n\\n\\n\\nolympic channel\\n\\n\\n\\n\\nparalimpíadas\\n\\n\\n\\n\\njogos pan-americanos\\n\\n\\n\\n\\nparapan\\n\\n\\n\\n\\nolimpíadas de inverno\\n\\n\\n\\n\\nparalimpíadas de inverno\\n\\n\\n \\n\\n\\nparceiros\\n\\n\\n\\n\\nestatísticas\\n\\n\\n\\n\\n\\nmenu ge\\n\\n\\n\\nestatísticas\\n\\n\\n\\nespião estatístico\\n\\n\\n\\n\\ncentral de palpites\\n\\n\\n \\n\\n\\ncartola\\n\\n\\n\\n\\n\\nmenu ge\\n\\n\\n\\ncartola\\n\\n\\n\\npágina principal\\n\\n\\n\\n\\nescale seu time\\n\\n\\n\\n\\nseja PRO\\n\\n\\n\\n\\nbetano cartola\\n\\n\\n\\n\\ncraque betano\\n\\n\\n\\n\\ncomo jogar cartola\\n\\n\\n\\n\\ndicas da rodada\\n\\n\\n\\n\\ndicas do gato mestre\\n\\n\\n\\n\\nestatísticas do gato mestre\\n\\n\\n\\n\\nvídeos\\n\\n\\n \\n\\n\\ncartola express\\n\\n\\n\\n\\n\\nmenu ge\\n\\n\\n\\ncartola express\\n\\n\\n\\njogue agora\\n\\n\\n\\n\\ndicas e notícias\\n\\n\\n \\n\\n\\nbaixe o app ge\\n\\n\\n\\n\\nseleção brasileira\\n\\n\\n\\n\\nvôlei\\n\\n\\n\\n\\n\\nmenu ge\\n\\n\\n\\nvôlei\\n\\n\\n\\npágina principal\\n\\n\\n\\n\\njogos de hoje\\n\\n\\n\\n\\ntabela superliga masculina\\n\\n\\n\\n\\ntabela superliga feminina\\n\\n\\n \\n\\n\\nbasquete\\n\\n\\n\\n\\n\\nmenu ge\\n\\n\\n\\nbasquete\\n\\n\\n\\npágina principal\\n\\n\\n\\n\\nnba\\n\\n\\n\\n\\n\\nbasquete\\n\\n\\n\\nnba\\n\\n\\n\\npágina principal\\n\\n\\n\\n\\ntabela\\n\\n\\n\\n\\njogos de hoje\\n\\n\\n\\n\\npodcast ponte aérea\\n\\n\\n \\n\\n\\nnbb\\n\\n\\n\\n\\nlbf\\n\\n\\n\\n\\nchampions league das américas\\n\\n\\n\\n\\ncopa super 8\\n\\n\\n\\n\\ncopa do mundo masculina\\n\\n\\n\\n\\npré-olímpico masculino\\n\\n\\n\\n\\npré-olímpico feminino\\n\\n\\n \\n\\n\\nnba\\n\\n\\n\\n\\n\\nmenu ge\\n\\n\\n\\nnba\\n\\n\\n\\npágina principal\\n\\n\\n\\n\\ntabela\\n\\n\\n\\n\\njogos de hoje\\n\\n\\n\\n\\npodcast ponte aérea\\n\\n\\n \\n\\n\\nnfl\\n\\n\\n\\n\\n\\nmenu ge\\n\\n\\n\\nnfl\\n\\n\\n\\nprincipal\\n\\n\\n\\n\\njogos de hoje\\n\\n\\n \\n\\n\\nsurfe\\n\\n\\n\\n\\n\\nmenu ge\\n\\n\\n\\nsurfe\\n\\n\\n\\npágina principal\\n\\n\\n\\n\\nranking wsl\\n\\n\\n\\n\\nwsl\\n\\n\\n \\n\\n\\ntênis\\n\\n\\n\\n\\ncombate\\n\\n\\n\\n\\n\\nmenu ge\\n\\n\\n\\ncombate\\n\\n\\n\\nnotícias\\n\\n\\n\\n\\nassista agora\\n\\n\\n\\n\\nassine\\n\\n\\n\\n\\nvídeos\\n\\n\\n\\n\\nprogramação\\n\\n\\n\\n\\nativar dispositivo\\n\\n\\n\\n\\ngerenciar conta família\\n\\n\\n\\n\\najuda\\n\\n\\n \\n\\n\\npremiere\\n\\n\\n\\n\\n\\nmenu ge\\n\\n\\n\\npremiere\\n\\n\\n\\nassista agora\\n\\n\\n\\n\\najude seu time\\n\\n\\n\\n\\nprogramação\\n\\n\\n\\n\\ncentral de ajuda\\n\\n\\n\\n\\nativar dispositivo\\n\\n\\n\\n\\ngerenciar conta família\\n\\n\\n\\n\\ntermo de uso\\n\\n\\n \\n\\n\\nfórmula 1\\n\\n\\n\\n\\n\\nmenu ge\\n\\n\\n\\nfórmula 1\\n\\n\\n\\npágina principal\\n\\n\\n\\n\\ncalendário\\n\\n\\n\\n\\nclassificação\\n\\n\\n \\n\\n\\nesports\\n\\n\\n\\n\\n\\nmenu ge\\n\\n\\n\\nesports\\n\\n\\n\\npágina principal\\n\\n\\n\\n\\ntabela cblol\\n\\n\\n\\n\\nprêmio esports brasil\\n\\n\\n \\n\\n\\neu atleta\\n\\n\\n\\n\\n\\nmenu ge\\n\\n\\n\\neu atleta\\n\\n\\n\\npágina principal\\n\\n\\n\\n\\ncorridas e eventos\\n\\n\\n\\n\\nequipamentos e acessórios\\n\\n\\n\\n\\nnutrição\\n\\n\\n\\n\\nsaúde\\n\\n\\n\\n\\ntreinos\\n\\n\\n\\n\\nsaúde mental\\n\\n\\n \\n\\n\\noutros esportes\\n\\n\\n\\n\\n\\nmenu ge\\n\\n\\n\\noutros esportes\\n\\n\\n\\natletismo\\n\\n\\n\\n\\nbasquete\\n\\n\\n\\n\\n\\noutros esportes\\n\\n\\n\\nbasquete\\n\\n\\n\\npágina principal\\n\\n\\n\\n\\njogos de hoje\\n\\n\\n\\n\\nnba\\n\\n\\n\\n\\n\\nbasquete\\n\\n\\n\\nnba\\n\\n\\n\\npágina principal\\n\\n\\n\\n\\nagenda\\n\\n\\n\\n\\nclassificação\\n\\n\\n\\n\\nestatísticas\\n\\n\\n\\n\\n\\nnba\\n\\n\\n\\nestatísticas\\n\\n\\n\\nindividual\\n\\n\\n\\n\\ntimes\\n\\n\\n\\n\\nlíderes da temporada\\n\\n\\n \\n\\n\\njogadores\\n\\n\\n\\n\\nplacar\\n\\n\\n\\n\\nplayoffs\\n\\n\\n\\n\\ntimes\\n\\n\\n\\n\\npodcast ponte aérea\\n\\n\\n \\n\\n\\nnbb\\n\\n\\n\\n\\nlbf\\n\\n\\n\\n\\nchampions league américas\\n\\n\\n\\n\\npré-olímpico masculino\\n\\n\\n\\n\\npré-olímpico feminino\\n\\n\\n\\n\\ncopa do mundo masculina\\n\\n\\n\\n\\ncopa super 8\\n\\n\\n \\n\\n\\nfutebol americano\\n\\n\\n\\n\\n\\noutros esportes\\n\\n\\n\\nfutebol americano\\n\\n\\n\\npágina principal\\n\\n\\n\\n\\npodcast primeira descida\\n\\n\\n \\n\\n\\nfutsal\\n\\n\\n\\n\\n\\noutros esportes\\n\\n\\n\\nfutsal\\n\\n\\n\\npágina principal\\n\\n\\n\\n\\nlnf\\n\\n\\n \\n\\n\\nginástica artística\\n\\n\\n\\n\\n\\noutros esportes\\n\\n\\n\\nginástica artística\\n\\n\\n\\npágina principal\\n\\n\\n\\n\\ncopa do mundo de ginástica\\n\\n\\n \\n\\n\\njudô\\n\\n\\n\\n\\nmma\\n\\n\\n\\n\\n\\noutros esportes\\n\\n\\n\\nmma\\n\\n\\n\\npágina principal\\n\\n\\n\\n\\ncombate play\\n\\n\\n \\n\\n\\nmotor\\n\\n\\n\\n\\n\\noutros esportes\\n\\n\\n\\nmotor\\n\\n\\n\\npágina principal\\n\\n\\n\\n\\nfórmula 1\\n\\n\\n\\n\\n\\nmotor\\n\\n\\n\\nfórmula 1\\n\\n\\n\\npágina principal\\n\\n\\n\\n\\nclassificação e calendário\\n\\n\\n \\n\\n\\nfórmula 2\\n\\n\\n\\n\\nfórmula e\\n\\n\\n\\n\\nmotovelocidade\\n\\n\\n\\n\\nstock car\\n\\n\\n\\n\\nw series\\n\\n\\n \\n\\n\\nnatação\\n\\n\\n\\n\\nskate\\n\\n\\n\\n\\n\\noutros esportes\\n\\n\\n\\nskate\\n\\n\\n\\npágina principal\\n\\n\\n\\n\\nSTU\\n\\n\\n \\n\\n\\nsurfe\\n\\n\\n\\n\\ntênis\\n\\n\\n\\n\\n\\noutros esportes\\n\\n\\n\\ntênis\\n\\n\\n\\npágina principal\\n\\n\\n\\n\\nrio open\\n\\n\\n \\n\\n\\nvôlei\\n\\n\\n\\n\\n\\noutros esportes\\n\\n\\n\\nvôlei\\n\\n\\n\\npágina principal\\n\\n\\n\\n\\ntabela superliga masculina\\n\\n\\n\\n\\ntabela superliga feminina\\n\\n\\n \\n \\n\\n\\npodcasts\\n\\n\\n\\n\\npoker\\n\\n\\n\\n\\nna tv\\n\\n\\n\\n\\n\\nmenu ge\\n\\n\\n\\nna tv\\n\\n\\n\\ntv globo\\n\\n\\n\\n\\n\\nna tv\\n\\n\\n\\ntv globo\\n\\n\\n\\nglobo esporte\\n\\n\\n\\n\\nesporte espetacular\\n\\n\\n\\n\\nsegue o jogo\\n\\n\\n\\n\\nverão espetacular\\n\\n\\n \\n\\n\\nsportv\\n\\n\\n\\n\\n\\nna tv\\n\\n\\n\\nsportv\\n\\n\\n\\npágina principal\\n\\n\\n\\n\\nprogramas\\n\\n\\n\\n\\n\\nsportv\\n\\n\\n\\nprogramas\\n\\n\\n\\nbem, amigos!\\n\\n\\n\\n\\nboleiragem\\n\\n\\n\\n\\ngrande círculo\\n\\n\\n\\n\\nredação sportv\\n\\n\\n\\n\\nseleção sportv\\n\\n\\n\\n\\nsportv news\\n\\n\\n\\n\\ntá na área\\n\\n\\n\\n\\ntroca de passes\\n\\n\\n \\n\\n\\nprogramação\\n\\n\\n \\n\\n\\ncombate\\n\\n\\n\\n\\n\\nna tv\\n\\n\\n\\ncombate\\n\\n\\n\\nassista agora\\n\\n\\n\\n\\nprogramação\\n\\n\\n\\n\\nassine\\n\\n\\n \\n\\n\\npremiere\\n\\n\\n\\n\\nseu estado\\n\\n\\n\\n\\n\\nna tv\\n\\n\\n\\nseu estado\\n\\n\\n\\ncentro-oeste\\n\\n\\n\\n\\n\\nseu estado\\n\\n\\n\\ncentro-oeste\\n\\n\\n\\ndistrito federal\\n\\n\\n\\n\\ngoiás\\n\\n\\n\\n\\nmato grosso\\n\\n\\n\\n\\nmato grosso do sul\\n\\n\\n \\n\\n\\nnordeste\\n\\n\\n\\n\\n\\nseu estado\\n\\n\\n\\nnordeste\\n\\n\\n\\nalagoas\\n\\n\\n\\n\\nbahia\\n\\n\\n\\n\\nceará\\n\\n\\n\\n\\nmaranhão\\n\\n\\n\\n\\nparaíba\\n\\n\\n\\n\\npernambuco\\n\\n\\n\\n\\n\\nnordeste\\n\\n\\n\\npernambuco\\n\\n\\n\\npágina principal\\n\\n\\n\\n\\ncaruaru e região\\n\\n\\n\\n\\npetrolina e região\\n\\n\\n \\n\\n\\npiauí\\n\\n\\n\\n\\nrio grande do norte\\n\\n\\n\\n\\nsergipe\\n\\n\\n \\n\\n\\nnorte\\n\\n\\n\\n\\n\\nseu estado\\n\\n\\n\\nnorte\\n\\n\\n\\nacre\\n\\n\\n\\n\\namapá\\n\\n\\n\\n\\namazonas\\n\\n\\n\\n\\npará\\n\\n\\n\\n\\n\\nnorte\\n\\n\\n\\npará\\n\\n\\n\\npágina principal\\n\\n\\n\\n\\nsantarém e região\\n\\n\\n \\n\\n\\nrondônia\\n\\n\\n\\n\\nroraima\\n\\n\\n\\n\\ntocantins\\n\\n\\n \\n\\n\\nsudeste\\n\\n\\n\\n\\n\\nseu estado\\n\\n\\n\\nsudeste\\n\\n\\n\\nespírito santo\\n\\n\\n\\n\\nminas gerais\\n\\n\\n\\n\\n\\nsudeste\\n\\n\\n\\nminas gerais\\n\\n\\n\\npágina principal\\n\\n\\n\\n\\ngrande minas e vales\\n\\n\\n\\n\\nsul de minas\\n\\n\\n\\n\\ntriângulo e alto paranaíba\\n\\n\\n\\n\\nzona da mata e centro-oeste\\n\\n\\n \\n\\n\\nrio de janeiro\\n\\n\\n\\n\\n\\nsudeste\\n\\n\\n\\nrio de janeiro\\n\\n\\n\\npágina principal\\n\\n\\n\\n\\nserra, lagos e norte\\n\\n\\n\\n\\nsul e costa verde\\n\\n\\n \\n\\n\\nsão paulo\\n\\n\\n\\n\\n\\nsudeste\\n\\n\\n\\nsão paulo\\n\\n\\n\\npágina principal\\n\\n\\n\\n\\nbauru, itapetininga, rio preto e sorocaba\\n\\n\\n\\n\\ncampinas e região\\n\\n\\n\\n\\npresidente prudente  e região\\n\\n\\n\\n\\nmogi e suzano\\n\\n\\n\\n\\nribeirão preto e região\\n\\n\\n\\n\\nsantos e região\\n\\n\\n\\n\\nvale do paraíba e região\\n\\n\\n \\n \\n\\n\\nsul\\n\\n\\n\\n\\n\\nseu estado\\n\\n\\n\\nsul\\n\\n\\n\\nparaná\\n\\n\\n\\n\\nrio grande do sul\\n\\n\\n\\n\\nsanta catarina\\n\\n\\n \\n \\n\\n\\nprincípios editoriais\\n\\n\\n \\n\\n\\nprincípios editoriais\\n\\n\\n \\n\\n\\n\\n\\n\\n\\nAcesse sua conta ou cadastre-se grátis\\n\\n\\n\\n\\n\\n\\n\\n\\n\\n\\n\\n\\ngrupo globo\\n\\n\\n\\n\\n\\n\\n\\n\\n\\n\\n\\n\\nsair da conta\\n\\n\\n\\n\\n\\n\\n\\n\\n\\n           ', metadata={'source': 'https://ge.globo.com', 'title': 'ge.globo - É esporte sempre', 'description': 'No ge.globo você encontra a melhor cobertura sobre o Futebol e Outros Esportes, no Brasil e no Mundo: Notícias, Vídeos, Tabelas, Agenda e muito mais.', 'language': 'pt-br'})]"
      ]
     },
     "execution_count": 10,
     "metadata": {},
     "output_type": "execute_result"
    }
   ],
   "source": [
    "from langchain_community.document_loaders.web_base import WebBaseLoader\n",
    "\n",
    "loader = WebBaseLoader(\"https://ge.globo.com\")\n",
    "page = loader.load()\n",
    "page"
   ]
  },
  {
   "cell_type": "code",
   "execution_count": 11,
   "metadata": {},
   "outputs": [
    {
     "data": {
      "text/plain": [
       "{'name': 'BlogSite',\n",
       " 'description': 'Conjunto de postagens de blog de um site específico',\n",
       " 'parameters': {'type': 'object',\n",
       "  'properties': {'posts': {'description': 'Coleção de postagens de blog do site',\n",
       "    'type': 'array',\n",
       "    'items': {'description': 'Detalhes sobre uma postagem de blog',\n",
       "     'type': 'object',\n",
       "     'properties': {'title': {'description': 'Título da postagem no blog',\n",
       "       'type': 'string'},\n",
       "      'author': {'description': 'Nome do autor da postagem no blog',\n",
       "       'type': 'string'}},\n",
       "     'required': ['title', 'author']}}},\n",
       "  'required': ['posts']}}"
      ]
     },
     "execution_count": 11,
     "metadata": {},
     "output_type": "execute_result"
    }
   ],
   "source": [
    "class BlogPost(BaseModel):\n",
    "    \"\"\"Detalhes sobre uma postagem de blog\"\"\"\n",
    "    title: str = Field(description=\"Título da postagem no blog\")\n",
    "    author: str = Field(description=\"Nome do autor da postagem no blog\")\n",
    "    \n",
    "class BlogSite(BaseModel):\n",
    "    \"\"\"Conjunto de postagens de blog de um site específico\"\"\"\n",
    "    posts: List[BlogPost] = Field(description=\"Coleção de postagens de blog do site\")\n",
    "    \n",
    "tool_blog = convert_to_openai_function(BlogSite)\n",
    "tool_blog"
   ]
  },
  {
   "cell_type": "code",
   "execution_count": 12,
   "metadata": {},
   "outputs": [],
   "source": [
    "from langchain.output_parsers.openai_functions import JsonKeyOutputFunctionsParser\n",
    "from langchain.prompts import ChatPromptTemplate\n",
    "from langchain_openai import ChatOpenAI\n",
    "\n",
    "prompt = ChatPromptTemplate.from_messages([\n",
    "    ('system', 'Extraia da página os posts do blog com as informações especificadas'),\n",
    "    ('user', '{input}')\n",
    "])\n",
    "chat = ChatOpenAI()\n",
    "chain = (prompt \n",
    "         | chat.bind(functions=[tool_blog], function_call={'name': 'BlogSite'})\n",
    "         | JsonKeyOutputFunctionsParser(key_name='posts'))"
   ]
  },
  {
   "cell_type": "code",
   "execution_count": 13,
   "metadata": {},
   "outputs": [
    {
     "data": {
      "text/plain": [
       "[{'title': 'AO VIVO: assista à apresentação de Tiquinho Soares',\n",
       "  'author': 'santos'},\n",
       " {'title': 'Presidente diz que Zé Rafael vai passar por cirurgia na coluna',\n",
       "  'author': 'santos'},\n",
       " {'title': 'Fluminense acerta venda de Kauã Elias para o Shakhtar Donetsk',\n",
       "  'author': 'fluminense'},\n",
       " {'title': 'Vitória anuncia chegada do atacante Carlinhos',\n",
       "  'author': 'fluminense'},\n",
       " {'title': 'Grêmio fica perto de atacante belga',\n",
       "  'author': 'futebol internacional'},\n",
       " {'title': 'Cristiano Ronaldo defende Vini Jr. como melhor e critica Bola de Ouro: \"Não há credibilidade\"',\n",
       "  'author': 'futebol internacional'},\n",
       " {'title': 'Arrascaeta e Bruno Henrique recebem homenagem por recorde de títulos pelo Flamengo',\n",
       "  'author': 'flamengo'},\n",
       " {'title': 'Flamengo preserva titulares para jogo contra a Portuguesa',\n",
       "  'author': 'flamengo'},\n",
       " {'title': 'Flamengo libera Varela para ir ao velório da mãe no Uruguai',\n",
       "  'author': 'flamengo'},\n",
       " {'title': 'Após 1º título em 36 dias, José Boto tem desafio de quebrar \"sina\"',\n",
       "  'author': 'flamengo'},\n",
       " {'title': '\"Cristiano Ronaldo não é nem o mais completo da história\", diz André Rizek',\n",
       "  'author': 'análise'},\n",
       " {'title': 'Vaza imagem de suposta terceira camisa do São Paulo em homenagem a Rogério Ceni',\n",
       "  'author': 'são paulo'}]"
      ]
     },
     "execution_count": 13,
     "metadata": {},
     "output_type": "execute_result"
    }
   ],
   "source": [
    "chain.invoke({\"input\": page})"
   ]
  }
 ],
 "metadata": {
  "kernelspec": {
   "display_name": "base",
   "language": "python",
   "name": "python3"
  },
  "language_info": {
   "codemirror_mode": {
    "name": "ipython",
    "version": 3
   },
   "file_extension": ".py",
   "mimetype": "text/x-python",
   "name": "python",
   "nbconvert_exporter": "python",
   "pygments_lexer": "ipython3",
   "version": "3.12.2"
  }
 },
 "nbformat": 4,
 "nbformat_minor": 2
}
